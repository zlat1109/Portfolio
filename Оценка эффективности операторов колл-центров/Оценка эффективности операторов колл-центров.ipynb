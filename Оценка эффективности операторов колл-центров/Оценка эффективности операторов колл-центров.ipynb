{
 "cells": [
  {
   "cell_type": "markdown",
   "metadata": {},
   "source": [
    "# Оценка эффективности операторов колл-центров"
   ]
  },
  {
   "cell_type": "markdown",
   "metadata": {},
   "source": [
    "## Цель проекта"
   ]
  },
  {
   "cell_type": "markdown",
   "metadata": {},
   "source": [
    "`Чего мы хотим достичь` \n",
    "- определить можем ли мы разработать и предложить клиентам (колл-центрам) новый функционал сервиса по выявлению эффективности работы операторов.\n",
    "\n",
    "`Для чего нам нужно достичь этих целей` \n",
    "- новый функционал может повысить конкурнтоспособность сервиса.\n",
    "\n",
    "`Кто заинтересован в результате нашей работы` \n",
    "- Клиенты (колл-центры), которые получат инструмент регулирования мотивационной составляющей работы операторов. \n",
    "- Сервис получит лояльность действующих клиентов, перспективу увеличения клиентской базы, если этот функционал отсутствует у компаний-конкурентов, дополнительный доход.\n",
    "\n",
    "`Какие решения будут предприняты на основании нашего анализа` \n",
    "- если на основании имеющихся данных, будут убедительно сформированы метрики будущего функционала, то ее реализация будет передана в разработку."
   ]
  },
  {
   "cell_type": "markdown",
   "metadata": {},
   "source": [
    "## Задача проекта"
   ]
  },
  {
   "cell_type": "markdown",
   "metadata": {},
   "source": [
    "- На основании имеющихся данных определить рекомендуемые критерии оценки или систему оценки эффективности работы операторов\n",
    "- Провести оценку эффективности операторов колл-центров по имеющимся данным"
   ]
  },
  {
   "cell_type": "markdown",
   "metadata": {},
   "source": [
    "## Гипотезы по реализации проекта"
   ]
  },
  {
   "cell_type": "markdown",
   "metadata": {},
   "source": [
    "Возможные метрики для определения эффективности работы оператора:\n",
    "\n",
    "- По операторам колл-центров, специализирующимся на входящих звонках:\n",
    "       - у оператора много пропущенных входящих вызовов, относительно общего количества обработанных звонков;\n",
    "       - среднее время ожидания ответа оператора при входящих внешних вызовах значительно дольше среднего времени ожидания ответа всех операторов.\n",
    "\n",
    "- По операторам колл-центров, специализирующимся на исходящих звонках:\n",
    "       - мало исходящих вызовов относительно среднего количества исходящих вызовов всех операторов."
   ]
  },
  {
   "cell_type": "markdown",
   "metadata": {},
   "source": [
    "## Описание данных предоставленных заказчиком"
   ]
  },
  {
   "cell_type": "markdown",
   "metadata": {},
   "source": [
    "Датасеты описывают использование услуг «Нупозвони» — провайдера виртуальный телефонии. Его клиенты — колл-центры, которые: \n",
    "\n",
    "- распределяют входящие вызовы на операторов,\n",
    "- совершают исходящие вызовы силами операторов.\n",
    "\n",
    "Также операторы могут делать внутренние вызовы —  вызовы друг между другом внутри сети виртуальной телефонии.\n",
    "\n",
    "Колонки в `telecom_dataset.csv`:\n",
    "\n",
    "- `user_id` — Идентификатор клиентского аккаунта в сервисе\n",
    "- `date` — Дата статистики\n",
    "- `direction` — Направление вызовов (out - исходящий вызов, in — входящий вызов)\n",
    "- `internal` — Является ли звонок внутренним звонком между операторами клиента\n",
    "- `operator_id` — Идентификатор оператора\n",
    "- `is_missed_call` — Является ли звонок пропущенным\n",
    "- `calls_count` — Количество звонков\n",
    "- `call_duration` — Длительность звонка (без учета времени ожидания)\n",
    "- `total_call_duration` — Длительность звонка (с учетом времени ожидания)\n",
    "\n",
    "Колонки в `telecom_clients.csv`:\n",
    "\n",
    "- `user_id` — Идентификатор клиентского аккаунта в сервисе\n",
    "- `tariff_plan` — Текущий тарифный план клиента\n",
    "- `date_start` — Дата регистрации клиентв в сервисе"
   ]
  },
  {
   "cell_type": "markdown",
   "metadata": {},
   "source": [
    "## Предобработка данных"
   ]
  },
  {
   "cell_type": "markdown",
   "metadata": {},
   "source": [
    "### Библиотеки необходимые для работы с проектом"
   ]
  },
  {
   "cell_type": "code",
   "execution_count": 986,
   "metadata": {},
   "outputs": [],
   "source": [
    "import pandas as pd\n",
    "import seaborn as sns\n",
    "import matplotlib.pyplot as plt\n",
    "import datetime as dt\n",
    "from scipy import stats as st\n",
    "import numpy as np\n",
    "import warnings\n",
    "\n",
    "warnings.filterwarnings('ignore')\n",
    "pd.set_option('display.float_format', '{:,.2f}'.format)"
   ]
  },
  {
   "cell_type": "markdown",
   "metadata": {},
   "source": [
    "### Просмотр датасетов"
   ]
  },
  {
   "cell_type": "code",
   "execution_count": 987,
   "metadata": {},
   "outputs": [],
   "source": [
    "# Функция для просмотра датасетов\n",
    "def view(data):\n",
    "    return (\n",
    "           display(data.head(10)),\n",
    "           display(data.info()),\n",
    "           display(data.describe()),\n",
    "           data.isna().mean(),\n",
    "           print(f'В датасете {len(data) - len(data.drop_duplicates())} дубликатов')           \n",
    "    )"
   ]
  },
  {
   "cell_type": "code",
   "execution_count": 988,
   "metadata": {},
   "outputs": [],
   "source": [
    "telecom_clients = pd.read_csv('https://code.s3.yandex.net/datasets/telecom_clients.csv')"
   ]
  },
  {
   "cell_type": "code",
   "execution_count": 989,
   "metadata": {},
   "outputs": [],
   "source": [
    "telecom_dataset = pd.read_csv('https://code.s3.yandex.net/datasets/telecom_dataset.csv')"
   ]
  },
  {
   "cell_type": "markdown",
   "metadata": {},
   "source": [
    "#### Сведения о клиентах"
   ]
  },
  {
   "cell_type": "code",
   "execution_count": 990,
   "metadata": {},
   "outputs": [
    {
     "data": {
      "text/html": [
       "<div>\n",
       "<style scoped>\n",
       "    .dataframe tbody tr th:only-of-type {\n",
       "        vertical-align: middle;\n",
       "    }\n",
       "\n",
       "    .dataframe tbody tr th {\n",
       "        vertical-align: top;\n",
       "    }\n",
       "\n",
       "    .dataframe thead th {\n",
       "        text-align: right;\n",
       "    }\n",
       "</style>\n",
       "<table border=\"1\" class=\"dataframe\">\n",
       "  <thead>\n",
       "    <tr style=\"text-align: right;\">\n",
       "      <th></th>\n",
       "      <th>user_id</th>\n",
       "      <th>tariff_plan</th>\n",
       "      <th>date_start</th>\n",
       "    </tr>\n",
       "  </thead>\n",
       "  <tbody>\n",
       "    <tr>\n",
       "      <th>0</th>\n",
       "      <td>166713</td>\n",
       "      <td>A</td>\n",
       "      <td>2019-08-15</td>\n",
       "    </tr>\n",
       "    <tr>\n",
       "      <th>1</th>\n",
       "      <td>166901</td>\n",
       "      <td>A</td>\n",
       "      <td>2019-08-23</td>\n",
       "    </tr>\n",
       "    <tr>\n",
       "      <th>2</th>\n",
       "      <td>168527</td>\n",
       "      <td>A</td>\n",
       "      <td>2019-10-29</td>\n",
       "    </tr>\n",
       "    <tr>\n",
       "      <th>3</th>\n",
       "      <td>167097</td>\n",
       "      <td>A</td>\n",
       "      <td>2019-09-01</td>\n",
       "    </tr>\n",
       "    <tr>\n",
       "      <th>4</th>\n",
       "      <td>168193</td>\n",
       "      <td>A</td>\n",
       "      <td>2019-10-16</td>\n",
       "    </tr>\n",
       "    <tr>\n",
       "      <th>5</th>\n",
       "      <td>167764</td>\n",
       "      <td>A</td>\n",
       "      <td>2019-09-30</td>\n",
       "    </tr>\n",
       "    <tr>\n",
       "      <th>6</th>\n",
       "      <td>167050</td>\n",
       "      <td>A</td>\n",
       "      <td>2019-08-29</td>\n",
       "    </tr>\n",
       "    <tr>\n",
       "      <th>7</th>\n",
       "      <td>168252</td>\n",
       "      <td>A</td>\n",
       "      <td>2019-10-17</td>\n",
       "    </tr>\n",
       "    <tr>\n",
       "      <th>8</th>\n",
       "      <td>168495</td>\n",
       "      <td>A</td>\n",
       "      <td>2019-10-28</td>\n",
       "    </tr>\n",
       "    <tr>\n",
       "      <th>9</th>\n",
       "      <td>167879</td>\n",
       "      <td>A</td>\n",
       "      <td>2019-10-03</td>\n",
       "    </tr>\n",
       "  </tbody>\n",
       "</table>\n",
       "</div>"
      ],
      "text/plain": [
       "   user_id tariff_plan  date_start\n",
       "0   166713           A  2019-08-15\n",
       "1   166901           A  2019-08-23\n",
       "2   168527           A  2019-10-29\n",
       "3   167097           A  2019-09-01\n",
       "4   168193           A  2019-10-16\n",
       "5   167764           A  2019-09-30\n",
       "6   167050           A  2019-08-29\n",
       "7   168252           A  2019-10-17\n",
       "8   168495           A  2019-10-28\n",
       "9   167879           A  2019-10-03"
      ]
     },
     "metadata": {},
     "output_type": "display_data"
    },
    {
     "name": "stdout",
     "output_type": "stream",
     "text": [
      "<class 'pandas.core.frame.DataFrame'>\n",
      "RangeIndex: 732 entries, 0 to 731\n",
      "Data columns (total 3 columns):\n",
      " #   Column       Non-Null Count  Dtype \n",
      "---  ------       --------------  ----- \n",
      " 0   user_id      732 non-null    int64 \n",
      " 1   tariff_plan  732 non-null    object\n",
      " 2   date_start   732 non-null    object\n",
      "dtypes: int64(1), object(2)\n",
      "memory usage: 17.3+ KB\n"
     ]
    },
    {
     "data": {
      "text/plain": [
       "None"
      ]
     },
     "metadata": {},
     "output_type": "display_data"
    },
    {
     "data": {
      "text/html": [
       "<div>\n",
       "<style scoped>\n",
       "    .dataframe tbody tr th:only-of-type {\n",
       "        vertical-align: middle;\n",
       "    }\n",
       "\n",
       "    .dataframe tbody tr th {\n",
       "        vertical-align: top;\n",
       "    }\n",
       "\n",
       "    .dataframe thead th {\n",
       "        text-align: right;\n",
       "    }\n",
       "</style>\n",
       "<table border=\"1\" class=\"dataframe\">\n",
       "  <thead>\n",
       "    <tr style=\"text-align: right;\">\n",
       "      <th></th>\n",
       "      <th>user_id</th>\n",
       "    </tr>\n",
       "  </thead>\n",
       "  <tbody>\n",
       "    <tr>\n",
       "      <th>count</th>\n",
       "      <td>732.00</td>\n",
       "    </tr>\n",
       "    <tr>\n",
       "      <th>mean</th>\n",
       "      <td>167,431.93</td>\n",
       "    </tr>\n",
       "    <tr>\n",
       "      <th>std</th>\n",
       "      <td>633.81</td>\n",
       "    </tr>\n",
       "    <tr>\n",
       "      <th>min</th>\n",
       "      <td>166,373.00</td>\n",
       "    </tr>\n",
       "    <tr>\n",
       "      <th>25%</th>\n",
       "      <td>166,900.75</td>\n",
       "    </tr>\n",
       "    <tr>\n",
       "      <th>50%</th>\n",
       "      <td>167,432.00</td>\n",
       "    </tr>\n",
       "    <tr>\n",
       "      <th>75%</th>\n",
       "      <td>167,973.00</td>\n",
       "    </tr>\n",
       "    <tr>\n",
       "      <th>max</th>\n",
       "      <td>168,606.00</td>\n",
       "    </tr>\n",
       "  </tbody>\n",
       "</table>\n",
       "</div>"
      ],
      "text/plain": [
       "         user_id\n",
       "count     732.00\n",
       "mean  167,431.93\n",
       "std       633.81\n",
       "min   166,373.00\n",
       "25%   166,900.75\n",
       "50%   167,432.00\n",
       "75%   167,973.00\n",
       "max   168,606.00"
      ]
     },
     "metadata": {},
     "output_type": "display_data"
    },
    {
     "name": "stdout",
     "output_type": "stream",
     "text": [
      "В датасете 0 дубликатов\n"
     ]
    },
    {
     "data": {
      "text/plain": [
       "(None,\n",
       " None,\n",
       " None,\n",
       " user_id       0.00\n",
       " tariff_plan   0.00\n",
       " date_start    0.00\n",
       " dtype: float64,\n",
       " None)"
      ]
     },
     "execution_count": 990,
     "metadata": {},
     "output_type": "execute_result"
    }
   ],
   "source": [
    "view(telecom_clients)"
   ]
  },
  {
   "cell_type": "markdown",
   "metadata": {},
   "source": [
    "**Выводы** В датасете отсутствуют явные дубликаты и пропущенные значения"
   ]
  },
  {
   "cell_type": "markdown",
   "metadata": {},
   "source": [
    "#### Данные о работе колл-центров"
   ]
  },
  {
   "cell_type": "code",
   "execution_count": 991,
   "metadata": {},
   "outputs": [
    {
     "data": {
      "text/html": [
       "<div>\n",
       "<style scoped>\n",
       "    .dataframe tbody tr th:only-of-type {\n",
       "        vertical-align: middle;\n",
       "    }\n",
       "\n",
       "    .dataframe tbody tr th {\n",
       "        vertical-align: top;\n",
       "    }\n",
       "\n",
       "    .dataframe thead th {\n",
       "        text-align: right;\n",
       "    }\n",
       "</style>\n",
       "<table border=\"1\" class=\"dataframe\">\n",
       "  <thead>\n",
       "    <tr style=\"text-align: right;\">\n",
       "      <th></th>\n",
       "      <th>user_id</th>\n",
       "      <th>date</th>\n",
       "      <th>direction</th>\n",
       "      <th>internal</th>\n",
       "      <th>operator_id</th>\n",
       "      <th>is_missed_call</th>\n",
       "      <th>calls_count</th>\n",
       "      <th>call_duration</th>\n",
       "      <th>total_call_duration</th>\n",
       "    </tr>\n",
       "  </thead>\n",
       "  <tbody>\n",
       "    <tr>\n",
       "      <th>0</th>\n",
       "      <td>166377</td>\n",
       "      <td>2019-08-04 00:00:00+03:00</td>\n",
       "      <td>in</td>\n",
       "      <td>False</td>\n",
       "      <td>NaN</td>\n",
       "      <td>True</td>\n",
       "      <td>2</td>\n",
       "      <td>0</td>\n",
       "      <td>4</td>\n",
       "    </tr>\n",
       "    <tr>\n",
       "      <th>1</th>\n",
       "      <td>166377</td>\n",
       "      <td>2019-08-05 00:00:00+03:00</td>\n",
       "      <td>out</td>\n",
       "      <td>True</td>\n",
       "      <td>880,022.00</td>\n",
       "      <td>True</td>\n",
       "      <td>3</td>\n",
       "      <td>0</td>\n",
       "      <td>5</td>\n",
       "    </tr>\n",
       "    <tr>\n",
       "      <th>2</th>\n",
       "      <td>166377</td>\n",
       "      <td>2019-08-05 00:00:00+03:00</td>\n",
       "      <td>out</td>\n",
       "      <td>True</td>\n",
       "      <td>880,020.00</td>\n",
       "      <td>True</td>\n",
       "      <td>1</td>\n",
       "      <td>0</td>\n",
       "      <td>1</td>\n",
       "    </tr>\n",
       "    <tr>\n",
       "      <th>3</th>\n",
       "      <td>166377</td>\n",
       "      <td>2019-08-05 00:00:00+03:00</td>\n",
       "      <td>out</td>\n",
       "      <td>True</td>\n",
       "      <td>880,020.00</td>\n",
       "      <td>False</td>\n",
       "      <td>1</td>\n",
       "      <td>10</td>\n",
       "      <td>18</td>\n",
       "    </tr>\n",
       "    <tr>\n",
       "      <th>4</th>\n",
       "      <td>166377</td>\n",
       "      <td>2019-08-05 00:00:00+03:00</td>\n",
       "      <td>out</td>\n",
       "      <td>False</td>\n",
       "      <td>880,022.00</td>\n",
       "      <td>True</td>\n",
       "      <td>3</td>\n",
       "      <td>0</td>\n",
       "      <td>25</td>\n",
       "    </tr>\n",
       "    <tr>\n",
       "      <th>5</th>\n",
       "      <td>166377</td>\n",
       "      <td>2019-08-05 00:00:00+03:00</td>\n",
       "      <td>out</td>\n",
       "      <td>False</td>\n",
       "      <td>880,020.00</td>\n",
       "      <td>False</td>\n",
       "      <td>2</td>\n",
       "      <td>3</td>\n",
       "      <td>29</td>\n",
       "    </tr>\n",
       "    <tr>\n",
       "      <th>6</th>\n",
       "      <td>166377</td>\n",
       "      <td>2019-08-05 00:00:00+03:00</td>\n",
       "      <td>out</td>\n",
       "      <td>False</td>\n",
       "      <td>880,020.00</td>\n",
       "      <td>True</td>\n",
       "      <td>8</td>\n",
       "      <td>0</td>\n",
       "      <td>50</td>\n",
       "    </tr>\n",
       "    <tr>\n",
       "      <th>7</th>\n",
       "      <td>166377</td>\n",
       "      <td>2019-08-05 00:00:00+03:00</td>\n",
       "      <td>in</td>\n",
       "      <td>False</td>\n",
       "      <td>NaN</td>\n",
       "      <td>True</td>\n",
       "      <td>6</td>\n",
       "      <td>0</td>\n",
       "      <td>35</td>\n",
       "    </tr>\n",
       "    <tr>\n",
       "      <th>8</th>\n",
       "      <td>166377</td>\n",
       "      <td>2019-08-05 00:00:00+03:00</td>\n",
       "      <td>out</td>\n",
       "      <td>False</td>\n",
       "      <td>880,020.00</td>\n",
       "      <td>True</td>\n",
       "      <td>8</td>\n",
       "      <td>0</td>\n",
       "      <td>50</td>\n",
       "    </tr>\n",
       "    <tr>\n",
       "      <th>9</th>\n",
       "      <td>166377</td>\n",
       "      <td>2019-08-06 00:00:00+03:00</td>\n",
       "      <td>in</td>\n",
       "      <td>False</td>\n",
       "      <td>NaN</td>\n",
       "      <td>True</td>\n",
       "      <td>4</td>\n",
       "      <td>0</td>\n",
       "      <td>62</td>\n",
       "    </tr>\n",
       "  </tbody>\n",
       "</table>\n",
       "</div>"
      ],
      "text/plain": [
       "   user_id                       date direction internal  operator_id  \\\n",
       "0   166377  2019-08-04 00:00:00+03:00        in    False          NaN   \n",
       "1   166377  2019-08-05 00:00:00+03:00       out     True   880,022.00   \n",
       "2   166377  2019-08-05 00:00:00+03:00       out     True   880,020.00   \n",
       "3   166377  2019-08-05 00:00:00+03:00       out     True   880,020.00   \n",
       "4   166377  2019-08-05 00:00:00+03:00       out    False   880,022.00   \n",
       "5   166377  2019-08-05 00:00:00+03:00       out    False   880,020.00   \n",
       "6   166377  2019-08-05 00:00:00+03:00       out    False   880,020.00   \n",
       "7   166377  2019-08-05 00:00:00+03:00        in    False          NaN   \n",
       "8   166377  2019-08-05 00:00:00+03:00       out    False   880,020.00   \n",
       "9   166377  2019-08-06 00:00:00+03:00        in    False          NaN   \n",
       "\n",
       "   is_missed_call  calls_count  call_duration  total_call_duration  \n",
       "0            True            2              0                    4  \n",
       "1            True            3              0                    5  \n",
       "2            True            1              0                    1  \n",
       "3           False            1             10                   18  \n",
       "4            True            3              0                   25  \n",
       "5           False            2              3                   29  \n",
       "6            True            8              0                   50  \n",
       "7            True            6              0                   35  \n",
       "8            True            8              0                   50  \n",
       "9            True            4              0                   62  "
      ]
     },
     "metadata": {},
     "output_type": "display_data"
    },
    {
     "name": "stdout",
     "output_type": "stream",
     "text": [
      "<class 'pandas.core.frame.DataFrame'>\n",
      "RangeIndex: 53902 entries, 0 to 53901\n",
      "Data columns (total 9 columns):\n",
      " #   Column               Non-Null Count  Dtype  \n",
      "---  ------               --------------  -----  \n",
      " 0   user_id              53902 non-null  int64  \n",
      " 1   date                 53902 non-null  object \n",
      " 2   direction            53902 non-null  object \n",
      " 3   internal             53785 non-null  object \n",
      " 4   operator_id          45730 non-null  float64\n",
      " 5   is_missed_call       53902 non-null  bool   \n",
      " 6   calls_count          53902 non-null  int64  \n",
      " 7   call_duration        53902 non-null  int64  \n",
      " 8   total_call_duration  53902 non-null  int64  \n",
      "dtypes: bool(1), float64(1), int64(4), object(3)\n",
      "memory usage: 3.3+ MB\n"
     ]
    },
    {
     "data": {
      "text/plain": [
       "None"
      ]
     },
     "metadata": {},
     "output_type": "display_data"
    },
    {
     "data": {
      "text/html": [
       "<div>\n",
       "<style scoped>\n",
       "    .dataframe tbody tr th:only-of-type {\n",
       "        vertical-align: middle;\n",
       "    }\n",
       "\n",
       "    .dataframe tbody tr th {\n",
       "        vertical-align: top;\n",
       "    }\n",
       "\n",
       "    .dataframe thead th {\n",
       "        text-align: right;\n",
       "    }\n",
       "</style>\n",
       "<table border=\"1\" class=\"dataframe\">\n",
       "  <thead>\n",
       "    <tr style=\"text-align: right;\">\n",
       "      <th></th>\n",
       "      <th>user_id</th>\n",
       "      <th>operator_id</th>\n",
       "      <th>calls_count</th>\n",
       "      <th>call_duration</th>\n",
       "      <th>total_call_duration</th>\n",
       "    </tr>\n",
       "  </thead>\n",
       "  <tbody>\n",
       "    <tr>\n",
       "      <th>count</th>\n",
       "      <td>53,902.00</td>\n",
       "      <td>45,730.00</td>\n",
       "      <td>53,902.00</td>\n",
       "      <td>53,902.00</td>\n",
       "      <td>53,902.00</td>\n",
       "    </tr>\n",
       "    <tr>\n",
       "      <th>mean</th>\n",
       "      <td>167,295.34</td>\n",
       "      <td>916,535.99</td>\n",
       "      <td>16.45</td>\n",
       "      <td>866.68</td>\n",
       "      <td>1,157.13</td>\n",
       "    </tr>\n",
       "    <tr>\n",
       "      <th>std</th>\n",
       "      <td>598.88</td>\n",
       "      <td>21,254.12</td>\n",
       "      <td>62.92</td>\n",
       "      <td>3,731.79</td>\n",
       "      <td>4,403.47</td>\n",
       "    </tr>\n",
       "    <tr>\n",
       "      <th>min</th>\n",
       "      <td>166,377.00</td>\n",
       "      <td>879,896.00</td>\n",
       "      <td>1.00</td>\n",
       "      <td>0.00</td>\n",
       "      <td>0.00</td>\n",
       "    </tr>\n",
       "    <tr>\n",
       "      <th>25%</th>\n",
       "      <td>166,782.00</td>\n",
       "      <td>900,788.00</td>\n",
       "      <td>1.00</td>\n",
       "      <td>0.00</td>\n",
       "      <td>47.00</td>\n",
       "    </tr>\n",
       "    <tr>\n",
       "      <th>50%</th>\n",
       "      <td>167,162.00</td>\n",
       "      <td>913,938.00</td>\n",
       "      <td>4.00</td>\n",
       "      <td>38.00</td>\n",
       "      <td>210.00</td>\n",
       "    </tr>\n",
       "    <tr>\n",
       "      <th>75%</th>\n",
       "      <td>167,819.00</td>\n",
       "      <td>937,708.00</td>\n",
       "      <td>12.00</td>\n",
       "      <td>572.00</td>\n",
       "      <td>902.00</td>\n",
       "    </tr>\n",
       "    <tr>\n",
       "      <th>max</th>\n",
       "      <td>168,606.00</td>\n",
       "      <td>973,286.00</td>\n",
       "      <td>4,817.00</td>\n",
       "      <td>144,395.00</td>\n",
       "      <td>166,155.00</td>\n",
       "    </tr>\n",
       "  </tbody>\n",
       "</table>\n",
       "</div>"
      ],
      "text/plain": [
       "         user_id  operator_id  calls_count  call_duration  total_call_duration\n",
       "count  53,902.00    45,730.00    53,902.00      53,902.00            53,902.00\n",
       "mean  167,295.34   916,535.99        16.45         866.68             1,157.13\n",
       "std       598.88    21,254.12        62.92       3,731.79             4,403.47\n",
       "min   166,377.00   879,896.00         1.00           0.00                 0.00\n",
       "25%   166,782.00   900,788.00         1.00           0.00                47.00\n",
       "50%   167,162.00   913,938.00         4.00          38.00               210.00\n",
       "75%   167,819.00   937,708.00        12.00         572.00               902.00\n",
       "max   168,606.00   973,286.00     4,817.00     144,395.00           166,155.00"
      ]
     },
     "metadata": {},
     "output_type": "display_data"
    },
    {
     "name": "stdout",
     "output_type": "stream",
     "text": [
      "В датасете 4900 дубликатов\n"
     ]
    },
    {
     "data": {
      "text/plain": [
       "(None,\n",
       " None,\n",
       " None,\n",
       " user_id               0.00\n",
       " date                  0.00\n",
       " direction             0.00\n",
       " internal              0.00\n",
       " operator_id           0.15\n",
       " is_missed_call        0.00\n",
       " calls_count           0.00\n",
       " call_duration         0.00\n",
       " total_call_duration   0.00\n",
       " dtype: float64,\n",
       " None)"
      ]
     },
     "execution_count": 991,
     "metadata": {},
     "output_type": "execute_result"
    }
   ],
   "source": [
    "view(telecom_dataset)"
   ]
  },
  {
   "cell_type": "markdown",
   "metadata": {},
   "source": [
    "**Вывод**\n",
    "- Данные содержат 4900 явных дубликатов\n",
    "- В колонке `operator_id` содержится 15% пропусков, также небольшое количество пропусков (117, менее 1%) содержится в столбце `internal`\n",
    "- Данные в столбце `date` нужно привести к типу `datetime`\n",
    "- Данные в столбце `operator_id` нужно привести к типу `int`\n",
    "- изучение информации по столбцам `call_duration` и `total_call_duration`, а также столбца `calls_count` более вероятно предположить, что в датасете продолжительности звонков приведены в секундах."
   ]
  },
  {
   "cell_type": "markdown",
   "metadata": {},
   "source": [
    "### Работа с дубликатами в данных"
   ]
  },
  {
   "cell_type": "markdown",
   "metadata": {},
   "source": [
    "Дубликаты составляют 9% имеющихся данных. Для целей проекта, самым оптимальным будет их удалить, но предварительно можно провести дополнительный анализ, по каким колл-центрам распределены дубликаты, для дальнейшей работы по снижению количества дубликатов в данных. Также, можно предположить, что удаление дубликатов положительно скажется на снижение количества строк с пропусками в данных."
   ]
  },
  {
   "cell_type": "markdown",
   "metadata": {},
   "source": [
    "#### Данные по дубликатам строк в информации по колл-центрам"
   ]
  },
  {
   "cell_type": "code",
   "execution_count": 992,
   "metadata": {},
   "outputs": [],
   "source": [
    "# Получим сведения о доле дубликатов в выгрузке данных в разбивке по колл-центрам\n",
    "data_duplicate = (telecom_dataset[\n",
    "                 telecom_dataset[[\n",
    "                                  'user_id', \n",
    "                                  'date', \n",
    "                                  'direction', \n",
    "                                  'internal', \n",
    "                                  'operator_id', \n",
    "                                  'is_missed_call', \n",
    "                                  'calls_count', \n",
    "                                  'call_duration', \n",
    "                                  'total_call_duration'\n",
    "                                ]]\n",
    "                                  .duplicated() == True]\n",
    "                                  .groupby(by='user_id')\n",
    "                                  .count()\n",
    "                                  .reset_index()\n",
    "                                  .sort_values('date', ascending=False)\n",
    "                                  .reset_index(drop=True)\n",
    "                                  .drop(columns=[\n",
    "                                  'direction', \n",
    "                                  'internal', \n",
    "                                  'operator_id', \n",
    "                                  'is_missed_call', \n",
    "                                  'calls_count', \n",
    "                                  'call_duration', \n",
    "                                  'total_call_duration'   \n",
    "                                  ])\n",
    "                                  .rename(columns={'date': 'duplicate_count'})\n",
    ")"
   ]
  },
  {
   "cell_type": "code",
   "execution_count": 993,
   "metadata": {},
   "outputs": [],
   "source": [
    "# Получим сведения о количестве данных по каждому колл-центру\n",
    "row_count = (telecom_dataset.groupby(by='user_id')\n",
    "                .count()\n",
    "                .reset_index()\n",
    "                .sort_values('date', ascending=False)\n",
    "                .reset_index(drop=True)\n",
    "                .drop(columns=[\n",
    "                                  'direction', \n",
    "                                  'internal', \n",
    "                                  'operator_id', \n",
    "                                  'is_missed_call', \n",
    "                                  'calls_count', \n",
    "                                  'call_duration', \n",
    "                                  'total_call_duration'   \n",
    "                                  ])\n",
    "                .rename(columns={'date': 'row_count'})\n",
    ")"
   ]
  },
  {
   "cell_type": "code",
   "execution_count": 994,
   "metadata": {},
   "outputs": [
    {
     "data": {
      "text/html": [
       "<div>\n",
       "<style scoped>\n",
       "    .dataframe tbody tr th:only-of-type {\n",
       "        vertical-align: middle;\n",
       "    }\n",
       "\n",
       "    .dataframe tbody tr th {\n",
       "        vertical-align: top;\n",
       "    }\n",
       "\n",
       "    .dataframe thead th {\n",
       "        text-align: right;\n",
       "    }\n",
       "</style>\n",
       "<table border=\"1\" class=\"dataframe\">\n",
       "  <thead>\n",
       "    <tr style=\"text-align: right;\">\n",
       "      <th></th>\n",
       "      <th>index</th>\n",
       "      <th>user_id</th>\n",
       "      <th>row_count</th>\n",
       "      <th>duplicate_count</th>\n",
       "      <th>share</th>\n",
       "    </tr>\n",
       "  </thead>\n",
       "  <tbody>\n",
       "    <tr>\n",
       "      <th>0</th>\n",
       "      <td>0</td>\n",
       "      <td>168187</td>\n",
       "      <td>2580</td>\n",
       "      <td>238</td>\n",
       "      <td>0.09</td>\n",
       "    </tr>\n",
       "    <tr>\n",
       "      <th>1</th>\n",
       "      <td>1</td>\n",
       "      <td>166658</td>\n",
       "      <td>2107</td>\n",
       "      <td>223</td>\n",
       "      <td>0.11</td>\n",
       "    </tr>\n",
       "    <tr>\n",
       "      <th>2</th>\n",
       "      <td>2</td>\n",
       "      <td>167497</td>\n",
       "      <td>1405</td>\n",
       "      <td>124</td>\n",
       "      <td>0.09</td>\n",
       "    </tr>\n",
       "    <tr>\n",
       "      <th>3</th>\n",
       "      <td>3</td>\n",
       "      <td>167626</td>\n",
       "      <td>1311</td>\n",
       "      <td>131</td>\n",
       "      <td>0.10</td>\n",
       "    </tr>\n",
       "    <tr>\n",
       "      <th>4</th>\n",
       "      <td>4</td>\n",
       "      <td>166916</td>\n",
       "      <td>1308</td>\n",
       "      <td>104</td>\n",
       "      <td>0.08</td>\n",
       "    </tr>\n",
       "    <tr>\n",
       "      <th>5</th>\n",
       "      <td>5</td>\n",
       "      <td>168361</td>\n",
       "      <td>1262</td>\n",
       "      <td>113</td>\n",
       "      <td>0.09</td>\n",
       "    </tr>\n",
       "    <tr>\n",
       "      <th>6</th>\n",
       "      <td>6</td>\n",
       "      <td>168062</td>\n",
       "      <td>1182</td>\n",
       "      <td>101</td>\n",
       "      <td>0.09</td>\n",
       "    </tr>\n",
       "    <tr>\n",
       "      <th>7</th>\n",
       "      <td>7</td>\n",
       "      <td>167150</td>\n",
       "      <td>1156</td>\n",
       "      <td>93</td>\n",
       "      <td>0.08</td>\n",
       "    </tr>\n",
       "    <tr>\n",
       "      <th>8</th>\n",
       "      <td>8</td>\n",
       "      <td>166405</td>\n",
       "      <td>1042</td>\n",
       "      <td>80</td>\n",
       "      <td>0.08</td>\n",
       "    </tr>\n",
       "    <tr>\n",
       "      <th>9</th>\n",
       "      <td>9</td>\n",
       "      <td>166983</td>\n",
       "      <td>1038</td>\n",
       "      <td>89</td>\n",
       "      <td>0.09</td>\n",
       "    </tr>\n",
       "  </tbody>\n",
       "</table>\n",
       "</div>"
      ],
      "text/plain": [
       "   index  user_id  row_count  duplicate_count  share\n",
       "0      0   168187       2580              238   0.09\n",
       "1      1   166658       2107              223   0.11\n",
       "2      2   167497       1405              124   0.09\n",
       "3      3   167626       1311              131   0.10\n",
       "4      4   166916       1308              104   0.08\n",
       "5      5   168361       1262              113   0.09\n",
       "6      6   168062       1182              101   0.09\n",
       "7      7   167150       1156               93   0.08\n",
       "8      8   166405       1042               80   0.08\n",
       "9      9   166983       1038               89   0.09"
      ]
     },
     "execution_count": 994,
     "metadata": {},
     "output_type": "execute_result"
    }
   ],
   "source": [
    "share_duplicate = row_count.merge(data_duplicate, how = 'left', left_on='user_id', right_on='user_id').fillna(0).astype('int')\n",
    "share_duplicate['share'] = share_duplicate['duplicate_count']/share_duplicate['row_count']\n",
    "share_duplicate.sort_values(by='row_count', ascending=False).reset_index(drop=False).head(10)"
   ]
  },
  {
   "cell_type": "code",
   "execution_count": 995,
   "metadata": {},
   "outputs": [
    {
     "data": {
      "image/png": "[encoded data removed]",
      "text/plain": [
       "<Figure size 1080x504 with 1 Axes>"
      ]
     },
     "metadata": {
      "needs_background": "light"
     },
     "output_type": "display_data"
    }
   ],
   "source": [
    "fig, axes = plt.subplots()\n",
    "ax = sns.histplot(share_duplicate['share'], bins=50)\n",
    "ax.set_xlabel('Доля пропусков', fontsize = '15')\n",
    "ax.set_ylabel('Количество строк', fontsize = '15')\n",
    "ax.set_title('Распределение долей пропусков в данных', fontsize = '15')    \n",
    "fig.set_figwidth(15)    \n",
    "fig.set_figheight(7)  "
   ]
  },
  {
   "cell_type": "markdown",
   "metadata": {},
   "source": [
    "**Промежуточные выводы** В данном разделе подготовлена сводная таблица с распределением дубликатов в сведениях по колл-центрам, а также визуализировано распределение этиих значений. Практически по 60 колл-центрам число пропусков составляет около 10%"
   ]
  },
  {
   "cell_type": "markdown",
   "metadata": {},
   "source": [
    "#### Удаление дубликатов"
   ]
  },
  {
   "cell_type": "code",
   "execution_count": 996,
   "metadata": {},
   "outputs": [
    {
     "data": {
      "text/html": [
       "<div>\n",
       "<style scoped>\n",
       "    .dataframe tbody tr th:only-of-type {\n",
       "        vertical-align: middle;\n",
       "    }\n",
       "\n",
       "    .dataframe tbody tr th {\n",
       "        vertical-align: top;\n",
       "    }\n",
       "\n",
       "    .dataframe thead th {\n",
       "        text-align: right;\n",
       "    }\n",
       "</style>\n",
       "<table border=\"1\" class=\"dataframe\">\n",
       "  <thead>\n",
       "    <tr style=\"text-align: right;\">\n",
       "      <th></th>\n",
       "      <th>user_id</th>\n",
       "      <th>date</th>\n",
       "      <th>direction</th>\n",
       "      <th>internal</th>\n",
       "      <th>operator_id</th>\n",
       "      <th>is_missed_call</th>\n",
       "      <th>calls_count</th>\n",
       "      <th>call_duration</th>\n",
       "      <th>total_call_duration</th>\n",
       "    </tr>\n",
       "  </thead>\n",
       "  <tbody>\n",
       "    <tr>\n",
       "      <th>0</th>\n",
       "      <td>166377</td>\n",
       "      <td>2019-08-04 00:00:00+03:00</td>\n",
       "      <td>in</td>\n",
       "      <td>False</td>\n",
       "      <td>NaN</td>\n",
       "      <td>True</td>\n",
       "      <td>2</td>\n",
       "      <td>0</td>\n",
       "      <td>4</td>\n",
       "    </tr>\n",
       "    <tr>\n",
       "      <th>1</th>\n",
       "      <td>166377</td>\n",
       "      <td>2019-08-05 00:00:00+03:00</td>\n",
       "      <td>out</td>\n",
       "      <td>True</td>\n",
       "      <td>880,022.00</td>\n",
       "      <td>True</td>\n",
       "      <td>3</td>\n",
       "      <td>0</td>\n",
       "      <td>5</td>\n",
       "    </tr>\n",
       "    <tr>\n",
       "      <th>2</th>\n",
       "      <td>166377</td>\n",
       "      <td>2019-08-05 00:00:00+03:00</td>\n",
       "      <td>out</td>\n",
       "      <td>True</td>\n",
       "      <td>880,020.00</td>\n",
       "      <td>True</td>\n",
       "      <td>1</td>\n",
       "      <td>0</td>\n",
       "      <td>1</td>\n",
       "    </tr>\n",
       "    <tr>\n",
       "      <th>3</th>\n",
       "      <td>166377</td>\n",
       "      <td>2019-08-05 00:00:00+03:00</td>\n",
       "      <td>out</td>\n",
       "      <td>True</td>\n",
       "      <td>880,020.00</td>\n",
       "      <td>False</td>\n",
       "      <td>1</td>\n",
       "      <td>10</td>\n",
       "      <td>18</td>\n",
       "    </tr>\n",
       "    <tr>\n",
       "      <th>4</th>\n",
       "      <td>166377</td>\n",
       "      <td>2019-08-05 00:00:00+03:00</td>\n",
       "      <td>out</td>\n",
       "      <td>False</td>\n",
       "      <td>880,022.00</td>\n",
       "      <td>True</td>\n",
       "      <td>3</td>\n",
       "      <td>0</td>\n",
       "      <td>25</td>\n",
       "    </tr>\n",
       "    <tr>\n",
       "      <th>...</th>\n",
       "      <td>...</td>\n",
       "      <td>...</td>\n",
       "      <td>...</td>\n",
       "      <td>...</td>\n",
       "      <td>...</td>\n",
       "      <td>...</td>\n",
       "      <td>...</td>\n",
       "      <td>...</td>\n",
       "      <td>...</td>\n",
       "    </tr>\n",
       "    <tr>\n",
       "      <th>48997</th>\n",
       "      <td>168606</td>\n",
       "      <td>2019-11-10 00:00:00+03:00</td>\n",
       "      <td>out</td>\n",
       "      <td>True</td>\n",
       "      <td>957,922.00</td>\n",
       "      <td>False</td>\n",
       "      <td>1</td>\n",
       "      <td>0</td>\n",
       "      <td>25</td>\n",
       "    </tr>\n",
       "    <tr>\n",
       "      <th>48998</th>\n",
       "      <td>168606</td>\n",
       "      <td>2019-11-10 00:00:00+03:00</td>\n",
       "      <td>out</td>\n",
       "      <td>True</td>\n",
       "      <td>957,922.00</td>\n",
       "      <td>True</td>\n",
       "      <td>1</td>\n",
       "      <td>0</td>\n",
       "      <td>38</td>\n",
       "    </tr>\n",
       "    <tr>\n",
       "      <th>48999</th>\n",
       "      <td>168606</td>\n",
       "      <td>2019-11-11 00:00:00+03:00</td>\n",
       "      <td>out</td>\n",
       "      <td>True</td>\n",
       "      <td>957,922.00</td>\n",
       "      <td>False</td>\n",
       "      <td>2</td>\n",
       "      <td>479</td>\n",
       "      <td>501</td>\n",
       "    </tr>\n",
       "    <tr>\n",
       "      <th>49000</th>\n",
       "      <td>168606</td>\n",
       "      <td>2019-11-15 00:00:00+03:00</td>\n",
       "      <td>out</td>\n",
       "      <td>True</td>\n",
       "      <td>957,922.00</td>\n",
       "      <td>False</td>\n",
       "      <td>4</td>\n",
       "      <td>3130</td>\n",
       "      <td>3190</td>\n",
       "    </tr>\n",
       "    <tr>\n",
       "      <th>49001</th>\n",
       "      <td>168606</td>\n",
       "      <td>2019-11-19 00:00:00+03:00</td>\n",
       "      <td>in</td>\n",
       "      <td>False</td>\n",
       "      <td>NaN</td>\n",
       "      <td>True</td>\n",
       "      <td>2</td>\n",
       "      <td>0</td>\n",
       "      <td>64</td>\n",
       "    </tr>\n",
       "  </tbody>\n",
       "</table>\n",
       "<p>49002 rows × 9 columns</p>\n",
       "</div>"
      ],
      "text/plain": [
       "       user_id                       date direction internal  operator_id  \\\n",
       "0       166377  2019-08-04 00:00:00+03:00        in    False          NaN   \n",
       "1       166377  2019-08-05 00:00:00+03:00       out     True   880,022.00   \n",
       "2       166377  2019-08-05 00:00:00+03:00       out     True   880,020.00   \n",
       "3       166377  2019-08-05 00:00:00+03:00       out     True   880,020.00   \n",
       "4       166377  2019-08-05 00:00:00+03:00       out    False   880,022.00   \n",
       "...        ...                        ...       ...      ...          ...   \n",
       "48997   168606  2019-11-10 00:00:00+03:00       out     True   957,922.00   \n",
       "48998   168606  2019-11-10 00:00:00+03:00       out     True   957,922.00   \n",
       "48999   168606  2019-11-11 00:00:00+03:00       out     True   957,922.00   \n",
       "49000   168606  2019-11-15 00:00:00+03:00       out     True   957,922.00   \n",
       "49001   168606  2019-11-19 00:00:00+03:00        in    False          NaN   \n",
       "\n",
       "       is_missed_call  calls_count  call_duration  total_call_duration  \n",
       "0                True            2              0                    4  \n",
       "1                True            3              0                    5  \n",
       "2                True            1              0                    1  \n",
       "3               False            1             10                   18  \n",
       "4                True            3              0                   25  \n",
       "...               ...          ...            ...                  ...  \n",
       "48997           False            1              0                   25  \n",
       "48998            True            1              0                   38  \n",
       "48999           False            2            479                  501  \n",
       "49000           False            4           3130                 3190  \n",
       "49001            True            2              0                   64  \n",
       "\n",
       "[49002 rows x 9 columns]"
      ]
     },
     "execution_count": 996,
     "metadata": {},
     "output_type": "execute_result"
    }
   ],
   "source": [
    "telecom_dataset = telecom_dataset.drop_duplicates().reset_index(drop=True)\n",
    "telecom_dataset"
   ]
  },
  {
   "cell_type": "code",
   "execution_count": 997,
   "metadata": {},
   "outputs": [
    {
     "name": "stdout",
     "output_type": "stream",
     "text": [
      "<class 'pandas.core.frame.DataFrame'>\n",
      "RangeIndex: 49002 entries, 0 to 49001\n",
      "Data columns (total 9 columns):\n",
      " #   Column               Non-Null Count  Dtype  \n",
      "---  ------               --------------  -----  \n",
      " 0   user_id              49002 non-null  int64  \n",
      " 1   date                 49002 non-null  object \n",
      " 2   direction            49002 non-null  object \n",
      " 3   internal             48892 non-null  object \n",
      " 4   operator_id          41546 non-null  float64\n",
      " 5   is_missed_call       49002 non-null  bool   \n",
      " 6   calls_count          49002 non-null  int64  \n",
      " 7   call_duration        49002 non-null  int64  \n",
      " 8   total_call_duration  49002 non-null  int64  \n",
      "dtypes: bool(1), float64(1), int64(4), object(3)\n",
      "memory usage: 3.0+ MB\n"
     ]
    }
   ],
   "source": [
    "telecom_dataset.info()"
   ]
  },
  {
   "cell_type": "code",
   "execution_count": 998,
   "metadata": {},
   "outputs": [
    {
     "data": {
      "text/plain": [
       "user_id               0.00\n",
       "date                  0.00\n",
       "direction             0.00\n",
       "internal              0.00\n",
       "operator_id           0.15\n",
       "is_missed_call        0.00\n",
       "calls_count           0.00\n",
       "call_duration         0.00\n",
       "total_call_duration   0.00\n",
       "dtype: float64"
      ]
     },
     "execution_count": 998,
     "metadata": {},
     "output_type": "execute_result"
    }
   ],
   "source": [
    "telecom_dataset.isna().mean()"
   ]
  },
  {
   "cell_type": "markdown",
   "metadata": {},
   "source": [
    "**Выводы** После удаления дубликатов, число пропусков в столбцах `internal` и `operator_id`незначительно снизилось, но доли этих пропусков остались на прежнем уровне."
   ]
  },
  {
   "cell_type": "markdown",
   "metadata": {},
   "source": [
    "### Провести работу с пропусками в данных"
   ]
  },
  {
   "cell_type": "markdown",
   "metadata": {},
   "source": [
    "#### Пропуски в столбце `operator_id`"
   ]
  },
  {
   "cell_type": "markdown",
   "metadata": {},
   "source": [
    "Для того, чтобы предположить причины появления пропусков в столбце `operator_id`, посмотрим какие значения в других столбцах таких данных."
   ]
  },
  {
   "cell_type": "code",
   "execution_count": 999,
   "metadata": {},
   "outputs": [
    {
     "name": "stdout",
     "output_type": "stream",
     "text": [
      "168252    135\n",
      "166582    111\n",
      "166405    111\n",
      "166782    106\n",
      "166658    103\n",
      "Name: user_id, dtype: int64\n",
      "2019-10-28 00:00:00+03:00    128\n",
      "2019-11-28 00:00:00+03:00    127\n",
      "2019-11-12 00:00:00+03:00    125\n",
      "2019-11-07 00:00:00+03:00    123\n",
      "2019-11-26 00:00:00+03:00    123\n",
      "Name: date, dtype: int64\n",
      "in     7270\n",
      "out     186\n",
      "Name: direction, dtype: int64\n",
      "False    7078\n",
      "True      323\n",
      "Name: internal, dtype: int64\n",
      "Series([], Name: operator_id, dtype: int64)\n",
      "True     7343\n",
      "False     113\n",
      "Name: is_missed_call, dtype: int64\n",
      "1    2571\n",
      "2    1234\n",
      "3     736\n",
      "4     471\n",
      "5     297\n",
      "Name: calls_count, dtype: int64\n",
      "0      7343\n",
      "49        2\n",
      "53        2\n",
      "229       2\n",
      "145       2\n",
      "Name: call_duration, dtype: int64\n",
      "2    543\n",
      "0    332\n",
      "4    254\n",
      "1    239\n",
      "6    175\n",
      "Name: total_call_duration, dtype: int64\n"
     ]
    }
   ],
   "source": [
    "# Сделаем небольшой сэмпл данных, который покажет, какие аггрегированные значения имеют другие столбцы в строках с пропусками\n",
    "y=telecom_dataset[telecom_dataset['operator_id'].isna()]\n",
    "x=list(telecom_dataset.columns)\n",
    "for i in x:\n",
    "    print(y[i].value_counts().head())"
   ]
  },
  {
   "cell_type": "markdown",
   "metadata": {},
   "source": [
    "**Промежуточные выводы** Практически все пропуски в столбце `operator_id` можно объяснить тем, что данные звонки относятся к входящим внешним пропущенным звонкам, то есть это в основном те звонки, когда абонент не дождался ответа оператора. Наиболее оптимальным для дальнейшей реализации проекта будет заполнить пропуски значеним `0`, это позволит не потерять какие то важные для других разделов проекта данные и одновременно маркировать значение в столбце `operator_id`"
   ]
  },
  {
   "cell_type": "markdown",
   "metadata": {},
   "source": [
    "#### Пропуски в столбце `internal`"
   ]
  },
  {
   "cell_type": "code",
   "execution_count": 1000,
   "metadata": {},
   "outputs": [
    {
     "name": "stdout",
     "output_type": "stream",
     "text": [
      "167626    13\n",
      "167650    13\n",
      "167110     9\n",
      "168361     5\n",
      "167852     5\n",
      "Name: user_id, dtype: int64\n",
      "2019-10-23 00:00:00+03:00    6\n",
      "2019-10-01 00:00:00+03:00    5\n",
      "2019-11-14 00:00:00+03:00    4\n",
      "2019-10-09 00:00:00+03:00    4\n",
      "2019-10-31 00:00:00+03:00    3\n",
      "Name: date, dtype: int64\n",
      "in     108\n",
      "out      2\n",
      "Name: direction, dtype: int64\n",
      "Series([], Name: internal, dtype: int64)\n",
      "921,318.00    4\n",
      "932,798.00    3\n",
      "919,552.00    2\n",
      "901,880.00    2\n",
      "890,404.00    2\n",
      "Name: operator_id, dtype: int64\n",
      "True     56\n",
      "False    54\n",
      "Name: is_missed_call, dtype: int64\n",
      "1    83\n",
      "2    14\n",
      "3     6\n",
      "6     2\n",
      "5     1\n",
      "Name: calls_count, dtype: int64\n",
      "0     55\n",
      "5      2\n",
      "81     2\n",
      "11     2\n",
      "15     2\n",
      "Name: call_duration, dtype: int64\n",
      "4     8\n",
      "2     5\n",
      "0     4\n",
      "9     4\n",
      "15    4\n",
      "Name: total_call_duration, dtype: int64\n"
     ]
    }
   ],
   "source": [
    "y=telecom_dataset[telecom_dataset['internal'].isna()]\n",
    "x=list(telecom_dataset.columns)\n",
    "for i in x:\n",
    "    print(y[i].value_counts().head())"
   ]
  },
  {
   "cell_type": "markdown",
   "metadata": {},
   "source": [
    "**Промежуточные выводы** По полученному сэмплу сложно сказать о причинах появления данных пропусков в данных, но учитывая незначительное количество пропусков, думаю самым разумным будет заполнить пропуски значанием `False`, потому что обоснованно предположить по каким критериям можно отнести эти звонки в к внутренним или внешним не представляется возможным, но соотношение значений False и True говорит о том, что подавляющее число значений в этом сталбце являются `False`."
   ]
  },
  {
   "cell_type": "markdown",
   "metadata": {},
   "source": [
    "#### Заполнение пропусков и корректировка типов данных"
   ]
  },
  {
   "cell_type": "markdown",
   "metadata": {},
   "source": [
    "Самым оптимальным типом данных в столбце `operator_id` для дальнейшего проекта будет тип `int`"
   ]
  },
  {
   "cell_type": "code",
   "execution_count": 1001,
   "metadata": {},
   "outputs": [
    {
     "data": {
      "text/html": [
       "<div>\n",
       "<style scoped>\n",
       "    .dataframe tbody tr th:only-of-type {\n",
       "        vertical-align: middle;\n",
       "    }\n",
       "\n",
       "    .dataframe tbody tr th {\n",
       "        vertical-align: top;\n",
       "    }\n",
       "\n",
       "    .dataframe thead th {\n",
       "        text-align: right;\n",
       "    }\n",
       "</style>\n",
       "<table border=\"1\" class=\"dataframe\">\n",
       "  <thead>\n",
       "    <tr style=\"text-align: right;\">\n",
       "      <th></th>\n",
       "      <th>user_id</th>\n",
       "      <th>date</th>\n",
       "      <th>direction</th>\n",
       "      <th>internal</th>\n",
       "      <th>operator_id</th>\n",
       "      <th>is_missed_call</th>\n",
       "      <th>calls_count</th>\n",
       "      <th>call_duration</th>\n",
       "      <th>total_call_duration</th>\n",
       "    </tr>\n",
       "  </thead>\n",
       "  <tbody>\n",
       "    <tr>\n",
       "      <th>0</th>\n",
       "      <td>166377</td>\n",
       "      <td>2019-08-04 00:00:00+03:00</td>\n",
       "      <td>in</td>\n",
       "      <td>False</td>\n",
       "      <td>0</td>\n",
       "      <td>True</td>\n",
       "      <td>2</td>\n",
       "      <td>0</td>\n",
       "      <td>4</td>\n",
       "    </tr>\n",
       "    <tr>\n",
       "      <th>1</th>\n",
       "      <td>166377</td>\n",
       "      <td>2019-08-05 00:00:00+03:00</td>\n",
       "      <td>out</td>\n",
       "      <td>True</td>\n",
       "      <td>880022</td>\n",
       "      <td>True</td>\n",
       "      <td>3</td>\n",
       "      <td>0</td>\n",
       "      <td>5</td>\n",
       "    </tr>\n",
       "    <tr>\n",
       "      <th>2</th>\n",
       "      <td>166377</td>\n",
       "      <td>2019-08-05 00:00:00+03:00</td>\n",
       "      <td>out</td>\n",
       "      <td>True</td>\n",
       "      <td>880020</td>\n",
       "      <td>True</td>\n",
       "      <td>1</td>\n",
       "      <td>0</td>\n",
       "      <td>1</td>\n",
       "    </tr>\n",
       "    <tr>\n",
       "      <th>3</th>\n",
       "      <td>166377</td>\n",
       "      <td>2019-08-05 00:00:00+03:00</td>\n",
       "      <td>out</td>\n",
       "      <td>True</td>\n",
       "      <td>880020</td>\n",
       "      <td>False</td>\n",
       "      <td>1</td>\n",
       "      <td>10</td>\n",
       "      <td>18</td>\n",
       "    </tr>\n",
       "    <tr>\n",
       "      <th>4</th>\n",
       "      <td>166377</td>\n",
       "      <td>2019-08-05 00:00:00+03:00</td>\n",
       "      <td>out</td>\n",
       "      <td>False</td>\n",
       "      <td>880022</td>\n",
       "      <td>True</td>\n",
       "      <td>3</td>\n",
       "      <td>0</td>\n",
       "      <td>25</td>\n",
       "    </tr>\n",
       "  </tbody>\n",
       "</table>\n",
       "</div>"
      ],
      "text/plain": [
       "   user_id                       date direction internal  operator_id  \\\n",
       "0   166377  2019-08-04 00:00:00+03:00        in    False            0   \n",
       "1   166377  2019-08-05 00:00:00+03:00       out     True       880022   \n",
       "2   166377  2019-08-05 00:00:00+03:00       out     True       880020   \n",
       "3   166377  2019-08-05 00:00:00+03:00       out     True       880020   \n",
       "4   166377  2019-08-05 00:00:00+03:00       out    False       880022   \n",
       "\n",
       "   is_missed_call  calls_count  call_duration  total_call_duration  \n",
       "0            True            2              0                    4  \n",
       "1            True            3              0                    5  \n",
       "2            True            1              0                    1  \n",
       "3           False            1             10                   18  \n",
       "4            True            3              0                   25  "
      ]
     },
     "execution_count": 1001,
     "metadata": {},
     "output_type": "execute_result"
    }
   ],
   "source": [
    "telecom_dataset['operator_id'] = telecom_dataset['operator_id'].fillna(0).astype('int64')\n",
    "telecom_dataset.head()"
   ]
  },
  {
   "cell_type": "code",
   "execution_count": 1002,
   "metadata": {},
   "outputs": [],
   "source": [
    "telecom_dataset['internal'] = telecom_dataset['internal'].fillna(False)"
   ]
  },
  {
   "cell_type": "code",
   "execution_count": 1003,
   "metadata": {},
   "outputs": [
    {
     "name": "stdout",
     "output_type": "stream",
     "text": [
      "<class 'pandas.core.frame.DataFrame'>\n",
      "RangeIndex: 49002 entries, 0 to 49001\n",
      "Data columns (total 9 columns):\n",
      " #   Column               Non-Null Count  Dtype \n",
      "---  ------               --------------  ----- \n",
      " 0   user_id              49002 non-null  int64 \n",
      " 1   date                 49002 non-null  object\n",
      " 2   direction            49002 non-null  object\n",
      " 3   internal             49002 non-null  bool  \n",
      " 4   operator_id          49002 non-null  int64 \n",
      " 5   is_missed_call       49002 non-null  bool  \n",
      " 6   calls_count          49002 non-null  int64 \n",
      " 7   call_duration        49002 non-null  int64 \n",
      " 8   total_call_duration  49002 non-null  int64 \n",
      "dtypes: bool(2), int64(5), object(2)\n",
      "memory usage: 2.7+ MB\n"
     ]
    }
   ],
   "source": [
    "telecom_dataset.info()"
   ]
  },
  {
   "cell_type": "markdown",
   "metadata": {},
   "source": [
    "**Вывод** мы заполнили пропуски данных и можем переходить к исследовательскому анализу данных."
   ]
  },
  {
   "cell_type": "markdown",
   "metadata": {},
   "source": [
    "#### Дополнительный отчет о пропусках в разбивке по колл-центрам"
   ]
  },
  {
   "cell_type": "markdown",
   "metadata": {},
   "source": [
    "Наличие такого значительного количества пропусков дает повод подготовить информацию, в каких колл-центрах эта проблема является наиболее существенной. Для этого необходимо получить сведения о количестве звонков по всем коллцентрам, а также о количестве звонков, где оператор не был определен. "
   ]
  },
  {
   "cell_type": "code",
   "execution_count": 1004,
   "metadata": {},
   "outputs": [
    {
     "data": {
      "text/plain": [
       "7456"
      ]
     },
     "execution_count": 1004,
     "metadata": {},
     "output_type": "execute_result"
    }
   ],
   "source": [
    "# Получим общее количество строк, где оператор не был идентифицирован\n",
    "len(telecom_dataset.query(\"operator_id == 0\"))"
   ]
  },
  {
   "cell_type": "code",
   "execution_count": 1005,
   "metadata": {},
   "outputs": [],
   "source": [
    "# Сделаем сводную таблицу об общем количестве звонков в разбивке по колл-центрам\n",
    "operator_full = (telecom_dataset\n",
    "                                .pivot_table(index='user_id', values='calls_count', aggfunc='sum')\n",
    "                                .reset_index()\n",
    "                                .sort_values(by='calls_count', ascending=False)\n",
    "                                .reset_index(drop=True)\n",
    "                )"
   ]
  },
  {
   "cell_type": "code",
   "execution_count": 1006,
   "metadata": {},
   "outputs": [],
   "source": [
    "# Получим данные о количестве звонков, когда оператор не был идетифицирован в разбивке по колл-центрам\n",
    "operator_zero = (telecom_dataset.query(\"operator_id == 0\")\n",
    "                                .pivot_table(index='user_id', values='calls_count', aggfunc='sum')\n",
    "                                .reset_index()\n",
    "                                .sort_values(by='calls_count', ascending=False)\n",
    "                                .reset_index(drop=True)\n",
    "                )"
   ]
  },
  {
   "cell_type": "code",
   "execution_count": 1007,
   "metadata": {},
   "outputs": [
    {
     "data": {
      "text/html": [
       "<div>\n",
       "<style scoped>\n",
       "    .dataframe tbody tr th:only-of-type {\n",
       "        vertical-align: middle;\n",
       "    }\n",
       "\n",
       "    .dataframe tbody tr th {\n",
       "        vertical-align: top;\n",
       "    }\n",
       "\n",
       "    .dataframe thead th {\n",
       "        text-align: right;\n",
       "    }\n",
       "</style>\n",
       "<table border=\"1\" class=\"dataframe\">\n",
       "  <thead>\n",
       "    <tr style=\"text-align: right;\">\n",
       "      <th></th>\n",
       "      <th>user_id</th>\n",
       "      <th>calls_all</th>\n",
       "      <th>calls_operator_zero</th>\n",
       "      <th>share</th>\n",
       "    </tr>\n",
       "  </thead>\n",
       "  <tbody>\n",
       "    <tr>\n",
       "      <th>0</th>\n",
       "      <td>167981</td>\n",
       "      <td>1</td>\n",
       "      <td>1</td>\n",
       "      <td>1.00</td>\n",
       "    </tr>\n",
       "    <tr>\n",
       "      <th>1</th>\n",
       "      <td>166554</td>\n",
       "      <td>2</td>\n",
       "      <td>2</td>\n",
       "      <td>1.00</td>\n",
       "    </tr>\n",
       "    <tr>\n",
       "      <th>2</th>\n",
       "      <td>167114</td>\n",
       "      <td>5</td>\n",
       "      <td>5</td>\n",
       "      <td>1.00</td>\n",
       "    </tr>\n",
       "    <tr>\n",
       "      <th>3</th>\n",
       "      <td>168446</td>\n",
       "      <td>5</td>\n",
       "      <td>5</td>\n",
       "      <td>1.00</td>\n",
       "    </tr>\n",
       "    <tr>\n",
       "      <th>4</th>\n",
       "      <td>168329</td>\n",
       "      <td>9</td>\n",
       "      <td>9</td>\n",
       "      <td>1.00</td>\n",
       "    </tr>\n",
       "  </tbody>\n",
       "</table>\n",
       "</div>"
      ],
      "text/plain": [
       "   user_id  calls_all  calls_operator_zero  share\n",
       "0   167981          1                    1   1.00\n",
       "1   166554          2                    2   1.00\n",
       "2   167114          5                    5   1.00\n",
       "3   168446          5                    5   1.00\n",
       "4   168329          9                    9   1.00"
      ]
     },
     "execution_count": 1007,
     "metadata": {},
     "output_type": "execute_result"
    }
   ],
   "source": [
    "# Объединим две полученные таблицы и долю, которую составляют данные без сведений об операторах\n",
    "operator_brock = operator_full.merge(operator_zero, how = 'left', left_on='user_id', right_on='user_id').fillna(0).astype('int')\n",
    "operator_brock.columns = ['user_id', 'calls_all', 'calls_operator_zero']\n",
    "operator_brock['share'] = operator_brock['calls_operator_zero']/operator_brock['calls_all']\n",
    "operator_brock.sort_values(by='share', ascending=False).reset_index(drop=True).head()"
   ]
  },
  {
   "cell_type": "code",
   "execution_count": 1008,
   "metadata": {},
   "outputs": [
    {
     "data": {
      "image/png": "[encoded data removed]",
      "text/plain": [
       "<Figure size 1440x504 with 1 Axes>"
      ]
     },
     "metadata": {
      "needs_background": "light"
     },
     "output_type": "display_data"
    }
   ],
   "source": [
    "# Визуализация\n",
    "fig, ax = plt.subplots()\n",
    "ax.scatter(operator_brock['user_id'], operator_brock['calls_operator_zero'], label='calls_operator_zero', alpha=0.9)\n",
    "ax.scatter(operator_brock['user_id'], operator_brock['calls_all'], label='calls_all', alpha=0.3)\n",
    "\n",
    "ax.set_xlabel('Колл-центры')\n",
    "ax.set_ylabel('Количество звонков')\n",
    "ax.set_title('Общее количество звонков и количество звонков без идентификатора оператора')\n",
    "ax.legend()\n",
    "fig.set_figwidth(20)    \n",
    "fig.set_figheight(7)  \n",
    "\n",
    "plt.show()"
   ]
  },
  {
   "cell_type": "markdown",
   "metadata": {},
   "source": [
    "**Вывод** На данной визуализации видно, что некоторые колл-центры имеют большое количество пропущенных входящих звонков, что может говорить о том, что в данных колл-центрах недостаточно операторов, для обработки всех входящих звонков и абоненты просто не дожидаются ответа оператора."
   ]
  },
  {
   "cell_type": "markdown",
   "metadata": {},
   "source": [
    "### Оценить необходимость дополнения исходного датасета дополнительными параметрами"
   ]
  },
  {
   "cell_type": "markdown",
   "metadata": {},
   "source": [
    "Для дальнейшего проведения проекта, поскольку наши данные носят аггрегированных характер по дню сбора сведений, считаю необходимым добавить дополнительные столбцы в исходный датасет:\n",
    "- данные о среднем времени ожидания ответа оператора `avg_expectation`\n",
    "- данные о средней продолжительности одного звонка `avg_call_duration`"
   ]
  },
  {
   "cell_type": "code",
   "execution_count": 1009,
   "metadata": {},
   "outputs": [],
   "source": [
    "telecom_dataset['avg_expectation'] = ((telecom_dataset['total_call_duration'] - telecom_dataset['call_duration'])/telecom_dataset['calls_count']).astype('int64')\n",
    "telecom_dataset['avg_call_duration'] = (telecom_dataset['call_duration']/telecom_dataset['calls_count']).astype('int64') "
   ]
  },
  {
   "cell_type": "code",
   "execution_count": 1010,
   "metadata": {},
   "outputs": [
    {
     "data": {
      "text/html": [
       "<div>\n",
       "<style scoped>\n",
       "    .dataframe tbody tr th:only-of-type {\n",
       "        vertical-align: middle;\n",
       "    }\n",
       "\n",
       "    .dataframe tbody tr th {\n",
       "        vertical-align: top;\n",
       "    }\n",
       "\n",
       "    .dataframe thead th {\n",
       "        text-align: right;\n",
       "    }\n",
       "</style>\n",
       "<table border=\"1\" class=\"dataframe\">\n",
       "  <thead>\n",
       "    <tr style=\"text-align: right;\">\n",
       "      <th></th>\n",
       "      <th>user_id</th>\n",
       "      <th>operator_id</th>\n",
       "      <th>calls_count</th>\n",
       "      <th>call_duration</th>\n",
       "      <th>total_call_duration</th>\n",
       "      <th>avg_expectation</th>\n",
       "      <th>avg_call_duration</th>\n",
       "    </tr>\n",
       "  </thead>\n",
       "  <tbody>\n",
       "    <tr>\n",
       "      <th>count</th>\n",
       "      <td>49,002.00</td>\n",
       "      <td>49,002.00</td>\n",
       "      <td>49,002.00</td>\n",
       "      <td>49,002.00</td>\n",
       "      <td>49,002.00</td>\n",
       "      <td>49,002.00</td>\n",
       "      <td>49,002.00</td>\n",
       "    </tr>\n",
       "    <tr>\n",
       "      <th>mean</th>\n",
       "      <td>167,294.89</td>\n",
       "      <td>777,067.83</td>\n",
       "      <td>16.46</td>\n",
       "      <td>866.28</td>\n",
       "      <td>1,156.56</td>\n",
       "      <td>16.54</td>\n",
       "      <td>66.37</td>\n",
       "    </tr>\n",
       "    <tr>\n",
       "      <th>std</th>\n",
       "      <td>598.56</td>\n",
       "      <td>329,773.74</td>\n",
       "      <td>63.60</td>\n",
       "      <td>3,775.50</td>\n",
       "      <td>4,451.47</td>\n",
       "      <td>13.87</td>\n",
       "      <td>125.16</td>\n",
       "    </tr>\n",
       "    <tr>\n",
       "      <th>min</th>\n",
       "      <td>166,377.00</td>\n",
       "      <td>0.00</td>\n",
       "      <td>1.00</td>\n",
       "      <td>0.00</td>\n",
       "      <td>0.00</td>\n",
       "      <td>0.00</td>\n",
       "      <td>0.00</td>\n",
       "    </tr>\n",
       "    <tr>\n",
       "      <th>50%</th>\n",
       "      <td>167,158.00</td>\n",
       "      <td>906,406.00</td>\n",
       "      <td>4.00</td>\n",
       "      <td>37.00</td>\n",
       "      <td>208.00</td>\n",
       "      <td>14.00</td>\n",
       "      <td>23.00</td>\n",
       "    </tr>\n",
       "    <tr>\n",
       "      <th>90%</th>\n",
       "      <td>168,187.00</td>\n",
       "      <td>944,764.00</td>\n",
       "      <td>35.00</td>\n",
       "      <td>2,092.00</td>\n",
       "      <td>2,610.80</td>\n",
       "      <td>32.00</td>\n",
       "      <td>168.00</td>\n",
       "    </tr>\n",
       "    <tr>\n",
       "      <th>95%</th>\n",
       "      <td>168,271.00</td>\n",
       "      <td>948,758.00</td>\n",
       "      <td>62.00</td>\n",
       "      <td>3,725.95</td>\n",
       "      <td>4,531.00</td>\n",
       "      <td>40.00</td>\n",
       "      <td>253.95</td>\n",
       "    </tr>\n",
       "    <tr>\n",
       "      <th>99%</th>\n",
       "      <td>168,412.00</td>\n",
       "      <td>961,770.00</td>\n",
       "      <td>165.00</td>\n",
       "      <td>10,314.91</td>\n",
       "      <td>12,956.00</td>\n",
       "      <td>60.00</td>\n",
       "      <td>580.00</td>\n",
       "    </tr>\n",
       "    <tr>\n",
       "      <th>max</th>\n",
       "      <td>168,606.00</td>\n",
       "      <td>973,286.00</td>\n",
       "      <td>4,817.00</td>\n",
       "      <td>144,395.00</td>\n",
       "      <td>166,155.00</td>\n",
       "      <td>465.00</td>\n",
       "      <td>3,550.00</td>\n",
       "    </tr>\n",
       "  </tbody>\n",
       "</table>\n",
       "</div>"
      ],
      "text/plain": [
       "         user_id  operator_id  calls_count  call_duration  \\\n",
       "count  49,002.00    49,002.00    49,002.00      49,002.00   \n",
       "mean  167,294.89   777,067.83        16.46         866.28   \n",
       "std       598.56   329,773.74        63.60       3,775.50   \n",
       "min   166,377.00         0.00         1.00           0.00   \n",
       "50%   167,158.00   906,406.00         4.00          37.00   \n",
       "90%   168,187.00   944,764.00        35.00       2,092.00   \n",
       "95%   168,271.00   948,758.00        62.00       3,725.95   \n",
       "99%   168,412.00   961,770.00       165.00      10,314.91   \n",
       "max   168,606.00   973,286.00     4,817.00     144,395.00   \n",
       "\n",
       "       total_call_duration  avg_expectation  avg_call_duration  \n",
       "count            49,002.00        49,002.00          49,002.00  \n",
       "mean              1,156.56            16.54              66.37  \n",
       "std               4,451.47            13.87             125.16  \n",
       "min                   0.00             0.00               0.00  \n",
       "50%                 208.00            14.00              23.00  \n",
       "90%               2,610.80            32.00             168.00  \n",
       "95%               4,531.00            40.00             253.95  \n",
       "99%              12,956.00            60.00             580.00  \n",
       "max             166,155.00           465.00           3,550.00  "
      ]
     },
     "execution_count": 1010,
     "metadata": {},
     "output_type": "execute_result"
    }
   ],
   "source": [
    "telecom_dataset.describe(percentiles=[.9, .95, .99])"
   ]
  },
  {
   "cell_type": "markdown",
   "metadata": {},
   "source": [
    "**Выводы** Исходный датасет дополнен сведениями о среднем времени ожидания ответа оператора и средней продолжительности одного звонка, эти значения сразу приведены к типу `int`"
   ]
  },
  {
   "cell_type": "markdown",
   "metadata": {},
   "source": [
    "### Провести работу с типами данных"
   ]
  },
  {
   "cell_type": "markdown",
   "metadata": {},
   "source": [
    "В рамках предобработки данных ранее мной приведены практически все столбцы к нужным типам. Осталось привести столбец `user_id` к типу `category`, а также столбец `date` к типу `datetime`"
   ]
  },
  {
   "cell_type": "code",
   "execution_count": 1011,
   "metadata": {},
   "outputs": [],
   "source": [
    "telecom_dataset['user_id'] = telecom_dataset['user_id'].astype('category')"
   ]
  },
  {
   "cell_type": "code",
   "execution_count": 1012,
   "metadata": {},
   "outputs": [
    {
     "name": "stdout",
     "output_type": "stream",
     "text": [
      "Нам предоставлены данные за период с 2019-08-02 00:00:00 по 2019-11-28 00:00:00\n"
     ]
    }
   ],
   "source": [
    "telecom_dataset['date'] = pd.to_datetime(telecom_dataset['date'], format='%Y-%m-%d')\n",
    "telecom_dataset['date'] = telecom_dataset['date'].dt.date\n",
    "telecom_dataset['date'] = telecom_dataset['date'].astype('datetime64[ns]')\n",
    "print(f\"Нам предоставлены данные за период с {telecom_dataset['date'].min()} по {telecom_dataset['date'].max()}\")"
   ]
  },
  {
   "cell_type": "code",
   "execution_count": 1013,
   "metadata": {},
   "outputs": [
    {
     "data": {
      "text/html": [
       "<div>\n",
       "<style scoped>\n",
       "    .dataframe tbody tr th:only-of-type {\n",
       "        vertical-align: middle;\n",
       "    }\n",
       "\n",
       "    .dataframe tbody tr th {\n",
       "        vertical-align: top;\n",
       "    }\n",
       "\n",
       "    .dataframe thead th {\n",
       "        text-align: right;\n",
       "    }\n",
       "</style>\n",
       "<table border=\"1\" class=\"dataframe\">\n",
       "  <thead>\n",
       "    <tr style=\"text-align: right;\">\n",
       "      <th></th>\n",
       "      <th>user_id</th>\n",
       "      <th>date</th>\n",
       "      <th>direction</th>\n",
       "      <th>internal</th>\n",
       "      <th>operator_id</th>\n",
       "      <th>is_missed_call</th>\n",
       "      <th>calls_count</th>\n",
       "      <th>call_duration</th>\n",
       "      <th>total_call_duration</th>\n",
       "      <th>avg_expectation</th>\n",
       "      <th>avg_call_duration</th>\n",
       "    </tr>\n",
       "  </thead>\n",
       "  <tbody>\n",
       "    <tr>\n",
       "      <th>0</th>\n",
       "      <td>166377</td>\n",
       "      <td>2019-08-04</td>\n",
       "      <td>in</td>\n",
       "      <td>False</td>\n",
       "      <td>0</td>\n",
       "      <td>True</td>\n",
       "      <td>2</td>\n",
       "      <td>0</td>\n",
       "      <td>4</td>\n",
       "      <td>2</td>\n",
       "      <td>0</td>\n",
       "    </tr>\n",
       "    <tr>\n",
       "      <th>1</th>\n",
       "      <td>166377</td>\n",
       "      <td>2019-08-05</td>\n",
       "      <td>out</td>\n",
       "      <td>True</td>\n",
       "      <td>880022</td>\n",
       "      <td>True</td>\n",
       "      <td>3</td>\n",
       "      <td>0</td>\n",
       "      <td>5</td>\n",
       "      <td>1</td>\n",
       "      <td>0</td>\n",
       "    </tr>\n",
       "    <tr>\n",
       "      <th>2</th>\n",
       "      <td>166377</td>\n",
       "      <td>2019-08-05</td>\n",
       "      <td>out</td>\n",
       "      <td>True</td>\n",
       "      <td>880020</td>\n",
       "      <td>True</td>\n",
       "      <td>1</td>\n",
       "      <td>0</td>\n",
       "      <td>1</td>\n",
       "      <td>1</td>\n",
       "      <td>0</td>\n",
       "    </tr>\n",
       "    <tr>\n",
       "      <th>3</th>\n",
       "      <td>166377</td>\n",
       "      <td>2019-08-05</td>\n",
       "      <td>out</td>\n",
       "      <td>True</td>\n",
       "      <td>880020</td>\n",
       "      <td>False</td>\n",
       "      <td>1</td>\n",
       "      <td>10</td>\n",
       "      <td>18</td>\n",
       "      <td>8</td>\n",
       "      <td>10</td>\n",
       "    </tr>\n",
       "    <tr>\n",
       "      <th>4</th>\n",
       "      <td>166377</td>\n",
       "      <td>2019-08-05</td>\n",
       "      <td>out</td>\n",
       "      <td>False</td>\n",
       "      <td>880022</td>\n",
       "      <td>True</td>\n",
       "      <td>3</td>\n",
       "      <td>0</td>\n",
       "      <td>25</td>\n",
       "      <td>8</td>\n",
       "      <td>0</td>\n",
       "    </tr>\n",
       "  </tbody>\n",
       "</table>\n",
       "</div>"
      ],
      "text/plain": [
       "  user_id       date direction  internal  operator_id  is_missed_call  \\\n",
       "0  166377 2019-08-04        in     False            0            True   \n",
       "1  166377 2019-08-05       out      True       880022            True   \n",
       "2  166377 2019-08-05       out      True       880020            True   \n",
       "3  166377 2019-08-05       out      True       880020           False   \n",
       "4  166377 2019-08-05       out     False       880022            True   \n",
       "\n",
       "   calls_count  call_duration  total_call_duration  avg_expectation  \\\n",
       "0            2              0                    4                2   \n",
       "1            3              0                    5                1   \n",
       "2            1              0                    1                1   \n",
       "3            1             10                   18                8   \n",
       "4            3              0                   25                8   \n",
       "\n",
       "   avg_call_duration  \n",
       "0                  0  \n",
       "1                  0  \n",
       "2                  0  \n",
       "3                 10  \n",
       "4                  0  "
      ]
     },
     "execution_count": 1013,
     "metadata": {},
     "output_type": "execute_result"
    }
   ],
   "source": [
    "telecom_dataset.head()"
   ]
  },
  {
   "cell_type": "markdown",
   "metadata": {},
   "source": [
    "**Общие выводы по разделу** В рамках предобработки данных осуществлено:\n",
    "- Загружены и узучены данные\n",
    "- проведена работа с дубликатами, получены сведения в каких колл-центрах дубликаты составляют значительное количество, для дальнейшей реализации проекта дубликаты удалены\n",
    "- Проведена работа с пропусками данных, получены сведения, по каким колл-центрам распределены данные пропуски.\n",
    "- Исходный датасет дополнен сведения о среднем времени ожидания ответа оператора и средней продолжительности одного звонка\n",
    "- все значения приведены к нужным нам типам данным"
   ]
  },
  {
   "cell_type": "markdown",
   "metadata": {},
   "source": [
    "## Исследовательский анализ данных"
   ]
  },
  {
   "cell_type": "markdown",
   "metadata": {},
   "source": [
    "Рассмотрение системы определения эффективности операторов колл-центров предлагается по следующей логике.\n",
    "На первом этапе необходимо разобраться со специализацией колл-центров, какие колл-центры специализируются на входящих звонках, какие на исходящих, а какие колл-центры являются гибридными и оказывают как услуги по обработке входящих сообщений, так и услуги по обзвону. Аналогичную работу необходимо провести в отноешнии операторов."
   ]
  },
  {
   "cell_type": "markdown",
   "metadata": {},
   "source": [
    "### Категоризация колл-центров и операторов на предмет специализации по входящим или исходящим звонкам"
   ]
  },
  {
   "cell_type": "markdown",
   "metadata": {},
   "source": [
    "#### Категоризация колл-центров по исходящим/входящим вызовам"
   ]
  },
  {
   "cell_type": "markdown",
   "metadata": {},
   "source": [
    "##### Свод информации по колл-центрам"
   ]
  },
  {
   "cell_type": "code",
   "execution_count": 1014,
   "metadata": {},
   "outputs": [],
   "source": [
    "# Для получения сводных данных исключим возмем только те данные, где звонки отмечены, как внешние\n",
    "user_in_out = (telecom_dataset.query('internal != True & internal != \"unknown\"')\n",
    "                             .pivot_table(index=['user_id', 'direction'], values='calls_count', aggfunc='sum')\n",
    "                             .unstack()\n",
    "                             .reset_index())"
   ]
  },
  {
   "cell_type": "code",
   "execution_count": 1015,
   "metadata": {},
   "outputs": [],
   "source": [
    "# скорректируем названия столбцов\n",
    "user_in_out.columns = ['user_id', 'in', 'out']"
   ]
  },
  {
   "cell_type": "code",
   "execution_count": 1016,
   "metadata": {},
   "outputs": [],
   "source": [
    "# добавим столбец с общим количеством звонков\n",
    "user_in_out['calls_sum'] = user_in_out['in']+user_in_out['out']"
   ]
  },
  {
   "cell_type": "code",
   "execution_count": 1017,
   "metadata": {},
   "outputs": [],
   "source": [
    "# получим сведения о том какую долю составляют входящие звонки\n",
    "user_in_out['in_share'] = user_in_out['in']/user_in_out['calls_sum']"
   ]
  },
  {
   "cell_type": "code",
   "execution_count": 1018,
   "metadata": {},
   "outputs": [],
   "source": [
    "# получим сведения о том какую долю составляют исходящие звонки\n",
    "user_in_out['out_share'] = user_in_out['out']/user_in_out['calls_sum']"
   ]
  },
  {
   "cell_type": "code",
   "execution_count": 1019,
   "metadata": {
    "scrolled": false
   },
   "outputs": [
    {
     "data": {
      "text/html": [
       "<div>\n",
       "<style scoped>\n",
       "    .dataframe tbody tr th:only-of-type {\n",
       "        vertical-align: middle;\n",
       "    }\n",
       "\n",
       "    .dataframe tbody tr th {\n",
       "        vertical-align: top;\n",
       "    }\n",
       "\n",
       "    .dataframe thead th {\n",
       "        text-align: right;\n",
       "    }\n",
       "</style>\n",
       "<table border=\"1\" class=\"dataframe\">\n",
       "  <thead>\n",
       "    <tr style=\"text-align: right;\">\n",
       "      <th></th>\n",
       "      <th>user_id</th>\n",
       "      <th>in</th>\n",
       "      <th>out</th>\n",
       "      <th>calls_sum</th>\n",
       "      <th>in_share</th>\n",
       "      <th>out_share</th>\n",
       "    </tr>\n",
       "  </thead>\n",
       "  <tbody>\n",
       "    <tr>\n",
       "      <th>0</th>\n",
       "      <td>166582</td>\n",
       "      <td>7471</td>\n",
       "      <td>137026</td>\n",
       "      <td>144497</td>\n",
       "      <td>0.05</td>\n",
       "      <td>0.95</td>\n",
       "    </tr>\n",
       "    <tr>\n",
       "      <th>1</th>\n",
       "      <td>167626</td>\n",
       "      <td>27115</td>\n",
       "      <td>66278</td>\n",
       "      <td>93393</td>\n",
       "      <td>0.29</td>\n",
       "      <td>0.71</td>\n",
       "    </tr>\n",
       "    <tr>\n",
       "      <th>2</th>\n",
       "      <td>168361</td>\n",
       "      <td>17981</td>\n",
       "      <td>64669</td>\n",
       "      <td>82650</td>\n",
       "      <td>0.22</td>\n",
       "      <td>0.78</td>\n",
       "    </tr>\n",
       "    <tr>\n",
       "      <th>3</th>\n",
       "      <td>167827</td>\n",
       "      <td>1766</td>\n",
       "      <td>38906</td>\n",
       "      <td>40672</td>\n",
       "      <td>0.04</td>\n",
       "      <td>0.96</td>\n",
       "    </tr>\n",
       "    <tr>\n",
       "      <th>4</th>\n",
       "      <td>168252</td>\n",
       "      <td>13901</td>\n",
       "      <td>12301</td>\n",
       "      <td>26202</td>\n",
       "      <td>0.53</td>\n",
       "      <td>0.47</td>\n",
       "    </tr>\n",
       "    <tr>\n",
       "      <th>5</th>\n",
       "      <td>168062</td>\n",
       "      <td>637</td>\n",
       "      <td>24072</td>\n",
       "      <td>24709</td>\n",
       "      <td>0.03</td>\n",
       "      <td>0.97</td>\n",
       "    </tr>\n",
       "    <tr>\n",
       "      <th>6</th>\n",
       "      <td>168187</td>\n",
       "      <td>7496</td>\n",
       "      <td>13333</td>\n",
       "      <td>20829</td>\n",
       "      <td>0.36</td>\n",
       "      <td>0.64</td>\n",
       "    </tr>\n",
       "    <tr>\n",
       "      <th>7</th>\n",
       "      <td>166405</td>\n",
       "      <td>7711</td>\n",
       "      <td>9789</td>\n",
       "      <td>17500</td>\n",
       "      <td>0.44</td>\n",
       "      <td>0.56</td>\n",
       "    </tr>\n",
       "    <tr>\n",
       "      <th>8</th>\n",
       "      <td>167125</td>\n",
       "      <td>672</td>\n",
       "      <td>14489</td>\n",
       "      <td>15161</td>\n",
       "      <td>0.04</td>\n",
       "      <td>0.96</td>\n",
       "    </tr>\n",
       "    <tr>\n",
       "      <th>9</th>\n",
       "      <td>167285</td>\n",
       "      <td>92</td>\n",
       "      <td>14252</td>\n",
       "      <td>14344</td>\n",
       "      <td>0.01</td>\n",
       "      <td>0.99</td>\n",
       "    </tr>\n",
       "  </tbody>\n",
       "</table>\n",
       "</div>"
      ],
      "text/plain": [
       "  user_id     in     out  calls_sum  in_share  out_share\n",
       "0  166582   7471  137026     144497      0.05       0.95\n",
       "1  167626  27115   66278      93393      0.29       0.71\n",
       "2  168361  17981   64669      82650      0.22       0.78\n",
       "3  167827   1766   38906      40672      0.04       0.96\n",
       "4  168252  13901   12301      26202      0.53       0.47\n",
       "5  168062    637   24072      24709      0.03       0.97\n",
       "6  168187   7496   13333      20829      0.36       0.64\n",
       "7  166405   7711    9789      17500      0.44       0.56\n",
       "8  167125    672   14489      15161      0.04       0.96\n",
       "9  167285     92   14252      14344      0.01       0.99"
      ]
     },
     "execution_count": 1019,
     "metadata": {},
     "output_type": "execute_result"
    }
   ],
   "source": [
    "# посмотрим, что у нас получилось\n",
    "user_in_out.sort_values(['calls_sum'], ascending=False).reset_index(drop=True).head(10)"
   ]
  },
  {
   "cell_type": "markdown",
   "metadata": {},
   "source": [
    "**Выводы** Мы получили сводную таблицу по колл-центрам со сведениями о количествах и долях входящих и исходящих звонков"
   ]
  },
  {
   "cell_type": "markdown",
   "metadata": {},
   "source": [
    "##### Категоризация колл-центров"
   ]
  },
  {
   "cell_type": "markdown",
   "metadata": {},
   "source": [
    "Категоризация будет проводиться по следующим принципам и исходя из определенных предпосылок:\n",
    "- нам предоставлены данные за несколько месяцев, поэтому однозначно утверждать, что количество звонков в данном периоде показательно для конкретного колл-центра мы не можем в связи с возможным фактором сезонности.\n",
    "- учитывая вышесказанное предлагается исходить из того, что если доля каких то звонков равняется или превышает 75% от общего числа звонков, то это может говорит о том, что данный колл-центр специализируется на таких звонках.\n",
    "- Если этот показатель ниже 75% то, такие колл-центры предлагается в рамках данного проекта считать гибридными."
   ]
  },
  {
   "cell_type": "code",
   "execution_count": 1020,
   "metadata": {},
   "outputs": [],
   "source": [
    "# напишем функцию категоризации, которая пригодится нам и для категоризации колл-центров и для категоризации операторов\n",
    "def categorize(in_share):\n",
    "    if in_share >= 0.75:\n",
    "        return 'in'\n",
    "    if in_share < 0.25:\n",
    "        return 'out'\n",
    "    return 'hybrid'"
   ]
  },
  {
   "cell_type": "code",
   "execution_count": 1021,
   "metadata": {},
   "outputs": [
    {
     "data": {
      "text/html": [
       "<div>\n",
       "<style scoped>\n",
       "    .dataframe tbody tr th:only-of-type {\n",
       "        vertical-align: middle;\n",
       "    }\n",
       "\n",
       "    .dataframe tbody tr th {\n",
       "        vertical-align: top;\n",
       "    }\n",
       "\n",
       "    .dataframe thead th {\n",
       "        text-align: right;\n",
       "    }\n",
       "</style>\n",
       "<table border=\"1\" class=\"dataframe\">\n",
       "  <thead>\n",
       "    <tr style=\"text-align: right;\">\n",
       "      <th></th>\n",
       "      <th>user_id</th>\n",
       "      <th>in</th>\n",
       "      <th>out</th>\n",
       "      <th>calls_sum</th>\n",
       "      <th>in_share</th>\n",
       "      <th>out_share</th>\n",
       "      <th>user_category</th>\n",
       "    </tr>\n",
       "  </thead>\n",
       "  <tbody>\n",
       "    <tr>\n",
       "      <th>0</th>\n",
       "      <td>166377</td>\n",
       "      <td>196</td>\n",
       "      <td>4898</td>\n",
       "      <td>5094</td>\n",
       "      <td>0.04</td>\n",
       "      <td>0.96</td>\n",
       "      <td>out</td>\n",
       "    </tr>\n",
       "    <tr>\n",
       "      <th>1</th>\n",
       "      <td>166391</td>\n",
       "      <td>15</td>\n",
       "      <td>0</td>\n",
       "      <td>15</td>\n",
       "      <td>1.00</td>\n",
       "      <td>0.00</td>\n",
       "      <td>in</td>\n",
       "    </tr>\n",
       "    <tr>\n",
       "      <th>2</th>\n",
       "      <td>166392</td>\n",
       "      <td>208</td>\n",
       "      <td>0</td>\n",
       "      <td>208</td>\n",
       "      <td>1.00</td>\n",
       "      <td>0.00</td>\n",
       "      <td>in</td>\n",
       "    </tr>\n",
       "    <tr>\n",
       "      <th>3</th>\n",
       "      <td>166399</td>\n",
       "      <td>24</td>\n",
       "      <td>0</td>\n",
       "      <td>24</td>\n",
       "      <td>1.00</td>\n",
       "      <td>0.00</td>\n",
       "      <td>in</td>\n",
       "    </tr>\n",
       "    <tr>\n",
       "      <th>4</th>\n",
       "      <td>166405</td>\n",
       "      <td>7711</td>\n",
       "      <td>9789</td>\n",
       "      <td>17500</td>\n",
       "      <td>0.44</td>\n",
       "      <td>0.56</td>\n",
       "      <td>hybrid</td>\n",
       "    </tr>\n",
       "  </tbody>\n",
       "</table>\n",
       "</div>"
      ],
      "text/plain": [
       "  user_id    in   out  calls_sum  in_share  out_share user_category\n",
       "0  166377   196  4898       5094      0.04       0.96           out\n",
       "1  166391    15     0         15      1.00       0.00            in\n",
       "2  166392   208     0        208      1.00       0.00            in\n",
       "3  166399    24     0         24      1.00       0.00            in\n",
       "4  166405  7711  9789      17500      0.44       0.56        hybrid"
      ]
     },
     "execution_count": 1021,
     "metadata": {},
     "output_type": "execute_result"
    }
   ],
   "source": [
    "# добавим сведения о категории колл-центра\n",
    "user_in_out['user_category'] = user_in_out.in_share.map(categorize)\n",
    "user_in_out.head()"
   ]
  },
  {
   "cell_type": "markdown",
   "metadata": {},
   "source": [
    "##### Визуализация полученных данных"
   ]
  },
  {
   "cell_type": "code",
   "execution_count": 1022,
   "metadata": {},
   "outputs": [
    {
     "data": {
      "text/html": [
       "<div>\n",
       "<style scoped>\n",
       "    .dataframe tbody tr th:only-of-type {\n",
       "        vertical-align: middle;\n",
       "    }\n",
       "\n",
       "    .dataframe tbody tr th {\n",
       "        vertical-align: top;\n",
       "    }\n",
       "\n",
       "    .dataframe thead th {\n",
       "        text-align: right;\n",
       "    }\n",
       "</style>\n",
       "<table border=\"1\" class=\"dataframe\">\n",
       "  <thead>\n",
       "    <tr style=\"text-align: right;\">\n",
       "      <th></th>\n",
       "      <th>user_category</th>\n",
       "      <th>user_id</th>\n",
       "    </tr>\n",
       "  </thead>\n",
       "  <tbody>\n",
       "    <tr>\n",
       "      <th>0</th>\n",
       "      <td>hybrid</td>\n",
       "      <td>99</td>\n",
       "    </tr>\n",
       "    <tr>\n",
       "      <th>1</th>\n",
       "      <td>in</td>\n",
       "      <td>136</td>\n",
       "    </tr>\n",
       "    <tr>\n",
       "      <th>2</th>\n",
       "      <td>out</td>\n",
       "      <td>72</td>\n",
       "    </tr>\n",
       "  </tbody>\n",
       "</table>\n",
       "</div>"
      ],
      "text/plain": [
       "  user_category  user_id\n",
       "0        hybrid       99\n",
       "1            in      136\n",
       "2           out       72"
      ]
     },
     "execution_count": 1022,
     "metadata": {},
     "output_type": "execute_result"
    }
   ],
   "source": [
    "user_in_out.pivot_table(values = 'user_id', index = 'user_category', aggfunc='count').reset_index()"
   ]
  },
  {
   "cell_type": "code",
   "execution_count": 1023,
   "metadata": {},
   "outputs": [
    {
     "data": {
      "image/png": "[encoded data removed]",
      "text/plain": [
       "<Figure size 432x288 with 1 Axes>"
      ]
     },
     "metadata": {
      "needs_background": "light"
     },
     "output_type": "display_data"
    }
   ],
   "source": [
    "# Для презентации подготовим несколько визуализаций\n",
    "# Барчарт\n",
    "user_in_out.pivot_table(values = 'user_id', index = 'user_category', aggfunc='count').plot(kind='bar')\n",
    "plt.xticks(rotation=0, horizontalalignment=\"center\")\n",
    "plt.title(\"Информация о колл-центрах\")\n",
    "plt.xlabel(\"Категории колл-центров\")\n",
    "plt.ylabel(\"Количество\")\n",
    "plt.legend('')\n",
    "plt.tight_layout()\n",
    "plt.show()"
   ]
  },
  {
   "cell_type": "code",
   "execution_count": 1024,
   "metadata": {},
   "outputs": [
    {
     "data": {
      "image/png": "[encoded data removed]",
      "text/plain": [
       "<Figure size 504x504 with 1 Axes>"
      ]
     },
     "metadata": {},
     "output_type": "display_data"
    }
   ],
   "source": [
    "# Круговую диаграмму\n",
    "fig, ax = plt.subplots()\n",
    "user_in_out.groupby(by='user_category').count()['user_id'].plot(kind='pie', autopct='%1.f%%')\n",
    "ax.axis('equal')  \n",
    "fig.set_size_inches(7,7)\n",
    "ax.set_title('Процентное соотношение колл-центров по категориям', fontsize = '15')\n",
    "plt.show()"
   ]
  },
  {
   "cell_type": "markdown",
   "metadata": {},
   "source": [
    "**Выводы** с учетом примененных предпосылок и принципов было установлено, что 44% процента колл-центров можно отнести к специализирующимся на входящих звонках, 23% специализируются на исходящих звонках и 32% можно отнести к гибридным колл-центрам"
   ]
  },
  {
   "cell_type": "markdown",
   "metadata": {},
   "source": [
    "#### Категоризация операторов по исходящим/входящим вызовам"
   ]
  },
  {
   "cell_type": "markdown",
   "metadata": {},
   "source": [
    "По аналогичному алгоритму получим сведения о категориях операторов"
   ]
  },
  {
   "cell_type": "markdown",
   "metadata": {},
   "source": [
    "##### Свод по операторам"
   ]
  },
  {
   "cell_type": "code",
   "execution_count": 1025,
   "metadata": {},
   "outputs": [],
   "source": [
    "# Для получения сводных данных исключим возмем только те данные, где звонки отмечены, как внешние\n",
    "operator_in_out = (telecom_dataset.query('internal != True & internal != \"unknown\"')\n",
    "                             .pivot_table(index=['operator_id', 'direction'], values='calls_count', aggfunc='sum')\n",
    "                             .unstack()\n",
    "                             .reset_index()\n",
    "                             .fillna(0))"
   ]
  },
  {
   "cell_type": "code",
   "execution_count": 1026,
   "metadata": {},
   "outputs": [],
   "source": [
    "# скорректируем названия столбцов\n",
    "operator_in_out.columns = ['operator_id', 'in', 'out']"
   ]
  },
  {
   "cell_type": "code",
   "execution_count": 1027,
   "metadata": {},
   "outputs": [],
   "source": [
    "# добавим столбец с общим количеством звонков\n",
    "operator_in_out['calls_sum'] = operator_in_out['in']+operator_in_out['out']"
   ]
  },
  {
   "cell_type": "code",
   "execution_count": 1028,
   "metadata": {},
   "outputs": [],
   "source": [
    "# получим сведения о том какую долю составляют входящие звонки\n",
    "operator_in_out['in_share'] = operator_in_out['in']/operator_in_out['calls_sum']"
   ]
  },
  {
   "cell_type": "code",
   "execution_count": 1029,
   "metadata": {},
   "outputs": [],
   "source": [
    "# получим сведения о том какую долю составляют исходящие звонки\n",
    "operator_in_out['out_share'] = operator_in_out['out']/operator_in_out['calls_sum']"
   ]
  },
  {
   "cell_type": "code",
   "execution_count": 1030,
   "metadata": {},
   "outputs": [
    {
     "data": {
      "text/html": [
       "<div>\n",
       "<style scoped>\n",
       "    .dataframe tbody tr th:only-of-type {\n",
       "        vertical-align: middle;\n",
       "    }\n",
       "\n",
       "    .dataframe tbody tr th {\n",
       "        vertical-align: top;\n",
       "    }\n",
       "\n",
       "    .dataframe thead th {\n",
       "        text-align: right;\n",
       "    }\n",
       "</style>\n",
       "<table border=\"1\" class=\"dataframe\">\n",
       "  <thead>\n",
       "    <tr style=\"text-align: right;\">\n",
       "      <th></th>\n",
       "      <th>operator_id</th>\n",
       "      <th>in</th>\n",
       "      <th>out</th>\n",
       "      <th>calls_sum</th>\n",
       "      <th>in_share</th>\n",
       "      <th>out_share</th>\n",
       "    </tr>\n",
       "  </thead>\n",
       "  <tbody>\n",
       "    <tr>\n",
       "      <th>0</th>\n",
       "      <td>0</td>\n",
       "      <td>103,113.00</td>\n",
       "      <td>461.00</td>\n",
       "      <td>103,574.00</td>\n",
       "      <td>1.00</td>\n",
       "      <td>0.00</td>\n",
       "    </tr>\n",
       "    <tr>\n",
       "      <th>1</th>\n",
       "      <td>885890</td>\n",
       "      <td>1,244.00</td>\n",
       "      <td>58,977.00</td>\n",
       "      <td>60,221.00</td>\n",
       "      <td>0.02</td>\n",
       "      <td>0.98</td>\n",
       "    </tr>\n",
       "    <tr>\n",
       "      <th>2</th>\n",
       "      <td>885876</td>\n",
       "      <td>992.00</td>\n",
       "      <td>58,434.00</td>\n",
       "      <td>59,426.00</td>\n",
       "      <td>0.02</td>\n",
       "      <td>0.98</td>\n",
       "    </tr>\n",
       "    <tr>\n",
       "      <th>3</th>\n",
       "      <td>929428</td>\n",
       "      <td>0.00</td>\n",
       "      <td>23,754.00</td>\n",
       "      <td>23,754.00</td>\n",
       "      <td>0.00</td>\n",
       "      <td>1.00</td>\n",
       "    </tr>\n",
       "    <tr>\n",
       "      <th>4</th>\n",
       "      <td>925922</td>\n",
       "      <td>418.00</td>\n",
       "      <td>19,603.00</td>\n",
       "      <td>20,021.00</td>\n",
       "      <td>0.02</td>\n",
       "      <td>0.98</td>\n",
       "    </tr>\n",
       "  </tbody>\n",
       "</table>\n",
       "</div>"
      ],
      "text/plain": [
       "   operator_id         in       out  calls_sum  in_share  out_share\n",
       "0            0 103,113.00    461.00 103,574.00      1.00       0.00\n",
       "1       885890   1,244.00 58,977.00  60,221.00      0.02       0.98\n",
       "2       885876     992.00 58,434.00  59,426.00      0.02       0.98\n",
       "3       929428       0.00 23,754.00  23,754.00      0.00       1.00\n",
       "4       925922     418.00 19,603.00  20,021.00      0.02       0.98"
      ]
     },
     "execution_count": 1030,
     "metadata": {},
     "output_type": "execute_result"
    }
   ],
   "source": [
    "# посмотрим, что у нас получилось\n",
    "operator_in_out.sort_values(['calls_sum'], ascending=False).reset_index(drop=True).head()"
   ]
  },
  {
   "cell_type": "markdown",
   "metadata": {},
   "source": [
    "##### Категоризация операторов по соотношению исходящих/входящих вызовов"
   ]
  },
  {
   "cell_type": "code",
   "execution_count": 1031,
   "metadata": {},
   "outputs": [
    {
     "data": {
      "text/html": [
       "<div>\n",
       "<style scoped>\n",
       "    .dataframe tbody tr th:only-of-type {\n",
       "        vertical-align: middle;\n",
       "    }\n",
       "\n",
       "    .dataframe tbody tr th {\n",
       "        vertical-align: top;\n",
       "    }\n",
       "\n",
       "    .dataframe thead th {\n",
       "        text-align: right;\n",
       "    }\n",
       "</style>\n",
       "<table border=\"1\" class=\"dataframe\">\n",
       "  <thead>\n",
       "    <tr style=\"text-align: right;\">\n",
       "      <th></th>\n",
       "      <th>operator_id</th>\n",
       "      <th>in</th>\n",
       "      <th>out</th>\n",
       "      <th>calls_sum</th>\n",
       "      <th>in_share</th>\n",
       "      <th>out_share</th>\n",
       "      <th>operator_category</th>\n",
       "    </tr>\n",
       "  </thead>\n",
       "  <tbody>\n",
       "    <tr>\n",
       "      <th>0</th>\n",
       "      <td>879896</td>\n",
       "      <td>58.00</td>\n",
       "      <td>816.00</td>\n",
       "      <td>874.00</td>\n",
       "      <td>0.07</td>\n",
       "      <td>0.93</td>\n",
       "      <td>out</td>\n",
       "    </tr>\n",
       "    <tr>\n",
       "      <th>1</th>\n",
       "      <td>879898</td>\n",
       "      <td>104.00</td>\n",
       "      <td>7,191.00</td>\n",
       "      <td>7,295.00</td>\n",
       "      <td>0.01</td>\n",
       "      <td>0.99</td>\n",
       "      <td>out</td>\n",
       "    </tr>\n",
       "    <tr>\n",
       "      <th>2</th>\n",
       "      <td>880020</td>\n",
       "      <td>7.00</td>\n",
       "      <td>34.00</td>\n",
       "      <td>41.00</td>\n",
       "      <td>0.17</td>\n",
       "      <td>0.83</td>\n",
       "      <td>out</td>\n",
       "    </tr>\n",
       "    <tr>\n",
       "      <th>3</th>\n",
       "      <td>880022</td>\n",
       "      <td>8.00</td>\n",
       "      <td>174.00</td>\n",
       "      <td>182.00</td>\n",
       "      <td>0.04</td>\n",
       "      <td>0.96</td>\n",
       "      <td>out</td>\n",
       "    </tr>\n",
       "    <tr>\n",
       "      <th>4</th>\n",
       "      <td>880026</td>\n",
       "      <td>24.00</td>\n",
       "      <td>2,188.00</td>\n",
       "      <td>2,212.00</td>\n",
       "      <td>0.01</td>\n",
       "      <td>0.99</td>\n",
       "      <td>out</td>\n",
       "    </tr>\n",
       "  </tbody>\n",
       "</table>\n",
       "</div>"
      ],
      "text/plain": [
       "   operator_id     in      out  calls_sum  in_share  out_share  \\\n",
       "0       879896  58.00   816.00     874.00      0.07       0.93   \n",
       "1       879898 104.00 7,191.00   7,295.00      0.01       0.99   \n",
       "2       880020   7.00    34.00      41.00      0.17       0.83   \n",
       "3       880022   8.00   174.00     182.00      0.04       0.96   \n",
       "4       880026  24.00 2,188.00   2,212.00      0.01       0.99   \n",
       "\n",
       "  operator_category  \n",
       "0               out  \n",
       "1               out  \n",
       "2               out  \n",
       "3               out  \n",
       "4               out  "
      ]
     },
     "execution_count": 1031,
     "metadata": {},
     "output_type": "execute_result"
    }
   ],
   "source": [
    "# добавим сведения о категории колл-центра\n",
    "operator_in_out['operator_category'] = operator_in_out.in_share.map(categorize)\n",
    "operator_in_out = operator_in_out.drop([0]).reset_index(drop=True)\n",
    "operator_in_out.head()"
   ]
  },
  {
   "cell_type": "markdown",
   "metadata": {},
   "source": [
    "##### Визуализация полученных данных"
   ]
  },
  {
   "cell_type": "code",
   "execution_count": 1032,
   "metadata": {},
   "outputs": [
    {
     "data": {
      "text/html": [
       "<div>\n",
       "<style scoped>\n",
       "    .dataframe tbody tr th:only-of-type {\n",
       "        vertical-align: middle;\n",
       "    }\n",
       "\n",
       "    .dataframe tbody tr th {\n",
       "        vertical-align: top;\n",
       "    }\n",
       "\n",
       "    .dataframe thead th {\n",
       "        text-align: right;\n",
       "    }\n",
       "</style>\n",
       "<table border=\"1\" class=\"dataframe\">\n",
       "  <thead>\n",
       "    <tr style=\"text-align: right;\">\n",
       "      <th></th>\n",
       "      <th>operator_category</th>\n",
       "      <th>operator_id</th>\n",
       "    </tr>\n",
       "  </thead>\n",
       "  <tbody>\n",
       "    <tr>\n",
       "      <th>0</th>\n",
       "      <td>hybrid</td>\n",
       "      <td>219</td>\n",
       "    </tr>\n",
       "    <tr>\n",
       "      <th>1</th>\n",
       "      <td>in</td>\n",
       "      <td>303</td>\n",
       "    </tr>\n",
       "    <tr>\n",
       "      <th>2</th>\n",
       "      <td>out</td>\n",
       "      <td>533</td>\n",
       "    </tr>\n",
       "  </tbody>\n",
       "</table>\n",
       "</div>"
      ],
      "text/plain": [
       "  operator_category  operator_id\n",
       "0            hybrid          219\n",
       "1                in          303\n",
       "2               out          533"
      ]
     },
     "execution_count": 1032,
     "metadata": {},
     "output_type": "execute_result"
    }
   ],
   "source": [
    "operator_in_out .pivot_table(values = 'operator_id', index = 'operator_category', aggfunc='count').reset_index()"
   ]
  },
  {
   "cell_type": "code",
   "execution_count": 1033,
   "metadata": {},
   "outputs": [
    {
     "data": {
      "image/png": "[encoded data removed]",
      "text/plain": [
       "<Figure size 432x288 with 1 Axes>"
      ]
     },
     "metadata": {
      "needs_background": "light"
     },
     "output_type": "display_data"
    }
   ],
   "source": [
    "# Для презентации подготовим несколько визуализаций\n",
    "# Барчарт\n",
    "operator_in_out.pivot_table(values = 'operator_id', index = 'operator_category', aggfunc='count').plot(kind='bar')\n",
    "plt.xticks(rotation=0, horizontalalignment=\"center\")\n",
    "plt.title(\"Информация об операторах\")\n",
    "plt.xlabel(\"Категории операторов\")\n",
    "plt.ylabel(\"Количество\")\n",
    "plt.legend('')\n",
    "plt.tight_layout()\n",
    "plt.show()"
   ]
  },
  {
   "cell_type": "code",
   "execution_count": 1034,
   "metadata": {},
   "outputs": [
    {
     "data": {
      "image/png": "[encoded data removed]",
      "text/plain": [
       "<Figure size 504x504 with 1 Axes>"
      ]
     },
     "metadata": {},
     "output_type": "display_data"
    }
   ],
   "source": [
    "# Круговая диаграмма\n",
    "fig, ax = plt.subplots()\n",
    "operator_in_out.groupby(by='operator_category').count()['operator_id'].plot(kind='pie', autopct='%1.1f%%')\n",
    "ax.axis('equal')  \n",
    "fig.set_size_inches(7,7)\n",
    "ax.set_title('Процентное соотношение операторов по категориям', fontsize = '15')\n",
    "plt.show()"
   ]
  },
  {
   "cell_type": "markdown",
   "metadata": {},
   "source": [
    "**Выводы** Ситуация по операторам несколько иная, 51% операторов специализировались на исходящих звонках, 29% на входящих и 21% работали с обоими типами звонков"
   ]
  },
  {
   "cell_type": "markdown",
   "metadata": {},
   "source": [
    "#### Включение в исходный датасет информации о категориях колл-центров и операторов"
   ]
  },
  {
   "cell_type": "code",
   "execution_count": 1035,
   "metadata": {},
   "outputs": [],
   "source": [
    "telecom_dataset = telecom_dataset.merge(user_in_out[['user_id', 'user_category']], how = 'left', on='user_id')"
   ]
  },
  {
   "cell_type": "code",
   "execution_count": 1036,
   "metadata": {},
   "outputs": [],
   "source": [
    "telecom_dataset = telecom_dataset.merge(operator_in_out[['operator_id', 'operator_category']], how = 'left', on='operator_id')"
   ]
  },
  {
   "cell_type": "code",
   "execution_count": 1037,
   "metadata": {},
   "outputs": [],
   "source": [
    "# данные, где отсутствует идентификатор оператора присвоим категорию 0\n",
    "telecom_dataset['operator_category'] = telecom_dataset['operator_category'].fillna(0)"
   ]
  },
  {
   "cell_type": "code",
   "execution_count": 1038,
   "metadata": {},
   "outputs": [
    {
     "data": {
      "text/html": [
       "<div>\n",
       "<style scoped>\n",
       "    .dataframe tbody tr th:only-of-type {\n",
       "        vertical-align: middle;\n",
       "    }\n",
       "\n",
       "    .dataframe tbody tr th {\n",
       "        vertical-align: top;\n",
       "    }\n",
       "\n",
       "    .dataframe thead th {\n",
       "        text-align: right;\n",
       "    }\n",
       "</style>\n",
       "<table border=\"1\" class=\"dataframe\">\n",
       "  <thead>\n",
       "    <tr style=\"text-align: right;\">\n",
       "      <th></th>\n",
       "      <th>user_id</th>\n",
       "      <th>date</th>\n",
       "      <th>direction</th>\n",
       "      <th>internal</th>\n",
       "      <th>operator_id</th>\n",
       "      <th>is_missed_call</th>\n",
       "      <th>calls_count</th>\n",
       "      <th>call_duration</th>\n",
       "      <th>total_call_duration</th>\n",
       "      <th>avg_expectation</th>\n",
       "      <th>avg_call_duration</th>\n",
       "      <th>user_category</th>\n",
       "      <th>operator_category</th>\n",
       "    </tr>\n",
       "  </thead>\n",
       "  <tbody>\n",
       "    <tr>\n",
       "      <th>0</th>\n",
       "      <td>166377</td>\n",
       "      <td>2019-08-04</td>\n",
       "      <td>in</td>\n",
       "      <td>False</td>\n",
       "      <td>0</td>\n",
       "      <td>True</td>\n",
       "      <td>2</td>\n",
       "      <td>0</td>\n",
       "      <td>4</td>\n",
       "      <td>2</td>\n",
       "      <td>0</td>\n",
       "      <td>out</td>\n",
       "      <td>0</td>\n",
       "    </tr>\n",
       "    <tr>\n",
       "      <th>1</th>\n",
       "      <td>166377</td>\n",
       "      <td>2019-08-05</td>\n",
       "      <td>out</td>\n",
       "      <td>True</td>\n",
       "      <td>880022</td>\n",
       "      <td>True</td>\n",
       "      <td>3</td>\n",
       "      <td>0</td>\n",
       "      <td>5</td>\n",
       "      <td>1</td>\n",
       "      <td>0</td>\n",
       "      <td>out</td>\n",
       "      <td>out</td>\n",
       "    </tr>\n",
       "    <tr>\n",
       "      <th>2</th>\n",
       "      <td>166377</td>\n",
       "      <td>2019-08-05</td>\n",
       "      <td>out</td>\n",
       "      <td>True</td>\n",
       "      <td>880020</td>\n",
       "      <td>True</td>\n",
       "      <td>1</td>\n",
       "      <td>0</td>\n",
       "      <td>1</td>\n",
       "      <td>1</td>\n",
       "      <td>0</td>\n",
       "      <td>out</td>\n",
       "      <td>out</td>\n",
       "    </tr>\n",
       "    <tr>\n",
       "      <th>3</th>\n",
       "      <td>166377</td>\n",
       "      <td>2019-08-05</td>\n",
       "      <td>out</td>\n",
       "      <td>True</td>\n",
       "      <td>880020</td>\n",
       "      <td>False</td>\n",
       "      <td>1</td>\n",
       "      <td>10</td>\n",
       "      <td>18</td>\n",
       "      <td>8</td>\n",
       "      <td>10</td>\n",
       "      <td>out</td>\n",
       "      <td>out</td>\n",
       "    </tr>\n",
       "    <tr>\n",
       "      <th>4</th>\n",
       "      <td>166377</td>\n",
       "      <td>2019-08-05</td>\n",
       "      <td>out</td>\n",
       "      <td>False</td>\n",
       "      <td>880022</td>\n",
       "      <td>True</td>\n",
       "      <td>3</td>\n",
       "      <td>0</td>\n",
       "      <td>25</td>\n",
       "      <td>8</td>\n",
       "      <td>0</td>\n",
       "      <td>out</td>\n",
       "      <td>out</td>\n",
       "    </tr>\n",
       "  </tbody>\n",
       "</table>\n",
       "</div>"
      ],
      "text/plain": [
       "  user_id       date direction  internal  operator_id  is_missed_call  \\\n",
       "0  166377 2019-08-04        in     False            0            True   \n",
       "1  166377 2019-08-05       out      True       880022            True   \n",
       "2  166377 2019-08-05       out      True       880020            True   \n",
       "3  166377 2019-08-05       out      True       880020           False   \n",
       "4  166377 2019-08-05       out     False       880022            True   \n",
       "\n",
       "   calls_count  call_duration  total_call_duration  avg_expectation  \\\n",
       "0            2              0                    4                2   \n",
       "1            3              0                    5                1   \n",
       "2            1              0                    1                1   \n",
       "3            1             10                   18                8   \n",
       "4            3              0                   25                8   \n",
       "\n",
       "   avg_call_duration user_category operator_category  \n",
       "0                  0           out                 0  \n",
       "1                  0           out               out  \n",
       "2                  0           out               out  \n",
       "3                 10           out               out  \n",
       "4                  0           out               out  "
      ]
     },
     "execution_count": 1038,
     "metadata": {},
     "output_type": "execute_result"
    }
   ],
   "source": [
    "telecom_dataset.head()"
   ]
  },
  {
   "cell_type": "markdown",
   "metadata": {},
   "source": [
    "### Соотношение входящих принятых и пропущенных операторами звонков "
   ]
  },
  {
   "cell_type": "markdown",
   "metadata": {},
   "source": [
    "В качестве первой метрики предлагается рассмотреть соотношение принятых и пропущенных операторами входящих звонков, при этом будут рассмотрены все входящие звонки, как внешние так и внутренние, поскольку это позволит оперировать в том числе входящими звонками переведенными от одного оператора другому. Суть метрики заключается в том, что людям, которые звонят в колл-центры важно, чтобы их звонок был обработан, соответственно небольшое количество пропущенных звонков относительно обработанных может служить показателем хорошей работы оператора."
   ]
  },
  {
   "cell_type": "markdown",
   "metadata": {},
   "source": [
    "#### Сводная таблица по каждому оператору с данными о принятых и пропущенных входящих звонках"
   ]
  },
  {
   "cell_type": "code",
   "execution_count": 1039,
   "metadata": {},
   "outputs": [
    {
     "data": {
      "text/html": [
       "<div>\n",
       "<style scoped>\n",
       "    .dataframe tbody tr th:only-of-type {\n",
       "        vertical-align: middle;\n",
       "    }\n",
       "\n",
       "    .dataframe tbody tr th {\n",
       "        vertical-align: top;\n",
       "    }\n",
       "\n",
       "    .dataframe thead th {\n",
       "        text-align: right;\n",
       "    }\n",
       "</style>\n",
       "<table border=\"1\" class=\"dataframe\">\n",
       "  <thead>\n",
       "    <tr style=\"text-align: right;\">\n",
       "      <th></th>\n",
       "      <th>operator_id</th>\n",
       "      <th>accept</th>\n",
       "      <th>missed</th>\n",
       "      <th>calls_all</th>\n",
       "      <th>share_accept</th>\n",
       "    </tr>\n",
       "  </thead>\n",
       "  <tbody>\n",
       "    <tr>\n",
       "      <th>0</th>\n",
       "      <td>913938</td>\n",
       "      <td>4752</td>\n",
       "      <td>14</td>\n",
       "      <td>4766</td>\n",
       "      <td>1.00</td>\n",
       "    </tr>\n",
       "    <tr>\n",
       "      <th>1</th>\n",
       "      <td>952948</td>\n",
       "      <td>3534</td>\n",
       "      <td>8</td>\n",
       "      <td>3542</td>\n",
       "      <td>1.00</td>\n",
       "    </tr>\n",
       "    <tr>\n",
       "      <th>2</th>\n",
       "      <td>893804</td>\n",
       "      <td>2423</td>\n",
       "      <td>10</td>\n",
       "      <td>2433</td>\n",
       "      <td>1.00</td>\n",
       "    </tr>\n",
       "    <tr>\n",
       "      <th>3</th>\n",
       "      <td>913942</td>\n",
       "      <td>2415</td>\n",
       "      <td>52</td>\n",
       "      <td>2467</td>\n",
       "      <td>0.98</td>\n",
       "    </tr>\n",
       "    <tr>\n",
       "      <th>4</th>\n",
       "      <td>921318</td>\n",
       "      <td>2317</td>\n",
       "      <td>6</td>\n",
       "      <td>2323</td>\n",
       "      <td>1.00</td>\n",
       "    </tr>\n",
       "  </tbody>\n",
       "</table>\n",
       "</div>"
      ],
      "text/plain": [
       "   operator_id  accept  missed  calls_all  share_accept\n",
       "0       913938    4752      14       4766          1.00\n",
       "1       952948    3534       8       3542          1.00\n",
       "2       893804    2423      10       2433          1.00\n",
       "3       913942    2415      52       2467          0.98\n",
       "4       921318    2317       6       2323          1.00"
      ]
     },
     "execution_count": 1039,
     "metadata": {},
     "output_type": "execute_result"
    }
   ],
   "source": [
    "# сделаем сводную таблицу по каждому оператору с количеством принятых (`accept`) и пропущенных (`missed`) звонков, \n",
    "#а также общее количество звонков и долю принятых звонков от общего количества\n",
    "operator_in_ef = telecom_dataset.query('operator_id != 0 & direction == \"in\"').pivot_table(index=['operator_id', 'is_missed_call'], values='calls_count', aggfunc='sum').unstack().reset_index()\n",
    "operator_in_ef.columns = ['operator_id', 'accept', 'missed']\n",
    "operator_in_ef['missed'] = operator_in_ef['missed'].fillna(0)\n",
    "operator_in_ef['accept'] = operator_in_ef['accept'].fillna(0)\n",
    "operator_in_ef['accept'] = operator_in_ef['accept'].astype('int64')\n",
    "operator_in_ef['missed'] = operator_in_ef['missed'].astype('int64')\n",
    "operator_in_ef['calls_all'] = operator_in_ef['accept'] + operator_in_ef['missed']\n",
    "operator_in_ef['share_accept'] = operator_in_ef['accept']/operator_in_ef['calls_all']\n",
    "operator_in_ef = operator_in_ef.sort_values(['accept'], ascending=False).reset_index(drop=True)\n",
    "operator_in_ef.head()"
   ]
  },
  {
   "cell_type": "code",
   "execution_count": 1040,
   "metadata": {},
   "outputs": [
    {
     "data": {
      "text/html": [
       "<div>\n",
       "<style scoped>\n",
       "    .dataframe tbody tr th:only-of-type {\n",
       "        vertical-align: middle;\n",
       "    }\n",
       "\n",
       "    .dataframe tbody tr th {\n",
       "        vertical-align: top;\n",
       "    }\n",
       "\n",
       "    .dataframe thead th {\n",
       "        text-align: right;\n",
       "    }\n",
       "</style>\n",
       "<table border=\"1\" class=\"dataframe\">\n",
       "  <thead>\n",
       "    <tr style=\"text-align: right;\">\n",
       "      <th></th>\n",
       "      <th>operator_id</th>\n",
       "      <th>date</th>\n",
       "    </tr>\n",
       "  </thead>\n",
       "  <tbody>\n",
       "    <tr>\n",
       "      <th>0</th>\n",
       "      <td>879896</td>\n",
       "      <td>50</td>\n",
       "    </tr>\n",
       "    <tr>\n",
       "      <th>1</th>\n",
       "      <td>879898</td>\n",
       "      <td>84</td>\n",
       "    </tr>\n",
       "    <tr>\n",
       "      <th>2</th>\n",
       "      <td>880020</td>\n",
       "      <td>14</td>\n",
       "    </tr>\n",
       "    <tr>\n",
       "      <th>3</th>\n",
       "      <td>880022</td>\n",
       "      <td>42</td>\n",
       "    </tr>\n",
       "    <tr>\n",
       "      <th>4</th>\n",
       "      <td>880026</td>\n",
       "      <td>77</td>\n",
       "    </tr>\n",
       "  </tbody>\n",
       "</table>\n",
       "</div>"
      ],
      "text/plain": [
       "   operator_id  date\n",
       "0       879896    50\n",
       "1       879898    84\n",
       "2       880020    14\n",
       "3       880022    42\n",
       "4       880026    77"
      ]
     },
     "execution_count": 1040,
     "metadata": {},
     "output_type": "execute_result"
    }
   ],
   "source": [
    "# поскольку в исследуемом периоде операторы работали разное количество дней, получим сведения \n",
    "# о количестве рабочих дней, для каждого оператора \n",
    "operator_days = (telecom_dataset.query('operator_id != 0')\n",
    "                               .pivot_table(index='operator_id', values='date', aggfunc='nunique')\n",
    "                               .reset_index())\n",
    "operator_days.head()"
   ]
  },
  {
   "cell_type": "code",
   "execution_count": 1041,
   "metadata": {},
   "outputs": [
    {
     "data": {
      "text/html": [
       "<div>\n",
       "<style scoped>\n",
       "    .dataframe tbody tr th:only-of-type {\n",
       "        vertical-align: middle;\n",
       "    }\n",
       "\n",
       "    .dataframe tbody tr th {\n",
       "        vertical-align: top;\n",
       "    }\n",
       "\n",
       "    .dataframe thead th {\n",
       "        text-align: right;\n",
       "    }\n",
       "</style>\n",
       "<table border=\"1\" class=\"dataframe\">\n",
       "  <thead>\n",
       "    <tr style=\"text-align: right;\">\n",
       "      <th></th>\n",
       "      <th>operator_id</th>\n",
       "      <th>accept</th>\n",
       "      <th>missed</th>\n",
       "      <th>calls_all</th>\n",
       "      <th>share_accept</th>\n",
       "      <th>date</th>\n",
       "      <th>calls_day</th>\n",
       "      <th>missed_day</th>\n",
       "    </tr>\n",
       "  </thead>\n",
       "  <tbody>\n",
       "    <tr>\n",
       "      <th>0</th>\n",
       "      <td>913938</td>\n",
       "      <td>4752</td>\n",
       "      <td>14</td>\n",
       "      <td>4766</td>\n",
       "      <td>1.00</td>\n",
       "      <td>65</td>\n",
       "      <td>73.32</td>\n",
       "      <td>0.22</td>\n",
       "    </tr>\n",
       "    <tr>\n",
       "      <th>1</th>\n",
       "      <td>952948</td>\n",
       "      <td>3534</td>\n",
       "      <td>8</td>\n",
       "      <td>3542</td>\n",
       "      <td>1.00</td>\n",
       "      <td>26</td>\n",
       "      <td>136.23</td>\n",
       "      <td>0.31</td>\n",
       "    </tr>\n",
       "    <tr>\n",
       "      <th>2</th>\n",
       "      <td>893804</td>\n",
       "      <td>2423</td>\n",
       "      <td>10</td>\n",
       "      <td>2433</td>\n",
       "      <td>1.00</td>\n",
       "      <td>93</td>\n",
       "      <td>26.16</td>\n",
       "      <td>0.11</td>\n",
       "    </tr>\n",
       "    <tr>\n",
       "      <th>3</th>\n",
       "      <td>913942</td>\n",
       "      <td>2415</td>\n",
       "      <td>52</td>\n",
       "      <td>2467</td>\n",
       "      <td>0.98</td>\n",
       "      <td>57</td>\n",
       "      <td>43.28</td>\n",
       "      <td>0.91</td>\n",
       "    </tr>\n",
       "    <tr>\n",
       "      <th>4</th>\n",
       "      <td>921318</td>\n",
       "      <td>2317</td>\n",
       "      <td>6</td>\n",
       "      <td>2323</td>\n",
       "      <td>1.00</td>\n",
       "      <td>45</td>\n",
       "      <td>51.62</td>\n",
       "      <td>0.13</td>\n",
       "    </tr>\n",
       "  </tbody>\n",
       "</table>\n",
       "</div>"
      ],
      "text/plain": [
       "   operator_id  accept  missed  calls_all  share_accept  date  calls_day  \\\n",
       "0       913938    4752      14       4766          1.00    65      73.32   \n",
       "1       952948    3534       8       3542          1.00    26     136.23   \n",
       "2       893804    2423      10       2433          1.00    93      26.16   \n",
       "3       913942    2415      52       2467          0.98    57      43.28   \n",
       "4       921318    2317       6       2323          1.00    45      51.62   \n",
       "\n",
       "   missed_day  \n",
       "0        0.22  \n",
       "1        0.31  \n",
       "2        0.11  \n",
       "3        0.91  \n",
       "4        0.13  "
      ]
     },
     "execution_count": 1041,
     "metadata": {},
     "output_type": "execute_result"
    }
   ],
   "source": [
    "# соединим информацию из 2 таблиц\n",
    "operator_in_ef = operator_in_ef.merge(operator_days[['operator_id', 'date']], how = 'left', on='operator_id')\n",
    "operator_in_ef['calls_day'] = operator_in_ef['calls_all']/operator_in_ef['date'] # добавим среднее количество звонков в день\n",
    "operator_in_ef['missed_day'] = operator_in_ef['missed']/operator_in_ef['date'] # добавим среднее количество пропущенных звонков в рабочий день\n",
    "operator_in_ef.head()"
   ]
  },
  {
   "cell_type": "code",
   "execution_count": 1042,
   "metadata": {},
   "outputs": [
    {
     "data": {
      "text/html": [
       "<div>\n",
       "<style scoped>\n",
       "    .dataframe tbody tr th:only-of-type {\n",
       "        vertical-align: middle;\n",
       "    }\n",
       "\n",
       "    .dataframe tbody tr th {\n",
       "        vertical-align: top;\n",
       "    }\n",
       "\n",
       "    .dataframe thead th {\n",
       "        text-align: right;\n",
       "    }\n",
       "</style>\n",
       "<table border=\"1\" class=\"dataframe\">\n",
       "  <thead>\n",
       "    <tr style=\"text-align: right;\">\n",
       "      <th></th>\n",
       "      <th>operator_id</th>\n",
       "      <th>accept</th>\n",
       "      <th>missed</th>\n",
       "      <th>calls_all</th>\n",
       "      <th>share_accept</th>\n",
       "      <th>date</th>\n",
       "      <th>calls_day</th>\n",
       "      <th>missed_day</th>\n",
       "    </tr>\n",
       "  </thead>\n",
       "  <tbody>\n",
       "    <tr>\n",
       "      <th>count</th>\n",
       "      <td>754.00</td>\n",
       "      <td>754.00</td>\n",
       "      <td>754.00</td>\n",
       "      <td>754.00</td>\n",
       "      <td>754.00</td>\n",
       "      <td>754.00</td>\n",
       "      <td>754.00</td>\n",
       "      <td>754.00</td>\n",
       "    </tr>\n",
       "    <tr>\n",
       "      <th>mean</th>\n",
       "      <td>923,704.40</td>\n",
       "      <td>123.18</td>\n",
       "      <td>1.23</td>\n",
       "      <td>124.41</td>\n",
       "      <td>0.98</td>\n",
       "      <td>20.74</td>\n",
       "      <td>4.29</td>\n",
       "      <td>0.05</td>\n",
       "    </tr>\n",
       "    <tr>\n",
       "      <th>std</th>\n",
       "      <td>22,646.73</td>\n",
       "      <td>354.25</td>\n",
       "      <td>3.80</td>\n",
       "      <td>356.45</td>\n",
       "      <td>0.07</td>\n",
       "      <td>20.30</td>\n",
       "      <td>10.59</td>\n",
       "      <td>0.18</td>\n",
       "    </tr>\n",
       "    <tr>\n",
       "      <th>min</th>\n",
       "      <td>879,896.00</td>\n",
       "      <td>0.00</td>\n",
       "      <td>0.00</td>\n",
       "      <td>1.00</td>\n",
       "      <td>0.00</td>\n",
       "      <td>1.00</td>\n",
       "      <td>0.02</td>\n",
       "      <td>0.00</td>\n",
       "    </tr>\n",
       "    <tr>\n",
       "      <th>50%</th>\n",
       "      <td>924,580.00</td>\n",
       "      <td>16.50</td>\n",
       "      <td>0.00</td>\n",
       "      <td>17.00</td>\n",
       "      <td>1.00</td>\n",
       "      <td>13.00</td>\n",
       "      <td>1.46</td>\n",
       "      <td>0.00</td>\n",
       "    </tr>\n",
       "    <tr>\n",
       "      <th>90%</th>\n",
       "      <td>953,319.40</td>\n",
       "      <td>287.40</td>\n",
       "      <td>3.00</td>\n",
       "      <td>291.10</td>\n",
       "      <td>1.00</td>\n",
       "      <td>50.70</td>\n",
       "      <td>8.45</td>\n",
       "      <td>0.14</td>\n",
       "    </tr>\n",
       "    <tr>\n",
       "      <th>95%</th>\n",
       "      <td>960,409.40</td>\n",
       "      <td>584.95</td>\n",
       "      <td>6.00</td>\n",
       "      <td>590.25</td>\n",
       "      <td>1.00</td>\n",
       "      <td>62.35</td>\n",
       "      <td>17.29</td>\n",
       "      <td>0.28</td>\n",
       "    </tr>\n",
       "    <tr>\n",
       "      <th>99%</th>\n",
       "      <td>970,247.76</td>\n",
       "      <td>1,886.38</td>\n",
       "      <td>18.94</td>\n",
       "      <td>1,900.20</td>\n",
       "      <td>1.00</td>\n",
       "      <td>80.94</td>\n",
       "      <td>59.53</td>\n",
       "      <td>0.82</td>\n",
       "    </tr>\n",
       "    <tr>\n",
       "      <th>max</th>\n",
       "      <td>973,286.00</td>\n",
       "      <td>4,752.00</td>\n",
       "      <td>52.00</td>\n",
       "      <td>4,766.00</td>\n",
       "      <td>1.00</td>\n",
       "      <td>97.00</td>\n",
       "      <td>136.23</td>\n",
       "      <td>3.00</td>\n",
       "    </tr>\n",
       "  </tbody>\n",
       "</table>\n",
       "</div>"
      ],
      "text/plain": [
       "       operator_id   accept  missed  calls_all  share_accept   date  \\\n",
       "count       754.00   754.00  754.00     754.00        754.00 754.00   \n",
       "mean    923,704.40   123.18    1.23     124.41          0.98  20.74   \n",
       "std      22,646.73   354.25    3.80     356.45          0.07  20.30   \n",
       "min     879,896.00     0.00    0.00       1.00          0.00   1.00   \n",
       "50%     924,580.00    16.50    0.00      17.00          1.00  13.00   \n",
       "90%     953,319.40   287.40    3.00     291.10          1.00  50.70   \n",
       "95%     960,409.40   584.95    6.00     590.25          1.00  62.35   \n",
       "99%     970,247.76 1,886.38   18.94   1,900.20          1.00  80.94   \n",
       "max     973,286.00 4,752.00   52.00   4,766.00          1.00  97.00   \n",
       "\n",
       "       calls_day  missed_day  \n",
       "count     754.00      754.00  \n",
       "mean        4.29        0.05  \n",
       "std        10.59        0.18  \n",
       "min         0.02        0.00  \n",
       "50%         1.46        0.00  \n",
       "90%         8.45        0.14  \n",
       "95%        17.29        0.28  \n",
       "99%        59.53        0.82  \n",
       "max       136.23        3.00  "
      ]
     },
     "execution_count": 1042,
     "metadata": {},
     "output_type": "execute_result"
    }
   ],
   "source": [
    "# исследуем полученные данные\n",
    "operator_in_ef.describe(percentiles=[.9, .95, .99])"
   ]
  },
  {
   "cell_type": "markdown",
   "metadata": {},
   "source": [
    "**Вывод** На основании проведенного исследования было установлено, что критерий соотношения принятых и пропущенных входящих не может быть использован в качестве метрики определения эффективности операторов, поскольку за весь исследованный период максимальное количество пропущенных звонков составляет 1,5 звонка в один рабочий день, а у 90% операторов в соответствии с нашим датасетом среднее количество пропущенных звонков составляет значение менее 0,14."
   ]
  },
  {
   "cell_type": "markdown",
   "metadata": {},
   "source": [
    "#### Визуализация данных"
   ]
  },
  {
   "cell_type": "code",
   "execution_count": 1043,
   "metadata": {},
   "outputs": [
    {
     "data": {
      "image/png": "[encoded data removed]",
      "text/plain": [
       "<Figure size 1080x504 with 1 Axes>"
      ]
     },
     "metadata": {
      "needs_background": "light"
     },
     "output_type": "display_data"
    }
   ],
   "source": [
    "# построим диаграмму распределения значений пропущенных оператором звонков в день\n",
    "fig, axes = plt.subplots()\n",
    "ax = sns.histplot(operator_in_ef[operator_in_ef['missed_day'] > 0]['missed_day'], bins=40)\n",
    "ax.set_xlabel('Пропущенные звонки в день', fontsize = '15')\n",
    "ax.set_ylabel('Количество операторов', fontsize = '15')\n",
    "ax.set_title('Распределение пропущенных звонков в день', fontsize = '15')    \n",
    "fig.set_figwidth(15)    \n",
    "fig.set_figheight(7)  "
   ]
  },
  {
   "cell_type": "markdown",
   "metadata": {},
   "source": [
    "**Вывод** 95% всех операторов допускают 0,3 пропущенных звонка в день, то есть 1 пропущенный звонок в течении 3-4 дней. Более высокий показатель может определять неэффективность оператора."
   ]
  },
  {
   "cell_type": "markdown",
   "metadata": {},
   "source": [
    "### Определение среднего времени ожидания ответа оператора на один звонок"
   ]
  },
  {
   "cell_type": "markdown",
   "metadata": {},
   "source": [
    "В качестве второй возможной метрики оценки эффективности операторов на входящих звонках рассмотрим время ожидания ответа оператора"
   ]
  },
  {
   "cell_type": "markdown",
   "metadata": {},
   "source": [
    "#### Определить по каждому оператору среднее время ожидания, а также общее среднее время ожидания"
   ]
  },
  {
   "cell_type": "code",
   "execution_count": 1044,
   "metadata": {},
   "outputs": [
    {
     "data": {
      "text/html": [
       "<div>\n",
       "<style scoped>\n",
       "    .dataframe tbody tr th:only-of-type {\n",
       "        vertical-align: middle;\n",
       "    }\n",
       "\n",
       "    .dataframe tbody tr th {\n",
       "        vertical-align: top;\n",
       "    }\n",
       "\n",
       "    .dataframe thead th {\n",
       "        text-align: right;\n",
       "    }\n",
       "</style>\n",
       "<table border=\"1\" class=\"dataframe\">\n",
       "  <thead>\n",
       "    <tr style=\"text-align: right;\">\n",
       "      <th></th>\n",
       "      <th>operator_id</th>\n",
       "      <th>avg_expectation</th>\n",
       "    </tr>\n",
       "  </thead>\n",
       "  <tbody>\n",
       "    <tr>\n",
       "      <th>0</th>\n",
       "      <td>905842</td>\n",
       "      <td>115.50</td>\n",
       "    </tr>\n",
       "    <tr>\n",
       "      <th>1</th>\n",
       "      <td>917680</td>\n",
       "      <td>100.00</td>\n",
       "    </tr>\n",
       "    <tr>\n",
       "      <th>2</th>\n",
       "      <td>907174</td>\n",
       "      <td>65.12</td>\n",
       "    </tr>\n",
       "    <tr>\n",
       "      <th>3</th>\n",
       "      <td>960296</td>\n",
       "      <td>63.00</td>\n",
       "    </tr>\n",
       "    <tr>\n",
       "      <th>4</th>\n",
       "      <td>920930</td>\n",
       "      <td>62.00</td>\n",
       "    </tr>\n",
       "  </tbody>\n",
       "</table>\n",
       "</div>"
      ],
      "text/plain": [
       "   operator_id  avg_expectation\n",
       "0       905842           115.50\n",
       "1       917680           100.00\n",
       "2       907174            65.12\n",
       "3       960296            63.00\n",
       "4       920930            62.00"
      ]
     },
     "execution_count": 1044,
     "metadata": {},
     "output_type": "execute_result"
    }
   ],
   "source": [
    "# Сделаем сводную таблицу среднего времени ожидания ответа по операторам\n",
    "avg_exp = (telecom_dataset.query('operator_id != 0 & direction == \"in\"')\n",
    "                         .pivot_table(index='operator_id', values='avg_expectation', aggfunc='mean')\n",
    "                         .reset_index().sort_values(by='avg_expectation', ascending=False)\n",
    "                         .reset_index(drop=True)\n",
    "          )\n",
    "avg_exp.head()"
   ]
  },
  {
   "cell_type": "code",
   "execution_count": 1045,
   "metadata": {},
   "outputs": [
    {
     "data": {
      "text/plain": [
       "count   754.00\n",
       "mean     17.56\n",
       "std      12.31\n",
       "min       0.22\n",
       "50%      14.34\n",
       "90%      33.58\n",
       "95%      42.06\n",
       "99%      57.21\n",
       "max     115.50\n",
       "Name: avg_expectation, dtype: float64"
      ]
     },
     "execution_count": 1045,
     "metadata": {},
     "output_type": "execute_result"
    }
   ],
   "source": [
    "# выведем статистическую информацию по значениям среднего времени ожидания ответа оператора\n",
    "avg_exp['avg_expectation'].describe(percentiles=[.9, .95, .99])"
   ]
  },
  {
   "cell_type": "markdown",
   "metadata": {},
   "source": [
    "**Промежуточный вывод** Среднее время ответа оператора, когда звонок состоялся составляет 18 секунд, 90% операторов в отвечают в течении 34 секунд."
   ]
  },
  {
   "cell_type": "markdown",
   "metadata": {},
   "source": [
    "#### Анализ входящих пропущенных звонков, когда абонент не дождался ответа оператора и положил трубку"
   ]
  },
  {
   "cell_type": "code",
   "execution_count": 1046,
   "metadata": {},
   "outputs": [
    {
     "data": {
      "text/plain": [
       "count   7,887.00\n",
       "mean       18.67\n",
       "std        21.52\n",
       "min         0.00\n",
       "50%        14.00\n",
       "90%        41.00\n",
       "95%        52.00\n",
       "99%        92.14\n",
       "max       465.00\n",
       "Name: avg_expectation, dtype: float64"
      ]
     },
     "execution_count": 1046,
     "metadata": {},
     "output_type": "execute_result"
    }
   ],
   "source": [
    "telecom_dataset.query('direction == \"in\" & is_missed_call == True')['avg_expectation'].describe(percentiles=[.9, .95, .99])"
   ]
  },
  {
   "cell_type": "markdown",
   "metadata": {},
   "source": [
    "**Промежуточный вывод** Среднее время ответа оператора, когда абонент положил трубку и не дождался ответа оператора составляет 19 секунд. А у 90% операторов, когда абонент не дождался ответа время ожидания составляет 41 секунд."
   ]
  },
  {
   "cell_type": "markdown",
   "metadata": {},
   "source": [
    "#### Визуализация данных"
   ]
  },
  {
   "cell_type": "code",
   "execution_count": 1047,
   "metadata": {},
   "outputs": [
    {
     "data": {
      "image/png": "[encoded data removed]",
      "text/plain": [
       "<Figure size 1080x504 with 1 Axes>"
      ]
     },
     "metadata": {
      "needs_background": "light"
     },
     "output_type": "display_data"
    }
   ],
   "source": [
    "# построим диаграмму распределения значений среднего времени ожидания ответа операторов\n",
    "fig, axes = plt.subplots()\n",
    "ax = sns.histplot(avg_exp['avg_expectation'], bins=50)\n",
    "ax.set_xlabel('Среднее время ожидания ответа оператора', fontsize = '15')\n",
    "ax.set_ylabel('Количество операторов', fontsize = '15')\n",
    "ax.set_title('Распределение среднего времени ожидания ответа операторов', fontsize = '15')    \n",
    "fig.set_figwidth(15)    \n",
    "fig.set_figheight(7)  "
   ]
  },
  {
   "cell_type": "markdown",
   "metadata": {},
   "source": [
    "**Вывод** Проанализировав среднее время ожидания ответа оператора, когда звонок состоялся и когда звонок не состоялся можно прийти к выводу, что с вероятностью выше 90%, если оператор не ответил в течении 41 секунд, то абонент положит трубку. Соответственно мы можем говорить, что операторы, среднее время ожидания ответа которых равно или превышает 41 секунду не могут быть признаны эффективными, поскольку риском их работы будет практически гарантированный пропущенный звонок."
   ]
  },
  {
   "cell_type": "markdown",
   "metadata": {},
   "source": [
    "### Получение сведений о нормальном количестве исходящих звонков"
   ]
  },
  {
   "cell_type": "markdown",
   "metadata": {},
   "source": [
    "Чтобы понять сколько исходящих звонков в день должен совершать оператор, нам необходимо получить сведения о том сколько в среднем тратят операторы на 1 исходящий звонок. Тогда мы сможем расчитать, сколько звонков в день может совершить эффективный оператор с учетом обеда и технических перерывов."
   ]
  },
  {
   "cell_type": "code",
   "execution_count": 1048,
   "metadata": {},
   "outputs": [
    {
     "data": {
      "text/html": [
       "<div>\n",
       "<style scoped>\n",
       "    .dataframe tbody tr th:only-of-type {\n",
       "        vertical-align: middle;\n",
       "    }\n",
       "\n",
       "    .dataframe tbody tr th {\n",
       "        vertical-align: top;\n",
       "    }\n",
       "\n",
       "    .dataframe thead th {\n",
       "        text-align: right;\n",
       "    }\n",
       "</style>\n",
       "<table border=\"1\" class=\"dataframe\">\n",
       "  <thead>\n",
       "    <tr style=\"text-align: right;\">\n",
       "      <th></th>\n",
       "      <th>operator_id</th>\n",
       "      <th>avg_call_duration</th>\n",
       "      <th>avg_expectation</th>\n",
       "      <th>calls_count</th>\n",
       "      <th>date</th>\n",
       "    </tr>\n",
       "  </thead>\n",
       "  <tbody>\n",
       "    <tr>\n",
       "      <th>0</th>\n",
       "      <td>891192</td>\n",
       "      <td>1,306.00</td>\n",
       "      <td>32.00</td>\n",
       "      <td>1</td>\n",
       "      <td>1</td>\n",
       "    </tr>\n",
       "    <tr>\n",
       "      <th>1</th>\n",
       "      <td>918390</td>\n",
       "      <td>484.33</td>\n",
       "      <td>15.21</td>\n",
       "      <td>246</td>\n",
       "      <td>62</td>\n",
       "    </tr>\n",
       "    <tr>\n",
       "      <th>2</th>\n",
       "      <td>910926</td>\n",
       "      <td>446.00</td>\n",
       "      <td>12.29</td>\n",
       "      <td>25</td>\n",
       "      <td>7</td>\n",
       "    </tr>\n",
       "    <tr>\n",
       "      <th>3</th>\n",
       "      <td>891154</td>\n",
       "      <td>443.98</td>\n",
       "      <td>19.28</td>\n",
       "      <td>528</td>\n",
       "      <td>70</td>\n",
       "    </tr>\n",
       "    <tr>\n",
       "      <th>4</th>\n",
       "      <td>909452</td>\n",
       "      <td>424.00</td>\n",
       "      <td>14.00</td>\n",
       "      <td>8</td>\n",
       "      <td>1</td>\n",
       "    </tr>\n",
       "    <tr>\n",
       "      <th>5</th>\n",
       "      <td>890232</td>\n",
       "      <td>409.20</td>\n",
       "      <td>14.73</td>\n",
       "      <td>33</td>\n",
       "      <td>15</td>\n",
       "    </tr>\n",
       "    <tr>\n",
       "      <th>6</th>\n",
       "      <td>969600</td>\n",
       "      <td>407.50</td>\n",
       "      <td>13.50</td>\n",
       "      <td>19</td>\n",
       "      <td>2</td>\n",
       "    </tr>\n",
       "    <tr>\n",
       "      <th>7</th>\n",
       "      <td>910902</td>\n",
       "      <td>393.25</td>\n",
       "      <td>13.12</td>\n",
       "      <td>15</td>\n",
       "      <td>8</td>\n",
       "    </tr>\n",
       "    <tr>\n",
       "      <th>8</th>\n",
       "      <td>930524</td>\n",
       "      <td>377.12</td>\n",
       "      <td>16.12</td>\n",
       "      <td>28</td>\n",
       "      <td>8</td>\n",
       "    </tr>\n",
       "    <tr>\n",
       "      <th>9</th>\n",
       "      <td>897894</td>\n",
       "      <td>372.00</td>\n",
       "      <td>13.20</td>\n",
       "      <td>19</td>\n",
       "      <td>5</td>\n",
       "    </tr>\n",
       "  </tbody>\n",
       "</table>\n",
       "</div>"
      ],
      "text/plain": [
       "   operator_id  avg_call_duration  avg_expectation  calls_count  date\n",
       "0       891192           1,306.00            32.00            1     1\n",
       "1       918390             484.33            15.21          246    62\n",
       "2       910926             446.00            12.29           25     7\n",
       "3       891154             443.98            19.28          528    70\n",
       "4       909452             424.00            14.00            8     1\n",
       "5       890232             409.20            14.73           33    15\n",
       "6       969600             407.50            13.50           19     2\n",
       "7       910902             393.25            13.12           15     8\n",
       "8       930524             377.12            16.12           28     8\n",
       "9       897894             372.00            13.20           19     5"
      ]
     },
     "execution_count": 1048,
     "metadata": {},
     "output_type": "execute_result"
    }
   ],
   "source": [
    "# Сделаем сводную таблицу по операторам и получим средние показатели по времени ожидания ответа абонента, времени разговора\n",
    "# и количеством звонков в день\n",
    "avg_dur = (telecom_dataset.query('user_category == \"out\" & direction == \"out\"')\n",
    "                         .pivot_table(index='operator_id', values=['date', 'calls_count', 'avg_expectation', 'avg_call_duration'], aggfunc={'calls_count': 'sum', 'avg_expectation' : 'mean', 'avg_call_duration':'mean', 'date' : 'nunique'})\n",
    "                         .reset_index().sort_values(by='avg_call_duration', ascending=False)\n",
    "                         .reset_index(drop=True)\n",
    "          )\n",
    "avg_dur.head(10)"
   ]
  },
  {
   "cell_type": "code",
   "execution_count": 1049,
   "metadata": {},
   "outputs": [],
   "source": [
    "avg_dur['avg_calls_count'] = avg_dur['calls_count']/avg_dur['date']"
   ]
  },
  {
   "cell_type": "code",
   "execution_count": 1050,
   "metadata": {},
   "outputs": [
    {
     "data": {
      "text/html": [
       "<div>\n",
       "<style scoped>\n",
       "    .dataframe tbody tr th:only-of-type {\n",
       "        vertical-align: middle;\n",
       "    }\n",
       "\n",
       "    .dataframe tbody tr th {\n",
       "        vertical-align: top;\n",
       "    }\n",
       "\n",
       "    .dataframe thead th {\n",
       "        text-align: right;\n",
       "    }\n",
       "</style>\n",
       "<table border=\"1\" class=\"dataframe\">\n",
       "  <thead>\n",
       "    <tr style=\"text-align: right;\">\n",
       "      <th></th>\n",
       "      <th>operator_id</th>\n",
       "      <th>avg_call_duration</th>\n",
       "      <th>avg_expectation</th>\n",
       "      <th>calls_count</th>\n",
       "      <th>date</th>\n",
       "      <th>avg_calls_count</th>\n",
       "    </tr>\n",
       "  </thead>\n",
       "  <tbody>\n",
       "    <tr>\n",
       "      <th>count</th>\n",
       "      <td>372.00</td>\n",
       "      <td>372.00</td>\n",
       "      <td>372.00</td>\n",
       "      <td>372.00</td>\n",
       "      <td>372.00</td>\n",
       "      <td>372.00</td>\n",
       "    </tr>\n",
       "    <tr>\n",
       "      <th>mean</th>\n",
       "      <td>924,776.70</td>\n",
       "      <td>75.40</td>\n",
       "      <td>15.33</td>\n",
       "      <td>1,161.15</td>\n",
       "      <td>19.13</td>\n",
       "      <td>42.71</td>\n",
       "    </tr>\n",
       "    <tr>\n",
       "      <th>std</th>\n",
       "      <td>53,972.87</td>\n",
       "      <td>101.61</td>\n",
       "      <td>5.85</td>\n",
       "      <td>4,715.39</td>\n",
       "      <td>19.13</td>\n",
       "      <td>92.76</td>\n",
       "    </tr>\n",
       "    <tr>\n",
       "      <th>min</th>\n",
       "      <td>0.00</td>\n",
       "      <td>0.00</td>\n",
       "      <td>0.00</td>\n",
       "      <td>1.00</td>\n",
       "      <td>1.00</td>\n",
       "      <td>1.00</td>\n",
       "    </tr>\n",
       "    <tr>\n",
       "      <th>25%</th>\n",
       "      <td>905,569.00</td>\n",
       "      <td>29.31</td>\n",
       "      <td>12.04</td>\n",
       "      <td>28.00</td>\n",
       "      <td>5.00</td>\n",
       "      <td>4.00</td>\n",
       "    </tr>\n",
       "    <tr>\n",
       "      <th>50%</th>\n",
       "      <td>930,035.00</td>\n",
       "      <td>49.43</td>\n",
       "      <td>15.90</td>\n",
       "      <td>207.50</td>\n",
       "      <td>14.00</td>\n",
       "      <td>13.57</td>\n",
       "    </tr>\n",
       "    <tr>\n",
       "      <th>75%</th>\n",
       "      <td>947,596.50</td>\n",
       "      <td>84.85</td>\n",
       "      <td>18.94</td>\n",
       "      <td>903.75</td>\n",
       "      <td>25.00</td>\n",
       "      <td>44.86</td>\n",
       "    </tr>\n",
       "    <tr>\n",
       "      <th>90%</th>\n",
       "      <td>958,457.80</td>\n",
       "      <td>139.12</td>\n",
       "      <td>21.37</td>\n",
       "      <td>2,306.10</td>\n",
       "      <td>46.00</td>\n",
       "      <td>103.37</td>\n",
       "    </tr>\n",
       "    <tr>\n",
       "      <th>95%</th>\n",
       "      <td>965,538.90</td>\n",
       "      <td>248.42</td>\n",
       "      <td>23.13</td>\n",
       "      <td>3,167.90</td>\n",
       "      <td>62.90</td>\n",
       "      <td>152.09</td>\n",
       "    </tr>\n",
       "    <tr>\n",
       "      <th>99%</th>\n",
       "      <td>972,408.58</td>\n",
       "      <td>429.80</td>\n",
       "      <td>26.89</td>\n",
       "      <td>15,794.56</td>\n",
       "      <td>78.58</td>\n",
       "      <td>636.48</td>\n",
       "    </tr>\n",
       "    <tr>\n",
       "      <th>max</th>\n",
       "      <td>973,120.00</td>\n",
       "      <td>1,306.00</td>\n",
       "      <td>60.00</td>\n",
       "      <td>58,977.00</td>\n",
       "      <td>97.00</td>\n",
       "      <td>816.79</td>\n",
       "    </tr>\n",
       "  </tbody>\n",
       "</table>\n",
       "</div>"
      ],
      "text/plain": [
       "       operator_id  avg_call_duration  avg_expectation  calls_count   date  \\\n",
       "count       372.00             372.00           372.00       372.00 372.00   \n",
       "mean    924,776.70              75.40            15.33     1,161.15  19.13   \n",
       "std      53,972.87             101.61             5.85     4,715.39  19.13   \n",
       "min           0.00               0.00             0.00         1.00   1.00   \n",
       "25%     905,569.00              29.31            12.04        28.00   5.00   \n",
       "50%     930,035.00              49.43            15.90       207.50  14.00   \n",
       "75%     947,596.50              84.85            18.94       903.75  25.00   \n",
       "90%     958,457.80             139.12            21.37     2,306.10  46.00   \n",
       "95%     965,538.90             248.42            23.13     3,167.90  62.90   \n",
       "99%     972,408.58             429.80            26.89    15,794.56  78.58   \n",
       "max     973,120.00           1,306.00            60.00    58,977.00  97.00   \n",
       "\n",
       "       avg_calls_count  \n",
       "count           372.00  \n",
       "mean             42.71  \n",
       "std              92.76  \n",
       "min               1.00  \n",
       "25%               4.00  \n",
       "50%              13.57  \n",
       "75%              44.86  \n",
       "90%             103.37  \n",
       "95%             152.09  \n",
       "99%             636.48  \n",
       "max             816.79  "
      ]
     },
     "execution_count": 1050,
     "metadata": {},
     "output_type": "execute_result"
    }
   ],
   "source": [
    "avg_dur.describe(percentiles=[.25, .75, .9, .95, .99])"
   ]
  },
  {
   "cell_type": "markdown",
   "metadata": {},
   "source": [
    "**Промежуточные выводы** В среднем операторы тратят на 1 исходящий звонок 75 секунд, при этом среднее время ожидания ответа абонента составляет 15 секунд, то есть, учитывая разные ситуации, мы можем предположить, что достаточно логично установить, что на один звонок оператор может тратить 3 минуты. Таким образом, с учетом восьмичасового рабочего дня и наличия обеда и технических перерывов, а также время на звонки, которые не были успешными мы можем говорить о том, что порог в 40 звонков в день является нормальным режимом работы для оператора."
   ]
  },
  {
   "cell_type": "markdown",
   "metadata": {},
   "source": [
    "### Получение сведений о неэффективных операторах"
   ]
  },
  {
   "cell_type": "markdown",
   "metadata": {},
   "source": [
    "Резюмируя разделы выше, я пришел к следующим пороговым значениям по которым мы будем определять неэффективных операторов:\n",
    "\n",
    "По входящим звонкам:\n",
    "- значение пропущенных звонков составляет не более 0,3 пропущенных звонка в день\n",
    "- среднее время ожидания ответа данного оператора составляет больше 40 секунд\n",
    "\n",
    "По исходящим звонкам:\n",
    "- оператор совершает менее 40 звонков в день"
   ]
  },
  {
   "cell_type": "markdown",
   "metadata": {},
   "source": [
    "#### Неэффективные операторы на входящих звонках"
   ]
  },
  {
   "cell_type": "code",
   "execution_count": 1051,
   "metadata": {},
   "outputs": [
    {
     "data": {
      "text/plain": [
       "37"
      ]
     },
     "execution_count": 1051,
     "metadata": {},
     "output_type": "execute_result"
    }
   ],
   "source": [
    "# сделаем список операторов, которые в отчетном периоде пропускали более 0.3 звонков\n",
    "operator_in_not_ef_1 = list(operator_in_ef[operator_in_ef['missed_day'] > 0.3]['operator_id'])\n",
    "len(operator_in_not_ef_1)"
   ]
  },
  {
   "cell_type": "code",
   "execution_count": 1052,
   "metadata": {},
   "outputs": [
    {
     "data": {
      "text/plain": [
       "40"
      ]
     },
     "execution_count": 1052,
     "metadata": {},
     "output_type": "execute_result"
    }
   ],
   "source": [
    "# сделаем список операторов, время ожидания ответа которых в отчетном периоде превышал 40 секунд\n",
    "operator_in_not_ef_2 = list(avg_exp[avg_exp['avg_expectation'] > 40]['operator_id'])\n",
    "len(operator_in_not_ef_2)"
   ]
  },
  {
   "cell_type": "code",
   "execution_count": 1053,
   "metadata": {},
   "outputs": [
    {
     "data": {
      "text/plain": [
       "77"
      ]
     },
     "execution_count": 1053,
     "metadata": {},
     "output_type": "execute_result"
    }
   ],
   "source": [
    "# объединим данные списки и удалим дубликаты, если они есть\n",
    "operator_in_not_ef = list(set(operator_in_not_ef_1 + operator_in_not_ef_2))\n",
    "len(operator_in_not_ef)"
   ]
  },
  {
   "cell_type": "markdown",
   "metadata": {},
   "source": [
    "**Вывод** я получил список из 77 операторов, специализирующихся на входящих звонках, которые не могут быть отнесены к эффективным, в соответствии с предложенными мной метрикми"
   ]
  },
  {
   "cell_type": "markdown",
   "metadata": {},
   "source": [
    "#### Неэффективные операторы на исходящих звонках"
   ]
  },
  {
   "cell_type": "code",
   "execution_count": 1054,
   "metadata": {},
   "outputs": [
    {
     "data": {
      "text/plain": [
       "261"
      ]
     },
     "execution_count": 1054,
     "metadata": {},
     "output_type": "execute_result"
    }
   ],
   "source": [
    "# сделаем список операторов, которые \n",
    "operator_out_not_ef = list(out_done.query('avg_calls_day < 40')['operator_id'])\n",
    "len(operator_out_not_ef)\n"
   ]
  },
  {
   "cell_type": "markdown",
   "metadata": {},
   "source": [
    "**Вывод** в соответствии с проведенным исследованием 261 оператора на исходящих звонках нельзя отнести к категории эффективных"
   ]
  },
  {
   "cell_type": "markdown",
   "metadata": {},
   "source": [
    "#### Объединим списки неэффективных операторов"
   ]
  },
  {
   "cell_type": "code",
   "execution_count": 1055,
   "metadata": {},
   "outputs": [
    {
     "data": {
      "text/plain": [
       "338"
      ]
     },
     "execution_count": 1055,
     "metadata": {},
     "output_type": "execute_result"
    }
   ],
   "source": [
    "operator_not_ef = (operator_in_not_ef + operator_out_not_ef)\n",
    "len(operator_not_ef)"
   ]
  },
  {
   "cell_type": "markdown",
   "metadata": {},
   "source": [
    "#### Сделаем сводную таблицу по колл-центрам с количеством операторов и количеством неэффективных операторов"
   ]
  },
  {
   "cell_type": "code",
   "execution_count": 1056,
   "metadata": {},
   "outputs": [
    {
     "data": {
      "text/html": [
       "<div>\n",
       "<style scoped>\n",
       "    .dataframe tbody tr th:only-of-type {\n",
       "        vertical-align: middle;\n",
       "    }\n",
       "\n",
       "    .dataframe tbody tr th {\n",
       "        vertical-align: top;\n",
       "    }\n",
       "\n",
       "    .dataframe thead th {\n",
       "        text-align: right;\n",
       "    }\n",
       "</style>\n",
       "<table border=\"1\" class=\"dataframe\">\n",
       "  <thead>\n",
       "    <tr style=\"text-align: right;\">\n",
       "      <th></th>\n",
       "      <th>user_id</th>\n",
       "      <th>operator_id</th>\n",
       "    </tr>\n",
       "  </thead>\n",
       "  <tbody>\n",
       "    <tr>\n",
       "      <th>0</th>\n",
       "      <td>168187</td>\n",
       "      <td>51</td>\n",
       "    </tr>\n",
       "    <tr>\n",
       "      <th>1</th>\n",
       "      <td>167626</td>\n",
       "      <td>49</td>\n",
       "    </tr>\n",
       "    <tr>\n",
       "      <th>2</th>\n",
       "      <td>167497</td>\n",
       "      <td>31</td>\n",
       "    </tr>\n",
       "    <tr>\n",
       "      <th>3</th>\n",
       "      <td>168252</td>\n",
       "      <td>29</td>\n",
       "    </tr>\n",
       "    <tr>\n",
       "      <th>4</th>\n",
       "      <td>168062</td>\n",
       "      <td>28</td>\n",
       "    </tr>\n",
       "  </tbody>\n",
       "</table>\n",
       "</div>"
      ],
      "text/plain": [
       "  user_id  operator_id\n",
       "0  168187           51\n",
       "1  167626           49\n",
       "2  167497           31\n",
       "3  168252           29\n",
       "4  168062           28"
      ]
     },
     "execution_count": 1056,
     "metadata": {},
     "output_type": "execute_result"
    }
   ],
   "source": [
    "# сделаем таблицу с количеством операторов в каждом колл-центре, которые работали в исследуемом периоде\n",
    "user_count_operator = (telecom_dataset.pivot_table(index='user_id', values='operator_id', aggfunc='nunique')\n",
    "                                      .reset_index()\n",
    "                                      .sort_values(by='operator_id', ascending=False)\n",
    "                                      .reset_index(drop=True)                                      \n",
    "                      )\n",
    "user_count_operator.head()"
   ]
  },
  {
   "cell_type": "code",
   "execution_count": 1057,
   "metadata": {},
   "outputs": [
    {
     "data": {
      "text/html": [
       "<div>\n",
       "<style scoped>\n",
       "    .dataframe tbody tr th:only-of-type {\n",
       "        vertical-align: middle;\n",
       "    }\n",
       "\n",
       "    .dataframe tbody tr th {\n",
       "        vertical-align: top;\n",
       "    }\n",
       "\n",
       "    .dataframe thead th {\n",
       "        text-align: right;\n",
       "    }\n",
       "</style>\n",
       "<table border=\"1\" class=\"dataframe\">\n",
       "  <thead>\n",
       "    <tr style=\"text-align: right;\">\n",
       "      <th></th>\n",
       "      <th>user_id</th>\n",
       "      <th>operator_id</th>\n",
       "    </tr>\n",
       "  </thead>\n",
       "  <tbody>\n",
       "    <tr>\n",
       "      <th>0</th>\n",
       "      <td>167497</td>\n",
       "      <td>30</td>\n",
       "    </tr>\n",
       "    <tr>\n",
       "      <th>1</th>\n",
       "      <td>166658</td>\n",
       "      <td>16</td>\n",
       "    </tr>\n",
       "    <tr>\n",
       "      <th>2</th>\n",
       "      <td>166680</td>\n",
       "      <td>15</td>\n",
       "    </tr>\n",
       "    <tr>\n",
       "      <th>3</th>\n",
       "      <td>166520</td>\n",
       "      <td>15</td>\n",
       "    </tr>\n",
       "    <tr>\n",
       "      <th>4</th>\n",
       "      <td>168062</td>\n",
       "      <td>13</td>\n",
       "    </tr>\n",
       "  </tbody>\n",
       "</table>\n",
       "</div>"
      ],
      "text/plain": [
       "  user_id  operator_id\n",
       "0  167497           30\n",
       "1  166658           16\n",
       "2  166680           15\n",
       "3  166520           15\n",
       "4  168062           13"
      ]
     },
     "execution_count": 1057,
     "metadata": {},
     "output_type": "execute_result"
    }
   ],
   "source": [
    "# сделаем таблицу с количеством неэффективных операторов в каждом колл-центре, которые работали в исследуемом периоде\n",
    "user_count_operator_not_ef = (telecom_dataset.query('operator_id in @operator_not_ef')\n",
    "                                             .pivot_table(index='user_id', values='operator_id', aggfunc='nunique')\n",
    "                                             .reset_index()\n",
    "                                             .sort_values(by='operator_id', ascending=False)\n",
    "                                             .reset_index(drop=True)\n",
    "                             )\n",
    "user_count_operator_not_ef.head()"
   ]
  },
  {
   "cell_type": "code",
   "execution_count": 1058,
   "metadata": {},
   "outputs": [
    {
     "data": {
      "text/plain": [
       "307"
      ]
     },
     "execution_count": 1058,
     "metadata": {},
     "output_type": "execute_result"
    }
   ],
   "source": [
    "# соединим две таблицы и получим общее число колл-центров\n",
    "user_count_operator = user_count_operator.merge(user_count_operator_not_ef, how = 'left', on='user_id')\n",
    "user_count_operator.columns = ['user_id', 'operator_all', 'operator_not_ef']\n",
    "user_count_operator['operator_ef'] = user_count_operator['operator_all'] - user_count_operator['operator_not_ef']\n",
    "user_count_operator['user_id'].count()"
   ]
  },
  {
   "cell_type": "code",
   "execution_count": 1059,
   "metadata": {},
   "outputs": [
    {
     "data": {
      "text/plain": [
       "97"
      ]
     },
     "execution_count": 1059,
     "metadata": {},
     "output_type": "execute_result"
    }
   ],
   "source": [
    "# получим число колл-центров, в которых работали неэффективные операторы\n",
    "user_count_operator = user_count_operator.sort_values(by='operator_not_ef', ascending=False).reset_index(drop=True)\n",
    "user_count_operator.query('operator_not_ef > 0')['user_id'].count()"
   ]
  },
  {
   "cell_type": "markdown",
   "metadata": {},
   "source": [
    "#### Визуализируем данные"
   ]
  },
  {
   "cell_type": "code",
   "execution_count": 1060,
   "metadata": {},
   "outputs": [
    {
     "data": {
      "image/png": "[encoded data removed]",
      "text/plain": [
       "<Figure size 504x504 with 1 Axes>"
      ]
     },
     "metadata": {},
     "output_type": "display_data"
    }
   ],
   "source": [
    "\n",
    "x=user_count_operator.query('operator_not_ef > 0')['user_id'].count()\n",
    "y=(user_count_operator['user_id'].count() - user_count_operator.query('operator_not_ef > 0')['user_id'].count())\n",
    "# Круговая диаграмма\n",
    "vals = [x, y]\n",
    "labels = [\"Доля КЦ с неэффективными операторами\", \"Доля КЦ с неэффективными операторами\"]\n",
    "fig, ax = plt.subplots()\n",
    "ax.pie(vals, labels=labels, autopct='%1.1f%%')\n",
    "ax.axis(\"equal\")\n",
    "fig.set_size_inches(7,7)\n",
    "ax.set_title('Процентное соотношение колл-центров', fontsize = '15')\n",
    "plt.show()\n",
    "plt.show()"
   ]
  },
  {
   "cell_type": "code",
   "execution_count": 1066,
   "metadata": {},
   "outputs": [
    {
     "data": {
      "image/png": "[encoded data removed]",
      "text/plain": [
       "<Figure size 720x360 with 1 Axes>"
      ]
     },
     "metadata": {
      "needs_background": "light"
     },
     "output_type": "display_data"
    }
   ],
   "source": [
    "# Получим распредение числа неэффективных операторов в колл-центре\n",
    "fig, axes = plt.subplots()\n",
    "ax = sns.histplot(user_count_operator_not_ef.query('operator_id > 0'), bins=20)\n",
    "\n",
    "ax.set_xlabel('Количество неэффективных операторов в одном колл-центре', fontsize = '10')\n",
    "ax.set_ylabel('Количество колл-центров', fontsize = '10')\n",
    "ax.set_title('Неэффективные операторы в колл-центрах', fontsize = '10')    \n",
    "fig.set_figwidth(10)   \n",
    "plt.legend('')\n",
    "fig.set_figheight(5)  "
   ]
  },
  {
   "cell_type": "markdown",
   "metadata": {},
   "source": [
    "### **Выводы**:\n",
    "- по разработанным метрикам эффективности операторов было выявлено 338 операторов, работа которых в исследуемом периоде не может быть признана эффективной, причем основная часть этих операторов, специализируется на исходящих звонках\n",
    "- Доля колл-центров в которых были выявлены неэффективные операторы составляет 32%\n",
    "- наиболее часто встречается, что в колл-центре 1 неэффективный оператор, но также встречаются колл-центры, где количество неэффективных операторов составляет больше 10 человек и даже 29 человек"
   ]
  },
  {
   "cell_type": "markdown",
   "metadata": {},
   "source": [
    "## Проверка статистических гипотез"
   ]
  },
  {
   "cell_type": "markdown",
   "metadata": {},
   "source": [
    "### Гипотеза 1"
   ]
  },
  {
   "cell_type": "markdown",
   "metadata": {},
   "source": [
    "- Нулевая гипотеза - Разница между средними долями принятых звонков, относительно общего количества звонков операторов гибридных колл-центров и колл-центров, специализирующихся на входящих звонках статистически значима\n",
    "- Альтернативная гипотеза - Разница между средними долями принятых звонков, относительно общего количества звонков операторов гибридных колл-центров и колл-центров, специализирующихся на входящих звонках статистически незначительна."
   ]
  },
  {
   "cell_type": "code",
   "execution_count": 1062,
   "metadata": {},
   "outputs": [
    {
     "data": {
      "text/html": [
       "<div>\n",
       "<style scoped>\n",
       "    .dataframe tbody tr th:only-of-type {\n",
       "        vertical-align: middle;\n",
       "    }\n",
       "\n",
       "    .dataframe tbody tr th {\n",
       "        vertical-align: top;\n",
       "    }\n",
       "\n",
       "    .dataframe thead th {\n",
       "        text-align: right;\n",
       "    }\n",
       "</style>\n",
       "<table border=\"1\" class=\"dataframe\">\n",
       "  <thead>\n",
       "    <tr style=\"text-align: right;\">\n",
       "      <th></th>\n",
       "      <th>operator_id</th>\n",
       "      <th>accept</th>\n",
       "      <th>missed</th>\n",
       "      <th>calls_all</th>\n",
       "      <th>share_accept</th>\n",
       "      <th>date</th>\n",
       "      <th>calls_day</th>\n",
       "      <th>missed_day</th>\n",
       "      <th>operator_category</th>\n",
       "    </tr>\n",
       "  </thead>\n",
       "  <tbody>\n",
       "    <tr>\n",
       "      <th>0</th>\n",
       "      <td>913938</td>\n",
       "      <td>4752</td>\n",
       "      <td>14</td>\n",
       "      <td>4766</td>\n",
       "      <td>1.00</td>\n",
       "      <td>65</td>\n",
       "      <td>73.32</td>\n",
       "      <td>0.22</td>\n",
       "      <td>in</td>\n",
       "    </tr>\n",
       "    <tr>\n",
       "      <th>1</th>\n",
       "      <td>952948</td>\n",
       "      <td>3534</td>\n",
       "      <td>8</td>\n",
       "      <td>3542</td>\n",
       "      <td>1.00</td>\n",
       "      <td>26</td>\n",
       "      <td>136.23</td>\n",
       "      <td>0.31</td>\n",
       "      <td>in</td>\n",
       "    </tr>\n",
       "    <tr>\n",
       "      <th>2</th>\n",
       "      <td>893804</td>\n",
       "      <td>2423</td>\n",
       "      <td>10</td>\n",
       "      <td>2433</td>\n",
       "      <td>1.00</td>\n",
       "      <td>93</td>\n",
       "      <td>26.16</td>\n",
       "      <td>0.11</td>\n",
       "      <td>hybrid</td>\n",
       "    </tr>\n",
       "    <tr>\n",
       "      <th>3</th>\n",
       "      <td>913942</td>\n",
       "      <td>2415</td>\n",
       "      <td>52</td>\n",
       "      <td>2467</td>\n",
       "      <td>0.98</td>\n",
       "      <td>57</td>\n",
       "      <td>43.28</td>\n",
       "      <td>0.91</td>\n",
       "      <td>in</td>\n",
       "    </tr>\n",
       "    <tr>\n",
       "      <th>4</th>\n",
       "      <td>921318</td>\n",
       "      <td>2317</td>\n",
       "      <td>6</td>\n",
       "      <td>2323</td>\n",
       "      <td>1.00</td>\n",
       "      <td>45</td>\n",
       "      <td>51.62</td>\n",
       "      <td>0.13</td>\n",
       "      <td>hybrid</td>\n",
       "    </tr>\n",
       "  </tbody>\n",
       "</table>\n",
       "</div>"
      ],
      "text/plain": [
       "   operator_id  accept  missed  calls_all  share_accept  date  calls_day  \\\n",
       "0       913938    4752      14       4766          1.00    65      73.32   \n",
       "1       952948    3534       8       3542          1.00    26     136.23   \n",
       "2       893804    2423      10       2433          1.00    93      26.16   \n",
       "3       913942    2415      52       2467          0.98    57      43.28   \n",
       "4       921318    2317       6       2323          1.00    45      51.62   \n",
       "\n",
       "   missed_day operator_category  \n",
       "0        0.22                in  \n",
       "1        0.31                in  \n",
       "2        0.11            hybrid  \n",
       "3        0.91                in  \n",
       "4        0.13            hybrid  "
      ]
     },
     "execution_count": 1062,
     "metadata": {},
     "output_type": "execute_result"
    }
   ],
   "source": [
    "# добавим к данным о доле принятых входящих звонков сведения о категории оператора\n",
    "operator_in_ef = operator_in_ef.merge(operator_in_out[['operator_id', 'operator_category']], how = 'left', on='operator_id')\n",
    "operator_in_ef.head()"
   ]
  },
  {
   "cell_type": "code",
   "execution_count": 1063,
   "metadata": {},
   "outputs": [
    {
     "name": "stdout",
     "output_type": "stream",
     "text": [
      "p-значение: 0.43075206949330935\n",
      "Не получилось отвергнуть нулевую гипотезу\n"
     ]
    }
   ],
   "source": [
    "# проведем t-test\n",
    "\n",
    "alpha = .05 # критический уровень статистической значимости\n",
    "\n",
    "results = st.ttest_ind(\n",
    "    operator_in_ef.query('operator_category == \"in\"')['share_accept'], \n",
    "    operator_in_ef.query('operator_category == \"hybrid\"')['share_accept'])\n",
    "\n",
    "print('p-значение:', results.pvalue)\n",
    "\n",
    "if results.pvalue < alpha:\n",
    "    print(\"Отвергаем нулевую гипотезу\")\n",
    "else:\n",
    "    print(\"Не получилось отвергнуть нулевую гипотезу\") "
   ]
  },
  {
   "cell_type": "markdown",
   "metadata": {},
   "source": [
    "**Вывод** Разница между средними долями принятых звонков операторами специализирующимися на входящих звонках в колл-центрах, специализирующихся на входящих звонках и колл-центрах гибридного типа статистически незначительна."
   ]
  },
  {
   "cell_type": "markdown",
   "metadata": {},
   "source": [
    "### Гипотеза 2"
   ]
  },
  {
   "cell_type": "markdown",
   "metadata": {},
   "source": [
    "- Нулевая гипотеза - Разница между средними долями успешных исходящих звонков, относительно общего количества звонков операторов гибридных колл-центров и колл-центров, специализирующихся на исходящих звонках статистически значима\n",
    "- Альтернативная гипотеза - Разница между средними долями успешных исходящих звонков, относительно общего количества звонков операторов гибридных колл-центров и колл-центров, специализирующихся на исходящих звонках статистически незначительна"
   ]
  },
  {
   "cell_type": "code",
   "execution_count": 1064,
   "metadata": {},
   "outputs": [
    {
     "data": {
      "text/html": [
       "<div>\n",
       "<style scoped>\n",
       "    .dataframe tbody tr th:only-of-type {\n",
       "        vertical-align: middle;\n",
       "    }\n",
       "\n",
       "    .dataframe tbody tr th {\n",
       "        vertical-align: top;\n",
       "    }\n",
       "\n",
       "    .dataframe thead th {\n",
       "        text-align: right;\n",
       "    }\n",
       "</style>\n",
       "<table border=\"1\" class=\"dataframe\">\n",
       "  <thead>\n",
       "    <tr style=\"text-align: right;\">\n",
       "      <th></th>\n",
       "      <th>operator_id</th>\n",
       "      <th>calls_all</th>\n",
       "      <th>calls_lucky</th>\n",
       "      <th>share_lucky</th>\n",
       "      <th>date</th>\n",
       "      <th>avg_calls_day</th>\n",
       "      <th>operator_category_x</th>\n",
       "      <th>operator_category_y</th>\n",
       "      <th>operator_category</th>\n",
       "    </tr>\n",
       "  </thead>\n",
       "  <tbody>\n",
       "    <tr>\n",
       "      <th>0</th>\n",
       "      <td>885890</td>\n",
       "      <td>58977</td>\n",
       "      <td>35196</td>\n",
       "      <td>0.60</td>\n",
       "      <td>80</td>\n",
       "      <td>737.21</td>\n",
       "      <td>out</td>\n",
       "      <td>out</td>\n",
       "      <td>out</td>\n",
       "    </tr>\n",
       "    <tr>\n",
       "      <th>1</th>\n",
       "      <td>885876</td>\n",
       "      <td>58434</td>\n",
       "      <td>35119</td>\n",
       "      <td>0.60</td>\n",
       "      <td>97</td>\n",
       "      <td>602.41</td>\n",
       "      <td>out</td>\n",
       "      <td>out</td>\n",
       "      <td>out</td>\n",
       "    </tr>\n",
       "    <tr>\n",
       "      <th>2</th>\n",
       "      <td>929428</td>\n",
       "      <td>23754</td>\n",
       "      <td>4636</td>\n",
       "      <td>0.20</td>\n",
       "      <td>33</td>\n",
       "      <td>719.82</td>\n",
       "      <td>out</td>\n",
       "      <td>out</td>\n",
       "      <td>out</td>\n",
       "    </tr>\n",
       "    <tr>\n",
       "      <th>3</th>\n",
       "      <td>925922</td>\n",
       "      <td>19603</td>\n",
       "      <td>10355</td>\n",
       "      <td>0.53</td>\n",
       "      <td>24</td>\n",
       "      <td>816.79</td>\n",
       "      <td>out</td>\n",
       "      <td>out</td>\n",
       "      <td>out</td>\n",
       "    </tr>\n",
       "    <tr>\n",
       "      <th>4</th>\n",
       "      <td>908640</td>\n",
       "      <td>14234</td>\n",
       "      <td>6072</td>\n",
       "      <td>0.43</td>\n",
       "      <td>19</td>\n",
       "      <td>749.16</td>\n",
       "      <td>out</td>\n",
       "      <td>out</td>\n",
       "      <td>out</td>\n",
       "    </tr>\n",
       "  </tbody>\n",
       "</table>\n",
       "</div>"
      ],
      "text/plain": [
       "   operator_id  calls_all  calls_lucky  share_lucky  date  avg_calls_day  \\\n",
       "0       885890      58977        35196         0.60    80         737.21   \n",
       "1       885876      58434        35119         0.60    97         602.41   \n",
       "2       929428      23754         4636         0.20    33         719.82   \n",
       "3       925922      19603        10355         0.53    24         816.79   \n",
       "4       908640      14234         6072         0.43    19         749.16   \n",
       "\n",
       "  operator_category_x operator_category_y operator_category  \n",
       "0                 out                 out               out  \n",
       "1                 out                 out               out  \n",
       "2                 out                 out               out  \n",
       "3                 out                 out               out  \n",
       "4                 out                 out               out  "
      ]
     },
     "execution_count": 1064,
     "metadata": {},
     "output_type": "execute_result"
    }
   ],
   "source": [
    "# добавим к данным о доле успешных звонков сведения о катгеории оператора\n",
    "out_done = out_done.merge(operator_in_out[['operator_id', 'operator_category']], how = 'left', on='operator_id')\n",
    "out_done.head()"
   ]
  },
  {
   "cell_type": "code",
   "execution_count": 1065,
   "metadata": {},
   "outputs": [
    {
     "name": "stdout",
     "output_type": "stream",
     "text": [
      "p-значение: 0.5834143061975764\n",
      "Не получилось отвергнуть нулевую гипотезу\n"
     ]
    }
   ],
   "source": [
    "# проведем t-test\n",
    "\n",
    "alpha = .05 # критический уровень статистической значимости\n",
    "\n",
    "results = st.ttest_ind(\n",
    "    out_done.query('operator_category == \"out\"')['share_lucky'], \n",
    "    out_done.query('operator_category == \"hybrid\"')['share_lucky'])\n",
    "\n",
    "print('p-значение:', results.pvalue)\n",
    "\n",
    "if results.pvalue < alpha:\n",
    "    print(\"Отвергаем нулевую гипотезу\")\n",
    "else:\n",
    "    print(\"Не получилось отвергнуть нулевую гипотезу\") "
   ]
  },
  {
   "cell_type": "markdown",
   "metadata": {},
   "source": [
    "**Вывод** Разница между средними долями успешных звонков операторами специализирующимися на исходящих звонках в колл-центрах, специализирующихся на входящих звонках и колл-центрах гибридного типа статистически незначительна."
   ]
  },
  {
   "cell_type": "markdown",
   "metadata": {},
   "source": [
    "## Общие выводы и рекомендации"
   ]
  },
  {
   "cell_type": "markdown",
   "metadata": {},
   "source": [
    "В рамках проведенного исследования можно сделать следующие выводы:\n",
    "- Доля колл-центров по специфике составляет 44% \"входящие\", 32% \"гибридные\", 24% \"исходящие\"\n",
    "- Доля операторов по специфике составляет 50% \"исходящие\", 29% \"входящие\", 21% \"гибридные\"\n",
    "- Были выработаны следующие метрики эффективности операторов:\n",
    "       - значение пропущенных звонков не должно превышать 0.3 в день\n",
    "       - среднее время ожидания ответа не должно превышать 40 секунд\n",
    "       - ежедневно оператор должен делать не менее 40 исходящих вызовов\n",
    "- Анализ операторов, специализирующихся на исходящих звонках показал, что у нас, что то не так с организацией этого направления бизнеса\n",
    "- Доля колл-центров с неэффективными операторами составляет 32%\n",
    "- По некоторым колл-центрам число неэффективных операторов составляет более 30 человек.\n",
    "- Введение наглядных механизмов визуализации и выявления неэффективных операторов позволит улучшить показатели бизнеса."
   ]
  },
  {
   "cell_type": "code",
   "execution_count": null,
   "metadata": {},
   "outputs": [],
   "source": []
  }
 ],
 "metadata": {
  "ExecuteTimeLog": [
   {
    "duration": 555,
    "start_time": "2022-06-24T19:58:34.952Z"
   },
   {
    "duration": 358,
    "start_time": "2022-06-24T20:00:02.431Z"
   },
   {
    "duration": 98,
    "start_time": "2022-06-24T20:00:43.574Z"
   },
   {
    "duration": 19,
    "start_time": "2022-06-24T20:00:53.461Z"
   },
   {
    "duration": 27,
    "start_time": "2022-06-24T20:18:08.575Z"
   },
   {
    "duration": 20092,
    "start_time": "2022-06-24T20:18:58.270Z"
   },
   {
    "duration": 98,
    "start_time": "2022-06-24T20:20:06.800Z"
   },
   {
    "duration": 2765,
    "start_time": "2022-06-24T20:23:53.537Z"
   },
   {
    "duration": 16,
    "start_time": "2022-06-24T20:23:56.305Z"
   },
   {
    "duration": 0,
    "start_time": "2022-06-24T20:23:56.323Z"
   },
   {
    "duration": 47,
    "start_time": "2022-06-24T20:25:52.154Z"
   },
   {
    "duration": 3878,
    "start_time": "2022-06-24T20:25:53.690Z"
   },
   {
    "duration": 307,
    "start_time": "2022-06-24T20:33:36.187Z"
   },
   {
    "duration": 69,
    "start_time": "2022-06-24T20:33:39.197Z"
   },
   {
    "duration": 49,
    "start_time": "2022-06-24T20:34:19.415Z"
   },
   {
    "duration": 3748,
    "start_time": "2022-06-24T20:34:51.540Z"
   },
   {
    "duration": 107,
    "start_time": "2022-06-24T20:34:57.466Z"
   },
   {
    "duration": 13340,
    "start_time": "2022-06-24T20:43:42.240Z"
   },
   {
    "duration": 13511,
    "start_time": "2022-06-25T10:51:44.315Z"
   },
   {
    "duration": 1968,
    "start_time": "2022-06-25T10:51:57.828Z"
   },
   {
    "duration": 3810,
    "start_time": "2022-06-25T10:51:59.798Z"
   },
   {
    "duration": 11532,
    "start_time": "2022-06-25T10:52:03.610Z"
   },
   {
    "duration": 10,
    "start_time": "2022-06-25T10:52:15.144Z"
   },
   {
    "duration": 14345,
    "start_time": "2022-06-26T07:52:51.687Z"
   },
   {
    "duration": 2035,
    "start_time": "2022-06-26T07:53:06.034Z"
   },
   {
    "duration": 3462,
    "start_time": "2022-06-26T07:53:08.071Z"
   },
   {
    "duration": 11124,
    "start_time": "2022-06-26T07:53:11.535Z"
   },
   {
    "duration": 10,
    "start_time": "2022-06-26T07:53:22.661Z"
   },
   {
    "duration": 54,
    "start_time": "2022-06-28T11:58:47.290Z"
   },
   {
    "duration": 59,
    "start_time": "2022-06-28T17:52:05.973Z"
   },
   {
    "duration": 1332,
    "start_time": "2022-07-08T09:05:20.895Z"
   },
   {
    "duration": 3,
    "start_time": "2022-07-08T09:05:22.229Z"
   },
   {
    "duration": 44,
    "start_time": "2022-07-08T09:05:22.234Z"
   },
   {
    "duration": 226,
    "start_time": "2022-07-08T09:05:22.281Z"
   },
   {
    "duration": 38,
    "start_time": "2022-07-08T09:05:22.509Z"
   },
   {
    "duration": 126,
    "start_time": "2022-07-08T09:05:22.549Z"
   },
   {
    "duration": 47,
    "start_time": "2022-07-08T09:05:22.677Z"
   },
   {
    "duration": 16,
    "start_time": "2022-07-08T09:05:22.726Z"
   },
   {
    "duration": 19,
    "start_time": "2022-07-08T09:05:22.744Z"
   },
   {
    "duration": 249,
    "start_time": "2022-07-08T09:05:22.765Z"
   },
   {
    "duration": 49,
    "start_time": "2022-07-08T09:05:23.016Z"
   },
   {
    "duration": 19,
    "start_time": "2022-07-08T09:05:23.066Z"
   },
   {
    "duration": 14,
    "start_time": "2022-07-08T09:05:23.087Z"
   },
   {
    "duration": 21,
    "start_time": "2022-07-08T09:05:23.124Z"
   },
   {
    "duration": 18,
    "start_time": "2022-07-08T09:05:23.147Z"
   },
   {
    "duration": 21,
    "start_time": "2022-07-08T09:05:23.167Z"
   },
   {
    "duration": 36,
    "start_time": "2022-07-08T09:05:23.189Z"
   },
   {
    "duration": 25,
    "start_time": "2022-07-08T09:05:23.227Z"
   },
   {
    "duration": 15,
    "start_time": "2022-07-08T09:05:23.254Z"
   },
   {
    "duration": 16,
    "start_time": "2022-07-08T09:05:23.271Z"
   },
   {
    "duration": 15,
    "start_time": "2022-07-08T09:05:23.291Z"
   },
   {
    "duration": 17,
    "start_time": "2022-07-08T09:05:23.323Z"
   },
   {
    "duration": 278,
    "start_time": "2022-07-08T09:05:23.343Z"
   },
   {
    "duration": 8,
    "start_time": "2022-07-08T09:05:23.624Z"
   },
   {
    "duration": 20,
    "start_time": "2022-07-08T09:05:23.634Z"
   },
   {
    "duration": 9,
    "start_time": "2022-07-08T09:05:23.656Z"
   },
   {
    "duration": 62,
    "start_time": "2022-07-08T09:05:23.667Z"
   },
   {
    "duration": 28,
    "start_time": "2022-07-08T09:05:23.732Z"
   },
   {
    "duration": 41,
    "start_time": "2022-07-08T09:05:23.762Z"
   },
   {
    "duration": 19,
    "start_time": "2022-07-08T09:05:23.805Z"
   },
   {
    "duration": 9,
    "start_time": "2022-07-08T09:05:23.826Z"
   },
   {
    "duration": 10,
    "start_time": "2022-07-08T09:05:23.836Z"
   },
   {
    "duration": 33,
    "start_time": "2022-07-08T09:05:23.848Z"
   },
   {
    "duration": 17,
    "start_time": "2022-07-08T09:05:23.883Z"
   },
   {
    "duration": 3,
    "start_time": "2022-07-08T09:05:23.902Z"
   },
   {
    "duration": 23,
    "start_time": "2022-07-08T09:05:23.907Z"
   },
   {
    "duration": 19,
    "start_time": "2022-07-08T09:05:23.932Z"
   },
   {
    "duration": 344,
    "start_time": "2022-07-08T09:05:23.953Z"
   },
   {
    "duration": 114,
    "start_time": "2022-07-08T09:05:24.299Z"
   },
   {
    "duration": 31,
    "start_time": "2022-07-08T09:05:24.415Z"
   },
   {
    "duration": 3,
    "start_time": "2022-07-08T09:05:24.452Z"
   },
   {
    "duration": 7,
    "start_time": "2022-07-08T09:05:24.457Z"
   },
   {
    "duration": 8,
    "start_time": "2022-07-08T09:05:24.466Z"
   },
   {
    "duration": 9,
    "start_time": "2022-07-08T09:05:24.476Z"
   },
   {
    "duration": 15,
    "start_time": "2022-07-08T09:05:24.487Z"
   },
   {
    "duration": 41,
    "start_time": "2022-07-08T09:05:24.503Z"
   },
   {
    "duration": 19,
    "start_time": "2022-07-08T09:05:24.546Z"
   },
   {
    "duration": 292,
    "start_time": "2022-07-08T09:05:24.567Z"
   },
   {
    "duration": 121,
    "start_time": "2022-07-08T09:05:24.860Z"
   },
   {
    "duration": 14,
    "start_time": "2022-07-08T09:05:24.982Z"
   },
   {
    "duration": 31,
    "start_time": "2022-07-08T09:05:24.998Z"
   },
   {
    "duration": 6,
    "start_time": "2022-07-08T09:05:25.031Z"
   },
   {
    "duration": 32,
    "start_time": "2022-07-08T09:05:25.039Z"
   },
   {
    "duration": 50,
    "start_time": "2022-07-08T09:05:25.073Z"
   },
   {
    "duration": 23,
    "start_time": "2022-07-08T09:05:25.125Z"
   },
   {
    "duration": 19,
    "start_time": "2022-07-08T09:05:25.150Z"
   },
   {
    "duration": 32,
    "start_time": "2022-07-08T09:05:25.172Z"
   },
   {
    "duration": 40,
    "start_time": "2022-07-08T09:05:25.206Z"
   },
   {
    "duration": 9,
    "start_time": "2022-07-08T09:05:25.248Z"
   },
   {
    "duration": 244,
    "start_time": "2022-07-08T09:05:25.259Z"
   },
   {
    "duration": 29,
    "start_time": "2022-07-08T09:05:25.505Z"
   },
   {
    "duration": 27,
    "start_time": "2022-07-08T09:05:25.536Z"
   },
   {
    "duration": 425,
    "start_time": "2022-07-08T09:05:25.565Z"
   },
   {
    "duration": 76,
    "start_time": "2022-07-08T09:05:25.992Z"
   },
   {
    "duration": 255,
    "start_time": "2022-07-08T09:05:26.070Z"
   },
   {
    "duration": 16,
    "start_time": "2022-07-08T09:05:26.328Z"
   },
   {
    "duration": 17,
    "start_time": "2022-07-08T09:05:26.348Z"
   },
   {
    "duration": 27,
    "start_time": "2022-07-08T09:05:26.366Z"
   },
   {
    "duration": 15,
    "start_time": "2022-07-08T09:05:26.397Z"
   },
   {
    "duration": 70,
    "start_time": "2022-07-08T09:16:37.669Z"
   },
   {
    "duration": 9,
    "start_time": "2022-07-08T16:37:06.909Z"
   },
   {
    "duration": 48,
    "start_time": "2022-07-08T16:37:10.889Z"
   },
   {
    "duration": 1516,
    "start_time": "2022-07-08T16:37:16.620Z"
   },
   {
    "duration": 4,
    "start_time": "2022-07-08T16:37:18.138Z"
   },
   {
    "duration": 200,
    "start_time": "2022-07-08T16:37:18.144Z"
   },
   {
    "duration": 250,
    "start_time": "2022-07-08T16:37:18.346Z"
   },
   {
    "duration": 41,
    "start_time": "2022-07-08T16:37:18.598Z"
   },
   {
    "duration": 144,
    "start_time": "2022-07-08T16:37:18.641Z"
   },
   {
    "duration": 44,
    "start_time": "2022-07-08T16:37:18.787Z"
   },
   {
    "duration": 16,
    "start_time": "2022-07-08T16:37:18.832Z"
   },
   {
    "duration": 14,
    "start_time": "2022-07-08T16:37:18.850Z"
   },
   {
    "duration": 261,
    "start_time": "2022-07-08T16:37:18.866Z"
   },
   {
    "duration": 33,
    "start_time": "2022-07-08T16:37:19.129Z"
   },
   {
    "duration": 15,
    "start_time": "2022-07-08T16:37:19.164Z"
   },
   {
    "duration": 32,
    "start_time": "2022-07-08T16:37:19.181Z"
   },
   {
    "duration": 16,
    "start_time": "2022-07-08T16:37:19.216Z"
   },
   {
    "duration": 15,
    "start_time": "2022-07-08T16:37:19.234Z"
   },
   {
    "duration": 15,
    "start_time": "2022-07-08T16:37:19.251Z"
   },
   {
    "duration": 36,
    "start_time": "2022-07-08T16:37:19.268Z"
   },
   {
    "duration": 39,
    "start_time": "2022-07-08T16:37:19.306Z"
   },
   {
    "duration": 11,
    "start_time": "2022-07-08T16:37:19.346Z"
   },
   {
    "duration": 42,
    "start_time": "2022-07-08T16:37:19.358Z"
   },
   {
    "duration": 33,
    "start_time": "2022-07-08T16:37:19.402Z"
   },
   {
    "duration": 28,
    "start_time": "2022-07-08T16:37:19.437Z"
   },
   {
    "duration": 269,
    "start_time": "2022-07-08T16:37:19.466Z"
   },
   {
    "duration": 7,
    "start_time": "2022-07-08T16:37:19.736Z"
   },
   {
    "duration": 20,
    "start_time": "2022-07-08T16:37:19.744Z"
   },
   {
    "duration": 23,
    "start_time": "2022-07-08T16:37:19.766Z"
   },
   {
    "duration": 43,
    "start_time": "2022-07-08T16:37:19.791Z"
   },
   {
    "duration": 19,
    "start_time": "2022-07-08T16:37:19.836Z"
   },
   {
    "duration": 37,
    "start_time": "2022-07-08T16:37:19.857Z"
   },
   {
    "duration": 106,
    "start_time": "2022-07-08T16:37:19.904Z"
   },
   {
    "duration": 35,
    "start_time": "2022-07-08T16:37:20.011Z"
   },
   {
    "duration": 9,
    "start_time": "2022-07-08T16:37:20.048Z"
   },
   {
    "duration": 9,
    "start_time": "2022-07-08T16:37:20.059Z"
   },
   {
    "duration": 20,
    "start_time": "2022-07-08T16:37:20.070Z"
   },
   {
    "duration": 8,
    "start_time": "2022-07-08T16:37:20.092Z"
   },
   {
    "duration": 27,
    "start_time": "2022-07-08T16:37:20.102Z"
   },
   {
    "duration": 24,
    "start_time": "2022-07-08T16:37:20.132Z"
   },
   {
    "duration": 300,
    "start_time": "2022-07-08T16:37:20.158Z"
   },
   {
    "duration": 124,
    "start_time": "2022-07-08T16:37:20.459Z"
   },
   {
    "duration": 35,
    "start_time": "2022-07-08T16:37:20.585Z"
   },
   {
    "duration": 3,
    "start_time": "2022-07-08T16:37:20.624Z"
   },
   {
    "duration": 8,
    "start_time": "2022-07-08T16:37:20.629Z"
   },
   {
    "duration": 16,
    "start_time": "2022-07-08T16:37:20.639Z"
   },
   {
    "duration": 9,
    "start_time": "2022-07-08T16:37:20.657Z"
   },
   {
    "duration": 23,
    "start_time": "2022-07-08T16:37:20.667Z"
   },
   {
    "duration": 13,
    "start_time": "2022-07-08T16:37:20.692Z"
   },
   {
    "duration": 20,
    "start_time": "2022-07-08T16:37:20.706Z"
   },
   {
    "duration": 278,
    "start_time": "2022-07-08T16:37:20.728Z"
   },
   {
    "duration": 119,
    "start_time": "2022-07-08T16:37:21.008Z"
   },
   {
    "duration": 15,
    "start_time": "2022-07-08T16:37:21.129Z"
   },
   {
    "duration": 15,
    "start_time": "2022-07-08T16:37:21.146Z"
   },
   {
    "duration": 5,
    "start_time": "2022-07-08T16:37:21.163Z"
   },
   {
    "duration": 35,
    "start_time": "2022-07-08T16:37:21.170Z"
   },
   {
    "duration": 40,
    "start_time": "2022-07-08T16:37:21.208Z"
   },
   {
    "duration": 21,
    "start_time": "2022-07-08T16:37:21.250Z"
   },
   {
    "duration": 41,
    "start_time": "2022-07-08T16:37:21.273Z"
   },
   {
    "duration": 28,
    "start_time": "2022-07-08T16:37:21.316Z"
   },
   {
    "duration": 21,
    "start_time": "2022-07-08T16:37:21.345Z"
   },
   {
    "duration": 8,
    "start_time": "2022-07-08T16:37:21.367Z"
   },
   {
    "duration": 268,
    "start_time": "2022-07-08T16:37:21.376Z"
   },
   {
    "duration": 17,
    "start_time": "2022-07-08T16:37:21.646Z"
   },
   {
    "duration": 17,
    "start_time": "2022-07-08T16:37:21.665Z"
   },
   {
    "duration": 721,
    "start_time": "2022-07-08T16:37:21.683Z"
   },
   {
    "duration": 122,
    "start_time": "2022-07-08T16:37:22.406Z"
   },
   {
    "duration": 494,
    "start_time": "2022-07-08T16:37:22.530Z"
   },
   {
    "duration": 17,
    "start_time": "2022-07-08T16:37:23.026Z"
   },
   {
    "duration": 68,
    "start_time": "2022-07-08T16:37:23.044Z"
   },
   {
    "duration": 14,
    "start_time": "2022-07-08T16:37:23.114Z"
   },
   {
    "duration": 16,
    "start_time": "2022-07-08T16:37:23.130Z"
   },
   {
    "duration": 4,
    "start_time": "2022-07-08T16:38:32.888Z"
   },
   {
    "duration": 7,
    "start_time": "2022-07-08T16:38:32.894Z"
   },
   {
    "duration": 80,
    "start_time": "2022-07-08T16:38:32.903Z"
   },
   {
    "duration": 593,
    "start_time": "2022-07-08T16:38:32.985Z"
   },
   {
    "duration": 31,
    "start_time": "2022-07-08T16:38:33.580Z"
   },
   {
    "duration": 99,
    "start_time": "2022-07-08T16:38:33.613Z"
   },
   {
    "duration": 29,
    "start_time": "2022-07-08T16:38:33.714Z"
   },
   {
    "duration": 15,
    "start_time": "2022-07-08T16:38:33.745Z"
   },
   {
    "duration": 14,
    "start_time": "2022-07-08T16:38:33.761Z"
   },
   {
    "duration": 242,
    "start_time": "2022-07-08T16:38:33.803Z"
   },
   {
    "duration": 33,
    "start_time": "2022-07-08T16:38:34.046Z"
   },
   {
    "duration": 29,
    "start_time": "2022-07-08T16:38:34.081Z"
   },
   {
    "duration": 12,
    "start_time": "2022-07-08T16:38:34.112Z"
   },
   {
    "duration": 18,
    "start_time": "2022-07-08T16:38:34.127Z"
   },
   {
    "duration": 17,
    "start_time": "2022-07-08T16:38:34.147Z"
   },
   {
    "duration": 48,
    "start_time": "2022-07-08T16:38:34.166Z"
   },
   {
    "duration": 5,
    "start_time": "2022-07-08T16:38:34.215Z"
   },
   {
    "duration": 16,
    "start_time": "2022-07-08T16:38:34.222Z"
   },
   {
    "duration": 7,
    "start_time": "2022-07-08T16:38:34.240Z"
   },
   {
    "duration": 12,
    "start_time": "2022-07-08T16:38:34.248Z"
   },
   {
    "duration": 45,
    "start_time": "2022-07-08T16:38:34.262Z"
   },
   {
    "duration": 14,
    "start_time": "2022-07-08T16:38:34.309Z"
   },
   {
    "duration": 256,
    "start_time": "2022-07-08T16:38:34.325Z"
   },
   {
    "duration": 6,
    "start_time": "2022-07-08T16:38:34.583Z"
   },
   {
    "duration": 24,
    "start_time": "2022-07-08T16:38:34.590Z"
   },
   {
    "duration": 7,
    "start_time": "2022-07-08T16:38:34.615Z"
   },
   {
    "duration": 38,
    "start_time": "2022-07-08T16:38:34.623Z"
   },
   {
    "duration": 40,
    "start_time": "2022-07-08T16:38:34.664Z"
   },
   {
    "duration": 32,
    "start_time": "2022-07-08T16:38:34.706Z"
   },
   {
    "duration": 4,
    "start_time": "2022-07-08T16:38:34.739Z"
   },
   {
    "duration": 17,
    "start_time": "2022-07-08T16:38:34.745Z"
   },
   {
    "duration": 12,
    "start_time": "2022-07-08T16:38:34.764Z"
   },
   {
    "duration": 6,
    "start_time": "2022-07-08T16:38:34.777Z"
   },
   {
    "duration": 25,
    "start_time": "2022-07-08T16:38:34.784Z"
   },
   {
    "duration": 3,
    "start_time": "2022-07-08T16:38:34.811Z"
   },
   {
    "duration": 15,
    "start_time": "2022-07-08T16:38:34.816Z"
   },
   {
    "duration": 20,
    "start_time": "2022-07-08T16:38:34.833Z"
   },
   {
    "duration": 300,
    "start_time": "2022-07-08T16:38:34.855Z"
   },
   {
    "duration": 135,
    "start_time": "2022-07-08T16:38:35.157Z"
   },
   {
    "duration": 43,
    "start_time": "2022-07-08T16:38:35.294Z"
   },
   {
    "duration": 4,
    "start_time": "2022-07-08T16:38:35.339Z"
   },
   {
    "duration": 32,
    "start_time": "2022-07-08T16:38:35.345Z"
   },
   {
    "duration": 20,
    "start_time": "2022-07-08T16:38:35.378Z"
   },
   {
    "duration": 27,
    "start_time": "2022-07-08T16:38:35.401Z"
   },
   {
    "duration": 18,
    "start_time": "2022-07-08T16:38:35.429Z"
   },
   {
    "duration": 25,
    "start_time": "2022-07-08T16:38:35.449Z"
   },
   {
    "duration": 16,
    "start_time": "2022-07-08T16:38:35.476Z"
   },
   {
    "duration": 246,
    "start_time": "2022-07-08T16:38:35.494Z"
   },
   {
    "duration": 123,
    "start_time": "2022-07-08T16:38:35.742Z"
   },
   {
    "duration": 14,
    "start_time": "2022-07-08T16:38:35.867Z"
   },
   {
    "duration": 25,
    "start_time": "2022-07-08T16:38:35.883Z"
   },
   {
    "duration": 6,
    "start_time": "2022-07-08T16:38:35.910Z"
   },
   {
    "duration": 17,
    "start_time": "2022-07-08T16:38:35.918Z"
   },
   {
    "duration": 37,
    "start_time": "2022-07-08T16:38:35.937Z"
   },
   {
    "duration": 46,
    "start_time": "2022-07-08T16:38:35.975Z"
   },
   {
    "duration": 17,
    "start_time": "2022-07-08T16:38:36.023Z"
   },
   {
    "duration": 29,
    "start_time": "2022-07-08T16:38:36.042Z"
   },
   {
    "duration": 49,
    "start_time": "2022-07-08T16:38:36.072Z"
   },
   {
    "duration": 8,
    "start_time": "2022-07-08T16:38:36.123Z"
   },
   {
    "duration": 266,
    "start_time": "2022-07-08T16:38:36.134Z"
   },
   {
    "duration": 17,
    "start_time": "2022-07-08T16:38:36.404Z"
   },
   {
    "duration": 19,
    "start_time": "2022-07-08T16:38:36.423Z"
   },
   {
    "duration": 510,
    "start_time": "2022-07-08T16:38:36.444Z"
   },
   {
    "duration": 64,
    "start_time": "2022-07-08T16:38:36.955Z"
   },
   {
    "duration": 232,
    "start_time": "2022-07-08T16:38:37.021Z"
   },
   {
    "duration": 16,
    "start_time": "2022-07-08T16:38:37.255Z"
   },
   {
    "duration": 33,
    "start_time": "2022-07-08T16:38:37.273Z"
   },
   {
    "duration": 14,
    "start_time": "2022-07-08T16:38:37.309Z"
   },
   {
    "duration": 10,
    "start_time": "2022-07-08T16:38:37.325Z"
   },
   {
    "duration": 8,
    "start_time": "2022-07-08T16:39:05.501Z"
   },
   {
    "duration": 15,
    "start_time": "2022-07-08T16:59:10.454Z"
   },
   {
    "duration": 5,
    "start_time": "2022-07-08T17:00:15.875Z"
   },
   {
    "duration": 12,
    "start_time": "2022-07-08T17:01:46.803Z"
   },
   {
    "duration": 4,
    "start_time": "2022-07-08T17:06:42.425Z"
   },
   {
    "duration": 7,
    "start_time": "2022-07-08T17:06:42.431Z"
   },
   {
    "duration": 84,
    "start_time": "2022-07-08T17:06:42.439Z"
   },
   {
    "duration": 233,
    "start_time": "2022-07-08T17:06:42.525Z"
   },
   {
    "duration": 26,
    "start_time": "2022-07-08T17:06:42.759Z"
   },
   {
    "duration": 79,
    "start_time": "2022-07-08T17:06:42.787Z"
   },
   {
    "duration": 50,
    "start_time": "2022-07-08T17:06:42.867Z"
   },
   {
    "duration": 14,
    "start_time": "2022-07-08T17:06:42.919Z"
   },
   {
    "duration": 14,
    "start_time": "2022-07-08T17:06:42.934Z"
   },
   {
    "duration": 232,
    "start_time": "2022-07-08T17:06:42.950Z"
   },
   {
    "duration": 34,
    "start_time": "2022-07-08T17:06:43.184Z"
   },
   {
    "duration": 14,
    "start_time": "2022-07-08T17:06:43.220Z"
   },
   {
    "duration": 10,
    "start_time": "2022-07-08T17:06:43.236Z"
   },
   {
    "duration": 15,
    "start_time": "2022-07-08T17:06:43.247Z"
   },
   {
    "duration": 44,
    "start_time": "2022-07-08T17:06:43.263Z"
   },
   {
    "duration": 11,
    "start_time": "2022-07-08T17:06:43.308Z"
   },
   {
    "duration": 6,
    "start_time": "2022-07-08T17:06:43.320Z"
   },
   {
    "duration": 14,
    "start_time": "2022-07-08T17:06:43.328Z"
   },
   {
    "duration": 7,
    "start_time": "2022-07-08T17:06:43.344Z"
   },
   {
    "duration": 9,
    "start_time": "2022-07-08T17:06:43.353Z"
   },
   {
    "duration": 43,
    "start_time": "2022-07-08T17:06:43.364Z"
   },
   {
    "duration": 14,
    "start_time": "2022-07-08T17:06:43.409Z"
   },
   {
    "duration": 239,
    "start_time": "2022-07-08T17:06:43.425Z"
   },
   {
    "duration": 7,
    "start_time": "2022-07-08T17:06:43.665Z"
   },
   {
    "duration": 13,
    "start_time": "2022-07-08T17:06:43.673Z"
   },
   {
    "duration": 18,
    "start_time": "2022-07-08T17:06:43.687Z"
   },
   {
    "duration": 34,
    "start_time": "2022-07-08T17:06:43.707Z"
   },
   {
    "duration": 19,
    "start_time": "2022-07-08T17:06:43.746Z"
   },
   {
    "duration": 59,
    "start_time": "2022-07-08T17:06:43.767Z"
   },
   {
    "duration": 3,
    "start_time": "2022-07-08T17:06:43.828Z"
   },
   {
    "duration": 10,
    "start_time": "2022-07-08T17:06:43.832Z"
   },
   {
    "duration": 7,
    "start_time": "2022-07-08T17:06:43.844Z"
   },
   {
    "duration": 9,
    "start_time": "2022-07-08T17:06:43.852Z"
   },
   {
    "duration": 15,
    "start_time": "2022-07-08T17:06:43.862Z"
   },
   {
    "duration": 6,
    "start_time": "2022-07-08T17:06:43.878Z"
   },
   {
    "duration": 20,
    "start_time": "2022-07-08T17:06:43.886Z"
   },
   {
    "duration": 14,
    "start_time": "2022-07-08T17:06:43.908Z"
   },
   {
    "duration": 226,
    "start_time": "2022-07-08T17:06:43.924Z"
   },
   {
    "duration": 129,
    "start_time": "2022-07-08T17:06:44.152Z"
   },
   {
    "duration": 37,
    "start_time": "2022-07-08T17:06:44.282Z"
   },
   {
    "duration": 3,
    "start_time": "2022-07-08T17:06:44.321Z"
   },
   {
    "duration": 8,
    "start_time": "2022-07-08T17:06:44.326Z"
   },
   {
    "duration": 6,
    "start_time": "2022-07-08T17:06:44.335Z"
   },
   {
    "duration": 6,
    "start_time": "2022-07-08T17:06:44.342Z"
   },
   {
    "duration": 13,
    "start_time": "2022-07-08T17:06:44.349Z"
   },
   {
    "duration": 12,
    "start_time": "2022-07-08T17:06:44.364Z"
   },
   {
    "duration": 37,
    "start_time": "2022-07-08T17:06:44.377Z"
   },
   {
    "duration": 224,
    "start_time": "2022-07-08T17:06:44.416Z"
   },
   {
    "duration": 126,
    "start_time": "2022-07-08T17:06:44.642Z"
   },
   {
    "duration": 16,
    "start_time": "2022-07-08T17:06:44.769Z"
   },
   {
    "duration": 23,
    "start_time": "2022-07-08T17:06:44.786Z"
   },
   {
    "duration": 5,
    "start_time": "2022-07-08T17:06:44.811Z"
   },
   {
    "duration": 15,
    "start_time": "2022-07-08T17:06:44.818Z"
   },
   {
    "duration": 34,
    "start_time": "2022-07-08T17:06:44.835Z"
   },
   {
    "duration": 41,
    "start_time": "2022-07-08T17:06:44.871Z"
   },
   {
    "duration": 17,
    "start_time": "2022-07-08T17:06:44.914Z"
   },
   {
    "duration": 27,
    "start_time": "2022-07-08T17:06:44.933Z"
   },
   {
    "duration": 43,
    "start_time": "2022-07-08T17:06:44.962Z"
   },
   {
    "duration": 8,
    "start_time": "2022-07-08T17:06:45.006Z"
   },
   {
    "duration": 257,
    "start_time": "2022-07-08T17:06:45.016Z"
   },
   {
    "duration": 15,
    "start_time": "2022-07-08T17:06:45.275Z"
   },
   {
    "duration": 24,
    "start_time": "2022-07-08T17:06:45.292Z"
   },
   {
    "duration": 429,
    "start_time": "2022-07-08T17:06:45.319Z"
   },
   {
    "duration": 73,
    "start_time": "2022-07-08T17:06:45.749Z"
   },
   {
    "duration": 493,
    "start_time": "2022-07-08T17:06:45.823Z"
   },
   {
    "duration": 20,
    "start_time": "2022-07-08T17:06:46.318Z"
   },
   {
    "duration": 71,
    "start_time": "2022-07-08T17:06:46.341Z"
   },
   {
    "duration": 12,
    "start_time": "2022-07-08T17:06:46.414Z"
   },
   {
    "duration": 10,
    "start_time": "2022-07-08T17:06:46.428Z"
   },
   {
    "duration": 13,
    "start_time": "2022-07-08T17:28:56.715Z"
   },
   {
    "duration": 270,
    "start_time": "2022-07-08T18:55:30.371Z"
   },
   {
    "duration": 255,
    "start_time": "2022-07-08T18:56:30.552Z"
   },
   {
    "duration": 251,
    "start_time": "2022-07-08T18:58:44.400Z"
   },
   {
    "duration": 207,
    "start_time": "2022-07-08T18:59:36.118Z"
   },
   {
    "duration": 260,
    "start_time": "2022-07-08T18:59:46.433Z"
   },
   {
    "duration": 240,
    "start_time": "2022-07-08T19:00:01.596Z"
   },
   {
    "duration": 246,
    "start_time": "2022-07-08T19:00:14.697Z"
   },
   {
    "duration": 260,
    "start_time": "2022-07-08T19:00:21.692Z"
   },
   {
    "duration": 20,
    "start_time": "2022-07-08T19:19:10.254Z"
   },
   {
    "duration": 34,
    "start_time": "2022-07-08T19:19:22.864Z"
   },
   {
    "duration": 32,
    "start_time": "2022-07-08T19:23:01.853Z"
   },
   {
    "duration": 12,
    "start_time": "2022-07-08T19:58:45.584Z"
   },
   {
    "duration": 12,
    "start_time": "2022-07-08T19:59:07.216Z"
   },
   {
    "duration": 15,
    "start_time": "2022-07-08T19:59:48.085Z"
   },
   {
    "duration": 11,
    "start_time": "2022-07-08T20:01:06.047Z"
   },
   {
    "duration": 14,
    "start_time": "2022-07-08T20:14:28.143Z"
   },
   {
    "duration": 357,
    "start_time": "2022-07-08T20:37:28.582Z"
   },
   {
    "duration": 324,
    "start_time": "2022-07-08T20:38:24.776Z"
   },
   {
    "duration": 232,
    "start_time": "2022-07-08T20:38:42.310Z"
   },
   {
    "duration": 240,
    "start_time": "2022-07-08T20:39:02.162Z"
   },
   {
    "duration": 7,
    "start_time": "2022-07-08T20:56:13.461Z"
   },
   {
    "duration": 17,
    "start_time": "2022-07-08T20:56:24.300Z"
   },
   {
    "duration": 3,
    "start_time": "2022-07-08T20:56:50.117Z"
   },
   {
    "duration": 26,
    "start_time": "2022-07-08T20:56:50.122Z"
   },
   {
    "duration": 90,
    "start_time": "2022-07-08T20:56:50.150Z"
   },
   {
    "duration": 204,
    "start_time": "2022-07-08T20:56:50.242Z"
   },
   {
    "duration": 30,
    "start_time": "2022-07-08T20:56:50.448Z"
   },
   {
    "duration": 83,
    "start_time": "2022-07-08T20:56:50.479Z"
   },
   {
    "duration": 43,
    "start_time": "2022-07-08T20:56:50.563Z"
   },
   {
    "duration": 14,
    "start_time": "2022-07-08T20:56:50.608Z"
   },
   {
    "duration": 13,
    "start_time": "2022-07-08T20:56:50.624Z"
   },
   {
    "duration": 234,
    "start_time": "2022-07-08T20:56:50.639Z"
   },
   {
    "duration": 39,
    "start_time": "2022-07-08T20:56:50.876Z"
   },
   {
    "duration": 16,
    "start_time": "2022-07-08T20:56:50.916Z"
   },
   {
    "duration": 11,
    "start_time": "2022-07-08T20:56:50.934Z"
   },
   {
    "duration": 15,
    "start_time": "2022-07-08T20:56:50.947Z"
   },
   {
    "duration": 45,
    "start_time": "2022-07-08T20:56:50.964Z"
   },
   {
    "duration": 23,
    "start_time": "2022-07-08T20:56:51.011Z"
   },
   {
    "duration": 7,
    "start_time": "2022-07-08T20:56:51.036Z"
   },
   {
    "duration": 16,
    "start_time": "2022-07-08T20:56:51.045Z"
   },
   {
    "duration": 9,
    "start_time": "2022-07-08T20:56:51.063Z"
   },
   {
    "duration": 35,
    "start_time": "2022-07-08T20:56:51.074Z"
   },
   {
    "duration": 15,
    "start_time": "2022-07-08T20:56:51.111Z"
   },
   {
    "duration": 29,
    "start_time": "2022-07-08T20:56:51.128Z"
   },
   {
    "duration": 229,
    "start_time": "2022-07-08T20:56:51.159Z"
   },
   {
    "duration": 14,
    "start_time": "2022-07-08T20:56:51.390Z"
   },
   {
    "duration": 33,
    "start_time": "2022-07-08T20:56:51.406Z"
   },
   {
    "duration": 5,
    "start_time": "2022-07-08T20:56:51.441Z"
   },
   {
    "duration": 57,
    "start_time": "2022-07-08T20:56:51.448Z"
   },
   {
    "duration": 17,
    "start_time": "2022-07-08T20:56:51.511Z"
   },
   {
    "duration": 122,
    "start_time": "2022-07-08T20:56:51.530Z"
   },
   {
    "duration": 2,
    "start_time": "2022-07-08T20:56:51.654Z"
   },
   {
    "duration": 10,
    "start_time": "2022-07-08T20:56:51.658Z"
   },
   {
    "duration": 8,
    "start_time": "2022-07-08T20:56:51.669Z"
   },
   {
    "duration": 7,
    "start_time": "2022-07-08T20:56:51.679Z"
   },
   {
    "duration": 16,
    "start_time": "2022-07-08T20:56:51.687Z"
   },
   {
    "duration": 2,
    "start_time": "2022-07-08T20:56:51.706Z"
   },
   {
    "duration": 17,
    "start_time": "2022-07-08T20:56:51.710Z"
   },
   {
    "duration": 14,
    "start_time": "2022-07-08T20:56:51.728Z"
   },
   {
    "duration": 272,
    "start_time": "2022-07-08T20:56:51.744Z"
   },
   {
    "duration": 111,
    "start_time": "2022-07-08T20:56:52.018Z"
   },
   {
    "duration": 24,
    "start_time": "2022-07-08T20:56:52.131Z"
   },
   {
    "duration": 4,
    "start_time": "2022-07-08T20:56:52.157Z"
   },
   {
    "duration": 12,
    "start_time": "2022-07-08T20:56:52.163Z"
   },
   {
    "duration": 10,
    "start_time": "2022-07-08T20:56:52.177Z"
   },
   {
    "duration": 15,
    "start_time": "2022-07-08T20:56:52.189Z"
   },
   {
    "duration": 15,
    "start_time": "2022-07-08T20:56:52.206Z"
   },
   {
    "duration": 12,
    "start_time": "2022-07-08T20:56:52.223Z"
   },
   {
    "duration": 16,
    "start_time": "2022-07-08T20:56:52.236Z"
   },
   {
    "duration": 283,
    "start_time": "2022-07-08T20:56:52.254Z"
   },
   {
    "duration": 270,
    "start_time": "2022-07-08T20:56:52.538Z"
   },
   {
    "duration": 13,
    "start_time": "2022-07-08T20:56:52.810Z"
   },
   {
    "duration": 12,
    "start_time": "2022-07-08T20:56:52.825Z"
   },
   {
    "duration": 5,
    "start_time": "2022-07-08T20:56:52.839Z"
   },
   {
    "duration": 68,
    "start_time": "2022-07-08T20:56:52.846Z"
   },
   {
    "duration": 35,
    "start_time": "2022-07-08T20:56:52.916Z"
   },
   {
    "duration": 73,
    "start_time": "2022-07-08T20:56:52.952Z"
   },
   {
    "duration": 14,
    "start_time": "2022-07-08T20:56:53.027Z"
   },
   {
    "duration": 80,
    "start_time": "2022-07-08T20:56:53.042Z"
   },
   {
    "duration": 414,
    "start_time": "2022-07-08T20:56:53.124Z"
   },
   {
    "duration": 71,
    "start_time": "2022-07-08T20:56:53.539Z"
   },
   {
    "duration": 10,
    "start_time": "2022-07-08T20:56:53.612Z"
   },
   {
    "duration": 24,
    "start_time": "2022-07-08T20:56:53.624Z"
   },
   {
    "duration": 480,
    "start_time": "2022-07-08T20:56:53.650Z"
   },
   {
    "duration": 19,
    "start_time": "2022-07-08T20:56:54.132Z"
   },
   {
    "duration": 18,
    "start_time": "2022-07-08T20:56:54.209Z"
   },
   {
    "duration": 347,
    "start_time": "2022-07-08T20:56:54.229Z"
   },
   {
    "duration": 58,
    "start_time": "2022-07-08T20:56:54.577Z"
   },
   {
    "duration": 11,
    "start_time": "2022-07-08T20:56:54.637Z"
   },
   {
    "duration": 248,
    "start_time": "2022-07-08T20:56:54.650Z"
   },
   {
    "duration": 13,
    "start_time": "2022-07-08T20:56:54.900Z"
   },
   {
    "duration": 19,
    "start_time": "2022-07-08T20:56:54.915Z"
   },
   {
    "duration": 28,
    "start_time": "2022-07-08T20:56:54.936Z"
   },
   {
    "duration": 16,
    "start_time": "2022-07-08T20:56:54.965Z"
   },
   {
    "duration": 16,
    "start_time": "2022-07-08T20:59:31.877Z"
   },
   {
    "duration": 1632,
    "start_time": "2022-07-08T20:59:34.023Z"
   },
   {
    "duration": 3,
    "start_time": "2022-07-08T20:59:41.404Z"
   },
   {
    "duration": 7,
    "start_time": "2022-07-08T20:59:41.409Z"
   },
   {
    "duration": 58,
    "start_time": "2022-07-08T20:59:41.417Z"
   },
   {
    "duration": 299,
    "start_time": "2022-07-08T20:59:41.477Z"
   },
   {
    "duration": 24,
    "start_time": "2022-07-08T20:59:41.778Z"
   },
   {
    "duration": 67,
    "start_time": "2022-07-08T20:59:41.803Z"
   },
   {
    "duration": 42,
    "start_time": "2022-07-08T20:59:41.872Z"
   },
   {
    "duration": 14,
    "start_time": "2022-07-08T20:59:41.916Z"
   },
   {
    "duration": 13,
    "start_time": "2022-07-08T20:59:41.931Z"
   },
   {
    "duration": 224,
    "start_time": "2022-07-08T20:59:41.946Z"
   },
   {
    "duration": 38,
    "start_time": "2022-07-08T20:59:42.172Z"
   },
   {
    "duration": 14,
    "start_time": "2022-07-08T20:59:42.212Z"
   },
   {
    "duration": 11,
    "start_time": "2022-07-08T20:59:42.228Z"
   },
   {
    "duration": 15,
    "start_time": "2022-07-08T20:59:42.240Z"
   },
   {
    "duration": 14,
    "start_time": "2022-07-08T20:59:42.256Z"
   },
   {
    "duration": 11,
    "start_time": "2022-07-08T20:59:42.303Z"
   },
   {
    "duration": 6,
    "start_time": "2022-07-08T20:59:42.315Z"
   },
   {
    "duration": 18,
    "start_time": "2022-07-08T20:59:42.323Z"
   },
   {
    "duration": 7,
    "start_time": "2022-07-08T20:59:42.342Z"
   },
   {
    "duration": 12,
    "start_time": "2022-07-08T20:59:42.350Z"
   },
   {
    "duration": 146,
    "start_time": "2022-07-08T20:59:42.363Z"
   },
   {
    "duration": 13,
    "start_time": "2022-07-08T20:59:42.510Z"
   },
   {
    "duration": 246,
    "start_time": "2022-07-08T20:59:42.525Z"
   },
   {
    "duration": 6,
    "start_time": "2022-07-08T20:59:42.773Z"
   },
   {
    "duration": 43,
    "start_time": "2022-07-08T20:59:42.780Z"
   },
   {
    "duration": 5,
    "start_time": "2022-07-08T20:59:42.824Z"
   },
   {
    "duration": 35,
    "start_time": "2022-07-08T20:59:42.830Z"
   },
   {
    "duration": 11,
    "start_time": "2022-07-08T20:59:42.869Z"
   },
   {
    "duration": 50,
    "start_time": "2022-07-08T20:59:42.881Z"
   },
   {
    "duration": 3,
    "start_time": "2022-07-08T20:59:42.932Z"
   },
   {
    "duration": 9,
    "start_time": "2022-07-08T20:59:42.937Z"
   },
   {
    "duration": 7,
    "start_time": "2022-07-08T20:59:42.947Z"
   },
   {
    "duration": 9,
    "start_time": "2022-07-08T20:59:42.955Z"
   },
   {
    "duration": 15,
    "start_time": "2022-07-08T20:59:42.966Z"
   },
   {
    "duration": 3,
    "start_time": "2022-07-08T20:59:42.982Z"
   },
   {
    "duration": 26,
    "start_time": "2022-07-08T20:59:42.986Z"
   },
   {
    "duration": 20,
    "start_time": "2022-07-08T20:59:43.014Z"
   },
   {
    "duration": 203,
    "start_time": "2022-07-08T20:59:43.036Z"
   },
   {
    "duration": 155,
    "start_time": "2022-07-08T20:59:43.241Z"
   },
   {
    "duration": 21,
    "start_time": "2022-07-08T20:59:43.404Z"
   },
   {
    "duration": 35,
    "start_time": "2022-07-08T20:59:43.426Z"
   },
   {
    "duration": 16,
    "start_time": "2022-07-08T20:59:43.462Z"
   },
   {
    "duration": 38,
    "start_time": "2022-07-08T20:59:43.480Z"
   },
   {
    "duration": 31,
    "start_time": "2022-07-08T20:59:43.520Z"
   },
   {
    "duration": 39,
    "start_time": "2022-07-08T20:59:43.553Z"
   },
   {
    "duration": 26,
    "start_time": "2022-07-08T20:59:43.593Z"
   },
   {
    "duration": 52,
    "start_time": "2022-07-08T20:59:43.620Z"
   },
   {
    "duration": 243,
    "start_time": "2022-07-08T20:59:43.673Z"
   },
   {
    "duration": 107,
    "start_time": "2022-07-08T20:59:43.917Z"
   },
   {
    "duration": 13,
    "start_time": "2022-07-08T20:59:44.026Z"
   },
   {
    "duration": 41,
    "start_time": "2022-07-08T20:59:44.041Z"
   },
   {
    "duration": 5,
    "start_time": "2022-07-08T20:59:44.084Z"
   },
   {
    "duration": 19,
    "start_time": "2022-07-08T20:59:44.091Z"
   },
   {
    "duration": 38,
    "start_time": "2022-07-08T20:59:44.111Z"
   },
   {
    "duration": 17,
    "start_time": "2022-07-08T20:59:44.151Z"
   },
   {
    "duration": 14,
    "start_time": "2022-07-08T20:59:44.170Z"
   },
   {
    "duration": 26,
    "start_time": "2022-07-08T20:59:44.204Z"
   },
   {
    "duration": 218,
    "start_time": "2022-07-08T20:59:44.231Z"
   },
   {
    "duration": 19,
    "start_time": "2022-07-08T20:59:44.450Z"
   },
   {
    "duration": 12,
    "start_time": "2022-07-08T20:59:44.470Z"
   },
   {
    "duration": 23,
    "start_time": "2022-07-08T20:59:44.483Z"
   },
   {
    "duration": 225,
    "start_time": "2022-07-08T20:59:44.508Z"
   },
   {
    "duration": 15,
    "start_time": "2022-07-08T20:59:44.735Z"
   },
   {
    "duration": 17,
    "start_time": "2022-07-08T20:59:44.752Z"
   },
   {
    "duration": 338,
    "start_time": "2022-07-08T20:59:44.770Z"
   },
   {
    "duration": 46,
    "start_time": "2022-07-08T20:59:45.109Z"
   },
   {
    "duration": 14,
    "start_time": "2022-07-08T20:59:45.156Z"
   },
   {
    "duration": 275,
    "start_time": "2022-07-08T20:59:45.172Z"
   },
   {
    "duration": 13,
    "start_time": "2022-07-08T20:59:45.449Z"
   },
   {
    "duration": 11,
    "start_time": "2022-07-08T20:59:45.463Z"
   },
   {
    "duration": 33,
    "start_time": "2022-07-08T20:59:45.475Z"
   },
   {
    "duration": 114,
    "start_time": "2022-07-08T20:59:45.510Z"
   },
   {
    "duration": 23,
    "start_time": "2022-07-08T21:00:55.667Z"
   },
   {
    "duration": 3,
    "start_time": "2022-07-08T21:01:00.481Z"
   },
   {
    "duration": 23,
    "start_time": "2022-07-08T21:01:00.486Z"
   },
   {
    "duration": 78,
    "start_time": "2022-07-08T21:01:00.511Z"
   },
   {
    "duration": 187,
    "start_time": "2022-07-08T21:01:00.591Z"
   },
   {
    "duration": 31,
    "start_time": "2022-07-08T21:01:00.780Z"
   },
   {
    "duration": 103,
    "start_time": "2022-07-08T21:01:00.813Z"
   },
   {
    "duration": 32,
    "start_time": "2022-07-08T21:01:00.918Z"
   },
   {
    "duration": 18,
    "start_time": "2022-07-08T21:01:00.951Z"
   },
   {
    "duration": 44,
    "start_time": "2022-07-08T21:01:00.971Z"
   },
   {
    "duration": 254,
    "start_time": "2022-07-08T21:01:01.018Z"
   },
   {
    "duration": 39,
    "start_time": "2022-07-08T21:01:01.274Z"
   },
   {
    "duration": 21,
    "start_time": "2022-07-08T21:01:01.315Z"
   },
   {
    "duration": 61,
    "start_time": "2022-07-08T21:01:01.337Z"
   },
   {
    "duration": 33,
    "start_time": "2022-07-08T21:01:01.400Z"
   },
   {
    "duration": 15,
    "start_time": "2022-07-08T21:01:01.435Z"
   },
   {
    "duration": 39,
    "start_time": "2022-07-08T21:01:01.451Z"
   },
   {
    "duration": 8,
    "start_time": "2022-07-08T21:01:01.492Z"
   },
   {
    "duration": 33,
    "start_time": "2022-07-08T21:01:01.501Z"
   },
   {
    "duration": 12,
    "start_time": "2022-07-08T21:01:01.536Z"
   },
   {
    "duration": 27,
    "start_time": "2022-07-08T21:01:01.549Z"
   },
   {
    "duration": 20,
    "start_time": "2022-07-08T21:01:01.578Z"
   },
   {
    "duration": 23,
    "start_time": "2022-07-08T21:01:01.600Z"
   },
   {
    "duration": 255,
    "start_time": "2022-07-08T21:01:01.625Z"
   },
   {
    "duration": 6,
    "start_time": "2022-07-08T21:01:01.881Z"
   },
   {
    "duration": 52,
    "start_time": "2022-07-08T21:01:01.889Z"
   },
   {
    "duration": 5,
    "start_time": "2022-07-08T21:01:01.942Z"
   },
   {
    "duration": 52,
    "start_time": "2022-07-08T21:01:01.948Z"
   },
   {
    "duration": 10,
    "start_time": "2022-07-08T21:01:02.004Z"
   },
   {
    "duration": 30,
    "start_time": "2022-07-08T21:01:02.016Z"
   },
   {
    "duration": 3,
    "start_time": "2022-07-08T21:01:02.048Z"
   },
   {
    "duration": 27,
    "start_time": "2022-07-08T21:01:02.053Z"
   },
   {
    "duration": 11,
    "start_time": "2022-07-08T21:01:02.082Z"
   },
   {
    "duration": 14,
    "start_time": "2022-07-08T21:01:02.095Z"
   },
   {
    "duration": 30,
    "start_time": "2022-07-08T21:01:02.111Z"
   },
   {
    "duration": 36,
    "start_time": "2022-07-08T21:01:02.143Z"
   },
   {
    "duration": 39,
    "start_time": "2022-07-08T21:01:02.181Z"
   },
   {
    "duration": 23,
    "start_time": "2022-07-08T21:01:02.222Z"
   },
   {
    "duration": 270,
    "start_time": "2022-07-08T21:01:02.247Z"
   },
   {
    "duration": 114,
    "start_time": "2022-07-08T21:01:02.519Z"
   },
   {
    "duration": 22,
    "start_time": "2022-07-08T21:01:02.635Z"
   },
   {
    "duration": 4,
    "start_time": "2022-07-08T21:01:02.665Z"
   },
   {
    "duration": 9,
    "start_time": "2022-07-08T21:01:02.670Z"
   },
   {
    "duration": 17,
    "start_time": "2022-07-08T21:01:02.680Z"
   },
   {
    "duration": 12,
    "start_time": "2022-07-08T21:01:02.698Z"
   },
   {
    "duration": 13,
    "start_time": "2022-07-08T21:01:02.711Z"
   },
   {
    "duration": 16,
    "start_time": "2022-07-08T21:01:02.725Z"
   },
   {
    "duration": 16,
    "start_time": "2022-07-08T21:01:02.743Z"
   },
   {
    "duration": 271,
    "start_time": "2022-07-08T21:01:02.760Z"
   },
   {
    "duration": 117,
    "start_time": "2022-07-08T21:01:03.032Z"
   },
   {
    "duration": 14,
    "start_time": "2022-07-08T21:01:03.151Z"
   },
   {
    "duration": 15,
    "start_time": "2022-07-08T21:01:03.166Z"
   },
   {
    "duration": 23,
    "start_time": "2022-07-08T21:01:03.182Z"
   },
   {
    "duration": 13,
    "start_time": "2022-07-08T21:01:03.206Z"
   },
   {
    "duration": 42,
    "start_time": "2022-07-08T21:01:03.221Z"
   },
   {
    "duration": 22,
    "start_time": "2022-07-08T21:01:03.265Z"
   },
   {
    "duration": 17,
    "start_time": "2022-07-08T21:01:03.305Z"
   },
   {
    "duration": 27,
    "start_time": "2022-07-08T21:01:03.323Z"
   },
   {
    "duration": 248,
    "start_time": "2022-07-08T21:01:03.352Z"
   },
   {
    "duration": 23,
    "start_time": "2022-07-08T21:01:03.604Z"
   },
   {
    "duration": 9,
    "start_time": "2022-07-08T21:01:03.629Z"
   },
   {
    "duration": 21,
    "start_time": "2022-07-08T21:01:03.640Z"
   },
   {
    "duration": 251,
    "start_time": "2022-07-08T21:01:03.663Z"
   },
   {
    "duration": 15,
    "start_time": "2022-07-08T21:01:03.916Z"
   },
   {
    "duration": 13,
    "start_time": "2022-07-08T21:01:03.933Z"
   },
   {
    "duration": 325,
    "start_time": "2022-07-08T21:01:03.948Z"
   },
   {
    "duration": 143,
    "start_time": "2022-07-08T21:01:04.275Z"
   },
   {
    "duration": 15,
    "start_time": "2022-07-08T21:01:04.420Z"
   },
   {
    "duration": 285,
    "start_time": "2022-07-08T21:01:04.437Z"
   },
   {
    "duration": 16,
    "start_time": "2022-07-08T21:01:04.723Z"
   },
   {
    "duration": 10,
    "start_time": "2022-07-08T21:01:04.741Z"
   },
   {
    "duration": 14,
    "start_time": "2022-07-08T21:01:04.753Z"
   },
   {
    "duration": 36,
    "start_time": "2022-07-08T21:01:04.770Z"
   },
   {
    "duration": 1454,
    "start_time": "2022-07-08T21:02:53.687Z"
   },
   {
    "duration": 4,
    "start_time": "2022-07-08T21:03:13.388Z"
   },
   {
    "duration": 6,
    "start_time": "2022-07-08T21:03:13.394Z"
   },
   {
    "duration": 80,
    "start_time": "2022-07-08T21:03:13.401Z"
   },
   {
    "duration": 197,
    "start_time": "2022-07-08T21:03:13.483Z"
   },
   {
    "duration": 31,
    "start_time": "2022-07-08T21:03:13.681Z"
   },
   {
    "duration": 99,
    "start_time": "2022-07-08T21:03:13.713Z"
   },
   {
    "duration": 30,
    "start_time": "2022-07-08T21:03:13.814Z"
   },
   {
    "duration": 17,
    "start_time": "2022-07-08T21:03:13.846Z"
   },
   {
    "duration": 40,
    "start_time": "2022-07-08T21:03:13.865Z"
   },
   {
    "duration": 233,
    "start_time": "2022-07-08T21:03:13.908Z"
   },
   {
    "duration": 34,
    "start_time": "2022-07-08T21:03:14.143Z"
   },
   {
    "duration": 35,
    "start_time": "2022-07-08T21:03:14.179Z"
   },
   {
    "duration": 11,
    "start_time": "2022-07-08T21:03:14.216Z"
   },
   {
    "duration": 16,
    "start_time": "2022-07-08T21:03:14.229Z"
   },
   {
    "duration": 21,
    "start_time": "2022-07-08T21:03:14.246Z"
   },
   {
    "duration": 11,
    "start_time": "2022-07-08T21:03:14.269Z"
   },
   {
    "duration": 7,
    "start_time": "2022-07-08T21:03:14.305Z"
   },
   {
    "duration": 22,
    "start_time": "2022-07-08T21:03:14.314Z"
   },
   {
    "duration": 10,
    "start_time": "2022-07-08T21:03:14.338Z"
   },
   {
    "duration": 15,
    "start_time": "2022-07-08T21:03:14.349Z"
   },
   {
    "duration": 12,
    "start_time": "2022-07-08T21:03:14.365Z"
   },
   {
    "duration": 37,
    "start_time": "2022-07-08T21:03:14.379Z"
   },
   {
    "duration": 277,
    "start_time": "2022-07-08T21:03:14.418Z"
   },
   {
    "duration": 10,
    "start_time": "2022-07-08T21:03:14.697Z"
   },
   {
    "duration": 36,
    "start_time": "2022-07-08T21:03:14.708Z"
   },
   {
    "duration": 5,
    "start_time": "2022-07-08T21:03:14.746Z"
   },
   {
    "duration": 59,
    "start_time": "2022-07-08T21:03:14.752Z"
   },
   {
    "duration": 12,
    "start_time": "2022-07-08T21:03:14.816Z"
   },
   {
    "duration": 37,
    "start_time": "2022-07-08T21:03:14.829Z"
   },
   {
    "duration": 2,
    "start_time": "2022-07-08T21:03:14.868Z"
   },
   {
    "duration": 7,
    "start_time": "2022-07-08T21:03:14.872Z"
   },
   {
    "duration": 6,
    "start_time": "2022-07-08T21:03:14.880Z"
   },
   {
    "duration": 5,
    "start_time": "2022-07-08T21:03:14.903Z"
   },
   {
    "duration": 15,
    "start_time": "2022-07-08T21:03:14.909Z"
   },
   {
    "duration": 4,
    "start_time": "2022-07-08T21:03:14.925Z"
   },
   {
    "duration": 12,
    "start_time": "2022-07-08T21:03:14.930Z"
   },
   {
    "duration": 13,
    "start_time": "2022-07-08T21:03:14.944Z"
   },
   {
    "duration": 267,
    "start_time": "2022-07-08T21:03:14.959Z"
   },
   {
    "duration": 126,
    "start_time": "2022-07-08T21:03:15.228Z"
   },
   {
    "duration": 24,
    "start_time": "2022-07-08T21:03:15.355Z"
   },
   {
    "duration": 4,
    "start_time": "2022-07-08T21:03:15.380Z"
   },
   {
    "duration": 9,
    "start_time": "2022-07-08T21:03:15.404Z"
   },
   {
    "duration": 22,
    "start_time": "2022-07-08T21:03:15.416Z"
   },
   {
    "duration": 9,
    "start_time": "2022-07-08T21:03:15.441Z"
   },
   {
    "duration": 25,
    "start_time": "2022-07-08T21:03:15.452Z"
   },
   {
    "duration": 86,
    "start_time": "2022-07-08T21:03:15.479Z"
   },
   {
    "duration": 33,
    "start_time": "2022-07-08T21:03:15.567Z"
   },
   {
    "duration": 243,
    "start_time": "2022-07-08T21:03:15.602Z"
   },
   {
    "duration": 132,
    "start_time": "2022-07-08T21:03:15.847Z"
   },
   {
    "duration": 23,
    "start_time": "2022-07-08T21:03:15.981Z"
   },
   {
    "duration": 13,
    "start_time": "2022-07-08T21:03:16.005Z"
   },
   {
    "duration": 7,
    "start_time": "2022-07-08T21:03:16.020Z"
   },
   {
    "duration": 24,
    "start_time": "2022-07-08T21:03:16.028Z"
   },
   {
    "duration": 38,
    "start_time": "2022-07-08T21:03:16.054Z"
   },
   {
    "duration": 25,
    "start_time": "2022-07-08T21:03:16.103Z"
   },
   {
    "duration": 17,
    "start_time": "2022-07-08T21:03:16.130Z"
   },
   {
    "duration": 56,
    "start_time": "2022-07-08T21:03:16.149Z"
   },
   {
    "duration": 241,
    "start_time": "2022-07-08T21:03:16.207Z"
   },
   {
    "duration": 23,
    "start_time": "2022-07-08T21:03:16.450Z"
   },
   {
    "duration": 30,
    "start_time": "2022-07-08T21:03:16.475Z"
   },
   {
    "duration": 17,
    "start_time": "2022-07-08T21:03:16.508Z"
   },
   {
    "duration": 289,
    "start_time": "2022-07-08T21:03:16.527Z"
   },
   {
    "duration": 16,
    "start_time": "2022-07-08T21:03:16.817Z"
   },
   {
    "duration": 14,
    "start_time": "2022-07-08T21:03:16.835Z"
   },
   {
    "duration": 431,
    "start_time": "2022-07-08T21:03:16.851Z"
   },
   {
    "duration": 55,
    "start_time": "2022-07-08T21:03:17.285Z"
   },
   {
    "duration": 7,
    "start_time": "2022-07-08T21:03:17.341Z"
   },
   {
    "duration": 273,
    "start_time": "2022-07-08T21:03:17.350Z"
   },
   {
    "duration": 13,
    "start_time": "2022-07-08T21:03:17.625Z"
   },
   {
    "duration": 11,
    "start_time": "2022-07-08T21:03:17.640Z"
   },
   {
    "duration": 24,
    "start_time": "2022-07-08T21:03:17.652Z"
   },
   {
    "duration": 26,
    "start_time": "2022-07-08T21:03:17.678Z"
   },
   {
    "duration": 1391,
    "start_time": "2022-07-08T21:03:47.002Z"
   },
   {
    "duration": 4,
    "start_time": "2022-07-08T21:03:56.776Z"
   },
   {
    "duration": 14,
    "start_time": "2022-07-08T21:03:56.781Z"
   },
   {
    "duration": 57,
    "start_time": "2022-07-08T21:03:56.796Z"
   },
   {
    "duration": 148,
    "start_time": "2022-07-08T21:03:56.855Z"
   },
   {
    "duration": 28,
    "start_time": "2022-07-08T21:03:57.004Z"
   },
   {
    "duration": 98,
    "start_time": "2022-07-08T21:03:57.033Z"
   },
   {
    "duration": 28,
    "start_time": "2022-07-08T21:03:57.133Z"
   },
   {
    "duration": 15,
    "start_time": "2022-07-08T21:03:57.162Z"
   },
   {
    "duration": 35,
    "start_time": "2022-07-08T21:03:57.178Z"
   },
   {
    "duration": 218,
    "start_time": "2022-07-08T21:03:57.216Z"
   },
   {
    "duration": 30,
    "start_time": "2022-07-08T21:03:57.437Z"
   },
   {
    "duration": 14,
    "start_time": "2022-07-08T21:03:57.468Z"
   },
   {
    "duration": 29,
    "start_time": "2022-07-08T21:03:57.483Z"
   },
   {
    "duration": 14,
    "start_time": "2022-07-08T21:03:57.514Z"
   },
   {
    "duration": 14,
    "start_time": "2022-07-08T21:03:57.529Z"
   },
   {
    "duration": 14,
    "start_time": "2022-07-08T21:03:57.544Z"
   },
   {
    "duration": 6,
    "start_time": "2022-07-08T21:03:57.560Z"
   },
   {
    "duration": 40,
    "start_time": "2022-07-08T21:03:57.568Z"
   },
   {
    "duration": 9,
    "start_time": "2022-07-08T21:03:57.609Z"
   },
   {
    "duration": 10,
    "start_time": "2022-07-08T21:03:57.619Z"
   },
   {
    "duration": 12,
    "start_time": "2022-07-08T21:03:57.630Z"
   },
   {
    "duration": 12,
    "start_time": "2022-07-08T21:03:57.643Z"
   },
   {
    "duration": 262,
    "start_time": "2022-07-08T21:03:57.656Z"
   },
   {
    "duration": 7,
    "start_time": "2022-07-08T21:03:57.920Z"
   },
   {
    "duration": 38,
    "start_time": "2022-07-08T21:03:57.929Z"
   },
   {
    "duration": 4,
    "start_time": "2022-07-08T21:03:57.969Z"
   },
   {
    "duration": 53,
    "start_time": "2022-07-08T21:03:57.975Z"
   },
   {
    "duration": 11,
    "start_time": "2022-07-08T21:03:58.032Z"
   },
   {
    "duration": 28,
    "start_time": "2022-07-08T21:03:58.044Z"
   },
   {
    "duration": 2,
    "start_time": "2022-07-08T21:03:58.073Z"
   },
   {
    "duration": 6,
    "start_time": "2022-07-08T21:03:58.077Z"
   },
   {
    "duration": 22,
    "start_time": "2022-07-08T21:03:58.084Z"
   },
   {
    "duration": 6,
    "start_time": "2022-07-08T21:03:58.108Z"
   },
   {
    "duration": 13,
    "start_time": "2022-07-08T21:03:58.115Z"
   },
   {
    "duration": 3,
    "start_time": "2022-07-08T21:03:58.130Z"
   },
   {
    "duration": 13,
    "start_time": "2022-07-08T21:03:58.135Z"
   },
   {
    "duration": 15,
    "start_time": "2022-07-08T21:03:58.149Z"
   },
   {
    "duration": 256,
    "start_time": "2022-07-08T21:03:58.166Z"
   },
   {
    "duration": 111,
    "start_time": "2022-07-08T21:03:58.424Z"
   },
   {
    "duration": 22,
    "start_time": "2022-07-08T21:03:58.537Z"
   },
   {
    "duration": 3,
    "start_time": "2022-07-08T21:03:58.560Z"
   },
   {
    "duration": 11,
    "start_time": "2022-07-08T21:03:58.564Z"
   },
   {
    "duration": 8,
    "start_time": "2022-07-08T21:03:58.577Z"
   },
   {
    "duration": 17,
    "start_time": "2022-07-08T21:03:58.587Z"
   },
   {
    "duration": 8,
    "start_time": "2022-07-08T21:03:58.606Z"
   },
   {
    "duration": 11,
    "start_time": "2022-07-08T21:03:58.615Z"
   },
   {
    "duration": 13,
    "start_time": "2022-07-08T21:03:58.627Z"
   },
   {
    "duration": 271,
    "start_time": "2022-07-08T21:03:58.641Z"
   },
   {
    "duration": 109,
    "start_time": "2022-07-08T21:03:58.913Z"
   },
   {
    "duration": 13,
    "start_time": "2022-07-08T21:03:59.024Z"
   },
   {
    "duration": 12,
    "start_time": "2022-07-08T21:03:59.038Z"
   },
   {
    "duration": 5,
    "start_time": "2022-07-08T21:03:59.052Z"
   },
   {
    "duration": 14,
    "start_time": "2022-07-08T21:03:59.058Z"
   },
   {
    "duration": 54,
    "start_time": "2022-07-08T21:03:59.073Z"
   },
   {
    "duration": 21,
    "start_time": "2022-07-08T21:03:59.128Z"
   },
   {
    "duration": 14,
    "start_time": "2022-07-08T21:03:59.151Z"
   },
   {
    "duration": 50,
    "start_time": "2022-07-08T21:03:59.167Z"
   },
   {
    "duration": 216,
    "start_time": "2022-07-08T21:03:59.218Z"
   },
   {
    "duration": 18,
    "start_time": "2022-07-08T21:03:59.435Z"
   },
   {
    "duration": 7,
    "start_time": "2022-07-08T21:03:59.454Z"
   },
   {
    "duration": 15,
    "start_time": "2022-07-08T21:03:59.463Z"
   },
   {
    "duration": 332,
    "start_time": "2022-07-08T21:03:59.479Z"
   },
   {
    "duration": 13,
    "start_time": "2022-07-08T21:03:59.813Z"
   },
   {
    "duration": 14,
    "start_time": "2022-07-08T21:03:59.828Z"
   },
   {
    "duration": 319,
    "start_time": "2022-07-08T21:03:59.844Z"
   },
   {
    "duration": 63,
    "start_time": "2022-07-08T21:04:00.165Z"
   },
   {
    "duration": 16,
    "start_time": "2022-07-08T21:04:00.230Z"
   },
   {
    "duration": 257,
    "start_time": "2022-07-08T21:04:00.248Z"
   },
   {
    "duration": 13,
    "start_time": "2022-07-08T21:04:00.507Z"
   },
   {
    "duration": 9,
    "start_time": "2022-07-08T21:04:00.522Z"
   },
   {
    "duration": 25,
    "start_time": "2022-07-08T21:04:00.533Z"
   },
   {
    "duration": 10,
    "start_time": "2022-07-08T21:04:00.559Z"
   },
   {
    "duration": 207,
    "start_time": "2022-07-08T21:05:06.755Z"
   },
   {
    "duration": 26,
    "start_time": "2022-07-08T21:07:34.263Z"
   },
   {
    "duration": 209,
    "start_time": "2022-07-08T21:08:56.660Z"
   },
   {
    "duration": 1299,
    "start_time": "2022-07-08T21:09:48.364Z"
   },
   {
    "duration": 4,
    "start_time": "2022-07-08T21:09:53.930Z"
   },
   {
    "duration": 13,
    "start_time": "2022-07-08T21:09:53.936Z"
   },
   {
    "duration": 56,
    "start_time": "2022-07-08T21:09:53.951Z"
   },
   {
    "duration": 440,
    "start_time": "2022-07-08T21:09:54.010Z"
   },
   {
    "duration": 28,
    "start_time": "2022-07-08T21:09:54.452Z"
   },
   {
    "duration": 86,
    "start_time": "2022-07-08T21:09:54.482Z"
   },
   {
    "duration": 47,
    "start_time": "2022-07-08T21:09:54.570Z"
   },
   {
    "duration": 14,
    "start_time": "2022-07-08T21:09:54.618Z"
   },
   {
    "duration": 13,
    "start_time": "2022-07-08T21:09:54.633Z"
   },
   {
    "duration": 227,
    "start_time": "2022-07-08T21:09:54.649Z"
   },
   {
    "duration": 43,
    "start_time": "2022-07-08T21:09:54.878Z"
   },
   {
    "duration": 15,
    "start_time": "2022-07-08T21:09:54.923Z"
   },
   {
    "duration": 12,
    "start_time": "2022-07-08T21:09:54.940Z"
   },
   {
    "duration": 22,
    "start_time": "2022-07-08T21:09:54.954Z"
   },
   {
    "duration": 37,
    "start_time": "2022-07-08T21:09:54.977Z"
   },
   {
    "duration": 11,
    "start_time": "2022-07-08T21:09:55.015Z"
   },
   {
    "duration": 7,
    "start_time": "2022-07-08T21:09:55.028Z"
   },
   {
    "duration": 28,
    "start_time": "2022-07-08T21:09:55.037Z"
   },
   {
    "duration": 10,
    "start_time": "2022-07-08T21:09:55.067Z"
   },
   {
    "duration": 32,
    "start_time": "2022-07-08T21:09:55.079Z"
   },
   {
    "duration": 13,
    "start_time": "2022-07-08T21:09:55.113Z"
   },
   {
    "duration": 13,
    "start_time": "2022-07-08T21:09:55.128Z"
   },
   {
    "duration": 247,
    "start_time": "2022-07-08T21:09:55.142Z"
   },
   {
    "duration": 15,
    "start_time": "2022-07-08T21:09:55.390Z"
   },
   {
    "duration": 41,
    "start_time": "2022-07-08T21:09:55.407Z"
   },
   {
    "duration": 5,
    "start_time": "2022-07-08T21:09:55.449Z"
   },
   {
    "duration": 50,
    "start_time": "2022-07-08T21:09:55.456Z"
   },
   {
    "duration": 11,
    "start_time": "2022-07-08T21:09:55.512Z"
   },
   {
    "duration": 33,
    "start_time": "2022-07-08T21:09:55.524Z"
   },
   {
    "duration": 3,
    "start_time": "2022-07-08T21:09:55.558Z"
   },
   {
    "duration": 9,
    "start_time": "2022-07-08T21:09:55.562Z"
   },
   {
    "duration": 9,
    "start_time": "2022-07-08T21:09:55.572Z"
   },
   {
    "duration": 22,
    "start_time": "2022-07-08T21:09:55.582Z"
   },
   {
    "duration": 10,
    "start_time": "2022-07-08T21:09:55.605Z"
   },
   {
    "duration": 3,
    "start_time": "2022-07-08T21:09:55.616Z"
   },
   {
    "duration": 29,
    "start_time": "2022-07-08T21:09:55.620Z"
   },
   {
    "duration": 17,
    "start_time": "2022-07-08T21:09:55.650Z"
   },
   {
    "duration": 271,
    "start_time": "2022-07-08T21:09:55.669Z"
   },
   {
    "duration": 208,
    "start_time": "2022-07-08T21:09:55.942Z"
   },
   {
    "duration": 24,
    "start_time": "2022-07-08T21:09:56.152Z"
   },
   {
    "duration": 3,
    "start_time": "2022-07-08T21:09:56.177Z"
   },
   {
    "duration": 14,
    "start_time": "2022-07-08T21:09:56.181Z"
   },
   {
    "duration": 7,
    "start_time": "2022-07-08T21:09:56.204Z"
   },
   {
    "duration": 10,
    "start_time": "2022-07-08T21:09:56.213Z"
   },
   {
    "duration": 13,
    "start_time": "2022-07-08T21:09:56.224Z"
   },
   {
    "duration": 19,
    "start_time": "2022-07-08T21:09:56.238Z"
   },
   {
    "duration": 16,
    "start_time": "2022-07-08T21:09:56.258Z"
   },
   {
    "duration": 257,
    "start_time": "2022-07-08T21:09:56.275Z"
   },
   {
    "duration": 148,
    "start_time": "2022-07-08T21:09:56.534Z"
   },
   {
    "duration": 21,
    "start_time": "2022-07-08T21:09:56.683Z"
   },
   {
    "duration": 12,
    "start_time": "2022-07-08T21:09:56.706Z"
   },
   {
    "duration": 18,
    "start_time": "2022-07-08T21:09:56.720Z"
   },
   {
    "duration": 13,
    "start_time": "2022-07-08T21:09:56.740Z"
   },
   {
    "duration": 30,
    "start_time": "2022-07-08T21:09:56.755Z"
   },
   {
    "duration": 33,
    "start_time": "2022-07-08T21:09:56.787Z"
   },
   {
    "duration": 13,
    "start_time": "2022-07-08T21:09:56.822Z"
   },
   {
    "duration": 27,
    "start_time": "2022-07-08T21:09:56.837Z"
   },
   {
    "duration": 250,
    "start_time": "2022-07-08T21:09:56.866Z"
   },
   {
    "duration": 22,
    "start_time": "2022-07-08T21:09:57.118Z"
   },
   {
    "duration": 7,
    "start_time": "2022-07-08T21:09:57.142Z"
   },
   {
    "duration": 14,
    "start_time": "2022-07-08T21:09:57.151Z"
   },
   {
    "duration": 272,
    "start_time": "2022-07-08T21:09:57.167Z"
   },
   {
    "duration": 19,
    "start_time": "2022-07-08T21:09:57.441Z"
   },
   {
    "duration": 24,
    "start_time": "2022-07-08T21:09:57.462Z"
   },
   {
    "duration": 325,
    "start_time": "2022-07-08T21:09:57.488Z"
   },
   {
    "duration": 46,
    "start_time": "2022-07-08T21:09:57.815Z"
   },
   {
    "duration": 13,
    "start_time": "2022-07-08T21:09:57.863Z"
   },
   {
    "duration": 40,
    "start_time": "2022-07-08T21:09:57.878Z"
   },
   {
    "duration": 228,
    "start_time": "2022-07-08T21:09:57.919Z"
   },
   {
    "duration": 18,
    "start_time": "2022-07-08T21:09:58.149Z"
   },
   {
    "duration": 11,
    "start_time": "2022-07-08T21:09:58.169Z"
   },
   {
    "duration": 34,
    "start_time": "2022-07-08T21:09:58.182Z"
   },
   {
    "duration": 11,
    "start_time": "2022-07-08T21:09:58.218Z"
   },
   {
    "duration": 23,
    "start_time": "2022-07-08T21:11:54.336Z"
   },
   {
    "duration": 222,
    "start_time": "2022-07-08T21:13:39.177Z"
   },
   {
    "duration": 29,
    "start_time": "2022-07-08T21:14:12.282Z"
   },
   {
    "duration": 26,
    "start_time": "2022-07-08T21:14:50.810Z"
   },
   {
    "duration": 290,
    "start_time": "2022-07-08T21:20:27.977Z"
   },
   {
    "duration": 29,
    "start_time": "2022-07-08T21:20:49.251Z"
   },
   {
    "duration": 146,
    "start_time": "2022-07-08T21:24:52.660Z"
   },
   {
    "duration": 12,
    "start_time": "2022-07-08T21:24:56.088Z"
   },
   {
    "duration": 23,
    "start_time": "2022-07-08T21:24:57.938Z"
   },
   {
    "duration": 279,
    "start_time": "2022-07-08T21:26:56.972Z"
   },
   {
    "duration": 199,
    "start_time": "2022-07-08T21:27:17.664Z"
   },
   {
    "duration": 206,
    "start_time": "2022-07-08T21:27:53.014Z"
   },
   {
    "duration": 215,
    "start_time": "2022-07-08T21:28:00.405Z"
   },
   {
    "duration": 204,
    "start_time": "2022-07-08T21:28:17.283Z"
   },
   {
    "duration": 11,
    "start_time": "2022-07-08T21:29:00.085Z"
   },
   {
    "duration": 100,
    "start_time": "2022-07-08T21:29:17.323Z"
   },
   {
    "duration": 117,
    "start_time": "2022-07-08T21:29:49.406Z"
   },
   {
    "duration": 104,
    "start_time": "2022-07-08T21:30:05.565Z"
   },
   {
    "duration": 99,
    "start_time": "2022-07-08T21:30:27.056Z"
   },
   {
    "duration": 107,
    "start_time": "2022-07-08T21:31:06.574Z"
   },
   {
    "duration": 1349,
    "start_time": "2022-07-09T05:19:26.177Z"
   },
   {
    "duration": 3,
    "start_time": "2022-07-09T05:19:27.529Z"
   },
   {
    "duration": 347,
    "start_time": "2022-07-09T05:19:27.533Z"
   },
   {
    "duration": 197,
    "start_time": "2022-07-09T05:19:27.881Z"
   },
   {
    "duration": 50,
    "start_time": "2022-07-09T05:19:28.080Z"
   },
   {
    "duration": 94,
    "start_time": "2022-07-09T05:19:28.131Z"
   },
   {
    "duration": 34,
    "start_time": "2022-07-09T05:19:28.227Z"
   },
   {
    "duration": 15,
    "start_time": "2022-07-09T05:19:28.263Z"
   },
   {
    "duration": 39,
    "start_time": "2022-07-09T05:19:28.279Z"
   },
   {
    "duration": 242,
    "start_time": "2022-07-09T05:19:28.320Z"
   },
   {
    "duration": 52,
    "start_time": "2022-07-09T05:19:28.564Z"
   },
   {
    "duration": 16,
    "start_time": "2022-07-09T05:19:28.618Z"
   },
   {
    "duration": 14,
    "start_time": "2022-07-09T05:19:28.636Z"
   },
   {
    "duration": 17,
    "start_time": "2022-07-09T05:19:28.653Z"
   },
   {
    "duration": 45,
    "start_time": "2022-07-09T05:19:28.671Z"
   },
   {
    "duration": 27,
    "start_time": "2022-07-09T05:19:28.719Z"
   },
   {
    "duration": 20,
    "start_time": "2022-07-09T05:19:28.748Z"
   },
   {
    "duration": 31,
    "start_time": "2022-07-09T05:19:28.770Z"
   },
   {
    "duration": 44,
    "start_time": "2022-07-09T05:19:28.803Z"
   },
   {
    "duration": 28,
    "start_time": "2022-07-09T05:19:28.848Z"
   },
   {
    "duration": 37,
    "start_time": "2022-07-09T05:19:28.878Z"
   },
   {
    "duration": 27,
    "start_time": "2022-07-09T05:19:28.917Z"
   },
   {
    "duration": 269,
    "start_time": "2022-07-09T05:19:28.946Z"
   },
   {
    "duration": 6,
    "start_time": "2022-07-09T05:19:29.217Z"
   },
   {
    "duration": 53,
    "start_time": "2022-07-09T05:19:29.225Z"
   },
   {
    "duration": 4,
    "start_time": "2022-07-09T05:19:29.280Z"
   },
   {
    "duration": 88,
    "start_time": "2022-07-09T05:19:29.286Z"
   },
   {
    "duration": 11,
    "start_time": "2022-07-09T05:19:29.376Z"
   },
   {
    "duration": 57,
    "start_time": "2022-07-09T05:19:29.389Z"
   },
   {
    "duration": 3,
    "start_time": "2022-07-09T05:19:29.447Z"
   },
   {
    "duration": 31,
    "start_time": "2022-07-09T05:19:29.452Z"
   },
   {
    "duration": 51,
    "start_time": "2022-07-09T05:19:29.484Z"
   },
   {
    "duration": 22,
    "start_time": "2022-07-09T05:19:29.536Z"
   },
   {
    "duration": 35,
    "start_time": "2022-07-09T05:19:29.560Z"
   },
   {
    "duration": 34,
    "start_time": "2022-07-09T05:19:29.596Z"
   },
   {
    "duration": 35,
    "start_time": "2022-07-09T05:19:29.631Z"
   },
   {
    "duration": 30,
    "start_time": "2022-07-09T05:19:29.668Z"
   },
   {
    "duration": 305,
    "start_time": "2022-07-09T05:19:29.699Z"
   },
   {
    "duration": 100,
    "start_time": "2022-07-09T05:19:30.016Z"
   },
   {
    "duration": 24,
    "start_time": "2022-07-09T05:19:30.117Z"
   },
   {
    "duration": 4,
    "start_time": "2022-07-09T05:19:30.145Z"
   },
   {
    "duration": 17,
    "start_time": "2022-07-09T05:19:30.150Z"
   },
   {
    "duration": 16,
    "start_time": "2022-07-09T05:19:30.169Z"
   },
   {
    "duration": 29,
    "start_time": "2022-07-09T05:19:30.187Z"
   },
   {
    "duration": 26,
    "start_time": "2022-07-09T05:19:30.217Z"
   },
   {
    "duration": 49,
    "start_time": "2022-07-09T05:19:30.244Z"
   },
   {
    "duration": 18,
    "start_time": "2022-07-09T05:19:30.295Z"
   },
   {
    "duration": 227,
    "start_time": "2022-07-09T05:19:30.315Z"
   },
   {
    "duration": 169,
    "start_time": "2022-07-09T05:19:30.544Z"
   },
   {
    "duration": 17,
    "start_time": "2022-07-09T05:19:30.715Z"
   },
   {
    "duration": 20,
    "start_time": "2022-07-09T05:19:30.733Z"
   },
   {
    "duration": 14,
    "start_time": "2022-07-09T05:19:30.755Z"
   },
   {
    "duration": 58,
    "start_time": "2022-07-09T05:19:30.771Z"
   },
   {
    "duration": 50,
    "start_time": "2022-07-09T05:19:30.831Z"
   },
   {
    "duration": 37,
    "start_time": "2022-07-09T05:19:30.883Z"
   },
   {
    "duration": 16,
    "start_time": "2022-07-09T05:19:30.922Z"
   },
   {
    "duration": 45,
    "start_time": "2022-07-09T05:19:30.940Z"
   },
   {
    "duration": 232,
    "start_time": "2022-07-09T05:19:30.987Z"
   },
   {
    "duration": 22,
    "start_time": "2022-07-09T05:19:31.221Z"
   },
   {
    "duration": 31,
    "start_time": "2022-07-09T05:19:31.246Z"
   },
   {
    "duration": 38,
    "start_time": "2022-07-09T05:19:31.279Z"
   },
   {
    "duration": 273,
    "start_time": "2022-07-09T05:19:31.319Z"
   },
   {
    "duration": 25,
    "start_time": "2022-07-09T05:19:31.593Z"
   },
   {
    "duration": 15,
    "start_time": "2022-07-09T05:19:31.620Z"
   },
   {
    "duration": 428,
    "start_time": "2022-07-09T05:19:31.636Z"
   },
   {
    "duration": 56,
    "start_time": "2022-07-09T05:19:32.065Z"
   },
   {
    "duration": 14,
    "start_time": "2022-07-09T05:19:32.123Z"
   },
   {
    "duration": 32,
    "start_time": "2022-07-09T05:19:32.138Z"
   },
   {
    "duration": 273,
    "start_time": "2022-07-09T05:19:32.172Z"
   },
   {
    "duration": 125,
    "start_time": "2022-07-09T05:19:32.447Z"
   },
   {
    "duration": 15,
    "start_time": "2022-07-09T05:19:32.574Z"
   },
   {
    "duration": 12,
    "start_time": "2022-07-09T05:19:32.601Z"
   },
   {
    "duration": 22,
    "start_time": "2022-07-09T05:19:32.615Z"
   },
   {
    "duration": 11,
    "start_time": "2022-07-09T05:19:32.638Z"
   },
   {
    "duration": 133,
    "start_time": "2022-07-09T07:20:49.417Z"
   },
   {
    "duration": 33,
    "start_time": "2022-07-09T07:21:13.794Z"
   },
   {
    "duration": 21,
    "start_time": "2022-07-09T07:21:25.949Z"
   },
   {
    "duration": 5,
    "start_time": "2022-07-09T07:22:31.287Z"
   },
   {
    "duration": 21,
    "start_time": "2022-07-09T07:22:46.594Z"
   },
   {
    "duration": 19,
    "start_time": "2022-07-09T07:23:00.058Z"
   },
   {
    "duration": 22,
    "start_time": "2022-07-09T07:23:52.624Z"
   },
   {
    "duration": 25,
    "start_time": "2022-07-09T07:24:13.264Z"
   },
   {
    "duration": 20,
    "start_time": "2022-07-09T07:24:26.427Z"
   },
   {
    "duration": 9,
    "start_time": "2022-07-09T07:34:58.873Z"
   },
   {
    "duration": 379,
    "start_time": "2022-07-09T07:35:18.908Z"
   },
   {
    "duration": 139,
    "start_time": "2022-07-09T07:35:47.221Z"
   },
   {
    "duration": 9,
    "start_time": "2022-07-09T07:36:10.076Z"
   },
   {
    "duration": 149,
    "start_time": "2022-07-09T07:36:16.005Z"
   },
   {
    "duration": 121,
    "start_time": "2022-07-09T07:36:30.174Z"
   },
   {
    "duration": 106,
    "start_time": "2022-07-09T07:37:25.830Z"
   },
   {
    "duration": 13,
    "start_time": "2022-07-09T07:50:58.791Z"
   },
   {
    "duration": 9,
    "start_time": "2022-07-09T07:54:50.060Z"
   },
   {
    "duration": 6,
    "start_time": "2022-07-09T07:58:27.837Z"
   },
   {
    "duration": 15,
    "start_time": "2022-07-09T07:58:51.796Z"
   },
   {
    "duration": 21,
    "start_time": "2022-07-09T07:59:50.629Z"
   },
   {
    "duration": 20,
    "start_time": "2022-07-09T08:00:01.165Z"
   },
   {
    "duration": 25,
    "start_time": "2022-07-09T08:14:00.320Z"
   },
   {
    "duration": 38,
    "start_time": "2022-07-09T08:14:12.195Z"
   },
   {
    "duration": 28,
    "start_time": "2022-07-09T08:25:26.881Z"
   },
   {
    "duration": 25,
    "start_time": "2022-07-09T08:25:36.420Z"
   },
   {
    "duration": 26,
    "start_time": "2022-07-09T08:25:43.720Z"
   },
   {
    "duration": 394,
    "start_time": "2022-07-09T08:36:19.175Z"
   },
   {
    "duration": 24,
    "start_time": "2022-07-09T08:39:33.421Z"
   },
   {
    "duration": 26,
    "start_time": "2022-07-09T08:40:49.028Z"
   },
   {
    "duration": 24,
    "start_time": "2022-07-09T08:46:32.944Z"
   },
   {
    "duration": 21,
    "start_time": "2022-07-09T08:47:23.626Z"
   },
   {
    "duration": 16,
    "start_time": "2022-07-09T09:04:46.925Z"
   },
   {
    "duration": 5,
    "start_time": "2022-07-09T09:13:56.578Z"
   },
   {
    "duration": 4,
    "start_time": "2022-07-09T09:14:09.837Z"
   },
   {
    "duration": 12,
    "start_time": "2022-07-09T09:14:17.925Z"
   },
   {
    "duration": 6,
    "start_time": "2022-07-09T09:14:32.750Z"
   },
   {
    "duration": 9,
    "start_time": "2022-07-09T09:14:44.862Z"
   },
   {
    "duration": 10,
    "start_time": "2022-07-09T09:15:04.257Z"
   },
   {
    "duration": 7,
    "start_time": "2022-07-09T09:15:49.435Z"
   },
   {
    "duration": 5,
    "start_time": "2022-07-09T09:17:30.449Z"
   },
   {
    "duration": 19,
    "start_time": "2022-07-09T09:19:42.516Z"
   },
   {
    "duration": 5,
    "start_time": "2022-07-09T09:19:46.550Z"
   },
   {
    "duration": 3,
    "start_time": "2022-07-09T09:24:08.839Z"
   },
   {
    "duration": 9,
    "start_time": "2022-07-09T09:24:21.957Z"
   },
   {
    "duration": 9,
    "start_time": "2022-07-09T09:24:32.780Z"
   },
   {
    "duration": 5,
    "start_time": "2022-07-09T09:24:48.950Z"
   },
   {
    "duration": 5,
    "start_time": "2022-07-09T09:28:54.439Z"
   },
   {
    "duration": 4,
    "start_time": "2022-07-09T09:29:09.444Z"
   },
   {
    "duration": 7,
    "start_time": "2022-07-09T09:29:35.632Z"
   },
   {
    "duration": 5,
    "start_time": "2022-07-09T09:48:31.951Z"
   },
   {
    "duration": 7,
    "start_time": "2022-07-09T09:48:49.472Z"
   },
   {
    "duration": 8,
    "start_time": "2022-07-09T10:01:17.962Z"
   },
   {
    "duration": 27,
    "start_time": "2022-07-09T10:01:56.197Z"
   },
   {
    "duration": 3,
    "start_time": "2022-07-09T10:02:25.050Z"
   },
   {
    "duration": 10,
    "start_time": "2022-07-09T10:02:25.056Z"
   },
   {
    "duration": 61,
    "start_time": "2022-07-09T10:02:25.068Z"
   },
   {
    "duration": 207,
    "start_time": "2022-07-09T10:02:25.131Z"
   },
   {
    "duration": 31,
    "start_time": "2022-07-09T10:02:25.340Z"
   },
   {
    "duration": 202,
    "start_time": "2022-07-09T10:02:25.373Z"
   },
   {
    "duration": 51,
    "start_time": "2022-07-09T10:02:25.577Z"
   },
   {
    "duration": 14,
    "start_time": "2022-07-09T10:02:25.630Z"
   },
   {
    "duration": 17,
    "start_time": "2022-07-09T10:02:25.646Z"
   },
   {
    "duration": 260,
    "start_time": "2022-07-09T10:02:25.665Z"
   },
   {
    "duration": 32,
    "start_time": "2022-07-09T10:02:25.927Z"
   },
   {
    "duration": 14,
    "start_time": "2022-07-09T10:02:25.960Z"
   },
   {
    "duration": 10,
    "start_time": "2022-07-09T10:02:25.976Z"
   },
   {
    "duration": 30,
    "start_time": "2022-07-09T10:02:25.988Z"
   },
   {
    "duration": 22,
    "start_time": "2022-07-09T10:02:26.022Z"
   },
   {
    "duration": 13,
    "start_time": "2022-07-09T10:02:26.045Z"
   },
   {
    "duration": 7,
    "start_time": "2022-07-09T10:02:26.059Z"
   },
   {
    "duration": 17,
    "start_time": "2022-07-09T10:02:26.067Z"
   },
   {
    "duration": 16,
    "start_time": "2022-07-09T10:02:26.086Z"
   },
   {
    "duration": 21,
    "start_time": "2022-07-09T10:02:26.104Z"
   },
   {
    "duration": 25,
    "start_time": "2022-07-09T10:02:26.127Z"
   },
   {
    "duration": 13,
    "start_time": "2022-07-09T10:02:26.154Z"
   },
   {
    "duration": 247,
    "start_time": "2022-07-09T10:02:26.168Z"
   },
   {
    "duration": 9,
    "start_time": "2022-07-09T10:02:26.419Z"
   },
   {
    "duration": 55,
    "start_time": "2022-07-09T10:02:26.430Z"
   },
   {
    "duration": 5,
    "start_time": "2022-07-09T10:02:26.486Z"
   },
   {
    "duration": 51,
    "start_time": "2022-07-09T10:02:26.492Z"
   },
   {
    "duration": 17,
    "start_time": "2022-07-09T10:02:26.545Z"
   },
   {
    "duration": 38,
    "start_time": "2022-07-09T10:02:26.564Z"
   },
   {
    "duration": 6,
    "start_time": "2022-07-09T10:02:26.604Z"
   },
   {
    "duration": 22,
    "start_time": "2022-07-09T10:02:26.611Z"
   },
   {
    "duration": 16,
    "start_time": "2022-07-09T10:02:26.634Z"
   },
   {
    "duration": 17,
    "start_time": "2022-07-09T10:02:26.651Z"
   },
   {
    "duration": 25,
    "start_time": "2022-07-09T10:02:26.669Z"
   },
   {
    "duration": 26,
    "start_time": "2022-07-09T10:02:26.696Z"
   },
   {
    "duration": 13,
    "start_time": "2022-07-09T10:02:26.724Z"
   },
   {
    "duration": 18,
    "start_time": "2022-07-09T10:02:26.739Z"
   },
   {
    "duration": 267,
    "start_time": "2022-07-09T10:02:26.759Z"
   },
   {
    "duration": 115,
    "start_time": "2022-07-09T10:02:27.027Z"
   },
   {
    "duration": 24,
    "start_time": "2022-07-09T10:02:27.144Z"
   },
   {
    "duration": 3,
    "start_time": "2022-07-09T10:02:27.169Z"
   },
   {
    "duration": 10,
    "start_time": "2022-07-09T10:02:27.174Z"
   },
   {
    "duration": 18,
    "start_time": "2022-07-09T10:02:27.186Z"
   },
   {
    "duration": 10,
    "start_time": "2022-07-09T10:02:27.205Z"
   },
   {
    "duration": 19,
    "start_time": "2022-07-09T10:02:27.216Z"
   },
   {
    "duration": 21,
    "start_time": "2022-07-09T10:02:27.236Z"
   },
   {
    "duration": 11,
    "start_time": "2022-07-09T10:02:27.259Z"
   },
   {
    "duration": 263,
    "start_time": "2022-07-09T10:02:27.272Z"
   },
   {
    "duration": 113,
    "start_time": "2022-07-09T10:02:27.537Z"
   },
   {
    "duration": 15,
    "start_time": "2022-07-09T10:02:27.652Z"
   },
   {
    "duration": 40,
    "start_time": "2022-07-09T10:02:27.669Z"
   },
   {
    "duration": 9,
    "start_time": "2022-07-09T10:02:27.711Z"
   },
   {
    "duration": 16,
    "start_time": "2022-07-09T10:02:27.724Z"
   },
   {
    "duration": 33,
    "start_time": "2022-07-09T10:02:27.741Z"
   },
   {
    "duration": 35,
    "start_time": "2022-07-09T10:02:27.776Z"
   },
   {
    "duration": 22,
    "start_time": "2022-07-09T10:02:27.812Z"
   },
   {
    "duration": 31,
    "start_time": "2022-07-09T10:02:27.835Z"
   },
   {
    "duration": 243,
    "start_time": "2022-07-09T10:02:27.868Z"
   },
   {
    "duration": 26,
    "start_time": "2022-07-09T10:02:28.112Z"
   },
   {
    "duration": 7,
    "start_time": "2022-07-09T10:02:28.140Z"
   },
   {
    "duration": 18,
    "start_time": "2022-07-09T10:02:28.149Z"
   },
   {
    "duration": 269,
    "start_time": "2022-07-09T10:02:28.169Z"
   },
   {
    "duration": 24,
    "start_time": "2022-07-09T10:02:28.439Z"
   },
   {
    "duration": 18,
    "start_time": "2022-07-09T10:02:28.465Z"
   },
   {
    "duration": 44,
    "start_time": "2022-07-09T10:02:28.485Z"
   },
   {
    "duration": 19,
    "start_time": "2022-07-09T10:02:28.530Z"
   },
   {
    "duration": 29,
    "start_time": "2022-07-09T10:02:28.551Z"
   },
   {
    "duration": 15,
    "start_time": "2022-07-09T10:02:28.582Z"
   },
   {
    "duration": 15,
    "start_time": "2022-07-09T10:02:28.602Z"
   },
   {
    "duration": 324,
    "start_time": "2022-07-09T10:02:28.618Z"
   },
   {
    "duration": 176,
    "start_time": "2022-07-09T10:02:28.944Z"
   },
   {
    "duration": 14,
    "start_time": "2022-07-09T10:02:29.130Z"
   },
   {
    "duration": 25,
    "start_time": "2022-07-09T10:02:29.145Z"
   },
   {
    "duration": 265,
    "start_time": "2022-07-09T10:02:29.172Z"
   },
   {
    "duration": 126,
    "start_time": "2022-07-09T10:02:29.439Z"
   },
   {
    "duration": 5,
    "start_time": "2022-07-09T10:02:29.568Z"
   },
   {
    "duration": 8,
    "start_time": "2022-07-09T10:02:29.574Z"
   },
   {
    "duration": 24,
    "start_time": "2022-07-09T10:02:29.583Z"
   },
   {
    "duration": 9,
    "start_time": "2022-07-09T10:02:29.608Z"
   },
   {
    "duration": 33,
    "start_time": "2022-07-09T10:02:29.619Z"
   },
   {
    "duration": 0,
    "start_time": "2022-07-09T10:02:29.653Z"
   },
   {
    "duration": 0,
    "start_time": "2022-07-09T10:02:29.655Z"
   },
   {
    "duration": 0,
    "start_time": "2022-07-09T10:02:29.656Z"
   },
   {
    "duration": 0,
    "start_time": "2022-07-09T10:02:29.657Z"
   },
   {
    "duration": 8,
    "start_time": "2022-07-09T10:03:04.280Z"
   },
   {
    "duration": 4,
    "start_time": "2022-07-09T10:03:13.423Z"
   },
   {
    "duration": 8,
    "start_time": "2022-07-09T10:03:15.358Z"
   },
   {
    "duration": 8,
    "start_time": "2022-07-09T10:03:17.176Z"
   },
   {
    "duration": 9,
    "start_time": "2022-07-09T10:06:25.354Z"
   },
   {
    "duration": 7,
    "start_time": "2022-07-09T10:06:49.517Z"
   },
   {
    "duration": 9,
    "start_time": "2022-07-09T10:07:19.791Z"
   },
   {
    "duration": 8,
    "start_time": "2022-07-09T10:07:34.862Z"
   },
   {
    "duration": 5,
    "start_time": "2022-07-09T10:14:46.464Z"
   },
   {
    "duration": 7,
    "start_time": "2022-07-09T10:14:48.664Z"
   },
   {
    "duration": 3,
    "start_time": "2022-07-09T10:14:54.071Z"
   },
   {
    "duration": 4,
    "start_time": "2022-07-09T10:14:59.374Z"
   },
   {
    "duration": 19,
    "start_time": "2022-07-09T10:15:12.422Z"
   },
   {
    "duration": 28,
    "start_time": "2022-07-09T10:17:13.475Z"
   },
   {
    "duration": 19,
    "start_time": "2022-07-09T10:17:50.832Z"
   },
   {
    "duration": 17,
    "start_time": "2022-07-09T10:18:53.647Z"
   },
   {
    "duration": 21,
    "start_time": "2022-07-09T10:19:28.228Z"
   },
   {
    "duration": 19,
    "start_time": "2022-07-09T10:19:51.029Z"
   },
   {
    "duration": 25,
    "start_time": "2022-07-09T10:20:06.003Z"
   },
   {
    "duration": 23,
    "start_time": "2022-07-09T10:20:27.901Z"
   },
   {
    "duration": 19,
    "start_time": "2022-07-09T10:21:40.050Z"
   },
   {
    "duration": 14,
    "start_time": "2022-07-09T10:26:05.861Z"
   },
   {
    "duration": 20,
    "start_time": "2022-07-09T10:26:26.375Z"
   },
   {
    "duration": 30,
    "start_time": "2022-07-09T10:26:37.792Z"
   },
   {
    "duration": 18,
    "start_time": "2022-07-09T10:27:55.840Z"
   },
   {
    "duration": 24,
    "start_time": "2022-07-09T10:29:20.895Z"
   },
   {
    "duration": 14,
    "start_time": "2022-07-09T10:29:34.854Z"
   },
   {
    "duration": 4,
    "start_time": "2022-07-09T10:29:41.622Z"
   },
   {
    "duration": 12,
    "start_time": "2022-07-09T10:29:41.629Z"
   },
   {
    "duration": 33,
    "start_time": "2022-07-09T10:29:41.643Z"
   },
   {
    "duration": 175,
    "start_time": "2022-07-09T10:29:41.678Z"
   },
   {
    "duration": 27,
    "start_time": "2022-07-09T10:29:41.855Z"
   },
   {
    "duration": 138,
    "start_time": "2022-07-09T10:29:41.883Z"
   },
   {
    "duration": 28,
    "start_time": "2022-07-09T10:29:42.022Z"
   },
   {
    "duration": 15,
    "start_time": "2022-07-09T10:29:42.052Z"
   },
   {
    "duration": 37,
    "start_time": "2022-07-09T10:29:42.069Z"
   },
   {
    "duration": 241,
    "start_time": "2022-07-09T10:29:42.109Z"
   },
   {
    "duration": 32,
    "start_time": "2022-07-09T10:29:42.352Z"
   },
   {
    "duration": 33,
    "start_time": "2022-07-09T10:29:42.387Z"
   },
   {
    "duration": 19,
    "start_time": "2022-07-09T10:29:42.424Z"
   },
   {
    "duration": 18,
    "start_time": "2022-07-09T10:29:42.444Z"
   },
   {
    "duration": 45,
    "start_time": "2022-07-09T10:29:42.463Z"
   },
   {
    "duration": 17,
    "start_time": "2022-07-09T10:29:42.516Z"
   },
   {
    "duration": 8,
    "start_time": "2022-07-09T10:29:42.535Z"
   },
   {
    "duration": 22,
    "start_time": "2022-07-09T10:29:42.545Z"
   },
   {
    "duration": 8,
    "start_time": "2022-07-09T10:29:42.569Z"
   },
   {
    "duration": 26,
    "start_time": "2022-07-09T10:29:42.578Z"
   },
   {
    "duration": 22,
    "start_time": "2022-07-09T10:29:42.605Z"
   },
   {
    "duration": 23,
    "start_time": "2022-07-09T10:29:42.629Z"
   },
   {
    "duration": 251,
    "start_time": "2022-07-09T10:29:42.654Z"
   },
   {
    "duration": 13,
    "start_time": "2022-07-09T10:29:42.907Z"
   },
   {
    "duration": 38,
    "start_time": "2022-07-09T10:29:42.922Z"
   },
   {
    "duration": 5,
    "start_time": "2022-07-09T10:29:42.961Z"
   },
   {
    "duration": 54,
    "start_time": "2022-07-09T10:29:42.967Z"
   },
   {
    "duration": 11,
    "start_time": "2022-07-09T10:29:43.024Z"
   },
   {
    "duration": 30,
    "start_time": "2022-07-09T10:29:43.037Z"
   },
   {
    "duration": 3,
    "start_time": "2022-07-09T10:29:43.069Z"
   },
   {
    "duration": 29,
    "start_time": "2022-07-09T10:29:43.074Z"
   },
   {
    "duration": 9,
    "start_time": "2022-07-09T10:29:43.116Z"
   },
   {
    "duration": 7,
    "start_time": "2022-07-09T10:29:43.127Z"
   },
   {
    "duration": 17,
    "start_time": "2022-07-09T10:29:43.136Z"
   },
   {
    "duration": 6,
    "start_time": "2022-07-09T10:29:43.155Z"
   },
   {
    "duration": 22,
    "start_time": "2022-07-09T10:29:43.162Z"
   },
   {
    "duration": 30,
    "start_time": "2022-07-09T10:29:43.188Z"
   },
   {
    "duration": 218,
    "start_time": "2022-07-09T10:29:43.220Z"
   },
   {
    "duration": 142,
    "start_time": "2022-07-09T10:29:43.440Z"
   },
   {
    "duration": 35,
    "start_time": "2022-07-09T10:29:43.584Z"
   },
   {
    "duration": 3,
    "start_time": "2022-07-09T10:29:43.623Z"
   },
   {
    "duration": 14,
    "start_time": "2022-07-09T10:29:43.628Z"
   },
   {
    "duration": 6,
    "start_time": "2022-07-09T10:29:43.644Z"
   },
   {
    "duration": 7,
    "start_time": "2022-07-09T10:29:43.652Z"
   },
   {
    "duration": 12,
    "start_time": "2022-07-09T10:29:43.661Z"
   },
   {
    "duration": 9,
    "start_time": "2022-07-09T10:29:43.675Z"
   },
   {
    "duration": 29,
    "start_time": "2022-07-09T10:29:43.686Z"
   },
   {
    "duration": 228,
    "start_time": "2022-07-09T10:29:43.716Z"
   },
   {
    "duration": 133,
    "start_time": "2022-07-09T10:29:43.945Z"
   },
   {
    "duration": 37,
    "start_time": "2022-07-09T10:29:44.079Z"
   },
   {
    "duration": 28,
    "start_time": "2022-07-09T10:29:44.117Z"
   },
   {
    "duration": 12,
    "start_time": "2022-07-09T10:29:44.148Z"
   },
   {
    "duration": 21,
    "start_time": "2022-07-09T10:29:44.162Z"
   },
   {
    "duration": 50,
    "start_time": "2022-07-09T10:29:44.184Z"
   },
   {
    "duration": 23,
    "start_time": "2022-07-09T10:29:44.236Z"
   },
   {
    "duration": 14,
    "start_time": "2022-07-09T10:29:44.261Z"
   },
   {
    "duration": 54,
    "start_time": "2022-07-09T10:29:44.276Z"
   },
   {
    "duration": 268,
    "start_time": "2022-07-09T10:29:44.331Z"
   },
   {
    "duration": 27,
    "start_time": "2022-07-09T10:29:44.602Z"
   },
   {
    "duration": 12,
    "start_time": "2022-07-09T10:29:44.632Z"
   },
   {
    "duration": 18,
    "start_time": "2022-07-09T10:29:44.646Z"
   },
   {
    "duration": 299,
    "start_time": "2022-07-09T10:29:44.666Z"
   },
   {
    "duration": 24,
    "start_time": "2022-07-09T10:29:44.966Z"
   },
   {
    "duration": 32,
    "start_time": "2022-07-09T10:29:44.991Z"
   },
   {
    "duration": 85,
    "start_time": "2022-07-09T10:29:45.025Z"
   },
   {
    "duration": 13,
    "start_time": "2022-07-09T10:29:45.111Z"
   },
   {
    "duration": 135,
    "start_time": "2022-07-09T10:29:45.125Z"
   },
   {
    "duration": 13,
    "start_time": "2022-07-09T10:29:45.262Z"
   },
   {
    "duration": 37,
    "start_time": "2022-07-09T10:29:45.276Z"
   },
   {
    "duration": 405,
    "start_time": "2022-07-09T10:29:45.318Z"
   },
   {
    "duration": 49,
    "start_time": "2022-07-09T10:29:45.725Z"
   },
   {
    "duration": 39,
    "start_time": "2022-07-09T10:29:45.775Z"
   },
   {
    "duration": 27,
    "start_time": "2022-07-09T10:29:45.818Z"
   },
   {
    "duration": 232,
    "start_time": "2022-07-09T10:29:45.846Z"
   },
   {
    "duration": 125,
    "start_time": "2022-07-09T10:29:46.079Z"
   },
   {
    "duration": 8,
    "start_time": "2022-07-09T10:29:46.205Z"
   },
   {
    "duration": 25,
    "start_time": "2022-07-09T10:29:46.215Z"
   },
   {
    "duration": 7,
    "start_time": "2022-07-09T10:29:46.242Z"
   },
   {
    "duration": 10,
    "start_time": "2022-07-09T10:29:46.250Z"
   },
   {
    "duration": 5,
    "start_time": "2022-07-09T10:29:46.262Z"
   },
   {
    "duration": 23,
    "start_time": "2022-07-09T10:29:46.269Z"
   },
   {
    "duration": 36,
    "start_time": "2022-07-09T10:29:46.294Z"
   },
   {
    "duration": 14,
    "start_time": "2022-07-09T10:29:46.332Z"
   },
   {
    "duration": 25,
    "start_time": "2022-07-09T10:29:46.348Z"
   },
   {
    "duration": 11,
    "start_time": "2022-07-09T10:29:46.375Z"
   },
   {
    "duration": 31,
    "start_time": "2022-07-09T10:29:46.388Z"
   },
   {
    "duration": 18,
    "start_time": "2022-07-09T10:29:46.422Z"
   },
   {
    "duration": 23,
    "start_time": "2022-07-09T10:30:31.288Z"
   },
   {
    "duration": 4,
    "start_time": "2022-07-09T10:30:45.046Z"
   },
   {
    "duration": 15,
    "start_time": "2022-07-09T10:30:45.053Z"
   },
   {
    "duration": 70,
    "start_time": "2022-07-09T10:30:45.070Z"
   },
   {
    "duration": 198,
    "start_time": "2022-07-09T10:30:45.142Z"
   },
   {
    "duration": 35,
    "start_time": "2022-07-09T10:30:45.343Z"
   },
   {
    "duration": 146,
    "start_time": "2022-07-09T10:30:45.380Z"
   },
   {
    "duration": 33,
    "start_time": "2022-07-09T10:30:45.528Z"
   },
   {
    "duration": 15,
    "start_time": "2022-07-09T10:30:45.563Z"
   },
   {
    "duration": 33,
    "start_time": "2022-07-09T10:30:45.580Z"
   },
   {
    "duration": 265,
    "start_time": "2022-07-09T10:30:45.620Z"
   },
   {
    "duration": 46,
    "start_time": "2022-07-09T10:30:45.887Z"
   },
   {
    "duration": 16,
    "start_time": "2022-07-09T10:30:45.934Z"
   },
   {
    "duration": 11,
    "start_time": "2022-07-09T10:30:45.951Z"
   },
   {
    "duration": 42,
    "start_time": "2022-07-09T10:30:45.963Z"
   },
   {
    "duration": 18,
    "start_time": "2022-07-09T10:30:46.011Z"
   },
   {
    "duration": 12,
    "start_time": "2022-07-09T10:30:46.030Z"
   },
   {
    "duration": 6,
    "start_time": "2022-07-09T10:30:46.044Z"
   },
   {
    "duration": 18,
    "start_time": "2022-07-09T10:30:46.051Z"
   },
   {
    "duration": 32,
    "start_time": "2022-07-09T10:30:46.070Z"
   },
   {
    "duration": 14,
    "start_time": "2022-07-09T10:30:46.105Z"
   },
   {
    "duration": 12,
    "start_time": "2022-07-09T10:30:46.121Z"
   },
   {
    "duration": 17,
    "start_time": "2022-07-09T10:30:46.135Z"
   },
   {
    "duration": 257,
    "start_time": "2022-07-09T10:30:46.154Z"
   },
   {
    "duration": 8,
    "start_time": "2022-07-09T10:30:46.412Z"
   },
   {
    "duration": 35,
    "start_time": "2022-07-09T10:30:46.422Z"
   },
   {
    "duration": 6,
    "start_time": "2022-07-09T10:30:46.458Z"
   },
   {
    "duration": 64,
    "start_time": "2022-07-09T10:30:46.465Z"
   },
   {
    "duration": 11,
    "start_time": "2022-07-09T10:30:46.531Z"
   },
   {
    "duration": 27,
    "start_time": "2022-07-09T10:30:46.547Z"
   },
   {
    "duration": 3,
    "start_time": "2022-07-09T10:30:46.575Z"
   },
   {
    "duration": 6,
    "start_time": "2022-07-09T10:30:46.601Z"
   },
   {
    "duration": 17,
    "start_time": "2022-07-09T10:30:46.608Z"
   },
   {
    "duration": 7,
    "start_time": "2022-07-09T10:30:46.627Z"
   },
   {
    "duration": 16,
    "start_time": "2022-07-09T10:30:46.635Z"
   },
   {
    "duration": 6,
    "start_time": "2022-07-09T10:30:46.652Z"
   },
   {
    "duration": 14,
    "start_time": "2022-07-09T10:30:46.659Z"
   },
   {
    "duration": 22,
    "start_time": "2022-07-09T10:30:46.674Z"
   },
   {
    "duration": 248,
    "start_time": "2022-07-09T10:30:46.698Z"
   },
   {
    "duration": 116,
    "start_time": "2022-07-09T10:30:46.948Z"
   },
   {
    "duration": 35,
    "start_time": "2022-07-09T10:30:47.066Z"
   },
   {
    "duration": 3,
    "start_time": "2022-07-09T10:30:47.102Z"
   },
   {
    "duration": 5,
    "start_time": "2022-07-09T10:30:47.107Z"
   },
   {
    "duration": 6,
    "start_time": "2022-07-09T10:30:47.114Z"
   },
   {
    "duration": 14,
    "start_time": "2022-07-09T10:30:47.122Z"
   },
   {
    "duration": 21,
    "start_time": "2022-07-09T10:30:47.138Z"
   },
   {
    "duration": 21,
    "start_time": "2022-07-09T10:30:47.160Z"
   },
   {
    "duration": 25,
    "start_time": "2022-07-09T10:30:47.183Z"
   },
   {
    "duration": 231,
    "start_time": "2022-07-09T10:30:47.210Z"
   },
   {
    "duration": 144,
    "start_time": "2022-07-09T10:30:47.442Z"
   },
   {
    "duration": 24,
    "start_time": "2022-07-09T10:30:47.588Z"
   },
   {
    "duration": 21,
    "start_time": "2022-07-09T10:30:47.615Z"
   },
   {
    "duration": 6,
    "start_time": "2022-07-09T10:30:47.638Z"
   },
   {
    "duration": 16,
    "start_time": "2022-07-09T10:30:47.646Z"
   },
   {
    "duration": 162,
    "start_time": "2022-07-09T10:30:47.663Z"
   },
   {
    "duration": 31,
    "start_time": "2022-07-09T10:30:47.828Z"
   },
   {
    "duration": 20,
    "start_time": "2022-07-09T10:30:47.861Z"
   },
   {
    "duration": 51,
    "start_time": "2022-07-09T10:30:47.882Z"
   },
   {
    "duration": 260,
    "start_time": "2022-07-09T10:30:47.935Z"
   },
   {
    "duration": 28,
    "start_time": "2022-07-09T10:30:48.197Z"
   },
   {
    "duration": 9,
    "start_time": "2022-07-09T10:30:48.227Z"
   },
   {
    "duration": 15,
    "start_time": "2022-07-09T10:30:48.238Z"
   },
   {
    "duration": 275,
    "start_time": "2022-07-09T10:30:48.255Z"
   },
   {
    "duration": 28,
    "start_time": "2022-07-09T10:30:48.532Z"
   },
   {
    "duration": 22,
    "start_time": "2022-07-09T10:30:48.562Z"
   },
   {
    "duration": 31,
    "start_time": "2022-07-09T10:30:48.603Z"
   },
   {
    "duration": 8,
    "start_time": "2022-07-09T10:30:48.636Z"
   },
   {
    "duration": 27,
    "start_time": "2022-07-09T10:30:48.646Z"
   },
   {
    "duration": 17,
    "start_time": "2022-07-09T10:30:48.675Z"
   },
   {
    "duration": 19,
    "start_time": "2022-07-09T10:30:48.701Z"
   },
   {
    "duration": 353,
    "start_time": "2022-07-09T10:30:48.722Z"
   },
   {
    "duration": 62,
    "start_time": "2022-07-09T10:30:49.077Z"
   },
   {
    "duration": 14,
    "start_time": "2022-07-09T10:30:49.141Z"
   },
   {
    "duration": 49,
    "start_time": "2022-07-09T10:30:49.157Z"
   },
   {
    "duration": 239,
    "start_time": "2022-07-09T10:30:49.208Z"
   },
   {
    "duration": 127,
    "start_time": "2022-07-09T10:30:49.449Z"
   },
   {
    "duration": 6,
    "start_time": "2022-07-09T10:30:49.577Z"
   },
   {
    "duration": 8,
    "start_time": "2022-07-09T10:30:49.585Z"
   },
   {
    "duration": 15,
    "start_time": "2022-07-09T10:30:49.594Z"
   },
   {
    "duration": 10,
    "start_time": "2022-07-09T10:30:49.615Z"
   },
   {
    "duration": 7,
    "start_time": "2022-07-09T10:30:49.627Z"
   },
   {
    "duration": 22,
    "start_time": "2022-07-09T10:30:49.636Z"
   },
   {
    "duration": 20,
    "start_time": "2022-07-09T10:30:49.660Z"
   },
   {
    "duration": 15,
    "start_time": "2022-07-09T10:30:49.703Z"
   },
   {
    "duration": 21,
    "start_time": "2022-07-09T10:30:49.720Z"
   },
   {
    "duration": 13,
    "start_time": "2022-07-09T10:30:49.742Z"
   },
   {
    "duration": 46,
    "start_time": "2022-07-09T10:30:49.757Z"
   },
   {
    "duration": 16,
    "start_time": "2022-07-09T10:30:49.809Z"
   },
   {
    "duration": 294,
    "start_time": "2022-07-09T10:32:21.051Z"
   },
   {
    "duration": 4,
    "start_time": "2022-07-09T10:32:28.727Z"
   },
   {
    "duration": 21,
    "start_time": "2022-07-09T10:32:28.734Z"
   },
   {
    "duration": 96,
    "start_time": "2022-07-09T10:32:28.756Z"
   },
   {
    "duration": 143,
    "start_time": "2022-07-09T10:32:28.854Z"
   },
   {
    "duration": 40,
    "start_time": "2022-07-09T10:32:28.999Z"
   },
   {
    "duration": 117,
    "start_time": "2022-07-09T10:32:29.040Z"
   },
   {
    "duration": 29,
    "start_time": "2022-07-09T10:32:29.158Z"
   },
   {
    "duration": 30,
    "start_time": "2022-07-09T10:32:29.189Z"
   },
   {
    "duration": 22,
    "start_time": "2022-07-09T10:32:29.221Z"
   },
   {
    "duration": 238,
    "start_time": "2022-07-09T10:32:29.245Z"
   },
   {
    "duration": 49,
    "start_time": "2022-07-09T10:32:29.485Z"
   },
   {
    "duration": 18,
    "start_time": "2022-07-09T10:32:29.537Z"
   },
   {
    "duration": 11,
    "start_time": "2022-07-09T10:32:29.557Z"
   },
   {
    "duration": 32,
    "start_time": "2022-07-09T10:32:29.571Z"
   },
   {
    "duration": 23,
    "start_time": "2022-07-09T10:32:29.605Z"
   },
   {
    "duration": 18,
    "start_time": "2022-07-09T10:32:29.629Z"
   },
   {
    "duration": 7,
    "start_time": "2022-07-09T10:32:29.648Z"
   },
   {
    "duration": 16,
    "start_time": "2022-07-09T10:32:29.657Z"
   },
   {
    "duration": 27,
    "start_time": "2022-07-09T10:32:29.675Z"
   },
   {
    "duration": 22,
    "start_time": "2022-07-09T10:32:29.704Z"
   },
   {
    "duration": 17,
    "start_time": "2022-07-09T10:32:29.728Z"
   },
   {
    "duration": 13,
    "start_time": "2022-07-09T10:32:29.746Z"
   },
   {
    "duration": 243,
    "start_time": "2022-07-09T10:32:29.761Z"
   },
   {
    "duration": 24,
    "start_time": "2022-07-09T10:32:30.007Z"
   },
   {
    "duration": 45,
    "start_time": "2022-07-09T10:32:30.034Z"
   },
   {
    "duration": 4,
    "start_time": "2022-07-09T10:32:30.081Z"
   },
   {
    "duration": 53,
    "start_time": "2022-07-09T10:32:30.087Z"
   },
   {
    "duration": 11,
    "start_time": "2022-07-09T10:32:30.141Z"
   },
   {
    "duration": 29,
    "start_time": "2022-07-09T10:32:30.154Z"
   },
   {
    "duration": 24,
    "start_time": "2022-07-09T10:32:30.185Z"
   },
   {
    "duration": 29,
    "start_time": "2022-07-09T10:32:30.218Z"
   },
   {
    "duration": 9,
    "start_time": "2022-07-09T10:32:30.249Z"
   },
   {
    "duration": 12,
    "start_time": "2022-07-09T10:32:30.259Z"
   },
   {
    "duration": 18,
    "start_time": "2022-07-09T10:32:30.273Z"
   },
   {
    "duration": 39,
    "start_time": "2022-07-09T10:32:30.293Z"
   },
   {
    "duration": 17,
    "start_time": "2022-07-09T10:32:30.336Z"
   },
   {
    "duration": 22,
    "start_time": "2022-07-09T10:32:30.355Z"
   },
   {
    "duration": 257,
    "start_time": "2022-07-09T10:32:30.378Z"
   },
   {
    "duration": 128,
    "start_time": "2022-07-09T10:32:30.637Z"
   },
   {
    "duration": 24,
    "start_time": "2022-07-09T10:32:30.766Z"
   },
   {
    "duration": 30,
    "start_time": "2022-07-09T10:32:30.800Z"
   },
   {
    "duration": 15,
    "start_time": "2022-07-09T10:32:30.832Z"
   },
   {
    "duration": 42,
    "start_time": "2022-07-09T10:32:30.848Z"
   },
   {
    "duration": 69,
    "start_time": "2022-07-09T10:32:30.892Z"
   },
   {
    "duration": 21,
    "start_time": "2022-07-09T10:32:30.963Z"
   },
   {
    "duration": 26,
    "start_time": "2022-07-09T10:32:30.986Z"
   },
   {
    "duration": 60,
    "start_time": "2022-07-09T10:32:31.013Z"
   },
   {
    "duration": 259,
    "start_time": "2022-07-09T10:32:31.075Z"
   },
   {
    "duration": 239,
    "start_time": "2022-07-09T10:32:31.336Z"
   },
   {
    "duration": 13,
    "start_time": "2022-07-09T10:32:31.577Z"
   },
   {
    "duration": 47,
    "start_time": "2022-07-09T10:32:31.592Z"
   },
   {
    "duration": 11,
    "start_time": "2022-07-09T10:32:31.640Z"
   },
   {
    "duration": 23,
    "start_time": "2022-07-09T10:32:31.653Z"
   },
   {
    "duration": 43,
    "start_time": "2022-07-09T10:32:31.678Z"
   },
   {
    "duration": 32,
    "start_time": "2022-07-09T10:32:31.723Z"
   },
   {
    "duration": 13,
    "start_time": "2022-07-09T10:32:31.756Z"
   },
   {
    "duration": 27,
    "start_time": "2022-07-09T10:32:31.771Z"
   },
   {
    "duration": 249,
    "start_time": "2022-07-09T10:32:31.800Z"
   },
   {
    "duration": 19,
    "start_time": "2022-07-09T10:32:32.051Z"
   },
   {
    "duration": 7,
    "start_time": "2022-07-09T10:32:32.072Z"
   },
   {
    "duration": 34,
    "start_time": "2022-07-09T10:32:32.081Z"
   },
   {
    "duration": 254,
    "start_time": "2022-07-09T10:32:32.116Z"
   },
   {
    "duration": 33,
    "start_time": "2022-07-09T10:32:32.372Z"
   },
   {
    "duration": 27,
    "start_time": "2022-07-09T10:32:32.412Z"
   },
   {
    "duration": 22,
    "start_time": "2022-07-09T10:32:32.440Z"
   },
   {
    "duration": 4,
    "start_time": "2022-07-09T10:32:32.464Z"
   },
   {
    "duration": 55,
    "start_time": "2022-07-09T10:32:32.470Z"
   },
   {
    "duration": 22,
    "start_time": "2022-07-09T10:32:32.529Z"
   },
   {
    "duration": 56,
    "start_time": "2022-07-09T10:32:32.553Z"
   },
   {
    "duration": 723,
    "start_time": "2022-07-09T10:32:32.612Z"
   },
   {
    "duration": 187,
    "start_time": "2022-07-09T10:32:33.336Z"
   },
   {
    "duration": 19,
    "start_time": "2022-07-09T10:32:33.526Z"
   },
   {
    "duration": 89,
    "start_time": "2022-07-09T10:32:33.546Z"
   },
   {
    "duration": 683,
    "start_time": "2022-07-09T10:32:33.637Z"
   },
   {
    "duration": 209,
    "start_time": "2022-07-09T10:32:34.321Z"
   },
   {
    "duration": 6,
    "start_time": "2022-07-09T10:32:34.534Z"
   },
   {
    "duration": 7,
    "start_time": "2022-07-09T10:32:34.541Z"
   },
   {
    "duration": 11,
    "start_time": "2022-07-09T10:32:34.601Z"
   },
   {
    "duration": 28,
    "start_time": "2022-07-09T10:32:34.613Z"
   },
   {
    "duration": 5,
    "start_time": "2022-07-09T10:32:34.643Z"
   },
   {
    "duration": 62,
    "start_time": "2022-07-09T10:32:34.650Z"
   },
   {
    "duration": 23,
    "start_time": "2022-07-09T10:32:34.714Z"
   },
   {
    "duration": 10,
    "start_time": "2022-07-09T10:32:34.738Z"
   },
   {
    "duration": 76,
    "start_time": "2022-07-09T10:32:34.749Z"
   },
   {
    "duration": 24,
    "start_time": "2022-07-09T10:32:34.827Z"
   },
   {
    "duration": 15,
    "start_time": "2022-07-09T10:32:34.852Z"
   },
   {
    "duration": 9,
    "start_time": "2022-07-09T10:32:34.868Z"
   },
   {
    "duration": 255,
    "start_time": "2022-07-09T10:32:48.849Z"
   },
   {
    "duration": 334,
    "start_time": "2022-07-09T10:33:13.274Z"
   },
   {
    "duration": 18,
    "start_time": "2022-07-09T10:33:16.029Z"
   },
   {
    "duration": 235,
    "start_time": "2022-07-09T10:33:17.168Z"
   },
   {
    "duration": 3,
    "start_time": "2022-07-09T10:33:19.872Z"
   },
   {
    "duration": 7,
    "start_time": "2022-07-09T10:33:19.877Z"
   },
   {
    "duration": 57,
    "start_time": "2022-07-09T10:33:19.886Z"
   },
   {
    "duration": 136,
    "start_time": "2022-07-09T10:33:19.945Z"
   },
   {
    "duration": 34,
    "start_time": "2022-07-09T10:33:20.083Z"
   },
   {
    "duration": 114,
    "start_time": "2022-07-09T10:33:20.118Z"
   },
   {
    "duration": 31,
    "start_time": "2022-07-09T10:33:20.233Z"
   },
   {
    "duration": 40,
    "start_time": "2022-07-09T10:33:20.267Z"
   },
   {
    "duration": 22,
    "start_time": "2022-07-09T10:33:20.311Z"
   },
   {
    "duration": 254,
    "start_time": "2022-07-09T10:33:20.337Z"
   },
   {
    "duration": 47,
    "start_time": "2022-07-09T10:33:20.593Z"
   },
   {
    "duration": 14,
    "start_time": "2022-07-09T10:33:20.641Z"
   },
   {
    "duration": 11,
    "start_time": "2022-07-09T10:33:20.657Z"
   },
   {
    "duration": 49,
    "start_time": "2022-07-09T10:33:20.670Z"
   },
   {
    "duration": 18,
    "start_time": "2022-07-09T10:33:20.720Z"
   },
   {
    "duration": 34,
    "start_time": "2022-07-09T10:33:20.740Z"
   },
   {
    "duration": 11,
    "start_time": "2022-07-09T10:33:20.776Z"
   },
   {
    "duration": 34,
    "start_time": "2022-07-09T10:33:20.789Z"
   },
   {
    "duration": 13,
    "start_time": "2022-07-09T10:33:20.827Z"
   },
   {
    "duration": 10,
    "start_time": "2022-07-09T10:33:20.842Z"
   },
   {
    "duration": 12,
    "start_time": "2022-07-09T10:33:20.854Z"
   },
   {
    "duration": 11,
    "start_time": "2022-07-09T10:33:20.867Z"
   },
   {
    "duration": 250,
    "start_time": "2022-07-09T10:33:20.880Z"
   },
   {
    "duration": 7,
    "start_time": "2022-07-09T10:33:21.132Z"
   },
   {
    "duration": 37,
    "start_time": "2022-07-09T10:33:21.142Z"
   },
   {
    "duration": 4,
    "start_time": "2022-07-09T10:33:21.180Z"
   },
   {
    "duration": 54,
    "start_time": "2022-07-09T10:33:21.186Z"
   },
   {
    "duration": 10,
    "start_time": "2022-07-09T10:33:21.242Z"
   },
   {
    "duration": 30,
    "start_time": "2022-07-09T10:33:21.254Z"
   },
   {
    "duration": 27,
    "start_time": "2022-07-09T10:33:21.286Z"
   },
   {
    "duration": 29,
    "start_time": "2022-07-09T10:33:21.315Z"
   },
   {
    "duration": 15,
    "start_time": "2022-07-09T10:33:21.346Z"
   },
   {
    "duration": 15,
    "start_time": "2022-07-09T10:33:21.363Z"
   },
   {
    "duration": 27,
    "start_time": "2022-07-09T10:33:21.380Z"
   },
   {
    "duration": 28,
    "start_time": "2022-07-09T10:33:21.408Z"
   },
   {
    "duration": 19,
    "start_time": "2022-07-09T10:33:21.437Z"
   },
   {
    "duration": 19,
    "start_time": "2022-07-09T10:33:21.458Z"
   },
   {
    "duration": 251,
    "start_time": "2022-07-09T10:33:21.478Z"
   },
   {
    "duration": 222,
    "start_time": "2022-07-09T10:33:21.731Z"
   },
   {
    "duration": 20,
    "start_time": "2022-07-09T10:33:21.955Z"
   },
   {
    "duration": 3,
    "start_time": "2022-07-09T10:33:21.976Z"
   },
   {
    "duration": 11,
    "start_time": "2022-07-09T10:33:21.980Z"
   },
   {
    "duration": 36,
    "start_time": "2022-07-09T10:33:21.992Z"
   },
   {
    "duration": 17,
    "start_time": "2022-07-09T10:33:22.029Z"
   },
   {
    "duration": 19,
    "start_time": "2022-07-09T10:33:22.048Z"
   },
   {
    "duration": 17,
    "start_time": "2022-07-09T10:33:22.069Z"
   },
   {
    "duration": 27,
    "start_time": "2022-07-09T10:33:22.088Z"
   },
   {
    "duration": 212,
    "start_time": "2022-07-09T10:33:22.125Z"
   },
   {
    "duration": 144,
    "start_time": "2022-07-09T10:33:22.339Z"
   },
   {
    "duration": 24,
    "start_time": "2022-07-09T10:33:22.484Z"
   },
   {
    "duration": 26,
    "start_time": "2022-07-09T10:33:22.516Z"
   },
   {
    "duration": 10,
    "start_time": "2022-07-09T10:33:22.543Z"
   },
   {
    "duration": 18,
    "start_time": "2022-07-09T10:33:22.554Z"
   },
   {
    "duration": 59,
    "start_time": "2022-07-09T10:33:22.574Z"
   },
   {
    "duration": 39,
    "start_time": "2022-07-09T10:33:22.634Z"
   },
   {
    "duration": 14,
    "start_time": "2022-07-09T10:33:22.674Z"
   },
   {
    "duration": 44,
    "start_time": "2022-07-09T10:33:22.689Z"
   },
   {
    "duration": 232,
    "start_time": "2022-07-09T10:33:22.735Z"
   },
   {
    "duration": 19,
    "start_time": "2022-07-09T10:33:22.968Z"
   },
   {
    "duration": 21,
    "start_time": "2022-07-09T10:33:22.989Z"
   },
   {
    "duration": 33,
    "start_time": "2022-07-09T10:33:23.012Z"
   },
   {
    "duration": 252,
    "start_time": "2022-07-09T10:33:23.046Z"
   },
   {
    "duration": 32,
    "start_time": "2022-07-09T10:33:23.300Z"
   },
   {
    "duration": 31,
    "start_time": "2022-07-09T10:33:23.334Z"
   },
   {
    "duration": 22,
    "start_time": "2022-07-09T10:33:23.367Z"
   },
   {
    "duration": 4,
    "start_time": "2022-07-09T10:33:23.401Z"
   },
   {
    "duration": 39,
    "start_time": "2022-07-09T10:33:23.410Z"
   },
   {
    "duration": 15,
    "start_time": "2022-07-09T10:33:23.450Z"
   },
   {
    "duration": 17,
    "start_time": "2022-07-09T10:33:23.467Z"
   },
   {
    "duration": 342,
    "start_time": "2022-07-09T10:33:23.490Z"
   },
   {
    "duration": 50,
    "start_time": "2022-07-09T10:33:23.833Z"
   },
   {
    "duration": 40,
    "start_time": "2022-07-09T10:33:23.885Z"
   },
   {
    "duration": 37,
    "start_time": "2022-07-09T10:33:23.927Z"
   },
   {
    "duration": 222,
    "start_time": "2022-07-09T10:33:23.965Z"
   },
   {
    "duration": 119,
    "start_time": "2022-07-09T10:33:24.188Z"
   },
   {
    "duration": 8,
    "start_time": "2022-07-09T10:33:24.309Z"
   },
   {
    "duration": 6,
    "start_time": "2022-07-09T10:33:24.319Z"
   },
   {
    "duration": 6,
    "start_time": "2022-07-09T10:33:24.329Z"
   },
   {
    "duration": 12,
    "start_time": "2022-07-09T10:33:24.337Z"
   },
   {
    "duration": 6,
    "start_time": "2022-07-09T10:33:24.351Z"
   },
   {
    "duration": 23,
    "start_time": "2022-07-09T10:33:24.359Z"
   },
   {
    "duration": 43,
    "start_time": "2022-07-09T10:33:24.384Z"
   },
   {
    "duration": 13,
    "start_time": "2022-07-09T10:33:24.429Z"
   },
   {
    "duration": 13,
    "start_time": "2022-07-09T10:33:24.444Z"
   },
   {
    "duration": 11,
    "start_time": "2022-07-09T10:33:24.458Z"
   },
   {
    "duration": 30,
    "start_time": "2022-07-09T10:33:24.471Z"
   },
   {
    "duration": 35,
    "start_time": "2022-07-09T10:33:24.503Z"
   },
   {
    "duration": 9,
    "start_time": "2022-07-09T10:33:57.924Z"
   },
   {
    "duration": 9,
    "start_time": "2022-07-09T10:34:33.545Z"
   },
   {
    "duration": 9,
    "start_time": "2022-07-09T10:35:04.738Z"
   },
   {
    "duration": 17,
    "start_time": "2022-07-09T10:35:23.596Z"
   },
   {
    "duration": 11,
    "start_time": "2022-07-09T10:35:33.517Z"
   },
   {
    "duration": 77,
    "start_time": "2022-07-09T10:51:48.407Z"
   },
   {
    "duration": 111,
    "start_time": "2022-07-09T10:51:53.107Z"
   },
   {
    "duration": 198,
    "start_time": "2022-07-09T10:59:02.071Z"
   },
   {
    "duration": 8751,
    "start_time": "2022-07-09T10:59:11.496Z"
   },
   {
    "duration": 4790,
    "start_time": "2022-07-09T10:59:40.952Z"
   },
   {
    "duration": 4499,
    "start_time": "2022-07-09T11:00:13.304Z"
   },
   {
    "duration": 10,
    "start_time": "2022-07-09T11:04:24.875Z"
   },
   {
    "duration": 157,
    "start_time": "2022-07-09T11:04:36.580Z"
   },
   {
    "duration": 5359,
    "start_time": "2022-07-09T11:19:14.976Z"
   },
   {
    "duration": 11,
    "start_time": "2022-07-09T11:36:00.838Z"
   },
   {
    "duration": 10,
    "start_time": "2022-07-09T11:36:09.857Z"
   },
   {
    "duration": 8,
    "start_time": "2022-07-09T11:36:29.629Z"
   },
   {
    "duration": 197,
    "start_time": "2022-07-09T11:37:12.050Z"
   },
   {
    "duration": 3,
    "start_time": "2022-07-09T11:37:28.174Z"
   },
   {
    "duration": 7,
    "start_time": "2022-07-09T11:37:28.180Z"
   },
   {
    "duration": 86,
    "start_time": "2022-07-09T11:37:28.188Z"
   },
   {
    "duration": 213,
    "start_time": "2022-07-09T11:37:28.276Z"
   },
   {
    "duration": 37,
    "start_time": "2022-07-09T11:37:28.491Z"
   },
   {
    "duration": 98,
    "start_time": "2022-07-09T11:37:28.530Z"
   },
   {
    "duration": 27,
    "start_time": "2022-07-09T11:37:28.629Z"
   },
   {
    "duration": 14,
    "start_time": "2022-07-09T11:37:28.658Z"
   },
   {
    "duration": 40,
    "start_time": "2022-07-09T11:37:28.674Z"
   },
   {
    "duration": 236,
    "start_time": "2022-07-09T11:37:28.717Z"
   },
   {
    "duration": 30,
    "start_time": "2022-07-09T11:37:28.955Z"
   },
   {
    "duration": 34,
    "start_time": "2022-07-09T11:37:28.987Z"
   },
   {
    "duration": 12,
    "start_time": "2022-07-09T11:37:29.023Z"
   },
   {
    "duration": 16,
    "start_time": "2022-07-09T11:37:29.037Z"
   },
   {
    "duration": 49,
    "start_time": "2022-07-09T11:37:29.055Z"
   },
   {
    "duration": 17,
    "start_time": "2022-07-09T11:37:29.107Z"
   },
   {
    "duration": 7,
    "start_time": "2022-07-09T11:37:29.127Z"
   },
   {
    "duration": 16,
    "start_time": "2022-07-09T11:37:29.135Z"
   },
   {
    "duration": 7,
    "start_time": "2022-07-09T11:37:29.153Z"
   },
   {
    "duration": 45,
    "start_time": "2022-07-09T11:37:29.162Z"
   },
   {
    "duration": 21,
    "start_time": "2022-07-09T11:37:29.209Z"
   },
   {
    "duration": 15,
    "start_time": "2022-07-09T11:37:29.231Z"
   },
   {
    "duration": 287,
    "start_time": "2022-07-09T11:37:29.247Z"
   },
   {
    "duration": 7,
    "start_time": "2022-07-09T11:37:29.539Z"
   },
   {
    "duration": 35,
    "start_time": "2022-07-09T11:37:29.548Z"
   },
   {
    "duration": 19,
    "start_time": "2022-07-09T11:37:29.585Z"
   },
   {
    "duration": 43,
    "start_time": "2022-07-09T11:37:29.606Z"
   },
   {
    "duration": 11,
    "start_time": "2022-07-09T11:37:29.651Z"
   },
   {
    "duration": 55,
    "start_time": "2022-07-09T11:37:29.665Z"
   },
   {
    "duration": 4,
    "start_time": "2022-07-09T11:37:29.723Z"
   },
   {
    "duration": 9,
    "start_time": "2022-07-09T11:37:29.729Z"
   },
   {
    "duration": 18,
    "start_time": "2022-07-09T11:37:29.740Z"
   },
   {
    "duration": 6,
    "start_time": "2022-07-09T11:37:29.760Z"
   },
   {
    "duration": 18,
    "start_time": "2022-07-09T11:37:29.768Z"
   },
   {
    "duration": 14,
    "start_time": "2022-07-09T11:37:29.788Z"
   },
   {
    "duration": 15,
    "start_time": "2022-07-09T11:37:29.804Z"
   },
   {
    "duration": 16,
    "start_time": "2022-07-09T11:37:29.821Z"
   },
   {
    "duration": 292,
    "start_time": "2022-07-09T11:37:29.838Z"
   },
   {
    "duration": 106,
    "start_time": "2022-07-09T11:37:30.131Z"
   },
   {
    "duration": 23,
    "start_time": "2022-07-09T11:37:30.238Z"
   },
   {
    "duration": 3,
    "start_time": "2022-07-09T11:37:30.263Z"
   },
   {
    "duration": 21,
    "start_time": "2022-07-09T11:37:30.267Z"
   },
   {
    "duration": 7,
    "start_time": "2022-07-09T11:37:30.290Z"
   },
   {
    "duration": 26,
    "start_time": "2022-07-09T11:37:30.300Z"
   },
   {
    "duration": 16,
    "start_time": "2022-07-09T11:37:30.328Z"
   },
   {
    "duration": 48,
    "start_time": "2022-07-09T11:37:30.346Z"
   },
   {
    "duration": 30,
    "start_time": "2022-07-09T11:37:30.396Z"
   },
   {
    "duration": 220,
    "start_time": "2022-07-09T11:37:30.428Z"
   },
   {
    "duration": 142,
    "start_time": "2022-07-09T11:37:30.649Z"
   },
   {
    "duration": 26,
    "start_time": "2022-07-09T11:37:30.793Z"
   },
   {
    "duration": 16,
    "start_time": "2022-07-09T11:37:30.821Z"
   },
   {
    "duration": 7,
    "start_time": "2022-07-09T11:37:30.839Z"
   },
   {
    "duration": 35,
    "start_time": "2022-07-09T11:37:30.847Z"
   },
   {
    "duration": 61,
    "start_time": "2022-07-09T11:37:30.883Z"
   },
   {
    "duration": 31,
    "start_time": "2022-07-09T11:37:30.946Z"
   },
   {
    "duration": 29,
    "start_time": "2022-07-09T11:37:30.979Z"
   },
   {
    "duration": 63,
    "start_time": "2022-07-09T11:37:31.010Z"
   },
   {
    "duration": 261,
    "start_time": "2022-07-09T11:37:31.075Z"
   },
   {
    "duration": 21,
    "start_time": "2022-07-09T11:37:31.338Z"
   },
   {
    "duration": 8,
    "start_time": "2022-07-09T11:37:31.361Z"
   },
   {
    "duration": 38,
    "start_time": "2022-07-09T11:37:31.371Z"
   },
   {
    "duration": 563,
    "start_time": "2022-07-09T11:37:31.411Z"
   },
   {
    "duration": 32,
    "start_time": "2022-07-09T11:37:31.976Z"
   },
   {
    "duration": 25,
    "start_time": "2022-07-09T11:37:32.010Z"
   },
   {
    "duration": 21,
    "start_time": "2022-07-09T11:37:32.036Z"
   },
   {
    "duration": 12,
    "start_time": "2022-07-09T11:37:32.058Z"
   },
   {
    "duration": 51,
    "start_time": "2022-07-09T11:37:32.071Z"
   },
   {
    "duration": 15,
    "start_time": "2022-07-09T11:37:32.123Z"
   },
   {
    "duration": 14,
    "start_time": "2022-07-09T11:37:32.142Z"
   },
   {
    "duration": 333,
    "start_time": "2022-07-09T11:37:32.157Z"
   },
   {
    "duration": 58,
    "start_time": "2022-07-09T11:37:32.492Z"
   },
   {
    "duration": 11,
    "start_time": "2022-07-09T11:37:32.552Z"
   },
   {
    "duration": 44,
    "start_time": "2022-07-09T11:37:32.564Z"
   },
   {
    "duration": 237,
    "start_time": "2022-07-09T11:37:32.611Z"
   },
   {
    "duration": 115,
    "start_time": "2022-07-09T11:37:32.849Z"
   },
   {
    "duration": 5,
    "start_time": "2022-07-09T11:37:32.965Z"
   },
   {
    "duration": 7,
    "start_time": "2022-07-09T11:37:32.971Z"
   },
   {
    "duration": 7,
    "start_time": "2022-07-09T11:37:32.979Z"
   },
   {
    "duration": 18,
    "start_time": "2022-07-09T11:37:32.987Z"
   },
   {
    "duration": 11,
    "start_time": "2022-07-09T11:37:33.008Z"
   },
   {
    "duration": 26,
    "start_time": "2022-07-09T11:37:33.021Z"
   },
   {
    "duration": 23,
    "start_time": "2022-07-09T11:37:33.048Z"
   },
   {
    "duration": 8,
    "start_time": "2022-07-09T11:37:33.072Z"
   },
   {
    "duration": 26,
    "start_time": "2022-07-09T11:37:33.081Z"
   },
   {
    "duration": 19,
    "start_time": "2022-07-09T11:37:33.109Z"
   },
   {
    "duration": 21,
    "start_time": "2022-07-09T11:37:33.130Z"
   },
   {
    "duration": 13,
    "start_time": "2022-07-09T11:37:33.152Z"
   },
   {
    "duration": 10,
    "start_time": "2022-07-09T11:37:33.167Z"
   },
   {
    "duration": 204,
    "start_time": "2022-07-09T12:02:59.656Z"
   },
   {
    "duration": 4,
    "start_time": "2022-07-09T12:03:12.756Z"
   },
   {
    "duration": 11,
    "start_time": "2022-07-09T12:03:12.762Z"
   },
   {
    "duration": 57,
    "start_time": "2022-07-09T12:03:12.775Z"
   },
   {
    "duration": 192,
    "start_time": "2022-07-09T12:03:12.834Z"
   },
   {
    "duration": 27,
    "start_time": "2022-07-09T12:03:13.028Z"
   },
   {
    "duration": 108,
    "start_time": "2022-07-09T12:03:13.057Z"
   },
   {
    "duration": 40,
    "start_time": "2022-07-09T12:03:13.167Z"
   },
   {
    "duration": 15,
    "start_time": "2022-07-09T12:03:13.209Z"
   },
   {
    "duration": 15,
    "start_time": "2022-07-09T12:03:13.225Z"
   },
   {
    "duration": 257,
    "start_time": "2022-07-09T12:03:13.241Z"
   },
   {
    "duration": 41,
    "start_time": "2022-07-09T12:03:13.501Z"
   },
   {
    "duration": 15,
    "start_time": "2022-07-09T12:03:13.543Z"
   },
   {
    "duration": 10,
    "start_time": "2022-07-09T12:03:13.559Z"
   },
   {
    "duration": 46,
    "start_time": "2022-07-09T12:03:13.570Z"
   },
   {
    "duration": 19,
    "start_time": "2022-07-09T12:03:13.618Z"
   },
   {
    "duration": 20,
    "start_time": "2022-07-09T12:03:13.639Z"
   },
   {
    "duration": 6,
    "start_time": "2022-07-09T12:03:13.661Z"
   },
   {
    "duration": 27,
    "start_time": "2022-07-09T12:03:13.669Z"
   },
   {
    "duration": 10,
    "start_time": "2022-07-09T12:03:13.700Z"
   },
   {
    "duration": 43,
    "start_time": "2022-07-09T12:03:13.711Z"
   },
   {
    "duration": 13,
    "start_time": "2022-07-09T12:03:13.756Z"
   },
   {
    "duration": 12,
    "start_time": "2022-07-09T12:03:13.771Z"
   },
   {
    "duration": 257,
    "start_time": "2022-07-09T12:03:13.785Z"
   },
   {
    "duration": 6,
    "start_time": "2022-07-09T12:03:14.044Z"
   },
   {
    "duration": 36,
    "start_time": "2022-07-09T12:03:14.051Z"
   },
   {
    "duration": 14,
    "start_time": "2022-07-09T12:03:14.088Z"
   },
   {
    "duration": 35,
    "start_time": "2022-07-09T12:03:14.104Z"
   },
   {
    "duration": 10,
    "start_time": "2022-07-09T12:03:14.141Z"
   },
   {
    "duration": 55,
    "start_time": "2022-07-09T12:03:14.155Z"
   },
   {
    "duration": 3,
    "start_time": "2022-07-09T12:03:14.213Z"
   },
   {
    "duration": 13,
    "start_time": "2022-07-09T12:03:14.218Z"
   },
   {
    "duration": 24,
    "start_time": "2022-07-09T12:03:14.233Z"
   },
   {
    "duration": 10,
    "start_time": "2022-07-09T12:03:14.259Z"
   },
   {
    "duration": 12,
    "start_time": "2022-07-09T12:03:14.270Z"
   },
   {
    "duration": 8,
    "start_time": "2022-07-09T12:03:14.283Z"
   },
   {
    "duration": 14,
    "start_time": "2022-07-09T12:03:14.293Z"
   },
   {
    "duration": 25,
    "start_time": "2022-07-09T12:03:14.309Z"
   },
   {
    "duration": 284,
    "start_time": "2022-07-09T12:03:14.335Z"
   },
   {
    "duration": 120,
    "start_time": "2022-07-09T12:03:14.621Z"
   },
   {
    "duration": 22,
    "start_time": "2022-07-09T12:03:14.742Z"
   },
   {
    "duration": 3,
    "start_time": "2022-07-09T12:03:14.765Z"
   },
   {
    "duration": 7,
    "start_time": "2022-07-09T12:03:14.769Z"
   },
   {
    "duration": 13,
    "start_time": "2022-07-09T12:03:14.777Z"
   },
   {
    "duration": 4,
    "start_time": "2022-07-09T12:03:14.800Z"
   },
   {
    "duration": 12,
    "start_time": "2022-07-09T12:03:14.806Z"
   },
   {
    "duration": 17,
    "start_time": "2022-07-09T12:03:14.820Z"
   },
   {
    "duration": 12,
    "start_time": "2022-07-09T12:03:14.838Z"
   },
   {
    "duration": 268,
    "start_time": "2022-07-09T12:03:14.851Z"
   },
   {
    "duration": 138,
    "start_time": "2022-07-09T12:03:15.121Z"
   },
   {
    "duration": 18,
    "start_time": "2022-07-09T12:03:15.261Z"
   },
   {
    "duration": 34,
    "start_time": "2022-07-09T12:03:15.281Z"
   },
   {
    "duration": 7,
    "start_time": "2022-07-09T12:03:15.318Z"
   },
   {
    "duration": 33,
    "start_time": "2022-07-09T12:03:15.328Z"
   },
   {
    "duration": 50,
    "start_time": "2022-07-09T12:03:15.363Z"
   },
   {
    "duration": 40,
    "start_time": "2022-07-09T12:03:15.415Z"
   },
   {
    "duration": 16,
    "start_time": "2022-07-09T12:03:15.456Z"
   },
   {
    "duration": 36,
    "start_time": "2022-07-09T12:03:15.474Z"
   },
   {
    "duration": 230,
    "start_time": "2022-07-09T12:03:15.511Z"
   },
   {
    "duration": 21,
    "start_time": "2022-07-09T12:03:15.743Z"
   },
   {
    "duration": 7,
    "start_time": "2022-07-09T12:03:15.766Z"
   },
   {
    "duration": 32,
    "start_time": "2022-07-09T12:03:15.775Z"
   },
   {
    "duration": 233,
    "start_time": "2022-07-09T12:03:15.808Z"
   },
   {
    "duration": 24,
    "start_time": "2022-07-09T12:03:16.043Z"
   },
   {
    "duration": 35,
    "start_time": "2022-07-09T12:03:16.069Z"
   },
   {
    "duration": 22,
    "start_time": "2022-07-09T12:03:16.106Z"
   },
   {
    "duration": 4,
    "start_time": "2022-07-09T12:03:16.129Z"
   },
   {
    "duration": 25,
    "start_time": "2022-07-09T12:03:16.136Z"
   },
   {
    "duration": 23,
    "start_time": "2022-07-09T12:03:16.162Z"
   },
   {
    "duration": 19,
    "start_time": "2022-07-09T12:03:16.200Z"
   },
   {
    "duration": 336,
    "start_time": "2022-07-09T12:03:16.221Z"
   },
   {
    "duration": 57,
    "start_time": "2022-07-09T12:03:16.559Z"
   },
   {
    "duration": 15,
    "start_time": "2022-07-09T12:03:16.618Z"
   },
   {
    "duration": 29,
    "start_time": "2022-07-09T12:03:16.635Z"
   },
   {
    "duration": 230,
    "start_time": "2022-07-09T12:03:16.666Z"
   },
   {
    "duration": 123,
    "start_time": "2022-07-09T12:03:16.900Z"
   },
   {
    "duration": 7,
    "start_time": "2022-07-09T12:03:17.025Z"
   },
   {
    "duration": 8,
    "start_time": "2022-07-09T12:03:17.034Z"
   },
   {
    "duration": 7,
    "start_time": "2022-07-09T12:03:17.043Z"
   },
   {
    "duration": 16,
    "start_time": "2022-07-09T12:03:17.052Z"
   },
   {
    "duration": 7,
    "start_time": "2022-07-09T12:03:17.070Z"
   },
   {
    "duration": 36,
    "start_time": "2022-07-09T12:03:17.078Z"
   },
   {
    "duration": 23,
    "start_time": "2022-07-09T12:03:17.116Z"
   },
   {
    "duration": 8,
    "start_time": "2022-07-09T12:03:17.144Z"
   },
   {
    "duration": 18,
    "start_time": "2022-07-09T12:03:17.153Z"
   },
   {
    "duration": 29,
    "start_time": "2022-07-09T12:03:17.173Z"
   },
   {
    "duration": 13,
    "start_time": "2022-07-09T12:03:17.203Z"
   },
   {
    "duration": 19,
    "start_time": "2022-07-09T12:03:17.218Z"
   },
   {
    "duration": 11,
    "start_time": "2022-07-09T12:03:17.239Z"
   },
   {
    "duration": 865,
    "start_time": "2022-07-09T12:05:28.227Z"
   },
   {
    "duration": 1173,
    "start_time": "2022-07-09T12:06:39.985Z"
   },
   {
    "duration": 944,
    "start_time": "2022-07-09T12:07:13.476Z"
   },
   {
    "duration": 1212,
    "start_time": "2022-07-09T12:07:26.422Z"
   },
   {
    "duration": 881,
    "start_time": "2022-07-09T12:08:47.972Z"
   },
   {
    "duration": 1373,
    "start_time": "2022-07-09T12:08:58.852Z"
   },
   {
    "duration": 998,
    "start_time": "2022-07-09T12:09:08.473Z"
   },
   {
    "duration": 119,
    "start_time": "2022-07-09T12:11:23.590Z"
   },
   {
    "duration": 126,
    "start_time": "2022-07-09T12:17:08.302Z"
   },
   {
    "duration": 107,
    "start_time": "2022-07-09T12:17:13.506Z"
   },
   {
    "duration": 15,
    "start_time": "2022-07-09T12:44:35.159Z"
   },
   {
    "duration": 16,
    "start_time": "2022-07-09T12:45:15.259Z"
   },
   {
    "duration": 99,
    "start_time": "2022-07-09T12:45:37.472Z"
   },
   {
    "duration": 101,
    "start_time": "2022-07-09T12:46:03.402Z"
   },
   {
    "duration": 129,
    "start_time": "2022-07-09T12:47:08.846Z"
   },
   {
    "duration": 136,
    "start_time": "2022-07-09T12:47:49.902Z"
   },
   {
    "duration": 177,
    "start_time": "2022-07-09T12:50:49.505Z"
   },
   {
    "duration": 278,
    "start_time": "2022-07-09T12:51:51.450Z"
   },
   {
    "duration": 237,
    "start_time": "2022-07-09T12:53:30.873Z"
   },
   {
    "duration": 198,
    "start_time": "2022-07-09T12:53:49.836Z"
   },
   {
    "duration": 195,
    "start_time": "2022-07-09T12:54:05.551Z"
   },
   {
    "duration": 195,
    "start_time": "2022-07-09T12:54:13.409Z"
   },
   {
    "duration": 194,
    "start_time": "2022-07-09T12:54:19.715Z"
   },
   {
    "duration": 212,
    "start_time": "2022-07-09T12:54:27.796Z"
   },
   {
    "duration": 196,
    "start_time": "2022-07-09T12:54:34.893Z"
   },
   {
    "duration": 178,
    "start_time": "2022-07-09T12:55:25.451Z"
   },
   {
    "duration": 219,
    "start_time": "2022-07-09T12:55:35.350Z"
   },
   {
    "duration": 777,
    "start_time": "2022-07-09T12:55:43.008Z"
   },
   {
    "duration": 189,
    "start_time": "2022-07-09T12:55:46.496Z"
   },
   {
    "duration": 174,
    "start_time": "2022-07-09T12:57:16.751Z"
   },
   {
    "duration": 201,
    "start_time": "2022-07-09T12:57:43.392Z"
   },
   {
    "duration": 7,
    "start_time": "2022-07-09T18:55:57.079Z"
   },
   {
    "duration": 7,
    "start_time": "2022-07-09T18:56:03.340Z"
   },
   {
    "duration": 6,
    "start_time": "2022-07-09T18:56:12.461Z"
   },
   {
    "duration": 21,
    "start_time": "2022-07-09T19:06:19.609Z"
   },
   {
    "duration": 24,
    "start_time": "2022-07-09T19:06:34.031Z"
   },
   {
    "duration": 18,
    "start_time": "2022-07-09T19:06:56.901Z"
   },
   {
    "duration": 16,
    "start_time": "2022-07-09T19:08:54.407Z"
   },
   {
    "duration": 3,
    "start_time": "2022-07-09T19:09:05.696Z"
   },
   {
    "duration": 12,
    "start_time": "2022-07-09T19:09:05.701Z"
   },
   {
    "duration": 95,
    "start_time": "2022-07-09T19:09:05.715Z"
   },
   {
    "duration": 160,
    "start_time": "2022-07-09T19:09:05.812Z"
   },
   {
    "duration": 27,
    "start_time": "2022-07-09T19:09:05.974Z"
   },
   {
    "duration": 83,
    "start_time": "2022-07-09T19:09:06.003Z"
   },
   {
    "duration": 36,
    "start_time": "2022-07-09T19:09:06.087Z"
   },
   {
    "duration": 14,
    "start_time": "2022-07-09T19:09:06.125Z"
   },
   {
    "duration": 13,
    "start_time": "2022-07-09T19:09:06.140Z"
   },
   {
    "duration": 246,
    "start_time": "2022-07-09T19:09:06.155Z"
   },
   {
    "duration": 32,
    "start_time": "2022-07-09T19:09:06.402Z"
   },
   {
    "duration": 14,
    "start_time": "2022-07-09T19:09:06.437Z"
   },
   {
    "duration": 10,
    "start_time": "2022-07-09T19:09:06.453Z"
   },
   {
    "duration": 44,
    "start_time": "2022-07-09T19:09:06.464Z"
   },
   {
    "duration": 14,
    "start_time": "2022-07-09T19:09:06.510Z"
   },
   {
    "duration": 10,
    "start_time": "2022-07-09T19:09:06.526Z"
   },
   {
    "duration": 9,
    "start_time": "2022-07-09T19:09:06.538Z"
   },
   {
    "duration": 20,
    "start_time": "2022-07-09T19:09:06.548Z"
   },
   {
    "duration": 32,
    "start_time": "2022-07-09T19:09:06.570Z"
   },
   {
    "duration": 12,
    "start_time": "2022-07-09T19:09:06.604Z"
   },
   {
    "duration": 14,
    "start_time": "2022-07-09T19:09:06.617Z"
   },
   {
    "duration": 14,
    "start_time": "2022-07-09T19:09:06.633Z"
   },
   {
    "duration": 267,
    "start_time": "2022-07-09T19:09:06.649Z"
   },
   {
    "duration": 6,
    "start_time": "2022-07-09T19:09:06.918Z"
   },
   {
    "duration": 36,
    "start_time": "2022-07-09T19:09:06.926Z"
   },
   {
    "duration": 4,
    "start_time": "2022-07-09T19:09:06.963Z"
   },
   {
    "duration": 51,
    "start_time": "2022-07-09T19:09:06.969Z"
   },
   {
    "duration": 12,
    "start_time": "2022-07-09T19:09:07.022Z"
   },
   {
    "duration": 34,
    "start_time": "2022-07-09T19:09:07.036Z"
   },
   {
    "duration": 3,
    "start_time": "2022-07-09T19:09:07.071Z"
   },
   {
    "duration": 25,
    "start_time": "2022-07-09T19:09:07.076Z"
   },
   {
    "duration": 5,
    "start_time": "2022-07-09T19:09:07.102Z"
   },
   {
    "duration": 5,
    "start_time": "2022-07-09T19:09:07.111Z"
   },
   {
    "duration": 14,
    "start_time": "2022-07-09T19:09:07.118Z"
   },
   {
    "duration": 9,
    "start_time": "2022-07-09T19:09:07.133Z"
   },
   {
    "duration": 11,
    "start_time": "2022-07-09T19:09:07.146Z"
   },
   {
    "duration": 17,
    "start_time": "2022-07-09T19:09:07.159Z"
   },
   {
    "duration": 254,
    "start_time": "2022-07-09T19:09:07.178Z"
   },
   {
    "duration": 116,
    "start_time": "2022-07-09T19:09:07.435Z"
   },
   {
    "duration": 23,
    "start_time": "2022-07-09T19:09:07.553Z"
   },
   {
    "duration": 3,
    "start_time": "2022-07-09T19:09:07.577Z"
   },
   {
    "duration": 20,
    "start_time": "2022-07-09T19:09:07.581Z"
   },
   {
    "duration": 9,
    "start_time": "2022-07-09T19:09:07.602Z"
   },
   {
    "duration": 8,
    "start_time": "2022-07-09T19:09:07.613Z"
   },
   {
    "duration": 19,
    "start_time": "2022-07-09T19:09:07.622Z"
   },
   {
    "duration": 11,
    "start_time": "2022-07-09T19:09:07.643Z"
   },
   {
    "duration": 11,
    "start_time": "2022-07-09T19:09:07.656Z"
   },
   {
    "duration": 252,
    "start_time": "2022-07-09T19:09:07.669Z"
   },
   {
    "duration": 115,
    "start_time": "2022-07-09T19:09:07.922Z"
   },
   {
    "duration": 18,
    "start_time": "2022-07-09T19:09:08.038Z"
   },
   {
    "duration": 15,
    "start_time": "2022-07-09T19:09:08.058Z"
   },
   {
    "duration": 6,
    "start_time": "2022-07-09T19:09:08.075Z"
   },
   {
    "duration": 13,
    "start_time": "2022-07-09T19:09:08.100Z"
   },
   {
    "duration": 35,
    "start_time": "2022-07-09T19:09:08.114Z"
   },
   {
    "duration": 22,
    "start_time": "2022-07-09T19:09:08.150Z"
   },
   {
    "duration": 16,
    "start_time": "2022-07-09T19:09:08.200Z"
   },
   {
    "duration": 29,
    "start_time": "2022-07-09T19:09:08.217Z"
   },
   {
    "duration": 268,
    "start_time": "2022-07-09T19:09:08.248Z"
   },
   {
    "duration": 21,
    "start_time": "2022-07-09T19:09:08.517Z"
   },
   {
    "duration": 8,
    "start_time": "2022-07-09T19:09:08.540Z"
   },
   {
    "duration": 16,
    "start_time": "2022-07-09T19:09:08.549Z"
   },
   {
    "duration": 259,
    "start_time": "2022-07-09T19:09:08.567Z"
   },
   {
    "duration": 19,
    "start_time": "2022-07-09T19:09:08.828Z"
   },
   {
    "duration": 0,
    "start_time": "2022-07-09T19:09:08.849Z"
   },
   {
    "duration": 0,
    "start_time": "2022-07-09T19:09:08.850Z"
   },
   {
    "duration": 0,
    "start_time": "2022-07-09T19:09:08.852Z"
   },
   {
    "duration": 0,
    "start_time": "2022-07-09T19:09:08.853Z"
   },
   {
    "duration": 0,
    "start_time": "2022-07-09T19:09:08.855Z"
   },
   {
    "duration": 0,
    "start_time": "2022-07-09T19:09:08.856Z"
   },
   {
    "duration": 0,
    "start_time": "2022-07-09T19:09:08.857Z"
   },
   {
    "duration": 0,
    "start_time": "2022-07-09T19:09:08.859Z"
   },
   {
    "duration": 0,
    "start_time": "2022-07-09T19:09:08.860Z"
   },
   {
    "duration": 0,
    "start_time": "2022-07-09T19:09:08.862Z"
   },
   {
    "duration": 0,
    "start_time": "2022-07-09T19:09:08.863Z"
   },
   {
    "duration": 0,
    "start_time": "2022-07-09T19:09:08.901Z"
   },
   {
    "duration": 0,
    "start_time": "2022-07-09T19:09:08.903Z"
   },
   {
    "duration": 0,
    "start_time": "2022-07-09T19:09:08.904Z"
   },
   {
    "duration": 0,
    "start_time": "2022-07-09T19:09:08.906Z"
   },
   {
    "duration": 0,
    "start_time": "2022-07-09T19:09:08.907Z"
   },
   {
    "duration": 25,
    "start_time": "2022-07-09T19:09:55.416Z"
   },
   {
    "duration": 31,
    "start_time": "2022-07-09T19:11:20.921Z"
   },
   {
    "duration": 29,
    "start_time": "2022-07-09T19:11:37.053Z"
   },
   {
    "duration": 5,
    "start_time": "2022-07-09T19:13:47.401Z"
   },
   {
    "duration": 33,
    "start_time": "2022-07-09T19:13:49.516Z"
   },
   {
    "duration": 7,
    "start_time": "2022-07-09T19:15:23.087Z"
   },
   {
    "duration": 6,
    "start_time": "2022-07-09T19:15:33.914Z"
   },
   {
    "duration": 19,
    "start_time": "2022-07-09T19:15:35.148Z"
   },
   {
    "duration": 20,
    "start_time": "2022-07-09T19:15:41.758Z"
   },
   {
    "duration": 10,
    "start_time": "2022-07-09T19:15:42.485Z"
   },
   {
    "duration": 9,
    "start_time": "2022-07-09T19:15:43.749Z"
   },
   {
    "duration": 102,
    "start_time": "2022-07-09T19:15:44.379Z"
   },
   {
    "duration": 189,
    "start_time": "2022-07-09T19:15:45.613Z"
   },
   {
    "duration": 21,
    "start_time": "2022-07-09T19:19:49.385Z"
   },
   {
    "duration": 19,
    "start_time": "2022-07-09T19:21:36.651Z"
   },
   {
    "duration": 201,
    "start_time": "2022-07-09T19:21:42.068Z"
   },
   {
    "duration": 3,
    "start_time": "2022-07-09T19:21:54.029Z"
   },
   {
    "duration": 8,
    "start_time": "2022-07-09T19:21:54.035Z"
   },
   {
    "duration": 31,
    "start_time": "2022-07-09T19:21:54.046Z"
   },
   {
    "duration": 201,
    "start_time": "2022-07-09T19:21:54.079Z"
   },
   {
    "duration": 27,
    "start_time": "2022-07-09T19:21:54.283Z"
   },
   {
    "duration": 92,
    "start_time": "2022-07-09T19:21:54.312Z"
   },
   {
    "duration": 27,
    "start_time": "2022-07-09T19:21:54.405Z"
   },
   {
    "duration": 13,
    "start_time": "2022-07-09T19:21:54.434Z"
   },
   {
    "duration": 14,
    "start_time": "2022-07-09T19:21:54.448Z"
   },
   {
    "duration": 234,
    "start_time": "2022-07-09T19:21:54.463Z"
   },
   {
    "duration": 30,
    "start_time": "2022-07-09T19:21:54.701Z"
   },
   {
    "duration": 14,
    "start_time": "2022-07-09T19:21:54.732Z"
   },
   {
    "duration": 17,
    "start_time": "2022-07-09T19:21:54.747Z"
   },
   {
    "duration": 20,
    "start_time": "2022-07-09T19:21:54.765Z"
   },
   {
    "duration": 29,
    "start_time": "2022-07-09T19:21:54.786Z"
   },
   {
    "duration": 16,
    "start_time": "2022-07-09T19:21:54.817Z"
   },
   {
    "duration": 6,
    "start_time": "2022-07-09T19:21:54.834Z"
   },
   {
    "duration": 16,
    "start_time": "2022-07-09T19:21:54.842Z"
   },
   {
    "duration": 9,
    "start_time": "2022-07-09T19:21:54.860Z"
   },
   {
    "duration": 36,
    "start_time": "2022-07-09T19:21:54.870Z"
   },
   {
    "duration": 11,
    "start_time": "2022-07-09T19:21:54.907Z"
   },
   {
    "duration": 11,
    "start_time": "2022-07-09T19:21:54.920Z"
   },
   {
    "duration": 223,
    "start_time": "2022-07-09T19:21:54.932Z"
   },
   {
    "duration": 6,
    "start_time": "2022-07-09T19:21:55.157Z"
   },
   {
    "duration": 55,
    "start_time": "2022-07-09T19:21:55.164Z"
   },
   {
    "duration": 7,
    "start_time": "2022-07-09T19:21:55.221Z"
   },
   {
    "duration": 42,
    "start_time": "2022-07-09T19:21:55.230Z"
   },
   {
    "duration": 31,
    "start_time": "2022-07-09T19:21:55.274Z"
   },
   {
    "duration": 39,
    "start_time": "2022-07-09T19:21:55.311Z"
   },
   {
    "duration": 3,
    "start_time": "2022-07-09T19:21:55.351Z"
   },
   {
    "duration": 6,
    "start_time": "2022-07-09T19:21:55.355Z"
   },
   {
    "duration": 7,
    "start_time": "2022-07-09T19:21:55.363Z"
   },
   {
    "duration": 9,
    "start_time": "2022-07-09T19:21:55.372Z"
   },
   {
    "duration": 20,
    "start_time": "2022-07-09T19:21:55.382Z"
   },
   {
    "duration": 3,
    "start_time": "2022-07-09T19:21:55.404Z"
   },
   {
    "duration": 11,
    "start_time": "2022-07-09T19:21:55.409Z"
   },
   {
    "duration": 13,
    "start_time": "2022-07-09T19:21:55.421Z"
   },
   {
    "duration": 274,
    "start_time": "2022-07-09T19:21:55.435Z"
   },
   {
    "duration": 98,
    "start_time": "2022-07-09T19:21:55.711Z"
   },
   {
    "duration": 28,
    "start_time": "2022-07-09T19:21:55.810Z"
   },
   {
    "duration": 3,
    "start_time": "2022-07-09T19:21:55.839Z"
   },
   {
    "duration": 7,
    "start_time": "2022-07-09T19:21:55.843Z"
   },
   {
    "duration": 6,
    "start_time": "2022-07-09T19:21:55.851Z"
   },
   {
    "duration": 7,
    "start_time": "2022-07-09T19:21:55.858Z"
   },
   {
    "duration": 10,
    "start_time": "2022-07-09T19:21:55.867Z"
   },
   {
    "duration": 31,
    "start_time": "2022-07-09T19:21:55.878Z"
   },
   {
    "duration": 22,
    "start_time": "2022-07-09T19:21:55.910Z"
   },
   {
    "duration": 195,
    "start_time": "2022-07-09T19:21:55.934Z"
   },
   {
    "duration": 140,
    "start_time": "2022-07-09T19:21:56.131Z"
   },
   {
    "duration": 13,
    "start_time": "2022-07-09T19:21:56.273Z"
   },
   {
    "duration": 23,
    "start_time": "2022-07-09T19:21:56.287Z"
   },
   {
    "duration": 5,
    "start_time": "2022-07-09T19:21:56.311Z"
   },
   {
    "duration": 13,
    "start_time": "2022-07-09T19:21:56.318Z"
   },
   {
    "duration": 31,
    "start_time": "2022-07-09T19:21:56.333Z"
   },
   {
    "duration": 52,
    "start_time": "2022-07-09T19:21:56.366Z"
   },
   {
    "duration": 13,
    "start_time": "2022-07-09T19:21:56.420Z"
   },
   {
    "duration": 27,
    "start_time": "2022-07-09T19:21:56.435Z"
   },
   {
    "duration": 242,
    "start_time": "2022-07-09T19:21:56.464Z"
   },
   {
    "duration": 21,
    "start_time": "2022-07-09T19:21:56.708Z"
   },
   {
    "duration": 8,
    "start_time": "2022-07-09T19:21:56.730Z"
   },
   {
    "duration": 13,
    "start_time": "2022-07-09T19:21:56.740Z"
   },
   {
    "duration": 236,
    "start_time": "2022-07-09T19:21:56.754Z"
   },
   {
    "duration": 27,
    "start_time": "2022-07-09T19:21:57.000Z"
   },
   {
    "duration": 4,
    "start_time": "2022-07-09T19:21:57.028Z"
   },
   {
    "duration": 27,
    "start_time": "2022-07-09T19:21:57.033Z"
   },
   {
    "duration": 4,
    "start_time": "2022-07-09T19:21:57.061Z"
   },
   {
    "duration": 8,
    "start_time": "2022-07-09T19:21:57.067Z"
   },
   {
    "duration": 7,
    "start_time": "2022-07-09T19:21:57.077Z"
   },
   {
    "duration": 7,
    "start_time": "2022-07-09T19:21:57.100Z"
   },
   {
    "duration": 12,
    "start_time": "2022-07-09T19:21:57.109Z"
   },
   {
    "duration": 22,
    "start_time": "2022-07-09T19:21:57.122Z"
   },
   {
    "duration": 18,
    "start_time": "2022-07-09T19:21:57.146Z"
   },
   {
    "duration": 9,
    "start_time": "2022-07-09T19:21:57.165Z"
   },
   {
    "duration": 28,
    "start_time": "2022-07-09T19:21:57.175Z"
   },
   {
    "duration": 110,
    "start_time": "2022-07-09T19:21:57.204Z"
   },
   {
    "duration": 205,
    "start_time": "2022-07-09T19:21:57.316Z"
   },
   {
    "duration": 13,
    "start_time": "2022-07-09T19:21:57.523Z"
   },
   {
    "duration": 10,
    "start_time": "2022-07-09T19:21:57.537Z"
   },
   {
    "duration": 13,
    "start_time": "2022-07-09T19:21:57.548Z"
   },
   {
    "duration": 52,
    "start_time": "2022-07-09T19:21:57.563Z"
   },
   {
    "duration": 9,
    "start_time": "2022-07-09T19:23:17.380Z"
   },
   {
    "duration": 102,
    "start_time": "2022-07-09T19:23:19.870Z"
   },
   {
    "duration": 99,
    "start_time": "2022-07-09T19:24:20.296Z"
   },
   {
    "duration": 183,
    "start_time": "2022-07-09T19:26:08.970Z"
   },
   {
    "duration": 4,
    "start_time": "2022-07-09T19:29:01.440Z"
   },
   {
    "duration": 33,
    "start_time": "2022-07-09T19:29:01.445Z"
   },
   {
    "duration": 49,
    "start_time": "2022-07-09T19:29:01.481Z"
   },
   {
    "duration": 211,
    "start_time": "2022-07-09T19:29:01.532Z"
   },
   {
    "duration": 29,
    "start_time": "2022-07-09T19:29:01.745Z"
   },
   {
    "duration": 93,
    "start_time": "2022-07-09T19:29:01.776Z"
   },
   {
    "duration": 45,
    "start_time": "2022-07-09T19:29:01.871Z"
   },
   {
    "duration": 44,
    "start_time": "2022-07-09T19:29:01.918Z"
   },
   {
    "duration": 19,
    "start_time": "2022-07-09T19:29:01.964Z"
   },
   {
    "duration": 227,
    "start_time": "2022-07-09T19:29:01.985Z"
   },
   {
    "duration": 33,
    "start_time": "2022-07-09T19:29:02.216Z"
   },
   {
    "duration": 17,
    "start_time": "2022-07-09T19:29:02.250Z"
   },
   {
    "duration": 40,
    "start_time": "2022-07-09T19:29:02.269Z"
   },
   {
    "duration": 41,
    "start_time": "2022-07-09T19:29:02.310Z"
   },
   {
    "duration": 14,
    "start_time": "2022-07-09T19:29:02.353Z"
   },
   {
    "duration": 30,
    "start_time": "2022-07-09T19:29:02.369Z"
   },
   {
    "duration": 7,
    "start_time": "2022-07-09T19:29:02.401Z"
   },
   {
    "duration": 19,
    "start_time": "2022-07-09T19:29:02.409Z"
   },
   {
    "duration": 13,
    "start_time": "2022-07-09T19:29:02.430Z"
   },
   {
    "duration": 17,
    "start_time": "2022-07-09T19:29:02.445Z"
   },
   {
    "duration": 20,
    "start_time": "2022-07-09T19:29:02.464Z"
   },
   {
    "duration": 26,
    "start_time": "2022-07-09T19:29:02.486Z"
   },
   {
    "duration": 237,
    "start_time": "2022-07-09T19:29:02.514Z"
   },
   {
    "duration": 6,
    "start_time": "2022-07-09T19:29:02.752Z"
   },
   {
    "duration": 47,
    "start_time": "2022-07-09T19:29:02.760Z"
   },
   {
    "duration": 5,
    "start_time": "2022-07-09T19:29:02.808Z"
   },
   {
    "duration": 44,
    "start_time": "2022-07-09T19:29:02.814Z"
   },
   {
    "duration": 11,
    "start_time": "2022-07-09T19:29:02.859Z"
   },
   {
    "duration": 45,
    "start_time": "2022-07-09T19:29:02.876Z"
   },
   {
    "duration": 3,
    "start_time": "2022-07-09T19:29:02.923Z"
   },
   {
    "duration": 18,
    "start_time": "2022-07-09T19:29:02.928Z"
   },
   {
    "duration": 11,
    "start_time": "2022-07-09T19:29:02.948Z"
   },
   {
    "duration": 10,
    "start_time": "2022-07-09T19:29:02.961Z"
   },
   {
    "duration": 35,
    "start_time": "2022-07-09T19:29:02.972Z"
   },
   {
    "duration": 4,
    "start_time": "2022-07-09T19:29:03.009Z"
   },
   {
    "duration": 22,
    "start_time": "2022-07-09T19:29:03.015Z"
   },
   {
    "duration": 17,
    "start_time": "2022-07-09T19:29:03.039Z"
   },
   {
    "duration": 257,
    "start_time": "2022-07-09T19:29:03.058Z"
   },
   {
    "duration": 109,
    "start_time": "2022-07-09T19:29:03.317Z"
   },
   {
    "duration": 22,
    "start_time": "2022-07-09T19:29:03.428Z"
   },
   {
    "duration": 3,
    "start_time": "2022-07-09T19:29:03.452Z"
   },
   {
    "duration": 14,
    "start_time": "2022-07-09T19:29:03.457Z"
   },
   {
    "duration": 13,
    "start_time": "2022-07-09T19:29:03.473Z"
   },
   {
    "duration": 14,
    "start_time": "2022-07-09T19:29:03.487Z"
   },
   {
    "duration": 15,
    "start_time": "2022-07-09T19:29:03.503Z"
   },
   {
    "duration": 17,
    "start_time": "2022-07-09T19:29:03.520Z"
   },
   {
    "duration": 18,
    "start_time": "2022-07-09T19:29:03.539Z"
   },
   {
    "duration": 581,
    "start_time": "2022-07-09T19:29:03.559Z"
   },
   {
    "duration": 125,
    "start_time": "2022-07-09T19:29:04.141Z"
   },
   {
    "duration": 13,
    "start_time": "2022-07-09T19:29:04.268Z"
   },
   {
    "duration": 26,
    "start_time": "2022-07-09T19:29:04.283Z"
   },
   {
    "duration": 6,
    "start_time": "2022-07-09T19:29:04.312Z"
   },
   {
    "duration": 22,
    "start_time": "2022-07-09T19:29:04.320Z"
   },
   {
    "duration": 32,
    "start_time": "2022-07-09T19:29:04.344Z"
   },
   {
    "duration": 35,
    "start_time": "2022-07-09T19:29:04.378Z"
   },
   {
    "duration": 13,
    "start_time": "2022-07-09T19:29:04.415Z"
   },
   {
    "duration": 25,
    "start_time": "2022-07-09T19:29:04.430Z"
   },
   {
    "duration": 276,
    "start_time": "2022-07-09T19:29:04.457Z"
   },
   {
    "duration": 24,
    "start_time": "2022-07-09T19:29:04.735Z"
   },
   {
    "duration": 8,
    "start_time": "2022-07-09T19:29:04.761Z"
   },
   {
    "duration": 41,
    "start_time": "2022-07-09T19:29:04.771Z"
   },
   {
    "duration": 243,
    "start_time": "2022-07-09T19:29:04.814Z"
   },
   {
    "duration": 28,
    "start_time": "2022-07-09T19:29:05.059Z"
   },
   {
    "duration": 4,
    "start_time": "2022-07-09T19:29:05.100Z"
   },
   {
    "duration": 33,
    "start_time": "2022-07-09T19:29:05.106Z"
   },
   {
    "duration": 6,
    "start_time": "2022-07-09T19:29:05.141Z"
   },
   {
    "duration": 11,
    "start_time": "2022-07-09T19:29:05.148Z"
   },
   {
    "duration": 16,
    "start_time": "2022-07-09T19:29:05.160Z"
   },
   {
    "duration": 25,
    "start_time": "2022-07-09T19:29:05.178Z"
   },
   {
    "duration": 13,
    "start_time": "2022-07-09T19:29:05.204Z"
   },
   {
    "duration": 28,
    "start_time": "2022-07-09T19:29:05.219Z"
   },
   {
    "duration": 21,
    "start_time": "2022-07-09T19:29:05.249Z"
   },
   {
    "duration": 11,
    "start_time": "2022-07-09T19:29:05.272Z"
   },
   {
    "duration": 53,
    "start_time": "2022-07-09T19:29:05.284Z"
   },
   {
    "duration": 114,
    "start_time": "2022-07-09T19:29:05.339Z"
   },
   {
    "duration": 212,
    "start_time": "2022-07-09T19:29:05.454Z"
   },
   {
    "duration": 14,
    "start_time": "2022-07-09T19:29:05.668Z"
   },
   {
    "duration": 19,
    "start_time": "2022-07-09T19:29:05.683Z"
   },
   {
    "duration": 15,
    "start_time": "2022-07-09T19:29:05.703Z"
   },
   {
    "duration": 11,
    "start_time": "2022-07-09T19:29:05.719Z"
   },
   {
    "duration": 205,
    "start_time": "2022-07-09T20:59:48.462Z"
   },
   {
    "duration": 125,
    "start_time": "2022-07-10T05:39:49.716Z"
   }
  ],
  "kernelspec": {
   "display_name": "Python 3 (ipykernel)",
   "language": "python",
   "name": "python3"
  },
  "language_info": {
   "codemirror_mode": {
    "name": "ipython",
    "version": 3
   },
   "file_extension": ".py",
   "mimetype": "text/x-python",
   "name": "python",
   "nbconvert_exporter": "python",
   "pygments_lexer": "ipython3",
   "version": "3.9.7"
  },
  "toc": {
   "base_numbering": 1,
   "nav_menu": {},
   "number_sections": true,
   "sideBar": true,
   "skip_h1_title": true,
   "title_cell": "Table of Contents",
   "title_sidebar": "Contents",
   "toc_cell": false,
   "toc_position": {
    "height": "calc(100% - 180px)",
    "left": "10px",
    "top": "150px",
    "width": "165px"
   },
   "toc_section_display": true,
   "toc_window_display": true
  }
 },
 "nbformat": 4,
 "nbformat_minor": 2
}
