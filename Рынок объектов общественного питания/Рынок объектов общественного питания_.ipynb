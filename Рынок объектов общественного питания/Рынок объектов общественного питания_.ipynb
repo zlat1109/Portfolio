{
 "cells": [
  {
   "cell_type": "markdown",
   "metadata": {},
   "source": [
    "# Рынок объектов общественного питания¶"
   ]
  },
  {
   "cell_type": "markdown",
   "metadata": {},
   "source": [
    "# Синопсис проекта"
   ]
  },
  {
   "cell_type": "markdown",
   "metadata": {},
   "source": [
    "Для привлечения инвестиций в открытие небольшого кафе в Москве, необходимо провести анализ рынка объектов общественного питания в городе Москве на основании открытых данных и подготовить для инвесторов презентацию, которая позволит привлечь инвестиции."
   ]
  },
  {
   "cell_type": "markdown",
   "metadata": {},
   "source": [
    "# План проекта\n",
    "- 1 этап. Изучение и обработка имеющихся данных\n",
    "- 2 этап. Анализ имеющихся данных\n",
    "- 3 этап. Подготовка презентации"
   ]
  },
  {
   "cell_type": "code",
   "execution_count": 11,
   "metadata": {},
   "outputs": [],
   "source": [
    "# Блок с используемыми в рамках проекта библиотеками\n",
    "\n",
    "import pandas as pd\n",
    "import numpy as np\n",
    "import seaborn as sns\n",
    "import plotly.express as px\n",
    "import matplotlib as mpl\n",
    "import matplotlib.pyplot as plt\n",
    "%matplotlib inline\n",
    "\n",
    "pd.set_option('display.float_format', '{:,.2f}'.format)"
   ]
  },
  {
   "cell_type": "markdown",
   "metadata": {},
   "source": [
    "## этап. Изучение и обработка имеющихся данных"
   ]
  },
  {
   "cell_type": "markdown",
   "metadata": {},
   "source": [
    "### Просмотр данных"
   ]
  },
  {
   "cell_type": "code",
   "execution_count": 12,
   "metadata": {},
   "outputs": [],
   "source": [
    "rest_date = pd.read_csv(r'C:\\Users\\Balak\\OneDrive\\Рабочий стол\\Python\\для GitHub\\8. Общепит\\rest_data.csv')"
   ]
  },
  {
   "cell_type": "code",
   "execution_count": 13,
   "metadata": {},
   "outputs": [],
   "source": [
    "# Напишем функцию для просмотра датасета и удаления явных дубликатов\n",
    "\n",
    "def view(data):\n",
    "    return (\n",
    "           display(data.head()),\n",
    "           display(data.info()),\n",
    "           display(data.describe()),\n",
    "           data.drop_duplicates()           \n",
    "    )"
   ]
  },
  {
   "cell_type": "code",
   "execution_count": 14,
   "metadata": {},
   "outputs": [
    {
     "data": {
      "text/html": [
       "<div>\n",
       "<style scoped>\n",
       "    .dataframe tbody tr th:only-of-type {\n",
       "        vertical-align: middle;\n",
       "    }\n",
       "\n",
       "    .dataframe tbody tr th {\n",
       "        vertical-align: top;\n",
       "    }\n",
       "\n",
       "    .dataframe thead th {\n",
       "        text-align: right;\n",
       "    }\n",
       "</style>\n",
       "<table border=\"1\" class=\"dataframe\">\n",
       "  <thead>\n",
       "    <tr style=\"text-align: right;\">\n",
       "      <th></th>\n",
       "      <th>id</th>\n",
       "      <th>object_name</th>\n",
       "      <th>chain</th>\n",
       "      <th>object_type</th>\n",
       "      <th>address</th>\n",
       "      <th>number</th>\n",
       "    </tr>\n",
       "  </thead>\n",
       "  <tbody>\n",
       "    <tr>\n",
       "      <th>0</th>\n",
       "      <td>151635</td>\n",
       "      <td>СМЕТАНА</td>\n",
       "      <td>нет</td>\n",
       "      <td>кафе</td>\n",
       "      <td>город Москва, улица Егора Абакумова, дом 9</td>\n",
       "      <td>48</td>\n",
       "    </tr>\n",
       "    <tr>\n",
       "      <th>1</th>\n",
       "      <td>77874</td>\n",
       "      <td>Родник</td>\n",
       "      <td>нет</td>\n",
       "      <td>кафе</td>\n",
       "      <td>город Москва, улица Талалихина, дом 2/1, корпус 1</td>\n",
       "      <td>35</td>\n",
       "    </tr>\n",
       "    <tr>\n",
       "      <th>2</th>\n",
       "      <td>24309</td>\n",
       "      <td>Кафе «Академия»</td>\n",
       "      <td>нет</td>\n",
       "      <td>кафе</td>\n",
       "      <td>город Москва, Абельмановская улица, дом 6</td>\n",
       "      <td>95</td>\n",
       "    </tr>\n",
       "    <tr>\n",
       "      <th>3</th>\n",
       "      <td>21894</td>\n",
       "      <td>ПИЦЦЕТОРИЯ</td>\n",
       "      <td>да</td>\n",
       "      <td>кафе</td>\n",
       "      <td>город Москва, Абрамцевская улица, дом 1</td>\n",
       "      <td>40</td>\n",
       "    </tr>\n",
       "    <tr>\n",
       "      <th>4</th>\n",
       "      <td>119365</td>\n",
       "      <td>Кафе «Вишневая метель»</td>\n",
       "      <td>нет</td>\n",
       "      <td>кафе</td>\n",
       "      <td>город Москва, Абрамцевская улица, дом 9, корпус 1</td>\n",
       "      <td>50</td>\n",
       "    </tr>\n",
       "  </tbody>\n",
       "</table>\n",
       "</div>"
      ],
      "text/plain": [
       "       id             object_name chain object_type  \\\n",
       "0  151635                 СМЕТАНА   нет        кафе   \n",
       "1   77874                  Родник   нет        кафе   \n",
       "2   24309         Кафе «Академия»   нет        кафе   \n",
       "3   21894              ПИЦЦЕТОРИЯ    да        кафе   \n",
       "4  119365  Кафе «Вишневая метель»   нет        кафе   \n",
       "\n",
       "                                             address  number  \n",
       "0         город Москва, улица Егора Абакумова, дом 9      48  \n",
       "1  город Москва, улица Талалихина, дом 2/1, корпус 1      35  \n",
       "2          город Москва, Абельмановская улица, дом 6      95  \n",
       "3            город Москва, Абрамцевская улица, дом 1      40  \n",
       "4  город Москва, Абрамцевская улица, дом 9, корпус 1      50  "
      ]
     },
     "metadata": {},
     "output_type": "display_data"
    },
    {
     "name": "stdout",
     "output_type": "stream",
     "text": [
      "<class 'pandas.core.frame.DataFrame'>\n",
      "RangeIndex: 15366 entries, 0 to 15365\n",
      "Data columns (total 6 columns):\n",
      " #   Column       Non-Null Count  Dtype \n",
      "---  ------       --------------  ----- \n",
      " 0   id           15366 non-null  int64 \n",
      " 1   object_name  15366 non-null  object\n",
      " 2   chain        15366 non-null  object\n",
      " 3   object_type  15366 non-null  object\n",
      " 4   address      15366 non-null  object\n",
      " 5   number       15366 non-null  int64 \n",
      "dtypes: int64(2), object(4)\n",
      "memory usage: 720.4+ KB\n"
     ]
    },
    {
     "data": {
      "text/plain": [
       "None"
      ]
     },
     "metadata": {},
     "output_type": "display_data"
    },
    {
     "data": {
      "text/html": [
       "<div>\n",
       "<style scoped>\n",
       "    .dataframe tbody tr th:only-of-type {\n",
       "        vertical-align: middle;\n",
       "    }\n",
       "\n",
       "    .dataframe tbody tr th {\n",
       "        vertical-align: top;\n",
       "    }\n",
       "\n",
       "    .dataframe thead th {\n",
       "        text-align: right;\n",
       "    }\n",
       "</style>\n",
       "<table border=\"1\" class=\"dataframe\">\n",
       "  <thead>\n",
       "    <tr style=\"text-align: right;\">\n",
       "      <th></th>\n",
       "      <th>id</th>\n",
       "      <th>number</th>\n",
       "    </tr>\n",
       "  </thead>\n",
       "  <tbody>\n",
       "    <tr>\n",
       "      <th>count</th>\n",
       "      <td>15,366.00</td>\n",
       "      <td>15,366.00</td>\n",
       "    </tr>\n",
       "    <tr>\n",
       "      <th>mean</th>\n",
       "      <td>119,720.07</td>\n",
       "      <td>59.55</td>\n",
       "    </tr>\n",
       "    <tr>\n",
       "      <th>std</th>\n",
       "      <td>73,036.13</td>\n",
       "      <td>74.74</td>\n",
       "    </tr>\n",
       "    <tr>\n",
       "      <th>min</th>\n",
       "      <td>838.00</td>\n",
       "      <td>0.00</td>\n",
       "    </tr>\n",
       "    <tr>\n",
       "      <th>25%</th>\n",
       "      <td>28,524.00</td>\n",
       "      <td>12.00</td>\n",
       "    </tr>\n",
       "    <tr>\n",
       "      <th>50%</th>\n",
       "      <td>144,974.50</td>\n",
       "      <td>40.00</td>\n",
       "    </tr>\n",
       "    <tr>\n",
       "      <th>75%</th>\n",
       "      <td>184,262.25</td>\n",
       "      <td>80.00</td>\n",
       "    </tr>\n",
       "    <tr>\n",
       "      <th>max</th>\n",
       "      <td>223,439.00</td>\n",
       "      <td>1,700.00</td>\n",
       "    </tr>\n",
       "  </tbody>\n",
       "</table>\n",
       "</div>"
      ],
      "text/plain": [
       "              id    number\n",
       "count  15,366.00 15,366.00\n",
       "mean  119,720.07     59.55\n",
       "std    73,036.13     74.74\n",
       "min       838.00      0.00\n",
       "25%    28,524.00     12.00\n",
       "50%   144,974.50     40.00\n",
       "75%   184,262.25     80.00\n",
       "max   223,439.00  1,700.00"
      ]
     },
     "metadata": {},
     "output_type": "display_data"
    },
    {
     "data": {
      "text/plain": [
       "(None,\n",
       " None,\n",
       " None,\n",
       "            id             object_name chain object_type  \\\n",
       " 0      151635                 СМЕТАНА   нет        кафе   \n",
       " 1       77874                  Родник   нет        кафе   \n",
       " 2       24309         Кафе «Академия»   нет        кафе   \n",
       " 3       21894              ПИЦЦЕТОРИЯ    да        кафе   \n",
       " 4      119365  Кафе «Вишневая метель»   нет        кафе   \n",
       " ...       ...                     ...   ...         ...   \n",
       " 15361  208537             Шоколадница    да        кафе   \n",
       " 15362  209264             Шоколадница    да        кафе   \n",
       " 15363  209186             Шоколадница    да        кафе   \n",
       " 15364  221900             Шоколадница    да        кафе   \n",
       " 15365  222535             Шоколадница    да        кафе   \n",
       " \n",
       "                                                  address  number  \n",
       " 0             город Москва, улица Егора Абакумова, дом 9      48  \n",
       " 1      город Москва, улица Талалихина, дом 2/1, корпус 1      35  \n",
       " 2              город Москва, Абельмановская улица, дом 6      95  \n",
       " 3                город Москва, Абрамцевская улица, дом 1      40  \n",
       " 4      город Москва, Абрамцевская улица, дом 9, корпус 1      50  \n",
       " ...                                                  ...     ...  \n",
       " 15361       город Москва, 3-й Крутицкий переулок, дом 18      50  \n",
       " 15362           город Москва, улица Земляной Вал, дом 33      10  \n",
       " 15363           город Москва, улица Земляной Вал, дом 33      20  \n",
       " 15364  город Москва, поселение Московский, Киевское ш...      36  \n",
       " 15365             город Москва, Ходынский бульвар, дом 4      10  \n",
       " \n",
       " [15366 rows x 6 columns])"
      ]
     },
     "execution_count": 14,
     "metadata": {},
     "output_type": "execute_result"
    }
   ],
   "source": [
    "view(rest_date)"
   ]
  },
  {
   "cell_type": "markdown",
   "metadata": {},
   "source": [
    "Вопросы, которые возникают при просмотре датасета:\n",
    "- данные с наименованиями объектов питания указаны в разных регистрах и по разным шаблонам, необходимо проанализировать можно ли с этим что то сделать\n",
    "- необходимо проверить действительно ли все кафе с отметкой о том, что они сетевые или несетевые являются такими\n",
    "- в данных о количестве посадочных мест встречаются 0, в принципе такое возможно в заведениях, где работают только на вынос, но необходимо посмотреть данные по таким объектам\n",
    "- типы данных в датасете соответствуют той информации, которая содержится в столбцах\n",
    "- явные дубликаты отсутствуют"
   ]
  },
  {
   "cell_type": "markdown",
   "metadata": {},
   "source": [
    "### Столбец `id`"
   ]
  },
  {
   "cell_type": "code",
   "execution_count": 15,
   "metadata": {},
   "outputs": [
    {
     "data": {
      "text/plain": [
       "15366"
      ]
     },
     "execution_count": 15,
     "metadata": {},
     "output_type": "execute_result"
    }
   ],
   "source": [
    "len(rest_date['id'].unique())"
   ]
  },
  {
   "cell_type": "markdown",
   "metadata": {},
   "source": [
    "**Вывод** Данные в столбце являются уникальными, но это может также говорить о возможном задвоении сведений об объектах, когда одному и тому же объекту могли быть присвоены разные идентификаторы."
   ]
  },
  {
   "cell_type": "markdown",
   "metadata": {},
   "source": [
    "### Столбец `object_name`"
   ]
  },
  {
   "cell_type": "code",
   "execution_count": 16,
   "metadata": {},
   "outputs": [
    {
     "data": {
      "text/plain": [
       "0                   СМЕТАНА\n",
       "1                    Родник\n",
       "2           Кафе «Академия»\n",
       "3                ПИЦЦЕТОРИЯ\n",
       "4    Кафе «Вишневая метель»\n",
       "Name: object_name, dtype: object"
      ]
     },
     "execution_count": 16,
     "metadata": {},
     "output_type": "execute_result"
    }
   ],
   "source": [
    "rest_date['object_name'].head()"
   ]
  },
  {
   "cell_type": "code",
   "execution_count": 17,
   "metadata": {},
   "outputs": [
    {
     "data": {
      "text/plain": [
       "15361    Шоколадница\n",
       "15362    Шоколадница\n",
       "15363    Шоколадница\n",
       "15364    Шоколадница\n",
       "15365    Шоколадница\n",
       "Name: object_name, dtype: object"
      ]
     },
     "execution_count": 17,
     "metadata": {},
     "output_type": "execute_result"
    }
   ],
   "source": [
    "rest_date['object_name'].tail()"
   ]
  },
  {
   "cell_type": "markdown",
   "metadata": {},
   "source": [
    "**Подвывод** данные о наименовании объектов имеют проблему корректного учета названий, когда объекты относящиеся к одной сети записаны в датасете по разному."
   ]
  },
  {
   "cell_type": "code",
   "execution_count": 18,
   "metadata": {},
   "outputs": [
    {
     "data": {
      "text/plain": [
       "10393"
      ]
     },
     "execution_count": 18,
     "metadata": {},
     "output_type": "execute_result"
    }
   ],
   "source": [
    "len(rest_date['object_name'].unique())"
   ]
  },
  {
   "cell_type": "markdown",
   "metadata": {},
   "source": [
    "**Подвывод** уникальных значений по наименованиям объектов в датасете меньше, но возможно мы видим их больше, чем на самом деле есть, поскольку в написании объектов может быть использован разный регистр записи."
   ]
  },
  {
   "cell_type": "code",
   "execution_count": 19,
   "metadata": {},
   "outputs": [],
   "source": [
    "rest_date['object_name'] = rest_date['object_name'].str.lower()"
   ]
  },
  {
   "cell_type": "code",
   "execution_count": 20,
   "metadata": {},
   "outputs": [
    {
     "data": {
      "text/plain": [
       "9924"
      ]
     },
     "execution_count": 20,
     "metadata": {},
     "output_type": "execute_result"
    }
   ],
   "source": [
    "len(rest_date['object_name'].unique())"
   ]
  },
  {
   "cell_type": "markdown",
   "metadata": {},
   "source": [
    "**Подвывод** действительно, приведение наименований объектов к строчному написанию уменьшил уникальное количество записей."
   ]
  },
  {
   "cell_type": "code",
   "execution_count": 21,
   "metadata": {},
   "outputs": [
    {
     "data": {
      "text/plain": [
       "85"
      ]
     },
     "execution_count": 21,
     "metadata": {},
     "output_type": "execute_result"
    }
   ],
   "source": [
    "# Посчитаем количество дубликатов, без учета столбца `id`\n",
    "len(rest_date)-len(rest_date.drop_duplicates(subset = ['object_name', 'chain', 'object_type', 'address', 'number']))"
   ]
  },
  {
   "cell_type": "code",
   "execution_count": 22,
   "metadata": {},
   "outputs": [],
   "source": [
    "rest_date = rest_date.drop_duplicates(subset = ['object_name', 'chain', 'object_type', 'address', 'number'])"
   ]
  },
  {
   "cell_type": "code",
   "execution_count": 23,
   "metadata": {},
   "outputs": [],
   "source": [
    "rest_date['number'] = rest_date['number'].astype(int)"
   ]
  },
  {
   "cell_type": "code",
   "execution_count": 24,
   "metadata": {},
   "outputs": [
    {
     "name": "stdout",
     "output_type": "stream",
     "text": [
      "<class 'pandas.core.frame.DataFrame'>\n",
      "Int64Index: 15281 entries, 0 to 15365\n",
      "Data columns (total 6 columns):\n",
      " #   Column       Non-Null Count  Dtype \n",
      "---  ------       --------------  ----- \n",
      " 0   id           15281 non-null  int64 \n",
      " 1   object_name  15281 non-null  object\n",
      " 2   chain        15281 non-null  object\n",
      " 3   object_type  15281 non-null  object\n",
      " 4   address      15281 non-null  object\n",
      " 5   number       15281 non-null  int32 \n",
      "dtypes: int32(1), int64(1), object(4)\n",
      "memory usage: 776.0+ KB\n"
     ]
    }
   ],
   "source": [
    "rest_date.info()"
   ]
  },
  {
   "cell_type": "markdown",
   "metadata": {},
   "source": [
    "**Выводы и итоги по разделу:** Обнаружили необходимость детальной инвентаризации в системе учета объектов, поскольку объекты отнесенные к одной сети учитываются под разными наименованиями, что приводит к искажению общей картины. К сожалению, доступными способами эту корректировку в рамках настоящего проекта осуществить не удастся, поэтому я считаю, что можно ограничится к приведению наименования объектов к строчному написанию и удалением дубликатов, чтобы устранить задвоение некоторых объектов в датасете."
   ]
  },
  {
   "cell_type": "markdown",
   "metadata": {},
   "source": [
    "### Столбец `chain`"
   ]
  },
  {
   "cell_type": "code",
   "execution_count": 25,
   "metadata": {},
   "outputs": [
    {
     "data": {
      "text/plain": [
       "шоколадница                  157\n",
       "kfc                          155\n",
       "макдоналдс                   150\n",
       "бургер кинг                  137\n",
       "теремок                       94\n",
       "                            ... \n",
       "ресторан «иль патио»           5\n",
       "пиццерия «домино'с пицца»      5\n",
       "магбургер                      5\n",
       "пицца фабрика                  5\n",
       "moskalyan                      5\n",
       "Name: object_name, Length: 100, dtype: int64"
      ]
     },
     "execution_count": 25,
     "metadata": {},
     "output_type": "execute_result"
    }
   ],
   "source": [
    "rest_date[rest_date['chain'] == 'да']['object_name'].value_counts().head(100)"
   ]
  },
  {
   "cell_type": "code",
   "execution_count": 26,
   "metadata": {},
   "outputs": [
    {
     "data": {
      "text/plain": [
       "предприятие быстрого обслуживания «крошка картошка»    1\n",
       "спб                                                    1\n",
       "бир хаус                                               1\n",
       "кафе чайхона №1                                        1\n",
       "кафе «марукамэ»                                        1\n",
       "                                                      ..\n",
       "кафе «кофейня старбакс»                                1\n",
       "кафе «меленка»                                         1\n",
       "ресторан «джардино да пино»                            1\n",
       "кафе «менза»                                           1\n",
       "мята                                                   1\n",
       "Name: object_name, Length: 100, dtype: int64"
      ]
     },
     "execution_count": 26,
     "metadata": {},
     "output_type": "execute_result"
    }
   ],
   "source": [
    "rest_date[rest_date['chain'] == 'да']['object_name'].value_counts().tail(100)"
   ]
  },
  {
   "cell_type": "markdown",
   "metadata": {},
   "source": [
    "**Вывод** В целом данныей столбец только подтверждает выявленный ранее момент с некоректным учетом в датасете объектов относящихся к одной сети."
   ]
  },
  {
   "cell_type": "markdown",
   "metadata": {},
   "source": [
    "### Столбец `object_type`"
   ]
  },
  {
   "cell_type": "code",
   "execution_count": 27,
   "metadata": {},
   "outputs": [
    {
     "data": {
      "text/plain": [
       "кафе                                 6071\n",
       "столовая                             2584\n",
       "ресторан                             2282\n",
       "предприятие быстрого обслуживания    1897\n",
       "бар                                   855\n",
       "буфет                                 576\n",
       "кафетерий                             395\n",
       "закусочная                            348\n",
       "магазин (отдел кулинарии)             273\n",
       "Name: object_type, dtype: int64"
      ]
     },
     "execution_count": 27,
     "metadata": {},
     "output_type": "execute_result"
    }
   ],
   "source": [
    "rest_date['object_type'].value_counts()"
   ]
  },
  {
   "cell_type": "markdown",
   "metadata": {},
   "source": [
    "**Вывод** В представленном датасете есть 9 типов объектов, каких то особых недостатков не наблюдается."
   ]
  },
  {
   "cell_type": "markdown",
   "metadata": {},
   "source": [
    "### Столбец `address`"
   ]
  },
  {
   "cell_type": "code",
   "execution_count": 28,
   "metadata": {},
   "outputs": [
    {
     "data": {
      "text/plain": [
       "город Москва, Ходынский бульвар, дом 4            95\n",
       "город Москва, Пресненская набережная, дом 2       63\n",
       "город Москва, проспект Мира, дом 211, корпус 2    60\n",
       "город Москва, Кировоградская улица, дом 13А       52\n",
       "город Москва, площадь Киевского Вокзала, дом 2    47\n",
       "город Москва, Мытная улица, дом 74                46\n",
       "город Москва, улица Земляной Вал, дом 33          46\n",
       "город Москва, улица Новый Арбат, дом 21           42\n",
       "город Москва, улица Ленинская Слобода, дом 26     41\n",
       "город Москва, Кутузовский проспект, дом 57        40\n",
       "Name: address, dtype: int64"
      ]
     },
     "execution_count": 28,
     "metadata": {},
     "output_type": "execute_result"
    }
   ],
   "source": [
    "rest_date['address'].value_counts().head(10)"
   ]
  },
  {
   "cell_type": "code",
   "execution_count": 29,
   "metadata": {},
   "outputs": [
    {
     "data": {
      "text/html": [
       "<div>\n",
       "<style scoped>\n",
       "    .dataframe tbody tr th:only-of-type {\n",
       "        vertical-align: middle;\n",
       "    }\n",
       "\n",
       "    .dataframe tbody tr th {\n",
       "        vertical-align: top;\n",
       "    }\n",
       "\n",
       "    .dataframe thead th {\n",
       "        text-align: right;\n",
       "    }\n",
       "</style>\n",
       "<table border=\"1\" class=\"dataframe\">\n",
       "  <thead>\n",
       "    <tr style=\"text-align: right;\">\n",
       "      <th></th>\n",
       "      <th>id</th>\n",
       "      <th>object_name</th>\n",
       "      <th>chain</th>\n",
       "      <th>object_type</th>\n",
       "      <th>address</th>\n",
       "      <th>number</th>\n",
       "    </tr>\n",
       "  </thead>\n",
       "  <tbody>\n",
       "    <tr>\n",
       "      <th>11800</th>\n",
       "      <td>94102</td>\n",
       "      <td>barbecue bbq storege</td>\n",
       "      <td>нет</td>\n",
       "      <td>предприятие быстрого обслуживания</td>\n",
       "      <td>город Москва, Ходынский бульвар, дом 4</td>\n",
       "      <td>20</td>\n",
       "    </tr>\n",
       "    <tr>\n",
       "      <th>11801</th>\n",
       "      <td>94433</td>\n",
       "      <td>chaikhana shurpa</td>\n",
       "      <td>нет</td>\n",
       "      <td>предприятие быстрого обслуживания</td>\n",
       "      <td>город Москва, Ходынский бульвар, дом 4</td>\n",
       "      <td>50</td>\n",
       "    </tr>\n",
       "    <tr>\n",
       "      <th>11802</th>\n",
       "      <td>94667</td>\n",
       "      <td>хмели-сунели</td>\n",
       "      <td>нет</td>\n",
       "      <td>ресторан</td>\n",
       "      <td>город Москва, Ходынский бульвар, дом 4</td>\n",
       "      <td>100</td>\n",
       "    </tr>\n",
       "    <tr>\n",
       "      <th>11803</th>\n",
       "      <td>96595</td>\n",
       "      <td>панчо пицца</td>\n",
       "      <td>да</td>\n",
       "      <td>ресторан</td>\n",
       "      <td>город Москва, Ходынский бульвар, дом 4</td>\n",
       "      <td>23</td>\n",
       "    </tr>\n",
       "    <tr>\n",
       "      <th>11804</th>\n",
       "      <td>96598</td>\n",
       "      <td>new york pizza</td>\n",
       "      <td>нет</td>\n",
       "      <td>кафе</td>\n",
       "      <td>город Москва, Ходынский бульвар, дом 4</td>\n",
       "      <td>0</td>\n",
       "    </tr>\n",
       "  </tbody>\n",
       "</table>\n",
       "</div>"
      ],
      "text/plain": [
       "          id           object_name chain                        object_type  \\\n",
       "11800  94102  barbecue bbq storege   нет  предприятие быстрого обслуживания   \n",
       "11801  94433      chaikhana shurpa   нет  предприятие быстрого обслуживания   \n",
       "11802  94667          хмели-сунели   нет                           ресторан   \n",
       "11803  96595           панчо пицца    да                           ресторан   \n",
       "11804  96598        new york pizza   нет                               кафе   \n",
       "\n",
       "                                      address  number  \n",
       "11800  город Москва, Ходынский бульвар, дом 4      20  \n",
       "11801  город Москва, Ходынский бульвар, дом 4      50  \n",
       "11802  город Москва, Ходынский бульвар, дом 4     100  \n",
       "11803  город Москва, Ходынский бульвар, дом 4      23  \n",
       "11804  город Москва, Ходынский бульвар, дом 4       0  "
      ]
     },
     "execution_count": 29,
     "metadata": {},
     "output_type": "execute_result"
    }
   ],
   "source": [
    "rest_date[rest_date['address'] == 'город Москва, Ходынский бульвар, дом 4'].head()"
   ]
  },
  {
   "cell_type": "markdown",
   "metadata": {},
   "source": [
    "**Выводы** аномально высокое количество заведений, помимо ситуации с неймингом описанной выше наталкивает также на мысль, что учет данных может вестись без корректировки на то, что какие то заведения закрываются и на их месте открываются новые. Наличие 95 объектов общепита по одному адресу конечно вероятно, если это какой то очень большой торговый центр, но все же я допускаю, что эти данные нельзя считать однозначно корректными."
   ]
  },
  {
   "cell_type": "markdown",
   "metadata": {},
   "source": [
    "### Столбец `number`"
   ]
  },
  {
   "cell_type": "code",
   "execution_count": 30,
   "metadata": {},
   "outputs": [
    {
     "data": {
      "text/plain": [
       "11804       0\n",
       "14253       0\n",
       "1148        0\n",
       "14254       0\n",
       "9209        0\n",
       "         ... \n",
       "4480     1200\n",
       "9064     1288\n",
       "8345     1400\n",
       "8148     1500\n",
       "12723    1700\n",
       "Name: number, Length: 15281, dtype: int32"
      ]
     },
     "execution_count": 30,
     "metadata": {},
     "output_type": "execute_result"
    }
   ],
   "source": [
    "rest_date['number'].sort_values()"
   ]
  },
  {
   "cell_type": "code",
   "execution_count": 31,
   "metadata": {},
   "outputs": [
    {
     "data": {
      "text/plain": [
       "предприятие быстрого обслуживания    690\n",
       "кафе                                 306\n",
       "закусочная                           181\n",
       "магазин (отдел кулинарии)            145\n",
       "кафетерий                            111\n",
       "буфет                                 64\n",
       "ресторан                              44\n",
       "бар                                   28\n",
       "столовая                              19\n",
       "Name: object_type, dtype: int64"
      ]
     },
     "execution_count": 31,
     "metadata": {},
     "output_type": "execute_result"
    }
   ],
   "source": [
    "rest_date[rest_date['number'] == 0]['object_type'].value_counts()"
   ]
  },
  {
   "cell_type": "code",
   "execution_count": 32,
   "metadata": {},
   "outputs": [
    {
     "data": {
      "text/html": [
       "<div>\n",
       "<style scoped>\n",
       "    .dataframe tbody tr th:only-of-type {\n",
       "        vertical-align: middle;\n",
       "    }\n",
       "\n",
       "    .dataframe tbody tr th {\n",
       "        vertical-align: top;\n",
       "    }\n",
       "\n",
       "    .dataframe thead th {\n",
       "        text-align: right;\n",
       "    }\n",
       "</style>\n",
       "<table border=\"1\" class=\"dataframe\">\n",
       "  <thead>\n",
       "    <tr style=\"text-align: right;\">\n",
       "      <th></th>\n",
       "      <th>id</th>\n",
       "      <th>object_name</th>\n",
       "      <th>chain</th>\n",
       "      <th>object_type</th>\n",
       "      <th>address</th>\n",
       "      <th>number</th>\n",
       "    </tr>\n",
       "  </thead>\n",
       "  <tbody>\n",
       "    <tr>\n",
       "      <th>1802</th>\n",
       "      <td>106196</td>\n",
       "      <td>бар «попкорн»</td>\n",
       "      <td>нет</td>\n",
       "      <td>бар</td>\n",
       "      <td>город Москва, микрорайон Северное Чертаново, д...</td>\n",
       "      <td>0</td>\n",
       "    </tr>\n",
       "    <tr>\n",
       "      <th>2510</th>\n",
       "      <td>155560</td>\n",
       "      <td>японский пес</td>\n",
       "      <td>нет</td>\n",
       "      <td>бар</td>\n",
       "      <td>город Москва, улица Академика Янгеля, дом 6, к...</td>\n",
       "      <td>0</td>\n",
       "    </tr>\n",
       "    <tr>\n",
       "      <th>6116</th>\n",
       "      <td>20410</td>\n",
       "      <td>сердолик-ю</td>\n",
       "      <td>нет</td>\n",
       "      <td>бар</td>\n",
       "      <td>город Москва, Профсоюзная улица, дом 61А</td>\n",
       "      <td>0</td>\n",
       "    </tr>\n",
       "    <tr>\n",
       "      <th>7569</th>\n",
       "      <td>107408</td>\n",
       "      <td>бар «консешн бар»</td>\n",
       "      <td>нет</td>\n",
       "      <td>бар</td>\n",
       "      <td>город Москва, Днепропетровская улица, дом 2</td>\n",
       "      <td>0</td>\n",
       "    </tr>\n",
       "    <tr>\n",
       "      <th>7859</th>\n",
       "      <td>77595</td>\n",
       "      <td>бильярдная сова</td>\n",
       "      <td>нет</td>\n",
       "      <td>бар</td>\n",
       "      <td>город Москва, Марксистская улица, дом 34, корп...</td>\n",
       "      <td>0</td>\n",
       "    </tr>\n",
       "  </tbody>\n",
       "</table>\n",
       "</div>"
      ],
      "text/plain": [
       "          id        object_name chain object_type  \\\n",
       "1802  106196      бар «попкорн»   нет         бар   \n",
       "2510  155560       японский пес   нет         бар   \n",
       "6116   20410         сердолик-ю   нет         бар   \n",
       "7569  107408  бар «консешн бар»   нет         бар   \n",
       "7859   77595    бильярдная сова   нет         бар   \n",
       "\n",
       "                                                address  number  \n",
       "1802  город Москва, микрорайон Северное Чертаново, д...       0  \n",
       "2510  город Москва, улица Академика Янгеля, дом 6, к...       0  \n",
       "6116           город Москва, Профсоюзная улица, дом 61А       0  \n",
       "7569        город Москва, Днепропетровская улица, дом 2       0  \n",
       "7859  город Москва, Марксистская улица, дом 34, корп...       0  "
      ]
     },
     "execution_count": 32,
     "metadata": {},
     "output_type": "execute_result"
    }
   ],
   "source": [
    "rest_date[(rest_date['object_type'] == 'бар') & (rest_date['number'] == 0)].head()"
   ]
  },
  {
   "cell_type": "markdown",
   "metadata": {},
   "source": [
    "**Выводы по разделу** Данные обнаруживают еще одну особенноть, что не по всем объектам данные в столбце с количеством посадочных мест можно считать корректным, поскольку представить ресторан или бар с нулевым количеством посадочных мест сложно, при этом на мой взгляд отсутствует корректный способ заменить эти данные, без проведения полноценной инвентаризации невозможно, поэтому в дальнейшем при проведении проекта мы должны учитывать и этот момент."
   ]
  },
  {
   "cell_type": "markdown",
   "metadata": {},
   "source": [
    "**Сводные выводы по этапу:**\n",
    "- В рамках данного шага был детально изучен датасет, удалены дубликаты, которые можно было удалить и данные приведены к необходимому типу.\n",
    "- Выявлено, что в данных имеются проблемы с унификацией учета сетевых объектов, вероятно не учитывается, что некоторые из объектов уже не работают и некорректно учтено количество посадочных мест по некоторым объектам."
   ]
  },
  {
   "cell_type": "markdown",
   "metadata": {},
   "source": [
    "## этап. Анализ данных"
   ]
  },
  {
   "cell_type": "markdown",
   "metadata": {},
   "source": [
    "### Соотношение объектов по типу"
   ]
  },
  {
   "cell_type": "code",
   "execution_count": 33,
   "metadata": {},
   "outputs": [],
   "source": [
    "object_type = (rest_date.pivot_table(index='object_type', values='id', aggfunc='count')\n",
    "                       .reset_index(drop=False)\n",
    "                       .sort_values(by='id', ascending=False)\n",
    "                       .reset_index(drop=True))"
   ]
  },
  {
   "cell_type": "code",
   "execution_count": 34,
   "metadata": {},
   "outputs": [],
   "source": [
    "object_type['share'] = (object_type['id'] / sum(object_type['id'])*100).round(1)"
   ]
  },
  {
   "cell_type": "code",
   "execution_count": 35,
   "metadata": {},
   "outputs": [
    {
     "data": {
      "text/html": [
       "<div>\n",
       "<style scoped>\n",
       "    .dataframe tbody tr th:only-of-type {\n",
       "        vertical-align: middle;\n",
       "    }\n",
       "\n",
       "    .dataframe tbody tr th {\n",
       "        vertical-align: top;\n",
       "    }\n",
       "\n",
       "    .dataframe thead th {\n",
       "        text-align: right;\n",
       "    }\n",
       "</style>\n",
       "<table border=\"1\" class=\"dataframe\">\n",
       "  <thead>\n",
       "    <tr style=\"text-align: right;\">\n",
       "      <th></th>\n",
       "      <th>object_type</th>\n",
       "      <th>id</th>\n",
       "      <th>share</th>\n",
       "    </tr>\n",
       "  </thead>\n",
       "  <tbody>\n",
       "    <tr>\n",
       "      <th>0</th>\n",
       "      <td>кафе</td>\n",
       "      <td>6071</td>\n",
       "      <td>39.70</td>\n",
       "    </tr>\n",
       "    <tr>\n",
       "      <th>1</th>\n",
       "      <td>столовая</td>\n",
       "      <td>2584</td>\n",
       "      <td>16.90</td>\n",
       "    </tr>\n",
       "    <tr>\n",
       "      <th>2</th>\n",
       "      <td>ресторан</td>\n",
       "      <td>2282</td>\n",
       "      <td>14.90</td>\n",
       "    </tr>\n",
       "    <tr>\n",
       "      <th>3</th>\n",
       "      <td>предприятие быстрого обслуживания</td>\n",
       "      <td>1897</td>\n",
       "      <td>12.40</td>\n",
       "    </tr>\n",
       "    <tr>\n",
       "      <th>4</th>\n",
       "      <td>бар</td>\n",
       "      <td>855</td>\n",
       "      <td>5.60</td>\n",
       "    </tr>\n",
       "    <tr>\n",
       "      <th>5</th>\n",
       "      <td>буфет</td>\n",
       "      <td>576</td>\n",
       "      <td>3.80</td>\n",
       "    </tr>\n",
       "    <tr>\n",
       "      <th>6</th>\n",
       "      <td>кафетерий</td>\n",
       "      <td>395</td>\n",
       "      <td>2.60</td>\n",
       "    </tr>\n",
       "    <tr>\n",
       "      <th>7</th>\n",
       "      <td>закусочная</td>\n",
       "      <td>348</td>\n",
       "      <td>2.30</td>\n",
       "    </tr>\n",
       "    <tr>\n",
       "      <th>8</th>\n",
       "      <td>магазин (отдел кулинарии)</td>\n",
       "      <td>273</td>\n",
       "      <td>1.80</td>\n",
       "    </tr>\n",
       "  </tbody>\n",
       "</table>\n",
       "</div>"
      ],
      "text/plain": [
       "                         object_type    id  share\n",
       "0                               кафе  6071  39.70\n",
       "1                           столовая  2584  16.90\n",
       "2                           ресторан  2282  14.90\n",
       "3  предприятие быстрого обслуживания  1897  12.40\n",
       "4                                бар   855   5.60\n",
       "5                              буфет   576   3.80\n",
       "6                          кафетерий   395   2.60\n",
       "7                         закусочная   348   2.30\n",
       "8          магазин (отдел кулинарии)   273   1.80"
      ]
     },
     "execution_count": 35,
     "metadata": {},
     "output_type": "execute_result"
    }
   ],
   "source": [
    "object_type"
   ]
  },
  {
   "cell_type": "code",
   "execution_count": 36,
   "metadata": {},
   "outputs": [
    {
     "data": {
      "image/png": "[encoded data removed]",
      "text/plain": [
       "<Figure size 1440x720 with 1 Axes>"
      ]
     },
     "metadata": {
      "needs_background": "light"
     },
     "output_type": "display_data"
    }
   ],
   "source": [
    "fig, axes = plt.subplots()\n",
    "ax = sns.barplot(data=object_type, y='object_type', x='id')\n",
    "ax.set_xlabel('Количество объектов', fontsize = '20')\n",
    "ax.set_ylabel('Тип объекта', fontsize = '20')\n",
    "ax.set_title('Количество объектов питания по типу', fontsize = '20')\n",
    "\n",
    "for i in ax.patches:\n",
    "    plt.text(i.get_width()+0.5, i.get_y()+0.5,\n",
    "             str(round((i.get_width()))),\n",
    "             fontsize = 15, \n",
    "             color ='black')\n",
    "    \n",
    "fig.set_figwidth(20)    \n",
    "fig.set_figheight(10)  "
   ]
  },
  {
   "cell_type": "code",
   "execution_count": 37,
   "metadata": {},
   "outputs": [
    {
     "data": {
      "image/png": "[encoded data removed]",
      "text/plain": [
       "<Figure size 504x504 with 1 Axes>"
      ]
     },
     "metadata": {},
     "output_type": "display_data"
    }
   ],
   "source": [
    "fig, ax = plt.subplots()\n",
    "\n",
    "ax.pie(object_type['share'], labels=object_type['object_type'], autopct='%1.1f%%',\n",
    "        shadow=True)\n",
    "ax.axis('equal')  \n",
    "fig.set_size_inches(7,7)\n",
    "ax.set_title('Процентное соотношение объектов питания по типу', fontsize = '15')\n",
    "plt.show()"
   ]
  },
  {
   "cell_type": "markdown",
   "metadata": {},
   "source": [
    "**Вывод** наиболее популярный типом заведения в Москве является кафе, доля которых составляет правктически 40% от общего числа объектов питания. Также достаточно много столовых, ресторанов и предприятий быстрого питания, доля которых составляет от 12 до 17 процентов по каждому типу."
   ]
  },
  {
   "cell_type": "markdown",
   "metadata": {},
   "source": [
    "### Соотношение сетевых и несетевых объектов"
   ]
  },
  {
   "cell_type": "code",
   "execution_count": 38,
   "metadata": {},
   "outputs": [],
   "source": [
    "chain = (rest_date.pivot_table(index='chain', values='id', aggfunc='count')\n",
    "                       .reset_index(drop=False)\n",
    "                       .sort_values(by='id', ascending=False)\n",
    "                       .reset_index(drop=True)\n",
    "                       .replace({'нет' : 'несетевые', 'да' : 'сетевые'}))"
   ]
  },
  {
   "cell_type": "code",
   "execution_count": 39,
   "metadata": {},
   "outputs": [],
   "source": [
    "chain['share'] = (chain['id'] / sum(chain['id'])*100).round(1)"
   ]
  },
  {
   "cell_type": "code",
   "execution_count": 40,
   "metadata": {},
   "outputs": [
    {
     "data": {
      "text/plain": [
       "2964"
      ]
     },
     "execution_count": 40,
     "metadata": {},
     "output_type": "execute_result"
    }
   ],
   "source": [
    "rest_date[rest_date['chain'] == 'да']['id'].count()"
   ]
  },
  {
   "cell_type": "code",
   "execution_count": 41,
   "metadata": {},
   "outputs": [
    {
     "data": {
      "text/html": [
       "<div>\n",
       "<style scoped>\n",
       "    .dataframe tbody tr th:only-of-type {\n",
       "        vertical-align: middle;\n",
       "    }\n",
       "\n",
       "    .dataframe tbody tr th {\n",
       "        vertical-align: top;\n",
       "    }\n",
       "\n",
       "    .dataframe thead th {\n",
       "        text-align: right;\n",
       "    }\n",
       "</style>\n",
       "<table border=\"1\" class=\"dataframe\">\n",
       "  <thead>\n",
       "    <tr style=\"text-align: right;\">\n",
       "      <th></th>\n",
       "      <th>chain</th>\n",
       "      <th>id</th>\n",
       "      <th>share</th>\n",
       "    </tr>\n",
       "  </thead>\n",
       "  <tbody>\n",
       "    <tr>\n",
       "      <th>0</th>\n",
       "      <td>несетевые</td>\n",
       "      <td>12317</td>\n",
       "      <td>80.60</td>\n",
       "    </tr>\n",
       "    <tr>\n",
       "      <th>1</th>\n",
       "      <td>сетевые</td>\n",
       "      <td>2964</td>\n",
       "      <td>19.40</td>\n",
       "    </tr>\n",
       "  </tbody>\n",
       "</table>\n",
       "</div>"
      ],
      "text/plain": [
       "       chain     id  share\n",
       "0  несетевые  12317  80.60\n",
       "1    сетевые   2964  19.40"
      ]
     },
     "execution_count": 41,
     "metadata": {},
     "output_type": "execute_result"
    }
   ],
   "source": [
    "chain"
   ]
  },
  {
   "cell_type": "code",
   "execution_count": 42,
   "metadata": {},
   "outputs": [
    {
     "data": {
      "image/png": "[encoded data removed]",
      "text/plain": [
       "<Figure size 504x504 with 1 Axes>"
      ]
     },
     "metadata": {},
     "output_type": "display_data"
    }
   ],
   "source": [
    "fig, ax = plt.subplots()\n",
    "\n",
    "ax.pie(chain['share'], labels=chain['chain'], autopct='%1.1f%%',\n",
    "        shadow=True)\n",
    "ax.axis('equal')  \n",
    "fig.set_size_inches(7,7)\n",
    "ax.set_title('Процентное соотношение сетевых и несетевых объектов', fontsize = '15')\n",
    "plt.show()"
   ]
  },
  {
   "cell_type": "markdown",
   "metadata": {},
   "source": [
    "**Вывод** Доля сетевых заведений составляет 19,4% от общего числа объектов."
   ]
  },
  {
   "cell_type": "markdown",
   "metadata": {},
   "source": [
    "### Типы объекты, для которых характерно сетевое распределение"
   ]
  },
  {
   "cell_type": "code",
   "execution_count": 43,
   "metadata": {},
   "outputs": [],
   "source": [
    "share_chain = (rest_date.pivot_table(index=['object_type', 'chain'], values='id', aggfunc='count')\n",
    "          .unstack()\n",
    "          .reset_index(drop=False))\n",
    "share_chain.columns = ['Тип заведения', 'Количество сетевых', 'Количество несетевых']\n",
    "share_chain['Доля сетевых заведений'] =  (share_chain['Количество сетевых']/(share_chain['Количество несетевых'] + share_chain['Количество сетевых']) *100).round(1)  \n",
    "share_chain = share_chain.sort_values(by='Доля сетевых заведений', ascending=False).reset_index(drop=True)\n"
   ]
  },
  {
   "cell_type": "code",
   "execution_count": 44,
   "metadata": {},
   "outputs": [
    {
     "data": {
      "text/html": [
       "<div>\n",
       "<style scoped>\n",
       "    .dataframe tbody tr th:only-of-type {\n",
       "        vertical-align: middle;\n",
       "    }\n",
       "\n",
       "    .dataframe tbody tr th {\n",
       "        vertical-align: top;\n",
       "    }\n",
       "\n",
       "    .dataframe thead th {\n",
       "        text-align: right;\n",
       "    }\n",
       "</style>\n",
       "<table border=\"1\" class=\"dataframe\">\n",
       "  <thead>\n",
       "    <tr style=\"text-align: right;\">\n",
       "      <th></th>\n",
       "      <th>Тип заведения</th>\n",
       "      <th>Количество сетевых</th>\n",
       "      <th>Количество несетевых</th>\n",
       "      <th>Доля сетевых заведений</th>\n",
       "    </tr>\n",
       "  </thead>\n",
       "  <tbody>\n",
       "    <tr>\n",
       "      <th>0</th>\n",
       "      <td>предприятие быстрого обслуживания</td>\n",
       "      <td>788</td>\n",
       "      <td>1109</td>\n",
       "      <td>41.50</td>\n",
       "    </tr>\n",
       "    <tr>\n",
       "      <th>1</th>\n",
       "      <td>магазин (отдел кулинарии)</td>\n",
       "      <td>78</td>\n",
       "      <td>195</td>\n",
       "      <td>28.60</td>\n",
       "    </tr>\n",
       "    <tr>\n",
       "      <th>2</th>\n",
       "      <td>ресторан</td>\n",
       "      <td>543</td>\n",
       "      <td>1739</td>\n",
       "      <td>23.80</td>\n",
       "    </tr>\n",
       "    <tr>\n",
       "      <th>3</th>\n",
       "      <td>кафе</td>\n",
       "      <td>1396</td>\n",
       "      <td>4675</td>\n",
       "      <td>23.00</td>\n",
       "    </tr>\n",
       "    <tr>\n",
       "      <th>4</th>\n",
       "      <td>закусочная</td>\n",
       "      <td>56</td>\n",
       "      <td>292</td>\n",
       "      <td>16.10</td>\n",
       "    </tr>\n",
       "    <tr>\n",
       "      <th>5</th>\n",
       "      <td>кафетерий</td>\n",
       "      <td>52</td>\n",
       "      <td>343</td>\n",
       "      <td>13.20</td>\n",
       "    </tr>\n",
       "    <tr>\n",
       "      <th>6</th>\n",
       "      <td>бар</td>\n",
       "      <td>37</td>\n",
       "      <td>818</td>\n",
       "      <td>4.30</td>\n",
       "    </tr>\n",
       "    <tr>\n",
       "      <th>7</th>\n",
       "      <td>буфет</td>\n",
       "      <td>11</td>\n",
       "      <td>565</td>\n",
       "      <td>1.90</td>\n",
       "    </tr>\n",
       "    <tr>\n",
       "      <th>8</th>\n",
       "      <td>столовая</td>\n",
       "      <td>3</td>\n",
       "      <td>2581</td>\n",
       "      <td>0.10</td>\n",
       "    </tr>\n",
       "  </tbody>\n",
       "</table>\n",
       "</div>"
      ],
      "text/plain": [
       "                       Тип заведения  Количество сетевых  \\\n",
       "0  предприятие быстрого обслуживания                 788   \n",
       "1          магазин (отдел кулинарии)                  78   \n",
       "2                           ресторан                 543   \n",
       "3                               кафе                1396   \n",
       "4                         закусочная                  56   \n",
       "5                          кафетерий                  52   \n",
       "6                                бар                  37   \n",
       "7                              буфет                  11   \n",
       "8                           столовая                   3   \n",
       "\n",
       "   Количество несетевых  Доля сетевых заведений  \n",
       "0                  1109                   41.50  \n",
       "1                   195                   28.60  \n",
       "2                  1739                   23.80  \n",
       "3                  4675                   23.00  \n",
       "4                   292                   16.10  \n",
       "5                   343                   13.20  \n",
       "6                   818                    4.30  \n",
       "7                   565                    1.90  \n",
       "8                  2581                    0.10  "
      ]
     },
     "execution_count": 44,
     "metadata": {},
     "output_type": "execute_result"
    }
   ],
   "source": [
    "share_chain"
   ]
  },
  {
   "cell_type": "code",
   "execution_count": 45,
   "metadata": {},
   "outputs": [
    {
     "data": {
      "text/html": [
       "<div>\n",
       "<style scoped>\n",
       "    .dataframe tbody tr th:only-of-type {\n",
       "        vertical-align: middle;\n",
       "    }\n",
       "\n",
       "    .dataframe tbody tr th {\n",
       "        vertical-align: top;\n",
       "    }\n",
       "\n",
       "    .dataframe thead th {\n",
       "        text-align: right;\n",
       "    }\n",
       "</style>\n",
       "<table border=\"1\" class=\"dataframe\">\n",
       "  <thead>\n",
       "    <tr style=\"text-align: right;\">\n",
       "      <th></th>\n",
       "      <th>object_type</th>\n",
       "      <th>chain</th>\n",
       "      <th>id</th>\n",
       "    </tr>\n",
       "  </thead>\n",
       "  <tbody>\n",
       "    <tr>\n",
       "      <th>0</th>\n",
       "      <td>кафе</td>\n",
       "      <td>сетевые</td>\n",
       "      <td>1396</td>\n",
       "    </tr>\n",
       "    <tr>\n",
       "      <th>1</th>\n",
       "      <td>предприятие быстрого обслуживания</td>\n",
       "      <td>сетевые</td>\n",
       "      <td>788</td>\n",
       "    </tr>\n",
       "    <tr>\n",
       "      <th>2</th>\n",
       "      <td>ресторан</td>\n",
       "      <td>сетевые</td>\n",
       "      <td>543</td>\n",
       "    </tr>\n",
       "    <tr>\n",
       "      <th>3</th>\n",
       "      <td>магазин (отдел кулинарии)</td>\n",
       "      <td>сетевые</td>\n",
       "      <td>78</td>\n",
       "    </tr>\n",
       "    <tr>\n",
       "      <th>4</th>\n",
       "      <td>закусочная</td>\n",
       "      <td>сетевые</td>\n",
       "      <td>56</td>\n",
       "    </tr>\n",
       "    <tr>\n",
       "      <th>5</th>\n",
       "      <td>кафетерий</td>\n",
       "      <td>сетевые</td>\n",
       "      <td>52</td>\n",
       "    </tr>\n",
       "    <tr>\n",
       "      <th>6</th>\n",
       "      <td>бар</td>\n",
       "      <td>сетевые</td>\n",
       "      <td>37</td>\n",
       "    </tr>\n",
       "    <tr>\n",
       "      <th>7</th>\n",
       "      <td>буфет</td>\n",
       "      <td>сетевые</td>\n",
       "      <td>11</td>\n",
       "    </tr>\n",
       "    <tr>\n",
       "      <th>8</th>\n",
       "      <td>столовая</td>\n",
       "      <td>сетевые</td>\n",
       "      <td>3</td>\n",
       "    </tr>\n",
       "  </tbody>\n",
       "</table>\n",
       "</div>"
      ],
      "text/plain": [
       "                         object_type    chain    id\n",
       "0                               кафе  сетевые  1396\n",
       "1  предприятие быстрого обслуживания  сетевые   788\n",
       "2                           ресторан  сетевые   543\n",
       "3          магазин (отдел кулинарии)  сетевые    78\n",
       "4                         закусочная  сетевые    56\n",
       "5                          кафетерий  сетевые    52\n",
       "6                                бар  сетевые    37\n",
       "7                              буфет  сетевые    11\n",
       "8                           столовая  сетевые     3"
      ]
     },
     "execution_count": 45,
     "metadata": {},
     "output_type": "execute_result"
    }
   ],
   "source": [
    "(rest_date.query('chain == \"да\"')\n",
    "          .pivot_table(index=['object_type', 'chain'], values='id', aggfunc='count')\n",
    "          .reset_index(drop=False)\n",
    "          .sort_values(by=['chain', 'id'], ascending=False)\n",
    "          .reset_index(drop=True)\n",
    "          .replace({'нет' : 'несетевые', 'да' : 'сетевые'}))"
   ]
  },
  {
   "cell_type": "markdown",
   "metadata": {},
   "source": [
    "**Выводы** Ожидаемо, что наибольшее число сетевых заведений составляют кафе, предприятия быстрого обслуживания и рестораны. При этом, если рассматривать соотношения сетевых и несетевых заведений в рамках одного типа, то наибольшее преимущество сетевая форма распространения имеет среди предприятий быстрого обслуживания (41%), магазины (отделы кулинарии) (28,6%), а также рестораны и кафе, среди которых доля сетевых заведений составляет 23,8% и 23% соответствнно"
   ]
  },
  {
   "cell_type": "markdown",
   "metadata": {},
   "source": [
    "### Тренды в сетевых заведениях по количеству заведений и посадочных мест"
   ]
  },
  {
   "cell_type": "code",
   "execution_count": 46,
   "metadata": {},
   "outputs": [],
   "source": [
    "# Поскольку ранее мы выявили особенность некорректного написания сетевых заведений, \n",
    "# учтем это при формировании сводной таблицы, удалив из таблицы те заведения, которые состоят из 1 объекта,\n",
    "# поскольку 1 заведение нехарактерно для сетевого распределения.\n",
    "\n",
    "\n",
    "chain_trad = (rest_date.query('(chain == \"да\")')\n",
    "                        .pivot_table(index='object_name', values='number', aggfunc=['count', 'mean'])\n",
    "                        .reset_index(drop=False))\n",
    "chain_trad.columns = ['Название сети', 'Количество заведений', 'Среднее количество мест']\n",
    "chain_trad['Среднее количество мест'] = chain_trad['Среднее количество мест'].astype(int)\n",
    "chain_trad = chain_trad[chain_trad['Количество заведений'] > 1].sort_values(by=['Количество заведений', 'Среднее количество мест'], ascending=False).reset_index(drop=True)\n"
   ]
  },
  {
   "cell_type": "code",
   "execution_count": 47,
   "metadata": {
    "scrolled": true
   },
   "outputs": [
    {
     "data": {
      "text/html": [
       "<div>\n",
       "<style scoped>\n",
       "    .dataframe tbody tr th:only-of-type {\n",
       "        vertical-align: middle;\n",
       "    }\n",
       "\n",
       "    .dataframe tbody tr th {\n",
       "        vertical-align: top;\n",
       "    }\n",
       "\n",
       "    .dataframe thead th {\n",
       "        text-align: right;\n",
       "    }\n",
       "</style>\n",
       "<table border=\"1\" class=\"dataframe\">\n",
       "  <thead>\n",
       "    <tr style=\"text-align: right;\">\n",
       "      <th></th>\n",
       "      <th>Количество заведений</th>\n",
       "      <th>Среднее количество мест</th>\n",
       "    </tr>\n",
       "  </thead>\n",
       "  <tbody>\n",
       "    <tr>\n",
       "      <th>count</th>\n",
       "      <td>246.00</td>\n",
       "      <td>246.00</td>\n",
       "    </tr>\n",
       "    <tr>\n",
       "      <th>mean</th>\n",
       "      <td>10.70</td>\n",
       "      <td>59.10</td>\n",
       "    </tr>\n",
       "    <tr>\n",
       "      <th>std</th>\n",
       "      <td>22.64</td>\n",
       "      <td>49.56</td>\n",
       "    </tr>\n",
       "    <tr>\n",
       "      <th>min</th>\n",
       "      <td>2.00</td>\n",
       "      <td>0.00</td>\n",
       "    </tr>\n",
       "    <tr>\n",
       "      <th>50%</th>\n",
       "      <td>4.00</td>\n",
       "      <td>44.00</td>\n",
       "    </tr>\n",
       "    <tr>\n",
       "      <th>75%</th>\n",
       "      <td>7.00</td>\n",
       "      <td>85.00</td>\n",
       "    </tr>\n",
       "    <tr>\n",
       "      <th>90%</th>\n",
       "      <td>22.50</td>\n",
       "      <td>123.50</td>\n",
       "    </tr>\n",
       "    <tr>\n",
       "      <th>95%</th>\n",
       "      <td>41.75</td>\n",
       "      <td>151.75</td>\n",
       "    </tr>\n",
       "    <tr>\n",
       "      <th>max</th>\n",
       "      <td>157.00</td>\n",
       "      <td>258.00</td>\n",
       "    </tr>\n",
       "  </tbody>\n",
       "</table>\n",
       "</div>"
      ],
      "text/plain": [
       "       Количество заведений  Среднее количество мест\n",
       "count                246.00                   246.00\n",
       "mean                  10.70                    59.10\n",
       "std                   22.64                    49.56\n",
       "min                    2.00                     0.00\n",
       "50%                    4.00                    44.00\n",
       "75%                    7.00                    85.00\n",
       "90%                   22.50                   123.50\n",
       "95%                   41.75                   151.75\n",
       "max                  157.00                   258.00"
      ]
     },
     "execution_count": 47,
     "metadata": {},
     "output_type": "execute_result"
    }
   ],
   "source": [
    "chain_trad.describe(percentiles=[.75, .90, .95])"
   ]
  },
  {
   "cell_type": "code",
   "execution_count": 48,
   "metadata": {},
   "outputs": [
    {
     "data": {
      "image/png": "[encoded data removed]",
      "text/plain": [
       "<Figure size 576x576 with 3 Axes>"
      ]
     },
     "metadata": {
      "needs_background": "light"
     },
     "output_type": "display_data"
    }
   ],
   "source": [
    "sns.jointplot(x='Количество заведений', \n",
    "              y='Среднее количество мест', \n",
    "              data=chain_trad, #Скорректируем данные, с учетом того, что в датасете часто встречаются ошибочное написание названия сети\n",
    "              height=8) \n",
    "\n",
    "plt.show()"
   ]
  },
  {
   "cell_type": "markdown",
   "metadata": {},
   "source": [
    "**Выводы** Для сетевого распределения характерно небольшое количество заведений (от 4 до 7) с количеством посадочных мест от 40 до 80."
   ]
  },
  {
   "cell_type": "markdown",
   "metadata": {},
   "source": [
    "### Среднее количество посадочных мест"
   ]
  },
  {
   "cell_type": "code",
   "execution_count": 49,
   "metadata": {},
   "outputs": [],
   "source": [
    "number_chain = (rest_date.pivot_table(index='object_type', values='number', aggfunc='mean')\n",
    "                        .reset_index() \n",
    "                        .sort_values(by='number', ascending=False)\n",
    "                        .reset_index(drop=True)\n",
    "                        )\n",
    "number_chain['number'] = number_chain['number'].astype(int)\n"
   ]
  },
  {
   "cell_type": "code",
   "execution_count": 50,
   "metadata": {},
   "outputs": [
    {
     "data": {
      "text/html": [
       "<div>\n",
       "<style scoped>\n",
       "    .dataframe tbody tr th:only-of-type {\n",
       "        vertical-align: middle;\n",
       "    }\n",
       "\n",
       "    .dataframe tbody tr th {\n",
       "        vertical-align: top;\n",
       "    }\n",
       "\n",
       "    .dataframe thead th {\n",
       "        text-align: right;\n",
       "    }\n",
       "</style>\n",
       "<table border=\"1\" class=\"dataframe\">\n",
       "  <thead>\n",
       "    <tr style=\"text-align: right;\">\n",
       "      <th></th>\n",
       "      <th>object_type</th>\n",
       "      <th>number</th>\n",
       "    </tr>\n",
       "  </thead>\n",
       "  <tbody>\n",
       "    <tr>\n",
       "      <th>0</th>\n",
       "      <td>столовая</td>\n",
       "      <td>130</td>\n",
       "    </tr>\n",
       "    <tr>\n",
       "      <th>1</th>\n",
       "      <td>ресторан</td>\n",
       "      <td>96</td>\n",
       "    </tr>\n",
       "    <tr>\n",
       "      <th>2</th>\n",
       "      <td>буфет</td>\n",
       "      <td>51</td>\n",
       "    </tr>\n",
       "    <tr>\n",
       "      <th>3</th>\n",
       "      <td>бар</td>\n",
       "      <td>43</td>\n",
       "    </tr>\n",
       "    <tr>\n",
       "      <th>4</th>\n",
       "      <td>кафе</td>\n",
       "      <td>39</td>\n",
       "    </tr>\n",
       "    <tr>\n",
       "      <th>5</th>\n",
       "      <td>предприятие быстрого обслуживания</td>\n",
       "      <td>20</td>\n",
       "    </tr>\n",
       "    <tr>\n",
       "      <th>6</th>\n",
       "      <td>кафетерий</td>\n",
       "      <td>9</td>\n",
       "    </tr>\n",
       "    <tr>\n",
       "      <th>7</th>\n",
       "      <td>закусочная</td>\n",
       "      <td>7</td>\n",
       "    </tr>\n",
       "    <tr>\n",
       "      <th>8</th>\n",
       "      <td>магазин (отдел кулинарии)</td>\n",
       "      <td>5</td>\n",
       "    </tr>\n",
       "  </tbody>\n",
       "</table>\n",
       "</div>"
      ],
      "text/plain": [
       "                         object_type  number\n",
       "0                           столовая     130\n",
       "1                           ресторан      96\n",
       "2                              буфет      51\n",
       "3                                бар      43\n",
       "4                               кафе      39\n",
       "5  предприятие быстрого обслуживания      20\n",
       "6                          кафетерий       9\n",
       "7                         закусочная       7\n",
       "8          магазин (отдел кулинарии)       5"
      ]
     },
     "execution_count": 50,
     "metadata": {},
     "output_type": "execute_result"
    }
   ],
   "source": [
    "number_chain"
   ]
  },
  {
   "cell_type": "code",
   "execution_count": 51,
   "metadata": {},
   "outputs": [
    {
     "data": {
      "image/png": "[encoded data removed]",
      "text/plain": [
       "<Figure size 1440x720 with 1 Axes>"
      ]
     },
     "metadata": {
      "needs_background": "light"
     },
     "output_type": "display_data"
    }
   ],
   "source": [
    "fig, axes = plt.subplots()\n",
    "ax = sns.barplot(data=number_chain, y='object_type', x='number')\n",
    "ax.set_xlabel('Количество посадочных мест', fontsize = '20')\n",
    "ax.set_ylabel('Тип объекта', fontsize = '20')\n",
    "ax.set_title('Среднее количество посадочных мест по типам объектов', fontsize = '20')\n",
    "\n",
    "for i in ax.patches:\n",
    "    plt.text(i.get_width()+0.5, i.get_y()+0.5,\n",
    "             str(round((i.get_width()))),\n",
    "             fontsize = 15, \n",
    "             color ='black')\n",
    "    \n",
    "fig.set_figwidth(20)    \n",
    "fig.set_figheight(10)  "
   ]
  },
  {
   "cell_type": "markdown",
   "metadata": {},
   "source": [
    "**Вывод** Лидерами по среднему показателю количества посадочных мест являются столовые (130), рестораны (96) и буфеты (51)"
   ]
  },
  {
   "cell_type": "markdown",
   "metadata": {},
   "source": [
    "### Улицы, на которых находятся объекты"
   ]
  },
  {
   "cell_type": "code",
   "execution_count": 52,
   "metadata": {},
   "outputs": [],
   "source": [
    "#Создадим столбец улицы, скопировав его из столбца адрес и очистив эти данные от информации не связанной с улицей\n",
    "\n",
    "rest_date['street'] = rest_date['address']\n",
    "\n",
    "rest_date['street'] = (rest_date['street']\n",
    "                       .str\n",
    "                       .replace(r'город Москва, ',''))\n",
    " \n",
    "\n",
    "(rest_date.loc[rest_date['street']\n",
    "         .str.contains('город '), 'street']) = (rest_date.loc[rest_date['street']\n",
    "                                                        .str\n",
    "                                                        .contains('город '), 'street']\n",
    "                                                        .str.split(', ')\n",
    "                                                        .str[1])\n",
    " \n",
    "\n",
    "(rest_date.loc[(rest_date['street']\n",
    "        .str\n",
    "        .contains('посёлок')) & \n",
    "        (rest_date['street']\n",
    "        .str.contains('поселение')), 'street']) = (\n",
    "                                                  rest_date.loc[(rest_date['street']\n",
    "                                                  .str\n",
    "                                                  .contains('посёлок')) & \n",
    "                                                  (rest_date['street']\n",
    "                                                  .str.contains('поселение')), 'street']\n",
    "                                                  .str\n",
    "                                                  .split(', ')\n",
    "                                                  .str[2]\n",
    ")\n",
    "\n",
    "(rest_date.loc[rest_date['street']\n",
    "         .str\n",
    "         .contains('поселение|посёлок'), 'street']) = (\n",
    "                                                       rest_date\n",
    "                                                       .loc[rest_date['street']\n",
    "                                                       .str\n",
    "                                                       .contains('поселение|посёлок'), 'street']\n",
    "                                                       .str\n",
    "                                                       .split(', ')\n",
    "                                                       .str[1]\n",
    ") \n",
    "\n",
    "rest_date['street'] = rest_date['street'].str.split(', ').str[0]"
   ]
  },
  {
   "cell_type": "code",
   "execution_count": 74,
   "metadata": {},
   "outputs": [
    {
     "data": {
      "text/html": [
       "<div>\n",
       "<style scoped>\n",
       "    .dataframe tbody tr th:only-of-type {\n",
       "        vertical-align: middle;\n",
       "    }\n",
       "\n",
       "    .dataframe tbody tr th {\n",
       "        vertical-align: top;\n",
       "    }\n",
       "\n",
       "    .dataframe thead th {\n",
       "        text-align: right;\n",
       "    }\n",
       "</style>\n",
       "<table border=\"1\" class=\"dataframe\">\n",
       "  <thead>\n",
       "    <tr style=\"text-align: right;\">\n",
       "      <th></th>\n",
       "      <th>id</th>\n",
       "      <th>object_name</th>\n",
       "      <th>chain</th>\n",
       "      <th>object_type</th>\n",
       "      <th>address</th>\n",
       "      <th>number</th>\n",
       "      <th>street</th>\n",
       "    </tr>\n",
       "  </thead>\n",
       "  <tbody>\n",
       "    <tr>\n",
       "      <th>0</th>\n",
       "      <td>151635</td>\n",
       "      <td>сметана</td>\n",
       "      <td>нет</td>\n",
       "      <td>кафе</td>\n",
       "      <td>город Москва, улица Егора Абакумова, дом 9</td>\n",
       "      <td>48</td>\n",
       "      <td>улица Егора Абакумова</td>\n",
       "    </tr>\n",
       "    <tr>\n",
       "      <th>1</th>\n",
       "      <td>77874</td>\n",
       "      <td>родник</td>\n",
       "      <td>нет</td>\n",
       "      <td>кафе</td>\n",
       "      <td>город Москва, улица Талалихина, дом 2/1, корпус 1</td>\n",
       "      <td>35</td>\n",
       "      <td>улица Талалихина</td>\n",
       "    </tr>\n",
       "    <tr>\n",
       "      <th>2</th>\n",
       "      <td>24309</td>\n",
       "      <td>кафе «академия»</td>\n",
       "      <td>нет</td>\n",
       "      <td>кафе</td>\n",
       "      <td>город Москва, Абельмановская улица, дом 6</td>\n",
       "      <td>95</td>\n",
       "      <td>Абельмановская улица</td>\n",
       "    </tr>\n",
       "    <tr>\n",
       "      <th>3</th>\n",
       "      <td>21894</td>\n",
       "      <td>пиццетория</td>\n",
       "      <td>да</td>\n",
       "      <td>кафе</td>\n",
       "      <td>город Москва, Абрамцевская улица, дом 1</td>\n",
       "      <td>40</td>\n",
       "      <td>Абрамцевская улица</td>\n",
       "    </tr>\n",
       "    <tr>\n",
       "      <th>4</th>\n",
       "      <td>119365</td>\n",
       "      <td>кафе «вишневая метель»</td>\n",
       "      <td>нет</td>\n",
       "      <td>кафе</td>\n",
       "      <td>город Москва, Абрамцевская улица, дом 9, корпус 1</td>\n",
       "      <td>50</td>\n",
       "      <td>Абрамцевская улица</td>\n",
       "    </tr>\n",
       "  </tbody>\n",
       "</table>\n",
       "</div>"
      ],
      "text/plain": [
       "       id             object_name chain object_type  \\\n",
       "0  151635                 сметана   нет        кафе   \n",
       "1   77874                  родник   нет        кафе   \n",
       "2   24309         кафе «академия»   нет        кафе   \n",
       "3   21894              пиццетория    да        кафе   \n",
       "4  119365  кафе «вишневая метель»   нет        кафе   \n",
       "\n",
       "                                             address  number  \\\n",
       "0         город Москва, улица Егора Абакумова, дом 9      48   \n",
       "1  город Москва, улица Талалихина, дом 2/1, корпус 1      35   \n",
       "2          город Москва, Абельмановская улица, дом 6      95   \n",
       "3            город Москва, Абрамцевская улица, дом 1      40   \n",
       "4  город Москва, Абрамцевская улица, дом 9, корпус 1      50   \n",
       "\n",
       "                  street  \n",
       "0  улица Егора Абакумова  \n",
       "1       улица Талалихина  \n",
       "2   Абельмановская улица  \n",
       "3     Абрамцевская улица  \n",
       "4     Абрамцевская улица  "
      ]
     },
     "execution_count": 74,
     "metadata": {},
     "output_type": "execute_result"
    }
   ],
   "source": [
    "rest_date.head()"
   ]
  },
  {
   "cell_type": "markdown",
   "metadata": {},
   "source": [
    "**Вывод** Был создан столбец с улицами"
   ]
  },
  {
   "cell_type": "markdown",
   "metadata": {},
   "source": [
    "### Топ 10 улиц, на которых находится больше всего объектов"
   ]
  },
  {
   "cell_type": "code",
   "execution_count": 54,
   "metadata": {},
   "outputs": [],
   "source": [
    "top_street = (rest_date.pivot_table(index='street', values='id', aggfunc='count')\n",
    "                      .reset_index() \n",
    "                      .sort_values(by='id', ascending=False)\n",
    "                      .reset_index(drop=True)\n",
    "                      .head(10))"
   ]
  },
  {
   "cell_type": "code",
   "execution_count": 55,
   "metadata": {},
   "outputs": [
    {
     "data": {
      "text/html": [
       "<div>\n",
       "<style scoped>\n",
       "    .dataframe tbody tr th:only-of-type {\n",
       "        vertical-align: middle;\n",
       "    }\n",
       "\n",
       "    .dataframe tbody tr th {\n",
       "        vertical-align: top;\n",
       "    }\n",
       "\n",
       "    .dataframe thead th {\n",
       "        text-align: right;\n",
       "    }\n",
       "</style>\n",
       "<table border=\"1\" class=\"dataframe\">\n",
       "  <thead>\n",
       "    <tr style=\"text-align: right;\">\n",
       "      <th></th>\n",
       "      <th>street</th>\n",
       "      <th>id</th>\n",
       "    </tr>\n",
       "  </thead>\n",
       "  <tbody>\n",
       "    <tr>\n",
       "      <th>0</th>\n",
       "      <td>проспект Мира</td>\n",
       "      <td>203</td>\n",
       "    </tr>\n",
       "    <tr>\n",
       "      <th>1</th>\n",
       "      <td>Профсоюзная улица</td>\n",
       "      <td>182</td>\n",
       "    </tr>\n",
       "    <tr>\n",
       "      <th>2</th>\n",
       "      <td>Ленинградский проспект</td>\n",
       "      <td>172</td>\n",
       "    </tr>\n",
       "    <tr>\n",
       "      <th>3</th>\n",
       "      <td>Пресненская набережная</td>\n",
       "      <td>167</td>\n",
       "    </tr>\n",
       "    <tr>\n",
       "      <th>4</th>\n",
       "      <td>Варшавское шоссе</td>\n",
       "      <td>165</td>\n",
       "    </tr>\n",
       "    <tr>\n",
       "      <th>5</th>\n",
       "      <td>Ленинский проспект</td>\n",
       "      <td>148</td>\n",
       "    </tr>\n",
       "    <tr>\n",
       "      <th>6</th>\n",
       "      <td>проспект Вернадского</td>\n",
       "      <td>128</td>\n",
       "    </tr>\n",
       "    <tr>\n",
       "      <th>7</th>\n",
       "      <td>Кутузовский проспект</td>\n",
       "      <td>114</td>\n",
       "    </tr>\n",
       "    <tr>\n",
       "      <th>8</th>\n",
       "      <td>Каширское шоссе</td>\n",
       "      <td>111</td>\n",
       "    </tr>\n",
       "    <tr>\n",
       "      <th>9</th>\n",
       "      <td>Кировоградская улица</td>\n",
       "      <td>108</td>\n",
       "    </tr>\n",
       "  </tbody>\n",
       "</table>\n",
       "</div>"
      ],
      "text/plain": [
       "                   street   id\n",
       "0           проспект Мира  203\n",
       "1       Профсоюзная улица  182\n",
       "2  Ленинградский проспект  172\n",
       "3  Пресненская набережная  167\n",
       "4        Варшавское шоссе  165\n",
       "5      Ленинский проспект  148\n",
       "6    проспект Вернадского  128\n",
       "7    Кутузовский проспект  114\n",
       "8         Каширское шоссе  111\n",
       "9    Кировоградская улица  108"
      ]
     },
     "execution_count": 55,
     "metadata": {},
     "output_type": "execute_result"
    }
   ],
   "source": [
    "top_street"
   ]
  },
  {
   "cell_type": "code",
   "execution_count": 56,
   "metadata": {
    "scrolled": false
   },
   "outputs": [
    {
     "data": {
      "image/png": "[encoded data removed]",
      "text/plain": [
       "<Figure size 1440x720 with 1 Axes>"
      ]
     },
     "metadata": {
      "needs_background": "light"
     },
     "output_type": "display_data"
    }
   ],
   "source": [
    "fig, axes = plt.subplots()\n",
    "ax = sns.barplot(data=top_street, y='street', x='id')\n",
    "ax.set_xlabel('Количество объектов', fontsize = '20')\n",
    "ax.set_ylabel('Название улиц', fontsize = '20')\n",
    "ax.set_title('Топ 10 улиц Москвы по количеству заведений', fontsize = '20')\n",
    "\n",
    "for i in ax.patches:\n",
    "    plt.text(i.get_width()+0.5, i.get_y()+0.5,\n",
    "             str(round((i.get_width()))),\n",
    "             fontsize = 15, \n",
    "             color ='black')\n",
    "    \n",
    "fig.set_figwidth(20)    \n",
    "fig.set_figheight(10)  "
   ]
  },
  {
   "cell_type": "code",
   "execution_count": 73,
   "metadata": {},
   "outputs": [
    {
     "data": {
      "text/html": [
       "<div>\n",
       "<style scoped>\n",
       "    .dataframe tbody tr th:only-of-type {\n",
       "        vertical-align: middle;\n",
       "    }\n",
       "\n",
       "    .dataframe tbody tr th {\n",
       "        vertical-align: top;\n",
       "    }\n",
       "\n",
       "    .dataframe thead th {\n",
       "        text-align: right;\n",
       "    }\n",
       "</style>\n",
       "<table border=\"1\" class=\"dataframe\">\n",
       "  <thead>\n",
       "    <tr style=\"text-align: right;\">\n",
       "      <th></th>\n",
       "      <th>street</th>\n",
       "      <th>area</th>\n",
       "    </tr>\n",
       "  </thead>\n",
       "  <tbody>\n",
       "    <tr>\n",
       "      <th>0</th>\n",
       "      <td>Выставочный переулок</td>\n",
       "      <td>Пресненский район</td>\n",
       "    </tr>\n",
       "    <tr>\n",
       "      <th>1</th>\n",
       "      <td>улица Гашека</td>\n",
       "      <td>Пресненский район</td>\n",
       "    </tr>\n",
       "    <tr>\n",
       "      <th>2</th>\n",
       "      <td>Большая Никитская улица</td>\n",
       "      <td>Пресненский район</td>\n",
       "    </tr>\n",
       "    <tr>\n",
       "      <th>3</th>\n",
       "      <td>Глубокий переулок</td>\n",
       "      <td>Пресненский район</td>\n",
       "    </tr>\n",
       "    <tr>\n",
       "      <th>4</th>\n",
       "      <td>Большой Гнездниковский переулок</td>\n",
       "      <td>Пресненский район</td>\n",
       "    </tr>\n",
       "  </tbody>\n",
       "</table>\n",
       "</div>"
      ],
      "text/plain": [
       "                            street               area\n",
       "0             Выставочный переулок  Пресненский район\n",
       "1                     улица Гашека  Пресненский район\n",
       "2          Большая Никитская улица  Пресненский район\n",
       "3                Глубокий переулок  Пресненский район\n",
       "4  Большой Гнездниковский переулок  Пресненский район"
      ]
     },
     "execution_count": 73,
     "metadata": {},
     "output_type": "execute_result"
    }
   ],
   "source": [
    "from io import BytesIO\n",
    "import requests\n",
    "spreadsheet_id = '17kKYCMYXOew5ZeXr6CeIv0uQZIjadtXgDIvt8L-y0c8'\n",
    "file_name = 'https://docs.google.com/spreadsheets/d/{}/export?format=csv'.format(spreadsheet_id)\n",
    "r = requests.get(file_name)\n",
    "disrict_msk = pd.read_csv(BytesIO(r.content))\n",
    "disrict_msk\n",
    "disrict_msk = disrict_msk.drop(columns=['Unnamed: 4', 'areaid', 'okrug'])\n",
    "disrict_msk.columns = ['street', 'area']\n",
    "disrict_msk.head()"
   ]
  },
  {
   "cell_type": "code",
   "execution_count": 58,
   "metadata": {},
   "outputs": [],
   "source": [
    "top_street_district = top_street.merge(disrict_msk, on='street', how='left')"
   ]
  },
  {
   "cell_type": "code",
   "execution_count": 59,
   "metadata": {},
   "outputs": [
    {
     "data": {
      "text/html": [
       "<div>\n",
       "<style scoped>\n",
       "    .dataframe tbody tr th:only-of-type {\n",
       "        vertical-align: middle;\n",
       "    }\n",
       "\n",
       "    .dataframe tbody tr th {\n",
       "        vertical-align: top;\n",
       "    }\n",
       "\n",
       "    .dataframe thead th {\n",
       "        text-align: right;\n",
       "    }\n",
       "</style>\n",
       "<table border=\"1\" class=\"dataframe\">\n",
       "  <thead>\n",
       "    <tr style=\"text-align: right;\">\n",
       "      <th></th>\n",
       "      <th>street</th>\n",
       "      <th>id</th>\n",
       "      <th>area</th>\n",
       "    </tr>\n",
       "  </thead>\n",
       "  <tbody>\n",
       "    <tr>\n",
       "      <th>0</th>\n",
       "      <td>проспект Мира</td>\n",
       "      <td>203</td>\n",
       "      <td>Алексеевский район</td>\n",
       "    </tr>\n",
       "    <tr>\n",
       "      <th>1</th>\n",
       "      <td>проспект Мира</td>\n",
       "      <td>203</td>\n",
       "      <td>Ярославский Район</td>\n",
       "    </tr>\n",
       "    <tr>\n",
       "      <th>2</th>\n",
       "      <td>проспект Мира</td>\n",
       "      <td>203</td>\n",
       "      <td>Район Марьина роща</td>\n",
       "    </tr>\n",
       "    <tr>\n",
       "      <th>3</th>\n",
       "      <td>проспект Мира</td>\n",
       "      <td>203</td>\n",
       "      <td>Останкинский район</td>\n",
       "    </tr>\n",
       "    <tr>\n",
       "      <th>4</th>\n",
       "      <td>проспект Мира</td>\n",
       "      <td>203</td>\n",
       "      <td>Район Ростокино</td>\n",
       "    </tr>\n",
       "  </tbody>\n",
       "</table>\n",
       "</div>"
      ],
      "text/plain": [
       "          street   id                area\n",
       "0  проспект Мира  203  Алексеевский район\n",
       "1  проспект Мира  203   Ярославский Район\n",
       "2  проспект Мира  203  Район Марьина роща\n",
       "3  проспект Мира  203  Останкинский район\n",
       "4  проспект Мира  203     Район Ростокино"
      ]
     },
     "execution_count": 59,
     "metadata": {},
     "output_type": "execute_result"
    }
   ],
   "source": [
    "top_street_district.head()"
   ]
  },
  {
   "cell_type": "markdown",
   "metadata": {},
   "source": [
    "**Выводы** В разделе был определен топ 10 улиц Москвы по количеству объектов, а также определены районы Москвы, по которым проходят эти улицы."
   ]
  },
  {
   "cell_type": "markdown",
   "metadata": {},
   "source": [
    "### Улицы, на которых находится меньше всего объектов"
   ]
  },
  {
   "cell_type": "code",
   "execution_count": 60,
   "metadata": {},
   "outputs": [],
   "source": [
    "min_object_street = (rest_date.pivot_table(index='street', values='id', aggfunc='count')\n",
    "                      .reset_index() \n",
    "                      .sort_values(by='id')\n",
    "                      .reset_index(drop=True)\n",
    "                      .query('id == 1'))"
   ]
  },
  {
   "cell_type": "code",
   "execution_count": 72,
   "metadata": {},
   "outputs": [
    {
     "data": {
      "text/html": [
       "<div>\n",
       "<style scoped>\n",
       "    .dataframe tbody tr th:only-of-type {\n",
       "        vertical-align: middle;\n",
       "    }\n",
       "\n",
       "    .dataframe tbody tr th {\n",
       "        vertical-align: top;\n",
       "    }\n",
       "\n",
       "    .dataframe thead th {\n",
       "        text-align: right;\n",
       "    }\n",
       "</style>\n",
       "<table border=\"1\" class=\"dataframe\">\n",
       "  <thead>\n",
       "    <tr style=\"text-align: right;\">\n",
       "      <th></th>\n",
       "      <th>street</th>\n",
       "      <th>id</th>\n",
       "    </tr>\n",
       "  </thead>\n",
       "  <tbody>\n",
       "    <tr>\n",
       "      <th>0</th>\n",
       "      <td>улица Кошкина</td>\n",
       "      <td>1</td>\n",
       "    </tr>\n",
       "    <tr>\n",
       "      <th>1</th>\n",
       "      <td>Таганрогская улица</td>\n",
       "      <td>1</td>\n",
       "    </tr>\n",
       "    <tr>\n",
       "      <th>2</th>\n",
       "      <td>улица Академика Павлова</td>\n",
       "      <td>1</td>\n",
       "    </tr>\n",
       "    <tr>\n",
       "      <th>3</th>\n",
       "      <td>улица Академика Петровского</td>\n",
       "      <td>1</td>\n",
       "    </tr>\n",
       "    <tr>\n",
       "      <th>4</th>\n",
       "      <td>Сумская улица</td>\n",
       "      <td>1</td>\n",
       "    </tr>\n",
       "  </tbody>\n",
       "</table>\n",
       "</div>"
      ],
      "text/plain": [
       "                        street  id\n",
       "0                улица Кошкина   1\n",
       "1           Таганрогская улица   1\n",
       "2      улица Академика Павлова   1\n",
       "3  улица Академика Петровского   1\n",
       "4                Сумская улица   1"
      ]
     },
     "execution_count": 72,
     "metadata": {},
     "output_type": "execute_result"
    }
   ],
   "source": [
    "min_object_street.head()"
   ]
  },
  {
   "cell_type": "code",
   "execution_count": 62,
   "metadata": {},
   "outputs": [],
   "source": [
    "# Учтем, что у нас могут быть улицы, которые не учтены в административно-территориальном делении Москвы.\n",
    "min_object_street_district = min_object_street.merge(disrict_msk, on='street', how='left').dropna().reset_index(drop=True)"
   ]
  },
  {
   "cell_type": "code",
   "execution_count": 71,
   "metadata": {},
   "outputs": [
    {
     "data": {
      "text/html": [
       "<div>\n",
       "<style scoped>\n",
       "    .dataframe tbody tr th:only-of-type {\n",
       "        vertical-align: middle;\n",
       "    }\n",
       "\n",
       "    .dataframe tbody tr th {\n",
       "        vertical-align: top;\n",
       "    }\n",
       "\n",
       "    .dataframe thead th {\n",
       "        text-align: right;\n",
       "    }\n",
       "</style>\n",
       "<table border=\"1\" class=\"dataframe\">\n",
       "  <thead>\n",
       "    <tr style=\"text-align: right;\">\n",
       "      <th></th>\n",
       "      <th>street</th>\n",
       "      <th>id</th>\n",
       "      <th>area</th>\n",
       "    </tr>\n",
       "  </thead>\n",
       "  <tbody>\n",
       "    <tr>\n",
       "      <th>0</th>\n",
       "      <td>улица Кошкина</td>\n",
       "      <td>1</td>\n",
       "      <td>Район Москворечье-Сабурово</td>\n",
       "    </tr>\n",
       "    <tr>\n",
       "      <th>1</th>\n",
       "      <td>Таганрогская улица</td>\n",
       "      <td>1</td>\n",
       "      <td>Район Люблино</td>\n",
       "    </tr>\n",
       "    <tr>\n",
       "      <th>2</th>\n",
       "      <td>улица Академика Павлова</td>\n",
       "      <td>1</td>\n",
       "      <td>Район Кунцево</td>\n",
       "    </tr>\n",
       "    <tr>\n",
       "      <th>3</th>\n",
       "      <td>улица Академика Петровского</td>\n",
       "      <td>1</td>\n",
       "      <td>Донской район</td>\n",
       "    </tr>\n",
       "    <tr>\n",
       "      <th>4</th>\n",
       "      <td>улица Академика Петровского</td>\n",
       "      <td>1</td>\n",
       "      <td>Район Якиманка</td>\n",
       "    </tr>\n",
       "  </tbody>\n",
       "</table>\n",
       "</div>"
      ],
      "text/plain": [
       "                        street  id                        area\n",
       "0                улица Кошкина   1  Район Москворечье-Сабурово\n",
       "1           Таганрогская улица   1               Район Люблино\n",
       "2      улица Академика Павлова   1               Район Кунцево\n",
       "3  улица Академика Петровского   1               Донской район\n",
       "4  улица Академика Петровского   1              Район Якиманка"
      ]
     },
     "execution_count": 71,
     "metadata": {},
     "output_type": "execute_result"
    }
   ],
   "source": [
    "min_object_street_district.head()"
   ]
  },
  {
   "cell_type": "markdown",
   "metadata": {},
   "source": [
    "**Выводы** В разделе был определен перечень улиц с всего одним объектом, а также районы города Москвы, где проходят эти улицы"
   ]
  },
  {
   "cell_type": "code",
   "execution_count": 70,
   "metadata": {},
   "outputs": [
    {
     "data": {
      "text/html": [
       "<div>\n",
       "<style scoped>\n",
       "    .dataframe tbody tr th:only-of-type {\n",
       "        vertical-align: middle;\n",
       "    }\n",
       "\n",
       "    .dataframe tbody tr th {\n",
       "        vertical-align: top;\n",
       "    }\n",
       "\n",
       "    .dataframe thead th {\n",
       "        text-align: right;\n",
       "    }\n",
       "</style>\n",
       "<table border=\"1\" class=\"dataframe\">\n",
       "  <thead>\n",
       "    <tr style=\"text-align: right;\">\n",
       "      <th></th>\n",
       "      <th>street</th>\n",
       "      <th>id</th>\n",
       "      <th>area</th>\n",
       "    </tr>\n",
       "  </thead>\n",
       "  <tbody>\n",
       "    <tr>\n",
       "      <th>67</th>\n",
       "      <td>улица Недорубова</td>\n",
       "      <td>1</td>\n",
       "      <td>NaN</td>\n",
       "    </tr>\n",
       "    <tr>\n",
       "      <th>93</th>\n",
       "      <td>улица Никитина</td>\n",
       "      <td>1</td>\n",
       "      <td>NaN</td>\n",
       "    </tr>\n",
       "    <tr>\n",
       "      <th>117</th>\n",
       "      <td>село Былово</td>\n",
       "      <td>1</td>\n",
       "      <td>NaN</td>\n",
       "    </tr>\n",
       "    <tr>\n",
       "      <th>127</th>\n",
       "      <td>село Остафьево</td>\n",
       "      <td>1</td>\n",
       "      <td>NaN</td>\n",
       "    </tr>\n",
       "    <tr>\n",
       "      <th>146</th>\n",
       "      <td>проектируемый проезд № 1980</td>\n",
       "      <td>1</td>\n",
       "      <td>NaN</td>\n",
       "    </tr>\n",
       "  </tbody>\n",
       "</table>\n",
       "</div>"
      ],
      "text/plain": [
       "                          street  id area\n",
       "67              улица Недорубова   1  NaN\n",
       "93                улица Никитина   1  NaN\n",
       "117                  село Былово   1  NaN\n",
       "127               село Остафьево   1  NaN\n",
       "146  проектируемый проезд № 1980   1  NaN"
      ]
     },
     "execution_count": 70,
     "metadata": {},
     "output_type": "execute_result"
    }
   ],
   "source": [
    "min_object_street_district_1 = min_object_street.merge(disrict_msk, on='street', how='left')\n",
    "min_object_street_district_1[min_object_street_district_1['area'].isna()].head()"
   ]
  },
  {
   "cell_type": "markdown",
   "metadata": {},
   "source": [
    "### Распределение посадочных мест на топ улицах"
   ]
  },
  {
   "cell_type": "code",
   "execution_count": 65,
   "metadata": {},
   "outputs": [],
   "source": [
    "top_street_list = list(top_street['street'])"
   ]
  },
  {
   "cell_type": "code",
   "execution_count": 69,
   "metadata": {},
   "outputs": [
    {
     "data": {
      "text/html": [
       "<div>\n",
       "<style scoped>\n",
       "    .dataframe tbody tr th:only-of-type {\n",
       "        vertical-align: middle;\n",
       "    }\n",
       "\n",
       "    .dataframe tbody tr th {\n",
       "        vertical-align: top;\n",
       "    }\n",
       "\n",
       "    .dataframe thead th {\n",
       "        text-align: right;\n",
       "    }\n",
       "</style>\n",
       "<table border=\"1\" class=\"dataframe\">\n",
       "  <thead>\n",
       "    <tr style=\"text-align: right;\">\n",
       "      <th></th>\n",
       "      <th>id</th>\n",
       "      <th>object_name</th>\n",
       "      <th>chain</th>\n",
       "      <th>object_type</th>\n",
       "      <th>address</th>\n",
       "      <th>number</th>\n",
       "      <th>street</th>\n",
       "    </tr>\n",
       "  </thead>\n",
       "  <tbody>\n",
       "    <tr>\n",
       "      <th>151</th>\n",
       "      <td>155973</td>\n",
       "      <td>кафе «андерсон»</td>\n",
       "      <td>да</td>\n",
       "      <td>кафе</td>\n",
       "      <td>город Москва, Варшавское шоссе, дом 2</td>\n",
       "      <td>150</td>\n",
       "      <td>Варшавское шоссе</td>\n",
       "    </tr>\n",
       "    <tr>\n",
       "      <th>152</th>\n",
       "      <td>23618</td>\n",
       "      <td>кафе «subway»</td>\n",
       "      <td>да</td>\n",
       "      <td>кафе</td>\n",
       "      <td>город Москва, Варшавское шоссе, дом 7, корпус 1</td>\n",
       "      <td>36</td>\n",
       "      <td>Варшавское шоссе</td>\n",
       "    </tr>\n",
       "    <tr>\n",
       "      <th>153</th>\n",
       "      <td>155852</td>\n",
       "      <td>кафе «ламаджо»</td>\n",
       "      <td>нет</td>\n",
       "      <td>кафе</td>\n",
       "      <td>город Москва, Варшавское шоссе, дом 29</td>\n",
       "      <td>30</td>\n",
       "      <td>Варшавское шоссе</td>\n",
       "    </tr>\n",
       "    <tr>\n",
       "      <th>154</th>\n",
       "      <td>152556</td>\n",
       "      <td>шаурма в пите</td>\n",
       "      <td>нет</td>\n",
       "      <td>предприятие быстрого обслуживания</td>\n",
       "      <td>город Москва, Варшавское шоссе, дом 72, корпус 2</td>\n",
       "      <td>0</td>\n",
       "      <td>Варшавское шоссе</td>\n",
       "    </tr>\n",
       "    <tr>\n",
       "      <th>155</th>\n",
       "      <td>120658</td>\n",
       "      <td>выпечка</td>\n",
       "      <td>нет</td>\n",
       "      <td>кафетерий</td>\n",
       "      <td>город Москва, Варшавское шоссе, дом 100</td>\n",
       "      <td>2</td>\n",
       "      <td>Варшавское шоссе</td>\n",
       "    </tr>\n",
       "  </tbody>\n",
       "</table>\n",
       "</div>"
      ],
      "text/plain": [
       "         id      object_name chain                        object_type  \\\n",
       "151  155973  кафе «андерсон»    да                               кафе   \n",
       "152   23618    кафе «subway»    да                               кафе   \n",
       "153  155852   кафе «ламаджо»   нет                               кафе   \n",
       "154  152556    шаурма в пите   нет  предприятие быстрого обслуживания   \n",
       "155  120658          выпечка   нет                          кафетерий   \n",
       "\n",
       "                                              address  number  \\\n",
       "151             город Москва, Варшавское шоссе, дом 2     150   \n",
       "152   город Москва, Варшавское шоссе, дом 7, корпус 1      36   \n",
       "153            город Москва, Варшавское шоссе, дом 29      30   \n",
       "154  город Москва, Варшавское шоссе, дом 72, корпус 2       0   \n",
       "155           город Москва, Варшавское шоссе, дом 100       2   \n",
       "\n",
       "               street  \n",
       "151  Варшавское шоссе  \n",
       "152  Варшавское шоссе  \n",
       "153  Варшавское шоссе  \n",
       "154  Варшавское шоссе  \n",
       "155  Варшавское шоссе  "
      ]
     },
     "execution_count": 69,
     "metadata": {},
     "output_type": "execute_result"
    }
   ],
   "source": [
    "rest_date.query('street in @top_street_list').head()"
   ]
  },
  {
   "cell_type": "code",
   "execution_count": 67,
   "metadata": {
    "scrolled": false
   },
   "outputs": [
    {
     "data": {
      "image/png": "[encoded data removed]",
      "text/plain": [
       "<Figure size 1440x720 with 1 Axes>"
      ]
     },
     "metadata": {
      "needs_background": "light"
     },
     "output_type": "display_data"
    }
   ],
   "source": [
    "fig, axes = plt.subplots()\n",
    "ax = sns.histplot(rest_date.query('street in @top_street_list')['number'], bins=300)\n",
    "ax.set_xlabel('Число посадочных мест', fontsize = '20')\n",
    "ax.set_ylabel('Количество заведений', fontsize = '20')\n",
    "ax.set_title('Распределение заведений по количеству посадочных мест', fontsize = '20')    \n",
    "fig.set_figwidth(20)    \n",
    "fig.set_figheight(10)  "
   ]
  },
  {
   "cell_type": "code",
   "execution_count": 68,
   "metadata": {},
   "outputs": [
    {
     "data": {
      "image/png": "[encoded data removed]",
      "text/plain": [
       "<Figure size 1440x720 with 1 Axes>"
      ]
     },
     "metadata": {
      "needs_background": "light"
     },
     "output_type": "display_data"
    }
   ],
   "source": [
    "fig, axes = plt.subplots()\n",
    "ax = sns.histplot(rest_date.query('(street in @top_street_list) and (number > 0) and (number < 123)')['number'], bins=80)\n",
    "ax.set_xlabel('Число посадочных мест', fontsize = '20')\n",
    "ax.set_ylabel('Количество заведений', fontsize = '20')\n",
    "ax.set_title('Распределение заведений по количеству посадочных мест', fontsize = '20')    \n",
    "fig.set_figwidth(20)    \n",
    "fig.set_figheight(10)  "
   ]
  },
  {
   "cell_type": "markdown",
   "metadata": {},
   "source": [
    "**Вывод** \n",
    "- В целом мы видим, что распределение заведений близко к распределение Пуассона, за счет большого количества объектов без посадочных мест, с небольшими промежуточными всплесками, что говорит о том, что мы имеем обратно пропорциональную зависимость между количеством заведений и посадочных мест в них.\n",
    "- Если рассматривать заведения с количеством посадочных мест более 0 и менее 123 (ранее мы установили, что это значение среднего количества посадочных мест, в пределах которых находится 90% объектов датасета), то мы видимо характерные пики по количеству заведений, число посадочных мест в которых кратно 10, больше всего объектов, где 20 и 40 посадочных мест."
   ]
  },
  {
   "cell_type": "markdown",
   "metadata": {},
   "source": [
    "### Общие выводы и рекомендации по 2 этапу"
   ]
  },
  {
   "cell_type": "markdown",
   "metadata": {},
   "source": [
    "#### Выводы"
   ]
  },
  {
   "cell_type": "markdown",
   "metadata": {},
   "source": [
    "- Около 40% объектов общественного питания города Москвы составляют кафе.\n",
    "- Доля сетевых объектов общественного питания составляет менее 20% от общего числа.\n",
    "- Наиболее часто вариант сетевого распределения бизнеса выбирают владельцы предприятий быстрого питания, кулинарии в рамках крупных продовольственных магазинов, кафе и рестораны.\n",
    "- Сетевое распределение бизнеса характеризует небольшое количество заведений (от 4 до 8) с количеством посадочных мест в диапазоне от 40 до 80.\n",
    "- Наибольшее среднее количество посадочных мест имеют столовые (130 мест) и рестораны (91 место), для буфетов баров и кафе характерно значение в 40-50 посадочных мест\n",
    "- на топ 10 улиц города Москвы находятся объекты общественного питания в количестве от 100 до 200 на каждой улице\n",
    "- мы отмечаем большое количество улиц, на которых находится всего по 1 объекту общественного питания."
   ]
  },
  {
   "cell_type": "markdown",
   "metadata": {},
   "source": [
    "#### Рекомендации"
   ]
  },
  {
   "cell_type": "markdown",
   "metadata": {},
   "source": [
    "Исходя только из количественных показателей (на мой взгляд финансовых показателей в данном проекте не хватает для более релевантных рекомендаций), учитывая заданный в проекте wow-factor, можно порекомендовать следующее:\n",
    "- рынок Москвы перенасыщен кафе, но учитывая специфику предлагаемого концепта подразумевает то, что новое кафе необходимо открывать в наиболее оживленных районах города, на что может указывать большое количество существующих объектов.\n",
    "- Количество посадочных мест не должно превышать 50, поскольку подразумевается, что целевая аудитория этого кафе будет достаточно состоятельна, поэтому открывать заведение с бОльшим количеством посадочных мест нецелесообразно.\n",
    "- Возможность и целесообразность развития сети данных кафе станет понятна после определенного тестового периода пилотного проекта, стоимость создания которого достаточно велика, а экономическая эффективность неочевидна."
   ]
  }
 ],
 "metadata": {
  "ExecuteTimeLog": [
   {
    "duration": 380,
    "start_time": "2022-05-09T20:41:06.434Z"
   },
   {
    "duration": 56,
    "start_time": "2022-05-09T21:13:13.415Z"
   },
   {
    "duration": 18,
    "start_time": "2022-05-09T21:13:23.139Z"
   },
   {
    "duration": 18,
    "start_time": "2022-05-09T21:14:27.386Z"
   },
   {
    "duration": 61,
    "start_time": "2022-05-09T21:15:35.228Z"
   },
   {
    "duration": 8,
    "start_time": "2022-05-09T21:15:43.673Z"
   },
   {
    "duration": 26,
    "start_time": "2022-05-09T21:17:45.986Z"
   },
   {
    "duration": 6,
    "start_time": "2022-05-09T21:18:28.081Z"
   },
   {
    "duration": 9,
    "start_time": "2022-05-09T21:18:52.571Z"
   },
   {
    "duration": 6,
    "start_time": "2022-05-09T21:20:19.580Z"
   },
   {
    "duration": 17,
    "start_time": "2022-05-09T21:20:25.179Z"
   },
   {
    "duration": 26,
    "start_time": "2022-05-09T21:20:40.327Z"
   },
   {
    "duration": 16,
    "start_time": "2022-05-09T21:20:54.327Z"
   },
   {
    "duration": 9,
    "start_time": "2022-05-09T21:21:43.380Z"
   },
   {
    "duration": 109,
    "start_time": "2022-05-09T21:22:45.957Z"
   },
   {
    "duration": 11,
    "start_time": "2022-05-09T21:23:00.394Z"
   },
   {
    "duration": 11,
    "start_time": "2022-05-09T21:23:13.921Z"
   },
   {
    "duration": 8,
    "start_time": "2022-05-09T21:23:33.792Z"
   },
   {
    "duration": 12,
    "start_time": "2022-05-09T21:23:48.175Z"
   },
   {
    "duration": 9,
    "start_time": "2022-05-09T21:24:34.397Z"
   },
   {
    "duration": 1808,
    "start_time": "2022-05-09T21:25:05.479Z"
   },
   {
    "duration": 14,
    "start_time": "2022-05-09T21:25:13.102Z"
   },
   {
    "duration": 12,
    "start_time": "2022-05-09T21:25:53.093Z"
   },
   {
    "duration": 25,
    "start_time": "2022-05-09T21:26:11.938Z"
   },
   {
    "duration": 23,
    "start_time": "2022-05-09T21:27:03.433Z"
   },
   {
    "duration": 23,
    "start_time": "2022-05-09T21:27:27.810Z"
   },
   {
    "duration": 10,
    "start_time": "2022-05-09T21:30:32.869Z"
   },
   {
    "duration": 3,
    "start_time": "2022-05-10T09:43:29.263Z"
   },
   {
    "duration": 20,
    "start_time": "2022-05-10T09:43:44.955Z"
   },
   {
    "duration": 3,
    "start_time": "2022-05-10T09:44:42.311Z"
   },
   {
    "duration": 32,
    "start_time": "2022-05-10T09:44:43.439Z"
   },
   {
    "duration": 8,
    "start_time": "2022-05-10T09:55:46.368Z"
   },
   {
    "duration": 10,
    "start_time": "2022-05-10T09:55:53.668Z"
   },
   {
    "duration": 11,
    "start_time": "2022-05-10T09:56:12.222Z"
   },
   {
    "duration": 9,
    "start_time": "2022-05-10T09:56:24.424Z"
   },
   {
    "duration": 15,
    "start_time": "2022-05-10T09:56:29.567Z"
   },
   {
    "duration": 15,
    "start_time": "2022-05-10T09:56:37.423Z"
   },
   {
    "duration": 13,
    "start_time": "2022-05-10T09:57:23.194Z"
   },
   {
    "duration": 13,
    "start_time": "2022-05-10T09:57:30.040Z"
   },
   {
    "duration": 15,
    "start_time": "2022-05-10T09:57:37.809Z"
   },
   {
    "duration": 15,
    "start_time": "2022-05-10T09:57:50.425Z"
   },
   {
    "duration": 8,
    "start_time": "2022-05-10T10:04:52.890Z"
   },
   {
    "duration": 8,
    "start_time": "2022-05-10T10:05:02.762Z"
   },
   {
    "duration": 16,
    "start_time": "2022-05-10T10:05:23.781Z"
   },
   {
    "duration": 20,
    "start_time": "2022-05-10T10:05:41.438Z"
   },
   {
    "duration": 3,
    "start_time": "2022-05-10T10:10:34.253Z"
   },
   {
    "duration": 42,
    "start_time": "2022-05-10T10:10:36.540Z"
   },
   {
    "duration": 4,
    "start_time": "2022-05-10T10:12:18.691Z"
   },
   {
    "duration": 38,
    "start_time": "2022-05-10T10:12:20.894Z"
   },
   {
    "duration": 4,
    "start_time": "2022-05-10T10:12:55.027Z"
   },
   {
    "duration": 52,
    "start_time": "2022-05-10T10:12:57.270Z"
   },
   {
    "duration": 3,
    "start_time": "2022-05-10T10:26:15.590Z"
   },
   {
    "duration": 102,
    "start_time": "2022-05-10T10:27:46.332Z"
   },
   {
    "duration": 32,
    "start_time": "2022-05-10T10:27:47.550Z"
   },
   {
    "duration": 3,
    "start_time": "2022-05-10T10:28:14.665Z"
   },
   {
    "duration": 52,
    "start_time": "2022-05-10T10:28:17.336Z"
   },
   {
    "duration": 4,
    "start_time": "2022-05-10T10:29:00.898Z"
   },
   {
    "duration": 4,
    "start_time": "2022-05-10T10:29:53.046Z"
   },
   {
    "duration": 8,
    "start_time": "2022-05-10T10:34:51.406Z"
   },
   {
    "duration": 9,
    "start_time": "2022-05-10T10:35:03.444Z"
   },
   {
    "duration": 8,
    "start_time": "2022-05-10T10:35:09.218Z"
   },
   {
    "duration": 9,
    "start_time": "2022-05-10T10:35:19.347Z"
   },
   {
    "duration": 9,
    "start_time": "2022-05-10T10:35:43.824Z"
   },
   {
    "duration": 9,
    "start_time": "2022-05-10T10:52:54.715Z"
   },
   {
    "duration": 3,
    "start_time": "2022-05-10T10:53:22.497Z"
   },
   {
    "duration": 3,
    "start_time": "2022-05-10T10:53:26.058Z"
   },
   {
    "duration": 65,
    "start_time": "2022-05-10T10:53:26.063Z"
   },
   {
    "duration": 4,
    "start_time": "2022-05-10T10:53:26.130Z"
   },
   {
    "duration": 65,
    "start_time": "2022-05-10T10:53:26.135Z"
   },
   {
    "duration": 8,
    "start_time": "2022-05-10T10:53:26.202Z"
   },
   {
    "duration": 7,
    "start_time": "2022-05-10T10:53:46.510Z"
   },
   {
    "duration": 5,
    "start_time": "2022-05-10T10:55:15.641Z"
   },
   {
    "duration": 6,
    "start_time": "2022-05-10T10:55:29.489Z"
   },
   {
    "duration": 6,
    "start_time": "2022-05-10T12:10:23.210Z"
   },
   {
    "duration": 13,
    "start_time": "2022-05-10T15:35:57.469Z"
   },
   {
    "duration": 5,
    "start_time": "2022-05-10T15:36:11.979Z"
   },
   {
    "duration": 15,
    "start_time": "2022-05-10T15:40:17.289Z"
   },
   {
    "duration": 11,
    "start_time": "2022-05-10T15:41:02.042Z"
   },
   {
    "duration": 19,
    "start_time": "2022-05-10T15:41:12.356Z"
   },
   {
    "duration": 9,
    "start_time": "2022-05-10T15:42:03.851Z"
   },
   {
    "duration": 9,
    "start_time": "2022-05-10T15:42:25.266Z"
   },
   {
    "duration": 12,
    "start_time": "2022-05-10T15:43:27.305Z"
   },
   {
    "duration": 9,
    "start_time": "2022-05-10T15:43:30.481Z"
   },
   {
    "duration": 10,
    "start_time": "2022-05-10T15:43:40.451Z"
   },
   {
    "duration": 10,
    "start_time": "2022-05-10T15:47:14.998Z"
   },
   {
    "duration": 13,
    "start_time": "2022-05-10T15:47:17.448Z"
   },
   {
    "duration": 2,
    "start_time": "2022-05-10T15:47:44.761Z"
   },
   {
    "duration": 80,
    "start_time": "2022-05-10T15:47:44.765Z"
   },
   {
    "duration": 3,
    "start_time": "2022-05-10T15:47:44.846Z"
   },
   {
    "duration": 58,
    "start_time": "2022-05-10T15:47:44.851Z"
   },
   {
    "duration": 5,
    "start_time": "2022-05-10T15:47:44.911Z"
   },
   {
    "duration": 7,
    "start_time": "2022-05-10T15:47:44.917Z"
   },
   {
    "duration": 10,
    "start_time": "2022-05-10T15:47:44.925Z"
   },
   {
    "duration": 36,
    "start_time": "2022-05-10T15:47:44.937Z"
   },
   {
    "duration": 9,
    "start_time": "2022-05-10T15:48:25.434Z"
   },
   {
    "duration": 11,
    "start_time": "2022-05-10T17:16:31.469Z"
   },
   {
    "duration": 11,
    "start_time": "2022-05-10T17:16:44.528Z"
   },
   {
    "duration": 9,
    "start_time": "2022-05-10T17:16:59.208Z"
   },
   {
    "duration": 9,
    "start_time": "2022-05-10T17:17:08.663Z"
   },
   {
    "duration": 9,
    "start_time": "2022-05-10T17:17:22.861Z"
   },
   {
    "duration": 9,
    "start_time": "2022-05-10T17:17:55.601Z"
   },
   {
    "duration": 10,
    "start_time": "2022-05-10T17:18:02.729Z"
   },
   {
    "duration": 9,
    "start_time": "2022-05-10T17:18:52.616Z"
   },
   {
    "duration": 9,
    "start_time": "2022-05-10T17:19:06.661Z"
   },
   {
    "duration": 9,
    "start_time": "2022-05-10T17:21:59.521Z"
   },
   {
    "duration": 4,
    "start_time": "2022-05-10T17:27:39.547Z"
   },
   {
    "duration": 6,
    "start_time": "2022-05-10T17:27:54.389Z"
   },
   {
    "duration": 2,
    "start_time": "2022-05-10T17:30:18.368Z"
   },
   {
    "duration": 55,
    "start_time": "2022-05-10T17:30:18.372Z"
   },
   {
    "duration": 3,
    "start_time": "2022-05-10T17:30:18.429Z"
   },
   {
    "duration": 52,
    "start_time": "2022-05-10T17:30:18.434Z"
   },
   {
    "duration": 4,
    "start_time": "2022-05-10T17:30:18.489Z"
   },
   {
    "duration": 7,
    "start_time": "2022-05-10T17:30:18.495Z"
   },
   {
    "duration": 8,
    "start_time": "2022-05-10T17:30:18.503Z"
   },
   {
    "duration": 10,
    "start_time": "2022-05-10T17:30:18.513Z"
   },
   {
    "duration": 10,
    "start_time": "2022-05-10T17:30:18.525Z"
   },
   {
    "duration": 5,
    "start_time": "2022-05-10T17:30:54.483Z"
   },
   {
    "duration": 6,
    "start_time": "2022-05-10T17:31:03.272Z"
   },
   {
    "duration": 9,
    "start_time": "2022-05-10T17:32:18.110Z"
   },
   {
    "duration": 11,
    "start_time": "2022-05-10T17:32:42.738Z"
   },
   {
    "duration": 10,
    "start_time": "2022-05-10T18:38:57.529Z"
   },
   {
    "duration": 30,
    "start_time": "2022-05-10T18:47:50.034Z"
   },
   {
    "duration": 7,
    "start_time": "2022-05-10T19:05:25.090Z"
   },
   {
    "duration": 18,
    "start_time": "2022-05-10T19:08:12.667Z"
   },
   {
    "duration": 36,
    "start_time": "2022-05-11T06:44:56.771Z"
   },
   {
    "duration": 4,
    "start_time": "2022-05-11T06:45:44.301Z"
   },
   {
    "duration": 3,
    "start_time": "2022-05-11T06:46:03.227Z"
   },
   {
    "duration": 54,
    "start_time": "2022-05-11T06:46:03.292Z"
   },
   {
    "duration": 4,
    "start_time": "2022-05-11T06:46:03.348Z"
   },
   {
    "duration": 66,
    "start_time": "2022-05-11T06:46:03.354Z"
   },
   {
    "duration": 6,
    "start_time": "2022-05-11T06:46:03.422Z"
   },
   {
    "duration": 6,
    "start_time": "2022-05-11T06:46:03.431Z"
   },
   {
    "duration": 9,
    "start_time": "2022-05-11T06:46:03.439Z"
   },
   {
    "duration": 19,
    "start_time": "2022-05-11T06:46:03.474Z"
   },
   {
    "duration": 30,
    "start_time": "2022-05-11T06:46:03.495Z"
   },
   {
    "duration": 5,
    "start_time": "2022-05-11T06:46:03.526Z"
   },
   {
    "duration": 13,
    "start_time": "2022-05-11T06:46:03.532Z"
   },
   {
    "duration": 32,
    "start_time": "2022-05-11T06:46:03.546Z"
   },
   {
    "duration": 24,
    "start_time": "2022-05-11T06:46:03.581Z"
   },
   {
    "duration": 7,
    "start_time": "2022-05-11T06:46:03.607Z"
   },
   {
    "duration": 14,
    "start_time": "2022-05-11T06:46:03.616Z"
   },
   {
    "duration": 13,
    "start_time": "2022-05-11T06:48:49.239Z"
   },
   {
    "duration": 11,
    "start_time": "2022-05-11T06:49:42.768Z"
   },
   {
    "duration": 19,
    "start_time": "2022-05-11T06:49:48.334Z"
   },
   {
    "duration": 26,
    "start_time": "2022-05-11T06:49:57.086Z"
   },
   {
    "duration": 26,
    "start_time": "2022-05-11T06:50:13.051Z"
   },
   {
    "duration": 16,
    "start_time": "2022-05-11T06:51:26.741Z"
   },
   {
    "duration": 14,
    "start_time": "2022-05-11T06:53:45.119Z"
   },
   {
    "duration": 13,
    "start_time": "2022-05-11T06:53:46.684Z"
   },
   {
    "duration": 14,
    "start_time": "2022-05-11T06:54:17.835Z"
   },
   {
    "duration": 4,
    "start_time": "2022-05-11T06:55:26.948Z"
   },
   {
    "duration": 62,
    "start_time": "2022-05-11T06:55:26.955Z"
   },
   {
    "duration": 4,
    "start_time": "2022-05-11T06:55:27.019Z"
   },
   {
    "duration": 74,
    "start_time": "2022-05-11T06:55:27.025Z"
   },
   {
    "duration": 5,
    "start_time": "2022-05-11T06:55:27.101Z"
   },
   {
    "duration": 8,
    "start_time": "2022-05-11T06:55:27.107Z"
   },
   {
    "duration": 8,
    "start_time": "2022-05-11T06:55:27.117Z"
   },
   {
    "duration": 46,
    "start_time": "2022-05-11T06:55:27.127Z"
   },
   {
    "duration": 34,
    "start_time": "2022-05-11T06:55:27.176Z"
   },
   {
    "duration": 13,
    "start_time": "2022-05-11T06:55:27.212Z"
   },
   {
    "duration": 16,
    "start_time": "2022-05-11T06:55:27.227Z"
   },
   {
    "duration": 37,
    "start_time": "2022-05-11T06:55:27.246Z"
   },
   {
    "duration": 11,
    "start_time": "2022-05-11T06:55:27.284Z"
   },
   {
    "duration": 20,
    "start_time": "2022-05-11T06:55:27.298Z"
   },
   {
    "duration": 7,
    "start_time": "2022-05-11T06:55:27.320Z"
   },
   {
    "duration": 60,
    "start_time": "2022-05-11T06:55:27.330Z"
   },
   {
    "duration": 17,
    "start_time": "2022-05-11T06:56:12.136Z"
   },
   {
    "duration": 10,
    "start_time": "2022-05-11T06:56:26.479Z"
   },
   {
    "duration": 9,
    "start_time": "2022-05-11T06:56:33.435Z"
   },
   {
    "duration": 3,
    "start_time": "2022-05-11T06:56:44.948Z"
   },
   {
    "duration": 58,
    "start_time": "2022-05-11T06:56:44.953Z"
   },
   {
    "duration": 4,
    "start_time": "2022-05-11T06:56:45.013Z"
   },
   {
    "duration": 80,
    "start_time": "2022-05-11T06:56:45.019Z"
   },
   {
    "duration": 6,
    "start_time": "2022-05-11T06:56:45.101Z"
   },
   {
    "duration": 10,
    "start_time": "2022-05-11T06:56:45.108Z"
   },
   {
    "duration": 11,
    "start_time": "2022-05-11T06:56:45.120Z"
   },
   {
    "duration": 43,
    "start_time": "2022-05-11T06:56:45.132Z"
   },
   {
    "duration": 33,
    "start_time": "2022-05-11T06:56:45.177Z"
   },
   {
    "duration": 11,
    "start_time": "2022-05-11T06:56:45.213Z"
   },
   {
    "duration": 10,
    "start_time": "2022-05-11T06:56:45.227Z"
   },
   {
    "duration": 0,
    "start_time": "2022-05-11T06:56:45.239Z"
   },
   {
    "duration": 0,
    "start_time": "2022-05-11T06:56:45.241Z"
   },
   {
    "duration": 0,
    "start_time": "2022-05-11T06:56:45.242Z"
   },
   {
    "duration": 0,
    "start_time": "2022-05-11T06:56:45.273Z"
   },
   {
    "duration": 0,
    "start_time": "2022-05-11T06:56:45.275Z"
   },
   {
    "duration": 0,
    "start_time": "2022-05-11T06:56:45.277Z"
   },
   {
    "duration": 11,
    "start_time": "2022-05-11T06:57:55.641Z"
   },
   {
    "duration": 5,
    "start_time": "2022-05-11T06:58:00.108Z"
   },
   {
    "duration": 23,
    "start_time": "2022-05-11T06:58:01.635Z"
   },
   {
    "duration": 3,
    "start_time": "2022-05-11T06:58:19.913Z"
   },
   {
    "duration": 63,
    "start_time": "2022-05-11T06:58:19.919Z"
   },
   {
    "duration": 4,
    "start_time": "2022-05-11T06:58:19.984Z"
   },
   {
    "duration": 59,
    "start_time": "2022-05-11T06:58:19.990Z"
   },
   {
    "duration": 5,
    "start_time": "2022-05-11T06:58:20.074Z"
   },
   {
    "duration": 9,
    "start_time": "2022-05-11T06:58:20.081Z"
   },
   {
    "duration": 9,
    "start_time": "2022-05-11T06:58:20.092Z"
   },
   {
    "duration": 13,
    "start_time": "2022-05-11T06:58:20.103Z"
   },
   {
    "duration": 61,
    "start_time": "2022-05-11T06:58:20.118Z"
   },
   {
    "duration": 9,
    "start_time": "2022-05-11T06:58:20.181Z"
   },
   {
    "duration": 7,
    "start_time": "2022-05-11T06:58:20.192Z"
   },
   {
    "duration": 18,
    "start_time": "2022-05-11T06:58:20.201Z"
   },
   {
    "duration": 13,
    "start_time": "2022-05-11T06:58:20.221Z"
   },
   {
    "duration": 43,
    "start_time": "2022-05-11T06:58:20.237Z"
   },
   {
    "duration": 29,
    "start_time": "2022-05-11T06:58:20.282Z"
   },
   {
    "duration": 7,
    "start_time": "2022-05-11T06:58:20.313Z"
   },
   {
    "duration": 14,
    "start_time": "2022-05-11T06:58:20.322Z"
   },
   {
    "duration": 13,
    "start_time": "2022-05-11T10:04:37.542Z"
   },
   {
    "duration": 8,
    "start_time": "2022-05-11T10:04:49.054Z"
   },
   {
    "duration": 11,
    "start_time": "2022-05-11T10:07:10.019Z"
   },
   {
    "duration": 12,
    "start_time": "2022-05-11T10:07:29.503Z"
   },
   {
    "duration": 15,
    "start_time": "2022-05-11T10:07:41.568Z"
   },
   {
    "duration": 3,
    "start_time": "2022-05-11T10:07:57.426Z"
   },
   {
    "duration": 69,
    "start_time": "2022-05-11T10:07:57.431Z"
   },
   {
    "duration": 5,
    "start_time": "2022-05-11T10:07:57.504Z"
   },
   {
    "duration": 98,
    "start_time": "2022-05-11T10:07:57.510Z"
   },
   {
    "duration": 17,
    "start_time": "2022-05-11T10:07:57.611Z"
   },
   {
    "duration": 50,
    "start_time": "2022-05-11T10:07:57.630Z"
   },
   {
    "duration": 38,
    "start_time": "2022-05-11T10:07:57.684Z"
   },
   {
    "duration": 11,
    "start_time": "2022-05-11T10:07:57.723Z"
   },
   {
    "duration": 24,
    "start_time": "2022-05-11T10:07:57.736Z"
   },
   {
    "duration": 8,
    "start_time": "2022-05-11T10:07:57.762Z"
   },
   {
    "duration": 44,
    "start_time": "2022-05-11T10:07:57.772Z"
   },
   {
    "duration": 22,
    "start_time": "2022-05-11T10:07:57.819Z"
   },
   {
    "duration": 13,
    "start_time": "2022-05-11T10:07:57.843Z"
   },
   {
    "duration": 12,
    "start_time": "2022-05-11T10:07:57.859Z"
   },
   {
    "duration": 42,
    "start_time": "2022-05-11T10:07:57.873Z"
   },
   {
    "duration": 19,
    "start_time": "2022-05-11T10:07:57.917Z"
   },
   {
    "duration": 8,
    "start_time": "2022-05-11T10:07:57.938Z"
   },
   {
    "duration": 13,
    "start_time": "2022-05-11T10:07:57.948Z"
   },
   {
    "duration": 15,
    "start_time": "2022-05-11T10:09:09.141Z"
   },
   {
    "duration": 28,
    "start_time": "2022-05-11T10:09:29.795Z"
   },
   {
    "duration": 11,
    "start_time": "2022-05-11T11:27:54.539Z"
   },
   {
    "duration": 11,
    "start_time": "2022-05-11T11:28:49.080Z"
   },
   {
    "duration": 11,
    "start_time": "2022-05-11T11:28:57.459Z"
   },
   {
    "duration": 4,
    "start_time": "2022-05-11T11:37:10.135Z"
   },
   {
    "duration": 7,
    "start_time": "2022-05-11T11:37:24.427Z"
   },
   {
    "duration": 6,
    "start_time": "2022-05-11T11:38:20.478Z"
   },
   {
    "duration": 6,
    "start_time": "2022-05-11T11:38:33.039Z"
   },
   {
    "duration": 5,
    "start_time": "2022-05-11T11:38:57.537Z"
   },
   {
    "duration": 7,
    "start_time": "2022-05-11T11:38:59.108Z"
   },
   {
    "duration": 3,
    "start_time": "2022-05-11T11:39:05.028Z"
   },
   {
    "duration": 95,
    "start_time": "2022-05-11T11:39:05.035Z"
   },
   {
    "duration": 5,
    "start_time": "2022-05-11T11:39:05.133Z"
   },
   {
    "duration": 111,
    "start_time": "2022-05-11T11:39:05.140Z"
   },
   {
    "duration": 21,
    "start_time": "2022-05-11T11:39:05.255Z"
   },
   {
    "duration": 12,
    "start_time": "2022-05-11T11:39:05.278Z"
   },
   {
    "duration": 19,
    "start_time": "2022-05-11T11:39:05.293Z"
   },
   {
    "duration": 27,
    "start_time": "2022-05-11T11:39:05.314Z"
   },
   {
    "duration": 63,
    "start_time": "2022-05-11T11:39:05.344Z"
   },
   {
    "duration": 15,
    "start_time": "2022-05-11T11:39:05.410Z"
   },
   {
    "duration": 15,
    "start_time": "2022-05-11T11:39:05.427Z"
   },
   {
    "duration": 35,
    "start_time": "2022-05-11T11:39:05.444Z"
   },
   {
    "duration": 15,
    "start_time": "2022-05-11T11:39:05.483Z"
   },
   {
    "duration": 15,
    "start_time": "2022-05-11T11:39:05.503Z"
   },
   {
    "duration": 13,
    "start_time": "2022-05-11T11:39:05.520Z"
   },
   {
    "duration": 56,
    "start_time": "2022-05-11T11:39:05.535Z"
   },
   {
    "duration": 29,
    "start_time": "2022-05-11T11:39:05.593Z"
   },
   {
    "duration": 14,
    "start_time": "2022-05-11T11:39:05.625Z"
   },
   {
    "duration": 53,
    "start_time": "2022-05-11T11:39:05.642Z"
   },
   {
    "duration": 5,
    "start_time": "2022-05-11T11:39:05.698Z"
   },
   {
    "duration": 16,
    "start_time": "2022-05-11T11:39:05.705Z"
   },
   {
    "duration": 15,
    "start_time": "2022-05-11T11:39:05.723Z"
   },
   {
    "duration": 21,
    "start_time": "2022-05-11T11:39:05.741Z"
   },
   {
    "duration": 29,
    "start_time": "2022-05-11T11:39:05.765Z"
   },
   {
    "duration": 12,
    "start_time": "2022-05-11T11:39:51.446Z"
   },
   {
    "duration": 29,
    "start_time": "2022-05-11T11:54:07.562Z"
   },
   {
    "duration": 4,
    "start_time": "2022-05-11T11:54:15.495Z"
   },
   {
    "duration": 21,
    "start_time": "2022-05-11T11:54:16.698Z"
   },
   {
    "duration": 7,
    "start_time": "2022-05-11T12:42:13.662Z"
   },
   {
    "duration": 19,
    "start_time": "2022-05-11T12:42:57.456Z"
   },
   {
    "duration": 8,
    "start_time": "2022-05-11T12:43:04.962Z"
   },
   {
    "duration": 15,
    "start_time": "2022-05-11T12:49:39.225Z"
   },
   {
    "duration": 22,
    "start_time": "2022-05-11T12:50:21.110Z"
   },
   {
    "duration": 24,
    "start_time": "2022-05-11T12:51:26.636Z"
   },
   {
    "duration": 6,
    "start_time": "2022-05-11T15:08:37.173Z"
   },
   {
    "duration": 7,
    "start_time": "2022-05-11T15:08:42.761Z"
   },
   {
    "duration": 7,
    "start_time": "2022-05-11T15:09:14.545Z"
   },
   {
    "duration": 7,
    "start_time": "2022-05-11T15:10:26.700Z"
   },
   {
    "duration": 6,
    "start_time": "2022-05-11T15:13:08.957Z"
   },
   {
    "duration": 72,
    "start_time": "2022-05-11T15:13:08.965Z"
   },
   {
    "duration": 4,
    "start_time": "2022-05-11T15:13:09.039Z"
   },
   {
    "duration": 69,
    "start_time": "2022-05-11T15:13:09.045Z"
   },
   {
    "duration": 5,
    "start_time": "2022-05-11T15:13:09.117Z"
   },
   {
    "duration": 38,
    "start_time": "2022-05-11T15:13:09.123Z"
   },
   {
    "duration": 6,
    "start_time": "2022-05-11T15:13:09.172Z"
   },
   {
    "duration": 11,
    "start_time": "2022-05-11T15:13:09.180Z"
   },
   {
    "duration": 11,
    "start_time": "2022-05-11T15:13:09.193Z"
   },
   {
    "duration": 13,
    "start_time": "2022-05-11T15:13:09.205Z"
   },
   {
    "duration": 45,
    "start_time": "2022-05-11T15:13:09.220Z"
   },
   {
    "duration": 12,
    "start_time": "2022-05-11T15:13:09.267Z"
   },
   {
    "duration": 18,
    "start_time": "2022-05-11T15:13:09.281Z"
   },
   {
    "duration": 12,
    "start_time": "2022-05-11T15:13:09.301Z"
   },
   {
    "duration": 13,
    "start_time": "2022-05-11T15:13:09.315Z"
   },
   {
    "duration": 8,
    "start_time": "2022-05-11T15:13:09.330Z"
   },
   {
    "duration": 36,
    "start_time": "2022-05-11T15:13:09.340Z"
   },
   {
    "duration": 18,
    "start_time": "2022-05-11T15:13:09.377Z"
   },
   {
    "duration": 9,
    "start_time": "2022-05-11T15:13:09.397Z"
   },
   {
    "duration": 7,
    "start_time": "2022-05-11T15:13:09.407Z"
   },
   {
    "duration": 14,
    "start_time": "2022-05-11T15:13:09.416Z"
   },
   {
    "duration": 19,
    "start_time": "2022-05-11T15:14:10.561Z"
   },
   {
    "duration": 13,
    "start_time": "2022-05-11T15:27:07.408Z"
   },
   {
    "duration": 14,
    "start_time": "2022-05-11T15:28:19.784Z"
   },
   {
    "duration": 17,
    "start_time": "2022-05-12T18:26:44.511Z"
   },
   {
    "duration": 7,
    "start_time": "2022-05-12T18:26:54.126Z"
   },
   {
    "duration": 9,
    "start_time": "2022-05-12T18:27:05.028Z"
   },
   {
    "duration": 7,
    "start_time": "2022-05-12T18:27:06.284Z"
   },
   {
    "duration": 42,
    "start_time": "2022-05-12T18:27:29.275Z"
   },
   {
    "duration": 18,
    "start_time": "2022-05-12T18:28:03.421Z"
   },
   {
    "duration": 12,
    "start_time": "2022-05-12T18:28:04.926Z"
   },
   {
    "duration": 15,
    "start_time": "2022-05-12T18:28:20.677Z"
   },
   {
    "duration": 8,
    "start_time": "2022-05-12T18:28:22.775Z"
   },
   {
    "duration": 14,
    "start_time": "2022-05-12T18:28:32.624Z"
   },
   {
    "duration": 9,
    "start_time": "2022-05-12T18:28:34.314Z"
   },
   {
    "duration": 12,
    "start_time": "2022-05-12T18:30:02.009Z"
   },
   {
    "duration": 7,
    "start_time": "2022-05-12T18:30:03.479Z"
   },
   {
    "duration": 15,
    "start_time": "2022-05-12T18:30:38.236Z"
   },
   {
    "duration": 10,
    "start_time": "2022-05-12T18:31:43.433Z"
   },
   {
    "duration": 7,
    "start_time": "2022-05-12T18:31:44.649Z"
   },
   {
    "duration": 5,
    "start_time": "2022-05-12T18:45:17.628Z"
   },
   {
    "duration": 9,
    "start_time": "2022-05-12T18:45:18.572Z"
   },
   {
    "duration": 8,
    "start_time": "2022-05-12T18:45:36.819Z"
   },
   {
    "duration": 9,
    "start_time": "2022-05-12T18:45:37.629Z"
   },
   {
    "duration": 6,
    "start_time": "2022-05-12T18:46:29.890Z"
   },
   {
    "duration": 8,
    "start_time": "2022-05-12T18:46:30.677Z"
   },
   {
    "duration": 1270,
    "start_time": "2022-05-12T18:52:45.128Z"
   },
   {
    "duration": 54,
    "start_time": "2022-05-12T18:53:49.832Z"
   },
   {
    "duration": 19,
    "start_time": "2022-05-12T18:54:00.366Z"
   },
   {
    "duration": 224,
    "start_time": "2022-05-12T18:54:09.532Z"
   },
   {
    "duration": 496,
    "start_time": "2022-05-12T19:00:15.770Z"
   },
   {
    "duration": 153,
    "start_time": "2022-05-12T19:03:10.908Z"
   },
   {
    "duration": 504,
    "start_time": "2022-05-12T19:04:59.678Z"
   },
   {
    "duration": 73,
    "start_time": "2022-05-12T19:05:17.223Z"
   },
   {
    "duration": 205,
    "start_time": "2022-05-12T19:11:42.227Z"
   },
   {
    "duration": 105,
    "start_time": "2022-05-12T19:13:12.649Z"
   },
   {
    "duration": 5,
    "start_time": "2022-05-12T19:13:19.456Z"
   },
   {
    "duration": 120,
    "start_time": "2022-05-12T19:13:19.465Z"
   },
   {
    "duration": 4,
    "start_time": "2022-05-12T19:13:19.589Z"
   },
   {
    "duration": 149,
    "start_time": "2022-05-12T19:13:19.597Z"
   },
   {
    "duration": 7,
    "start_time": "2022-05-12T19:13:19.753Z"
   },
   {
    "duration": 83,
    "start_time": "2022-05-12T19:13:19.762Z"
   },
   {
    "duration": 30,
    "start_time": "2022-05-12T19:13:19.847Z"
   },
   {
    "duration": 80,
    "start_time": "2022-05-12T19:13:19.880Z"
   },
   {
    "duration": 41,
    "start_time": "2022-05-12T19:13:19.963Z"
   },
   {
    "duration": 92,
    "start_time": "2022-05-12T19:13:20.008Z"
   },
   {
    "duration": 100,
    "start_time": "2022-05-12T19:13:20.105Z"
   },
   {
    "duration": 8,
    "start_time": "2022-05-12T19:13:20.211Z"
   },
   {
    "duration": 54,
    "start_time": "2022-05-12T19:13:20.221Z"
   },
   {
    "duration": 15,
    "start_time": "2022-05-12T19:13:20.278Z"
   },
   {
    "duration": 49,
    "start_time": "2022-05-12T19:13:20.294Z"
   },
   {
    "duration": 23,
    "start_time": "2022-05-12T19:13:20.345Z"
   },
   {
    "duration": 16,
    "start_time": "2022-05-12T19:13:20.370Z"
   },
   {
    "duration": 82,
    "start_time": "2022-05-12T19:13:20.387Z"
   },
   {
    "duration": 51,
    "start_time": "2022-05-12T19:13:20.472Z"
   },
   {
    "duration": 36,
    "start_time": "2022-05-12T19:13:20.526Z"
   },
   {
    "duration": 22,
    "start_time": "2022-05-12T19:13:20.564Z"
   },
   {
    "duration": 79,
    "start_time": "2022-05-12T19:13:20.588Z"
   },
   {
    "duration": 8,
    "start_time": "2022-05-12T19:13:20.669Z"
   },
   {
    "duration": 63,
    "start_time": "2022-05-12T19:13:20.679Z"
   },
   {
    "duration": 241,
    "start_time": "2022-05-12T19:13:20.744Z"
   },
   {
    "duration": 92,
    "start_time": "2022-05-12T19:13:20.987Z"
   },
   {
    "duration": 8,
    "start_time": "2022-05-12T19:36:29.606Z"
   },
   {
    "duration": 279,
    "start_time": "2022-05-12T19:38:54.907Z"
   },
   {
    "duration": 346,
    "start_time": "2022-05-12T19:39:10.015Z"
   },
   {
    "duration": 352,
    "start_time": "2022-05-12T19:39:32.357Z"
   },
   {
    "duration": 524,
    "start_time": "2022-05-12T19:39:43.380Z"
   },
   {
    "duration": 557,
    "start_time": "2022-05-12T19:39:58.542Z"
   },
   {
    "duration": 361,
    "start_time": "2022-05-12T19:40:48.135Z"
   },
   {
    "duration": 403,
    "start_time": "2022-05-12T19:41:27.534Z"
   },
   {
    "duration": 72,
    "start_time": "2022-05-13T10:26:00.304Z"
   },
   {
    "duration": 1881,
    "start_time": "2022-05-13T10:26:05.899Z"
   },
   {
    "duration": 72,
    "start_time": "2022-05-13T10:26:07.783Z"
   },
   {
    "duration": 5,
    "start_time": "2022-05-13T10:26:07.857Z"
   },
   {
    "duration": 96,
    "start_time": "2022-05-13T10:26:07.866Z"
   },
   {
    "duration": 29,
    "start_time": "2022-05-13T10:26:07.964Z"
   },
   {
    "duration": 7,
    "start_time": "2022-05-13T10:26:07.996Z"
   },
   {
    "duration": 13,
    "start_time": "2022-05-13T10:26:08.005Z"
   },
   {
    "duration": 12,
    "start_time": "2022-05-13T10:26:08.021Z"
   },
   {
    "duration": 14,
    "start_time": "2022-05-13T10:26:08.035Z"
   },
   {
    "duration": 45,
    "start_time": "2022-05-13T10:26:08.053Z"
   },
   {
    "duration": 24,
    "start_time": "2022-05-13T10:26:08.100Z"
   },
   {
    "duration": 5,
    "start_time": "2022-05-13T10:26:08.126Z"
   },
   {
    "duration": 19,
    "start_time": "2022-05-13T10:26:08.133Z"
   },
   {
    "duration": 45,
    "start_time": "2022-05-13T10:26:08.155Z"
   },
   {
    "duration": 13,
    "start_time": "2022-05-13T10:26:08.202Z"
   },
   {
    "duration": 11,
    "start_time": "2022-05-13T10:26:08.218Z"
   },
   {
    "duration": 16,
    "start_time": "2022-05-13T10:26:08.231Z"
   },
   {
    "duration": 64,
    "start_time": "2022-05-13T10:26:08.250Z"
   },
   {
    "duration": 16,
    "start_time": "2022-05-13T10:26:08.317Z"
   },
   {
    "duration": 12,
    "start_time": "2022-05-13T10:26:08.336Z"
   },
   {
    "duration": 58,
    "start_time": "2022-05-13T10:26:08.350Z"
   },
   {
    "duration": 22,
    "start_time": "2022-05-13T10:26:08.410Z"
   },
   {
    "duration": 6,
    "start_time": "2022-05-13T10:26:08.434Z"
   },
   {
    "duration": 17,
    "start_time": "2022-05-13T10:26:08.443Z"
   },
   {
    "duration": 271,
    "start_time": "2022-05-13T10:26:08.493Z"
   },
   {
    "duration": 423,
    "start_time": "2022-05-13T10:26:08.766Z"
   },
   {
    "duration": 424,
    "start_time": "2022-05-13T10:47:25.928Z"
   },
   {
    "duration": 265,
    "start_time": "2022-05-13T10:50:06.138Z"
   },
   {
    "duration": 355,
    "start_time": "2022-05-13T10:50:39.161Z"
   },
   {
    "duration": 265,
    "start_time": "2022-05-13T10:51:54.751Z"
   },
   {
    "duration": 268,
    "start_time": "2022-05-13T10:56:24.855Z"
   },
   {
    "duration": 365,
    "start_time": "2022-05-13T11:06:00.411Z"
   },
   {
    "duration": 408,
    "start_time": "2022-05-13T11:06:09.907Z"
   },
   {
    "duration": 197,
    "start_time": "2022-05-13T11:06:51.777Z"
   },
   {
    "duration": 16,
    "start_time": "2022-05-13T11:07:02.220Z"
   },
   {
    "duration": 272,
    "start_time": "2022-05-13T11:07:20.676Z"
   },
   {
    "duration": 3336,
    "start_time": "2022-05-13T11:12:46.247Z"
   },
   {
    "duration": 162,
    "start_time": "2022-05-13T11:12:57.454Z"
   },
   {
    "duration": 307,
    "start_time": "2022-05-13T11:13:34.012Z"
   },
   {
    "duration": 303,
    "start_time": "2022-05-13T11:14:13.914Z"
   },
   {
    "duration": 326,
    "start_time": "2022-05-13T11:14:52.993Z"
   },
   {
    "duration": 300,
    "start_time": "2022-05-13T11:15:12.655Z"
   },
   {
    "duration": 321,
    "start_time": "2022-05-13T11:15:20.286Z"
   },
   {
    "duration": 335,
    "start_time": "2022-05-13T11:16:37.158Z"
   },
   {
    "duration": 461,
    "start_time": "2022-05-13T11:17:04.353Z"
   },
   {
    "duration": 324,
    "start_time": "2022-05-13T11:17:27.541Z"
   },
   {
    "duration": 347,
    "start_time": "2022-05-13T11:17:33.509Z"
   },
   {
    "duration": 366,
    "start_time": "2022-05-13T11:18:03.454Z"
   },
   {
    "duration": 435,
    "start_time": "2022-05-13T11:18:46.113Z"
   },
   {
    "duration": 565,
    "start_time": "2022-05-13T11:20:31.489Z"
   },
   {
    "duration": 346,
    "start_time": "2022-05-13T11:20:43.605Z"
   },
   {
    "duration": 222,
    "start_time": "2022-05-13T11:20:47.619Z"
   },
   {
    "duration": 293,
    "start_time": "2022-05-13T11:20:55.085Z"
   },
   {
    "duration": 7,
    "start_time": "2022-05-13T11:21:02.545Z"
   },
   {
    "duration": 314,
    "start_time": "2022-05-13T11:21:10.090Z"
   },
   {
    "duration": 328,
    "start_time": "2022-05-13T11:21:18.051Z"
   },
   {
    "duration": 310,
    "start_time": "2022-05-13T11:21:35.811Z"
   },
   {
    "duration": 311,
    "start_time": "2022-05-13T11:21:41.251Z"
   },
   {
    "duration": 213,
    "start_time": "2022-05-13T11:23:53.823Z"
   },
   {
    "duration": 446,
    "start_time": "2022-05-13T11:24:00.383Z"
   },
   {
    "duration": 337,
    "start_time": "2022-05-13T11:24:07.223Z"
   },
   {
    "duration": 337,
    "start_time": "2022-05-13T11:24:39.187Z"
   },
   {
    "duration": 334,
    "start_time": "2022-05-13T11:24:48.876Z"
   },
   {
    "duration": 15,
    "start_time": "2022-05-13T11:25:13.134Z"
   },
   {
    "duration": 469,
    "start_time": "2022-05-13T11:26:08.788Z"
   },
   {
    "duration": 440,
    "start_time": "2022-05-13T19:05:35.067Z"
   },
   {
    "duration": 544,
    "start_time": "2022-05-13T19:05:50.848Z"
   },
   {
    "duration": 415,
    "start_time": "2022-05-13T19:22:57.221Z"
   },
   {
    "duration": 413,
    "start_time": "2022-05-13T19:23:08.580Z"
   },
   {
    "duration": 425,
    "start_time": "2022-05-13T19:32:17.305Z"
   },
   {
    "duration": 477,
    "start_time": "2022-05-13T19:32:47.479Z"
   },
   {
    "duration": 542,
    "start_time": "2022-05-13T19:32:53.803Z"
   },
   {
    "duration": 418,
    "start_time": "2022-05-13T19:33:09.708Z"
   },
   {
    "duration": 435,
    "start_time": "2022-05-13T19:33:37.950Z"
   },
   {
    "duration": 533,
    "start_time": "2022-05-13T19:33:49.663Z"
   },
   {
    "duration": 422,
    "start_time": "2022-05-13T19:33:59.359Z"
   },
   {
    "duration": 426,
    "start_time": "2022-05-13T19:34:06.982Z"
   },
   {
    "duration": 529,
    "start_time": "2022-05-13T19:34:13.678Z"
   },
   {
    "duration": 451,
    "start_time": "2022-05-13T19:34:21.445Z"
   },
   {
    "duration": 435,
    "start_time": "2022-05-13T19:34:37.486Z"
   },
   {
    "duration": 421,
    "start_time": "2022-05-13T19:35:13.107Z"
   },
   {
    "duration": 425,
    "start_time": "2022-05-13T19:35:26.318Z"
   },
   {
    "duration": 508,
    "start_time": "2022-05-13T19:35:32.996Z"
   },
   {
    "duration": 20,
    "start_time": "2022-05-13T19:52:00.121Z"
   },
   {
    "duration": 307,
    "start_time": "2022-05-13T19:52:35.090Z"
   },
   {
    "duration": 313,
    "start_time": "2022-05-13T19:53:16.643Z"
   },
   {
    "duration": 404,
    "start_time": "2022-05-13T19:53:31.381Z"
   },
   {
    "duration": 314,
    "start_time": "2022-05-13T19:56:15.410Z"
   },
   {
    "duration": 14,
    "start_time": "2022-05-13T19:56:56.668Z"
   },
   {
    "duration": 14,
    "start_time": "2022-05-13T19:57:05.583Z"
   },
   {
    "duration": 303,
    "start_time": "2022-05-13T19:57:16.017Z"
   },
   {
    "duration": 278,
    "start_time": "2022-05-13T19:57:31.151Z"
   },
   {
    "duration": 307,
    "start_time": "2022-05-13T19:57:36.943Z"
   },
   {
    "duration": 570,
    "start_time": "2022-05-13T19:58:42.211Z"
   },
   {
    "duration": 562,
    "start_time": "2022-05-13T19:58:57.365Z"
   },
   {
    "duration": 196,
    "start_time": "2022-05-13T19:59:37.155Z"
   },
   {
    "duration": 186,
    "start_time": "2022-05-13T19:59:42.255Z"
   },
   {
    "duration": 273,
    "start_time": "2022-05-13T19:59:55.650Z"
   },
   {
    "duration": 188,
    "start_time": "2022-05-13T20:00:17.828Z"
   },
   {
    "duration": 204,
    "start_time": "2022-05-13T20:00:27.094Z"
   },
   {
    "duration": 197,
    "start_time": "2022-05-13T20:00:39.078Z"
   },
   {
    "duration": 195,
    "start_time": "2022-05-13T20:01:13.003Z"
   },
   {
    "duration": 689,
    "start_time": "2022-05-13T20:02:11.470Z"
   },
   {
    "duration": 13,
    "start_time": "2022-05-13T20:03:33.459Z"
   },
   {
    "duration": 610,
    "start_time": "2022-05-13T20:04:21.313Z"
   },
   {
    "duration": 315,
    "start_time": "2022-05-13T20:04:43.040Z"
   },
   {
    "duration": 170,
    "start_time": "2022-05-13T20:49:04.500Z"
   },
   {
    "duration": 263,
    "start_time": "2022-05-13T20:49:33.501Z"
   },
   {
    "duration": 159,
    "start_time": "2022-05-13T20:50:11.041Z"
   },
   {
    "duration": 324,
    "start_time": "2022-05-13T20:50:33.014Z"
   },
   {
    "duration": 334,
    "start_time": "2022-05-13T20:50:50.652Z"
   },
   {
    "duration": 255,
    "start_time": "2022-05-13T20:51:19.970Z"
   },
   {
    "duration": 370,
    "start_time": "2022-05-13T20:53:43.112Z"
   },
   {
    "duration": 254,
    "start_time": "2022-05-13T20:53:57.353Z"
   },
   {
    "duration": 255,
    "start_time": "2022-05-13T20:54:07.865Z"
   },
   {
    "duration": 254,
    "start_time": "2022-05-13T20:56:25.044Z"
   },
   {
    "duration": 259,
    "start_time": "2022-05-13T20:56:41.337Z"
   },
   {
    "duration": 290,
    "start_time": "2022-05-13T21:17:28.792Z"
   },
   {
    "duration": 285,
    "start_time": "2022-05-13T21:17:57.025Z"
   },
   {
    "duration": 311,
    "start_time": "2022-05-13T21:19:03.520Z"
   },
   {
    "duration": 429,
    "start_time": "2022-05-13T21:19:47.326Z"
   },
   {
    "duration": 50,
    "start_time": "2022-05-14T12:59:16.774Z"
   },
   {
    "duration": 1434,
    "start_time": "2022-05-14T12:59:20.889Z"
   },
   {
    "duration": 62,
    "start_time": "2022-05-14T12:59:22.326Z"
   },
   {
    "duration": 4,
    "start_time": "2022-05-14T12:59:22.389Z"
   },
   {
    "duration": 79,
    "start_time": "2022-05-14T12:59:22.394Z"
   },
   {
    "duration": 6,
    "start_time": "2022-05-14T12:59:22.476Z"
   },
   {
    "duration": 6,
    "start_time": "2022-05-14T12:59:22.484Z"
   },
   {
    "duration": 8,
    "start_time": "2022-05-14T12:59:22.492Z"
   },
   {
    "duration": 8,
    "start_time": "2022-05-14T12:59:22.501Z"
   },
   {
    "duration": 38,
    "start_time": "2022-05-14T12:59:22.510Z"
   },
   {
    "duration": 13,
    "start_time": "2022-05-14T12:59:22.552Z"
   },
   {
    "duration": 27,
    "start_time": "2022-05-14T12:59:22.567Z"
   },
   {
    "duration": 4,
    "start_time": "2022-05-14T12:59:22.596Z"
   },
   {
    "duration": 18,
    "start_time": "2022-05-14T12:59:22.602Z"
   },
   {
    "duration": 38,
    "start_time": "2022-05-14T12:59:22.624Z"
   },
   {
    "duration": 9,
    "start_time": "2022-05-14T12:59:22.663Z"
   },
   {
    "duration": 6,
    "start_time": "2022-05-14T12:59:22.674Z"
   },
   {
    "duration": 11,
    "start_time": "2022-05-14T12:59:22.682Z"
   },
   {
    "duration": 13,
    "start_time": "2022-05-14T12:59:22.695Z"
   },
   {
    "duration": 7,
    "start_time": "2022-05-14T12:59:22.710Z"
   },
   {
    "duration": 31,
    "start_time": "2022-05-14T12:59:22.719Z"
   },
   {
    "duration": 23,
    "start_time": "2022-05-14T12:59:22.753Z"
   },
   {
    "duration": 12,
    "start_time": "2022-05-14T12:59:22.777Z"
   },
   {
    "duration": 7,
    "start_time": "2022-05-14T12:59:22.790Z"
   },
   {
    "duration": 10,
    "start_time": "2022-05-14T12:59:22.799Z"
   },
   {
    "duration": 283,
    "start_time": "2022-05-14T12:59:22.811Z"
   },
   {
    "duration": 194,
    "start_time": "2022-05-14T12:59:23.096Z"
   },
   {
    "duration": 4,
    "start_time": "2022-05-14T12:59:23.292Z"
   },
   {
    "duration": 70,
    "start_time": "2022-05-14T12:59:43.345Z"
   },
   {
    "duration": 12,
    "start_time": "2022-05-14T13:01:58.402Z"
   },
   {
    "duration": 22,
    "start_time": "2022-05-14T13:03:07.259Z"
   },
   {
    "duration": 7,
    "start_time": "2022-05-14T13:03:23.709Z"
   },
   {
    "duration": 5,
    "start_time": "2022-05-14T13:04:19.511Z"
   },
   {
    "duration": 5,
    "start_time": "2022-05-14T13:04:27.820Z"
   },
   {
    "duration": 5,
    "start_time": "2022-05-14T13:04:37.224Z"
   },
   {
    "duration": 91,
    "start_time": "2022-05-14T13:04:57.163Z"
   },
   {
    "duration": 119,
    "start_time": "2022-05-14T13:05:10.443Z"
   },
   {
    "duration": 11,
    "start_time": "2022-05-14T13:06:48.276Z"
   },
   {
    "duration": 7,
    "start_time": "2022-05-14T13:06:57.208Z"
   },
   {
    "duration": 192,
    "start_time": "2022-05-14T13:08:15.744Z"
   },
   {
    "duration": 13,
    "start_time": "2022-05-14T13:08:32.525Z"
   },
   {
    "duration": 8,
    "start_time": "2022-05-14T13:08:35.253Z"
   },
   {
    "duration": 13,
    "start_time": "2022-05-14T13:10:05.079Z"
   },
   {
    "duration": 7,
    "start_time": "2022-05-14T13:10:16.556Z"
   },
   {
    "duration": 5,
    "start_time": "2022-05-14T13:11:06.783Z"
   },
   {
    "duration": 8,
    "start_time": "2022-05-14T13:11:08.615Z"
   },
   {
    "duration": 7,
    "start_time": "2022-05-14T13:11:16.301Z"
   },
   {
    "duration": 287,
    "start_time": "2022-05-14T13:20:21.000Z"
   },
   {
    "duration": 10,
    "start_time": "2022-05-14T13:20:29.323Z"
   },
   {
    "duration": 2535,
    "start_time": "2022-05-14T17:43:58.552Z"
   },
   {
    "duration": 106,
    "start_time": "2022-05-14T17:44:17.832Z"
   },
   {
    "duration": 13,
    "start_time": "2022-05-14T17:46:30.496Z"
   },
   {
    "duration": 5,
    "start_time": "2022-05-14T17:46:31.714Z"
   },
   {
    "duration": 7,
    "start_time": "2022-05-14T17:46:32.481Z"
   },
   {
    "duration": 7,
    "start_time": "2022-05-14T17:46:33.377Z"
   },
   {
    "duration": 185,
    "start_time": "2022-05-14T17:46:35.879Z"
   },
   {
    "duration": 11,
    "start_time": "2022-05-14T17:47:21.032Z"
   },
   {
    "duration": 5,
    "start_time": "2022-05-14T17:47:22.295Z"
   },
   {
    "duration": 7,
    "start_time": "2022-05-14T17:47:22.933Z"
   },
   {
    "duration": 7,
    "start_time": "2022-05-14T17:47:23.459Z"
   },
   {
    "duration": 102,
    "start_time": "2022-05-14T17:47:23.983Z"
   },
   {
    "duration": 20,
    "start_time": "2022-05-14T17:51:06.248Z"
   },
   {
    "duration": 15,
    "start_time": "2022-05-14T17:51:20.830Z"
   },
   {
    "duration": 20,
    "start_time": "2022-05-14T17:51:27.426Z"
   },
   {
    "duration": 19,
    "start_time": "2022-05-14T17:51:50.060Z"
   },
   {
    "duration": 20,
    "start_time": "2022-05-14T17:52:46.490Z"
   },
   {
    "duration": 19,
    "start_time": "2022-05-14T17:56:26.471Z"
   },
   {
    "duration": 19,
    "start_time": "2022-05-14T17:58:15.379Z"
   },
   {
    "duration": 137,
    "start_time": "2022-05-14T18:09:24.082Z"
   },
   {
    "duration": 148,
    "start_time": "2022-05-14T18:09:46.533Z"
   },
   {
    "duration": 30,
    "start_time": "2022-05-14T18:09:58.707Z"
   },
   {
    "duration": 28,
    "start_time": "2022-05-14T18:10:15.201Z"
   },
   {
    "duration": 28,
    "start_time": "2022-05-14T18:10:52.742Z"
   },
   {
    "duration": 29,
    "start_time": "2022-05-14T18:11:04.053Z"
   },
   {
    "duration": 137,
    "start_time": "2022-05-14T18:11:22.283Z"
   },
   {
    "duration": 28,
    "start_time": "2022-05-14T18:11:26.405Z"
   },
   {
    "duration": 25,
    "start_time": "2022-05-14T18:12:03.620Z"
   },
   {
    "duration": 24,
    "start_time": "2022-05-14T18:16:49.108Z"
   },
   {
    "duration": 25,
    "start_time": "2022-05-14T19:03:10.032Z"
   },
   {
    "duration": 25,
    "start_time": "2022-05-14T19:03:29.886Z"
   },
   {
    "duration": 25,
    "start_time": "2022-05-14T19:05:15.714Z"
   },
   {
    "duration": 20,
    "start_time": "2022-05-14T19:05:22.895Z"
   },
   {
    "duration": 26,
    "start_time": "2022-05-14T19:05:37.238Z"
   },
   {
    "duration": 242,
    "start_time": "2022-05-14T19:05:43.068Z"
   },
   {
    "duration": 25,
    "start_time": "2022-05-14T19:05:54.712Z"
   },
   {
    "duration": 20,
    "start_time": "2022-05-14T19:07:19.923Z"
   },
   {
    "duration": 27,
    "start_time": "2022-05-14T19:07:38.699Z"
   },
   {
    "duration": 17,
    "start_time": "2022-05-14T19:29:43.876Z"
   },
   {
    "duration": 19,
    "start_time": "2022-05-14T19:30:17.664Z"
   },
   {
    "duration": 18,
    "start_time": "2022-05-14T19:30:42.095Z"
   },
   {
    "duration": 18,
    "start_time": "2022-05-14T19:30:57.333Z"
   },
   {
    "duration": 19,
    "start_time": "2022-05-14T19:31:04.420Z"
   },
   {
    "duration": 19,
    "start_time": "2022-05-14T19:31:30.257Z"
   },
   {
    "duration": 19,
    "start_time": "2022-05-14T19:31:34.385Z"
   },
   {
    "duration": 24,
    "start_time": "2022-05-14T19:32:01.240Z"
   },
   {
    "duration": 22,
    "start_time": "2022-05-14T19:32:11.907Z"
   },
   {
    "duration": 34,
    "start_time": "2022-05-14T19:32:46.835Z"
   },
   {
    "duration": 19,
    "start_time": "2022-05-14T19:32:55.719Z"
   },
   {
    "duration": 24,
    "start_time": "2022-05-14T19:33:36.000Z"
   },
   {
    "duration": 22,
    "start_time": "2022-05-14T19:33:41.595Z"
   },
   {
    "duration": 19,
    "start_time": "2022-05-14T19:33:47.584Z"
   },
   {
    "duration": 25,
    "start_time": "2022-05-14T19:34:03.844Z"
   },
   {
    "duration": 19,
    "start_time": "2022-05-14T19:34:14.056Z"
   },
   {
    "duration": 21,
    "start_time": "2022-05-14T19:35:29.035Z"
   },
   {
    "duration": 19,
    "start_time": "2022-05-14T19:35:39.676Z"
   },
   {
    "duration": 139,
    "start_time": "2022-05-14T19:37:39.970Z"
   },
   {
    "duration": 9,
    "start_time": "2022-05-14T19:37:50.868Z"
   },
   {
    "duration": 13,
    "start_time": "2022-05-14T19:37:57.237Z"
   },
   {
    "duration": 13,
    "start_time": "2022-05-14T19:39:26.578Z"
   },
   {
    "duration": 8,
    "start_time": "2022-05-14T19:39:38.829Z"
   },
   {
    "duration": 14,
    "start_time": "2022-05-14T19:41:47.130Z"
   },
   {
    "duration": 8,
    "start_time": "2022-05-14T19:41:49.267Z"
   },
   {
    "duration": 15,
    "start_time": "2022-05-14T19:43:06.887Z"
   },
   {
    "duration": 15,
    "start_time": "2022-05-14T19:43:57.074Z"
   },
   {
    "duration": 9,
    "start_time": "2022-05-14T19:43:58.319Z"
   },
   {
    "duration": 21,
    "start_time": "2022-05-14T19:44:12.944Z"
   },
   {
    "duration": 15,
    "start_time": "2022-05-14T19:48:15.591Z"
   },
   {
    "duration": 9,
    "start_time": "2022-05-14T19:48:19.765Z"
   },
   {
    "duration": 142,
    "start_time": "2022-05-14T19:49:36.338Z"
   },
   {
    "duration": 29,
    "start_time": "2022-05-14T19:49:42.815Z"
   },
   {
    "duration": 18,
    "start_time": "2022-05-14T19:51:53.050Z"
   },
   {
    "duration": 9,
    "start_time": "2022-05-14T19:51:55.130Z"
   },
   {
    "duration": 15,
    "start_time": "2022-05-14T19:52:01.772Z"
   },
   {
    "duration": 8,
    "start_time": "2022-05-14T19:52:02.923Z"
   },
   {
    "duration": 26,
    "start_time": "2022-05-14T19:53:50.207Z"
   },
   {
    "duration": 19,
    "start_time": "2022-05-14T19:54:27.088Z"
   },
   {
    "duration": 20,
    "start_time": "2022-05-14T19:56:10.845Z"
   },
   {
    "duration": 12,
    "start_time": "2022-05-14T19:56:20.001Z"
   },
   {
    "duration": 20,
    "start_time": "2022-05-14T19:57:40.464Z"
   },
   {
    "duration": 11,
    "start_time": "2022-05-14T19:57:41.420Z"
   },
   {
    "duration": 22,
    "start_time": "2022-05-14T19:58:03.221Z"
   },
   {
    "duration": 10,
    "start_time": "2022-05-14T19:58:05.506Z"
   },
   {
    "duration": 21,
    "start_time": "2022-05-14T19:59:35.337Z"
   },
   {
    "duration": 9,
    "start_time": "2022-05-14T19:59:36.394Z"
   },
   {
    "duration": 8,
    "start_time": "2022-05-14T20:00:14.231Z"
   },
   {
    "duration": 9,
    "start_time": "2022-05-14T20:00:29.896Z"
   },
   {
    "duration": 33,
    "start_time": "2022-05-14T20:03:35.001Z"
   },
   {
    "duration": 11,
    "start_time": "2022-05-14T20:03:40.891Z"
   },
   {
    "duration": 9,
    "start_time": "2022-05-14T20:03:48.793Z"
   },
   {
    "duration": 10,
    "start_time": "2022-05-14T20:04:00.485Z"
   },
   {
    "duration": 9,
    "start_time": "2022-05-14T20:04:06.799Z"
   },
   {
    "duration": 30,
    "start_time": "2022-05-14T20:04:49.434Z"
   },
   {
    "duration": 844,
    "start_time": "2022-05-14T20:07:12.850Z"
   },
   {
    "duration": 925,
    "start_time": "2022-05-14T20:08:57.607Z"
   },
   {
    "duration": 811,
    "start_time": "2022-05-14T20:09:55.203Z"
   },
   {
    "duration": 932,
    "start_time": "2022-05-14T20:10:03.080Z"
   },
   {
    "duration": 944,
    "start_time": "2022-05-14T20:10:41.419Z"
   },
   {
    "duration": 1039,
    "start_time": "2022-05-14T20:10:58.570Z"
   },
   {
    "duration": 745,
    "start_time": "2022-05-14T20:11:18.871Z"
   },
   {
    "duration": 940,
    "start_time": "2022-05-14T20:11:24.163Z"
   },
   {
    "duration": 797,
    "start_time": "2022-05-14T20:13:30.377Z"
   },
   {
    "duration": 941,
    "start_time": "2022-05-14T20:13:39.398Z"
   },
   {
    "duration": 1006,
    "start_time": "2022-05-14T20:13:56.030Z"
   },
   {
    "duration": 619,
    "start_time": "2022-05-14T20:15:48.455Z"
   },
   {
    "duration": 592,
    "start_time": "2022-05-14T20:24:14.395Z"
   },
   {
    "duration": 728,
    "start_time": "2022-05-14T20:27:49.320Z"
   },
   {
    "duration": 150,
    "start_time": "2022-05-14T20:32:50.441Z"
   },
   {
    "duration": 11,
    "start_time": "2022-05-14T20:33:04.561Z"
   },
   {
    "duration": 7,
    "start_time": "2022-05-14T20:33:12.930Z"
   },
   {
    "duration": 12,
    "start_time": "2022-05-14T20:34:09.063Z"
   },
   {
    "duration": 8,
    "start_time": "2022-05-14T20:34:10.865Z"
   },
   {
    "duration": 183,
    "start_time": "2022-05-14T20:35:36.774Z"
   },
   {
    "duration": 13,
    "start_time": "2022-05-14T20:35:47.262Z"
   },
   {
    "duration": 7,
    "start_time": "2022-05-14T20:35:48.256Z"
   },
   {
    "duration": 14,
    "start_time": "2022-05-14T20:36:34.199Z"
   },
   {
    "duration": 8,
    "start_time": "2022-05-14T20:36:36.165Z"
   },
   {
    "duration": 14,
    "start_time": "2022-05-14T20:38:30.192Z"
   },
   {
    "duration": 7,
    "start_time": "2022-05-14T20:38:31.367Z"
   },
   {
    "duration": 19,
    "start_time": "2022-05-14T20:38:50.172Z"
   },
   {
    "duration": 7,
    "start_time": "2022-05-14T20:38:51.246Z"
   },
   {
    "duration": 15,
    "start_time": "2022-05-14T21:07:43.430Z"
   },
   {
    "duration": 8,
    "start_time": "2022-05-14T21:07:44.285Z"
   },
   {
    "duration": 9,
    "start_time": "2022-05-14T21:07:50.766Z"
   },
   {
    "duration": 16,
    "start_time": "2022-05-14T21:08:16.668Z"
   },
   {
    "duration": 8,
    "start_time": "2022-05-14T21:08:17.970Z"
   },
   {
    "duration": 18,
    "start_time": "2022-05-14T21:09:03.205Z"
   },
   {
    "duration": 6,
    "start_time": "2022-05-14T21:09:08.990Z"
   },
   {
    "duration": 13,
    "start_time": "2022-05-14T21:09:27.369Z"
   },
   {
    "duration": 7,
    "start_time": "2022-05-14T21:09:29.639Z"
   },
   {
    "duration": 45,
    "start_time": "2022-05-15T07:17:15.324Z"
   },
   {
    "duration": 1317,
    "start_time": "2022-05-15T07:17:20.002Z"
   },
   {
    "duration": 50,
    "start_time": "2022-05-15T07:17:21.321Z"
   },
   {
    "duration": 3,
    "start_time": "2022-05-15T07:17:21.373Z"
   },
   {
    "duration": 53,
    "start_time": "2022-05-15T07:17:21.378Z"
   },
   {
    "duration": 4,
    "start_time": "2022-05-15T07:17:21.434Z"
   },
   {
    "duration": 32,
    "start_time": "2022-05-15T07:17:21.440Z"
   },
   {
    "duration": 6,
    "start_time": "2022-05-15T07:17:21.474Z"
   },
   {
    "duration": 7,
    "start_time": "2022-05-15T07:17:21.482Z"
   },
   {
    "duration": 10,
    "start_time": "2022-05-15T07:17:21.490Z"
   },
   {
    "duration": 8,
    "start_time": "2022-05-15T07:17:21.502Z"
   },
   {
    "duration": 14,
    "start_time": "2022-05-15T07:17:21.512Z"
   },
   {
    "duration": 3,
    "start_time": "2022-05-15T07:17:21.528Z"
   },
   {
    "duration": 46,
    "start_time": "2022-05-15T07:17:21.532Z"
   },
   {
    "duration": 9,
    "start_time": "2022-05-15T07:17:21.581Z"
   },
   {
    "duration": 8,
    "start_time": "2022-05-15T07:17:21.592Z"
   },
   {
    "duration": 8,
    "start_time": "2022-05-15T07:17:21.601Z"
   },
   {
    "duration": 12,
    "start_time": "2022-05-15T07:17:21.610Z"
   },
   {
    "duration": 11,
    "start_time": "2022-05-15T07:17:21.624Z"
   },
   {
    "duration": 40,
    "start_time": "2022-05-15T07:17:21.636Z"
   },
   {
    "duration": 7,
    "start_time": "2022-05-15T07:17:21.677Z"
   },
   {
    "duration": 12,
    "start_time": "2022-05-15T07:17:21.686Z"
   },
   {
    "duration": 10,
    "start_time": "2022-05-15T07:17:21.699Z"
   },
   {
    "duration": 4,
    "start_time": "2022-05-15T07:17:21.710Z"
   },
   {
    "duration": 12,
    "start_time": "2022-05-15T07:17:21.715Z"
   },
   {
    "duration": 266,
    "start_time": "2022-05-15T07:17:21.728Z"
   },
   {
    "duration": 184,
    "start_time": "2022-05-15T07:17:21.996Z"
   },
   {
    "duration": 12,
    "start_time": "2022-05-15T07:17:22.181Z"
   },
   {
    "duration": 5,
    "start_time": "2022-05-15T07:17:22.194Z"
   },
   {
    "duration": 7,
    "start_time": "2022-05-15T07:17:22.200Z"
   },
   {
    "duration": 10,
    "start_time": "2022-05-15T07:17:22.209Z"
   },
   {
    "duration": 126,
    "start_time": "2022-05-15T07:17:22.220Z"
   },
   {
    "duration": 24,
    "start_time": "2022-05-15T07:17:22.347Z"
   },
   {
    "duration": 8,
    "start_time": "2022-05-15T07:17:22.373Z"
   },
   {
    "duration": 21,
    "start_time": "2022-05-15T07:17:22.382Z"
   },
   {
    "duration": 21,
    "start_time": "2022-05-15T07:17:22.404Z"
   },
   {
    "duration": 572,
    "start_time": "2022-05-15T07:17:22.426Z"
   },
   {
    "duration": 12,
    "start_time": "2022-05-15T07:17:22.999Z"
   },
   {
    "duration": 6,
    "start_time": "2022-05-15T07:17:23.013Z"
   },
   {
    "duration": 241,
    "start_time": "2022-05-15T07:17:23.020Z"
   },
   {
    "duration": 157,
    "start_time": "2022-05-15T07:28:39.814Z"
   },
   {
    "duration": 37,
    "start_time": "2022-05-15T07:28:54.965Z"
   },
   {
    "duration": 59,
    "start_time": "2022-05-15T07:29:56.008Z"
   },
   {
    "duration": 61,
    "start_time": "2022-05-15T07:31:43.897Z"
   },
   {
    "duration": 4,
    "start_time": "2022-05-15T07:31:51.030Z"
   },
   {
    "duration": 60,
    "start_time": "2022-05-15T07:31:51.036Z"
   },
   {
    "duration": 4,
    "start_time": "2022-05-15T07:31:51.097Z"
   },
   {
    "duration": 70,
    "start_time": "2022-05-15T07:31:51.102Z"
   },
   {
    "duration": 5,
    "start_time": "2022-05-15T07:31:51.174Z"
   },
   {
    "duration": 5,
    "start_time": "2022-05-15T07:31:51.180Z"
   },
   {
    "duration": 7,
    "start_time": "2022-05-15T07:31:51.187Z"
   },
   {
    "duration": 8,
    "start_time": "2022-05-15T07:31:51.195Z"
   },
   {
    "duration": 9,
    "start_time": "2022-05-15T07:31:51.205Z"
   },
   {
    "duration": 8,
    "start_time": "2022-05-15T07:31:51.216Z"
   },
   {
    "duration": 13,
    "start_time": "2022-05-15T07:31:51.226Z"
   },
   {
    "duration": 4,
    "start_time": "2022-05-15T07:31:51.271Z"
   },
   {
    "duration": 14,
    "start_time": "2022-05-15T07:31:51.276Z"
   },
   {
    "duration": 8,
    "start_time": "2022-05-15T07:31:51.293Z"
   },
   {
    "duration": 8,
    "start_time": "2022-05-15T07:31:51.302Z"
   },
   {
    "duration": 6,
    "start_time": "2022-05-15T07:31:51.311Z"
   },
   {
    "duration": 11,
    "start_time": "2022-05-15T07:31:51.319Z"
   },
   {
    "duration": 46,
    "start_time": "2022-05-15T07:31:51.331Z"
   },
   {
    "duration": 8,
    "start_time": "2022-05-15T07:31:51.379Z"
   },
   {
    "duration": 6,
    "start_time": "2022-05-15T07:31:51.389Z"
   },
   {
    "duration": 12,
    "start_time": "2022-05-15T07:31:51.396Z"
   },
   {
    "duration": 10,
    "start_time": "2022-05-15T07:31:51.410Z"
   },
   {
    "duration": 4,
    "start_time": "2022-05-15T07:31:51.422Z"
   },
   {
    "duration": 9,
    "start_time": "2022-05-15T07:31:51.427Z"
   },
   {
    "duration": 225,
    "start_time": "2022-05-15T07:31:51.471Z"
   },
   {
    "duration": 176,
    "start_time": "2022-05-15T07:31:51.697Z"
   },
   {
    "duration": 11,
    "start_time": "2022-05-15T07:31:51.875Z"
   },
   {
    "duration": 4,
    "start_time": "2022-05-15T07:31:51.887Z"
   },
   {
    "duration": 9,
    "start_time": "2022-05-15T07:31:51.892Z"
   },
   {
    "duration": 6,
    "start_time": "2022-05-15T07:31:51.902Z"
   },
   {
    "duration": 124,
    "start_time": "2022-05-15T07:31:51.910Z"
   },
   {
    "duration": 16,
    "start_time": "2022-05-15T07:31:52.036Z"
   },
   {
    "duration": 20,
    "start_time": "2022-05-15T07:31:52.053Z"
   },
   {
    "duration": 19,
    "start_time": "2022-05-15T07:31:52.075Z"
   },
   {
    "duration": 21,
    "start_time": "2022-05-15T07:31:52.096Z"
   },
   {
    "duration": 560,
    "start_time": "2022-05-15T07:31:52.118Z"
   },
   {
    "duration": 12,
    "start_time": "2022-05-15T07:31:52.679Z"
   },
   {
    "duration": 7,
    "start_time": "2022-05-15T07:31:52.692Z"
   },
   {
    "duration": 243,
    "start_time": "2022-05-15T07:31:52.700Z"
   },
   {
    "duration": 68,
    "start_time": "2022-05-15T07:31:52.945Z"
   },
   {
    "duration": 86,
    "start_time": "2022-05-15T07:32:25.055Z"
   },
   {
    "duration": 109,
    "start_time": "2022-05-15T10:32:04.654Z"
   },
   {
    "duration": 12,
    "start_time": "2022-05-15T10:33:48.012Z"
   },
   {
    "duration": 266,
    "start_time": "2022-05-15T10:38:44.723Z"
   },
   {
    "duration": 15,
    "start_time": "2022-05-15T10:48:51.186Z"
   },
   {
    "duration": 11,
    "start_time": "2022-05-15T10:50:25.765Z"
   },
   {
    "duration": 169,
    "start_time": "2022-05-15T13:15:25.868Z"
   },
   {
    "duration": 112,
    "start_time": "2022-05-15T13:24:31.756Z"
   },
   {
    "duration": 73,
    "start_time": "2022-05-15T13:24:41.411Z"
   },
   {
    "duration": 12,
    "start_time": "2022-05-15T13:28:14.168Z"
   },
   {
    "duration": 15,
    "start_time": "2022-05-15T14:22:02.371Z"
   },
   {
    "duration": 9,
    "start_time": "2022-05-15T14:34:05.608Z"
   },
   {
    "duration": 61,
    "start_time": "2022-05-15T14:34:17.255Z"
   },
   {
    "duration": 980,
    "start_time": "2022-05-15T18:13:58.238Z"
   },
   {
    "duration": 1349,
    "start_time": "2022-05-15T18:14:06.775Z"
   },
   {
    "duration": 57,
    "start_time": "2022-05-15T18:14:08.126Z"
   },
   {
    "duration": 3,
    "start_time": "2022-05-15T18:14:08.185Z"
   },
   {
    "duration": 55,
    "start_time": "2022-05-15T18:14:08.189Z"
   },
   {
    "duration": 5,
    "start_time": "2022-05-15T18:14:08.246Z"
   },
   {
    "duration": 5,
    "start_time": "2022-05-15T18:14:08.252Z"
   },
   {
    "duration": 5,
    "start_time": "2022-05-15T18:14:08.258Z"
   },
   {
    "duration": 6,
    "start_time": "2022-05-15T18:14:08.265Z"
   },
   {
    "duration": 33,
    "start_time": "2022-05-15T18:14:08.273Z"
   },
   {
    "duration": 6,
    "start_time": "2022-05-15T18:14:08.308Z"
   },
   {
    "duration": 14,
    "start_time": "2022-05-15T18:14:08.315Z"
   },
   {
    "duration": 3,
    "start_time": "2022-05-15T18:14:08.330Z"
   },
   {
    "duration": 13,
    "start_time": "2022-05-15T18:14:08.334Z"
   },
   {
    "duration": 7,
    "start_time": "2022-05-15T18:14:08.350Z"
   },
   {
    "duration": 8,
    "start_time": "2022-05-15T18:14:08.358Z"
   },
   {
    "duration": 6,
    "start_time": "2022-05-15T18:14:08.400Z"
   },
   {
    "duration": 14,
    "start_time": "2022-05-15T18:14:08.407Z"
   },
   {
    "duration": 14,
    "start_time": "2022-05-15T18:14:08.422Z"
   },
   {
    "duration": 10,
    "start_time": "2022-05-15T18:14:08.437Z"
   },
   {
    "duration": 7,
    "start_time": "2022-05-15T18:14:08.448Z"
   },
   {
    "duration": 12,
    "start_time": "2022-05-15T18:14:08.456Z"
   },
   {
    "duration": 37,
    "start_time": "2022-05-15T18:14:08.469Z"
   },
   {
    "duration": 3,
    "start_time": "2022-05-15T18:14:08.508Z"
   },
   {
    "duration": 11,
    "start_time": "2022-05-15T18:14:08.513Z"
   },
   {
    "duration": 242,
    "start_time": "2022-05-15T18:14:08.525Z"
   },
   {
    "duration": 179,
    "start_time": "2022-05-15T18:14:08.769Z"
   },
   {
    "duration": 12,
    "start_time": "2022-05-15T18:14:08.949Z"
   },
   {
    "duration": 4,
    "start_time": "2022-05-15T18:14:08.962Z"
   },
   {
    "duration": 11,
    "start_time": "2022-05-15T18:14:08.967Z"
   },
   {
    "duration": 23,
    "start_time": "2022-05-15T18:14:08.980Z"
   },
   {
    "duration": 107,
    "start_time": "2022-05-15T18:14:09.005Z"
   },
   {
    "duration": 16,
    "start_time": "2022-05-15T18:14:09.113Z"
   },
   {
    "duration": 7,
    "start_time": "2022-05-15T18:14:09.131Z"
   },
   {
    "duration": 32,
    "start_time": "2022-05-15T18:14:09.140Z"
   },
   {
    "duration": 34,
    "start_time": "2022-05-15T18:14:09.173Z"
   },
   {
    "duration": 654,
    "start_time": "2022-05-15T18:14:09.209Z"
   },
   {
    "duration": 11,
    "start_time": "2022-05-15T18:14:09.864Z"
   },
   {
    "duration": 6,
    "start_time": "2022-05-15T18:14:09.876Z"
   },
   {
    "duration": 239,
    "start_time": "2022-05-15T18:14:09.883Z"
   },
   {
    "duration": 3160,
    "start_time": "2022-05-15T18:14:10.124Z"
   },
   {
    "duration": 0,
    "start_time": "2022-05-15T18:14:13.286Z"
   },
   {
    "duration": 0,
    "start_time": "2022-05-15T18:14:13.287Z"
   },
   {
    "duration": 0,
    "start_time": "2022-05-15T18:14:13.288Z"
   },
   {
    "duration": 1184,
    "start_time": "2022-05-15T18:15:02.572Z"
   },
   {
    "duration": 56,
    "start_time": "2022-05-15T18:15:03.758Z"
   },
   {
    "duration": 3,
    "start_time": "2022-05-15T18:15:03.816Z"
   },
   {
    "duration": 59,
    "start_time": "2022-05-15T18:15:03.821Z"
   },
   {
    "duration": 4,
    "start_time": "2022-05-15T18:15:03.882Z"
   },
   {
    "duration": 15,
    "start_time": "2022-05-15T18:15:03.888Z"
   },
   {
    "duration": 7,
    "start_time": "2022-05-15T18:15:03.904Z"
   },
   {
    "duration": 9,
    "start_time": "2022-05-15T18:15:03.913Z"
   },
   {
    "duration": 16,
    "start_time": "2022-05-15T18:15:03.923Z"
   },
   {
    "duration": 6,
    "start_time": "2022-05-15T18:15:03.940Z"
   },
   {
    "duration": 15,
    "start_time": "2022-05-15T18:15:03.947Z"
   },
   {
    "duration": 3,
    "start_time": "2022-05-15T18:15:03.963Z"
   },
   {
    "duration": 34,
    "start_time": "2022-05-15T18:15:03.967Z"
   },
   {
    "duration": 9,
    "start_time": "2022-05-15T18:15:04.004Z"
   },
   {
    "duration": 11,
    "start_time": "2022-05-15T18:15:04.015Z"
   },
   {
    "duration": 9,
    "start_time": "2022-05-15T18:15:04.027Z"
   },
   {
    "duration": 13,
    "start_time": "2022-05-15T18:15:04.038Z"
   },
   {
    "duration": 12,
    "start_time": "2022-05-15T18:15:04.053Z"
   },
   {
    "duration": 37,
    "start_time": "2022-05-15T18:15:04.067Z"
   },
   {
    "duration": 8,
    "start_time": "2022-05-15T18:15:04.106Z"
   },
   {
    "duration": 13,
    "start_time": "2022-05-15T18:15:04.115Z"
   },
   {
    "duration": 11,
    "start_time": "2022-05-15T18:15:04.130Z"
   },
   {
    "duration": 4,
    "start_time": "2022-05-15T18:15:04.142Z"
   },
   {
    "duration": 8,
    "start_time": "2022-05-15T18:15:04.148Z"
   },
   {
    "duration": 266,
    "start_time": "2022-05-15T18:15:04.157Z"
   },
   {
    "duration": 179,
    "start_time": "2022-05-15T18:15:04.424Z"
   },
   {
    "duration": 10,
    "start_time": "2022-05-15T18:15:04.604Z"
   },
   {
    "duration": 3,
    "start_time": "2022-05-15T18:15:04.616Z"
   },
   {
    "duration": 6,
    "start_time": "2022-05-15T18:15:04.621Z"
   },
   {
    "duration": 7,
    "start_time": "2022-05-15T18:15:04.628Z"
   },
   {
    "duration": 129,
    "start_time": "2022-05-15T18:15:04.636Z"
   },
   {
    "duration": 16,
    "start_time": "2022-05-15T18:15:04.767Z"
   },
   {
    "duration": 21,
    "start_time": "2022-05-15T18:15:04.785Z"
   },
   {
    "duration": 24,
    "start_time": "2022-05-15T18:15:04.808Z"
   },
   {
    "duration": 20,
    "start_time": "2022-05-15T18:15:04.834Z"
   },
   {
    "duration": 544,
    "start_time": "2022-05-15T18:15:04.856Z"
   },
   {
    "duration": 11,
    "start_time": "2022-05-15T18:15:05.402Z"
   },
   {
    "duration": 6,
    "start_time": "2022-05-15T18:15:05.415Z"
   },
   {
    "duration": 236,
    "start_time": "2022-05-15T18:15:05.422Z"
   },
   {
    "duration": 3244,
    "start_time": "2022-05-15T18:15:05.660Z"
   },
   {
    "duration": 0,
    "start_time": "2022-05-15T18:15:08.906Z"
   },
   {
    "duration": 0,
    "start_time": "2022-05-15T18:15:08.907Z"
   },
   {
    "duration": 0,
    "start_time": "2022-05-15T18:15:08.908Z"
   },
   {
    "duration": 85,
    "start_time": "2022-05-15T18:16:24.612Z"
   },
   {
    "duration": 10,
    "start_time": "2022-05-15T18:16:27.344Z"
   },
   {
    "duration": 802,
    "start_time": "2022-05-15T18:16:43.774Z"
   },
   {
    "duration": 734,
    "start_time": "2022-05-15T18:17:44.024Z"
   },
   {
    "duration": 1727,
    "start_time": "2022-05-15T18:21:44.123Z"
   },
   {
    "duration": 839,
    "start_time": "2022-05-15T18:25:33.133Z"
   },
   {
    "duration": 776,
    "start_time": "2022-05-15T18:25:48.481Z"
   },
   {
    "duration": 689,
    "start_time": "2022-05-15T18:26:09.201Z"
   },
   {
    "duration": 751,
    "start_time": "2022-05-15T18:26:20.628Z"
   },
   {
    "duration": 8,
    "start_time": "2022-05-15T18:28:10.439Z"
   },
   {
    "duration": 17,
    "start_time": "2022-05-15T18:28:33.512Z"
   },
   {
    "duration": 18,
    "start_time": "2022-05-15T18:28:42.064Z"
   },
   {
    "duration": 18,
    "start_time": "2022-05-15T18:28:58.150Z"
   },
   {
    "duration": 6,
    "start_time": "2022-05-15T18:29:12.738Z"
   },
   {
    "duration": 64,
    "start_time": "2022-05-15T18:29:12.888Z"
   },
   {
    "duration": 4,
    "start_time": "2022-05-15T18:29:12.954Z"
   },
   {
    "duration": 57,
    "start_time": "2022-05-15T18:29:12.960Z"
   },
   {
    "duration": 4,
    "start_time": "2022-05-15T18:29:13.019Z"
   },
   {
    "duration": 6,
    "start_time": "2022-05-15T18:29:13.024Z"
   },
   {
    "duration": 7,
    "start_time": "2022-05-15T18:29:13.031Z"
   },
   {
    "duration": 6,
    "start_time": "2022-05-15T18:29:13.040Z"
   },
   {
    "duration": 9,
    "start_time": "2022-05-15T18:29:13.048Z"
   },
   {
    "duration": 7,
    "start_time": "2022-05-15T18:29:13.058Z"
   },
   {
    "duration": 44,
    "start_time": "2022-05-15T18:29:13.066Z"
   },
   {
    "duration": 3,
    "start_time": "2022-05-15T18:29:13.112Z"
   },
   {
    "duration": 15,
    "start_time": "2022-05-15T18:29:13.116Z"
   },
   {
    "duration": 8,
    "start_time": "2022-05-15T18:29:13.133Z"
   },
   {
    "duration": 7,
    "start_time": "2022-05-15T18:29:13.144Z"
   },
   {
    "duration": 6,
    "start_time": "2022-05-15T18:29:13.152Z"
   },
   {
    "duration": 11,
    "start_time": "2022-05-15T18:29:13.160Z"
   },
   {
    "duration": 12,
    "start_time": "2022-05-15T18:29:13.200Z"
   },
   {
    "duration": 11,
    "start_time": "2022-05-15T18:29:13.213Z"
   },
   {
    "duration": 7,
    "start_time": "2022-05-15T18:29:13.225Z"
   },
   {
    "duration": 14,
    "start_time": "2022-05-15T18:29:13.233Z"
   },
   {
    "duration": 16,
    "start_time": "2022-05-15T18:29:13.248Z"
   },
   {
    "duration": 6,
    "start_time": "2022-05-15T18:29:13.265Z"
   },
   {
    "duration": 15,
    "start_time": "2022-05-15T18:29:13.272Z"
   },
   {
    "duration": 226,
    "start_time": "2022-05-15T18:29:13.289Z"
   },
   {
    "duration": 173,
    "start_time": "2022-05-15T18:29:13.516Z"
   },
   {
    "duration": 15,
    "start_time": "2022-05-15T18:29:13.691Z"
   },
   {
    "duration": 4,
    "start_time": "2022-05-15T18:29:13.708Z"
   },
   {
    "duration": 7,
    "start_time": "2022-05-15T18:29:13.713Z"
   },
   {
    "duration": 6,
    "start_time": "2022-05-15T18:29:13.721Z"
   },
   {
    "duration": 118,
    "start_time": "2022-05-15T18:29:13.729Z"
   },
   {
    "duration": 16,
    "start_time": "2022-05-15T18:29:13.848Z"
   },
   {
    "duration": 8,
    "start_time": "2022-05-15T18:29:13.865Z"
   },
   {
    "duration": 35,
    "start_time": "2022-05-15T18:29:13.874Z"
   },
   {
    "duration": 19,
    "start_time": "2022-05-15T18:29:13.910Z"
   },
   {
    "duration": 527,
    "start_time": "2022-05-15T18:29:13.930Z"
   },
   {
    "duration": 11,
    "start_time": "2022-05-15T18:29:14.458Z"
   },
   {
    "duration": 5,
    "start_time": "2022-05-15T18:29:14.471Z"
   },
   {
    "duration": 237,
    "start_time": "2022-05-15T18:29:14.478Z"
   },
   {
    "duration": 160,
    "start_time": "2022-05-15T18:29:14.717Z"
   },
   {
    "duration": 13,
    "start_time": "2022-05-15T18:29:14.878Z"
   },
   {
    "duration": 833,
    "start_time": "2022-05-15T18:29:14.902Z"
   },
   {
    "duration": 16,
    "start_time": "2022-05-15T18:29:15.736Z"
   },
   {
    "duration": 17,
    "start_time": "2022-05-15T18:29:15.753Z"
   },
   {
    "duration": 24,
    "start_time": "2022-05-15T18:29:28.629Z"
   },
   {
    "duration": 20,
    "start_time": "2022-05-15T18:29:30.501Z"
   },
   {
    "duration": 511,
    "start_time": "2022-05-15T18:29:47.600Z"
   },
   {
    "duration": 21,
    "start_time": "2022-05-15T18:29:49.668Z"
   },
   {
    "duration": 6,
    "start_time": "2022-05-15T18:30:09.070Z"
   },
   {
    "duration": 64,
    "start_time": "2022-05-15T18:30:09.078Z"
   },
   {
    "duration": 3,
    "start_time": "2022-05-15T18:30:09.143Z"
   },
   {
    "duration": 66,
    "start_time": "2022-05-15T18:30:09.148Z"
   },
   {
    "duration": 4,
    "start_time": "2022-05-15T18:30:09.216Z"
   },
   {
    "duration": 9,
    "start_time": "2022-05-15T18:30:09.222Z"
   },
   {
    "duration": 19,
    "start_time": "2022-05-15T18:30:09.233Z"
   },
   {
    "duration": 7,
    "start_time": "2022-05-15T18:30:09.254Z"
   },
   {
    "duration": 9,
    "start_time": "2022-05-15T18:30:09.263Z"
   },
   {
    "duration": 17,
    "start_time": "2022-05-15T18:30:09.273Z"
   },
   {
    "duration": 14,
    "start_time": "2022-05-15T18:30:09.300Z"
   },
   {
    "duration": 3,
    "start_time": "2022-05-15T18:30:09.316Z"
   },
   {
    "duration": 14,
    "start_time": "2022-05-15T18:30:09.320Z"
   },
   {
    "duration": 8,
    "start_time": "2022-05-15T18:30:09.336Z"
   },
   {
    "duration": 8,
    "start_time": "2022-05-15T18:30:09.346Z"
   },
   {
    "duration": 5,
    "start_time": "2022-05-15T18:30:09.356Z"
   },
   {
    "duration": 42,
    "start_time": "2022-05-15T18:30:09.363Z"
   },
   {
    "duration": 12,
    "start_time": "2022-05-15T18:30:09.406Z"
   },
   {
    "duration": 7,
    "start_time": "2022-05-15T18:30:09.420Z"
   },
   {
    "duration": 6,
    "start_time": "2022-05-15T18:30:09.428Z"
   },
   {
    "duration": 12,
    "start_time": "2022-05-15T18:30:09.436Z"
   },
   {
    "duration": 10,
    "start_time": "2022-05-15T18:30:09.449Z"
   },
   {
    "duration": 3,
    "start_time": "2022-05-15T18:30:09.461Z"
   },
   {
    "duration": 38,
    "start_time": "2022-05-15T18:30:09.465Z"
   },
   {
    "duration": 228,
    "start_time": "2022-05-15T18:30:09.504Z"
   },
   {
    "duration": 186,
    "start_time": "2022-05-15T18:30:09.733Z"
   },
   {
    "duration": 11,
    "start_time": "2022-05-15T18:30:09.921Z"
   },
   {
    "duration": 4,
    "start_time": "2022-05-15T18:30:09.934Z"
   },
   {
    "duration": 10,
    "start_time": "2022-05-15T18:30:09.939Z"
   },
   {
    "duration": 6,
    "start_time": "2022-05-15T18:30:09.951Z"
   },
   {
    "duration": 121,
    "start_time": "2022-05-15T18:30:09.959Z"
   },
   {
    "duration": 23,
    "start_time": "2022-05-15T18:30:10.082Z"
   },
   {
    "duration": 7,
    "start_time": "2022-05-15T18:30:10.107Z"
   },
   {
    "duration": 21,
    "start_time": "2022-05-15T18:30:10.116Z"
   },
   {
    "duration": 21,
    "start_time": "2022-05-15T18:30:10.138Z"
   },
   {
    "duration": 525,
    "start_time": "2022-05-15T18:30:10.160Z"
   },
   {
    "duration": 16,
    "start_time": "2022-05-15T18:30:10.686Z"
   },
   {
    "duration": 6,
    "start_time": "2022-05-15T18:30:10.703Z"
   },
   {
    "duration": 238,
    "start_time": "2022-05-15T18:30:10.710Z"
   },
   {
    "duration": 97,
    "start_time": "2022-05-15T18:30:10.950Z"
   },
   {
    "duration": 14,
    "start_time": "2022-05-15T18:30:11.050Z"
   },
   {
    "duration": 835,
    "start_time": "2022-05-15T18:30:11.066Z"
   },
   {
    "duration": 11,
    "start_time": "2022-05-15T18:30:11.903Z"
   },
   {
    "duration": 14,
    "start_time": "2022-05-15T18:30:11.915Z"
   },
   {
    "duration": 22,
    "start_time": "2022-05-15T18:36:32.741Z"
   },
   {
    "duration": 17,
    "start_time": "2022-05-15T18:36:34.222Z"
   },
   {
    "duration": 461,
    "start_time": "2022-05-15T18:37:04.368Z"
   },
   {
    "duration": 20,
    "start_time": "2022-05-15T18:37:05.704Z"
   },
   {
    "duration": 2,
    "start_time": "2022-05-15T18:40:18.952Z"
   },
   {
    "duration": 9,
    "start_time": "2022-05-15T18:41:55.563Z"
   },
   {
    "duration": 1265,
    "start_time": "2022-05-15T18:42:01.523Z"
   },
   {
    "duration": 253,
    "start_time": "2022-05-15T18:43:00.381Z"
   },
   {
    "duration": 9,
    "start_time": "2022-05-15T18:43:13.415Z"
   },
   {
    "duration": 260,
    "start_time": "2022-05-15T18:43:24.747Z"
   },
   {
    "duration": 6,
    "start_time": "2022-05-15T18:44:05.059Z"
   },
   {
    "duration": 53,
    "start_time": "2022-05-15T18:44:05.067Z"
   },
   {
    "duration": 3,
    "start_time": "2022-05-15T18:44:05.121Z"
   },
   {
    "duration": 49,
    "start_time": "2022-05-15T18:44:05.126Z"
   },
   {
    "duration": 24,
    "start_time": "2022-05-15T18:44:05.177Z"
   },
   {
    "duration": 5,
    "start_time": "2022-05-15T18:44:05.202Z"
   },
   {
    "duration": 11,
    "start_time": "2022-05-15T18:44:05.208Z"
   },
   {
    "duration": 8,
    "start_time": "2022-05-15T18:44:05.220Z"
   },
   {
    "duration": 10,
    "start_time": "2022-05-15T18:44:05.229Z"
   },
   {
    "duration": 7,
    "start_time": "2022-05-15T18:44:05.240Z"
   },
   {
    "duration": 15,
    "start_time": "2022-05-15T18:44:05.248Z"
   },
   {
    "duration": 4,
    "start_time": "2022-05-15T18:44:05.264Z"
   },
   {
    "duration": 156,
    "start_time": "2022-05-15T18:44:05.269Z"
   },
   {
    "duration": 10,
    "start_time": "2022-05-15T18:44:05.429Z"
   },
   {
    "duration": 14,
    "start_time": "2022-05-15T18:44:05.441Z"
   },
   {
    "duration": 8,
    "start_time": "2022-05-15T18:44:05.457Z"
   },
   {
    "duration": 13,
    "start_time": "2022-05-15T18:44:05.467Z"
   },
   {
    "duration": 31,
    "start_time": "2022-05-15T18:44:05.482Z"
   },
   {
    "duration": 13,
    "start_time": "2022-05-15T18:44:05.515Z"
   },
   {
    "duration": 18,
    "start_time": "2022-05-15T18:44:05.530Z"
   },
   {
    "duration": 22,
    "start_time": "2022-05-15T18:44:05.550Z"
   },
   {
    "duration": 17,
    "start_time": "2022-05-15T18:44:05.574Z"
   },
   {
    "duration": 6,
    "start_time": "2022-05-15T18:44:05.592Z"
   },
   {
    "duration": 12,
    "start_time": "2022-05-15T18:44:05.599Z"
   },
   {
    "duration": 242,
    "start_time": "2022-05-15T18:44:05.612Z"
   },
   {
    "duration": 180,
    "start_time": "2022-05-15T18:44:05.855Z"
   },
   {
    "duration": 11,
    "start_time": "2022-05-15T18:44:06.036Z"
   },
   {
    "duration": 4,
    "start_time": "2022-05-15T18:44:06.048Z"
   },
   {
    "duration": 9,
    "start_time": "2022-05-15T18:44:06.053Z"
   },
   {
    "duration": 7,
    "start_time": "2022-05-15T18:44:06.063Z"
   },
   {
    "duration": 120,
    "start_time": "2022-05-15T18:44:06.072Z"
   },
   {
    "duration": 19,
    "start_time": "2022-05-15T18:44:06.194Z"
   },
   {
    "duration": 7,
    "start_time": "2022-05-15T18:44:06.215Z"
   },
   {
    "duration": 22,
    "start_time": "2022-05-15T18:44:06.223Z"
   },
   {
    "duration": 20,
    "start_time": "2022-05-15T18:44:06.246Z"
   },
   {
    "duration": 534,
    "start_time": "2022-05-15T18:44:06.268Z"
   },
   {
    "duration": 12,
    "start_time": "2022-05-15T18:44:06.804Z"
   },
   {
    "duration": 6,
    "start_time": "2022-05-15T18:44:06.817Z"
   },
   {
    "duration": 253,
    "start_time": "2022-05-15T18:44:06.825Z"
   },
   {
    "duration": 97,
    "start_time": "2022-05-15T18:44:07.080Z"
   },
   {
    "duration": 14,
    "start_time": "2022-05-15T18:44:07.181Z"
   },
   {
    "duration": 17,
    "start_time": "2022-05-15T18:44:07.201Z"
   },
   {
    "duration": 9,
    "start_time": "2022-05-15T18:44:07.220Z"
   },
   {
    "duration": 922,
    "start_time": "2022-05-15T18:44:07.231Z"
   },
   {
    "duration": 3,
    "start_time": "2022-05-15T18:44:08.155Z"
   },
   {
    "duration": 5,
    "start_time": "2022-05-15T18:44:08.160Z"
   },
   {
    "duration": 12,
    "start_time": "2022-05-15T18:45:04.125Z"
   },
   {
    "duration": 7,
    "start_time": "2022-05-15T18:45:06.468Z"
   },
   {
    "duration": 13,
    "start_time": "2022-05-15T18:45:59.629Z"
   },
   {
    "duration": 7,
    "start_time": "2022-05-15T18:46:01.136Z"
   },
   {
    "duration": 6,
    "start_time": "2022-05-15T18:47:03.877Z"
   },
   {
    "duration": 7,
    "start_time": "2022-05-15T18:47:30.265Z"
   },
   {
    "duration": 14,
    "start_time": "2022-05-15T18:47:39.418Z"
   },
   {
    "duration": 1100,
    "start_time": "2022-05-15T18:49:54.736Z"
   },
   {
    "duration": 780,
    "start_time": "2022-05-15T18:50:49.556Z"
   },
   {
    "duration": 7,
    "start_time": "2022-05-15T18:50:56.176Z"
   },
   {
    "duration": 12,
    "start_time": "2022-05-15T18:50:58.214Z"
   },
   {
    "duration": 6,
    "start_time": "2022-05-15T18:51:23.271Z"
   },
   {
    "duration": 53,
    "start_time": "2022-05-15T18:51:23.278Z"
   },
   {
    "duration": 2,
    "start_time": "2022-05-15T18:51:23.333Z"
   },
   {
    "duration": 64,
    "start_time": "2022-05-15T18:51:23.337Z"
   },
   {
    "duration": 4,
    "start_time": "2022-05-15T18:51:23.403Z"
   },
   {
    "duration": 5,
    "start_time": "2022-05-15T18:51:23.408Z"
   },
   {
    "duration": 7,
    "start_time": "2022-05-15T18:51:23.414Z"
   },
   {
    "duration": 8,
    "start_time": "2022-05-15T18:51:23.422Z"
   },
   {
    "duration": 9,
    "start_time": "2022-05-15T18:51:23.431Z"
   },
   {
    "duration": 10,
    "start_time": "2022-05-15T18:51:23.442Z"
   },
   {
    "duration": 14,
    "start_time": "2022-05-15T18:51:23.453Z"
   },
   {
    "duration": 3,
    "start_time": "2022-05-15T18:51:23.499Z"
   },
   {
    "duration": 13,
    "start_time": "2022-05-15T18:51:23.504Z"
   },
   {
    "duration": 8,
    "start_time": "2022-05-15T18:51:23.520Z"
   },
   {
    "duration": 7,
    "start_time": "2022-05-15T18:51:23.530Z"
   },
   {
    "duration": 6,
    "start_time": "2022-05-15T18:51:23.538Z"
   },
   {
    "duration": 9,
    "start_time": "2022-05-15T18:51:23.546Z"
   },
   {
    "duration": 45,
    "start_time": "2022-05-15T18:51:23.556Z"
   },
   {
    "duration": 7,
    "start_time": "2022-05-15T18:51:23.602Z"
   },
   {
    "duration": 6,
    "start_time": "2022-05-15T18:51:23.611Z"
   },
   {
    "duration": 13,
    "start_time": "2022-05-15T18:51:23.619Z"
   },
   {
    "duration": 9,
    "start_time": "2022-05-15T18:51:23.634Z"
   },
   {
    "duration": 3,
    "start_time": "2022-05-15T18:51:23.645Z"
   },
   {
    "duration": 11,
    "start_time": "2022-05-15T18:51:23.650Z"
   },
   {
    "duration": 260,
    "start_time": "2022-05-15T18:51:23.662Z"
   },
   {
    "duration": 262,
    "start_time": "2022-05-15T18:51:23.923Z"
   },
   {
    "duration": 16,
    "start_time": "2022-05-15T18:51:24.186Z"
   },
   {
    "duration": 3,
    "start_time": "2022-05-15T18:51:24.204Z"
   },
   {
    "duration": 9,
    "start_time": "2022-05-15T18:51:24.209Z"
   },
   {
    "duration": 14,
    "start_time": "2022-05-15T18:51:24.219Z"
   },
   {
    "duration": 113,
    "start_time": "2022-05-15T18:51:24.235Z"
   },
   {
    "duration": 16,
    "start_time": "2022-05-15T18:51:24.349Z"
   },
   {
    "duration": 8,
    "start_time": "2022-05-15T18:51:24.367Z"
   },
   {
    "duration": 35,
    "start_time": "2022-05-15T18:51:24.377Z"
   },
   {
    "duration": 20,
    "start_time": "2022-05-15T18:51:24.414Z"
   },
   {
    "duration": 573,
    "start_time": "2022-05-15T18:51:24.436Z"
   },
   {
    "duration": 12,
    "start_time": "2022-05-15T18:51:25.010Z"
   },
   {
    "duration": 6,
    "start_time": "2022-05-15T18:51:25.024Z"
   },
   {
    "duration": 245,
    "start_time": "2022-05-15T18:51:25.031Z"
   },
   {
    "duration": 94,
    "start_time": "2022-05-15T18:51:25.278Z"
   },
   {
    "duration": 14,
    "start_time": "2022-05-15T18:51:25.375Z"
   },
   {
    "duration": 16,
    "start_time": "2022-05-15T18:51:25.400Z"
   },
   {
    "duration": 6,
    "start_time": "2022-05-15T18:51:25.417Z"
   },
   {
    "duration": 1040,
    "start_time": "2022-05-15T18:51:25.424Z"
   },
   {
    "duration": 7,
    "start_time": "2022-05-15T18:51:26.465Z"
   },
   {
    "duration": 12,
    "start_time": "2022-05-15T18:51:26.474Z"
   },
   {
    "duration": 243,
    "start_time": "2022-05-15T19:46:47.908Z"
   },
   {
    "duration": 200,
    "start_time": "2022-05-15T19:51:00.588Z"
   },
   {
    "duration": 189,
    "start_time": "2022-05-15T19:51:13.197Z"
   },
   {
    "duration": 15,
    "start_time": "2022-05-15T19:51:20.961Z"
   },
   {
    "duration": 5,
    "start_time": "2022-05-15T19:51:35.403Z"
   },
   {
    "duration": 22,
    "start_time": "2022-05-15T19:51:42.539Z"
   },
   {
    "duration": 8,
    "start_time": "2022-05-15T19:51:43.812Z"
   },
   {
    "duration": 6,
    "start_time": "2022-05-15T19:55:16.489Z"
   },
   {
    "duration": 9,
    "start_time": "2022-05-15T19:55:17.864Z"
   },
   {
    "duration": 11,
    "start_time": "2022-05-15T19:55:37.914Z"
   },
   {
    "duration": 10,
    "start_time": "2022-05-15T19:56:40.136Z"
   },
   {
    "duration": 11,
    "start_time": "2022-05-15T19:56:52.463Z"
   },
   {
    "duration": 9,
    "start_time": "2022-05-15T20:05:54.218Z"
   },
   {
    "duration": 11,
    "start_time": "2022-05-15T20:05:55.659Z"
   },
   {
    "duration": 9,
    "start_time": "2022-05-15T20:06:45.413Z"
   },
   {
    "duration": 10,
    "start_time": "2022-05-15T20:06:46.019Z"
   },
   {
    "duration": 2,
    "start_time": "2022-05-15T20:14:16.503Z"
   },
   {
    "duration": 18,
    "start_time": "2022-05-15T20:15:31.666Z"
   },
   {
    "duration": 375,
    "start_time": "2022-05-15T20:17:29.726Z"
   },
   {
    "duration": 483,
    "start_time": "2022-05-15T20:17:55.272Z"
   },
   {
    "duration": 169,
    "start_time": "2022-05-15T20:21:11.049Z"
   },
   {
    "duration": 158,
    "start_time": "2022-05-15T20:23:02.428Z"
   },
   {
    "duration": 212,
    "start_time": "2022-05-15T20:23:08.603Z"
   },
   {
    "duration": 290,
    "start_time": "2022-05-15T20:24:20.990Z"
   },
   {
    "duration": 307,
    "start_time": "2022-05-15T20:25:53.163Z"
   },
   {
    "duration": 246,
    "start_time": "2022-05-15T20:26:14.270Z"
   },
   {
    "duration": 1325,
    "start_time": "2022-05-15T20:26:31.079Z"
   },
   {
    "duration": 478,
    "start_time": "2022-05-15T20:26:43.435Z"
   },
   {
    "duration": 493,
    "start_time": "2022-05-15T20:30:10.495Z"
   },
   {
    "duration": 287,
    "start_time": "2022-05-15T20:30:16.869Z"
   },
   {
    "duration": 462,
    "start_time": "2022-05-15T20:32:26.986Z"
   },
   {
    "duration": 267,
    "start_time": "2022-05-15T21:13:57.824Z"
   },
   {
    "duration": 365,
    "start_time": "2022-05-15T21:14:29.538Z"
   },
   {
    "duration": 9,
    "start_time": "2022-05-16T06:39:35.362Z"
   },
   {
    "duration": 15,
    "start_time": "2022-05-16T06:40:22.615Z"
   },
   {
    "duration": 9,
    "start_time": "2022-05-16T06:42:42.256Z"
   },
   {
    "duration": 13,
    "start_time": "2022-05-16T06:42:58.621Z"
   },
   {
    "duration": 13,
    "start_time": "2022-05-16T06:43:36.784Z"
   },
   {
    "duration": 100,
    "start_time": "2022-05-16T07:04:48.623Z"
   },
   {
    "duration": 35,
    "start_time": "2022-05-16T07:05:00.705Z"
   },
   {
    "duration": 26,
    "start_time": "2022-05-16T07:08:55.442Z"
   },
   {
    "duration": 6,
    "start_time": "2022-05-16T07:10:54.284Z"
   },
   {
    "duration": 528,
    "start_time": "2022-05-16T07:12:03.576Z"
   },
   {
    "duration": 8,
    "start_time": "2022-05-16T07:12:30.711Z"
   },
   {
    "duration": 634,
    "start_time": "2022-05-16T07:12:32.184Z"
   },
   {
    "duration": 4,
    "start_time": "2022-05-16T07:13:12.456Z"
   },
   {
    "duration": 70,
    "start_time": "2022-05-16T07:13:12.483Z"
   },
   {
    "duration": 3,
    "start_time": "2022-05-16T07:13:12.555Z"
   },
   {
    "duration": 84,
    "start_time": "2022-05-16T07:13:12.560Z"
   },
   {
    "duration": 4,
    "start_time": "2022-05-16T07:13:12.646Z"
   },
   {
    "duration": 18,
    "start_time": "2022-05-16T07:13:12.652Z"
   },
   {
    "duration": 20,
    "start_time": "2022-05-16T07:13:12.671Z"
   },
   {
    "duration": 42,
    "start_time": "2022-05-16T07:13:12.692Z"
   },
   {
    "duration": 25,
    "start_time": "2022-05-16T07:13:12.736Z"
   },
   {
    "duration": 26,
    "start_time": "2022-05-16T07:13:12.763Z"
   },
   {
    "duration": 27,
    "start_time": "2022-05-16T07:13:12.790Z"
   },
   {
    "duration": 12,
    "start_time": "2022-05-16T07:13:12.819Z"
   },
   {
    "duration": 25,
    "start_time": "2022-05-16T07:13:12.832Z"
   },
   {
    "duration": 23,
    "start_time": "2022-05-16T07:13:12.859Z"
   },
   {
    "duration": 18,
    "start_time": "2022-05-16T07:13:12.885Z"
   },
   {
    "duration": 15,
    "start_time": "2022-05-16T07:13:12.905Z"
   },
   {
    "duration": 25,
    "start_time": "2022-05-16T07:13:12.922Z"
   },
   {
    "duration": 13,
    "start_time": "2022-05-16T07:13:12.949Z"
   },
   {
    "duration": 18,
    "start_time": "2022-05-16T07:13:12.964Z"
   },
   {
    "duration": 37,
    "start_time": "2022-05-16T07:13:12.984Z"
   },
   {
    "duration": 18,
    "start_time": "2022-05-16T07:13:13.023Z"
   },
   {
    "duration": 26,
    "start_time": "2022-05-16T07:13:13.043Z"
   },
   {
    "duration": 26,
    "start_time": "2022-05-16T07:13:13.070Z"
   },
   {
    "duration": 26,
    "start_time": "2022-05-16T07:13:13.098Z"
   },
   {
    "duration": 274,
    "start_time": "2022-05-16T07:13:13.126Z"
   },
   {
    "duration": 221,
    "start_time": "2022-05-16T07:13:13.402Z"
   },
   {
    "duration": 15,
    "start_time": "2022-05-16T07:13:13.625Z"
   },
   {
    "duration": 44,
    "start_time": "2022-05-16T07:13:13.642Z"
   },
   {
    "duration": 25,
    "start_time": "2022-05-16T07:13:13.688Z"
   },
   {
    "duration": 19,
    "start_time": "2022-05-16T07:13:13.716Z"
   },
   {
    "duration": 126,
    "start_time": "2022-05-16T07:13:13.737Z"
   },
   {
    "duration": 15,
    "start_time": "2022-05-16T07:13:13.865Z"
   },
   {
    "duration": 19,
    "start_time": "2022-05-16T07:13:13.882Z"
   },
   {
    "duration": 42,
    "start_time": "2022-05-16T07:13:13.903Z"
   },
   {
    "duration": 37,
    "start_time": "2022-05-16T07:13:13.946Z"
   },
   {
    "duration": 522,
    "start_time": "2022-05-16T07:13:13.985Z"
   },
   {
    "duration": 7,
    "start_time": "2022-05-16T07:13:14.509Z"
   },
   {
    "duration": 758,
    "start_time": "2022-05-16T07:13:14.518Z"
   },
   {
    "duration": 11,
    "start_time": "2022-05-16T07:13:15.278Z"
   },
   {
    "duration": 28,
    "start_time": "2022-05-16T07:13:15.290Z"
   },
   {
    "duration": 229,
    "start_time": "2022-05-16T07:13:15.319Z"
   },
   {
    "duration": 100,
    "start_time": "2022-05-16T07:13:15.552Z"
   },
   {
    "duration": 14,
    "start_time": "2022-05-16T07:13:15.653Z"
   },
   {
    "duration": 33,
    "start_time": "2022-05-16T07:13:15.669Z"
   },
   {
    "duration": 7,
    "start_time": "2022-05-16T07:13:15.703Z"
   },
   {
    "duration": 265,
    "start_time": "2022-05-16T07:13:15.711Z"
   },
   {
    "duration": 1090,
    "start_time": "2022-05-16T07:13:15.977Z"
   },
   {
    "duration": 6,
    "start_time": "2022-05-16T07:13:17.069Z"
   },
   {
    "duration": 11,
    "start_time": "2022-05-16T07:13:17.077Z"
   },
   {
    "duration": 17,
    "start_time": "2022-05-16T07:13:17.090Z"
   },
   {
    "duration": 10,
    "start_time": "2022-05-16T07:13:17.109Z"
   },
   {
    "duration": 13,
    "start_time": "2022-05-16T07:13:17.121Z"
   },
   {
    "duration": 11,
    "start_time": "2022-05-16T07:13:17.135Z"
   },
   {
    "duration": 6,
    "start_time": "2022-05-16T07:13:17.148Z"
   },
   {
    "duration": 23,
    "start_time": "2022-05-16T07:13:17.156Z"
   },
   {
    "duration": 916,
    "start_time": "2022-05-16T07:13:17.201Z"
   },
   {
    "duration": 202,
    "start_time": "2022-05-16T07:14:40.626Z"
   },
   {
    "duration": 7,
    "start_time": "2022-05-16T07:14:47.428Z"
   },
   {
    "duration": 6,
    "start_time": "2022-05-16T07:14:58.744Z"
   },
   {
    "duration": 13,
    "start_time": "2022-05-16T07:15:54.693Z"
   },
   {
    "duration": 10,
    "start_time": "2022-05-16T07:16:38.816Z"
   },
   {
    "duration": 15,
    "start_time": "2022-05-16T07:17:21.128Z"
   },
   {
    "duration": 34,
    "start_time": "2022-05-16T07:31:26.974Z"
   },
   {
    "duration": 34,
    "start_time": "2022-05-16T07:31:42.624Z"
   },
   {
    "duration": 25,
    "start_time": "2022-05-16T07:32:14.710Z"
   },
   {
    "duration": 14,
    "start_time": "2022-05-16T07:32:16.488Z"
   },
   {
    "duration": 538,
    "start_time": "2022-05-16T07:32:40.054Z"
   },
   {
    "duration": 22,
    "start_time": "2022-05-16T07:32:59.653Z"
   },
   {
    "duration": 15,
    "start_time": "2022-05-16T07:33:00.854Z"
   },
   {
    "duration": 889,
    "start_time": "2022-05-16T07:33:02.211Z"
   },
   {
    "duration": 218,
    "start_time": "2022-05-16T07:41:24.675Z"
   },
   {
    "duration": 24,
    "start_time": "2022-05-16T07:47:53.687Z"
   },
   {
    "duration": 13,
    "start_time": "2022-05-16T07:47:55.915Z"
   },
   {
    "duration": 92,
    "start_time": "2022-05-16T07:50:00.266Z"
   },
   {
    "duration": 72,
    "start_time": "2022-05-16T11:13:33.494Z"
   },
   {
    "duration": 1831,
    "start_time": "2022-05-16T11:13:42.912Z"
   },
   {
    "duration": 59,
    "start_time": "2022-05-16T11:13:44.746Z"
   },
   {
    "duration": 3,
    "start_time": "2022-05-16T11:13:44.807Z"
   },
   {
    "duration": 80,
    "start_time": "2022-05-16T11:13:44.812Z"
   },
   {
    "duration": 6,
    "start_time": "2022-05-16T11:13:44.896Z"
   },
   {
    "duration": 22,
    "start_time": "2022-05-16T11:13:44.904Z"
   },
   {
    "duration": 18,
    "start_time": "2022-05-16T11:13:44.928Z"
   },
   {
    "duration": 31,
    "start_time": "2022-05-16T11:13:44.948Z"
   },
   {
    "duration": 30,
    "start_time": "2022-05-16T11:13:44.980Z"
   },
   {
    "duration": 56,
    "start_time": "2022-05-16T11:13:45.012Z"
   },
   {
    "duration": 44,
    "start_time": "2022-05-16T11:13:45.070Z"
   },
   {
    "duration": 4,
    "start_time": "2022-05-16T11:13:45.117Z"
   },
   {
    "duration": 38,
    "start_time": "2022-05-16T11:13:45.124Z"
   },
   {
    "duration": 10,
    "start_time": "2022-05-16T11:13:45.166Z"
   },
   {
    "duration": 34,
    "start_time": "2022-05-16T11:13:45.178Z"
   },
   {
    "duration": 20,
    "start_time": "2022-05-16T11:13:45.214Z"
   },
   {
    "duration": 25,
    "start_time": "2022-05-16T11:13:45.235Z"
   },
   {
    "duration": 34,
    "start_time": "2022-05-16T11:13:45.262Z"
   },
   {
    "duration": 26,
    "start_time": "2022-05-16T11:13:45.298Z"
   },
   {
    "duration": 28,
    "start_time": "2022-05-16T11:13:45.326Z"
   },
   {
    "duration": 34,
    "start_time": "2022-05-16T11:13:45.356Z"
   },
   {
    "duration": 26,
    "start_time": "2022-05-16T11:13:45.392Z"
   },
   {
    "duration": 14,
    "start_time": "2022-05-16T11:13:45.419Z"
   },
   {
    "duration": 49,
    "start_time": "2022-05-16T11:13:45.435Z"
   },
   {
    "duration": 387,
    "start_time": "2022-05-16T11:13:45.486Z"
   },
   {
    "duration": 284,
    "start_time": "2022-05-16T11:13:45.876Z"
   },
   {
    "duration": 16,
    "start_time": "2022-05-16T11:13:46.162Z"
   },
   {
    "duration": 22,
    "start_time": "2022-05-16T11:13:46.179Z"
   },
   {
    "duration": 23,
    "start_time": "2022-05-16T11:13:46.204Z"
   },
   {
    "duration": 37,
    "start_time": "2022-05-16T11:13:46.229Z"
   },
   {
    "duration": 129,
    "start_time": "2022-05-16T11:13:46.268Z"
   },
   {
    "duration": 17,
    "start_time": "2022-05-16T11:13:46.399Z"
   },
   {
    "duration": 17,
    "start_time": "2022-05-16T11:13:46.417Z"
   },
   {
    "duration": 48,
    "start_time": "2022-05-16T11:13:46.436Z"
   },
   {
    "duration": 38,
    "start_time": "2022-05-16T11:13:46.486Z"
   },
   {
    "duration": 45,
    "start_time": "2022-05-16T11:13:46.527Z"
   },
   {
    "duration": 631,
    "start_time": "2022-05-16T11:13:46.573Z"
   },
   {
    "duration": 14,
    "start_time": "2022-05-16T11:13:47.206Z"
   },
   {
    "duration": 21,
    "start_time": "2022-05-16T11:13:47.222Z"
   },
   {
    "duration": 274,
    "start_time": "2022-05-16T11:13:47.244Z"
   },
   {
    "duration": 205,
    "start_time": "2022-05-16T11:13:47.523Z"
   },
   {
    "duration": 20,
    "start_time": "2022-05-16T11:13:47.729Z"
   },
   {
    "duration": 24,
    "start_time": "2022-05-16T11:13:47.751Z"
   },
   {
    "duration": 7,
    "start_time": "2022-05-16T11:13:47.777Z"
   },
   {
    "duration": 405,
    "start_time": "2022-05-16T11:13:47.786Z"
   },
   {
    "duration": 1274,
    "start_time": "2022-05-16T11:13:48.193Z"
   },
   {
    "duration": 7,
    "start_time": "2022-05-16T11:13:49.469Z"
   },
   {
    "duration": 16,
    "start_time": "2022-05-16T11:13:49.477Z"
   },
   {
    "duration": 19,
    "start_time": "2022-05-16T11:13:49.495Z"
   },
   {
    "duration": 9,
    "start_time": "2022-05-16T11:13:49.515Z"
   },
   {
    "duration": 10,
    "start_time": "2022-05-16T11:13:49.542Z"
   },
   {
    "duration": 10,
    "start_time": "2022-05-16T11:13:49.554Z"
   },
   {
    "duration": 5,
    "start_time": "2022-05-16T11:13:49.566Z"
   },
   {
    "duration": 26,
    "start_time": "2022-05-16T11:13:49.573Z"
   },
   {
    "duration": 664,
    "start_time": "2022-05-16T11:13:49.601Z"
   },
   {
    "duration": 458,
    "start_time": "2022-05-16T11:17:20.662Z"
   },
   {
    "duration": 377,
    "start_time": "2022-05-16T11:17:46.901Z"
   },
   {
    "duration": 451,
    "start_time": "2022-05-16T11:22:05.747Z"
   },
   {
    "duration": 513,
    "start_time": "2022-05-16T11:22:24.211Z"
   },
   {
    "duration": 535,
    "start_time": "2022-05-16T11:25:59.399Z"
   },
   {
    "duration": 302,
    "start_time": "2022-05-16T11:26:24.475Z"
   },
   {
    "duration": 682,
    "start_time": "2022-05-16T12:12:15.060Z"
   },
   {
    "duration": 6,
    "start_time": "2022-05-16T12:16:13.845Z"
   },
   {
    "duration": 98,
    "start_time": "2022-05-16T12:16:13.853Z"
   },
   {
    "duration": 3,
    "start_time": "2022-05-16T12:16:13.953Z"
   },
   {
    "duration": 89,
    "start_time": "2022-05-16T12:16:13.958Z"
   },
   {
    "duration": 5,
    "start_time": "2022-05-16T12:16:14.050Z"
   },
   {
    "duration": 22,
    "start_time": "2022-05-16T12:16:14.057Z"
   },
   {
    "duration": 17,
    "start_time": "2022-05-16T12:16:14.081Z"
   },
   {
    "duration": 20,
    "start_time": "2022-05-16T12:16:14.099Z"
   },
   {
    "duration": 17,
    "start_time": "2022-05-16T12:16:14.120Z"
   },
   {
    "duration": 34,
    "start_time": "2022-05-16T12:16:14.139Z"
   },
   {
    "duration": 30,
    "start_time": "2022-05-16T12:16:14.175Z"
   },
   {
    "duration": 4,
    "start_time": "2022-05-16T12:16:14.207Z"
   },
   {
    "duration": 22,
    "start_time": "2022-05-16T12:16:14.213Z"
   },
   {
    "duration": 9,
    "start_time": "2022-05-16T12:16:14.240Z"
   },
   {
    "duration": 12,
    "start_time": "2022-05-16T12:16:14.251Z"
   },
   {
    "duration": 22,
    "start_time": "2022-05-16T12:16:14.265Z"
   },
   {
    "duration": 20,
    "start_time": "2022-05-16T12:16:14.289Z"
   },
   {
    "duration": 17,
    "start_time": "2022-05-16T12:16:14.311Z"
   },
   {
    "duration": 33,
    "start_time": "2022-05-16T12:16:14.329Z"
   },
   {
    "duration": 16,
    "start_time": "2022-05-16T12:16:14.364Z"
   },
   {
    "duration": 23,
    "start_time": "2022-05-16T12:16:14.381Z"
   },
   {
    "duration": 18,
    "start_time": "2022-05-16T12:16:14.405Z"
   },
   {
    "duration": 22,
    "start_time": "2022-05-16T12:16:14.425Z"
   },
   {
    "duration": 25,
    "start_time": "2022-05-16T12:16:14.448Z"
   },
   {
    "duration": 253,
    "start_time": "2022-05-16T12:16:14.475Z"
   },
   {
    "duration": 179,
    "start_time": "2022-05-16T12:16:14.730Z"
   },
   {
    "duration": 11,
    "start_time": "2022-05-16T12:16:14.911Z"
   },
   {
    "duration": 4,
    "start_time": "2022-05-16T12:16:14.923Z"
   },
   {
    "duration": 8,
    "start_time": "2022-05-16T12:16:14.942Z"
   },
   {
    "duration": 8,
    "start_time": "2022-05-16T12:16:14.953Z"
   },
   {
    "duration": 135,
    "start_time": "2022-05-16T12:16:14.963Z"
   },
   {
    "duration": 17,
    "start_time": "2022-05-16T12:16:15.100Z"
   },
   {
    "duration": 8,
    "start_time": "2022-05-16T12:16:15.118Z"
   },
   {
    "duration": 21,
    "start_time": "2022-05-16T12:16:15.144Z"
   },
   {
    "duration": 24,
    "start_time": "2022-05-16T12:16:15.167Z"
   },
   {
    "duration": 12,
    "start_time": "2022-05-16T12:16:15.193Z"
   },
   {
    "duration": 602,
    "start_time": "2022-05-16T12:16:15.207Z"
   },
   {
    "duration": 13,
    "start_time": "2022-05-16T12:16:15.810Z"
   },
   {
    "duration": 6,
    "start_time": "2022-05-16T12:16:15.824Z"
   },
   {
    "duration": 367,
    "start_time": "2022-05-16T12:16:15.843Z"
   },
   {
    "duration": 97,
    "start_time": "2022-05-16T12:16:16.214Z"
   },
   {
    "duration": 15,
    "start_time": "2022-05-16T12:16:16.313Z"
   },
   {
    "duration": 29,
    "start_time": "2022-05-16T12:16:16.330Z"
   },
   {
    "duration": 7,
    "start_time": "2022-05-16T12:16:16.361Z"
   },
   {
    "duration": 296,
    "start_time": "2022-05-16T12:16:16.371Z"
   },
   {
    "duration": 971,
    "start_time": "2022-05-16T12:16:16.670Z"
   },
   {
    "duration": 8,
    "start_time": "2022-05-16T12:16:17.644Z"
   },
   {
    "duration": 16,
    "start_time": "2022-05-16T12:16:17.653Z"
   },
   {
    "duration": 23,
    "start_time": "2022-05-16T12:16:17.671Z"
   },
   {
    "duration": 11,
    "start_time": "2022-05-16T12:16:17.696Z"
   },
   {
    "duration": 34,
    "start_time": "2022-05-16T12:16:17.709Z"
   },
   {
    "duration": 14,
    "start_time": "2022-05-16T12:16:17.745Z"
   },
   {
    "duration": 12,
    "start_time": "2022-05-16T12:16:17.760Z"
   },
   {
    "duration": 19,
    "start_time": "2022-05-16T12:16:17.773Z"
   },
   {
    "duration": 520,
    "start_time": "2022-05-16T12:16:17.793Z"
   },
   {
    "duration": 618,
    "start_time": "2022-05-16T12:16:18.315Z"
   },
   {
    "duration": 167,
    "start_time": "2022-05-16T12:16:49.315Z"
   },
   {
    "duration": 187,
    "start_time": "2022-05-16T12:17:15.421Z"
   },
   {
    "duration": 183,
    "start_time": "2022-05-16T12:17:32.967Z"
   },
   {
    "duration": 245,
    "start_time": "2022-05-16T12:17:47.249Z"
   },
   {
    "duration": 211,
    "start_time": "2022-05-16T12:17:55.765Z"
   },
   {
    "duration": 227,
    "start_time": "2022-05-16T12:18:08.357Z"
   },
   {
    "duration": 250,
    "start_time": "2022-05-16T12:18:30.431Z"
   },
   {
    "duration": 252,
    "start_time": "2022-05-16T12:18:42.882Z"
   },
   {
    "duration": 264,
    "start_time": "2022-05-16T12:19:02.715Z"
   },
   {
    "duration": 288,
    "start_time": "2022-05-16T12:20:02.515Z"
   },
   {
    "duration": 405,
    "start_time": "2022-05-16T12:20:12.437Z"
   },
   {
    "duration": 5,
    "start_time": "2022-05-16T15:37:34.447Z"
   },
   {
    "duration": 4,
    "start_time": "2022-05-16T15:41:07.628Z"
   },
   {
    "duration": 10,
    "start_time": "2022-05-16T15:41:18.388Z"
   },
   {
    "duration": 11,
    "start_time": "2022-05-16T15:42:34.163Z"
   },
   {
    "duration": 73,
    "start_time": "2022-05-16T15:43:25.469Z"
   },
   {
    "duration": 9,
    "start_time": "2022-05-16T15:43:33.265Z"
   },
   {
    "duration": 7,
    "start_time": "2022-05-16T15:43:39.029Z"
   },
   {
    "duration": 7,
    "start_time": "2022-05-16T15:44:18.546Z"
   },
   {
    "duration": 516,
    "start_time": "2022-05-16T20:19:47.696Z"
   },
   {
    "duration": 1353,
    "start_time": "2022-05-18T06:29:27.184Z"
   },
   {
    "duration": 327,
    "start_time": "2022-05-18T06:29:28.539Z"
   },
   {
    "duration": 4,
    "start_time": "2022-05-18T06:29:28.867Z"
   },
   {
    "duration": 62,
    "start_time": "2022-05-18T06:29:28.872Z"
   },
   {
    "duration": 4,
    "start_time": "2022-05-18T06:29:28.935Z"
   },
   {
    "duration": 6,
    "start_time": "2022-05-18T06:29:28.941Z"
   },
   {
    "duration": 7,
    "start_time": "2022-05-18T06:29:28.948Z"
   },
   {
    "duration": 7,
    "start_time": "2022-05-18T06:29:28.957Z"
   },
   {
    "duration": 12,
    "start_time": "2022-05-18T06:29:28.965Z"
   },
   {
    "duration": 9,
    "start_time": "2022-05-18T06:29:28.980Z"
   },
   {
    "duration": 42,
    "start_time": "2022-05-18T06:29:28.990Z"
   },
   {
    "duration": 3,
    "start_time": "2022-05-18T06:29:29.033Z"
   },
   {
    "duration": 15,
    "start_time": "2022-05-18T06:29:29.038Z"
   },
   {
    "duration": 8,
    "start_time": "2022-05-18T06:29:29.055Z"
   },
   {
    "duration": 7,
    "start_time": "2022-05-18T06:29:29.065Z"
   },
   {
    "duration": 5,
    "start_time": "2022-05-18T06:29:29.074Z"
   },
   {
    "duration": 11,
    "start_time": "2022-05-18T06:29:29.080Z"
   },
   {
    "duration": 45,
    "start_time": "2022-05-18T06:29:29.092Z"
   },
   {
    "duration": 8,
    "start_time": "2022-05-18T06:29:29.138Z"
   },
   {
    "duration": 7,
    "start_time": "2022-05-18T06:29:29.147Z"
   },
   {
    "duration": 13,
    "start_time": "2022-05-18T06:29:29.155Z"
   },
   {
    "duration": 12,
    "start_time": "2022-05-18T06:29:29.169Z"
   },
   {
    "duration": 5,
    "start_time": "2022-05-18T06:29:29.182Z"
   },
   {
    "duration": 43,
    "start_time": "2022-05-18T06:29:29.188Z"
   },
   {
    "duration": 271,
    "start_time": "2022-05-18T06:29:29.233Z"
   },
   {
    "duration": 222,
    "start_time": "2022-05-18T06:29:29.506Z"
   },
   {
    "duration": 11,
    "start_time": "2022-05-18T06:29:29.730Z"
   },
   {
    "duration": 4,
    "start_time": "2022-05-18T06:29:29.744Z"
   },
   {
    "duration": 8,
    "start_time": "2022-05-18T06:29:29.750Z"
   },
   {
    "duration": 7,
    "start_time": "2022-05-18T06:29:29.759Z"
   },
   {
    "duration": 150,
    "start_time": "2022-05-18T06:29:29.768Z"
   },
   {
    "duration": 20,
    "start_time": "2022-05-18T06:29:29.919Z"
   },
   {
    "duration": 9,
    "start_time": "2022-05-18T06:29:29.941Z"
   },
   {
    "duration": 26,
    "start_time": "2022-05-18T06:29:29.952Z"
   },
   {
    "duration": 23,
    "start_time": "2022-05-18T06:29:29.979Z"
   },
   {
    "duration": 36,
    "start_time": "2022-05-18T06:29:30.003Z"
   },
   {
    "duration": 642,
    "start_time": "2022-05-18T06:29:30.041Z"
   },
   {
    "duration": 11,
    "start_time": "2022-05-18T06:29:30.685Z"
   },
   {
    "duration": 6,
    "start_time": "2022-05-18T06:29:30.698Z"
   },
   {
    "duration": 275,
    "start_time": "2022-05-18T06:29:30.706Z"
   },
   {
    "duration": 98,
    "start_time": "2022-05-18T06:29:30.983Z"
   },
   {
    "duration": 14,
    "start_time": "2022-05-18T06:29:31.083Z"
   },
   {
    "duration": 32,
    "start_time": "2022-05-18T06:29:31.099Z"
   },
   {
    "duration": 6,
    "start_time": "2022-05-18T06:29:31.133Z"
   },
   {
    "duration": 287,
    "start_time": "2022-05-18T06:29:31.140Z"
   },
   {
    "duration": 1258,
    "start_time": "2022-05-18T06:29:31.428Z"
   },
   {
    "duration": 6,
    "start_time": "2022-05-18T06:29:32.688Z"
   },
   {
    "duration": 14,
    "start_time": "2022-05-18T06:29:32.695Z"
   },
   {
    "duration": 17,
    "start_time": "2022-05-18T06:29:32.711Z"
   },
   {
    "duration": 9,
    "start_time": "2022-05-18T06:29:32.730Z"
   },
   {
    "duration": 11,
    "start_time": "2022-05-18T06:29:32.740Z"
   },
   {
    "duration": 14,
    "start_time": "2022-05-18T06:29:32.753Z"
   },
   {
    "duration": 3,
    "start_time": "2022-05-18T06:29:32.769Z"
   },
   {
    "duration": 20,
    "start_time": "2022-05-18T06:29:32.774Z"
   },
   {
    "duration": 611,
    "start_time": "2022-05-18T06:29:32.796Z"
   },
   {
    "duration": 293,
    "start_time": "2022-05-18T06:29:33.409Z"
   },
   {
    "duration": 75,
    "start_time": "2022-05-18T06:58:32.270Z"
   },
   {
    "duration": 1513,
    "start_time": "2022-05-18T06:58:38.482Z"
   },
   {
    "duration": 350,
    "start_time": "2022-05-18T06:58:40.000Z"
   },
   {
    "duration": 3,
    "start_time": "2022-05-18T06:58:40.352Z"
   },
   {
    "duration": 79,
    "start_time": "2022-05-18T06:58:40.357Z"
   },
   {
    "duration": 4,
    "start_time": "2022-05-18T06:58:40.438Z"
   },
   {
    "duration": 15,
    "start_time": "2022-05-18T06:58:40.444Z"
   },
   {
    "duration": 22,
    "start_time": "2022-05-18T06:58:40.460Z"
   },
   {
    "duration": 25,
    "start_time": "2022-05-18T06:58:40.485Z"
   },
   {
    "duration": 28,
    "start_time": "2022-05-18T06:58:40.512Z"
   },
   {
    "duration": 30,
    "start_time": "2022-05-18T06:58:40.543Z"
   },
   {
    "duration": 39,
    "start_time": "2022-05-18T06:58:40.575Z"
   },
   {
    "duration": 4,
    "start_time": "2022-05-18T06:58:40.622Z"
   },
   {
    "duration": 21,
    "start_time": "2022-05-18T06:58:40.629Z"
   },
   {
    "duration": 21,
    "start_time": "2022-05-18T06:58:40.652Z"
   },
   {
    "duration": 33,
    "start_time": "2022-05-18T06:58:40.675Z"
   },
   {
    "duration": 16,
    "start_time": "2022-05-18T06:58:40.711Z"
   },
   {
    "duration": 19,
    "start_time": "2022-05-18T06:58:40.728Z"
   },
   {
    "duration": 33,
    "start_time": "2022-05-18T06:58:40.748Z"
   },
   {
    "duration": 25,
    "start_time": "2022-05-18T06:58:40.783Z"
   },
   {
    "duration": 16,
    "start_time": "2022-05-18T06:58:40.810Z"
   },
   {
    "duration": 30,
    "start_time": "2022-05-18T06:58:40.827Z"
   },
   {
    "duration": 10,
    "start_time": "2022-05-18T06:58:40.859Z"
   },
   {
    "duration": 8,
    "start_time": "2022-05-18T06:58:40.871Z"
   },
   {
    "duration": 31,
    "start_time": "2022-05-18T06:58:40.881Z"
   },
   {
    "duration": 302,
    "start_time": "2022-05-18T06:58:40.914Z"
   },
   {
    "duration": 223,
    "start_time": "2022-05-18T06:58:41.218Z"
   },
   {
    "duration": 12,
    "start_time": "2022-05-18T06:58:41.443Z"
   },
   {
    "duration": 12,
    "start_time": "2022-05-18T06:58:41.459Z"
   },
   {
    "duration": 32,
    "start_time": "2022-05-18T06:58:41.472Z"
   },
   {
    "duration": 13,
    "start_time": "2022-05-18T06:58:41.506Z"
   },
   {
    "duration": 146,
    "start_time": "2022-05-18T06:58:41.521Z"
   },
   {
    "duration": 36,
    "start_time": "2022-05-18T06:58:41.669Z"
   },
   {
    "duration": 10,
    "start_time": "2022-05-18T06:58:41.707Z"
   },
   {
    "duration": 30,
    "start_time": "2022-05-18T06:58:41.719Z"
   },
   {
    "duration": 49,
    "start_time": "2022-05-18T06:58:41.751Z"
   },
   {
    "duration": 14,
    "start_time": "2022-05-18T06:58:41.802Z"
   },
   {
    "duration": 664,
    "start_time": "2022-05-18T06:58:41.818Z"
   },
   {
    "duration": 24,
    "start_time": "2022-05-18T06:58:42.485Z"
   },
   {
    "duration": 8,
    "start_time": "2022-05-18T06:58:42.511Z"
   },
   {
    "duration": 302,
    "start_time": "2022-05-18T06:58:42.521Z"
   },
   {
    "duration": 104,
    "start_time": "2022-05-18T06:58:42.824Z"
   },
   {
    "duration": 15,
    "start_time": "2022-05-18T06:58:42.930Z"
   },
   {
    "duration": 29,
    "start_time": "2022-05-18T06:58:42.947Z"
   },
   {
    "duration": 15,
    "start_time": "2022-05-18T06:58:42.978Z"
   },
   {
    "duration": 333,
    "start_time": "2022-05-18T06:58:42.994Z"
   },
   {
    "duration": 1327,
    "start_time": "2022-05-18T06:58:43.329Z"
   },
   {
    "duration": 17,
    "start_time": "2022-05-18T06:58:44.657Z"
   },
   {
    "duration": 21,
    "start_time": "2022-05-18T06:58:44.676Z"
   },
   {
    "duration": 20,
    "start_time": "2022-05-18T06:58:44.700Z"
   },
   {
    "duration": 11,
    "start_time": "2022-05-18T06:58:44.721Z"
   },
   {
    "duration": 15,
    "start_time": "2022-05-18T06:58:44.734Z"
   },
   {
    "duration": 41,
    "start_time": "2022-05-18T06:58:44.751Z"
   },
   {
    "duration": 6,
    "start_time": "2022-05-18T06:58:44.794Z"
   },
   {
    "duration": 17,
    "start_time": "2022-05-18T06:58:44.802Z"
   },
   {
    "duration": 660,
    "start_time": "2022-05-18T06:58:44.821Z"
   },
   {
    "duration": 398,
    "start_time": "2022-05-18T06:58:45.489Z"
   },
   {
    "duration": 16,
    "start_time": "2022-05-18T11:16:53.241Z"
   },
   {
    "duration": 7,
    "start_time": "2022-05-18T11:17:03.607Z"
   },
   {
    "duration": 243,
    "start_time": "2022-05-18T11:17:03.616Z"
   },
   {
    "duration": 4,
    "start_time": "2022-05-18T11:17:03.862Z"
   },
   {
    "duration": 87,
    "start_time": "2022-05-18T11:17:03.868Z"
   },
   {
    "duration": 7,
    "start_time": "2022-05-18T11:17:03.957Z"
   },
   {
    "duration": 17,
    "start_time": "2022-05-18T11:17:03.985Z"
   },
   {
    "duration": 16,
    "start_time": "2022-05-18T11:17:04.005Z"
   },
   {
    "duration": 11,
    "start_time": "2022-05-18T11:17:04.026Z"
   },
   {
    "duration": 18,
    "start_time": "2022-05-18T11:17:04.039Z"
   },
   {
    "duration": 14,
    "start_time": "2022-05-18T11:17:04.059Z"
   },
   {
    "duration": 32,
    "start_time": "2022-05-18T11:17:04.074Z"
   },
   {
    "duration": 14,
    "start_time": "2022-05-18T11:17:04.108Z"
   },
   {
    "duration": 4,
    "start_time": "2022-05-18T11:17:04.124Z"
   },
   {
    "duration": 23,
    "start_time": "2022-05-18T11:17:04.133Z"
   },
   {
    "duration": 29,
    "start_time": "2022-05-18T11:17:04.158Z"
   },
   {
    "duration": 18,
    "start_time": "2022-05-18T11:17:04.188Z"
   },
   {
    "duration": 9,
    "start_time": "2022-05-18T11:17:04.208Z"
   },
   {
    "duration": 12,
    "start_time": "2022-05-18T11:17:04.219Z"
   },
   {
    "duration": 22,
    "start_time": "2022-05-18T11:17:04.233Z"
   },
   {
    "duration": 30,
    "start_time": "2022-05-18T11:17:04.257Z"
   },
   {
    "duration": 18,
    "start_time": "2022-05-18T11:17:04.294Z"
   },
   {
    "duration": 19,
    "start_time": "2022-05-18T11:17:04.313Z"
   },
   {
    "duration": 29,
    "start_time": "2022-05-18T11:17:04.334Z"
   },
   {
    "duration": 6,
    "start_time": "2022-05-18T11:17:04.364Z"
   },
   {
    "duration": 25,
    "start_time": "2022-05-18T11:17:04.371Z"
   },
   {
    "duration": 282,
    "start_time": "2022-05-18T11:17:04.397Z"
   },
   {
    "duration": 222,
    "start_time": "2022-05-18T11:17:04.683Z"
   },
   {
    "duration": 12,
    "start_time": "2022-05-18T11:17:04.907Z"
   },
   {
    "duration": 13,
    "start_time": "2022-05-18T11:17:04.920Z"
   },
   {
    "duration": 12,
    "start_time": "2022-05-18T11:17:04.934Z"
   },
   {
    "duration": 15,
    "start_time": "2022-05-18T11:17:04.947Z"
   },
   {
    "duration": 145,
    "start_time": "2022-05-18T11:17:04.964Z"
   },
   {
    "duration": 20,
    "start_time": "2022-05-18T11:17:05.114Z"
   },
   {
    "duration": 10,
    "start_time": "2022-05-18T11:17:05.136Z"
   },
   {
    "duration": 45,
    "start_time": "2022-05-18T11:17:05.148Z"
   },
   {
    "duration": 148,
    "start_time": "2022-05-18T11:17:05.195Z"
   },
   {
    "duration": 17,
    "start_time": "2022-05-18T11:17:05.345Z"
   },
   {
    "duration": 648,
    "start_time": "2022-05-18T11:17:05.364Z"
   },
   {
    "duration": 14,
    "start_time": "2022-05-18T11:17:06.014Z"
   },
   {
    "duration": 7,
    "start_time": "2022-05-18T11:17:06.030Z"
   },
   {
    "duration": 313,
    "start_time": "2022-05-18T11:17:06.043Z"
   },
   {
    "duration": 117,
    "start_time": "2022-05-18T11:17:06.359Z"
   },
   {
    "duration": 26,
    "start_time": "2022-05-18T11:17:06.479Z"
   },
   {
    "duration": 57,
    "start_time": "2022-05-18T11:17:06.508Z"
   },
   {
    "duration": 10,
    "start_time": "2022-05-18T11:17:06.567Z"
   },
   {
    "duration": 387,
    "start_time": "2022-05-18T11:17:06.579Z"
   },
   {
    "duration": 1500,
    "start_time": "2022-05-18T11:17:06.968Z"
   },
   {
    "duration": 10,
    "start_time": "2022-05-18T11:17:08.470Z"
   },
   {
    "duration": 31,
    "start_time": "2022-05-18T11:17:08.482Z"
   },
   {
    "duration": 30,
    "start_time": "2022-05-18T11:17:08.515Z"
   },
   {
    "duration": 15,
    "start_time": "2022-05-18T11:17:08.547Z"
   },
   {
    "duration": 39,
    "start_time": "2022-05-18T11:17:08.564Z"
   },
   {
    "duration": 35,
    "start_time": "2022-05-18T11:17:08.604Z"
   },
   {
    "duration": 14,
    "start_time": "2022-05-18T11:17:08.641Z"
   },
   {
    "duration": 50,
    "start_time": "2022-05-18T11:17:08.657Z"
   },
   {
    "duration": 714,
    "start_time": "2022-05-18T11:17:08.712Z"
   },
   {
    "duration": 494,
    "start_time": "2022-05-18T11:17:09.427Z"
   },
   {
    "duration": 25,
    "start_time": "2022-05-18T11:20:32.840Z"
   },
   {
    "duration": 6,
    "start_time": "2022-05-18T11:20:39.590Z"
   },
   {
    "duration": 76,
    "start_time": "2022-05-18T11:20:39.599Z"
   },
   {
    "duration": 5,
    "start_time": "2022-05-18T11:20:39.685Z"
   },
   {
    "duration": 74,
    "start_time": "2022-05-18T11:20:39.691Z"
   },
   {
    "duration": 18,
    "start_time": "2022-05-18T11:20:39.768Z"
   },
   {
    "duration": 8,
    "start_time": "2022-05-18T11:20:39.787Z"
   },
   {
    "duration": 31,
    "start_time": "2022-05-18T11:20:39.798Z"
   },
   {
    "duration": 66,
    "start_time": "2022-05-18T11:20:39.830Z"
   },
   {
    "duration": 33,
    "start_time": "2022-05-18T11:20:39.897Z"
   },
   {
    "duration": 23,
    "start_time": "2022-05-18T11:20:39.932Z"
   },
   {
    "duration": 44,
    "start_time": "2022-05-18T11:20:39.957Z"
   },
   {
    "duration": 30,
    "start_time": "2022-05-18T11:20:40.004Z"
   },
   {
    "duration": 31,
    "start_time": "2022-05-18T11:20:40.038Z"
   },
   {
    "duration": 64,
    "start_time": "2022-05-18T11:20:40.071Z"
   },
   {
    "duration": 25,
    "start_time": "2022-05-18T11:20:40.137Z"
   },
   {
    "duration": 31,
    "start_time": "2022-05-18T11:20:40.164Z"
   },
   {
    "duration": 10,
    "start_time": "2022-05-18T11:20:40.202Z"
   },
   {
    "duration": 29,
    "start_time": "2022-05-18T11:20:40.214Z"
   },
   {
    "duration": 37,
    "start_time": "2022-05-18T11:20:40.245Z"
   },
   {
    "duration": 37,
    "start_time": "2022-05-18T11:20:40.288Z"
   },
   {
    "duration": 28,
    "start_time": "2022-05-18T11:20:40.326Z"
   },
   {
    "duration": 38,
    "start_time": "2022-05-18T11:20:40.356Z"
   },
   {
    "duration": 21,
    "start_time": "2022-05-18T11:20:40.396Z"
   },
   {
    "duration": 17,
    "start_time": "2022-05-18T11:20:40.418Z"
   },
   {
    "duration": 59,
    "start_time": "2022-05-18T11:20:40.437Z"
   },
   {
    "duration": 302,
    "start_time": "2022-05-18T11:20:40.498Z"
   },
   {
    "duration": 218,
    "start_time": "2022-05-18T11:20:40.802Z"
   },
   {
    "duration": 12,
    "start_time": "2022-05-18T11:20:41.021Z"
   },
   {
    "duration": 53,
    "start_time": "2022-05-18T11:20:41.034Z"
   },
   {
    "duration": 28,
    "start_time": "2022-05-18T11:20:41.094Z"
   },
   {
    "duration": 32,
    "start_time": "2022-05-18T11:20:41.124Z"
   },
   {
    "duration": 157,
    "start_time": "2022-05-18T11:20:41.158Z"
   },
   {
    "duration": 21,
    "start_time": "2022-05-18T11:20:41.317Z"
   },
   {
    "duration": 29,
    "start_time": "2022-05-18T11:20:41.340Z"
   },
   {
    "duration": 85,
    "start_time": "2022-05-18T11:20:41.371Z"
   },
   {
    "duration": 28,
    "start_time": "2022-05-18T11:20:41.458Z"
   },
   {
    "duration": 24,
    "start_time": "2022-05-18T11:20:41.499Z"
   },
   {
    "duration": 626,
    "start_time": "2022-05-18T11:20:41.525Z"
   },
   {
    "duration": 16,
    "start_time": "2022-05-18T11:20:42.153Z"
   },
   {
    "duration": 18,
    "start_time": "2022-05-18T11:20:42.171Z"
   },
   {
    "duration": 353,
    "start_time": "2022-05-18T11:20:42.191Z"
   },
   {
    "duration": 234,
    "start_time": "2022-05-18T11:20:42.546Z"
   },
   {
    "duration": 22,
    "start_time": "2022-05-18T11:20:42.783Z"
   },
   {
    "duration": 33,
    "start_time": "2022-05-18T11:20:42.806Z"
   },
   {
    "duration": 31,
    "start_time": "2022-05-18T11:20:42.841Z"
   },
   {
    "duration": 371,
    "start_time": "2022-05-18T11:20:42.874Z"
   },
   {
    "duration": 1158,
    "start_time": "2022-05-18T11:20:43.247Z"
   },
   {
    "duration": 7,
    "start_time": "2022-05-18T11:20:44.407Z"
   },
   {
    "duration": 15,
    "start_time": "2022-05-18T11:20:44.416Z"
   },
   {
    "duration": 22,
    "start_time": "2022-05-18T11:20:44.433Z"
   },
   {
    "duration": 9,
    "start_time": "2022-05-18T11:20:44.457Z"
   },
   {
    "duration": 19,
    "start_time": "2022-05-18T11:20:44.486Z"
   },
   {
    "duration": 12,
    "start_time": "2022-05-18T11:20:44.506Z"
   },
   {
    "duration": 7,
    "start_time": "2022-05-18T11:20:44.519Z"
   },
   {
    "duration": 26,
    "start_time": "2022-05-18T11:20:44.528Z"
   },
   {
    "duration": 638,
    "start_time": "2022-05-18T11:20:44.556Z"
   },
   {
    "duration": 351,
    "start_time": "2022-05-18T11:20:45.199Z"
   },
   {
    "duration": 8,
    "start_time": "2022-05-18T11:43:28.730Z"
   },
   {
    "duration": 15,
    "start_time": "2022-05-18T11:43:38.911Z"
   },
   {
    "duration": 21,
    "start_time": "2022-05-18T11:44:48.027Z"
   },
   {
    "duration": 5,
    "start_time": "2022-05-18T11:50:43.243Z"
   },
   {
    "duration": 4,
    "start_time": "2022-05-18T11:50:46.501Z"
   },
   {
    "duration": 5,
    "start_time": "2022-05-18T11:53:32.977Z"
   },
   {
    "duration": 75,
    "start_time": "2022-05-18T11:53:32.985Z"
   },
   {
    "duration": 3,
    "start_time": "2022-05-18T11:53:33.062Z"
   },
   {
    "duration": 84,
    "start_time": "2022-05-18T11:53:33.066Z"
   },
   {
    "duration": 6,
    "start_time": "2022-05-18T11:53:33.153Z"
   },
   {
    "duration": 33,
    "start_time": "2022-05-18T11:53:33.160Z"
   },
   {
    "duration": 7,
    "start_time": "2022-05-18T11:53:33.194Z"
   },
   {
    "duration": 8,
    "start_time": "2022-05-18T11:53:33.203Z"
   },
   {
    "duration": 10,
    "start_time": "2022-05-18T11:53:33.213Z"
   },
   {
    "duration": 10,
    "start_time": "2022-05-18T11:53:33.224Z"
   },
   {
    "duration": 134,
    "start_time": "2022-05-18T11:53:33.236Z"
   },
   {
    "duration": 32,
    "start_time": "2022-05-18T11:53:33.371Z"
   },
   {
    "duration": 4,
    "start_time": "2022-05-18T11:53:33.405Z"
   },
   {
    "duration": 14,
    "start_time": "2022-05-18T11:53:33.412Z"
   },
   {
    "duration": 8,
    "start_time": "2022-05-18T11:53:33.428Z"
   },
   {
    "duration": 8,
    "start_time": "2022-05-18T11:53:33.438Z"
   },
   {
    "duration": 46,
    "start_time": "2022-05-18T11:53:33.447Z"
   },
   {
    "duration": 11,
    "start_time": "2022-05-18T11:53:33.497Z"
   },
   {
    "duration": 12,
    "start_time": "2022-05-18T11:53:33.510Z"
   },
   {
    "duration": 12,
    "start_time": "2022-05-18T11:53:33.524Z"
   },
   {
    "duration": 7,
    "start_time": "2022-05-18T11:53:33.537Z"
   },
   {
    "duration": 15,
    "start_time": "2022-05-18T11:53:33.545Z"
   },
   {
    "duration": 39,
    "start_time": "2022-05-18T11:53:33.562Z"
   },
   {
    "duration": 5,
    "start_time": "2022-05-18T11:53:33.603Z"
   },
   {
    "duration": 9,
    "start_time": "2022-05-18T11:53:33.610Z"
   },
   {
    "duration": 289,
    "start_time": "2022-05-18T11:53:33.620Z"
   },
   {
    "duration": 218,
    "start_time": "2022-05-18T11:53:33.911Z"
   },
   {
    "duration": 13,
    "start_time": "2022-05-18T11:53:34.131Z"
   },
   {
    "duration": 5,
    "start_time": "2022-05-18T11:53:34.145Z"
   },
   {
    "duration": 9,
    "start_time": "2022-05-18T11:53:34.151Z"
   },
   {
    "duration": 33,
    "start_time": "2022-05-18T11:53:34.162Z"
   },
   {
    "duration": 129,
    "start_time": "2022-05-18T11:53:34.201Z"
   },
   {
    "duration": 16,
    "start_time": "2022-05-18T11:53:34.332Z"
   },
   {
    "duration": 8,
    "start_time": "2022-05-18T11:53:34.350Z"
   },
   {
    "duration": 44,
    "start_time": "2022-05-18T11:53:34.360Z"
   },
   {
    "duration": 23,
    "start_time": "2022-05-18T11:53:34.405Z"
   },
   {
    "duration": 14,
    "start_time": "2022-05-18T11:53:34.430Z"
   },
   {
    "duration": 666,
    "start_time": "2022-05-18T11:53:34.446Z"
   },
   {
    "duration": 13,
    "start_time": "2022-05-18T11:53:35.115Z"
   },
   {
    "duration": 7,
    "start_time": "2022-05-18T11:53:35.130Z"
   },
   {
    "duration": 314,
    "start_time": "2022-05-18T11:53:35.140Z"
   },
   {
    "duration": 109,
    "start_time": "2022-05-18T11:53:35.456Z"
   },
   {
    "duration": 34,
    "start_time": "2022-05-18T11:53:35.567Z"
   },
   {
    "duration": 23,
    "start_time": "2022-05-18T11:53:35.603Z"
   },
   {
    "duration": 8,
    "start_time": "2022-05-18T11:53:35.628Z"
   },
   {
    "duration": 570,
    "start_time": "2022-05-18T11:53:35.638Z"
   },
   {
    "duration": 1472,
    "start_time": "2022-05-18T11:53:36.210Z"
   },
   {
    "duration": 14,
    "start_time": "2022-05-18T11:53:37.689Z"
   },
   {
    "duration": 20,
    "start_time": "2022-05-18T11:53:37.705Z"
   },
   {
    "duration": 23,
    "start_time": "2022-05-18T11:53:37.726Z"
   },
   {
    "duration": 10,
    "start_time": "2022-05-18T11:53:37.750Z"
   },
   {
    "duration": 24,
    "start_time": "2022-05-18T11:53:37.762Z"
   },
   {
    "duration": 12,
    "start_time": "2022-05-18T11:53:37.790Z"
   },
   {
    "duration": 16,
    "start_time": "2022-05-18T11:53:37.804Z"
   },
   {
    "duration": 3,
    "start_time": "2022-05-18T11:53:37.821Z"
   },
   {
    "duration": 18,
    "start_time": "2022-05-18T11:53:37.826Z"
   },
   {
    "duration": 830,
    "start_time": "2022-05-18T11:53:37.846Z"
   },
   {
    "duration": 325,
    "start_time": "2022-05-18T11:53:38.678Z"
   },
   {
    "duration": 5,
    "start_time": "2022-05-18T11:54:35.218Z"
   },
   {
    "duration": 93,
    "start_time": "2022-05-18T11:54:38.148Z"
   },
   {
    "duration": 13,
    "start_time": "2022-05-18T11:54:53.696Z"
   },
   {
    "duration": 75,
    "start_time": "2022-05-18T11:54:53.712Z"
   },
   {
    "duration": 5,
    "start_time": "2022-05-18T11:54:53.789Z"
   },
   {
    "duration": 58,
    "start_time": "2022-05-18T11:54:53.801Z"
   },
   {
    "duration": 33,
    "start_time": "2022-05-18T11:54:53.860Z"
   },
   {
    "duration": 5,
    "start_time": "2022-05-18T11:54:53.897Z"
   },
   {
    "duration": 10,
    "start_time": "2022-05-18T11:54:53.904Z"
   },
   {
    "duration": 13,
    "start_time": "2022-05-18T11:54:53.915Z"
   },
   {
    "duration": 11,
    "start_time": "2022-05-18T11:54:53.929Z"
   },
   {
    "duration": 7,
    "start_time": "2022-05-18T11:54:53.943Z"
   },
   {
    "duration": 35,
    "start_time": "2022-05-18T11:54:53.952Z"
   },
   {
    "duration": 19,
    "start_time": "2022-05-18T11:54:53.989Z"
   },
   {
    "duration": 4,
    "start_time": "2022-05-18T11:54:54.010Z"
   },
   {
    "duration": 18,
    "start_time": "2022-05-18T11:54:54.015Z"
   },
   {
    "duration": 9,
    "start_time": "2022-05-18T11:54:54.035Z"
   },
   {
    "duration": 9,
    "start_time": "2022-05-18T11:54:54.046Z"
   },
   {
    "duration": 43,
    "start_time": "2022-05-18T11:54:54.056Z"
   },
   {
    "duration": 11,
    "start_time": "2022-05-18T11:54:54.101Z"
   },
   {
    "duration": 12,
    "start_time": "2022-05-18T11:54:54.114Z"
   },
   {
    "duration": 12,
    "start_time": "2022-05-18T11:54:54.128Z"
   },
   {
    "duration": 7,
    "start_time": "2022-05-18T11:54:54.142Z"
   },
   {
    "duration": 39,
    "start_time": "2022-05-18T11:54:54.150Z"
   },
   {
    "duration": 16,
    "start_time": "2022-05-18T11:54:54.193Z"
   },
   {
    "duration": 4,
    "start_time": "2022-05-18T11:54:54.211Z"
   },
   {
    "duration": 10,
    "start_time": "2022-05-18T11:54:54.217Z"
   },
   {
    "duration": 306,
    "start_time": "2022-05-18T11:54:54.229Z"
   },
   {
    "duration": 222,
    "start_time": "2022-05-18T11:54:54.537Z"
   },
   {
    "duration": 11,
    "start_time": "2022-05-18T11:54:54.762Z"
   },
   {
    "duration": 8,
    "start_time": "2022-05-18T11:54:54.783Z"
   },
   {
    "duration": 15,
    "start_time": "2022-05-18T11:54:54.792Z"
   },
   {
    "duration": 8,
    "start_time": "2022-05-18T11:54:54.809Z"
   },
   {
    "duration": 141,
    "start_time": "2022-05-18T11:54:54.818Z"
   },
   {
    "duration": 25,
    "start_time": "2022-05-18T11:54:54.961Z"
   },
   {
    "duration": 15,
    "start_time": "2022-05-18T11:54:54.987Z"
   },
   {
    "duration": 23,
    "start_time": "2022-05-18T11:54:55.003Z"
   },
   {
    "duration": 24,
    "start_time": "2022-05-18T11:54:55.027Z"
   },
   {
    "duration": 46,
    "start_time": "2022-05-18T11:54:55.052Z"
   },
   {
    "duration": 751,
    "start_time": "2022-05-18T11:54:55.100Z"
   },
   {
    "duration": 15,
    "start_time": "2022-05-18T11:54:55.853Z"
   },
   {
    "duration": 23,
    "start_time": "2022-05-18T11:54:55.869Z"
   },
   {
    "duration": 274,
    "start_time": "2022-05-18T11:54:55.896Z"
   },
   {
    "duration": 160,
    "start_time": "2022-05-18T11:54:56.172Z"
   },
   {
    "duration": 22,
    "start_time": "2022-05-18T11:54:56.384Z"
   },
   {
    "duration": 17,
    "start_time": "2022-05-18T11:54:56.408Z"
   },
   {
    "duration": 64,
    "start_time": "2022-05-18T11:54:56.427Z"
   },
   {
    "duration": 800,
    "start_time": "2022-05-18T11:54:56.494Z"
   },
   {
    "duration": 779,
    "start_time": "2022-05-18T11:54:57.296Z"
   },
   {
    "duration": 20,
    "start_time": "2022-05-18T11:54:58.078Z"
   },
   {
    "duration": 13,
    "start_time": "2022-05-18T11:54:58.100Z"
   },
   {
    "duration": 21,
    "start_time": "2022-05-18T11:54:58.115Z"
   },
   {
    "duration": 13,
    "start_time": "2022-05-18T11:54:58.138Z"
   },
   {
    "duration": 15,
    "start_time": "2022-05-18T11:54:58.153Z"
   },
   {
    "duration": 20,
    "start_time": "2022-05-18T11:54:58.186Z"
   },
   {
    "duration": 21,
    "start_time": "2022-05-18T11:54:58.207Z"
   },
   {
    "duration": 4,
    "start_time": "2022-05-18T11:54:58.230Z"
   },
   {
    "duration": 20,
    "start_time": "2022-05-18T11:54:58.236Z"
   },
   {
    "duration": 633,
    "start_time": "2022-05-18T11:54:58.258Z"
   },
   {
    "duration": 314,
    "start_time": "2022-05-18T11:54:58.897Z"
   },
   {
    "duration": 7,
    "start_time": "2022-05-18T11:55:39.595Z"
   },
   {
    "duration": 74,
    "start_time": "2022-05-18T11:55:42.965Z"
   },
   {
    "duration": 4,
    "start_time": "2022-05-18T11:58:59.044Z"
   },
   {
    "duration": 60,
    "start_time": "2022-05-18T11:59:02.869Z"
   }
  ],
  "kernelspec": {
   "display_name": "Python 3 (ipykernel)",
   "language": "python",
   "name": "python3"
  },
  "language_info": {
   "codemirror_mode": {
    "name": "ipython",
    "version": 3
   },
   "file_extension": ".py",
   "mimetype": "text/x-python",
   "name": "python",
   "nbconvert_exporter": "python",
   "pygments_lexer": "ipython3",
   "version": "3.9.7"
  },
  "toc": {
   "base_numbering": 1,
   "nav_menu": {},
   "number_sections": true,
   "sideBar": true,
   "skip_h1_title": true,
   "title_cell": "Table of Contents",
   "title_sidebar": "Contents",
   "toc_cell": false,
   "toc_position": {
    "height": "calc(100% - 180px)",
    "left": "10px",
    "top": "150px",
    "width": "281.198px"
   },
   "toc_section_display": true,
   "toc_window_display": true
  }
 },
 "nbformat": 4,
 "nbformat_minor": 2
}
