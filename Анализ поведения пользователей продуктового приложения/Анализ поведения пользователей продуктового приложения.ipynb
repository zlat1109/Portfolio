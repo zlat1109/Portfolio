{
 "cells": [
  {
   "cell_type": "markdown",
   "metadata": {
    "toc": true
   },
   "source": [
    "<h1>Table of Contents<span class=\"tocSkip\"></span></h1>\n",
    "<div class=\"toc\"><ul class=\"toc-item\"><li><span><a href=\"#Анализ-поведения-пользователей-продуктового-приложения\" data-toc-modified-id=\"Анализ-поведения-пользователей-продуктового-приложения-1\">Анализ поведения пользователей продуктового приложения</a></span></li><li><span><a href=\"#Синопсис-проекта\" data-toc-modified-id=\"Синопсис-проекта-2\">Синопсис проекта</a></span></li><li><span><a href=\"#Блок-библиотек,-используемых-в-проекте\" data-toc-modified-id=\"Блок-библиотек,-используемых-в-проекте-3\">Блок библиотек, используемых в проекте</a></span><ul class=\"toc-item\"><li><span><a href=\"#1-шаг.-Изучение-информации\" data-toc-modified-id=\"1-шаг.-Изучение-информации-3.1\">1 шаг. Изучение информации</a></span></li><li><span><a href=\"#2-шаг.-Подготовка-данных\" data-toc-modified-id=\"2-шаг.-Подготовка-данных-3.2\">2 шаг. Подготовка данных</a></span></li><li><span><a href=\"#3-шаг.-Изучение-и-проверка-данных\" data-toc-modified-id=\"3-шаг.-Изучение-и-проверка-данных-3.3\">3 шаг. Изучение и проверка данных</a></span><ul class=\"toc-item\"><li><span><a href=\"#События\" data-toc-modified-id=\"События-3.3.1\">События</a></span></li><li><span><a href=\"#Количество-device_id\" data-toc-modified-id=\"Количество-device_id-3.3.2\">Количество <code>device_id</code></a></span></li><li><span><a href=\"#Среднее-количество-событий-на-один-device_id\" data-toc-modified-id=\"Среднее-количество-событий-на-один-device_id-3.3.3\">Среднее количество событий на один <code>device_id</code></a></span></li><li><span><a href=\"#Период-данных\" data-toc-modified-id=\"Период-данных-3.3.4\">Период данных</a></span></li><li><span><a href=\"#Актуализация-данных-в-логах\" data-toc-modified-id=\"Актуализация-данных-в-логах-3.3.5\">Актуализация данных в логах</a></span></li><li><span><a href=\"#Группы-в-актуальных-данных\" data-toc-modified-id=\"Группы-в-актуальных-данных-3.3.6\">Группы в актуальных данных</a></span></li></ul></li><li><span><a href=\"#4-шаг.-Воронка-событий\" data-toc-modified-id=\"4-шаг.-Воронка-событий-3.4\">4 шаг. Воронка событий</a></span><ul class=\"toc-item\"><li><span><a href=\"#Количество-событий\" data-toc-modified-id=\"Количество-событий-3.4.1\">Количество событий</a></span></li><li><span><a href=\"#Количество-и-доли-пользователей,-совершивших-то-или-иное-событие\" data-toc-modified-id=\"Количество-и-доли-пользователей,-совершивших-то-или-иное-событие-3.4.2\">Количество и доли пользователей, совершивших то или иное событие</a></span></li><li><span><a href=\"#Поэтапная-конверсия\" data-toc-modified-id=\"Поэтапная-конверсия-3.4.3\">Поэтапная конверсия</a></span></li></ul></li><li><span><a href=\"#5-шаг.-Изучение-результатов-А/А/В-теста\" data-toc-modified-id=\"5-шаг.-Изучение-результатов-А/А/В-теста-3.5\">5 шаг. Изучение результатов А/А/В-теста</a></span><ul class=\"toc-item\"><li><span><a href=\"#Количество-пользователей-в-группах\" data-toc-modified-id=\"Количество-пользователей-в-группах-3.5.1\">Количество пользователей в группах</a></span></li><li><span><a href=\"#Статистическая-сопоставимость-выборок-пользователей\" data-toc-modified-id=\"Статистическая-сопоставимость-выборок-пользователей-3.5.2\">Статистическая сопоставимость выборок пользователей</a></span><ul class=\"toc-item\"><li><span><a href=\"#Расчет-действий-пользователей-по-группам\" data-toc-modified-id=\"Расчет-действий-пользователей-по-группам-3.5.2.1\">Расчет действий пользователей по группам</a></span></li><li><span><a href=\"#Функция-для-проведения-сравнительного-анализа\" data-toc-modified-id=\"Функция-для-проведения-сравнительного-анализа-3.5.2.2\">Функция для проведения сравнительного анализа</a></span></li></ul></li><li><span><a href=\"#Сравнительный-анализ\" data-toc-modified-id=\"Сравнительный-анализ-3.5.3\">Сравнительный анализ</a></span><ul class=\"toc-item\"><li><span><a href=\"#Сравнение-246-и-247-выборки\" data-toc-modified-id=\"Сравнение-246-и-247-выборки-3.5.3.1\">Сравнение 246 и 247 выборки</a></span></li><li><span><a href=\"#Сравнение-246-и-248-выборки\" data-toc-modified-id=\"Сравнение-246-и-248-выборки-3.5.3.2\">Сравнение 246 и 248 выборки</a></span></li><li><span><a href=\"#Сравнение-247-и-248-выборки\" data-toc-modified-id=\"Сравнение-247-и-248-выборки-3.5.3.3\">Сравнение 247 и 248 выборки</a></span></li><li><span><a href=\"#Сравнение-суммарной-выборки-246-и-247-с-248-выборкой\" data-toc-modified-id=\"Сравнение-суммарной-выборки-246-и-247-с-248-выборкой-3.5.3.4\">Сравнение суммарной выборки 246 и 247 с 248 выборкой</a></span></li></ul></li></ul></li><li><span><a href=\"#Общий-вывод\" data-toc-modified-id=\"Общий-вывод-3.6\">Общий вывод</a></span></li></ul></li></ul></div>"
   ]
  },
  {
   "cell_type": "markdown",
   "metadata": {},
   "source": [
    "# Анализ поведения пользователей продуктового приложения"
   ]
  },
  {
   "cell_type": "markdown",
   "metadata": {},
   "source": [
    "# Синопсис проекта"
   ]
  },
  {
   "cell_type": "markdown",
   "metadata": {},
   "source": [
    "На основании имеющихся логов, необходимо провести:\n",
    "- анализ поведения пользователей продуктового приложения\n",
    "- анализ результатов А/A/B-теста, связанного с изменением шрифтов в приложении."
   ]
  },
  {
   "cell_type": "markdown",
   "metadata": {},
   "source": [
    "# Блок библиотек, используемых в проекте"
   ]
  },
  {
   "cell_type": "code",
   "execution_count": 44,
   "metadata": {},
   "outputs": [],
   "source": [
    "import pandas as pd\n",
    "import numpy as np\n",
    "from scipy import stats as st\n",
    "import numpy as np\n",
    "import math as mth\n",
    "import matplotlib as mpl\n",
    "import matplotlib.pyplot as plt\n",
    "%matplotlib inline\n",
    "import datetime as dt\n",
    "from plotly import graph_objects as go \n",
    "\n",
    "pd.set_option('display.float_format', '{:,.2f}'.format)"
   ]
  },
  {
   "cell_type": "markdown",
   "metadata": {},
   "source": [
    "## 1 шаг. Изучение информации"
   ]
  },
  {
   "cell_type": "code",
   "execution_count": 45,
   "metadata": {},
   "outputs": [],
   "source": [
    "log_data = pd.read_csv(r'C:\\Users\\Balak\\OneDrive\\Рабочий стол\\Python\\для GitHub\\9. Событийная аналитика\\logs_exp.csv', sep='\\t')"
   ]
  },
  {
   "cell_type": "code",
   "execution_count": 46,
   "metadata": {},
   "outputs": [
    {
     "data": {
      "text/html": [
       "<div>\n",
       "<style scoped>\n",
       "    .dataframe tbody tr th:only-of-type {\n",
       "        vertical-align: middle;\n",
       "    }\n",
       "\n",
       "    .dataframe tbody tr th {\n",
       "        vertical-align: top;\n",
       "    }\n",
       "\n",
       "    .dataframe thead th {\n",
       "        text-align: right;\n",
       "    }\n",
       "</style>\n",
       "<table border=\"1\" class=\"dataframe\">\n",
       "  <thead>\n",
       "    <tr style=\"text-align: right;\">\n",
       "      <th></th>\n",
       "      <th>EventName</th>\n",
       "      <th>DeviceIDHash</th>\n",
       "      <th>EventTimestamp</th>\n",
       "      <th>ExpId</th>\n",
       "    </tr>\n",
       "  </thead>\n",
       "  <tbody>\n",
       "    <tr>\n",
       "      <th>0</th>\n",
       "      <td>MainScreenAppear</td>\n",
       "      <td>4575588528974610257</td>\n",
       "      <td>1564029816</td>\n",
       "      <td>246</td>\n",
       "    </tr>\n",
       "    <tr>\n",
       "      <th>1</th>\n",
       "      <td>MainScreenAppear</td>\n",
       "      <td>7416695313311560658</td>\n",
       "      <td>1564053102</td>\n",
       "      <td>246</td>\n",
       "    </tr>\n",
       "    <tr>\n",
       "      <th>2</th>\n",
       "      <td>PaymentScreenSuccessful</td>\n",
       "      <td>3518123091307005509</td>\n",
       "      <td>1564054127</td>\n",
       "      <td>248</td>\n",
       "    </tr>\n",
       "    <tr>\n",
       "      <th>3</th>\n",
       "      <td>CartScreenAppear</td>\n",
       "      <td>3518123091307005509</td>\n",
       "      <td>1564054127</td>\n",
       "      <td>248</td>\n",
       "    </tr>\n",
       "    <tr>\n",
       "      <th>4</th>\n",
       "      <td>PaymentScreenSuccessful</td>\n",
       "      <td>6217807653094995999</td>\n",
       "      <td>1564055322</td>\n",
       "      <td>248</td>\n",
       "    </tr>\n",
       "    <tr>\n",
       "      <th>5</th>\n",
       "      <td>CartScreenAppear</td>\n",
       "      <td>6217807653094995999</td>\n",
       "      <td>1564055323</td>\n",
       "      <td>248</td>\n",
       "    </tr>\n",
       "    <tr>\n",
       "      <th>6</th>\n",
       "      <td>OffersScreenAppear</td>\n",
       "      <td>8351860793733343758</td>\n",
       "      <td>1564066242</td>\n",
       "      <td>246</td>\n",
       "    </tr>\n",
       "    <tr>\n",
       "      <th>7</th>\n",
       "      <td>MainScreenAppear</td>\n",
       "      <td>5682100281902512875</td>\n",
       "      <td>1564085677</td>\n",
       "      <td>246</td>\n",
       "    </tr>\n",
       "    <tr>\n",
       "      <th>8</th>\n",
       "      <td>MainScreenAppear</td>\n",
       "      <td>1850981295691852772</td>\n",
       "      <td>1564086702</td>\n",
       "      <td>247</td>\n",
       "    </tr>\n",
       "    <tr>\n",
       "      <th>9</th>\n",
       "      <td>MainScreenAppear</td>\n",
       "      <td>5407636962369102641</td>\n",
       "      <td>1564112112</td>\n",
       "      <td>246</td>\n",
       "    </tr>\n",
       "  </tbody>\n",
       "</table>\n",
       "</div>"
      ],
      "text/plain": [
       "                 EventName         DeviceIDHash  EventTimestamp  ExpId\n",
       "0         MainScreenAppear  4575588528974610257      1564029816    246\n",
       "1         MainScreenAppear  7416695313311560658      1564053102    246\n",
       "2  PaymentScreenSuccessful  3518123091307005509      1564054127    248\n",
       "3         CartScreenAppear  3518123091307005509      1564054127    248\n",
       "4  PaymentScreenSuccessful  6217807653094995999      1564055322    248\n",
       "5         CartScreenAppear  6217807653094995999      1564055323    248\n",
       "6       OffersScreenAppear  8351860793733343758      1564066242    246\n",
       "7         MainScreenAppear  5682100281902512875      1564085677    246\n",
       "8         MainScreenAppear  1850981295691852772      1564086702    247\n",
       "9         MainScreenAppear  5407636962369102641      1564112112    246"
      ]
     },
     "metadata": {},
     "output_type": "display_data"
    },
    {
     "name": "stdout",
     "output_type": "stream",
     "text": [
      "<class 'pandas.core.frame.DataFrame'>\n",
      "RangeIndex: 244126 entries, 0 to 244125\n",
      "Data columns (total 4 columns):\n",
      " #   Column          Non-Null Count   Dtype \n",
      "---  ------          --------------   ----- \n",
      " 0   EventName       244126 non-null  object\n",
      " 1   DeviceIDHash    244126 non-null  int64 \n",
      " 2   EventTimestamp  244126 non-null  int64 \n",
      " 3   ExpId           244126 non-null  int64 \n",
      "dtypes: int64(3), object(1)\n",
      "memory usage: 7.5+ MB\n"
     ]
    },
    {
     "data": {
      "text/plain": [
       "None"
      ]
     },
     "metadata": {},
     "output_type": "display_data"
    },
    {
     "name": "stdout",
     "output_type": "stream",
     "text": [
      "В датасете 413 дубликатов\n"
     ]
    },
    {
     "data": {
      "text/plain": [
       "(None, None, None)"
      ]
     },
     "execution_count": 46,
     "metadata": {},
     "output_type": "execute_result"
    }
   ],
   "source": [
    "def view(data):\n",
    "    return (\n",
    "           display(data.head(10)),\n",
    "           display(data.info()),\n",
    "           print(f'В датасете {len(data) - len(data.drop_duplicates())} дубликатов')           \n",
    "    )\n",
    "view(log_data)"
   ]
  },
  {
   "cell_type": "markdown",
   "metadata": {},
   "source": [
    "**Вывод** По итогам просмотра файлов можно отметить несколько моментов:\n",
    "- названия столбцов некорректно написаны\n",
    "- пропуски в данных отсутствуют\n",
    "- сведения из столбца `EventTimestamp` необходимо привести к типу datetime\n",
    "- в датасете есть 413 очевидных дубликата\n"
   ]
  },
  {
   "cell_type": "markdown",
   "metadata": {},
   "source": [
    "## 2 шаг. Подготовка данных"
   ]
  },
  {
   "cell_type": "code",
   "execution_count": 47,
   "metadata": {},
   "outputs": [],
   "source": [
    "#Переименуем названия столбцов\n",
    "log_data.columns = ['event', 'device_id', 'event_timestamp', 'group_number']"
   ]
  },
  {
   "cell_type": "code",
   "execution_count": 48,
   "metadata": {},
   "outputs": [],
   "source": [
    "# Создадим столбец с данными о дате и времени события\n",
    "log_data['event_datetime'] = pd.to_datetime(log_data['event_timestamp'], unit='s')"
   ]
  },
  {
   "cell_type": "code",
   "execution_count": 49,
   "metadata": {},
   "outputs": [],
   "source": [
    "# А также столбец с датой события\n",
    "log_data['date'] = log_data['event_datetime'].dt.date.astype('datetime64[ns]')"
   ]
  },
  {
   "cell_type": "code",
   "execution_count": 50,
   "metadata": {},
   "outputs": [],
   "source": [
    "# Удалим выявленные дубликаты\n",
    "log_data = log_data.drop_duplicates().reset_index(drop=True)"
   ]
  },
  {
   "cell_type": "code",
   "execution_count": 51,
   "metadata": {},
   "outputs": [
    {
     "data": {
      "text/html": [
       "<div>\n",
       "<style scoped>\n",
       "    .dataframe tbody tr th:only-of-type {\n",
       "        vertical-align: middle;\n",
       "    }\n",
       "\n",
       "    .dataframe tbody tr th {\n",
       "        vertical-align: top;\n",
       "    }\n",
       "\n",
       "    .dataframe thead th {\n",
       "        text-align: right;\n",
       "    }\n",
       "</style>\n",
       "<table border=\"1\" class=\"dataframe\">\n",
       "  <thead>\n",
       "    <tr style=\"text-align: right;\">\n",
       "      <th></th>\n",
       "      <th>event</th>\n",
       "      <th>device_id</th>\n",
       "      <th>event_timestamp</th>\n",
       "      <th>group_number</th>\n",
       "      <th>event_datetime</th>\n",
       "      <th>date</th>\n",
       "    </tr>\n",
       "  </thead>\n",
       "  <tbody>\n",
       "    <tr>\n",
       "      <th>0</th>\n",
       "      <td>MainScreenAppear</td>\n",
       "      <td>4575588528974610257</td>\n",
       "      <td>1564029816</td>\n",
       "      <td>246</td>\n",
       "      <td>2019-07-25 04:43:36</td>\n",
       "      <td>2019-07-25</td>\n",
       "    </tr>\n",
       "    <tr>\n",
       "      <th>1</th>\n",
       "      <td>MainScreenAppear</td>\n",
       "      <td>7416695313311560658</td>\n",
       "      <td>1564053102</td>\n",
       "      <td>246</td>\n",
       "      <td>2019-07-25 11:11:42</td>\n",
       "      <td>2019-07-25</td>\n",
       "    </tr>\n",
       "    <tr>\n",
       "      <th>2</th>\n",
       "      <td>PaymentScreenSuccessful</td>\n",
       "      <td>3518123091307005509</td>\n",
       "      <td>1564054127</td>\n",
       "      <td>248</td>\n",
       "      <td>2019-07-25 11:28:47</td>\n",
       "      <td>2019-07-25</td>\n",
       "    </tr>\n",
       "    <tr>\n",
       "      <th>3</th>\n",
       "      <td>CartScreenAppear</td>\n",
       "      <td>3518123091307005509</td>\n",
       "      <td>1564054127</td>\n",
       "      <td>248</td>\n",
       "      <td>2019-07-25 11:28:47</td>\n",
       "      <td>2019-07-25</td>\n",
       "    </tr>\n",
       "    <tr>\n",
       "      <th>4</th>\n",
       "      <td>PaymentScreenSuccessful</td>\n",
       "      <td>6217807653094995999</td>\n",
       "      <td>1564055322</td>\n",
       "      <td>248</td>\n",
       "      <td>2019-07-25 11:48:42</td>\n",
       "      <td>2019-07-25</td>\n",
       "    </tr>\n",
       "    <tr>\n",
       "      <th>...</th>\n",
       "      <td>...</td>\n",
       "      <td>...</td>\n",
       "      <td>...</td>\n",
       "      <td>...</td>\n",
       "      <td>...</td>\n",
       "      <td>...</td>\n",
       "    </tr>\n",
       "    <tr>\n",
       "      <th>243708</th>\n",
       "      <td>MainScreenAppear</td>\n",
       "      <td>4599628364049201812</td>\n",
       "      <td>1565212345</td>\n",
       "      <td>247</td>\n",
       "      <td>2019-08-07 21:12:25</td>\n",
       "      <td>2019-08-07</td>\n",
       "    </tr>\n",
       "    <tr>\n",
       "      <th>243709</th>\n",
       "      <td>MainScreenAppear</td>\n",
       "      <td>5849806612437486590</td>\n",
       "      <td>1565212439</td>\n",
       "      <td>246</td>\n",
       "      <td>2019-08-07 21:13:59</td>\n",
       "      <td>2019-08-07</td>\n",
       "    </tr>\n",
       "    <tr>\n",
       "      <th>243710</th>\n",
       "      <td>MainScreenAppear</td>\n",
       "      <td>5746969938801999050</td>\n",
       "      <td>1565212483</td>\n",
       "      <td>246</td>\n",
       "      <td>2019-08-07 21:14:43</td>\n",
       "      <td>2019-08-07</td>\n",
       "    </tr>\n",
       "    <tr>\n",
       "      <th>243711</th>\n",
       "      <td>MainScreenAppear</td>\n",
       "      <td>5746969938801999050</td>\n",
       "      <td>1565212498</td>\n",
       "      <td>246</td>\n",
       "      <td>2019-08-07 21:14:58</td>\n",
       "      <td>2019-08-07</td>\n",
       "    </tr>\n",
       "    <tr>\n",
       "      <th>243712</th>\n",
       "      <td>OffersScreenAppear</td>\n",
       "      <td>5746969938801999050</td>\n",
       "      <td>1565212517</td>\n",
       "      <td>246</td>\n",
       "      <td>2019-08-07 21:15:17</td>\n",
       "      <td>2019-08-07</td>\n",
       "    </tr>\n",
       "  </tbody>\n",
       "</table>\n",
       "<p>243713 rows × 6 columns</p>\n",
       "</div>"
      ],
      "text/plain": [
       "                          event            device_id  event_timestamp  \\\n",
       "0              MainScreenAppear  4575588528974610257       1564029816   \n",
       "1              MainScreenAppear  7416695313311560658       1564053102   \n",
       "2       PaymentScreenSuccessful  3518123091307005509       1564054127   \n",
       "3              CartScreenAppear  3518123091307005509       1564054127   \n",
       "4       PaymentScreenSuccessful  6217807653094995999       1564055322   \n",
       "...                         ...                  ...              ...   \n",
       "243708         MainScreenAppear  4599628364049201812       1565212345   \n",
       "243709         MainScreenAppear  5849806612437486590       1565212439   \n",
       "243710         MainScreenAppear  5746969938801999050       1565212483   \n",
       "243711         MainScreenAppear  5746969938801999050       1565212498   \n",
       "243712       OffersScreenAppear  5746969938801999050       1565212517   \n",
       "\n",
       "        group_number      event_datetime       date  \n",
       "0                246 2019-07-25 04:43:36 2019-07-25  \n",
       "1                246 2019-07-25 11:11:42 2019-07-25  \n",
       "2                248 2019-07-25 11:28:47 2019-07-25  \n",
       "3                248 2019-07-25 11:28:47 2019-07-25  \n",
       "4                248 2019-07-25 11:48:42 2019-07-25  \n",
       "...              ...                 ...        ...  \n",
       "243708           247 2019-08-07 21:12:25 2019-08-07  \n",
       "243709           246 2019-08-07 21:13:59 2019-08-07  \n",
       "243710           246 2019-08-07 21:14:43 2019-08-07  \n",
       "243711           246 2019-08-07 21:14:58 2019-08-07  \n",
       "243712           246 2019-08-07 21:15:17 2019-08-07  \n",
       "\n",
       "[243713 rows x 6 columns]"
      ]
     },
     "execution_count": 51,
     "metadata": {},
     "output_type": "execute_result"
    }
   ],
   "source": [
    "log_data"
   ]
  },
  {
   "cell_type": "markdown",
   "metadata": {},
   "source": [
    "**Вывод** На данном этапе мы сделали:\n",
    "- переименовали наименования столбцов\n",
    "- получили точные дату и время события\n",
    "- удалили очевидные дубликаты"
   ]
  },
  {
   "cell_type": "markdown",
   "metadata": {},
   "source": [
    "## 3 шаг. Изучение и проверка данных "
   ]
  },
  {
   "cell_type": "markdown",
   "metadata": {},
   "source": [
    "### События"
   ]
  },
  {
   "cell_type": "code",
   "execution_count": 52,
   "metadata": {},
   "outputs": [
    {
     "data": {
      "text/plain": [
       "array(['MainScreenAppear', 'PaymentScreenSuccessful', 'CartScreenAppear',\n",
       "       'OffersScreenAppear', 'Tutorial'], dtype=object)"
      ]
     },
     "execution_count": 52,
     "metadata": {},
     "output_type": "execute_result"
    }
   ],
   "source": [
    "log_data['event'].unique()"
   ]
  },
  {
   "cell_type": "markdown",
   "metadata": {},
   "source": [
    "**Подвывод** в логе всего 5 видов событий"
   ]
  },
  {
   "cell_type": "markdown",
   "metadata": {},
   "source": [
    "### Количество `device_id`"
   ]
  },
  {
   "cell_type": "code",
   "execution_count": 53,
   "metadata": {},
   "outputs": [
    {
     "data": {
      "text/plain": [
       "7551"
      ]
     },
     "execution_count": 53,
     "metadata": {},
     "output_type": "execute_result"
    }
   ],
   "source": [
    "log_data['device_id'].nunique()"
   ]
  },
  {
   "cell_type": "markdown",
   "metadata": {},
   "source": [
    "**Подвывод** в логе 7551 уникальный `device_id`"
   ]
  },
  {
   "cell_type": "markdown",
   "metadata": {},
   "source": [
    "### Среднее количество событий на один `device_id`"
   ]
  },
  {
   "cell_type": "code",
   "execution_count": 54,
   "metadata": {},
   "outputs": [
    {
     "data": {
      "text/plain": [
       "32"
      ]
     },
     "execution_count": 54,
     "metadata": {},
     "output_type": "execute_result"
    }
   ],
   "source": [
    "int(log_data['event'].count() / log_data['device_id'].nunique())"
   ]
  },
  {
   "cell_type": "code",
   "execution_count": 55,
   "metadata": {},
   "outputs": [],
   "source": [
    "count_event_on_user = log_data.pivot_table(index='device_id', values='event', aggfunc='count')"
   ]
  },
  {
   "cell_type": "code",
   "execution_count": 56,
   "metadata": {},
   "outputs": [
    {
     "data": {
      "text/html": [
       "<div>\n",
       "<style scoped>\n",
       "    .dataframe tbody tr th:only-of-type {\n",
       "        vertical-align: middle;\n",
       "    }\n",
       "\n",
       "    .dataframe tbody tr th {\n",
       "        vertical-align: top;\n",
       "    }\n",
       "\n",
       "    .dataframe thead th {\n",
       "        text-align: right;\n",
       "    }\n",
       "</style>\n",
       "<table border=\"1\" class=\"dataframe\">\n",
       "  <thead>\n",
       "    <tr style=\"text-align: right;\">\n",
       "      <th></th>\n",
       "      <th>event</th>\n",
       "    </tr>\n",
       "  </thead>\n",
       "  <tbody>\n",
       "    <tr>\n",
       "      <th>count</th>\n",
       "      <td>7,551.00</td>\n",
       "    </tr>\n",
       "    <tr>\n",
       "      <th>mean</th>\n",
       "      <td>32.28</td>\n",
       "    </tr>\n",
       "    <tr>\n",
       "      <th>std</th>\n",
       "      <td>65.15</td>\n",
       "    </tr>\n",
       "    <tr>\n",
       "      <th>min</th>\n",
       "      <td>1.00</td>\n",
       "    </tr>\n",
       "    <tr>\n",
       "      <th>50%</th>\n",
       "      <td>20.00</td>\n",
       "    </tr>\n",
       "    <tr>\n",
       "      <th>75%</th>\n",
       "      <td>37.00</td>\n",
       "    </tr>\n",
       "    <tr>\n",
       "      <th>90%</th>\n",
       "      <td>64.00</td>\n",
       "    </tr>\n",
       "    <tr>\n",
       "      <th>95%</th>\n",
       "      <td>89.00</td>\n",
       "    </tr>\n",
       "    <tr>\n",
       "      <th>99%</th>\n",
       "      <td>200.50</td>\n",
       "    </tr>\n",
       "    <tr>\n",
       "      <th>max</th>\n",
       "      <td>2,307.00</td>\n",
       "    </tr>\n",
       "  </tbody>\n",
       "</table>\n",
       "</div>"
      ],
      "text/plain": [
       "         event\n",
       "count 7,551.00\n",
       "mean     32.28\n",
       "std      65.15\n",
       "min       1.00\n",
       "50%      20.00\n",
       "75%      37.00\n",
       "90%      64.00\n",
       "95%      89.00\n",
       "99%     200.50\n",
       "max   2,307.00"
      ]
     },
     "execution_count": 56,
     "metadata": {},
     "output_type": "execute_result"
    }
   ],
   "source": [
    "count_event_on_user.describe(percentiles=[.75, .90, .95, .99])"
   ]
  },
  {
   "cell_type": "code",
   "execution_count": 57,
   "metadata": {},
   "outputs": [
    {
     "data": {
      "image/png": "[encoded data removed]",
      "text/plain": [
       "<Figure size 432x288 with 1 Axes>"
      ]
     },
     "metadata": {
      "needs_background": "light"
     },
     "output_type": "display_data"
    }
   ],
   "source": [
    "count_event_on_user.hist(bins=1000)\n",
    "\n",
    "plt.show()"
   ]
  },
  {
   "cell_type": "code",
   "execution_count": 58,
   "metadata": {},
   "outputs": [
    {
     "data": {
      "text/html": [
       "<div>\n",
       "<style scoped>\n",
       "    .dataframe tbody tr th:only-of-type {\n",
       "        vertical-align: middle;\n",
       "    }\n",
       "\n",
       "    .dataframe tbody tr th {\n",
       "        vertical-align: top;\n",
       "    }\n",
       "\n",
       "    .dataframe thead th {\n",
       "        text-align: right;\n",
       "    }\n",
       "</style>\n",
       "<table border=\"1\" class=\"dataframe\">\n",
       "  <thead>\n",
       "    <tr style=\"text-align: right;\">\n",
       "      <th></th>\n",
       "      <th>event</th>\n",
       "    </tr>\n",
       "  </thead>\n",
       "  <tbody>\n",
       "    <tr>\n",
       "      <th>count</th>\n",
       "      <td>7,179.00</td>\n",
       "    </tr>\n",
       "    <tr>\n",
       "      <th>mean</th>\n",
       "      <td>24.06</td>\n",
       "    </tr>\n",
       "    <tr>\n",
       "      <th>std</th>\n",
       "      <td>19.43</td>\n",
       "    </tr>\n",
       "    <tr>\n",
       "      <th>min</th>\n",
       "      <td>1.00</td>\n",
       "    </tr>\n",
       "    <tr>\n",
       "      <th>25%</th>\n",
       "      <td>9.00</td>\n",
       "    </tr>\n",
       "    <tr>\n",
       "      <th>50%</th>\n",
       "      <td>18.00</td>\n",
       "    </tr>\n",
       "    <tr>\n",
       "      <th>75%</th>\n",
       "      <td>34.00</td>\n",
       "    </tr>\n",
       "    <tr>\n",
       "      <th>max</th>\n",
       "      <td>89.00</td>\n",
       "    </tr>\n",
       "  </tbody>\n",
       "</table>\n",
       "</div>"
      ],
      "text/plain": [
       "         event\n",
       "count 7,179.00\n",
       "mean     24.06\n",
       "std      19.43\n",
       "min       1.00\n",
       "25%       9.00\n",
       "50%      18.00\n",
       "75%      34.00\n",
       "max      89.00"
      ]
     },
     "execution_count": 58,
     "metadata": {},
     "output_type": "execute_result"
    }
   ],
   "source": [
    "count_event_on_user.query('event <= 89').describe()"
   ]
  },
  {
   "cell_type": "markdown",
   "metadata": {},
   "source": [
    "**Подвывод** В среднем на каждый уникальный `device_id` приходится 32 события. При этом обращает на себя внимание, что 95% пользователей не совершили более 90 событий, а средний показатель событий на одного пользователя снижается до 24 событий. Это говорит о том, что выбросы очень сильно искажают общую картину и в целом мы имеем распределенние Парето в имеющихся данных. "
   ]
  },
  {
   "cell_type": "markdown",
   "metadata": {},
   "source": [
    "### Период данных"
   ]
  },
  {
   "cell_type": "code",
   "execution_count": 59,
   "metadata": {},
   "outputs": [
    {
     "data": {
      "text/plain": [
       "Timestamp('2019-07-25 00:00:00')"
      ]
     },
     "execution_count": 59,
     "metadata": {},
     "output_type": "execute_result"
    }
   ],
   "source": [
    "min(log_data['date'])"
   ]
  },
  {
   "cell_type": "code",
   "execution_count": 82,
   "metadata": {},
   "outputs": [
    {
     "data": {
      "text/html": [
       "<div>\n",
       "<style scoped>\n",
       "    .dataframe tbody tr th:only-of-type {\n",
       "        vertical-align: middle;\n",
       "    }\n",
       "\n",
       "    .dataframe tbody tr th {\n",
       "        vertical-align: top;\n",
       "    }\n",
       "\n",
       "    .dataframe thead th {\n",
       "        text-align: right;\n",
       "    }\n",
       "</style>\n",
       "<table border=\"1\" class=\"dataframe\">\n",
       "  <thead>\n",
       "    <tr style=\"text-align: right;\">\n",
       "      <th></th>\n",
       "      <th>event</th>\n",
       "      <th>device_id</th>\n",
       "      <th>event_timestamp</th>\n",
       "      <th>group_number</th>\n",
       "      <th>event_datetime</th>\n",
       "      <th>date</th>\n",
       "    </tr>\n",
       "  </thead>\n",
       "  <tbody>\n",
       "    <tr>\n",
       "      <th>0</th>\n",
       "      <td>MainScreenAppear</td>\n",
       "      <td>4575588528974610257</td>\n",
       "      <td>1564029816</td>\n",
       "      <td>246</td>\n",
       "      <td>2019-07-25 04:43:36</td>\n",
       "      <td>2019-07-25</td>\n",
       "    </tr>\n",
       "    <tr>\n",
       "      <th>1</th>\n",
       "      <td>MainScreenAppear</td>\n",
       "      <td>7416695313311560658</td>\n",
       "      <td>1564053102</td>\n",
       "      <td>246</td>\n",
       "      <td>2019-07-25 11:11:42</td>\n",
       "      <td>2019-07-25</td>\n",
       "    </tr>\n",
       "    <tr>\n",
       "      <th>2</th>\n",
       "      <td>PaymentScreenSuccessful</td>\n",
       "      <td>3518123091307005509</td>\n",
       "      <td>1564054127</td>\n",
       "      <td>248</td>\n",
       "      <td>2019-07-25 11:28:47</td>\n",
       "      <td>2019-07-25</td>\n",
       "    </tr>\n",
       "    <tr>\n",
       "      <th>3</th>\n",
       "      <td>CartScreenAppear</td>\n",
       "      <td>3518123091307005509</td>\n",
       "      <td>1564054127</td>\n",
       "      <td>248</td>\n",
       "      <td>2019-07-25 11:28:47</td>\n",
       "      <td>2019-07-25</td>\n",
       "    </tr>\n",
       "    <tr>\n",
       "      <th>4</th>\n",
       "      <td>PaymentScreenSuccessful</td>\n",
       "      <td>6217807653094995999</td>\n",
       "      <td>1564055322</td>\n",
       "      <td>248</td>\n",
       "      <td>2019-07-25 11:48:42</td>\n",
       "      <td>2019-07-25</td>\n",
       "    </tr>\n",
       "    <tr>\n",
       "      <th>...</th>\n",
       "      <td>...</td>\n",
       "      <td>...</td>\n",
       "      <td>...</td>\n",
       "      <td>...</td>\n",
       "      <td>...</td>\n",
       "      <td>...</td>\n",
       "    </tr>\n",
       "    <tr>\n",
       "      <th>243708</th>\n",
       "      <td>MainScreenAppear</td>\n",
       "      <td>4599628364049201812</td>\n",
       "      <td>1565212345</td>\n",
       "      <td>247</td>\n",
       "      <td>2019-08-07 21:12:25</td>\n",
       "      <td>2019-08-07</td>\n",
       "    </tr>\n",
       "    <tr>\n",
       "      <th>243709</th>\n",
       "      <td>MainScreenAppear</td>\n",
       "      <td>5849806612437486590</td>\n",
       "      <td>1565212439</td>\n",
       "      <td>246</td>\n",
       "      <td>2019-08-07 21:13:59</td>\n",
       "      <td>2019-08-07</td>\n",
       "    </tr>\n",
       "    <tr>\n",
       "      <th>243710</th>\n",
       "      <td>MainScreenAppear</td>\n",
       "      <td>5746969938801999050</td>\n",
       "      <td>1565212483</td>\n",
       "      <td>246</td>\n",
       "      <td>2019-08-07 21:14:43</td>\n",
       "      <td>2019-08-07</td>\n",
       "    </tr>\n",
       "    <tr>\n",
       "      <th>243711</th>\n",
       "      <td>MainScreenAppear</td>\n",
       "      <td>5746969938801999050</td>\n",
       "      <td>1565212498</td>\n",
       "      <td>246</td>\n",
       "      <td>2019-08-07 21:14:58</td>\n",
       "      <td>2019-08-07</td>\n",
       "    </tr>\n",
       "    <tr>\n",
       "      <th>243712</th>\n",
       "      <td>OffersScreenAppear</td>\n",
       "      <td>5746969938801999050</td>\n",
       "      <td>1565212517</td>\n",
       "      <td>246</td>\n",
       "      <td>2019-08-07 21:15:17</td>\n",
       "      <td>2019-08-07</td>\n",
       "    </tr>\n",
       "  </tbody>\n",
       "</table>\n",
       "<p>243713 rows × 6 columns</p>\n",
       "</div>"
      ],
      "text/plain": [
       "                          event            device_id  event_timestamp  \\\n",
       "0              MainScreenAppear  4575588528974610257       1564029816   \n",
       "1              MainScreenAppear  7416695313311560658       1564053102   \n",
       "2       PaymentScreenSuccessful  3518123091307005509       1564054127   \n",
       "3              CartScreenAppear  3518123091307005509       1564054127   \n",
       "4       PaymentScreenSuccessful  6217807653094995999       1564055322   \n",
       "...                         ...                  ...              ...   \n",
       "243708         MainScreenAppear  4599628364049201812       1565212345   \n",
       "243709         MainScreenAppear  5849806612437486590       1565212439   \n",
       "243710         MainScreenAppear  5746969938801999050       1565212483   \n",
       "243711         MainScreenAppear  5746969938801999050       1565212498   \n",
       "243712       OffersScreenAppear  5746969938801999050       1565212517   \n",
       "\n",
       "        group_number      event_datetime       date  \n",
       "0                246 2019-07-25 04:43:36 2019-07-25  \n",
       "1                246 2019-07-25 11:11:42 2019-07-25  \n",
       "2                248 2019-07-25 11:28:47 2019-07-25  \n",
       "3                248 2019-07-25 11:28:47 2019-07-25  \n",
       "4                248 2019-07-25 11:48:42 2019-07-25  \n",
       "...              ...                 ...        ...  \n",
       "243708           247 2019-08-07 21:12:25 2019-08-07  \n",
       "243709           246 2019-08-07 21:13:59 2019-08-07  \n",
       "243710           246 2019-08-07 21:14:43 2019-08-07  \n",
       "243711           246 2019-08-07 21:14:58 2019-08-07  \n",
       "243712           246 2019-08-07 21:15:17 2019-08-07  \n",
       "\n",
       "[243713 rows x 6 columns]"
      ]
     },
     "execution_count": 82,
     "metadata": {},
     "output_type": "execute_result"
    }
   ],
   "source": [
    "log_data"
   ]
  },
  {
   "cell_type": "markdown",
   "metadata": {},
   "source": [
    "**Подвывод** Минимальная дата, встречающаяся в логе 25.07.2019"
   ]
  },
  {
   "cell_type": "code",
   "execution_count": 60,
   "metadata": {},
   "outputs": [
    {
     "data": {
      "text/plain": [
       "Timestamp('2019-08-07 00:00:00')"
      ]
     },
     "execution_count": 60,
     "metadata": {},
     "output_type": "execute_result"
    }
   ],
   "source": [
    "max(log_data['date'])"
   ]
  },
  {
   "cell_type": "markdown",
   "metadata": {},
   "source": [
    "**Подвывод** Максимальная дата, встречающаяся в логе 07.08.2019"
   ]
  },
  {
   "cell_type": "code",
   "execution_count": 61,
   "metadata": {},
   "outputs": [
    {
     "data": {
      "image/png": "[encoded data removed]",
      "text/plain": [
       "<Figure size 1440x504 with 1 Axes>"
      ]
     },
     "metadata": {
      "needs_background": "light"
     },
     "output_type": "display_data"
    }
   ],
   "source": [
    "plt.figure(figsize=(20, 7))\n",
    "ax = log_data['date'].hist(bins=100)\n",
    "ax.set_title('Даты и количество событий', fontsize = '15')\n",
    "ax.set_xlabel('Даты', fontsize = '15')\n",
    "ax.set_ylabel('Количество событий', fontsize = '15')\n",
    "plt.grid()\n",
    "plt.show()"
   ]
  },
  {
   "cell_type": "markdown",
   "metadata": {},
   "source": [
    "**Подвывод** Мы установили, что на самом деле мы располагаем данными за период с 01.08.2019 по 07.08.2019"
   ]
  },
  {
   "cell_type": "markdown",
   "metadata": {},
   "source": [
    "### Актуализация данных в логах"
   ]
  },
  {
   "cell_type": "code",
   "execution_count": 62,
   "metadata": {},
   "outputs": [],
   "source": [
    "# Сделаем срез актуальных данных\n",
    "log_data_actuality = log_data.query('date >= \"2019-08-01\"')"
   ]
  },
  {
   "cell_type": "code",
   "execution_count": 63,
   "metadata": {},
   "outputs": [
    {
     "name": "stdout",
     "output_type": "stream",
     "text": [
      "После актуализации в логах осталось 7534 пользователей\n"
     ]
    }
   ],
   "source": [
    "print(f'После актуализации в логах осталось {log_data_actuality[\"device_id\"].nunique()} пользователей')"
   ]
  },
  {
   "cell_type": "code",
   "execution_count": 64,
   "metadata": {},
   "outputs": [
    {
     "name": "stdout",
     "output_type": "stream",
     "text": [
      "В результате актуализации мы отсеяли 17 пользователей\n"
     ]
    }
   ],
   "source": [
    "print(f'В результате актуализации мы отсеяли {log_data[\"device_id\"].nunique() - log_data_actuality[\"device_id\"].nunique()} пользователей')"
   ]
  },
  {
   "cell_type": "code",
   "execution_count": 65,
   "metadata": {},
   "outputs": [
    {
     "name": "stdout",
     "output_type": "stream",
     "text": [
      "Отсеянные пользователи составляют 0.23% от исходного количества пользователей\n"
     ]
    }
   ],
   "source": [
    "print(f'Отсеянные пользователи составляют {round(100 - (log_data_actuality[\"device_id\"].nunique() / log_data[\"device_id\"].nunique() * 100), 2)}% от исходного количества пользователей')"
   ]
  },
  {
   "cell_type": "code",
   "execution_count": 66,
   "metadata": {},
   "outputs": [
    {
     "name": "stdout",
     "output_type": "stream",
     "text": [
      "В результате актуализации мы отсеяли 2826 событий\n"
     ]
    }
   ],
   "source": [
    "print(f'В результате актуализации мы отсеяли {log_data[\"event\"].count() - log_data_actuality[\"event\"].count()} событий')"
   ]
  },
  {
   "cell_type": "code",
   "execution_count": 67,
   "metadata": {},
   "outputs": [
    {
     "name": "stdout",
     "output_type": "stream",
     "text": [
      "Отсеянные события составляют 1.16% от исходных данных\n"
     ]
    }
   ],
   "source": [
    "print(f'Отсеянные события составляют {round(100 - (log_data_actuality[\"event\"].count() / log_data[\"event\"].count() * 100), 2)}% от исходных данных')"
   ]
  },
  {
   "cell_type": "markdown",
   "metadata": {},
   "source": [
    "**Подвывод** После актуализации логов мы потеряли сведения о 17 `device_id`(около 0,23% исходных данных) и 2828 событиях (около 1,16% исходных данных)"
   ]
  },
  {
   "cell_type": "markdown",
   "metadata": {},
   "source": [
    "### Группы в актуальных данных"
   ]
  },
  {
   "cell_type": "code",
   "execution_count": 68,
   "metadata": {},
   "outputs": [
    {
     "data": {
      "text/plain": [
       "248    84563\n",
       "246    79302\n",
       "247    77022\n",
       "Name: group_number, dtype: int64"
      ]
     },
     "execution_count": 68,
     "metadata": {},
     "output_type": "execute_result"
    }
   ],
   "source": [
    "log_data_actuality['group_number'].value_counts()"
   ]
  },
  {
   "cell_type": "markdown",
   "metadata": {},
   "source": [
    "**Подвывод** Мы сохранили пользователей из всех трех груп"
   ]
  },
  {
   "cell_type": "markdown",
   "metadata": {},
   "source": [
    "**Общий вывод по разделу** В данном разделе мы:\n",
    "- избавились в логах от остаточных сведениях о событиях\n",
    "- скорректировали имеющиеся данные на актуальный период"
   ]
  },
  {
   "cell_type": "markdown",
   "metadata": {},
   "source": [
    "## 4 шаг. Воронка событий"
   ]
  },
  {
   "cell_type": "markdown",
   "metadata": {},
   "source": [
    "### Количество событий"
   ]
  },
  {
   "cell_type": "code",
   "execution_count": 69,
   "metadata": {},
   "outputs": [
    {
     "data": {
      "text/plain": [
       "MainScreenAppear           117328\n",
       "OffersScreenAppear          46333\n",
       "CartScreenAppear            42303\n",
       "PaymentScreenSuccessful     33918\n",
       "Tutorial                     1005\n",
       "Name: event, dtype: int64"
      ]
     },
     "execution_count": 69,
     "metadata": {},
     "output_type": "execute_result"
    }
   ],
   "source": [
    "log_data_actuality['event'].value_counts()"
   ]
  },
  {
   "cell_type": "markdown",
   "metadata": {},
   "source": [
    "**Подвывод** В имеющихся логах 5 видов событий, среди которых самое часто встречающееся `MainScreenAppear`"
   ]
  },
  {
   "cell_type": "markdown",
   "metadata": {},
   "source": [
    "### Количество и доли пользователей, совершивших то или иное событие"
   ]
  },
  {
   "cell_type": "code",
   "execution_count": 70,
   "metadata": {},
   "outputs": [],
   "source": [
    "# Сделаем сводную таблицу с данными об уникальных пользователях, которые совершали события\n",
    "event_user = (log_data_actuality.pivot_table(index='event', values='device_id', aggfunc='nunique')\n",
    "                                .reset_index()\n",
    "                                .sort_values(by='device_id', ascending=False)\n",
    "                                .reset_index(drop=True))"
   ]
  },
  {
   "cell_type": "markdown",
   "metadata": {},
   "source": [
    "**Подвывод** Учитывая количество пользователей совершающих те или иные события, а также перевод с английского языка, можно предположить, что наша воронка событий выглядит так:\n",
    "- MainScreenAppear (Появление основного экрана)\n",
    "- OffersScreenAppear (Появление экрана предложения к покупке)\n",
    "- CartScreenAppear (Появление экрана карты)\n",
    "- PaymentScreenSuccessful (Экран успешной покупки)\n",
    "\n",
    "При этом также становится понятно, что `Tutorial` (Руководство) является техническим событием и не входит в состав воронки и поэтому может быть исключен из анализа воронки событий"
   ]
  },
  {
   "cell_type": "markdown",
   "metadata": {},
   "source": [
    "### Поэтапная конверсия"
   ]
  },
  {
   "cell_type": "code",
   "execution_count": 71,
   "metadata": {},
   "outputs": [
    {
     "data": {
      "text/html": [
       "<div>\n",
       "<style scoped>\n",
       "    .dataframe tbody tr th:only-of-type {\n",
       "        vertical-align: middle;\n",
       "    }\n",
       "\n",
       "    .dataframe tbody tr th {\n",
       "        vertical-align: top;\n",
       "    }\n",
       "\n",
       "    .dataframe thead th {\n",
       "        text-align: right;\n",
       "    }\n",
       "</style>\n",
       "<table border=\"1\" class=\"dataframe\">\n",
       "  <thead>\n",
       "    <tr style=\"text-align: right;\">\n",
       "      <th></th>\n",
       "      <th>event</th>\n",
       "      <th>device_id</th>\n",
       "      <th>share</th>\n",
       "    </tr>\n",
       "  </thead>\n",
       "  <tbody>\n",
       "    <tr>\n",
       "      <th>0</th>\n",
       "      <td>MainScreenAppear</td>\n",
       "      <td>7419</td>\n",
       "      <td>98.50</td>\n",
       "    </tr>\n",
       "    <tr>\n",
       "      <th>1</th>\n",
       "      <td>OffersScreenAppear</td>\n",
       "      <td>4593</td>\n",
       "      <td>61.00</td>\n",
       "    </tr>\n",
       "    <tr>\n",
       "      <th>2</th>\n",
       "      <td>CartScreenAppear</td>\n",
       "      <td>3734</td>\n",
       "      <td>49.60</td>\n",
       "    </tr>\n",
       "    <tr>\n",
       "      <th>3</th>\n",
       "      <td>PaymentScreenSuccessful</td>\n",
       "      <td>3539</td>\n",
       "      <td>47.00</td>\n",
       "    </tr>\n",
       "  </tbody>\n",
       "</table>\n",
       "</div>"
      ],
      "text/plain": [
       "                     event  device_id  share\n",
       "0         MainScreenAppear       7419  98.50\n",
       "1       OffersScreenAppear       4593  61.00\n",
       "2         CartScreenAppear       3734  49.60\n",
       "3  PaymentScreenSuccessful       3539  47.00"
      ]
     },
     "execution_count": 71,
     "metadata": {},
     "output_type": "execute_result"
    }
   ],
   "source": [
    "# Добавим столбец с информацие о том, какую долю событий совершили пользователи от общего числа\n",
    "event_user['share'] = (event_user['device_id'] / log_data_actuality['device_id'].nunique() * 100).round(1)\n",
    "\n",
    "# Удалим из таблицы строку `Tutorial`, которая явно выпадает из общей логики воронки событий\n",
    "event_user = event_user.drop(labels = [4], axis=0)\n",
    "event_user"
   ]
  },
  {
   "cell_type": "code",
   "execution_count": 72,
   "metadata": {},
   "outputs": [
    {
     "data": {
      "application/vnd.plotly.v1+json": {
       "config": {
        "plotlyServerURL": "https://plot.ly"
       },
       "data": [
        {
         "textinfo": "value+percent initial+percent previous",
         "type": "funnel",
         "x": [
          7419,
          4593,
          3734,
          3539
         ],
         "y": [
          "MainScreenAppear",
          "OffersScreenAppear",
          "CartScreenAppear",
          "PaymentScreenSuccessful"
         ]
        }
       ],
       "layout": {
        "template": {
         "data": {
          "bar": [
           {
            "error_x": {
             "color": "#2a3f5f"
            },
            "error_y": {
             "color": "#2a3f5f"
            },
            "marker": {
             "line": {
              "color": "#E5ECF6",
              "width": 0.5
             },
             "pattern": {
              "fillmode": "overlay",
              "size": 10,
              "solidity": 0.2
             }
            },
            "type": "bar"
           }
          ],
          "barpolar": [
           {
            "marker": {
             "line": {
              "color": "#E5ECF6",
              "width": 0.5
             },
             "pattern": {
              "fillmode": "overlay",
              "size": 10,
              "solidity": 0.2
             }
            },
            "type": "barpolar"
           }
          ],
          "carpet": [
           {
            "aaxis": {
             "endlinecolor": "#2a3f5f",
             "gridcolor": "white",
             "linecolor": "white",
             "minorgridcolor": "white",
             "startlinecolor": "#2a3f5f"
            },
            "baxis": {
             "endlinecolor": "#2a3f5f",
             "gridcolor": "white",
             "linecolor": "white",
             "minorgridcolor": "white",
             "startlinecolor": "#2a3f5f"
            },
            "type": "carpet"
           }
          ],
          "choropleth": [
           {
            "colorbar": {
             "outlinewidth": 0,
             "ticks": ""
            },
            "type": "choropleth"
           }
          ],
          "contour": [
           {
            "colorbar": {
             "outlinewidth": 0,
             "ticks": ""
            },
            "colorscale": [
             [
              0,
              "#0d0887"
             ],
             [
              0.1111111111111111,
              "#46039f"
             ],
             [
              0.2222222222222222,
              "#7201a8"
             ],
             [
              0.3333333333333333,
              "#9c179e"
             ],
             [
              0.4444444444444444,
              "#bd3786"
             ],
             [
              0.5555555555555556,
              "#d8576b"
             ],
             [
              0.6666666666666666,
              "#ed7953"
             ],
             [
              0.7777777777777778,
              "#fb9f3a"
             ],
             [
              0.8888888888888888,
              "#fdca26"
             ],
             [
              1,
              "#f0f921"
             ]
            ],
            "type": "contour"
           }
          ],
          "contourcarpet": [
           {
            "colorbar": {
             "outlinewidth": 0,
             "ticks": ""
            },
            "type": "contourcarpet"
           }
          ],
          "heatmap": [
           {
            "colorbar": {
             "outlinewidth": 0,
             "ticks": ""
            },
            "colorscale": [
             [
              0,
              "#0d0887"
             ],
             [
              0.1111111111111111,
              "#46039f"
             ],
             [
              0.2222222222222222,
              "#7201a8"
             ],
             [
              0.3333333333333333,
              "#9c179e"
             ],
             [
              0.4444444444444444,
              "#bd3786"
             ],
             [
              0.5555555555555556,
              "#d8576b"
             ],
             [
              0.6666666666666666,
              "#ed7953"
             ],
             [
              0.7777777777777778,
              "#fb9f3a"
             ],
             [
              0.8888888888888888,
              "#fdca26"
             ],
             [
              1,
              "#f0f921"
             ]
            ],
            "type": "heatmap"
           }
          ],
          "heatmapgl": [
           {
            "colorbar": {
             "outlinewidth": 0,
             "ticks": ""
            },
            "colorscale": [
             [
              0,
              "#0d0887"
             ],
             [
              0.1111111111111111,
              "#46039f"
             ],
             [
              0.2222222222222222,
              "#7201a8"
             ],
             [
              0.3333333333333333,
              "#9c179e"
             ],
             [
              0.4444444444444444,
              "#bd3786"
             ],
             [
              0.5555555555555556,
              "#d8576b"
             ],
             [
              0.6666666666666666,
              "#ed7953"
             ],
             [
              0.7777777777777778,
              "#fb9f3a"
             ],
             [
              0.8888888888888888,
              "#fdca26"
             ],
             [
              1,
              "#f0f921"
             ]
            ],
            "type": "heatmapgl"
           }
          ],
          "histogram": [
           {
            "marker": {
             "pattern": {
              "fillmode": "overlay",
              "size": 10,
              "solidity": 0.2
             }
            },
            "type": "histogram"
           }
          ],
          "histogram2d": [
           {
            "colorbar": {
             "outlinewidth": 0,
             "ticks": ""
            },
            "colorscale": [
             [
              0,
              "#0d0887"
             ],
             [
              0.1111111111111111,
              "#46039f"
             ],
             [
              0.2222222222222222,
              "#7201a8"
             ],
             [
              0.3333333333333333,
              "#9c179e"
             ],
             [
              0.4444444444444444,
              "#bd3786"
             ],
             [
              0.5555555555555556,
              "#d8576b"
             ],
             [
              0.6666666666666666,
              "#ed7953"
             ],
             [
              0.7777777777777778,
              "#fb9f3a"
             ],
             [
              0.8888888888888888,
              "#fdca26"
             ],
             [
              1,
              "#f0f921"
             ]
            ],
            "type": "histogram2d"
           }
          ],
          "histogram2dcontour": [
           {
            "colorbar": {
             "outlinewidth": 0,
             "ticks": ""
            },
            "colorscale": [
             [
              0,
              "#0d0887"
             ],
             [
              0.1111111111111111,
              "#46039f"
             ],
             [
              0.2222222222222222,
              "#7201a8"
             ],
             [
              0.3333333333333333,
              "#9c179e"
             ],
             [
              0.4444444444444444,
              "#bd3786"
             ],
             [
              0.5555555555555556,
              "#d8576b"
             ],
             [
              0.6666666666666666,
              "#ed7953"
             ],
             [
              0.7777777777777778,
              "#fb9f3a"
             ],
             [
              0.8888888888888888,
              "#fdca26"
             ],
             [
              1,
              "#f0f921"
             ]
            ],
            "type": "histogram2dcontour"
           }
          ],
          "mesh3d": [
           {
            "colorbar": {
             "outlinewidth": 0,
             "ticks": ""
            },
            "type": "mesh3d"
           }
          ],
          "parcoords": [
           {
            "line": {
             "colorbar": {
              "outlinewidth": 0,
              "ticks": ""
             }
            },
            "type": "parcoords"
           }
          ],
          "pie": [
           {
            "automargin": true,
            "type": "pie"
           }
          ],
          "scatter": [
           {
            "fillpattern": {
             "fillmode": "overlay",
             "size": 10,
             "solidity": 0.2
            },
            "type": "scatter"
           }
          ],
          "scatter3d": [
           {
            "line": {
             "colorbar": {
              "outlinewidth": 0,
              "ticks": ""
             }
            },
            "marker": {
             "colorbar": {
              "outlinewidth": 0,
              "ticks": ""
             }
            },
            "type": "scatter3d"
           }
          ],
          "scattercarpet": [
           {
            "marker": {
             "colorbar": {
              "outlinewidth": 0,
              "ticks": ""
             }
            },
            "type": "scattercarpet"
           }
          ],
          "scattergeo": [
           {
            "marker": {
             "colorbar": {
              "outlinewidth": 0,
              "ticks": ""
             }
            },
            "type": "scattergeo"
           }
          ],
          "scattergl": [
           {
            "marker": {
             "colorbar": {
              "outlinewidth": 0,
              "ticks": ""
             }
            },
            "type": "scattergl"
           }
          ],
          "scattermapbox": [
           {
            "marker": {
             "colorbar": {
              "outlinewidth": 0,
              "ticks": ""
             }
            },
            "type": "scattermapbox"
           }
          ],
          "scatterpolar": [
           {
            "marker": {
             "colorbar": {
              "outlinewidth": 0,
              "ticks": ""
             }
            },
            "type": "scatterpolar"
           }
          ],
          "scatterpolargl": [
           {
            "marker": {
             "colorbar": {
              "outlinewidth": 0,
              "ticks": ""
             }
            },
            "type": "scatterpolargl"
           }
          ],
          "scatterternary": [
           {
            "marker": {
             "colorbar": {
              "outlinewidth": 0,
              "ticks": ""
             }
            },
            "type": "scatterternary"
           }
          ],
          "surface": [
           {
            "colorbar": {
             "outlinewidth": 0,
             "ticks": ""
            },
            "colorscale": [
             [
              0,
              "#0d0887"
             ],
             [
              0.1111111111111111,
              "#46039f"
             ],
             [
              0.2222222222222222,
              "#7201a8"
             ],
             [
              0.3333333333333333,
              "#9c179e"
             ],
             [
              0.4444444444444444,
              "#bd3786"
             ],
             [
              0.5555555555555556,
              "#d8576b"
             ],
             [
              0.6666666666666666,
              "#ed7953"
             ],
             [
              0.7777777777777778,
              "#fb9f3a"
             ],
             [
              0.8888888888888888,
              "#fdca26"
             ],
             [
              1,
              "#f0f921"
             ]
            ],
            "type": "surface"
           }
          ],
          "table": [
           {
            "cells": {
             "fill": {
              "color": "#EBF0F8"
             },
             "line": {
              "color": "white"
             }
            },
            "header": {
             "fill": {
              "color": "#C8D4E3"
             },
             "line": {
              "color": "white"
             }
            },
            "type": "table"
           }
          ]
         },
         "layout": {
          "annotationdefaults": {
           "arrowcolor": "#2a3f5f",
           "arrowhead": 0,
           "arrowwidth": 1
          },
          "autotypenumbers": "strict",
          "coloraxis": {
           "colorbar": {
            "outlinewidth": 0,
            "ticks": ""
           }
          },
          "colorscale": {
           "diverging": [
            [
             0,
             "#8e0152"
            ],
            [
             0.1,
             "#c51b7d"
            ],
            [
             0.2,
             "#de77ae"
            ],
            [
             0.3,
             "#f1b6da"
            ],
            [
             0.4,
             "#fde0ef"
            ],
            [
             0.5,
             "#f7f7f7"
            ],
            [
             0.6,
             "#e6f5d0"
            ],
            [
             0.7,
             "#b8e186"
            ],
            [
             0.8,
             "#7fbc41"
            ],
            [
             0.9,
             "#4d9221"
            ],
            [
             1,
             "#276419"
            ]
           ],
           "sequential": [
            [
             0,
             "#0d0887"
            ],
            [
             0.1111111111111111,
             "#46039f"
            ],
            [
             0.2222222222222222,
             "#7201a8"
            ],
            [
             0.3333333333333333,
             "#9c179e"
            ],
            [
             0.4444444444444444,
             "#bd3786"
            ],
            [
             0.5555555555555556,
             "#d8576b"
            ],
            [
             0.6666666666666666,
             "#ed7953"
            ],
            [
             0.7777777777777778,
             "#fb9f3a"
            ],
            [
             0.8888888888888888,
             "#fdca26"
            ],
            [
             1,
             "#f0f921"
            ]
           ],
           "sequentialminus": [
            [
             0,
             "#0d0887"
            ],
            [
             0.1111111111111111,
             "#46039f"
            ],
            [
             0.2222222222222222,
             "#7201a8"
            ],
            [
             0.3333333333333333,
             "#9c179e"
            ],
            [
             0.4444444444444444,
             "#bd3786"
            ],
            [
             0.5555555555555556,
             "#d8576b"
            ],
            [
             0.6666666666666666,
             "#ed7953"
            ],
            [
             0.7777777777777778,
             "#fb9f3a"
            ],
            [
             0.8888888888888888,
             "#fdca26"
            ],
            [
             1,
             "#f0f921"
            ]
           ]
          },
          "colorway": [
           "#636efa",
           "#EF553B",
           "#00cc96",
           "#ab63fa",
           "#FFA15A",
           "#19d3f3",
           "#FF6692",
           "#B6E880",
           "#FF97FF",
           "#FECB52"
          ],
          "font": {
           "color": "#2a3f5f"
          },
          "geo": {
           "bgcolor": "white",
           "lakecolor": "white",
           "landcolor": "#E5ECF6",
           "showlakes": true,
           "showland": true,
           "subunitcolor": "white"
          },
          "hoverlabel": {
           "align": "left"
          },
          "hovermode": "closest",
          "mapbox": {
           "style": "light"
          },
          "paper_bgcolor": "white",
          "plot_bgcolor": "#E5ECF6",
          "polar": {
           "angularaxis": {
            "gridcolor": "white",
            "linecolor": "white",
            "ticks": ""
           },
           "bgcolor": "#E5ECF6",
           "radialaxis": {
            "gridcolor": "white",
            "linecolor": "white",
            "ticks": ""
           }
          },
          "scene": {
           "xaxis": {
            "backgroundcolor": "#E5ECF6",
            "gridcolor": "white",
            "gridwidth": 2,
            "linecolor": "white",
            "showbackground": true,
            "ticks": "",
            "zerolinecolor": "white"
           },
           "yaxis": {
            "backgroundcolor": "#E5ECF6",
            "gridcolor": "white",
            "gridwidth": 2,
            "linecolor": "white",
            "showbackground": true,
            "ticks": "",
            "zerolinecolor": "white"
           },
           "zaxis": {
            "backgroundcolor": "#E5ECF6",
            "gridcolor": "white",
            "gridwidth": 2,
            "linecolor": "white",
            "showbackground": true,
            "ticks": "",
            "zerolinecolor": "white"
           }
          },
          "shapedefaults": {
           "line": {
            "color": "#2a3f5f"
           }
          },
          "ternary": {
           "aaxis": {
            "gridcolor": "white",
            "linecolor": "white",
            "ticks": ""
           },
           "baxis": {
            "gridcolor": "white",
            "linecolor": "white",
            "ticks": ""
           },
           "bgcolor": "#E5ECF6",
           "caxis": {
            "gridcolor": "white",
            "linecolor": "white",
            "ticks": ""
           }
          },
          "title": {
           "x": 0.05
          },
          "xaxis": {
           "automargin": true,
           "gridcolor": "white",
           "linecolor": "white",
           "ticks": "",
           "title": {
            "standoff": 15
           },
           "zerolinecolor": "white",
           "zerolinewidth": 2
          },
          "yaxis": {
           "automargin": true,
           "gridcolor": "white",
           "linecolor": "white",
           "ticks": "",
           "title": {
            "standoff": 15
           },
           "zerolinecolor": "white",
           "zerolinewidth": 2
          }
         }
        }
       }
      },
      "text/html": [
       "<div>                            <div id=\"4b84aa91-c41b-41e7-8d5c-945bbb464df0\" class=\"plotly-graph-div\" style=\"height:525px; width:100%;\"></div>            <script type=\"text/javascript\">                require([\"plotly\"], function(Plotly) {                    window.PLOTLYENV=window.PLOTLYENV || {};                                    if (document.getElementById(\"4b84aa91-c41b-41e7-8d5c-945bbb464df0\")) {                    Plotly.newPlot(                        \"4b84aa91-c41b-41e7-8d5c-945bbb464df0\",                        [{\"textinfo\":\"value+percent initial+percent previous\",\"x\":[7419,4593,3734,3539],\"y\":[\"MainScreenAppear\",\"OffersScreenAppear\",\"CartScreenAppear\",\"PaymentScreenSuccessful\"],\"type\":\"funnel\"}],                        {\"template\":{\"data\":{\"histogram2dcontour\":[{\"type\":\"histogram2dcontour\",\"colorbar\":{\"outlinewidth\":0,\"ticks\":\"\"},\"colorscale\":[[0.0,\"#0d0887\"],[0.1111111111111111,\"#46039f\"],[0.2222222222222222,\"#7201a8\"],[0.3333333333333333,\"#9c179e\"],[0.4444444444444444,\"#bd3786\"],[0.5555555555555556,\"#d8576b\"],[0.6666666666666666,\"#ed7953\"],[0.7777777777777778,\"#fb9f3a\"],[0.8888888888888888,\"#fdca26\"],[1.0,\"#f0f921\"]]}],\"choropleth\":[{\"type\":\"choropleth\",\"colorbar\":{\"outlinewidth\":0,\"ticks\":\"\"}}],\"histogram2d\":[{\"type\":\"histogram2d\",\"colorbar\":{\"outlinewidth\":0,\"ticks\":\"\"},\"colorscale\":[[0.0,\"#0d0887\"],[0.1111111111111111,\"#46039f\"],[0.2222222222222222,\"#7201a8\"],[0.3333333333333333,\"#9c179e\"],[0.4444444444444444,\"#bd3786\"],[0.5555555555555556,\"#d8576b\"],[0.6666666666666666,\"#ed7953\"],[0.7777777777777778,\"#fb9f3a\"],[0.8888888888888888,\"#fdca26\"],[1.0,\"#f0f921\"]]}],\"heatmap\":[{\"type\":\"heatmap\",\"colorbar\":{\"outlinewidth\":0,\"ticks\":\"\"},\"colorscale\":[[0.0,\"#0d0887\"],[0.1111111111111111,\"#46039f\"],[0.2222222222222222,\"#7201a8\"],[0.3333333333333333,\"#9c179e\"],[0.4444444444444444,\"#bd3786\"],[0.5555555555555556,\"#d8576b\"],[0.6666666666666666,\"#ed7953\"],[0.7777777777777778,\"#fb9f3a\"],[0.8888888888888888,\"#fdca26\"],[1.0,\"#f0f921\"]]}],\"heatmapgl\":[{\"type\":\"heatmapgl\",\"colorbar\":{\"outlinewidth\":0,\"ticks\":\"\"},\"colorscale\":[[0.0,\"#0d0887\"],[0.1111111111111111,\"#46039f\"],[0.2222222222222222,\"#7201a8\"],[0.3333333333333333,\"#9c179e\"],[0.4444444444444444,\"#bd3786\"],[0.5555555555555556,\"#d8576b\"],[0.6666666666666666,\"#ed7953\"],[0.7777777777777778,\"#fb9f3a\"],[0.8888888888888888,\"#fdca26\"],[1.0,\"#f0f921\"]]}],\"contourcarpet\":[{\"type\":\"contourcarpet\",\"colorbar\":{\"outlinewidth\":0,\"ticks\":\"\"}}],\"contour\":[{\"type\":\"contour\",\"colorbar\":{\"outlinewidth\":0,\"ticks\":\"\"},\"colorscale\":[[0.0,\"#0d0887\"],[0.1111111111111111,\"#46039f\"],[0.2222222222222222,\"#7201a8\"],[0.3333333333333333,\"#9c179e\"],[0.4444444444444444,\"#bd3786\"],[0.5555555555555556,\"#d8576b\"],[0.6666666666666666,\"#ed7953\"],[0.7777777777777778,\"#fb9f3a\"],[0.8888888888888888,\"#fdca26\"],[1.0,\"#f0f921\"]]}],\"surface\":[{\"type\":\"surface\",\"colorbar\":{\"outlinewidth\":0,\"ticks\":\"\"},\"colorscale\":[[0.0,\"#0d0887\"],[0.1111111111111111,\"#46039f\"],[0.2222222222222222,\"#7201a8\"],[0.3333333333333333,\"#9c179e\"],[0.4444444444444444,\"#bd3786\"],[0.5555555555555556,\"#d8576b\"],[0.6666666666666666,\"#ed7953\"],[0.7777777777777778,\"#fb9f3a\"],[0.8888888888888888,\"#fdca26\"],[1.0,\"#f0f921\"]]}],\"mesh3d\":[{\"type\":\"mesh3d\",\"colorbar\":{\"outlinewidth\":0,\"ticks\":\"\"}}],\"scatter\":[{\"fillpattern\":{\"fillmode\":\"overlay\",\"size\":10,\"solidity\":0.2},\"type\":\"scatter\"}],\"parcoords\":[{\"type\":\"parcoords\",\"line\":{\"colorbar\":{\"outlinewidth\":0,\"ticks\":\"\"}}}],\"scatterpolargl\":[{\"type\":\"scatterpolargl\",\"marker\":{\"colorbar\":{\"outlinewidth\":0,\"ticks\":\"\"}}}],\"bar\":[{\"error_x\":{\"color\":\"#2a3f5f\"},\"error_y\":{\"color\":\"#2a3f5f\"},\"marker\":{\"line\":{\"color\":\"#E5ECF6\",\"width\":0.5},\"pattern\":{\"fillmode\":\"overlay\",\"size\":10,\"solidity\":0.2}},\"type\":\"bar\"}],\"scattergeo\":[{\"type\":\"scattergeo\",\"marker\":{\"colorbar\":{\"outlinewidth\":0,\"ticks\":\"\"}}}],\"scatterpolar\":[{\"type\":\"scatterpolar\",\"marker\":{\"colorbar\":{\"outlinewidth\":0,\"ticks\":\"\"}}}],\"histogram\":[{\"marker\":{\"pattern\":{\"fillmode\":\"overlay\",\"size\":10,\"solidity\":0.2}},\"type\":\"histogram\"}],\"scattergl\":[{\"type\":\"scattergl\",\"marker\":{\"colorbar\":{\"outlinewidth\":0,\"ticks\":\"\"}}}],\"scatter3d\":[{\"type\":\"scatter3d\",\"line\":{\"colorbar\":{\"outlinewidth\":0,\"ticks\":\"\"}},\"marker\":{\"colorbar\":{\"outlinewidth\":0,\"ticks\":\"\"}}}],\"scattermapbox\":[{\"type\":\"scattermapbox\",\"marker\":{\"colorbar\":{\"outlinewidth\":0,\"ticks\":\"\"}}}],\"scatterternary\":[{\"type\":\"scatterternary\",\"marker\":{\"colorbar\":{\"outlinewidth\":0,\"ticks\":\"\"}}}],\"scattercarpet\":[{\"type\":\"scattercarpet\",\"marker\":{\"colorbar\":{\"outlinewidth\":0,\"ticks\":\"\"}}}],\"carpet\":[{\"aaxis\":{\"endlinecolor\":\"#2a3f5f\",\"gridcolor\":\"white\",\"linecolor\":\"white\",\"minorgridcolor\":\"white\",\"startlinecolor\":\"#2a3f5f\"},\"baxis\":{\"endlinecolor\":\"#2a3f5f\",\"gridcolor\":\"white\",\"linecolor\":\"white\",\"minorgridcolor\":\"white\",\"startlinecolor\":\"#2a3f5f\"},\"type\":\"carpet\"}],\"table\":[{\"cells\":{\"fill\":{\"color\":\"#EBF0F8\"},\"line\":{\"color\":\"white\"}},\"header\":{\"fill\":{\"color\":\"#C8D4E3\"},\"line\":{\"color\":\"white\"}},\"type\":\"table\"}],\"barpolar\":[{\"marker\":{\"line\":{\"color\":\"#E5ECF6\",\"width\":0.5},\"pattern\":{\"fillmode\":\"overlay\",\"size\":10,\"solidity\":0.2}},\"type\":\"barpolar\"}],\"pie\":[{\"automargin\":true,\"type\":\"pie\"}]},\"layout\":{\"autotypenumbers\":\"strict\",\"colorway\":[\"#636efa\",\"#EF553B\",\"#00cc96\",\"#ab63fa\",\"#FFA15A\",\"#19d3f3\",\"#FF6692\",\"#B6E880\",\"#FF97FF\",\"#FECB52\"],\"font\":{\"color\":\"#2a3f5f\"},\"hovermode\":\"closest\",\"hoverlabel\":{\"align\":\"left\"},\"paper_bgcolor\":\"white\",\"plot_bgcolor\":\"#E5ECF6\",\"polar\":{\"bgcolor\":\"#E5ECF6\",\"angularaxis\":{\"gridcolor\":\"white\",\"linecolor\":\"white\",\"ticks\":\"\"},\"radialaxis\":{\"gridcolor\":\"white\",\"linecolor\":\"white\",\"ticks\":\"\"}},\"ternary\":{\"bgcolor\":\"#E5ECF6\",\"aaxis\":{\"gridcolor\":\"white\",\"linecolor\":\"white\",\"ticks\":\"\"},\"baxis\":{\"gridcolor\":\"white\",\"linecolor\":\"white\",\"ticks\":\"\"},\"caxis\":{\"gridcolor\":\"white\",\"linecolor\":\"white\",\"ticks\":\"\"}},\"coloraxis\":{\"colorbar\":{\"outlinewidth\":0,\"ticks\":\"\"}},\"colorscale\":{\"sequential\":[[0.0,\"#0d0887\"],[0.1111111111111111,\"#46039f\"],[0.2222222222222222,\"#7201a8\"],[0.3333333333333333,\"#9c179e\"],[0.4444444444444444,\"#bd3786\"],[0.5555555555555556,\"#d8576b\"],[0.6666666666666666,\"#ed7953\"],[0.7777777777777778,\"#fb9f3a\"],[0.8888888888888888,\"#fdca26\"],[1.0,\"#f0f921\"]],\"sequentialminus\":[[0.0,\"#0d0887\"],[0.1111111111111111,\"#46039f\"],[0.2222222222222222,\"#7201a8\"],[0.3333333333333333,\"#9c179e\"],[0.4444444444444444,\"#bd3786\"],[0.5555555555555556,\"#d8576b\"],[0.6666666666666666,\"#ed7953\"],[0.7777777777777778,\"#fb9f3a\"],[0.8888888888888888,\"#fdca26\"],[1.0,\"#f0f921\"]],\"diverging\":[[0,\"#8e0152\"],[0.1,\"#c51b7d\"],[0.2,\"#de77ae\"],[0.3,\"#f1b6da\"],[0.4,\"#fde0ef\"],[0.5,\"#f7f7f7\"],[0.6,\"#e6f5d0\"],[0.7,\"#b8e186\"],[0.8,\"#7fbc41\"],[0.9,\"#4d9221\"],[1,\"#276419\"]]},\"xaxis\":{\"gridcolor\":\"white\",\"linecolor\":\"white\",\"ticks\":\"\",\"title\":{\"standoff\":15},\"zerolinecolor\":\"white\",\"automargin\":true,\"zerolinewidth\":2},\"yaxis\":{\"gridcolor\":\"white\",\"linecolor\":\"white\",\"ticks\":\"\",\"title\":{\"standoff\":15},\"zerolinecolor\":\"white\",\"automargin\":true,\"zerolinewidth\":2},\"scene\":{\"xaxis\":{\"backgroundcolor\":\"#E5ECF6\",\"gridcolor\":\"white\",\"linecolor\":\"white\",\"showbackground\":true,\"ticks\":\"\",\"zerolinecolor\":\"white\",\"gridwidth\":2},\"yaxis\":{\"backgroundcolor\":\"#E5ECF6\",\"gridcolor\":\"white\",\"linecolor\":\"white\",\"showbackground\":true,\"ticks\":\"\",\"zerolinecolor\":\"white\",\"gridwidth\":2},\"zaxis\":{\"backgroundcolor\":\"#E5ECF6\",\"gridcolor\":\"white\",\"linecolor\":\"white\",\"showbackground\":true,\"ticks\":\"\",\"zerolinecolor\":\"white\",\"gridwidth\":2}},\"shapedefaults\":{\"line\":{\"color\":\"#2a3f5f\"}},\"annotationdefaults\":{\"arrowcolor\":\"#2a3f5f\",\"arrowhead\":0,\"arrowwidth\":1},\"geo\":{\"bgcolor\":\"white\",\"landcolor\":\"#E5ECF6\",\"subunitcolor\":\"white\",\"showland\":true,\"showlakes\":true,\"lakecolor\":\"white\"},\"title\":{\"x\":0.05},\"mapbox\":{\"style\":\"light\"}}}},                        {\"responsive\": true}                    ).then(function(){\n",
       "                            \n",
       "var gd = document.getElementById('4b84aa91-c41b-41e7-8d5c-945bbb464df0');\n",
       "var x = new MutationObserver(function (mutations, observer) {{\n",
       "        var display = window.getComputedStyle(gd).display;\n",
       "        if (!display || display === 'none') {{\n",
       "            console.log([gd, 'removed!']);\n",
       "            Plotly.purge(gd);\n",
       "            observer.disconnect();\n",
       "        }}\n",
       "}});\n",
       "\n",
       "// Listen for the removal of the full notebook cells\n",
       "var notebookContainer = gd.closest('#notebook-container');\n",
       "if (notebookContainer) {{\n",
       "    x.observe(notebookContainer, {childList: true});\n",
       "}}\n",
       "\n",
       "// Listen for the clearing of the current output cell\n",
       "var outputEl = gd.closest('.output');\n",
       "if (outputEl) {{\n",
       "    x.observe(outputEl, {childList: true});\n",
       "}}\n",
       "\n",
       "                        })                };                });            </script>        </div>"
      ]
     },
     "metadata": {},
     "output_type": "display_data"
    }
   ],
   "source": [
    "# Построим воронку событий\n",
    "fig = go.Figure(\n",
    "    go.Funnel(\n",
    "        y=event_user['event'],\n",
    "        x=event_user['device_id'],\n",
    "        textinfo = \"value+percent initial+percent previous\"\n",
    "    )\n",
    ")\n",
    "fig.show() "
   ]
  },
  {
   "cell_type": "code",
   "execution_count": 73,
   "metadata": {},
   "outputs": [],
   "source": [
    "# Добавим поэтапную конверсию и добавим в таблицу\n",
    "\n",
    "event_user['conversation_events'] = round(event_user['device_id']\n",
    "                                          .shift(-1, fill_value=0) / event_user['device_id'] * 100, 2)\n",
    "event_user['conversation_events'] = event_user['conversation_events'].shift(1, fill_value=0)"
   ]
  },
  {
   "cell_type": "code",
   "execution_count": 74,
   "metadata": {},
   "outputs": [
    {
     "data": {
      "text/html": [
       "<div>\n",
       "<style scoped>\n",
       "    .dataframe tbody tr th:only-of-type {\n",
       "        vertical-align: middle;\n",
       "    }\n",
       "\n",
       "    .dataframe tbody tr th {\n",
       "        vertical-align: top;\n",
       "    }\n",
       "\n",
       "    .dataframe thead th {\n",
       "        text-align: right;\n",
       "    }\n",
       "</style>\n",
       "<table border=\"1\" class=\"dataframe\">\n",
       "  <thead>\n",
       "    <tr style=\"text-align: right;\">\n",
       "      <th></th>\n",
       "      <th>event</th>\n",
       "      <th>device_id</th>\n",
       "      <th>share</th>\n",
       "      <th>conversation_events</th>\n",
       "    </tr>\n",
       "  </thead>\n",
       "  <tbody>\n",
       "    <tr>\n",
       "      <th>0</th>\n",
       "      <td>MainScreenAppear</td>\n",
       "      <td>7419</td>\n",
       "      <td>98.50</td>\n",
       "      <td>0.00</td>\n",
       "    </tr>\n",
       "    <tr>\n",
       "      <th>1</th>\n",
       "      <td>OffersScreenAppear</td>\n",
       "      <td>4593</td>\n",
       "      <td>61.00</td>\n",
       "      <td>61.91</td>\n",
       "    </tr>\n",
       "    <tr>\n",
       "      <th>2</th>\n",
       "      <td>CartScreenAppear</td>\n",
       "      <td>3734</td>\n",
       "      <td>49.60</td>\n",
       "      <td>81.30</td>\n",
       "    </tr>\n",
       "    <tr>\n",
       "      <th>3</th>\n",
       "      <td>PaymentScreenSuccessful</td>\n",
       "      <td>3539</td>\n",
       "      <td>47.00</td>\n",
       "      <td>94.78</td>\n",
       "    </tr>\n",
       "  </tbody>\n",
       "</table>\n",
       "</div>"
      ],
      "text/plain": [
       "                     event  device_id  share  conversation_events\n",
       "0         MainScreenAppear       7419  98.50                 0.00\n",
       "1       OffersScreenAppear       4593  61.00                61.91\n",
       "2         CartScreenAppear       3734  49.60                81.30\n",
       "3  PaymentScreenSuccessful       3539  47.00                94.78"
      ]
     },
     "execution_count": 74,
     "metadata": {},
     "output_type": "execute_result"
    }
   ],
   "source": [
    "event_user"
   ]
  },
  {
   "cell_type": "code",
   "execution_count": 75,
   "metadata": {},
   "outputs": [
    {
     "data": {
      "text/plain": [
       "47.7"
      ]
     },
     "execution_count": 75,
     "metadata": {},
     "output_type": "execute_result"
    }
   ],
   "source": [
    "# Узнаем какая доля пользователей доходит от первого события до оплаты\n",
    "(event_user['device_id'][3] / event_user['device_id'][0] * 100).round(1)"
   ]
  },
  {
   "cell_type": "markdown",
   "metadata": {},
   "source": [
    "**Подвывод** Можно сделать следующие выводы:\n",
    "- больше всего теряем в конверсии на шаге между переходом от основного экрана на экран предложения покупки (37,5%)\n",
    "- от первого шага (Основной экран) до этапа подтверждения покупки остаются 47,7% уникальных пользователей"
   ]
  },
  {
   "cell_type": "markdown",
   "metadata": {},
   "source": [
    "## 5 шаг. Изучение результатов А/А/В-теста"
   ]
  },
  {
   "cell_type": "markdown",
   "metadata": {},
   "source": [
    "### Количество пользователей в группах "
   ]
  },
  {
   "cell_type": "code",
   "execution_count": 76,
   "metadata": {},
   "outputs": [
    {
     "data": {
      "text/plain": [
       "group_number\n",
       "246        2484\n",
       "247        2513\n",
       "248        2537\n",
       "246_247    4997\n",
       "Name: device_id, dtype: int64"
      ]
     },
     "execution_count": 76,
     "metadata": {},
     "output_type": "execute_result"
    }
   ],
   "source": [
    "group_size = log_data_actuality.groupby('group_number')['device_id'].nunique()\n",
    "group_size['246_247'] = group_size[246] + group_size[247]\n",
    "group_size"
   ]
  },
  {
   "cell_type": "markdown",
   "metadata": {},
   "source": [
    "**Выводы** В каждой группе разное количество пользователей. Также мы получили мсведения о количестве пользователей в сборной группе 246+247, для решения дальнейших задач."
   ]
  },
  {
   "cell_type": "markdown",
   "metadata": {},
   "source": [
    "### Статистическая сопоставимость выборок пользователей"
   ]
  },
  {
   "cell_type": "markdown",
   "metadata": {},
   "source": [
    "#### Расчет действий пользователей по группам"
   ]
  },
  {
   "cell_type": "code",
   "execution_count": 77,
   "metadata": {},
   "outputs": [],
   "source": [
    "# Сделаем сводную таблицу с разбивкой по группам\n",
    "event_group = (\n",
    "               log_data_actuality.pivot_table(\n",
    "                                  index='event', \n",
    "                                  columns='group_number', \n",
    "                                  values='device_id', \n",
    "                                  aggfunc='nunique').sort_values(\n",
    "                                  by=246, \n",
    "                                  ascending=False)\n",
    "            )"
   ]
  },
  {
   "cell_type": "code",
   "execution_count": 78,
   "metadata": {},
   "outputs": [],
   "source": [
    "event_group = event_group.rename_axis(None)"
   ]
  },
  {
   "cell_type": "code",
   "execution_count": 79,
   "metadata": {},
   "outputs": [
    {
     "data": {
      "text/html": [
       "<div>\n",
       "<style scoped>\n",
       "    .dataframe tbody tr th:only-of-type {\n",
       "        vertical-align: middle;\n",
       "    }\n",
       "\n",
       "    .dataframe tbody tr th {\n",
       "        vertical-align: top;\n",
       "    }\n",
       "\n",
       "    .dataframe thead th {\n",
       "        text-align: right;\n",
       "    }\n",
       "</style>\n",
       "<table border=\"1\" class=\"dataframe\">\n",
       "  <thead>\n",
       "    <tr style=\"text-align: right;\">\n",
       "      <th>group_number</th>\n",
       "      <th>246</th>\n",
       "      <th>247</th>\n",
       "      <th>248</th>\n",
       "      <th>246_share</th>\n",
       "      <th>247_share</th>\n",
       "      <th>248_share</th>\n",
       "      <th>246_247</th>\n",
       "      <th>246_247_share</th>\n",
       "    </tr>\n",
       "  </thead>\n",
       "  <tbody>\n",
       "    <tr>\n",
       "      <th>MainScreenAppear</th>\n",
       "      <td>2450</td>\n",
       "      <td>2476</td>\n",
       "      <td>2493</td>\n",
       "      <td>98.63</td>\n",
       "      <td>98.53</td>\n",
       "      <td>98.27</td>\n",
       "      <td>4926</td>\n",
       "      <td>98.58</td>\n",
       "    </tr>\n",
       "    <tr>\n",
       "      <th>OffersScreenAppear</th>\n",
       "      <td>1542</td>\n",
       "      <td>1520</td>\n",
       "      <td>1531</td>\n",
       "      <td>62.08</td>\n",
       "      <td>60.49</td>\n",
       "      <td>60.35</td>\n",
       "      <td>3062</td>\n",
       "      <td>61.28</td>\n",
       "    </tr>\n",
       "    <tr>\n",
       "      <th>CartScreenAppear</th>\n",
       "      <td>1266</td>\n",
       "      <td>1238</td>\n",
       "      <td>1230</td>\n",
       "      <td>50.97</td>\n",
       "      <td>49.26</td>\n",
       "      <td>48.48</td>\n",
       "      <td>2504</td>\n",
       "      <td>50.11</td>\n",
       "    </tr>\n",
       "    <tr>\n",
       "      <th>PaymentScreenSuccessful</th>\n",
       "      <td>1200</td>\n",
       "      <td>1158</td>\n",
       "      <td>1181</td>\n",
       "      <td>48.31</td>\n",
       "      <td>46.08</td>\n",
       "      <td>46.55</td>\n",
       "      <td>2358</td>\n",
       "      <td>47.19</td>\n",
       "    </tr>\n",
       "    <tr>\n",
       "      <th>Tutorial</th>\n",
       "      <td>278</td>\n",
       "      <td>283</td>\n",
       "      <td>279</td>\n",
       "      <td>11.19</td>\n",
       "      <td>11.26</td>\n",
       "      <td>11.00</td>\n",
       "      <td>561</td>\n",
       "      <td>11.23</td>\n",
       "    </tr>\n",
       "  </tbody>\n",
       "</table>\n",
       "</div>"
      ],
      "text/plain": [
       "group_number              246   247   248  246_share  247_share  248_share  \\\n",
       "MainScreenAppear         2450  2476  2493      98.63      98.53      98.27   \n",
       "OffersScreenAppear       1542  1520  1531      62.08      60.49      60.35   \n",
       "CartScreenAppear         1266  1238  1230      50.97      49.26      48.48   \n",
       "PaymentScreenSuccessful  1200  1158  1181      48.31      46.08      46.55   \n",
       "Tutorial                  278   283   279      11.19      11.26      11.00   \n",
       "\n",
       "group_number             246_247  246_247_share  \n",
       "MainScreenAppear            4926          98.58  \n",
       "OffersScreenAppear          3062          61.28  \n",
       "CartScreenAppear            2504          50.11  \n",
       "PaymentScreenSuccessful     2358          47.19  \n",
       "Tutorial                     561          11.23  "
      ]
     },
     "execution_count": 79,
     "metadata": {},
     "output_type": "execute_result"
    }
   ],
   "source": [
    "# Добавим сведения о совместной группе 246 и 247 выборки, а также добавим доли пользователей совершивших то или иное действие\n",
    "event_group['246_share'] = event_group[246] / group_size[246] * 100\n",
    "event_group['247_share'] = event_group[247] / group_size[247] * 100\n",
    "event_group['248_share'] = event_group[248] / group_size[248] * 100\n",
    "event_group['246_247'] = event_group[246] + event_group[247]\n",
    "event_group['246_247_share'] = (event_group['246_247'] / \n",
    "                               group_size['246_247'] * 100)\n",
    "\n",
    "event_group"
   ]
  },
  {
   "cell_type": "markdown",
   "metadata": {},
   "source": [
    "**Выводы** Мы получили сведения обо всех действиях пользователей в разбивке по группам"
   ]
  },
  {
   "cell_type": "markdown",
   "metadata": {},
   "source": [
    "#### Функция для проведения сравнительного анализа"
   ]
  },
  {
   "cell_type": "code",
   "execution_count": 80,
   "metadata": {},
   "outputs": [],
   "source": [
    "def comparison(g_num1, g_num2, event, alpha):\n",
    "    \n",
    "    p1_ev = event_group.loc[event, g_num1]\n",
    "    p2_ev = event_group.loc[event, g_num2]\n",
    "    p1_us = group.loc[g_num1]\n",
    "    p2_us = group.loc[g_num2]\n",
    " \n",
    "    # пропорция успехов в первой группе:\n",
    "    p1 = p1_ev/p1_us\n",
    " \n",
    "    # пропорция успехов во второй группе:\n",
    "    p2 = p2_ev/p2_us\n",
    " \n",
    "    # пропорция успехов в комбинированном датасете:\n",
    "    p_combined = (p1_ev + p2_ev) / (p1_us + p2_us)\n",
    " \n",
    "    # разница пропорций в датасетах\n",
    "    difference = p1 - p2 \n",
    " \n",
    "    z_value = difference / mth.sqrt(p_combined * (1 - p_combined) * (1/p1_us + 1/p2_us))\n",
    " \n",
    "    # задаем стандартное нормальное распределение (среднее 0, ст.отклонение 1)\n",
    "    distr = st.norm(0, 1)\n",
    " \n",
    "    p_value = (1 - distr.cdf(abs(z_value))) * 2\n",
    " \n",
    "    print(f'событие {event} p-value: {p_value}')\n",
    " \n",
    "    if p_value < alpha:\n",
    "        print('Есть основания отвергнуть нулевую гипотезу: разница между долями статистически значимая')\n",
    "    else:\n",
    "        print('Нет оснований отвергать нулевую гипотезу, разница между долями статистически незначительна')\n",
    " \n"
   ]
  },
  {
   "cell_type": "markdown",
   "metadata": {},
   "source": [
    "**Вывод** Подготовил функцию, которая упростит нам проведение дальнейшего сравнительного анализа"
   ]
  },
  {
   "cell_type": "markdown",
   "metadata": {},
   "source": [
    "### Сравнительный анализ "
   ]
  },
  {
   "cell_type": "markdown",
   "metadata": {},
   "source": [
    "В рамках проведения сравнительного анализа будет проведено сравнение между всеми выборками между собой по всем событиям (в том числе сравним сводную группу 246+247 с группой 248). Поскольку нулевая и альернативная гипотеза для всех тестов будут одинаковая, сформулируем их в этом блоке:\n",
    "- Нулевая гипотеза: \"Доли уникальных посетителей, побывавших на этапе воронки, одинаковы\"\n",
    "- Альтернативная гипотеза: \"Между долями уникальных посетителей, побывавших на этапе воронки, есть значимая разница\""
   ]
  },
  {
   "cell_type": "markdown",
   "metadata": {},
   "source": [
    "#### Сравнение 246 и 247 выборки"
   ]
  },
  {
   "cell_type": "code",
   "execution_count": 81,
   "metadata": {},
   "outputs": [
    {
     "ename": "NameError",
     "evalue": "name 'group' is not defined",
     "output_type": "error",
     "traceback": [
      "\u001b[1;31m---------------------------------------------------------------------------\u001b[0m",
      "\u001b[1;31mNameError\u001b[0m                                 Traceback (most recent call last)",
      "\u001b[1;32m~\\AppData\\Local\\Temp/ipykernel_37916/715221484.py\u001b[0m in \u001b[0;36m<module>\u001b[1;34m\u001b[0m\n\u001b[0;32m      1\u001b[0m \u001b[1;32mfor\u001b[0m \u001b[0mevent\u001b[0m \u001b[1;32min\u001b[0m \u001b[0mevent_group\u001b[0m\u001b[1;33m.\u001b[0m\u001b[0mindex\u001b[0m\u001b[1;33m:\u001b[0m\u001b[1;33m\u001b[0m\u001b[1;33m\u001b[0m\u001b[0m\n\u001b[1;32m----> 2\u001b[1;33m     \u001b[0mcomparison\u001b[0m\u001b[1;33m(\u001b[0m\u001b[1;36m246\u001b[0m\u001b[1;33m,\u001b[0m \u001b[1;36m247\u001b[0m\u001b[1;33m,\u001b[0m \u001b[0mevent\u001b[0m\u001b[1;33m,\u001b[0m \u001b[0malpha\u001b[0m\u001b[1;33m=\u001b[0m\u001b[1;36m0.05\u001b[0m\u001b[1;33m)\u001b[0m\u001b[1;33m\u001b[0m\u001b[1;33m\u001b[0m\u001b[0m\n\u001b[0m\u001b[0;32m      3\u001b[0m     \u001b[0mprint\u001b[0m\u001b[1;33m(\u001b[0m\u001b[1;33m)\u001b[0m\u001b[1;33m\u001b[0m\u001b[1;33m\u001b[0m\u001b[0m\n",
      "\u001b[1;32m~\\AppData\\Local\\Temp/ipykernel_37916/3726464338.py\u001b[0m in \u001b[0;36mcomparison\u001b[1;34m(g_num1, g_num2, event, alpha)\u001b[0m\n\u001b[0;32m      3\u001b[0m     \u001b[0mp1_ev\u001b[0m \u001b[1;33m=\u001b[0m \u001b[0mevent_group\u001b[0m\u001b[1;33m.\u001b[0m\u001b[0mloc\u001b[0m\u001b[1;33m[\u001b[0m\u001b[0mevent\u001b[0m\u001b[1;33m,\u001b[0m \u001b[0mg_num1\u001b[0m\u001b[1;33m]\u001b[0m\u001b[1;33m\u001b[0m\u001b[1;33m\u001b[0m\u001b[0m\n\u001b[0;32m      4\u001b[0m     \u001b[0mp2_ev\u001b[0m \u001b[1;33m=\u001b[0m \u001b[0mevent_group\u001b[0m\u001b[1;33m.\u001b[0m\u001b[0mloc\u001b[0m\u001b[1;33m[\u001b[0m\u001b[0mevent\u001b[0m\u001b[1;33m,\u001b[0m \u001b[0mg_num2\u001b[0m\u001b[1;33m]\u001b[0m\u001b[1;33m\u001b[0m\u001b[1;33m\u001b[0m\u001b[0m\n\u001b[1;32m----> 5\u001b[1;33m     \u001b[0mp1_us\u001b[0m \u001b[1;33m=\u001b[0m \u001b[0mgroup\u001b[0m\u001b[1;33m.\u001b[0m\u001b[0mloc\u001b[0m\u001b[1;33m[\u001b[0m\u001b[0mg_num1\u001b[0m\u001b[1;33m]\u001b[0m\u001b[1;33m\u001b[0m\u001b[1;33m\u001b[0m\u001b[0m\n\u001b[0m\u001b[0;32m      6\u001b[0m     \u001b[0mp2_us\u001b[0m \u001b[1;33m=\u001b[0m \u001b[0mgroup\u001b[0m\u001b[1;33m.\u001b[0m\u001b[0mloc\u001b[0m\u001b[1;33m[\u001b[0m\u001b[0mg_num2\u001b[0m\u001b[1;33m]\u001b[0m\u001b[1;33m\u001b[0m\u001b[1;33m\u001b[0m\u001b[0m\n\u001b[0;32m      7\u001b[0m \u001b[1;33m\u001b[0m\u001b[0m\n",
      "\u001b[1;31mNameError\u001b[0m: name 'group' is not defined"
     ]
    }
   ],
   "source": [
    "for event in event_group.index:\n",
    "    comparison(246, 247, event, alpha=0.05)\n",
    "    print()"
   ]
  },
  {
   "cell_type": "markdown",
   "metadata": {},
   "source": [
    "#### Сравнение 246 и 248 выборки"
   ]
  },
  {
   "cell_type": "code",
   "execution_count": null,
   "metadata": {},
   "outputs": [],
   "source": [
    "for event in event_group.index:\n",
    "    comparison(246, 248, event, alpha=0.05)\n",
    "    print()"
   ]
  },
  {
   "cell_type": "markdown",
   "metadata": {},
   "source": [
    "#### Сравнение 247 и 248 выборки"
   ]
  },
  {
   "cell_type": "code",
   "execution_count": null,
   "metadata": {},
   "outputs": [],
   "source": [
    "for event in event_group.index:\n",
    "    comparison(247, 248, event, alpha=0.05)\n",
    "    print()"
   ]
  },
  {
   "cell_type": "markdown",
   "metadata": {},
   "source": [
    "#### Сравнение суммарной выборки 246 и 247 с 248 выборкой"
   ]
  },
  {
   "cell_type": "code",
   "execution_count": null,
   "metadata": {},
   "outputs": [],
   "source": [
    "for event in event_group.index:\n",
    "    comparison('246_247', 248, event, alpha=0.05)\n",
    "    print()"
   ]
  },
  {
   "cell_type": "markdown",
   "metadata": {},
   "source": [
    "**Вывод по результатам анализа** После проведения всех сравнительных процедур, нам не удалось найти статистически значимых различий между выборками пользователей, что говорит о том, что разделение пользователей на группы было осуществленно корректно. В рамках проведения анализа я использовал порог статистической значимости 95%, поэтому нет никаких оснований проводить какие то дополнительные аналитические процедуры. При этом, учитывая, что мы проводили множественную проверку гипотез, то существовала бы высокая вероятность получить ложноотрицательный результат, соответственно было бы логично применить поправку Бонферони, поделив выбранную нами alpha на количество проведенных тестов. Однако, поскольку даже при пороге статистической значимости в 0,05% мы не выявили сколько нибудь статистически значимых отличий, можно предположить, что критерий сопоставимости был выбран корректно и не требует применения поправки Бонферони."
   ]
  },
  {
   "cell_type": "markdown",
   "metadata": {},
   "source": [
    "## Общий вывод"
   ]
  },
  {
   "cell_type": "markdown",
   "metadata": {},
   "source": [
    "В рамках проекта был проведен сравнительный статистический анализ действий пользователей, в результате которого не удалось установить каких либо существенных отличий действий пользователей в разных группах. Соответственно можно сделать вывод, что изменение шрифта не влияет на поведение пользователей значимым образом."
   ]
  }
 ],
 "metadata": {
  "ExecuteTimeLog": [
   {
    "duration": 1221,
    "start_time": "2022-05-19T11:59:48.623Z"
   },
   {
    "duration": 636,
    "start_time": "2022-05-19T11:59:49.847Z"
   },
   {
    "duration": 15,
    "start_time": "2022-05-19T11:59:50.485Z"
   },
   {
    "duration": 108,
    "start_time": "2022-05-19T11:59:50.501Z"
   },
   {
    "duration": 0,
    "start_time": "2022-05-19T11:59:50.613Z"
   },
   {
    "duration": 0,
    "start_time": "2022-05-19T11:59:50.614Z"
   },
   {
    "duration": 0,
    "start_time": "2022-05-19T11:59:50.623Z"
   },
   {
    "duration": 0,
    "start_time": "2022-05-19T11:59:50.624Z"
   },
   {
    "duration": 0,
    "start_time": "2022-05-19T11:59:50.625Z"
   },
   {
    "duration": 0,
    "start_time": "2022-05-19T11:59:50.626Z"
   },
   {
    "duration": 0,
    "start_time": "2022-05-19T11:59:50.628Z"
   },
   {
    "duration": 0,
    "start_time": "2022-05-19T11:59:50.628Z"
   },
   {
    "duration": 0,
    "start_time": "2022-05-19T11:59:50.629Z"
   },
   {
    "duration": 0,
    "start_time": "2022-05-19T11:59:50.630Z"
   },
   {
    "duration": 0,
    "start_time": "2022-05-19T11:59:50.632Z"
   },
   {
    "duration": 0,
    "start_time": "2022-05-19T11:59:50.633Z"
   },
   {
    "duration": 0,
    "start_time": "2022-05-19T11:59:50.634Z"
   },
   {
    "duration": 0,
    "start_time": "2022-05-19T11:59:50.635Z"
   },
   {
    "duration": 0,
    "start_time": "2022-05-19T11:59:50.636Z"
   },
   {
    "duration": 0,
    "start_time": "2022-05-19T11:59:50.637Z"
   },
   {
    "duration": 0,
    "start_time": "2022-05-19T11:59:50.638Z"
   },
   {
    "duration": 0,
    "start_time": "2022-05-19T11:59:50.639Z"
   },
   {
    "duration": 0,
    "start_time": "2022-05-19T11:59:50.640Z"
   },
   {
    "duration": 0,
    "start_time": "2022-05-19T11:59:50.642Z"
   },
   {
    "duration": 0,
    "start_time": "2022-05-19T11:59:50.643Z"
   },
   {
    "duration": 0,
    "start_time": "2022-05-19T11:59:50.644Z"
   },
   {
    "duration": 0,
    "start_time": "2022-05-19T11:59:50.645Z"
   },
   {
    "duration": 0,
    "start_time": "2022-05-19T11:59:50.645Z"
   },
   {
    "duration": 0,
    "start_time": "2022-05-19T11:59:50.647Z"
   },
   {
    "duration": 0,
    "start_time": "2022-05-19T11:59:50.648Z"
   },
   {
    "duration": 0,
    "start_time": "2022-05-19T11:59:50.649Z"
   },
   {
    "duration": 148,
    "start_time": "2022-05-19T12:00:23.637Z"
   },
   {
    "duration": 10,
    "start_time": "2022-05-19T12:00:24.274Z"
   },
   {
    "duration": 6,
    "start_time": "2022-05-19T12:00:40.166Z"
   },
   {
    "duration": 165,
    "start_time": "2022-05-19T12:00:40.174Z"
   },
   {
    "duration": 10,
    "start_time": "2022-05-19T12:00:40.341Z"
   },
   {
    "duration": 5,
    "start_time": "2022-05-19T12:00:40.354Z"
   },
   {
    "duration": 163,
    "start_time": "2022-05-19T12:00:40.360Z"
   },
   {
    "duration": 81,
    "start_time": "2022-05-19T12:00:40.525Z"
   },
   {
    "duration": 11,
    "start_time": "2022-05-19T12:00:40.622Z"
   },
   {
    "duration": 125,
    "start_time": "2022-05-19T12:00:40.635Z"
   },
   {
    "duration": 13,
    "start_time": "2022-05-19T12:00:40.762Z"
   },
   {
    "duration": 23,
    "start_time": "2022-05-19T12:00:40.778Z"
   },
   {
    "duration": 23,
    "start_time": "2022-05-19T12:00:40.803Z"
   },
   {
    "duration": 17,
    "start_time": "2022-05-19T12:00:40.827Z"
   },
   {
    "duration": 342,
    "start_time": "2022-05-19T12:00:40.846Z"
   },
   {
    "duration": 331,
    "start_time": "2022-05-19T12:00:41.190Z"
   },
   {
    "duration": 460,
    "start_time": "2022-05-19T12:00:41.524Z"
   },
   {
    "duration": 20,
    "start_time": "2022-05-19T12:00:41.986Z"
   },
   {
    "duration": 23,
    "start_time": "2022-05-19T12:00:42.008Z"
   },
   {
    "duration": 12,
    "start_time": "2022-05-19T12:00:42.033Z"
   },
   {
    "duration": 23,
    "start_time": "2022-05-19T12:00:42.046Z"
   },
   {
    "duration": 7,
    "start_time": "2022-05-19T12:00:42.071Z"
   },
   {
    "duration": 57,
    "start_time": "2022-05-19T12:00:42.079Z"
   },
   {
    "duration": 65,
    "start_time": "2022-05-19T12:00:42.138Z"
   },
   {
    "duration": 25,
    "start_time": "2022-05-19T12:00:42.204Z"
   },
   {
    "duration": 5,
    "start_time": "2022-05-19T12:00:42.231Z"
   },
   {
    "duration": 11,
    "start_time": "2022-05-19T12:00:42.238Z"
   },
   {
    "duration": 6,
    "start_time": "2022-05-19T12:00:42.251Z"
   },
   {
    "duration": 225,
    "start_time": "2022-05-19T12:00:42.259Z"
   },
   {
    "duration": 10,
    "start_time": "2022-05-19T12:00:42.489Z"
   },
   {
    "duration": 35,
    "start_time": "2022-05-19T12:00:42.501Z"
   },
   {
    "duration": 15,
    "start_time": "2022-05-19T12:00:42.538Z"
   },
   {
    "duration": 70,
    "start_time": "2022-05-19T12:00:42.555Z"
   },
   {
    "duration": 9,
    "start_time": "2022-05-19T12:01:41.783Z"
   },
   {
    "duration": 9,
    "start_time": "2022-05-19T12:02:10.552Z"
   },
   {
    "duration": 134,
    "start_time": "2022-05-19T16:08:23.851Z"
   },
   {
    "duration": 5,
    "start_time": "2022-05-19T16:08:36.046Z"
   },
   {
    "duration": 246,
    "start_time": "2022-05-19T16:08:36.053Z"
   },
   {
    "duration": 9,
    "start_time": "2022-05-19T16:08:36.300Z"
   },
   {
    "duration": 6,
    "start_time": "2022-05-19T16:08:36.311Z"
   },
   {
    "duration": 90,
    "start_time": "2022-05-19T16:08:36.319Z"
   },
   {
    "duration": 75,
    "start_time": "2022-05-19T16:08:36.411Z"
   },
   {
    "duration": 8,
    "start_time": "2022-05-19T16:08:36.488Z"
   },
   {
    "duration": 128,
    "start_time": "2022-05-19T16:08:36.498Z"
   },
   {
    "duration": 12,
    "start_time": "2022-05-19T16:08:36.628Z"
   },
   {
    "duration": 23,
    "start_time": "2022-05-19T16:08:36.642Z"
   },
   {
    "duration": 8,
    "start_time": "2022-05-19T16:08:36.666Z"
   },
   {
    "duration": 15,
    "start_time": "2022-05-19T16:08:36.675Z"
   },
   {
    "duration": 302,
    "start_time": "2022-05-19T16:08:36.691Z"
   },
   {
    "duration": 362,
    "start_time": "2022-05-19T16:08:36.996Z"
   },
   {
    "duration": 342,
    "start_time": "2022-05-19T16:08:37.359Z"
   },
   {
    "duration": 23,
    "start_time": "2022-05-19T16:08:37.703Z"
   },
   {
    "duration": 7,
    "start_time": "2022-05-19T16:08:37.728Z"
   },
   {
    "duration": 10,
    "start_time": "2022-05-19T16:08:37.737Z"
   },
   {
    "duration": 21,
    "start_time": "2022-05-19T16:08:37.749Z"
   },
   {
    "duration": 5,
    "start_time": "2022-05-19T16:08:37.772Z"
   },
   {
    "duration": 56,
    "start_time": "2022-05-19T16:08:37.779Z"
   },
   {
    "duration": 60,
    "start_time": "2022-05-19T16:08:37.836Z"
   },
   {
    "duration": 8,
    "start_time": "2022-05-19T16:08:37.898Z"
   },
   {
    "duration": 18,
    "start_time": "2022-05-19T16:08:37.907Z"
   },
   {
    "duration": 11,
    "start_time": "2022-05-19T16:08:37.927Z"
   },
   {
    "duration": 9,
    "start_time": "2022-05-19T16:08:37.940Z"
   },
   {
    "duration": 13,
    "start_time": "2022-05-19T16:08:37.951Z"
   },
   {
    "duration": 11,
    "start_time": "2022-05-19T16:08:37.966Z"
   },
   {
    "duration": 10,
    "start_time": "2022-05-19T16:08:37.978Z"
   },
   {
    "duration": 39,
    "start_time": "2022-05-19T16:08:37.990Z"
   },
   {
    "duration": 5,
    "start_time": "2022-05-19T16:09:40.125Z"
   },
   {
    "duration": 159,
    "start_time": "2022-05-19T16:09:40.132Z"
   },
   {
    "duration": 99,
    "start_time": "2022-05-19T16:09:40.293Z"
   },
   {
    "duration": 3,
    "start_time": "2022-05-19T16:09:40.394Z"
   },
   {
    "duration": 90,
    "start_time": "2022-05-19T16:09:40.399Z"
   },
   {
    "duration": 9,
    "start_time": "2022-05-19T16:09:40.491Z"
   },
   {
    "duration": 131,
    "start_time": "2022-05-19T16:09:40.502Z"
   },
   {
    "duration": 13,
    "start_time": "2022-05-19T16:09:40.635Z"
   },
   {
    "duration": 21,
    "start_time": "2022-05-19T16:09:40.649Z"
   },
   {
    "duration": 9,
    "start_time": "2022-05-19T16:09:40.671Z"
   },
   {
    "duration": 19,
    "start_time": "2022-05-19T16:09:40.682Z"
   },
   {
    "duration": 366,
    "start_time": "2022-05-19T16:09:40.724Z"
   },
   {
    "duration": 303,
    "start_time": "2022-05-19T16:09:41.092Z"
   },
   {
    "duration": 349,
    "start_time": "2022-05-19T16:09:41.398Z"
   },
   {
    "duration": 17,
    "start_time": "2022-05-19T16:09:41.749Z"
   },
   {
    "duration": 10,
    "start_time": "2022-05-19T16:09:41.768Z"
   },
   {
    "duration": 13,
    "start_time": "2022-05-19T16:09:41.779Z"
   },
   {
    "duration": 47,
    "start_time": "2022-05-19T16:09:41.793Z"
   },
   {
    "duration": 7,
    "start_time": "2022-05-19T16:09:41.842Z"
   },
   {
    "duration": 22,
    "start_time": "2022-05-19T16:09:41.851Z"
   },
   {
    "duration": 93,
    "start_time": "2022-05-19T16:09:41.875Z"
   },
   {
    "duration": 10,
    "start_time": "2022-05-19T16:09:41.970Z"
   },
   {
    "duration": 6,
    "start_time": "2022-05-19T16:09:41.982Z"
   },
   {
    "duration": 10,
    "start_time": "2022-05-19T16:09:41.990Z"
   },
   {
    "duration": 26,
    "start_time": "2022-05-19T16:09:42.001Z"
   },
   {
    "duration": 11,
    "start_time": "2022-05-19T16:09:42.029Z"
   },
   {
    "duration": 15,
    "start_time": "2022-05-19T16:09:42.041Z"
   },
   {
    "duration": 10,
    "start_time": "2022-05-19T16:09:42.057Z"
   },
   {
    "duration": 12,
    "start_time": "2022-05-19T16:09:42.068Z"
   },
   {
    "duration": 199,
    "start_time": "2022-05-19T16:12:57.328Z"
   },
   {
    "duration": 235,
    "start_time": "2022-05-19T16:14:35.289Z"
   },
   {
    "duration": 5,
    "start_time": "2022-05-19T16:15:11.102Z"
   },
   {
    "duration": 166,
    "start_time": "2022-05-19T16:15:11.109Z"
   },
   {
    "duration": 168,
    "start_time": "2022-05-19T16:15:11.277Z"
   },
   {
    "duration": 3,
    "start_time": "2022-05-19T16:15:11.447Z"
   },
   {
    "duration": 93,
    "start_time": "2022-05-19T16:15:11.452Z"
   },
   {
    "duration": 9,
    "start_time": "2022-05-19T16:15:11.547Z"
   },
   {
    "duration": 141,
    "start_time": "2022-05-19T16:15:11.557Z"
   },
   {
    "duration": 13,
    "start_time": "2022-05-19T16:15:11.700Z"
   },
   {
    "duration": 25,
    "start_time": "2022-05-19T16:15:11.714Z"
   },
   {
    "duration": 8,
    "start_time": "2022-05-19T16:15:11.741Z"
   },
   {
    "duration": 17,
    "start_time": "2022-05-19T16:15:11.751Z"
   },
   {
    "duration": 440,
    "start_time": "2022-05-19T16:15:11.769Z"
   },
   {
    "duration": 437,
    "start_time": "2022-05-19T16:15:12.211Z"
   },
   {
    "duration": 467,
    "start_time": "2022-05-19T16:15:12.652Z"
   },
   {
    "duration": 19,
    "start_time": "2022-05-19T16:15:13.122Z"
   },
   {
    "duration": 9,
    "start_time": "2022-05-19T16:15:13.142Z"
   },
   {
    "duration": 13,
    "start_time": "2022-05-19T16:15:13.153Z"
   },
   {
    "duration": 23,
    "start_time": "2022-05-19T16:15:13.167Z"
   },
   {
    "duration": 9,
    "start_time": "2022-05-19T16:15:13.223Z"
   },
   {
    "duration": 26,
    "start_time": "2022-05-19T16:15:13.234Z"
   },
   {
    "duration": 199,
    "start_time": "2022-05-19T16:15:13.261Z"
   },
   {
    "duration": 67,
    "start_time": "2022-05-19T16:15:13.463Z"
   },
   {
    "duration": 6,
    "start_time": "2022-05-19T16:15:13.532Z"
   },
   {
    "duration": 15,
    "start_time": "2022-05-19T16:15:13.539Z"
   },
   {
    "duration": 13,
    "start_time": "2022-05-19T16:15:13.556Z"
   },
   {
    "duration": 56,
    "start_time": "2022-05-19T16:15:13.570Z"
   },
   {
    "duration": 14,
    "start_time": "2022-05-19T16:15:13.628Z"
   },
   {
    "duration": 17,
    "start_time": "2022-05-19T16:15:13.643Z"
   },
   {
    "duration": 66,
    "start_time": "2022-05-19T16:15:13.663Z"
   },
   {
    "duration": 109,
    "start_time": "2022-05-19T17:11:37.577Z"
   },
   {
    "duration": 77,
    "start_time": "2022-05-19T17:11:43.460Z"
   },
   {
    "duration": 14,
    "start_time": "2022-05-19T17:12:01.376Z"
   },
   {
    "duration": 184,
    "start_time": "2022-05-19T17:12:06.447Z"
   },
   {
    "duration": 34,
    "start_time": "2022-05-19T17:13:01.407Z"
   },
   {
    "duration": 180,
    "start_time": "2022-05-19T17:13:48.711Z"
   },
   {
    "duration": 160,
    "start_time": "2022-05-19T17:16:13.826Z"
   },
   {
    "duration": 125,
    "start_time": "2022-05-19T17:17:21.270Z"
   },
   {
    "duration": 15,
    "start_time": "2022-05-19T17:17:55.634Z"
   },
   {
    "duration": 135,
    "start_time": "2022-05-19T17:18:03.753Z"
   },
   {
    "duration": 101,
    "start_time": "2022-05-19T17:18:35.985Z"
   },
   {
    "duration": 8,
    "start_time": "2022-05-19T17:34:02.450Z"
   },
   {
    "duration": 18,
    "start_time": "2022-05-19T17:46:58.169Z"
   },
   {
    "duration": 6,
    "start_time": "2022-05-19T18:02:51.050Z"
   },
   {
    "duration": 258,
    "start_time": "2022-05-19T18:02:51.058Z"
   },
   {
    "duration": 92,
    "start_time": "2022-05-19T18:02:51.318Z"
   },
   {
    "duration": 5,
    "start_time": "2022-05-19T18:02:51.425Z"
   },
   {
    "duration": 22,
    "start_time": "2022-05-19T18:02:51.433Z"
   },
   {
    "duration": 120,
    "start_time": "2022-05-19T18:02:51.457Z"
   },
   {
    "duration": 91,
    "start_time": "2022-05-19T18:02:51.580Z"
   },
   {
    "duration": 18,
    "start_time": "2022-05-19T18:02:51.673Z"
   },
   {
    "duration": 8,
    "start_time": "2022-05-19T18:02:51.693Z"
   },
   {
    "duration": 43,
    "start_time": "2022-05-19T18:02:51.702Z"
   },
   {
    "duration": 353,
    "start_time": "2022-05-19T18:02:51.747Z"
   },
   {
    "duration": 422,
    "start_time": "2022-05-19T18:02:52.102Z"
   },
   {
    "duration": 482,
    "start_time": "2022-05-19T18:02:52.526Z"
   },
   {
    "duration": 23,
    "start_time": "2022-05-19T18:02:53.012Z"
   },
   {
    "duration": 22,
    "start_time": "2022-05-19T18:02:53.037Z"
   },
   {
    "duration": 20,
    "start_time": "2022-05-19T18:02:53.061Z"
   },
   {
    "duration": 27,
    "start_time": "2022-05-19T18:02:53.083Z"
   },
   {
    "duration": 13,
    "start_time": "2022-05-19T18:02:53.112Z"
   },
   {
    "duration": 42,
    "start_time": "2022-05-19T18:02:53.127Z"
   },
   {
    "duration": 64,
    "start_time": "2022-05-19T18:02:53.171Z"
   },
   {
    "duration": 12,
    "start_time": "2022-05-19T18:02:53.238Z"
   },
   {
    "duration": 6,
    "start_time": "2022-05-19T18:02:53.252Z"
   },
   {
    "duration": 12,
    "start_time": "2022-05-19T18:02:53.259Z"
   },
   {
    "duration": 13,
    "start_time": "2022-05-19T18:02:53.272Z"
   },
   {
    "duration": 14,
    "start_time": "2022-05-19T18:02:53.287Z"
   },
   {
    "duration": 50,
    "start_time": "2022-05-19T18:02:53.302Z"
   },
   {
    "duration": 10,
    "start_time": "2022-05-19T18:02:53.353Z"
   },
   {
    "duration": 10,
    "start_time": "2022-05-19T18:02:53.364Z"
   },
   {
    "duration": 56,
    "start_time": "2022-05-19T18:16:33.227Z"
   },
   {
    "duration": 9,
    "start_time": "2022-05-19T18:18:06.951Z"
   },
   {
    "duration": 27,
    "start_time": "2022-05-19T18:19:20.529Z"
   },
   {
    "duration": 5,
    "start_time": "2022-05-19T18:20:29.525Z"
   },
   {
    "duration": 150,
    "start_time": "2022-05-19T18:20:29.532Z"
   },
   {
    "duration": 97,
    "start_time": "2022-05-19T18:20:29.684Z"
   },
   {
    "duration": 3,
    "start_time": "2022-05-19T18:20:29.783Z"
   },
   {
    "duration": 11,
    "start_time": "2022-05-19T18:20:29.789Z"
   },
   {
    "duration": 127,
    "start_time": "2022-05-19T18:20:29.802Z"
   },
   {
    "duration": 83,
    "start_time": "2022-05-19T18:20:29.931Z"
   },
   {
    "duration": 19,
    "start_time": "2022-05-19T18:20:30.024Z"
   },
   {
    "duration": 10,
    "start_time": "2022-05-19T18:20:30.045Z"
   },
   {
    "duration": 25,
    "start_time": "2022-05-19T18:20:30.056Z"
   },
   {
    "duration": 425,
    "start_time": "2022-05-19T18:20:30.082Z"
   },
   {
    "duration": 333,
    "start_time": "2022-05-19T18:20:30.509Z"
   },
   {
    "duration": 437,
    "start_time": "2022-05-19T18:20:30.844Z"
   },
   {
    "duration": 17,
    "start_time": "2022-05-19T18:20:31.284Z"
   },
   {
    "duration": 21,
    "start_time": "2022-05-19T18:20:31.303Z"
   },
   {
    "duration": 11,
    "start_time": "2022-05-19T18:20:31.326Z"
   },
   {
    "duration": 23,
    "start_time": "2022-05-19T18:20:31.339Z"
   },
   {
    "duration": 9,
    "start_time": "2022-05-19T18:20:31.364Z"
   },
   {
    "duration": 54,
    "start_time": "2022-05-19T18:20:31.374Z"
   },
   {
    "duration": 77,
    "start_time": "2022-05-19T18:20:31.430Z"
   },
   {
    "duration": 19,
    "start_time": "2022-05-19T18:20:31.509Z"
   },
   {
    "duration": 6,
    "start_time": "2022-05-19T18:20:31.530Z"
   },
   {
    "duration": 10,
    "start_time": "2022-05-19T18:20:31.538Z"
   },
   {
    "duration": 9,
    "start_time": "2022-05-19T18:20:31.550Z"
   },
   {
    "duration": 16,
    "start_time": "2022-05-19T18:20:31.561Z"
   },
   {
    "duration": 11,
    "start_time": "2022-05-19T18:20:31.580Z"
   },
   {
    "duration": 40,
    "start_time": "2022-05-19T18:20:31.593Z"
   },
   {
    "duration": 13,
    "start_time": "2022-05-19T18:20:31.635Z"
   },
   {
    "duration": 4,
    "start_time": "2022-05-19T18:40:26.059Z"
   },
   {
    "duration": 32,
    "start_time": "2022-05-19T19:40:35.897Z"
   },
   {
    "duration": 15,
    "start_time": "2022-05-19T19:41:05.055Z"
   },
   {
    "duration": 16,
    "start_time": "2022-05-19T19:41:12.178Z"
   },
   {
    "duration": 13,
    "start_time": "2022-05-19T19:41:38.563Z"
   },
   {
    "duration": 11,
    "start_time": "2022-05-19T19:41:56.423Z"
   },
   {
    "duration": 36,
    "start_time": "2022-05-19T19:42:24.291Z"
   },
   {
    "duration": 30,
    "start_time": "2022-05-19T19:42:30.324Z"
   },
   {
    "duration": 12,
    "start_time": "2022-05-19T19:42:34.801Z"
   },
   {
    "duration": 13,
    "start_time": "2022-05-19T19:42:48.943Z"
   },
   {
    "duration": 11,
    "start_time": "2022-05-19T19:44:47.263Z"
   },
   {
    "duration": 10,
    "start_time": "2022-05-19T19:45:25.418Z"
   },
   {
    "duration": 11,
    "start_time": "2022-05-19T19:45:47.441Z"
   },
   {
    "duration": 17,
    "start_time": "2022-05-19T19:46:00.461Z"
   },
   {
    "duration": 16,
    "start_time": "2022-05-19T19:46:00.481Z"
   },
   {
    "duration": 27,
    "start_time": "2022-05-19T19:46:00.500Z"
   },
   {
    "duration": 12,
    "start_time": "2022-05-19T19:46:05.820Z"
   },
   {
    "duration": 14,
    "start_time": "2022-05-19T19:46:16.996Z"
   },
   {
    "duration": 12,
    "start_time": "2022-05-19T19:46:36.898Z"
   },
   {
    "duration": 13,
    "start_time": "2022-05-19T19:47:04.688Z"
   },
   {
    "duration": 16,
    "start_time": "2022-05-19T19:47:08.445Z"
   },
   {
    "duration": 11,
    "start_time": "2022-05-19T19:47:11.853Z"
   },
   {
    "duration": 33,
    "start_time": "2022-05-19T20:25:09.867Z"
   },
   {
    "duration": 23,
    "start_time": "2022-05-19T20:25:45.491Z"
   },
   {
    "duration": 37,
    "start_time": "2022-05-19T20:26:03.657Z"
   },
   {
    "duration": 40,
    "start_time": "2022-05-19T20:29:32.463Z"
   },
   {
    "duration": 31,
    "start_time": "2022-05-19T20:29:42.247Z"
   },
   {
    "duration": 3,
    "start_time": "2022-05-19T20:30:26.599Z"
   },
   {
    "duration": 30,
    "start_time": "2022-05-19T20:30:49.447Z"
   },
   {
    "duration": 20,
    "start_time": "2022-05-19T20:44:37.605Z"
   },
   {
    "duration": 27,
    "start_time": "2022-05-19T20:44:40.115Z"
   },
   {
    "duration": 23,
    "start_time": "2022-05-19T20:45:11.860Z"
   },
   {
    "duration": 30,
    "start_time": "2022-05-19T20:45:15.517Z"
   },
   {
    "duration": 22,
    "start_time": "2022-05-19T20:45:54.648Z"
   },
   {
    "duration": 26,
    "start_time": "2022-05-19T20:45:57.100Z"
   },
   {
    "duration": 30,
    "start_time": "2022-05-19T21:47:58.300Z"
   },
   {
    "duration": 15,
    "start_time": "2022-05-19T21:49:22.858Z"
   },
   {
    "duration": 32,
    "start_time": "2022-05-19T21:50:22.270Z"
   },
   {
    "duration": 38,
    "start_time": "2022-05-19T21:50:52.244Z"
   },
   {
    "duration": 22,
    "start_time": "2022-05-19T21:51:01.132Z"
   },
   {
    "duration": 40,
    "start_time": "2022-05-19T21:52:07.649Z"
   },
   {
    "duration": 71,
    "start_time": "2022-05-19T21:52:20.218Z"
   },
   {
    "duration": 70,
    "start_time": "2022-05-19T21:52:55.657Z"
   },
   {
    "duration": 65,
    "start_time": "2022-05-19T21:54:05.388Z"
   },
   {
    "duration": 67,
    "start_time": "2022-05-19T21:54:17.346Z"
   },
   {
    "duration": 68,
    "start_time": "2022-05-19T21:54:30.975Z"
   },
   {
    "duration": 65,
    "start_time": "2022-05-19T21:54:46.848Z"
   },
   {
    "duration": 65,
    "start_time": "2022-05-19T21:55:01.182Z"
   },
   {
    "duration": 71,
    "start_time": "2022-05-19T21:55:12.276Z"
   },
   {
    "duration": 72,
    "start_time": "2022-05-19T21:56:22.706Z"
   },
   {
    "duration": 69,
    "start_time": "2022-05-19T21:56:31.268Z"
   },
   {
    "duration": 71,
    "start_time": "2022-05-19T21:56:39.851Z"
   },
   {
    "duration": 70,
    "start_time": "2022-05-20T06:49:24.211Z"
   },
   {
    "duration": 72,
    "start_time": "2022-05-20T06:51:01.298Z"
   },
   {
    "duration": 78,
    "start_time": "2022-05-20T06:52:31.615Z"
   },
   {
    "duration": 86,
    "start_time": "2022-05-20T06:52:41.652Z"
   },
   {
    "duration": 74,
    "start_time": "2022-05-20T06:54:19.841Z"
   },
   {
    "duration": 84,
    "start_time": "2022-05-20T06:54:51.582Z"
   },
   {
    "duration": 80,
    "start_time": "2022-05-20T15:51:10.678Z"
   },
   {
    "duration": 79,
    "start_time": "2022-05-20T15:55:36.111Z"
   },
   {
    "duration": 79,
    "start_time": "2022-05-20T15:55:42.949Z"
   },
   {
    "duration": 602,
    "start_time": "2022-05-20T16:01:21.851Z"
   },
   {
    "duration": 4,
    "start_time": "2022-05-20T16:01:25.415Z"
   },
   {
    "duration": 356,
    "start_time": "2022-05-20T16:01:25.421Z"
   },
   {
    "duration": 80,
    "start_time": "2022-05-20T16:01:25.778Z"
   },
   {
    "duration": 3,
    "start_time": "2022-05-20T16:01:25.859Z"
   },
   {
    "duration": 12,
    "start_time": "2022-05-20T16:01:25.864Z"
   },
   {
    "duration": 115,
    "start_time": "2022-05-20T16:01:25.878Z"
   },
   {
    "duration": 94,
    "start_time": "2022-05-20T16:01:25.995Z"
   },
   {
    "duration": 18,
    "start_time": "2022-05-20T16:01:26.091Z"
   },
   {
    "duration": 17,
    "start_time": "2022-05-20T16:01:26.111Z"
   },
   {
    "duration": 20,
    "start_time": "2022-05-20T16:01:26.130Z"
   },
   {
    "duration": 418,
    "start_time": "2022-05-20T16:01:26.151Z"
   },
   {
    "duration": 339,
    "start_time": "2022-05-20T16:01:26.571Z"
   },
   {
    "duration": 420,
    "start_time": "2022-05-20T16:01:26.912Z"
   },
   {
    "duration": 13,
    "start_time": "2022-05-20T16:01:27.335Z"
   },
   {
    "duration": 9,
    "start_time": "2022-05-20T16:01:27.349Z"
   },
   {
    "duration": 12,
    "start_time": "2022-05-20T16:01:27.359Z"
   },
   {
    "duration": 50,
    "start_time": "2022-05-20T16:01:27.373Z"
   },
   {
    "duration": 7,
    "start_time": "2022-05-20T16:01:27.425Z"
   },
   {
    "duration": 21,
    "start_time": "2022-05-20T16:01:27.433Z"
   },
   {
    "duration": 72,
    "start_time": "2022-05-20T16:01:27.455Z"
   },
   {
    "duration": 8,
    "start_time": "2022-05-20T16:01:27.529Z"
   },
   {
    "duration": 9,
    "start_time": "2022-05-20T16:01:27.539Z"
   },
   {
    "duration": 6,
    "start_time": "2022-05-20T16:01:27.549Z"
   },
   {
    "duration": 12,
    "start_time": "2022-05-20T16:01:27.557Z"
   },
   {
    "duration": 6,
    "start_time": "2022-05-20T16:01:27.571Z"
   },
   {
    "duration": 14,
    "start_time": "2022-05-20T16:01:27.578Z"
   },
   {
    "duration": 34,
    "start_time": "2022-05-20T16:01:27.593Z"
   },
   {
    "duration": 8,
    "start_time": "2022-05-20T16:01:27.629Z"
   },
   {
    "duration": 21,
    "start_time": "2022-05-20T16:01:27.639Z"
   },
   {
    "duration": 30,
    "start_time": "2022-05-20T16:01:27.661Z"
   },
   {
    "duration": 49,
    "start_time": "2022-05-20T16:01:27.693Z"
   },
   {
    "duration": 27,
    "start_time": "2022-05-20T16:01:27.744Z"
   },
   {
    "duration": 21,
    "start_time": "2022-05-20T16:01:27.773Z"
   },
   {
    "duration": 53,
    "start_time": "2022-05-20T16:01:27.796Z"
   },
   {
    "duration": 20,
    "start_time": "2022-05-20T16:01:27.850Z"
   },
   {
    "duration": 27,
    "start_time": "2022-05-20T16:01:27.871Z"
   },
   {
    "duration": 102,
    "start_time": "2022-05-20T16:01:27.900Z"
   },
   {
    "duration": 39,
    "start_time": "2022-05-20T16:09:32.930Z"
   },
   {
    "duration": 70,
    "start_time": "2022-05-20T16:09:50.924Z"
   },
   {
    "duration": 19,
    "start_time": "2022-05-20T16:41:30.549Z"
   },
   {
    "duration": 5,
    "start_time": "2022-05-20T16:41:58.168Z"
   },
   {
    "duration": 8,
    "start_time": "2022-05-20T16:42:11.461Z"
   },
   {
    "duration": 4,
    "start_time": "2022-05-20T16:44:19.072Z"
   },
   {
    "duration": 51,
    "start_time": "2022-05-20T16:44:32.552Z"
   },
   {
    "duration": 10,
    "start_time": "2022-05-20T16:44:48.171Z"
   },
   {
    "duration": 49,
    "start_time": "2022-05-20T16:46:15.524Z"
   },
   {
    "duration": 85,
    "start_time": "2022-05-20T16:47:42.580Z"
   },
   {
    "duration": 79,
    "start_time": "2022-05-20T16:48:43.448Z"
   },
   {
    "duration": 72,
    "start_time": "2022-05-20T16:49:27.895Z"
   },
   {
    "duration": 60,
    "start_time": "2022-05-20T16:49:36.513Z"
   },
   {
    "duration": 77,
    "start_time": "2022-05-20T17:13:21.917Z"
   },
   {
    "duration": 72,
    "start_time": "2022-05-20T17:13:44.241Z"
   },
   {
    "duration": 83,
    "start_time": "2022-05-20T17:14:13.899Z"
   },
   {
    "duration": 88,
    "start_time": "2022-05-20T17:15:22.383Z"
   },
   {
    "duration": 85,
    "start_time": "2022-05-20T17:17:28.915Z"
   },
   {
    "duration": 74,
    "start_time": "2022-05-20T17:17:44.010Z"
   },
   {
    "duration": 87,
    "start_time": "2022-05-20T17:19:51.197Z"
   },
   {
    "duration": 82,
    "start_time": "2022-05-20T17:22:21.783Z"
   },
   {
    "duration": 16,
    "start_time": "2022-05-20T17:22:35.027Z"
   },
   {
    "duration": 6,
    "start_time": "2022-05-20T17:22:50.860Z"
   },
   {
    "duration": 171,
    "start_time": "2022-05-20T17:22:50.868Z"
   },
   {
    "duration": 100,
    "start_time": "2022-05-20T17:22:51.041Z"
   },
   {
    "duration": 3,
    "start_time": "2022-05-20T17:22:51.143Z"
   },
   {
    "duration": 12,
    "start_time": "2022-05-20T17:22:51.149Z"
   },
   {
    "duration": 132,
    "start_time": "2022-05-20T17:22:51.162Z"
   },
   {
    "duration": 86,
    "start_time": "2022-05-20T17:22:51.296Z"
   },
   {
    "duration": 18,
    "start_time": "2022-05-20T17:22:51.383Z"
   },
   {
    "duration": 7,
    "start_time": "2022-05-20T17:22:51.402Z"
   },
   {
    "duration": 22,
    "start_time": "2022-05-20T17:22:51.422Z"
   },
   {
    "duration": 367,
    "start_time": "2022-05-20T17:22:51.445Z"
   },
   {
    "duration": 485,
    "start_time": "2022-05-20T17:22:51.813Z"
   },
   {
    "duration": 412,
    "start_time": "2022-05-20T17:22:52.299Z"
   },
   {
    "duration": 24,
    "start_time": "2022-05-20T17:22:52.715Z"
   },
   {
    "duration": 8,
    "start_time": "2022-05-20T17:22:52.742Z"
   },
   {
    "duration": 15,
    "start_time": "2022-05-20T17:22:52.753Z"
   },
   {
    "duration": 24,
    "start_time": "2022-05-20T17:22:52.770Z"
   },
   {
    "duration": 11,
    "start_time": "2022-05-20T17:22:52.822Z"
   },
   {
    "duration": 45,
    "start_time": "2022-05-20T17:22:52.835Z"
   },
   {
    "duration": 82,
    "start_time": "2022-05-20T17:22:52.882Z"
   },
   {
    "duration": 10,
    "start_time": "2022-05-20T17:22:52.967Z"
   },
   {
    "duration": 11,
    "start_time": "2022-05-20T17:22:52.979Z"
   },
   {
    "duration": 5,
    "start_time": "2022-05-20T17:22:52.992Z"
   },
   {
    "duration": 13,
    "start_time": "2022-05-20T17:22:53.024Z"
   },
   {
    "duration": 9,
    "start_time": "2022-05-20T17:22:53.039Z"
   },
   {
    "duration": 14,
    "start_time": "2022-05-20T17:22:53.049Z"
   },
   {
    "duration": 9,
    "start_time": "2022-05-20T17:22:53.065Z"
   },
   {
    "duration": 8,
    "start_time": "2022-05-20T17:22:53.076Z"
   },
   {
    "duration": 53,
    "start_time": "2022-05-20T17:22:53.086Z"
   },
   {
    "duration": 28,
    "start_time": "2022-05-20T17:22:53.141Z"
   },
   {
    "duration": 20,
    "start_time": "2022-05-20T17:22:53.171Z"
   },
   {
    "duration": 58,
    "start_time": "2022-05-20T17:22:53.193Z"
   },
   {
    "duration": 22,
    "start_time": "2022-05-20T17:22:53.253Z"
   },
   {
    "duration": 27,
    "start_time": "2022-05-20T17:22:53.276Z"
   },
   {
    "duration": 45,
    "start_time": "2022-05-20T17:22:53.304Z"
   },
   {
    "duration": 25,
    "start_time": "2022-05-20T17:22:53.351Z"
   },
   {
    "duration": 97,
    "start_time": "2022-05-20T17:22:53.378Z"
   },
   {
    "duration": 28,
    "start_time": "2022-05-20T17:46:52.243Z"
   },
   {
    "duration": 39,
    "start_time": "2022-05-20T17:46:59.863Z"
   },
   {
    "duration": 40,
    "start_time": "2022-05-20T17:47:39.416Z"
   },
   {
    "duration": 34,
    "start_time": "2022-05-20T18:53:43.479Z"
   },
   {
    "duration": 41,
    "start_time": "2022-05-20T18:53:56.700Z"
   },
   {
    "duration": 41,
    "start_time": "2022-05-20T18:54:34.051Z"
   },
   {
    "duration": 643,
    "start_time": "2022-05-20T18:55:08.642Z"
   },
   {
    "duration": 5,
    "start_time": "2022-05-20T18:55:13.835Z"
   },
   {
    "duration": 164,
    "start_time": "2022-05-20T18:55:13.845Z"
   },
   {
    "duration": 81,
    "start_time": "2022-05-20T18:55:14.011Z"
   },
   {
    "duration": 3,
    "start_time": "2022-05-20T18:55:14.093Z"
   },
   {
    "duration": 28,
    "start_time": "2022-05-20T18:55:14.098Z"
   },
   {
    "duration": 119,
    "start_time": "2022-05-20T18:55:14.129Z"
   },
   {
    "duration": 84,
    "start_time": "2022-05-20T18:55:14.249Z"
   },
   {
    "duration": 19,
    "start_time": "2022-05-20T18:55:14.336Z"
   },
   {
    "duration": 8,
    "start_time": "2022-05-20T18:55:14.357Z"
   },
   {
    "duration": 16,
    "start_time": "2022-05-20T18:55:14.367Z"
   },
   {
    "duration": 438,
    "start_time": "2022-05-20T18:55:14.385Z"
   },
   {
    "duration": 337,
    "start_time": "2022-05-20T18:55:14.825Z"
   },
   {
    "duration": 349,
    "start_time": "2022-05-20T18:55:15.164Z"
   },
   {
    "duration": 17,
    "start_time": "2022-05-20T18:55:15.515Z"
   },
   {
    "duration": 7,
    "start_time": "2022-05-20T18:55:15.535Z"
   },
   {
    "duration": 11,
    "start_time": "2022-05-20T18:55:15.544Z"
   },
   {
    "duration": 22,
    "start_time": "2022-05-20T18:55:15.557Z"
   },
   {
    "duration": 9,
    "start_time": "2022-05-20T18:55:15.580Z"
   },
   {
    "duration": 53,
    "start_time": "2022-05-20T18:55:15.590Z"
   },
   {
    "duration": 65,
    "start_time": "2022-05-20T18:55:15.645Z"
   },
   {
    "duration": 10,
    "start_time": "2022-05-20T18:55:15.723Z"
   },
   {
    "duration": 112,
    "start_time": "2022-05-20T18:55:15.735Z"
   },
   {
    "duration": 5,
    "start_time": "2022-05-20T18:55:15.849Z"
   },
   {
    "duration": 12,
    "start_time": "2022-05-20T18:55:15.856Z"
   },
   {
    "duration": 6,
    "start_time": "2022-05-20T18:55:15.870Z"
   },
   {
    "duration": 65,
    "start_time": "2022-05-20T18:55:15.878Z"
   },
   {
    "duration": 780,
    "start_time": "2022-05-20T18:55:15.945Z"
   },
   {
    "duration": 72,
    "start_time": "2022-05-20T18:57:58.099Z"
   },
   {
    "duration": 4,
    "start_time": "2022-05-20T19:00:33.548Z"
   },
   {
    "duration": 9,
    "start_time": "2022-05-20T19:00:43.050Z"
   },
   {
    "duration": 11,
    "start_time": "2022-05-20T19:01:13.292Z"
   },
   {
    "duration": 12,
    "start_time": "2022-05-20T19:01:40.809Z"
   },
   {
    "duration": 152,
    "start_time": "2022-05-20T19:06:08.092Z"
   },
   {
    "duration": 7,
    "start_time": "2022-05-20T19:06:41.223Z"
   },
   {
    "duration": 12,
    "start_time": "2022-05-20T19:06:51.338Z"
   },
   {
    "duration": 12,
    "start_time": "2022-05-20T19:07:11.382Z"
   },
   {
    "duration": 92,
    "start_time": "2022-05-20T19:07:32.245Z"
   },
   {
    "duration": 12,
    "start_time": "2022-05-20T19:07:34.586Z"
   },
   {
    "duration": 17,
    "start_time": "2022-05-20T19:08:18.877Z"
   },
   {
    "duration": 80,
    "start_time": "2022-05-20T19:08:26.990Z"
   },
   {
    "duration": 12,
    "start_time": "2022-05-20T19:08:34.408Z"
   },
   {
    "duration": 16,
    "start_time": "2022-05-20T19:19:22.372Z"
   },
   {
    "duration": 15,
    "start_time": "2022-05-20T19:26:36.456Z"
   },
   {
    "duration": 19,
    "start_time": "2022-05-20T19:26:54.708Z"
   },
   {
    "duration": 5,
    "start_time": "2022-05-20T19:27:23.156Z"
   },
   {
    "duration": 186,
    "start_time": "2022-05-20T19:27:23.164Z"
   },
   {
    "duration": 88,
    "start_time": "2022-05-20T19:27:23.351Z"
   },
   {
    "duration": 3,
    "start_time": "2022-05-20T19:27:23.442Z"
   },
   {
    "duration": 14,
    "start_time": "2022-05-20T19:27:23.447Z"
   },
   {
    "duration": 134,
    "start_time": "2022-05-20T19:27:23.463Z"
   },
   {
    "duration": 84,
    "start_time": "2022-05-20T19:27:23.599Z"
   },
   {
    "duration": 17,
    "start_time": "2022-05-20T19:27:23.685Z"
   },
   {
    "duration": 20,
    "start_time": "2022-05-20T19:27:23.704Z"
   },
   {
    "duration": 16,
    "start_time": "2022-05-20T19:27:23.725Z"
   },
   {
    "duration": 350,
    "start_time": "2022-05-20T19:27:23.742Z"
   },
   {
    "duration": 443,
    "start_time": "2022-05-20T19:27:24.094Z"
   },
   {
    "duration": 369,
    "start_time": "2022-05-20T19:27:24.539Z"
   },
   {
    "duration": 18,
    "start_time": "2022-05-20T19:27:24.912Z"
   },
   {
    "duration": 8,
    "start_time": "2022-05-20T19:27:24.932Z"
   },
   {
    "duration": 12,
    "start_time": "2022-05-20T19:27:24.941Z"
   },
   {
    "duration": 25,
    "start_time": "2022-05-20T19:27:24.955Z"
   },
   {
    "duration": 44,
    "start_time": "2022-05-20T19:27:24.982Z"
   },
   {
    "duration": 27,
    "start_time": "2022-05-20T19:27:25.028Z"
   },
   {
    "duration": 105,
    "start_time": "2022-05-20T19:27:25.058Z"
   },
   {
    "duration": 11,
    "start_time": "2022-05-20T19:27:25.166Z"
   },
   {
    "duration": 12,
    "start_time": "2022-05-20T19:27:25.179Z"
   },
   {
    "duration": 8,
    "start_time": "2022-05-20T19:27:25.194Z"
   },
   {
    "duration": 10,
    "start_time": "2022-05-20T19:27:25.223Z"
   },
   {
    "duration": 12,
    "start_time": "2022-05-20T19:27:25.234Z"
   },
   {
    "duration": 42,
    "start_time": "2022-05-20T19:27:25.248Z"
   },
   {
    "duration": 93,
    "start_time": "2022-05-20T19:27:25.292Z"
   },
   {
    "duration": 16,
    "start_time": "2022-05-20T19:27:25.387Z"
   },
   {
    "duration": 17,
    "start_time": "2022-05-20T19:28:55.204Z"
   },
   {
    "duration": 15,
    "start_time": "2022-05-20T19:37:26.232Z"
   },
   {
    "duration": 16,
    "start_time": "2022-05-20T19:37:51.355Z"
   },
   {
    "duration": 78,
    "start_time": "2022-05-20T20:30:30.442Z"
   },
   {
    "duration": 9,
    "start_time": "2022-05-20T20:31:07.002Z"
   },
   {
    "duration": 60,
    "start_time": "2022-05-20T20:31:21.986Z"
   },
   {
    "duration": 7,
    "start_time": "2022-05-20T20:31:31.853Z"
   },
   {
    "duration": 256,
    "start_time": "2022-05-20T20:31:31.863Z"
   },
   {
    "duration": 135,
    "start_time": "2022-05-20T20:31:32.122Z"
   },
   {
    "duration": 4,
    "start_time": "2022-05-20T20:31:32.260Z"
   },
   {
    "duration": 17,
    "start_time": "2022-05-20T20:31:32.267Z"
   },
   {
    "duration": 191,
    "start_time": "2022-05-20T20:31:32.286Z"
   },
   {
    "duration": 107,
    "start_time": "2022-05-20T20:31:32.479Z"
   },
   {
    "duration": 40,
    "start_time": "2022-05-20T20:31:32.588Z"
   },
   {
    "duration": 20,
    "start_time": "2022-05-20T20:31:32.634Z"
   },
   {
    "duration": 80,
    "start_time": "2022-05-20T20:31:32.656Z"
   },
   {
    "duration": 657,
    "start_time": "2022-05-20T20:31:32.747Z"
   },
   {
    "duration": 389,
    "start_time": "2022-05-20T20:31:33.406Z"
   },
   {
    "duration": 520,
    "start_time": "2022-05-20T20:31:33.796Z"
   },
   {
    "duration": 24,
    "start_time": "2022-05-20T20:31:34.319Z"
   },
   {
    "duration": 24,
    "start_time": "2022-05-20T20:31:34.349Z"
   },
   {
    "duration": 11,
    "start_time": "2022-05-20T20:31:34.375Z"
   },
   {
    "duration": 33,
    "start_time": "2022-05-20T20:31:34.389Z"
   },
   {
    "duration": 14,
    "start_time": "2022-05-20T20:31:34.427Z"
   },
   {
    "duration": 44,
    "start_time": "2022-05-20T20:31:34.446Z"
   },
   {
    "duration": 72,
    "start_time": "2022-05-20T20:31:34.492Z"
   },
   {
    "duration": 9,
    "start_time": "2022-05-20T20:31:34.566Z"
   },
   {
    "duration": 9,
    "start_time": "2022-05-20T20:31:34.577Z"
   },
   {
    "duration": 9,
    "start_time": "2022-05-20T20:31:34.588Z"
   },
   {
    "duration": 35,
    "start_time": "2022-05-20T20:31:34.599Z"
   },
   {
    "duration": 34,
    "start_time": "2022-05-20T20:31:34.640Z"
   },
   {
    "duration": 63,
    "start_time": "2022-05-20T20:31:34.676Z"
   },
   {
    "duration": 94,
    "start_time": "2022-05-20T20:31:34.741Z"
   },
   {
    "duration": 25,
    "start_time": "2022-05-20T20:31:34.837Z"
   },
   {
    "duration": 14,
    "start_time": "2022-05-20T20:31:34.864Z"
   },
   {
    "duration": 42,
    "start_time": "2022-05-20T20:31:34.879Z"
   },
   {
    "duration": 0,
    "start_time": "2022-05-20T20:31:34.927Z"
   },
   {
    "duration": 5,
    "start_time": "2022-05-20T20:33:04.270Z"
   },
   {
    "duration": 13,
    "start_time": "2022-05-20T20:38:02.074Z"
   },
   {
    "duration": 6,
    "start_time": "2022-05-20T20:38:13.978Z"
   },
   {
    "duration": 154,
    "start_time": "2022-05-20T20:38:13.986Z"
   },
   {
    "duration": 100,
    "start_time": "2022-05-20T20:38:14.142Z"
   },
   {
    "duration": 3,
    "start_time": "2022-05-20T20:38:14.243Z"
   },
   {
    "duration": 10,
    "start_time": "2022-05-20T20:38:14.248Z"
   },
   {
    "duration": 125,
    "start_time": "2022-05-20T20:38:14.259Z"
   },
   {
    "duration": 87,
    "start_time": "2022-05-20T20:38:14.385Z"
   },
   {
    "duration": 20,
    "start_time": "2022-05-20T20:38:14.474Z"
   },
   {
    "duration": 8,
    "start_time": "2022-05-20T20:38:14.496Z"
   },
   {
    "duration": 28,
    "start_time": "2022-05-20T20:38:14.523Z"
   },
   {
    "duration": 422,
    "start_time": "2022-05-20T20:38:14.553Z"
   },
   {
    "duration": 433,
    "start_time": "2022-05-20T20:38:14.977Z"
   },
   {
    "duration": 344,
    "start_time": "2022-05-20T20:38:15.412Z"
   },
   {
    "duration": 14,
    "start_time": "2022-05-20T20:38:15.758Z"
   },
   {
    "duration": 11,
    "start_time": "2022-05-20T20:38:15.773Z"
   },
   {
    "duration": 40,
    "start_time": "2022-05-20T20:38:15.786Z"
   },
   {
    "duration": 29,
    "start_time": "2022-05-20T20:38:15.827Z"
   },
   {
    "duration": 6,
    "start_time": "2022-05-20T20:38:15.858Z"
   },
   {
    "duration": 25,
    "start_time": "2022-05-20T20:38:15.865Z"
   },
   {
    "duration": 78,
    "start_time": "2022-05-20T20:38:15.891Z"
   },
   {
    "duration": 10,
    "start_time": "2022-05-20T20:38:15.971Z"
   },
   {
    "duration": 11,
    "start_time": "2022-05-20T20:38:15.983Z"
   },
   {
    "duration": 34,
    "start_time": "2022-05-20T20:38:15.996Z"
   },
   {
    "duration": 16,
    "start_time": "2022-05-20T20:38:16.032Z"
   },
   {
    "duration": 7,
    "start_time": "2022-05-20T20:38:16.050Z"
   },
   {
    "duration": 43,
    "start_time": "2022-05-20T20:38:16.058Z"
   },
   {
    "duration": 90,
    "start_time": "2022-05-20T20:38:16.102Z"
   },
   {
    "duration": 19,
    "start_time": "2022-05-20T20:38:16.193Z"
   },
   {
    "duration": 16,
    "start_time": "2022-05-20T20:38:16.222Z"
   },
   {
    "duration": 0,
    "start_time": "2022-05-20T20:38:16.242Z"
   },
   {
    "duration": 7,
    "start_time": "2022-05-20T20:39:23.399Z"
   },
   {
    "duration": 96,
    "start_time": "2022-05-20T20:42:37.541Z"
   },
   {
    "duration": 25,
    "start_time": "2022-05-20T20:42:46.541Z"
   },
   {
    "duration": 78,
    "start_time": "2022-05-20T21:03:25.172Z"
   },
   {
    "duration": 81,
    "start_time": "2022-05-20T21:06:08.695Z"
   },
   {
    "duration": 52,
    "start_time": "2022-05-20T21:06:23.192Z"
   },
   {
    "duration": 38,
    "start_time": "2022-05-20T21:07:35.067Z"
   },
   {
    "duration": 33,
    "start_time": "2022-05-20T21:08:18.890Z"
   },
   {
    "duration": 15,
    "start_time": "2022-05-20T21:08:33.586Z"
   },
   {
    "duration": 11,
    "start_time": "2022-05-20T21:08:53.632Z"
   },
   {
    "duration": 205,
    "start_time": "2022-05-20T21:13:54.080Z"
   },
   {
    "duration": 80,
    "start_time": "2022-05-20T21:14:22.964Z"
   },
   {
    "duration": 33,
    "start_time": "2022-05-20T21:15:08.656Z"
   },
   {
    "duration": 74,
    "start_time": "2022-05-20T21:15:20.689Z"
   },
   {
    "duration": 7,
    "start_time": "2022-05-20T21:16:50.344Z"
   },
   {
    "duration": 167,
    "start_time": "2022-05-20T21:16:50.353Z"
   },
   {
    "duration": 109,
    "start_time": "2022-05-20T21:16:50.522Z"
   },
   {
    "duration": 3,
    "start_time": "2022-05-20T21:16:50.633Z"
   },
   {
    "duration": 27,
    "start_time": "2022-05-20T21:16:50.642Z"
   },
   {
    "duration": 129,
    "start_time": "2022-05-20T21:16:50.671Z"
   },
   {
    "duration": 82,
    "start_time": "2022-05-20T21:16:50.802Z"
   },
   {
    "duration": 18,
    "start_time": "2022-05-20T21:16:50.886Z"
   },
   {
    "duration": 22,
    "start_time": "2022-05-20T21:16:50.905Z"
   },
   {
    "duration": 28,
    "start_time": "2022-05-20T21:16:50.929Z"
   },
   {
    "duration": 392,
    "start_time": "2022-05-20T21:16:50.960Z"
   },
   {
    "duration": 457,
    "start_time": "2022-05-20T21:16:51.354Z"
   },
   {
    "duration": 377,
    "start_time": "2022-05-20T21:16:51.812Z"
   },
   {
    "duration": 14,
    "start_time": "2022-05-20T21:16:52.192Z"
   },
   {
    "duration": 28,
    "start_time": "2022-05-20T21:16:52.208Z"
   },
   {
    "duration": 24,
    "start_time": "2022-05-20T21:16:52.238Z"
   },
   {
    "duration": 31,
    "start_time": "2022-05-20T21:16:52.264Z"
   },
   {
    "duration": 9,
    "start_time": "2022-05-20T21:16:52.296Z"
   },
   {
    "duration": 60,
    "start_time": "2022-05-20T21:16:52.306Z"
   },
   {
    "duration": 76,
    "start_time": "2022-05-20T21:16:52.368Z"
   },
   {
    "duration": 14,
    "start_time": "2022-05-20T21:16:52.451Z"
   },
   {
    "duration": 17,
    "start_time": "2022-05-20T21:16:52.469Z"
   },
   {
    "duration": 12,
    "start_time": "2022-05-20T21:16:52.488Z"
   },
   {
    "duration": 11,
    "start_time": "2022-05-20T21:16:52.502Z"
   },
   {
    "duration": 17,
    "start_time": "2022-05-20T21:16:52.515Z"
   },
   {
    "duration": 93,
    "start_time": "2022-05-20T21:16:52.533Z"
   },
   {
    "duration": 90,
    "start_time": "2022-05-20T21:16:52.627Z"
   },
   {
    "duration": 733,
    "start_time": "2022-05-20T21:16:52.718Z"
   },
   {
    "duration": 0,
    "start_time": "2022-05-20T21:16:53.453Z"
   },
   {
    "duration": 0,
    "start_time": "2022-05-20T21:16:53.454Z"
   },
   {
    "duration": 0,
    "start_time": "2022-05-20T21:16:53.456Z"
   },
   {
    "duration": 0,
    "start_time": "2022-05-20T21:16:53.457Z"
   },
   {
    "duration": 88,
    "start_time": "2022-05-20T21:18:42.778Z"
   },
   {
    "duration": 86,
    "start_time": "2022-05-20T21:23:37.122Z"
   },
   {
    "duration": 65,
    "start_time": "2022-05-20T21:26:35.250Z"
   },
   {
    "duration": 82,
    "start_time": "2022-05-20T21:27:04.921Z"
   },
   {
    "duration": 75,
    "start_time": "2022-05-20T21:27:41.062Z"
   },
   {
    "duration": 88,
    "start_time": "2022-05-20T21:27:54.350Z"
   },
   {
    "duration": 80,
    "start_time": "2022-05-20T21:28:18.239Z"
   },
   {
    "duration": 88,
    "start_time": "2022-05-20T21:28:33.160Z"
   },
   {
    "duration": 63,
    "start_time": "2022-05-20T21:36:30.842Z"
   },
   {
    "duration": 92,
    "start_time": "2022-05-20T21:36:53.046Z"
   },
   {
    "duration": 101,
    "start_time": "2022-05-20T21:37:04.482Z"
   },
   {
    "duration": 77,
    "start_time": "2022-05-20T21:37:40.159Z"
   },
   {
    "duration": 112,
    "start_time": "2022-05-20T21:38:09.650Z"
   },
   {
    "duration": 77,
    "start_time": "2022-05-20T21:38:18.444Z"
   },
   {
    "duration": 98,
    "start_time": "2022-05-20T21:40:14.910Z"
   },
   {
    "duration": 75,
    "start_time": "2022-05-20T21:40:29.646Z"
   },
   {
    "duration": 75,
    "start_time": "2022-05-20T21:42:46.454Z"
   },
   {
    "duration": 88,
    "start_time": "2022-05-20T21:42:58.713Z"
   },
   {
    "duration": 84,
    "start_time": "2022-05-20T21:43:08.868Z"
   },
   {
    "duration": 88,
    "start_time": "2022-05-20T21:46:42.944Z"
   },
   {
    "duration": 82,
    "start_time": "2022-05-20T21:46:54.658Z"
   },
   {
    "duration": 5,
    "start_time": "2022-05-20T21:50:33.899Z"
   },
   {
    "duration": 9,
    "start_time": "2022-05-20T21:50:35.893Z"
   },
   {
    "duration": 6,
    "start_time": "2022-05-20T21:51:37.463Z"
   },
   {
    "duration": 5,
    "start_time": "2022-05-20T21:52:58.185Z"
   },
   {
    "duration": 33,
    "start_time": "2022-05-20T21:53:06.453Z"
   },
   {
    "duration": 37,
    "start_time": "2022-05-20T21:53:28.142Z"
   },
   {
    "duration": 40,
    "start_time": "2022-05-20T21:53:41.156Z"
   },
   {
    "duration": 193,
    "start_time": "2022-05-20T21:54:26.498Z"
   },
   {
    "duration": 42,
    "start_time": "2022-05-20T21:56:17.451Z"
   },
   {
    "duration": 85,
    "start_time": "2022-05-20T21:58:10.917Z"
   },
   {
    "duration": 32,
    "start_time": "2022-05-20T21:58:17.166Z"
   },
   {
    "duration": 6,
    "start_time": "2022-05-20T22:00:05.573Z"
   },
   {
    "duration": 8,
    "start_time": "2022-05-20T22:01:01.261Z"
   },
   {
    "duration": 6,
    "start_time": "2022-05-20T22:01:30.404Z"
   },
   {
    "duration": 6,
    "start_time": "2022-05-20T22:02:02.656Z"
   },
   {
    "duration": 6,
    "start_time": "2022-05-20T22:02:16.007Z"
   },
   {
    "duration": 6,
    "start_time": "2022-05-20T22:03:58.167Z"
   },
   {
    "duration": 6,
    "start_time": "2022-05-20T22:03:59.790Z"
   },
   {
    "duration": 11,
    "start_time": "2022-05-20T22:04:01.933Z"
   },
   {
    "duration": 12,
    "start_time": "2022-05-20T22:04:04.021Z"
   },
   {
    "duration": 5,
    "start_time": "2022-05-20T22:04:04.657Z"
   },
   {
    "duration": 5,
    "start_time": "2022-05-20T22:04:05.286Z"
   },
   {
    "duration": 104,
    "start_time": "2022-05-20T22:08:29.940Z"
   },
   {
    "duration": 96,
    "start_time": "2022-05-20T22:08:40.505Z"
   },
   {
    "duration": 15,
    "start_time": "2022-05-21T06:56:32.110Z"
   },
   {
    "duration": 16,
    "start_time": "2022-05-21T06:57:02.318Z"
   },
   {
    "duration": 20,
    "start_time": "2022-05-21T06:58:35.073Z"
   },
   {
    "duration": 15,
    "start_time": "2022-05-21T06:59:32.400Z"
   },
   {
    "duration": 13,
    "start_time": "2022-05-21T06:59:54.042Z"
   },
   {
    "duration": 12,
    "start_time": "2022-05-21T07:00:06.065Z"
   },
   {
    "duration": 13,
    "start_time": "2022-05-21T07:00:39.759Z"
   },
   {
    "duration": 31,
    "start_time": "2022-05-21T07:01:06.214Z"
   },
   {
    "duration": 24,
    "start_time": "2022-05-21T07:38:49.196Z"
   },
   {
    "duration": 24,
    "start_time": "2022-05-21T07:42:36.038Z"
   },
   {
    "duration": 30,
    "start_time": "2022-05-21T07:42:49.818Z"
   },
   {
    "duration": 6,
    "start_time": "2022-05-21T07:43:18.317Z"
   },
   {
    "duration": 211,
    "start_time": "2022-05-21T07:43:18.325Z"
   },
   {
    "duration": 109,
    "start_time": "2022-05-21T07:43:18.539Z"
   },
   {
    "duration": 3,
    "start_time": "2022-05-21T07:43:18.650Z"
   },
   {
    "duration": 14,
    "start_time": "2022-05-21T07:43:18.656Z"
   },
   {
    "duration": 135,
    "start_time": "2022-05-21T07:43:18.672Z"
   },
   {
    "duration": 101,
    "start_time": "2022-05-21T07:43:18.809Z"
   },
   {
    "duration": 33,
    "start_time": "2022-05-21T07:43:18.912Z"
   },
   {
    "duration": 28,
    "start_time": "2022-05-21T07:43:18.946Z"
   },
   {
    "duration": 18,
    "start_time": "2022-05-21T07:43:18.977Z"
   },
   {
    "duration": 504,
    "start_time": "2022-05-21T07:43:18.997Z"
   },
   {
    "duration": 390,
    "start_time": "2022-05-21T07:43:19.503Z"
   },
   {
    "duration": 499,
    "start_time": "2022-05-21T07:43:19.897Z"
   },
   {
    "duration": 14,
    "start_time": "2022-05-21T07:43:20.398Z"
   },
   {
    "duration": 19,
    "start_time": "2022-05-21T07:43:20.422Z"
   },
   {
    "duration": 14,
    "start_time": "2022-05-21T07:43:20.443Z"
   },
   {
    "duration": 14,
    "start_time": "2022-05-21T07:43:20.458Z"
   },
   {
    "duration": 22,
    "start_time": "2022-05-21T07:43:20.473Z"
   },
   {
    "duration": 51,
    "start_time": "2022-05-21T07:43:20.497Z"
   },
   {
    "duration": 7,
    "start_time": "2022-05-21T07:43:20.550Z"
   },
   {
    "duration": 26,
    "start_time": "2022-05-21T07:43:20.559Z"
   },
   {
    "duration": 85,
    "start_time": "2022-05-21T07:43:20.586Z"
   },
   {
    "duration": 8,
    "start_time": "2022-05-21T07:43:20.673Z"
   },
   {
    "duration": 14,
    "start_time": "2022-05-21T07:43:20.683Z"
   },
   {
    "duration": 5,
    "start_time": "2022-05-21T07:43:20.699Z"
   },
   {
    "duration": 26,
    "start_time": "2022-05-21T07:43:20.706Z"
   },
   {
    "duration": 10,
    "start_time": "2022-05-21T07:43:20.733Z"
   },
   {
    "duration": 46,
    "start_time": "2022-05-21T07:43:20.745Z"
   },
   {
    "duration": 22,
    "start_time": "2022-05-21T07:43:20.793Z"
   },
   {
    "duration": 0,
    "start_time": "2022-05-21T07:43:20.816Z"
   },
   {
    "duration": 0,
    "start_time": "2022-05-21T07:43:20.818Z"
   },
   {
    "duration": 0,
    "start_time": "2022-05-21T07:43:20.819Z"
   },
   {
    "duration": 0,
    "start_time": "2022-05-21T07:43:20.822Z"
   },
   {
    "duration": 0,
    "start_time": "2022-05-21T07:43:20.824Z"
   },
   {
    "duration": 0,
    "start_time": "2022-05-21T07:43:20.840Z"
   },
   {
    "duration": 0,
    "start_time": "2022-05-21T07:43:20.841Z"
   },
   {
    "duration": 0,
    "start_time": "2022-05-21T07:43:20.842Z"
   },
   {
    "duration": 0,
    "start_time": "2022-05-21T07:43:20.844Z"
   },
   {
    "duration": 0,
    "start_time": "2022-05-21T07:43:20.845Z"
   },
   {
    "duration": 10,
    "start_time": "2022-05-21T07:43:43.535Z"
   },
   {
    "duration": 25,
    "start_time": "2022-05-21T07:44:55.329Z"
   },
   {
    "duration": 11,
    "start_time": "2022-05-21T09:51:28.967Z"
   },
   {
    "duration": 595,
    "start_time": "2022-05-21T09:52:44.672Z"
   },
   {
    "duration": 590,
    "start_time": "2022-05-21T09:53:08.509Z"
   },
   {
    "duration": 121,
    "start_time": "2022-05-21T10:12:21.519Z"
   },
   {
    "duration": 96,
    "start_time": "2022-05-21T10:12:33.513Z"
   },
   {
    "duration": 91,
    "start_time": "2022-05-21T10:13:02.018Z"
   },
   {
    "duration": 98,
    "start_time": "2022-05-21T10:26:13.944Z"
   },
   {
    "duration": 78,
    "start_time": "2022-05-21T10:26:37.172Z"
   },
   {
    "duration": 113,
    "start_time": "2022-05-21T10:33:42.667Z"
   },
   {
    "duration": 79,
    "start_time": "2022-05-21T10:34:34.000Z"
   },
   {
    "duration": 85,
    "start_time": "2022-05-21T10:35:35.912Z"
   },
   {
    "duration": 5,
    "start_time": "2022-05-21T10:35:45.591Z"
   },
   {
    "duration": 75,
    "start_time": "2022-05-21T10:36:09.324Z"
   },
   {
    "duration": 6,
    "start_time": "2022-05-21T10:36:11.019Z"
   },
   {
    "duration": 76,
    "start_time": "2022-05-21T10:36:33.711Z"
   },
   {
    "duration": 7,
    "start_time": "2022-05-21T10:36:36.610Z"
   },
   {
    "duration": 104,
    "start_time": "2022-05-21T10:45:02.546Z"
   },
   {
    "duration": 79,
    "start_time": "2022-05-21T10:45:21.143Z"
   },
   {
    "duration": 78,
    "start_time": "2022-05-21T10:45:47.390Z"
   },
   {
    "duration": 77,
    "start_time": "2022-05-21T10:46:30.607Z"
   },
   {
    "duration": 75,
    "start_time": "2022-05-21T10:46:39.736Z"
   },
   {
    "duration": 84,
    "start_time": "2022-05-21T10:50:52.314Z"
   },
   {
    "duration": 77,
    "start_time": "2022-05-21T10:56:44.488Z"
   },
   {
    "duration": 92,
    "start_time": "2022-05-21T10:57:21.614Z"
   },
   {
    "duration": 74,
    "start_time": "2022-05-21T10:57:44.896Z"
   },
   {
    "duration": 8,
    "start_time": "2022-05-21T10:57:47.104Z"
   },
   {
    "duration": 104,
    "start_time": "2022-05-21T10:57:48.873Z"
   },
   {
    "duration": 5,
    "start_time": "2022-05-21T10:58:04.912Z"
   },
   {
    "duration": 178,
    "start_time": "2022-05-21T10:58:04.920Z"
   },
   {
    "duration": 84,
    "start_time": "2022-05-21T10:58:05.099Z"
   },
   {
    "duration": 3,
    "start_time": "2022-05-21T10:58:05.185Z"
   },
   {
    "duration": 13,
    "start_time": "2022-05-21T10:58:05.190Z"
   },
   {
    "duration": 140,
    "start_time": "2022-05-21T10:58:05.205Z"
   },
   {
    "duration": 87,
    "start_time": "2022-05-21T10:58:05.347Z"
   },
   {
    "duration": 19,
    "start_time": "2022-05-21T10:58:05.436Z"
   },
   {
    "duration": 8,
    "start_time": "2022-05-21T10:58:05.458Z"
   },
   {
    "duration": 19,
    "start_time": "2022-05-21T10:58:05.468Z"
   },
   {
    "duration": 381,
    "start_time": "2022-05-21T10:58:05.489Z"
   },
   {
    "duration": 464,
    "start_time": "2022-05-21T10:58:05.872Z"
   },
   {
    "duration": 344,
    "start_time": "2022-05-21T10:58:06.338Z"
   },
   {
    "duration": 13,
    "start_time": "2022-05-21T10:58:06.684Z"
   },
   {
    "duration": 36,
    "start_time": "2022-05-21T10:58:06.698Z"
   },
   {
    "duration": 12,
    "start_time": "2022-05-21T10:58:06.736Z"
   },
   {
    "duration": 11,
    "start_time": "2022-05-21T10:58:06.750Z"
   },
   {
    "duration": 23,
    "start_time": "2022-05-21T10:58:06.763Z"
   },
   {
    "duration": 53,
    "start_time": "2022-05-21T10:58:06.788Z"
   },
   {
    "duration": 6,
    "start_time": "2022-05-21T10:58:06.843Z"
   },
   {
    "duration": 23,
    "start_time": "2022-05-21T10:58:06.851Z"
   },
   {
    "duration": 85,
    "start_time": "2022-05-21T10:58:06.875Z"
   },
   {
    "duration": 8,
    "start_time": "2022-05-21T10:58:06.961Z"
   },
   {
    "duration": 9,
    "start_time": "2022-05-21T10:58:06.972Z"
   },
   {
    "duration": 5,
    "start_time": "2022-05-21T10:58:06.982Z"
   },
   {
    "duration": 12,
    "start_time": "2022-05-21T10:58:06.989Z"
   },
   {
    "duration": 35,
    "start_time": "2022-05-21T10:58:07.002Z"
   },
   {
    "duration": 46,
    "start_time": "2022-05-21T10:58:07.039Z"
   },
   {
    "duration": 86,
    "start_time": "2022-05-21T10:58:07.087Z"
   },
   {
    "duration": 8,
    "start_time": "2022-05-21T10:58:07.175Z"
   },
   {
    "duration": 103,
    "start_time": "2022-05-21T10:58:07.185Z"
   },
   {
    "duration": 6,
    "start_time": "2022-05-21T10:58:07.290Z"
   },
   {
    "duration": 16,
    "start_time": "2022-05-21T10:58:07.297Z"
   },
   {
    "duration": 13,
    "start_time": "2022-05-21T10:58:07.315Z"
   },
   {
    "duration": 18,
    "start_time": "2022-05-21T10:58:07.330Z"
   },
   {
    "duration": 11,
    "start_time": "2022-05-21T10:58:07.349Z"
   },
   {
    "duration": 8,
    "start_time": "2022-05-21T10:58:07.362Z"
   },
   {
    "duration": 14,
    "start_time": "2022-05-21T10:58:07.372Z"
   },
   {
    "duration": 0,
    "start_time": "2022-05-21T10:58:07.387Z"
   },
   {
    "duration": 0,
    "start_time": "2022-05-21T10:58:07.389Z"
   },
   {
    "duration": 0,
    "start_time": "2022-05-21T10:58:07.390Z"
   },
   {
    "duration": 522,
    "start_time": "2022-05-21T10:59:13.674Z"
   },
   {
    "duration": 346,
    "start_time": "2022-05-21T11:00:43.592Z"
   },
   {
    "duration": 80,
    "start_time": "2022-05-21T11:01:03.368Z"
   },
   {
    "duration": 78,
    "start_time": "2022-05-21T11:01:18.065Z"
   },
   {
    "duration": 77,
    "start_time": "2022-05-21T11:01:27.570Z"
   },
   {
    "duration": 74,
    "start_time": "2022-05-21T11:01:36.442Z"
   },
   {
    "duration": 26,
    "start_time": "2022-05-21T11:02:39.289Z"
   },
   {
    "duration": 78,
    "start_time": "2022-05-21T11:02:57.322Z"
   },
   {
    "duration": 9,
    "start_time": "2022-05-21T11:02:59.208Z"
   },
   {
    "duration": 75,
    "start_time": "2022-05-21T11:03:35.265Z"
   },
   {
    "duration": 8,
    "start_time": "2022-05-21T11:03:36.308Z"
   },
   {
    "duration": 83,
    "start_time": "2022-05-21T11:05:41.824Z"
   },
   {
    "duration": 488,
    "start_time": "2022-05-21T11:05:49.084Z"
   },
   {
    "duration": 72,
    "start_time": "2022-05-21T11:06:04.574Z"
   },
   {
    "duration": 9,
    "start_time": "2022-05-21T11:06:07.371Z"
   },
   {
    "duration": 91,
    "start_time": "2022-05-21T11:07:34.196Z"
   },
   {
    "duration": 497,
    "start_time": "2022-05-21T11:07:46.675Z"
   },
   {
    "duration": 73,
    "start_time": "2022-05-21T11:08:01.220Z"
   },
   {
    "duration": 8,
    "start_time": "2022-05-21T11:08:06.905Z"
   },
   {
    "duration": 91,
    "start_time": "2022-05-21T11:08:25.505Z"
   },
   {
    "duration": 20,
    "start_time": "2022-05-21T11:08:37.126Z"
   },
   {
    "duration": 10,
    "start_time": "2022-05-21T11:08:40.200Z"
   },
   {
    "duration": 20,
    "start_time": "2022-05-21T11:08:41.487Z"
   },
   {
    "duration": 7,
    "start_time": "2022-05-21T11:09:02.518Z"
   },
   {
    "duration": 216,
    "start_time": "2022-05-21T11:09:02.529Z"
   },
   {
    "duration": 100,
    "start_time": "2022-05-21T11:09:02.747Z"
   },
   {
    "duration": 3,
    "start_time": "2022-05-21T11:09:02.849Z"
   },
   {
    "duration": 10,
    "start_time": "2022-05-21T11:09:02.853Z"
   },
   {
    "duration": 120,
    "start_time": "2022-05-21T11:09:02.864Z"
   },
   {
    "duration": 84,
    "start_time": "2022-05-21T11:09:02.986Z"
   },
   {
    "duration": 18,
    "start_time": "2022-05-21T11:09:03.071Z"
   },
   {
    "duration": 7,
    "start_time": "2022-05-21T11:09:03.091Z"
   },
   {
    "duration": 43,
    "start_time": "2022-05-21T11:09:03.100Z"
   },
   {
    "duration": 455,
    "start_time": "2022-05-21T11:09:03.144Z"
   },
   {
    "duration": 336,
    "start_time": "2022-05-21T11:09:03.601Z"
   },
   {
    "duration": 339,
    "start_time": "2022-05-21T11:09:03.939Z"
   },
   {
    "duration": 12,
    "start_time": "2022-05-21T11:09:04.280Z"
   },
   {
    "duration": 7,
    "start_time": "2022-05-21T11:09:04.294Z"
   },
   {
    "duration": 33,
    "start_time": "2022-05-21T11:09:04.302Z"
   },
   {
    "duration": 13,
    "start_time": "2022-05-21T11:09:04.337Z"
   },
   {
    "duration": 20,
    "start_time": "2022-05-21T11:09:04.352Z"
   },
   {
    "duration": 21,
    "start_time": "2022-05-21T11:09:04.374Z"
   },
   {
    "duration": 5,
    "start_time": "2022-05-21T11:09:04.397Z"
   },
   {
    "duration": 31,
    "start_time": "2022-05-21T11:09:04.423Z"
   },
   {
    "duration": 80,
    "start_time": "2022-05-21T11:09:04.455Z"
   },
   {
    "duration": 10,
    "start_time": "2022-05-21T11:09:04.536Z"
   },
   {
    "duration": 94,
    "start_time": "2022-05-21T11:09:04.547Z"
   },
   {
    "duration": 5,
    "start_time": "2022-05-21T11:09:04.643Z"
   },
   {
    "duration": 9,
    "start_time": "2022-05-21T11:09:04.650Z"
   },
   {
    "duration": 6,
    "start_time": "2022-05-21T11:09:04.660Z"
   },
   {
    "duration": 67,
    "start_time": "2022-05-21T11:09:04.669Z"
   },
   {
    "duration": 69,
    "start_time": "2022-05-21T11:09:04.738Z"
   },
   {
    "duration": 8,
    "start_time": "2022-05-21T11:09:04.808Z"
   },
   {
    "duration": 34,
    "start_time": "2022-05-21T11:09:04.818Z"
   },
   {
    "duration": 5,
    "start_time": "2022-05-21T11:09:04.854Z"
   },
   {
    "duration": 11,
    "start_time": "2022-05-21T11:09:04.861Z"
   },
   {
    "duration": 8,
    "start_time": "2022-05-21T11:09:04.873Z"
   },
   {
    "duration": 6,
    "start_time": "2022-05-21T11:09:04.883Z"
   },
   {
    "duration": 8,
    "start_time": "2022-05-21T11:09:04.891Z"
   },
   {
    "duration": 33,
    "start_time": "2022-05-21T11:09:04.900Z"
   },
   {
    "duration": 14,
    "start_time": "2022-05-21T11:09:04.939Z"
   },
   {
    "duration": 0,
    "start_time": "2022-05-21T11:09:04.954Z"
   },
   {
    "duration": 0,
    "start_time": "2022-05-21T11:09:04.956Z"
   },
   {
    "duration": 0,
    "start_time": "2022-05-21T11:09:04.957Z"
   },
   {
    "duration": 76,
    "start_time": "2022-05-21T11:09:28.875Z"
   },
   {
    "duration": 11,
    "start_time": "2022-05-21T11:09:29.700Z"
   },
   {
    "duration": 41,
    "start_time": "2022-05-21T11:09:50.122Z"
   },
   {
    "duration": 7,
    "start_time": "2022-05-21T11:09:51.383Z"
   },
   {
    "duration": 82,
    "start_time": "2022-05-21T11:10:02.800Z"
   },
   {
    "duration": 8,
    "start_time": "2022-05-21T11:10:03.501Z"
   },
   {
    "duration": 25,
    "start_time": "2022-05-21T11:10:22.572Z"
   },
   {
    "duration": 22,
    "start_time": "2022-05-21T11:11:59.671Z"
   },
   {
    "duration": 23,
    "start_time": "2022-05-21T11:12:25.536Z"
   },
   {
    "duration": 19,
    "start_time": "2022-05-21T11:12:34.203Z"
   },
   {
    "duration": 14,
    "start_time": "2022-05-21T11:13:34.071Z"
   },
   {
    "duration": 13,
    "start_time": "2022-05-21T11:14:01.504Z"
   },
   {
    "duration": 6,
    "start_time": "2022-05-21T11:14:27.188Z"
   },
   {
    "duration": 181,
    "start_time": "2022-05-21T11:14:27.196Z"
   },
   {
    "duration": 93,
    "start_time": "2022-05-21T11:14:27.379Z"
   },
   {
    "duration": 4,
    "start_time": "2022-05-21T11:14:27.475Z"
   },
   {
    "duration": 13,
    "start_time": "2022-05-21T11:14:27.481Z"
   },
   {
    "duration": 131,
    "start_time": "2022-05-21T11:14:27.495Z"
   },
   {
    "duration": 66,
    "start_time": "2022-05-21T11:14:27.635Z"
   },
   {
    "duration": 33,
    "start_time": "2022-05-21T11:14:27.703Z"
   },
   {
    "duration": 8,
    "start_time": "2022-05-21T11:14:27.738Z"
   },
   {
    "duration": 14,
    "start_time": "2022-05-21T11:14:27.748Z"
   },
   {
    "duration": 375,
    "start_time": "2022-05-21T11:14:27.763Z"
   },
   {
    "duration": 437,
    "start_time": "2022-05-21T11:14:28.140Z"
   },
   {
    "duration": 381,
    "start_time": "2022-05-21T11:14:28.578Z"
   },
   {
    "duration": 15,
    "start_time": "2022-05-21T11:14:28.961Z"
   },
   {
    "duration": 9,
    "start_time": "2022-05-21T11:14:28.979Z"
   },
   {
    "duration": 34,
    "start_time": "2022-05-21T11:14:28.990Z"
   },
   {
    "duration": 13,
    "start_time": "2022-05-21T11:14:29.026Z"
   },
   {
    "duration": 34,
    "start_time": "2022-05-21T11:14:29.041Z"
   },
   {
    "duration": 24,
    "start_time": "2022-05-21T11:14:29.077Z"
   },
   {
    "duration": 35,
    "start_time": "2022-05-21T11:14:29.103Z"
   },
   {
    "duration": 36,
    "start_time": "2022-05-21T11:14:29.142Z"
   },
   {
    "duration": 84,
    "start_time": "2022-05-21T11:14:29.180Z"
   },
   {
    "duration": 8,
    "start_time": "2022-05-21T11:14:29.266Z"
   },
   {
    "duration": 11,
    "start_time": "2022-05-21T11:14:29.276Z"
   },
   {
    "duration": 8,
    "start_time": "2022-05-21T11:14:29.289Z"
   },
   {
    "duration": 32,
    "start_time": "2022-05-21T11:14:29.301Z"
   },
   {
    "duration": 16,
    "start_time": "2022-05-21T11:14:29.334Z"
   },
   {
    "duration": 44,
    "start_time": "2022-05-21T11:14:29.354Z"
   },
   {
    "duration": 88,
    "start_time": "2022-05-21T11:14:29.400Z"
   },
   {
    "duration": 13,
    "start_time": "2022-05-21T11:14:29.490Z"
   },
   {
    "duration": 0,
    "start_time": "2022-05-21T11:14:29.504Z"
   },
   {
    "duration": 0,
    "start_time": "2022-05-21T11:14:29.506Z"
   },
   {
    "duration": 0,
    "start_time": "2022-05-21T11:14:29.507Z"
   },
   {
    "duration": 0,
    "start_time": "2022-05-21T11:14:29.508Z"
   },
   {
    "duration": 0,
    "start_time": "2022-05-21T11:14:29.534Z"
   },
   {
    "duration": 0,
    "start_time": "2022-05-21T11:14:29.535Z"
   },
   {
    "duration": 0,
    "start_time": "2022-05-21T11:14:29.535Z"
   },
   {
    "duration": 0,
    "start_time": "2022-05-21T11:14:29.539Z"
   },
   {
    "duration": 0,
    "start_time": "2022-05-21T11:14:29.540Z"
   },
   {
    "duration": 0,
    "start_time": "2022-05-21T11:14:29.541Z"
   },
   {
    "duration": 0,
    "start_time": "2022-05-21T11:14:29.542Z"
   },
   {
    "duration": 8,
    "start_time": "2022-05-21T11:14:47.640Z"
   },
   {
    "duration": 20,
    "start_time": "2022-05-21T11:15:15.164Z"
   },
   {
    "duration": 12,
    "start_time": "2022-05-21T11:20:40.368Z"
   },
   {
    "duration": 382,
    "start_time": "2022-05-21T11:20:56.095Z"
   },
   {
    "duration": 13,
    "start_time": "2022-05-21T11:21:33.318Z"
   },
   {
    "duration": 542,
    "start_time": "2022-05-21T11:29:50.627Z"
   },
   {
    "duration": 510,
    "start_time": "2022-05-21T11:38:24.183Z"
   },
   {
    "duration": 3,
    "start_time": "2022-05-21T11:38:29.875Z"
   },
   {
    "duration": 5,
    "start_time": "2022-05-21T11:38:39.280Z"
   },
   {
    "duration": 10,
    "start_time": "2022-05-21T11:39:56.065Z"
   },
   {
    "duration": 20,
    "start_time": "2022-05-21T11:42:16.500Z"
   },
   {
    "duration": 20,
    "start_time": "2022-05-21T11:42:24.873Z"
   },
   {
    "duration": 742,
    "start_time": "2022-05-21T11:53:06.350Z"
   },
   {
    "duration": 10,
    "start_time": "2022-05-21T11:53:49.571Z"
   },
   {
    "duration": 19,
    "start_time": "2022-05-21T12:17:25.673Z"
   },
   {
    "duration": 21,
    "start_time": "2022-05-21T12:17:37.627Z"
   },
   {
    "duration": 20,
    "start_time": "2022-05-21T12:17:47.001Z"
   },
   {
    "duration": 6,
    "start_time": "2022-05-21T12:22:02.386Z"
   },
   {
    "duration": 6,
    "start_time": "2022-05-21T12:22:10.245Z"
   },
   {
    "duration": 7,
    "start_time": "2022-05-21T12:22:20.996Z"
   },
   {
    "duration": 9,
    "start_time": "2022-05-21T12:25:03.912Z"
   },
   {
    "duration": 360,
    "start_time": "2022-05-21T12:25:34.714Z"
   },
   {
    "duration": 10,
    "start_time": "2022-05-21T12:25:50.247Z"
   },
   {
    "duration": 34,
    "start_time": "2022-05-21T12:31:15.881Z"
   },
   {
    "duration": 26,
    "start_time": "2022-05-21T12:31:46.305Z"
   },
   {
    "duration": 21,
    "start_time": "2022-05-21T12:32:27.440Z"
   },
   {
    "duration": 6,
    "start_time": "2022-05-21T12:32:31.316Z"
   },
   {
    "duration": 24,
    "start_time": "2022-05-21T12:32:42.091Z"
   },
   {
    "duration": 24,
    "start_time": "2022-05-21T12:32:55.747Z"
   },
   {
    "duration": 9,
    "start_time": "2022-05-21T12:33:38.638Z"
   },
   {
    "duration": 23,
    "start_time": "2022-05-21T12:33:43.504Z"
   },
   {
    "duration": 22,
    "start_time": "2022-05-21T12:34:19.986Z"
   },
   {
    "duration": 6,
    "start_time": "2022-05-21T12:35:03.485Z"
   },
   {
    "duration": 18,
    "start_time": "2022-05-21T12:35:05.112Z"
   },
   {
    "duration": 17,
    "start_time": "2022-05-21T12:35:22.240Z"
   },
   {
    "duration": 6,
    "start_time": "2022-05-21T12:36:32.690Z"
   },
   {
    "duration": 8,
    "start_time": "2022-05-21T12:37:32.005Z"
   },
   {
    "duration": 17,
    "start_time": "2022-05-21T12:37:34.894Z"
   },
   {
    "duration": 10,
    "start_time": "2022-05-21T12:39:08.684Z"
   },
   {
    "duration": 18,
    "start_time": "2022-05-21T12:39:17.616Z"
   },
   {
    "duration": 21,
    "start_time": "2022-05-21T12:39:28.942Z"
   },
   {
    "duration": 6,
    "start_time": "2022-05-21T12:40:17.906Z"
   },
   {
    "duration": 10,
    "start_time": "2022-05-21T12:40:19.177Z"
   },
   {
    "duration": 17,
    "start_time": "2022-05-21T12:40:26.731Z"
   },
   {
    "duration": 6,
    "start_time": "2022-05-21T12:41:45.516Z"
   },
   {
    "duration": 5,
    "start_time": "2022-05-21T12:42:22.325Z"
   },
   {
    "duration": 6,
    "start_time": "2022-05-21T12:56:49.118Z"
   },
   {
    "duration": 23,
    "start_time": "2022-05-21T12:56:50.740Z"
   },
   {
    "duration": 13,
    "start_time": "2022-05-21T12:59:32.034Z"
   },
   {
    "duration": 20,
    "start_time": "2022-05-21T12:59:41.925Z"
   },
   {
    "duration": 29,
    "start_time": "2022-05-21T12:59:53.020Z"
   },
   {
    "duration": 11,
    "start_time": "2022-05-21T13:05:41.837Z"
   },
   {
    "duration": 44,
    "start_time": "2022-05-21T13:06:07.716Z"
   },
   {
    "duration": 38,
    "start_time": "2022-05-21T13:06:28.710Z"
   },
   {
    "duration": 8,
    "start_time": "2022-05-21T13:06:35.871Z"
   },
   {
    "duration": 8,
    "start_time": "2022-05-21T13:08:19.320Z"
   },
   {
    "duration": 83,
    "start_time": "2022-05-21T13:11:56.105Z"
   },
   {
    "duration": 11,
    "start_time": "2022-05-21T13:11:57.887Z"
   },
   {
    "duration": 77,
    "start_time": "2022-05-21T13:12:17.842Z"
   },
   {
    "duration": 7,
    "start_time": "2022-05-21T13:12:19.408Z"
   },
   {
    "duration": 65,
    "start_time": "2022-05-21T13:12:37.036Z"
   },
   {
    "duration": 9,
    "start_time": "2022-05-21T13:12:38.495Z"
   },
   {
    "duration": 86,
    "start_time": "2022-05-21T13:15:13.201Z"
   },
   {
    "duration": 66,
    "start_time": "2022-05-21T13:16:16.965Z"
   },
   {
    "duration": 8,
    "start_time": "2022-05-21T13:16:21.183Z"
   },
   {
    "duration": 73,
    "start_time": "2022-05-21T13:17:46.096Z"
   },
   {
    "duration": 72,
    "start_time": "2022-05-21T13:18:09.107Z"
   },
   {
    "duration": 70,
    "start_time": "2022-05-21T13:18:13.757Z"
   },
   {
    "duration": 7,
    "start_time": "2022-05-21T13:18:19.530Z"
   },
   {
    "duration": 582,
    "start_time": "2022-05-21T13:19:07.699Z"
   },
   {
    "duration": 39,
    "start_time": "2022-05-21T13:20:22.374Z"
   },
   {
    "duration": 453,
    "start_time": "2022-05-21T13:20:25.536Z"
   },
   {
    "duration": 21,
    "start_time": "2022-05-21T13:22:31.345Z"
   },
   {
    "duration": 578,
    "start_time": "2022-05-21T13:22:58.021Z"
   },
   {
    "duration": 737,
    "start_time": "2022-05-21T13:24:17.240Z"
   },
   {
    "duration": 15,
    "start_time": "2022-05-21T13:25:39.099Z"
   },
   {
    "duration": 15,
    "start_time": "2022-05-21T13:25:54.479Z"
   },
   {
    "duration": 23,
    "start_time": "2022-05-21T13:26:15.412Z"
   },
   {
    "duration": 9,
    "start_time": "2022-05-21T13:26:55.601Z"
   },
   {
    "duration": 17,
    "start_time": "2022-05-21T13:28:05.106Z"
   },
   {
    "duration": 10,
    "start_time": "2022-05-21T13:28:13.683Z"
   },
   {
    "duration": 17,
    "start_time": "2022-05-21T13:28:37.617Z"
   },
   {
    "duration": 5,
    "start_time": "2022-05-21T13:29:17.510Z"
   },
   {
    "duration": 177,
    "start_time": "2022-05-21T13:29:17.517Z"
   },
   {
    "duration": 102,
    "start_time": "2022-05-21T13:29:17.696Z"
   },
   {
    "duration": 3,
    "start_time": "2022-05-21T13:29:17.801Z"
   },
   {
    "duration": 41,
    "start_time": "2022-05-21T13:29:17.806Z"
   },
   {
    "duration": 131,
    "start_time": "2022-05-21T13:29:17.848Z"
   },
   {
    "duration": 108,
    "start_time": "2022-05-21T13:29:17.985Z"
   },
   {
    "duration": 18,
    "start_time": "2022-05-21T13:29:18.095Z"
   },
   {
    "duration": 13,
    "start_time": "2022-05-21T13:29:18.127Z"
   },
   {
    "duration": 19,
    "start_time": "2022-05-21T13:29:18.142Z"
   },
   {
    "duration": 455,
    "start_time": "2022-05-21T13:29:18.163Z"
   },
   {
    "duration": 380,
    "start_time": "2022-05-21T13:29:18.619Z"
   },
   {
    "duration": 384,
    "start_time": "2022-05-21T13:29:19.001Z"
   },
   {
    "duration": 12,
    "start_time": "2022-05-21T13:29:19.387Z"
   },
   {
    "duration": 35,
    "start_time": "2022-05-21T13:29:19.401Z"
   },
   {
    "duration": 11,
    "start_time": "2022-05-21T13:29:19.438Z"
   },
   {
    "duration": 11,
    "start_time": "2022-05-21T13:29:19.450Z"
   },
   {
    "duration": 21,
    "start_time": "2022-05-21T13:29:19.463Z"
   },
   {
    "duration": 55,
    "start_time": "2022-05-21T13:29:19.486Z"
   },
   {
    "duration": 11,
    "start_time": "2022-05-21T13:29:19.543Z"
   },
   {
    "duration": 24,
    "start_time": "2022-05-21T13:29:19.556Z"
   },
   {
    "duration": 74,
    "start_time": "2022-05-21T13:29:19.582Z"
   },
   {
    "duration": 8,
    "start_time": "2022-05-21T13:29:19.657Z"
   },
   {
    "duration": 118,
    "start_time": "2022-05-21T13:29:19.669Z"
   },
   {
    "duration": 8,
    "start_time": "2022-05-21T13:29:19.789Z"
   },
   {
    "duration": 10,
    "start_time": "2022-05-21T13:29:19.799Z"
   },
   {
    "duration": 16,
    "start_time": "2022-05-21T13:29:19.811Z"
   },
   {
    "duration": 46,
    "start_time": "2022-05-21T13:29:19.829Z"
   },
   {
    "duration": 70,
    "start_time": "2022-05-21T13:29:19.878Z"
   },
   {
    "duration": 6,
    "start_time": "2022-05-21T13:29:19.950Z"
   },
   {
    "duration": 19,
    "start_time": "2022-05-21T13:29:19.958Z"
   },
   {
    "duration": 19,
    "start_time": "2022-05-21T13:29:19.978Z"
   },
   {
    "duration": 0,
    "start_time": "2022-05-21T13:29:19.999Z"
   },
   {
    "duration": 0,
    "start_time": "2022-05-21T13:29:20.000Z"
   },
   {
    "duration": 0,
    "start_time": "2022-05-21T13:29:20.001Z"
   },
   {
    "duration": 0,
    "start_time": "2022-05-21T13:29:20.002Z"
   },
   {
    "duration": 0,
    "start_time": "2022-05-21T13:29:20.025Z"
   },
   {
    "duration": 0,
    "start_time": "2022-05-21T13:29:20.026Z"
   },
   {
    "duration": 0,
    "start_time": "2022-05-21T13:29:20.027Z"
   },
   {
    "duration": 0,
    "start_time": "2022-05-21T13:29:20.028Z"
   },
   {
    "duration": 0,
    "start_time": "2022-05-21T13:29:20.028Z"
   },
   {
    "duration": 0,
    "start_time": "2022-05-21T13:29:20.029Z"
   },
   {
    "duration": 0,
    "start_time": "2022-05-21T13:29:20.030Z"
   },
   {
    "duration": 0,
    "start_time": "2022-05-21T13:29:20.030Z"
   },
   {
    "duration": 0,
    "start_time": "2022-05-21T13:29:20.031Z"
   },
   {
    "duration": 0,
    "start_time": "2022-05-21T13:29:20.032Z"
   },
   {
    "duration": 0,
    "start_time": "2022-05-21T13:29:20.032Z"
   },
   {
    "duration": 0,
    "start_time": "2022-05-21T13:29:20.033Z"
   },
   {
    "duration": 6,
    "start_time": "2022-05-21T13:32:31.476Z"
   },
   {
    "duration": 11,
    "start_time": "2022-05-21T13:32:48.434Z"
   },
   {
    "duration": 15,
    "start_time": "2022-05-21T13:33:07.972Z"
   },
   {
    "duration": 5,
    "start_time": "2022-05-21T13:33:30.958Z"
   },
   {
    "duration": 17,
    "start_time": "2022-05-21T13:33:32.261Z"
   },
   {
    "duration": 13,
    "start_time": "2022-05-21T13:33:37.664Z"
   },
   {
    "duration": 5,
    "start_time": "2022-05-21T13:33:58.254Z"
   },
   {
    "duration": 19,
    "start_time": "2022-05-21T13:33:59.596Z"
   },
   {
    "duration": 22,
    "start_time": "2022-05-21T13:34:17.866Z"
   },
   {
    "duration": 483,
    "start_time": "2022-05-21T13:37:07.782Z"
   },
   {
    "duration": 36,
    "start_time": "2022-05-21T13:39:26.417Z"
   },
   {
    "duration": 42,
    "start_time": "2022-05-21T13:39:46.992Z"
   },
   {
    "duration": 30,
    "start_time": "2022-05-21T13:40:13.365Z"
   },
   {
    "duration": 33,
    "start_time": "2022-05-21T13:40:21.263Z"
   },
   {
    "duration": 42,
    "start_time": "2022-05-21T13:40:29.306Z"
   },
   {
    "duration": 35,
    "start_time": "2022-05-21T13:40:34.583Z"
   },
   {
    "duration": 4,
    "start_time": "2022-05-21T13:40:42.669Z"
   },
   {
    "duration": 31,
    "start_time": "2022-05-21T13:40:46.056Z"
   },
   {
    "duration": 33,
    "start_time": "2022-05-21T13:41:05.278Z"
   },
   {
    "duration": 6,
    "start_time": "2022-05-21T13:41:33.036Z"
   },
   {
    "duration": 22,
    "start_time": "2022-05-21T13:41:36.318Z"
   },
   {
    "duration": 4,
    "start_time": "2022-05-21T13:53:54.604Z"
   },
   {
    "duration": 16,
    "start_time": "2022-05-21T13:53:56.678Z"
   },
   {
    "duration": 9,
    "start_time": "2022-05-21T13:54:39.460Z"
   },
   {
    "duration": 19,
    "start_time": "2022-05-21T13:54:45.188Z"
   },
   {
    "duration": 9,
    "start_time": "2022-05-21T13:55:48.209Z"
   },
   {
    "duration": 402,
    "start_time": "2022-05-21T13:57:34.054Z"
   },
   {
    "duration": 434,
    "start_time": "2022-05-21T13:57:52.677Z"
   },
   {
    "duration": 533,
    "start_time": "2022-05-21T13:58:22.848Z"
   },
   {
    "duration": 18,
    "start_time": "2022-05-21T13:58:50.554Z"
   },
   {
    "duration": 613,
    "start_time": "2022-05-21T13:59:27.055Z"
   },
   {
    "duration": 6,
    "start_time": "2022-05-21T13:59:40.052Z"
   },
   {
    "duration": 158,
    "start_time": "2022-05-21T13:59:40.061Z"
   },
   {
    "duration": 97,
    "start_time": "2022-05-21T13:59:40.221Z"
   },
   {
    "duration": 8,
    "start_time": "2022-05-21T13:59:40.324Z"
   },
   {
    "duration": 19,
    "start_time": "2022-05-21T13:59:40.334Z"
   },
   {
    "duration": 119,
    "start_time": "2022-05-21T13:59:40.355Z"
   },
   {
    "duration": 85,
    "start_time": "2022-05-21T13:59:40.476Z"
   },
   {
    "duration": 18,
    "start_time": "2022-05-21T13:59:40.563Z"
   },
   {
    "duration": 8,
    "start_time": "2022-05-21T13:59:40.583Z"
   },
   {
    "duration": 33,
    "start_time": "2022-05-21T13:59:40.593Z"
   },
   {
    "duration": 363,
    "start_time": "2022-05-21T13:59:40.632Z"
   },
   {
    "duration": 495,
    "start_time": "2022-05-21T13:59:40.997Z"
   },
   {
    "duration": 423,
    "start_time": "2022-05-21T13:59:41.494Z"
   },
   {
    "duration": 17,
    "start_time": "2022-05-21T13:59:41.926Z"
   },
   {
    "duration": 22,
    "start_time": "2022-05-21T13:59:41.946Z"
   },
   {
    "duration": 14,
    "start_time": "2022-05-21T13:59:41.971Z"
   },
   {
    "duration": 19,
    "start_time": "2022-05-21T13:59:41.986Z"
   },
   {
    "duration": 47,
    "start_time": "2022-05-21T13:59:42.008Z"
   },
   {
    "duration": 30,
    "start_time": "2022-05-21T13:59:42.057Z"
   },
   {
    "duration": 6,
    "start_time": "2022-05-21T13:59:42.089Z"
   },
   {
    "duration": 65,
    "start_time": "2022-05-21T13:59:42.097Z"
   },
   {
    "duration": 74,
    "start_time": "2022-05-21T13:59:42.164Z"
   },
   {
    "duration": 13,
    "start_time": "2022-05-21T13:59:42.240Z"
   },
   {
    "duration": 12,
    "start_time": "2022-05-21T13:59:42.255Z"
   },
   {
    "duration": 10,
    "start_time": "2022-05-21T13:59:42.269Z"
   },
   {
    "duration": 12,
    "start_time": "2022-05-21T13:59:42.281Z"
   },
   {
    "duration": 6,
    "start_time": "2022-05-21T13:59:42.295Z"
   },
   {
    "duration": 80,
    "start_time": "2022-05-21T13:59:42.302Z"
   },
   {
    "duration": 73,
    "start_time": "2022-05-21T13:59:42.383Z"
   },
   {
    "duration": 7,
    "start_time": "2022-05-21T13:59:42.457Z"
   },
   {
    "duration": 612,
    "start_time": "2022-05-21T13:59:42.466Z"
   },
   {
    "duration": 0,
    "start_time": "2022-05-21T13:59:43.081Z"
   },
   {
    "duration": 0,
    "start_time": "2022-05-21T13:59:43.082Z"
   },
   {
    "duration": 0,
    "start_time": "2022-05-21T13:59:43.085Z"
   },
   {
    "duration": 0,
    "start_time": "2022-05-21T13:59:43.086Z"
   },
   {
    "duration": 0,
    "start_time": "2022-05-21T13:59:43.088Z"
   },
   {
    "duration": 0,
    "start_time": "2022-05-21T13:59:43.088Z"
   },
   {
    "duration": 1,
    "start_time": "2022-05-21T13:59:43.089Z"
   },
   {
    "duration": 0,
    "start_time": "2022-05-21T13:59:43.091Z"
   },
   {
    "duration": 0,
    "start_time": "2022-05-21T13:59:43.092Z"
   },
   {
    "duration": 0,
    "start_time": "2022-05-21T13:59:43.094Z"
   },
   {
    "duration": 0,
    "start_time": "2022-05-21T13:59:43.095Z"
   },
   {
    "duration": 0,
    "start_time": "2022-05-21T13:59:43.097Z"
   },
   {
    "duration": 0,
    "start_time": "2022-05-21T13:59:43.098Z"
   },
   {
    "duration": 0,
    "start_time": "2022-05-21T13:59:43.100Z"
   },
   {
    "duration": 0,
    "start_time": "2022-05-21T13:59:43.102Z"
   },
   {
    "duration": 0,
    "start_time": "2022-05-21T13:59:43.103Z"
   },
   {
    "duration": 0,
    "start_time": "2022-05-21T13:59:43.105Z"
   },
   {
    "duration": 0,
    "start_time": "2022-05-21T13:59:43.106Z"
   },
   {
    "duration": 440,
    "start_time": "2022-05-21T13:59:59.352Z"
   },
   {
    "duration": 462,
    "start_time": "2022-05-21T14:00:39.207Z"
   },
   {
    "duration": 388,
    "start_time": "2022-05-21T14:01:25.708Z"
   },
   {
    "duration": 489,
    "start_time": "2022-05-21T14:01:55.481Z"
   },
   {
    "duration": 440,
    "start_time": "2022-05-21T14:02:19.053Z"
   },
   {
    "duration": 389,
    "start_time": "2022-05-21T14:02:50.380Z"
   },
   {
    "duration": 5,
    "start_time": "2022-05-21T14:03:17.867Z"
   },
   {
    "duration": 11,
    "start_time": "2022-05-21T14:03:39.098Z"
   },
   {
    "duration": 6,
    "start_time": "2022-05-21T14:03:49.253Z"
   },
   {
    "duration": 156,
    "start_time": "2022-05-21T14:03:49.260Z"
   },
   {
    "duration": 94,
    "start_time": "2022-05-21T14:03:49.418Z"
   },
   {
    "duration": 3,
    "start_time": "2022-05-21T14:03:49.513Z"
   },
   {
    "duration": 22,
    "start_time": "2022-05-21T14:03:49.522Z"
   },
   {
    "duration": 113,
    "start_time": "2022-05-21T14:03:49.546Z"
   },
   {
    "duration": 82,
    "start_time": "2022-05-21T14:03:49.661Z"
   },
   {
    "duration": 17,
    "start_time": "2022-05-21T14:03:49.745Z"
   },
   {
    "duration": 7,
    "start_time": "2022-05-21T14:03:49.763Z"
   },
   {
    "duration": 16,
    "start_time": "2022-05-21T14:03:49.772Z"
   },
   {
    "duration": 504,
    "start_time": "2022-05-21T14:03:49.789Z"
   },
   {
    "duration": 369,
    "start_time": "2022-05-21T14:03:50.295Z"
   },
   {
    "duration": 377,
    "start_time": "2022-05-21T14:03:50.666Z"
   },
   {
    "duration": 13,
    "start_time": "2022-05-21T14:03:51.046Z"
   },
   {
    "duration": 8,
    "start_time": "2022-05-21T14:03:51.061Z"
   },
   {
    "duration": 65,
    "start_time": "2022-05-21T14:03:51.071Z"
   },
   {
    "duration": 14,
    "start_time": "2022-05-21T14:03:51.139Z"
   },
   {
    "duration": 79,
    "start_time": "2022-05-21T14:03:51.154Z"
   },
   {
    "duration": 24,
    "start_time": "2022-05-21T14:03:51.240Z"
   },
   {
    "duration": 6,
    "start_time": "2022-05-21T14:03:51.266Z"
   },
   {
    "duration": 80,
    "start_time": "2022-05-21T14:03:51.273Z"
   },
   {
    "duration": 171,
    "start_time": "2022-05-21T14:03:51.354Z"
   },
   {
    "duration": 18,
    "start_time": "2022-05-21T14:03:51.531Z"
   },
   {
    "duration": 12,
    "start_time": "2022-05-21T14:03:51.554Z"
   },
   {
    "duration": 11,
    "start_time": "2022-05-21T14:03:51.568Z"
   },
   {
    "duration": 26,
    "start_time": "2022-05-21T14:03:51.629Z"
   },
   {
    "duration": 7,
    "start_time": "2022-05-21T14:03:51.658Z"
   },
   {
    "duration": 83,
    "start_time": "2022-05-21T14:03:51.667Z"
   },
   {
    "duration": 178,
    "start_time": "2022-05-21T14:03:51.751Z"
   },
   {
    "duration": 12,
    "start_time": "2022-05-21T14:03:51.936Z"
   },
   {
    "duration": 12,
    "start_time": "2022-05-21T14:03:51.950Z"
   },
   {
    "duration": 591,
    "start_time": "2022-05-21T14:03:51.964Z"
   },
   {
    "duration": 0,
    "start_time": "2022-05-21T14:03:52.558Z"
   },
   {
    "duration": 0,
    "start_time": "2022-05-21T14:03:52.561Z"
   },
   {
    "duration": 0,
    "start_time": "2022-05-21T14:03:52.563Z"
   },
   {
    "duration": 0,
    "start_time": "2022-05-21T14:03:52.565Z"
   },
   {
    "duration": 0,
    "start_time": "2022-05-21T14:03:52.566Z"
   },
   {
    "duration": 0,
    "start_time": "2022-05-21T14:03:52.568Z"
   },
   {
    "duration": 0,
    "start_time": "2022-05-21T14:03:52.570Z"
   },
   {
    "duration": 0,
    "start_time": "2022-05-21T14:03:52.571Z"
   },
   {
    "duration": 0,
    "start_time": "2022-05-21T14:03:52.572Z"
   },
   {
    "duration": 0,
    "start_time": "2022-05-21T14:03:52.574Z"
   },
   {
    "duration": 0,
    "start_time": "2022-05-21T14:03:52.575Z"
   },
   {
    "duration": 0,
    "start_time": "2022-05-21T14:03:52.576Z"
   },
   {
    "duration": 0,
    "start_time": "2022-05-21T14:03:52.577Z"
   },
   {
    "duration": 0,
    "start_time": "2022-05-21T14:03:52.579Z"
   },
   {
    "duration": 0,
    "start_time": "2022-05-21T14:03:52.581Z"
   },
   {
    "duration": 0,
    "start_time": "2022-05-21T14:03:52.582Z"
   },
   {
    "duration": 0,
    "start_time": "2022-05-21T14:03:52.584Z"
   },
   {
    "duration": 0,
    "start_time": "2022-05-21T14:03:52.623Z"
   },
   {
    "duration": 471,
    "start_time": "2022-05-21T14:04:59.187Z"
   },
   {
    "duration": 16,
    "start_time": "2022-05-21T14:05:11.853Z"
   },
   {
    "duration": 514,
    "start_time": "2022-05-21T14:06:59.706Z"
   },
   {
    "duration": 14,
    "start_time": "2022-05-21T14:07:49.686Z"
   },
   {
    "duration": 18,
    "start_time": "2022-05-21T14:08:03.969Z"
   },
   {
    "duration": 34,
    "start_time": "2022-05-21T14:08:16.964Z"
   },
   {
    "duration": 14,
    "start_time": "2022-05-21T14:08:20.508Z"
   },
   {
    "duration": 44,
    "start_time": "2022-05-21T14:11:39.308Z"
   },
   {
    "duration": 22,
    "start_time": "2022-05-21T14:11:47.118Z"
   },
   {
    "duration": 22,
    "start_time": "2022-05-21T14:12:45.908Z"
   },
   {
    "duration": 5,
    "start_time": "2022-05-21T14:13:13.666Z"
   },
   {
    "duration": 10,
    "start_time": "2022-05-21T14:13:32.197Z"
   },
   {
    "duration": 16,
    "start_time": "2022-05-21T14:13:49.586Z"
   },
   {
    "duration": 16,
    "start_time": "2022-05-21T14:14:07.065Z"
   },
   {
    "duration": 4,
    "start_time": "2022-05-21T14:14:21.938Z"
   },
   {
    "duration": 4,
    "start_time": "2022-05-21T14:14:47.648Z"
   },
   {
    "duration": 16,
    "start_time": "2022-05-21T14:15:02.462Z"
   },
   {
    "duration": 5,
    "start_time": "2022-05-21T14:16:37.157Z"
   },
   {
    "duration": 10,
    "start_time": "2022-05-21T14:16:38.336Z"
   },
   {
    "duration": 10,
    "start_time": "2022-05-21T14:19:46.077Z"
   },
   {
    "duration": 13,
    "start_time": "2022-05-21T14:20:05.301Z"
   },
   {
    "duration": 487,
    "start_time": "2022-05-21T14:20:54.668Z"
   },
   {
    "duration": 32,
    "start_time": "2022-05-21T14:21:02.669Z"
   },
   {
    "duration": 28,
    "start_time": "2022-05-21T14:21:08.502Z"
   },
   {
    "duration": 25,
    "start_time": "2022-05-21T14:21:17.763Z"
   },
   {
    "duration": 19,
    "start_time": "2022-05-21T14:23:29.954Z"
   },
   {
    "duration": 21,
    "start_time": "2022-05-21T14:23:41.559Z"
   },
   {
    "duration": 399,
    "start_time": "2022-05-21T14:24:43.712Z"
   },
   {
    "duration": 12,
    "start_time": "2022-05-21T14:38:01.670Z"
   },
   {
    "duration": 5,
    "start_time": "2022-05-21T14:57:28.879Z"
   },
   {
    "duration": 13,
    "start_time": "2022-05-21T14:57:30.211Z"
   },
   {
    "duration": 5,
    "start_time": "2022-05-21T14:57:36.717Z"
   },
   {
    "duration": 14,
    "start_time": "2022-05-21T14:57:38.524Z"
   },
   {
    "duration": 4,
    "start_time": "2022-05-21T14:58:46.189Z"
   },
   {
    "duration": 3,
    "start_time": "2022-05-21T14:59:02.115Z"
   },
   {
    "duration": 5,
    "start_time": "2022-05-21T14:59:25.390Z"
   },
   {
    "duration": 30,
    "start_time": "2022-05-21T15:00:16.905Z"
   },
   {
    "duration": 11,
    "start_time": "2022-05-21T15:00:23.836Z"
   },
   {
    "duration": 13,
    "start_time": "2022-05-21T15:11:14.936Z"
   },
   {
    "duration": 14,
    "start_time": "2022-05-21T15:11:21.616Z"
   },
   {
    "duration": 14,
    "start_time": "2022-05-21T15:11:29.203Z"
   },
   {
    "duration": 10,
    "start_time": "2022-05-21T15:11:37.595Z"
   },
   {
    "duration": 14,
    "start_time": "2022-05-21T15:27:44.041Z"
   },
   {
    "duration": 67,
    "start_time": "2022-05-21T15:39:04.182Z"
   },
   {
    "duration": 21,
    "start_time": "2022-05-21T15:40:27.936Z"
   },
   {
    "duration": 4,
    "start_time": "2022-05-21T15:45:15.312Z"
   },
   {
    "duration": 5,
    "start_time": "2022-05-21T15:52:45.471Z"
   },
   {
    "duration": 7,
    "start_time": "2022-05-21T15:52:50.116Z"
   },
   {
    "duration": 166,
    "start_time": "2022-05-21T15:52:50.127Z"
   },
   {
    "duration": 85,
    "start_time": "2022-05-21T15:52:50.295Z"
   },
   {
    "duration": 3,
    "start_time": "2022-05-21T15:52:50.382Z"
   },
   {
    "duration": 11,
    "start_time": "2022-05-21T15:52:50.386Z"
   },
   {
    "duration": 136,
    "start_time": "2022-05-21T15:52:50.398Z"
   },
   {
    "duration": 74,
    "start_time": "2022-05-21T15:52:50.536Z"
   },
   {
    "duration": 27,
    "start_time": "2022-05-21T15:52:50.612Z"
   },
   {
    "duration": 10,
    "start_time": "2022-05-21T15:52:50.641Z"
   },
   {
    "duration": 18,
    "start_time": "2022-05-21T15:52:50.652Z"
   },
   {
    "duration": 464,
    "start_time": "2022-05-21T15:52:50.672Z"
   },
   {
    "duration": 430,
    "start_time": "2022-05-21T15:52:51.139Z"
   },
   {
    "duration": 369,
    "start_time": "2022-05-21T15:52:51.571Z"
   },
   {
    "duration": 13,
    "start_time": "2022-05-21T15:52:51.942Z"
   },
   {
    "duration": 8,
    "start_time": "2022-05-21T15:52:51.957Z"
   },
   {
    "duration": 19,
    "start_time": "2022-05-21T15:52:51.966Z"
   },
   {
    "duration": 11,
    "start_time": "2022-05-21T15:52:51.987Z"
   },
   {
    "duration": 45,
    "start_time": "2022-05-21T15:52:52.000Z"
   },
   {
    "duration": 22,
    "start_time": "2022-05-21T15:52:52.047Z"
   },
   {
    "duration": 8,
    "start_time": "2022-05-21T15:52:52.071Z"
   },
   {
    "duration": 55,
    "start_time": "2022-05-21T15:52:52.081Z"
   },
   {
    "duration": 60,
    "start_time": "2022-05-21T15:52:52.138Z"
   },
   {
    "duration": 8,
    "start_time": "2022-05-21T15:52:52.200Z"
   },
   {
    "duration": 23,
    "start_time": "2022-05-21T15:52:52.211Z"
   },
   {
    "duration": 13,
    "start_time": "2022-05-21T15:52:52.235Z"
   },
   {
    "duration": 15,
    "start_time": "2022-05-21T15:52:52.250Z"
   },
   {
    "duration": 15,
    "start_time": "2022-05-21T15:52:52.267Z"
   },
   {
    "duration": 53,
    "start_time": "2022-05-21T15:52:52.283Z"
   },
   {
    "duration": 73,
    "start_time": "2022-05-21T15:52:52.338Z"
   },
   {
    "duration": 26,
    "start_time": "2022-05-21T15:52:52.413Z"
   },
   {
    "duration": 6,
    "start_time": "2022-05-21T15:52:52.440Z"
   },
   {
    "duration": 15,
    "start_time": "2022-05-21T15:52:52.447Z"
   },
   {
    "duration": 11,
    "start_time": "2022-05-21T15:52:52.463Z"
   },
   {
    "duration": 13,
    "start_time": "2022-05-21T15:52:52.475Z"
   },
   {
    "duration": 35,
    "start_time": "2022-05-21T15:52:52.490Z"
   },
   {
    "duration": 5,
    "start_time": "2022-05-21T16:18:20.472Z"
   },
   {
    "duration": 178,
    "start_time": "2022-05-21T16:18:20.479Z"
   },
   {
    "duration": 101,
    "start_time": "2022-05-21T16:18:20.658Z"
   },
   {
    "duration": 3,
    "start_time": "2022-05-21T16:18:20.761Z"
   },
   {
    "duration": 12,
    "start_time": "2022-05-21T16:18:20.766Z"
   },
   {
    "duration": 130,
    "start_time": "2022-05-21T16:18:20.779Z"
   },
   {
    "duration": 91,
    "start_time": "2022-05-21T16:18:20.911Z"
   },
   {
    "duration": 36,
    "start_time": "2022-05-21T16:18:21.003Z"
   },
   {
    "duration": 8,
    "start_time": "2022-05-21T16:18:21.041Z"
   },
   {
    "duration": 18,
    "start_time": "2022-05-21T16:18:21.051Z"
   },
   {
    "duration": 445,
    "start_time": "2022-05-21T16:18:21.071Z"
   },
   {
    "duration": 359,
    "start_time": "2022-05-21T16:18:21.518Z"
   },
   {
    "duration": 393,
    "start_time": "2022-05-21T16:18:21.879Z"
   },
   {
    "duration": 14,
    "start_time": "2022-05-21T16:18:22.276Z"
   },
   {
    "duration": 9,
    "start_time": "2022-05-21T16:18:22.293Z"
   },
   {
    "duration": 38,
    "start_time": "2022-05-21T16:18:22.304Z"
   },
   {
    "duration": 16,
    "start_time": "2022-05-21T16:18:22.344Z"
   },
   {
    "duration": 30,
    "start_time": "2022-05-21T16:18:22.362Z"
   },
   {
    "duration": 52,
    "start_time": "2022-05-21T16:18:22.394Z"
   },
   {
    "duration": 7,
    "start_time": "2022-05-21T16:18:22.448Z"
   },
   {
    "duration": 22,
    "start_time": "2022-05-21T16:18:22.456Z"
   },
   {
    "duration": 88,
    "start_time": "2022-05-21T16:18:22.480Z"
   },
   {
    "duration": 11,
    "start_time": "2022-05-21T16:18:22.570Z"
   },
   {
    "duration": 10,
    "start_time": "2022-05-21T16:18:22.585Z"
   },
   {
    "duration": 31,
    "start_time": "2022-05-21T16:18:22.597Z"
   },
   {
    "duration": 33,
    "start_time": "2022-05-21T16:18:22.630Z"
   },
   {
    "duration": 22,
    "start_time": "2022-05-21T16:18:22.665Z"
   },
   {
    "duration": 60,
    "start_time": "2022-05-21T16:18:22.689Z"
   },
   {
    "duration": 89,
    "start_time": "2022-05-21T16:18:22.751Z"
   },
   {
    "duration": 23,
    "start_time": "2022-05-21T16:18:22.847Z"
   },
   {
    "duration": 7,
    "start_time": "2022-05-21T16:18:22.874Z"
   },
   {
    "duration": 24,
    "start_time": "2022-05-21T16:18:22.883Z"
   },
   {
    "duration": 25,
    "start_time": "2022-05-21T16:18:22.909Z"
   },
   {
    "duration": 24,
    "start_time": "2022-05-21T16:18:22.937Z"
   },
   {
    "duration": 22,
    "start_time": "2022-05-21T16:18:22.963Z"
   },
   {
    "duration": 1223,
    "start_time": "2022-05-22T19:59:28.464Z"
   },
   {
    "duration": 172,
    "start_time": "2022-05-22T19:59:29.689Z"
   },
   {
    "duration": 132,
    "start_time": "2022-05-22T19:59:29.864Z"
   },
   {
    "duration": 4,
    "start_time": "2022-05-22T19:59:29.998Z"
   },
   {
    "duration": 28,
    "start_time": "2022-05-22T19:59:30.004Z"
   },
   {
    "duration": 138,
    "start_time": "2022-05-22T19:59:30.034Z"
   },
   {
    "duration": 119,
    "start_time": "2022-05-22T19:59:30.174Z"
   },
   {
    "duration": 21,
    "start_time": "2022-05-22T19:59:30.295Z"
   },
   {
    "duration": 11,
    "start_time": "2022-05-22T19:59:30.318Z"
   },
   {
    "duration": 35,
    "start_time": "2022-05-22T19:59:30.332Z"
   },
   {
    "duration": 455,
    "start_time": "2022-05-22T19:59:30.369Z"
   },
   {
    "duration": 367,
    "start_time": "2022-05-22T19:59:30.826Z"
   },
   {
    "duration": 627,
    "start_time": "2022-05-22T19:59:31.195Z"
   },
   {
    "duration": 18,
    "start_time": "2022-05-22T19:59:31.824Z"
   },
   {
    "duration": 33,
    "start_time": "2022-05-22T19:59:31.844Z"
   },
   {
    "duration": 21,
    "start_time": "2022-05-22T19:59:31.879Z"
   },
   {
    "duration": 11,
    "start_time": "2022-05-22T19:59:31.902Z"
   },
   {
    "duration": 57,
    "start_time": "2022-05-22T19:59:31.916Z"
   },
   {
    "duration": 35,
    "start_time": "2022-05-22T19:59:31.975Z"
   },
   {
    "duration": 12,
    "start_time": "2022-05-22T19:59:32.012Z"
   },
   {
    "duration": 66,
    "start_time": "2022-05-22T19:59:32.026Z"
   },
   {
    "duration": 99,
    "start_time": "2022-05-22T19:59:32.094Z"
   },
   {
    "duration": 11,
    "start_time": "2022-05-22T19:59:32.195Z"
   },
   {
    "duration": 160,
    "start_time": "2022-05-22T19:59:32.208Z"
   },
   {
    "duration": 7,
    "start_time": "2022-05-22T19:59:32.373Z"
   },
   {
    "duration": 16,
    "start_time": "2022-05-22T19:59:32.383Z"
   },
   {
    "duration": 7,
    "start_time": "2022-05-22T19:59:32.402Z"
   },
   {
    "duration": 171,
    "start_time": "2022-05-22T19:59:32.413Z"
   },
   {
    "duration": 108,
    "start_time": "2022-05-22T19:59:32.594Z"
   },
   {
    "duration": 17,
    "start_time": "2022-05-22T19:59:32.703Z"
   },
   {
    "duration": 6,
    "start_time": "2022-05-22T19:59:32.721Z"
   },
   {
    "duration": 18,
    "start_time": "2022-05-22T19:59:32.729Z"
   },
   {
    "duration": 16,
    "start_time": "2022-05-22T19:59:32.766Z"
   },
   {
    "duration": 15,
    "start_time": "2022-05-22T19:59:32.785Z"
   },
   {
    "duration": 19,
    "start_time": "2022-05-22T19:59:32.801Z"
   },
   {
    "duration": 5,
    "start_time": "2022-05-22T20:54:32.880Z"
   },
   {
    "duration": 152,
    "start_time": "2022-05-22T20:54:32.887Z"
   },
   {
    "duration": 89,
    "start_time": "2022-05-22T20:54:33.040Z"
   },
   {
    "duration": 3,
    "start_time": "2022-05-22T20:54:33.131Z"
   },
   {
    "duration": 23,
    "start_time": "2022-05-22T20:54:33.136Z"
   },
   {
    "duration": 110,
    "start_time": "2022-05-22T20:54:33.160Z"
   },
   {
    "duration": 75,
    "start_time": "2022-05-22T20:54:33.272Z"
   },
   {
    "duration": 16,
    "start_time": "2022-05-22T20:54:33.349Z"
   },
   {
    "duration": 6,
    "start_time": "2022-05-22T20:54:33.367Z"
   },
   {
    "duration": 14,
    "start_time": "2022-05-22T20:54:33.375Z"
   },
   {
    "duration": 403,
    "start_time": "2022-05-22T20:54:33.391Z"
   },
   {
    "duration": 338,
    "start_time": "2022-05-22T20:54:33.795Z"
   },
   {
    "duration": 309,
    "start_time": "2022-05-22T20:54:34.135Z"
   },
   {
    "duration": 13,
    "start_time": "2022-05-22T20:54:34.446Z"
   },
   {
    "duration": 7,
    "start_time": "2022-05-22T20:54:34.460Z"
   },
   {
    "duration": 10,
    "start_time": "2022-05-22T20:54:34.468Z"
   },
   {
    "duration": 10,
    "start_time": "2022-05-22T20:54:34.480Z"
   },
   {
    "duration": 45,
    "start_time": "2022-05-22T20:54:34.491Z"
   },
   {
    "duration": 19,
    "start_time": "2022-05-22T20:54:34.538Z"
   },
   {
    "duration": 5,
    "start_time": "2022-05-22T20:54:34.559Z"
   },
   {
    "duration": 27,
    "start_time": "2022-05-22T20:54:34.565Z"
   },
   {
    "duration": 68,
    "start_time": "2022-05-22T20:54:34.593Z"
   },
   {
    "duration": 8,
    "start_time": "2022-05-22T20:54:34.662Z"
   },
   {
    "duration": 8,
    "start_time": "2022-05-22T20:54:34.671Z"
   },
   {
    "duration": 8,
    "start_time": "2022-05-22T20:54:34.681Z"
   },
   {
    "duration": 13,
    "start_time": "2022-05-22T20:54:34.691Z"
   },
   {
    "duration": 23,
    "start_time": "2022-05-22T20:54:34.706Z"
   },
   {
    "duration": 32,
    "start_time": "2022-05-22T20:54:34.731Z"
   },
   {
    "duration": 83,
    "start_time": "2022-05-22T20:54:34.765Z"
   },
   {
    "duration": 17,
    "start_time": "2022-05-22T20:54:34.850Z"
   },
   {
    "duration": 10,
    "start_time": "2022-05-22T20:54:34.869Z"
   },
   {
    "duration": 15,
    "start_time": "2022-05-22T20:54:34.880Z"
   },
   {
    "duration": 10,
    "start_time": "2022-05-22T20:54:34.896Z"
   },
   {
    "duration": 25,
    "start_time": "2022-05-22T20:54:34.907Z"
   },
   {
    "duration": 8,
    "start_time": "2022-05-22T20:54:34.934Z"
   },
   {
    "duration": 6,
    "start_time": "2022-05-22T20:57:14.351Z"
   },
   {
    "duration": 9,
    "start_time": "2022-05-22T20:57:18.036Z"
   },
   {
    "duration": 72,
    "start_time": "2022-05-22T20:57:27.732Z"
   },
   {
    "duration": 21,
    "start_time": "2022-05-22T20:57:46.536Z"
   },
   {
    "duration": 9,
    "start_time": "2022-05-22T20:57:54.245Z"
   },
   {
    "duration": 11,
    "start_time": "2022-05-22T20:58:01.972Z"
   },
   {
    "duration": 10,
    "start_time": "2022-05-22T20:58:15.552Z"
   },
   {
    "duration": 11,
    "start_time": "2022-05-22T21:02:15.463Z"
   },
   {
    "duration": 10,
    "start_time": "2022-05-22T21:02:28.629Z"
   },
   {
    "duration": 57,
    "start_time": "2022-05-23T11:07:06.573Z"
   },
   {
    "duration": 1518,
    "start_time": "2022-05-23T11:07:12.328Z"
   },
   {
    "duration": 701,
    "start_time": "2022-05-23T11:07:13.848Z"
   },
   {
    "duration": 100,
    "start_time": "2022-05-23T11:07:14.551Z"
   },
   {
    "duration": 3,
    "start_time": "2022-05-23T11:07:14.652Z"
   },
   {
    "duration": 18,
    "start_time": "2022-05-23T11:07:14.657Z"
   },
   {
    "duration": 129,
    "start_time": "2022-05-23T11:07:14.677Z"
   },
   {
    "duration": 82,
    "start_time": "2022-05-23T11:07:14.807Z"
   },
   {
    "duration": 28,
    "start_time": "2022-05-23T11:07:14.891Z"
   },
   {
    "duration": 10,
    "start_time": "2022-05-23T11:07:14.921Z"
   },
   {
    "duration": 23,
    "start_time": "2022-05-23T11:07:14.934Z"
   },
   {
    "duration": 372,
    "start_time": "2022-05-23T11:07:14.959Z"
   },
   {
    "duration": 304,
    "start_time": "2022-05-23T11:07:15.332Z"
   },
   {
    "duration": 496,
    "start_time": "2022-05-23T11:07:15.638Z"
   },
   {
    "duration": 15,
    "start_time": "2022-05-23T11:07:16.136Z"
   },
   {
    "duration": 8,
    "start_time": "2022-05-23T11:07:16.153Z"
   },
   {
    "duration": 10,
    "start_time": "2022-05-23T11:07:16.162Z"
   },
   {
    "duration": 33,
    "start_time": "2022-05-23T11:07:16.173Z"
   },
   {
    "duration": 20,
    "start_time": "2022-05-23T11:07:16.207Z"
   },
   {
    "duration": 21,
    "start_time": "2022-05-23T11:07:16.228Z"
   },
   {
    "duration": 56,
    "start_time": "2022-05-23T11:07:16.250Z"
   },
   {
    "duration": 25,
    "start_time": "2022-05-23T11:07:16.307Z"
   },
   {
    "duration": 169,
    "start_time": "2022-05-23T11:07:16.333Z"
   },
   {
    "duration": 11,
    "start_time": "2022-05-23T11:07:16.504Z"
   },
   {
    "duration": 292,
    "start_time": "2022-05-23T11:07:16.517Z"
   },
   {
    "duration": 6,
    "start_time": "2022-05-23T11:07:16.811Z"
   },
   {
    "duration": 14,
    "start_time": "2022-05-23T11:07:16.818Z"
   },
   {
    "duration": 7,
    "start_time": "2022-05-23T11:07:16.834Z"
   },
   {
    "duration": 85,
    "start_time": "2022-05-23T11:07:16.845Z"
   },
   {
    "duration": 175,
    "start_time": "2022-05-23T11:07:16.931Z"
   },
   {
    "duration": 14,
    "start_time": "2022-05-23T11:07:17.108Z"
   },
   {
    "duration": 7,
    "start_time": "2022-05-23T11:07:17.123Z"
   },
   {
    "duration": 10,
    "start_time": "2022-05-23T11:07:17.131Z"
   },
   {
    "duration": 67,
    "start_time": "2022-05-23T11:07:17.142Z"
   },
   {
    "duration": 12,
    "start_time": "2022-05-23T11:07:17.210Z"
   },
   {
    "duration": 12,
    "start_time": "2022-05-23T11:07:17.224Z"
   },
   {
    "duration": 64,
    "start_time": "2022-05-23T11:07:17.238Z"
   },
   {
    "duration": 86,
    "start_time": "2022-05-23T11:08:08.909Z"
   },
   {
    "duration": 11,
    "start_time": "2022-05-23T11:08:35.994Z"
   },
   {
    "duration": 86,
    "start_time": "2022-05-23T12:40:06.031Z"
   },
   {
    "duration": 16,
    "start_time": "2022-05-23T12:40:16.007Z"
   },
   {
    "duration": 132,
    "start_time": "2022-05-23T12:40:37.864Z"
   },
   {
    "duration": 23,
    "start_time": "2022-05-23T12:40:39.048Z"
   },
   {
    "duration": 5,
    "start_time": "2022-05-23T12:40:51.611Z"
   },
   {
    "duration": 153,
    "start_time": "2022-05-23T12:40:51.627Z"
   },
   {
    "duration": 82,
    "start_time": "2022-05-23T12:40:51.782Z"
   },
   {
    "duration": 2,
    "start_time": "2022-05-23T12:40:51.866Z"
   },
   {
    "duration": 9,
    "start_time": "2022-05-23T12:40:51.870Z"
   },
   {
    "duration": 125,
    "start_time": "2022-05-23T12:40:51.881Z"
   },
   {
    "duration": 95,
    "start_time": "2022-05-23T12:40:52.007Z"
   },
   {
    "duration": 13,
    "start_time": "2022-05-23T12:40:52.104Z"
   },
   {
    "duration": 21,
    "start_time": "2022-05-23T12:40:52.118Z"
   },
   {
    "duration": 6,
    "start_time": "2022-05-23T12:40:52.141Z"
   },
   {
    "duration": 15,
    "start_time": "2022-05-23T12:40:52.149Z"
   },
   {
    "duration": 412,
    "start_time": "2022-05-23T12:40:52.165Z"
   },
   {
    "duration": 303,
    "start_time": "2022-05-23T12:40:52.578Z"
   },
   {
    "duration": 338,
    "start_time": "2022-05-23T12:40:52.882Z"
   },
   {
    "duration": 12,
    "start_time": "2022-05-23T12:40:53.222Z"
   },
   {
    "duration": 8,
    "start_time": "2022-05-23T12:40:53.235Z"
   },
   {
    "duration": 16,
    "start_time": "2022-05-23T12:40:53.244Z"
   },
   {
    "duration": 9,
    "start_time": "2022-05-23T12:40:53.262Z"
   },
   {
    "duration": 44,
    "start_time": "2022-05-23T12:40:53.273Z"
   },
   {
    "duration": 23,
    "start_time": "2022-05-23T12:40:53.319Z"
   },
   {
    "duration": 7,
    "start_time": "2022-05-23T12:40:53.343Z"
   },
   {
    "duration": 23,
    "start_time": "2022-05-23T12:40:53.351Z"
   },
   {
    "duration": 79,
    "start_time": "2022-05-23T12:40:53.375Z"
   },
   {
    "duration": 8,
    "start_time": "2022-05-23T12:40:53.456Z"
   },
   {
    "duration": 8,
    "start_time": "2022-05-23T12:40:53.466Z"
   },
   {
    "duration": 26,
    "start_time": "2022-05-23T12:40:53.476Z"
   },
   {
    "duration": 10,
    "start_time": "2022-05-23T12:40:53.504Z"
   },
   {
    "duration": 5,
    "start_time": "2022-05-23T12:40:53.516Z"
   },
   {
    "duration": 35,
    "start_time": "2022-05-23T12:40:53.524Z"
   },
   {
    "duration": 80,
    "start_time": "2022-05-23T12:40:53.560Z"
   },
   {
    "duration": 15,
    "start_time": "2022-05-23T12:40:53.642Z"
   },
   {
    "duration": 6,
    "start_time": "2022-05-23T12:40:53.658Z"
   },
   {
    "duration": 12,
    "start_time": "2022-05-23T12:40:53.665Z"
   },
   {
    "duration": 24,
    "start_time": "2022-05-23T12:40:53.678Z"
   },
   {
    "duration": 10,
    "start_time": "2022-05-23T12:40:53.703Z"
   },
   {
    "duration": 12,
    "start_time": "2022-05-23T12:40:53.715Z"
   },
   {
    "duration": 12,
    "start_time": "2022-05-23T12:40:53.729Z"
   },
   {
    "duration": 24,
    "start_time": "2022-05-23T12:43:25.026Z"
   },
   {
    "duration": 259,
    "start_time": "2022-05-23T12:43:41.407Z"
   },
   {
    "duration": 770,
    "start_time": "2022-05-23T12:44:29.949Z"
   },
   {
    "duration": 348,
    "start_time": "2022-05-23T12:46:24.141Z"
   },
   {
    "duration": 172,
    "start_time": "2022-05-23T12:46:38.140Z"
   },
   {
    "duration": 238,
    "start_time": "2022-05-23T12:47:00.719Z"
   },
   {
    "duration": 39,
    "start_time": "2022-05-23T12:47:53.312Z"
   },
   {
    "duration": 40,
    "start_time": "2022-05-23T12:50:34.097Z"
   },
   {
    "duration": 161,
    "start_time": "2022-05-23T12:50:53.424Z"
   },
   {
    "duration": 262,
    "start_time": "2022-05-23T12:51:04.328Z"
   },
   {
    "duration": 1559,
    "start_time": "2022-05-23T12:51:33.177Z"
   },
   {
    "duration": 1792,
    "start_time": "2022-05-23T12:52:35.007Z"
   },
   {
    "duration": 86,
    "start_time": "2022-05-23T12:52:45.930Z"
   },
   {
    "duration": 22,
    "start_time": "2022-05-23T12:54:18.767Z"
   },
   {
    "duration": 27,
    "start_time": "2022-05-23T12:54:47.147Z"
   },
   {
    "duration": 29,
    "start_time": "2022-05-23T12:55:09.286Z"
   },
   {
    "duration": 28,
    "start_time": "2022-05-23T12:55:20.143Z"
   },
   {
    "duration": 32,
    "start_time": "2022-05-23T12:57:59.497Z"
   },
   {
    "duration": 34,
    "start_time": "2022-05-23T12:58:50.001Z"
   },
   {
    "duration": 32,
    "start_time": "2022-05-23T12:59:20.316Z"
   },
   {
    "duration": 241,
    "start_time": "2022-05-23T13:00:06.356Z"
   },
   {
    "duration": 235,
    "start_time": "2022-05-23T13:00:45.872Z"
   },
   {
    "duration": 32,
    "start_time": "2022-05-23T13:05:25.423Z"
   },
   {
    "duration": 227,
    "start_time": "2022-05-23T13:05:26.872Z"
   },
   {
    "duration": 1470,
    "start_time": "2022-05-23T13:15:13.702Z"
   },
   {
    "duration": 32,
    "start_time": "2022-05-23T13:17:34.470Z"
   },
   {
    "duration": 31,
    "start_time": "2022-05-23T13:18:22.224Z"
   },
   {
    "duration": 24,
    "start_time": "2022-05-23T13:20:45.908Z"
   },
   {
    "duration": 11,
    "start_time": "2022-05-23T13:20:59.124Z"
   },
   {
    "duration": 1561,
    "start_time": "2022-05-23T13:21:08.694Z"
   },
   {
    "duration": 11,
    "start_time": "2022-05-23T13:22:19.557Z"
   },
   {
    "duration": 18,
    "start_time": "2022-05-23T13:22:31.173Z"
   },
   {
    "duration": 13,
    "start_time": "2022-05-23T13:23:26.545Z"
   },
   {
    "duration": 19,
    "start_time": "2022-05-23T13:23:35.505Z"
   },
   {
    "duration": 14,
    "start_time": "2022-05-23T13:24:08.413Z"
   },
   {
    "duration": 74,
    "start_time": "2022-05-23T13:39:30.287Z"
   },
   {
    "duration": 7,
    "start_time": "2022-05-23T13:39:45.926Z"
   },
   {
    "duration": 6,
    "start_time": "2022-05-23T13:40:01.664Z"
   },
   {
    "duration": 78,
    "start_time": "2022-05-23T13:40:57.442Z"
   },
   {
    "duration": 3,
    "start_time": "2022-05-23T13:41:16.230Z"
   },
   {
    "duration": 11,
    "start_time": "2022-05-23T13:41:36.105Z"
   },
   {
    "duration": 39,
    "start_time": "2022-05-23T13:41:58.090Z"
   },
   {
    "duration": 40,
    "start_time": "2022-05-23T13:42:08.814Z"
   },
   {
    "duration": 45,
    "start_time": "2022-05-23T13:42:24.751Z"
   },
   {
    "duration": 54,
    "start_time": "2022-05-23T13:42:36.619Z"
   },
   {
    "duration": 9,
    "start_time": "2022-05-23T13:42:54.288Z"
   },
   {
    "duration": 47,
    "start_time": "2022-05-23T13:44:42.547Z"
   },
   {
    "duration": 10,
    "start_time": "2022-05-23T13:44:59.381Z"
   },
   {
    "duration": 13,
    "start_time": "2022-05-23T13:45:11.337Z"
   },
   {
    "duration": 11,
    "start_time": "2022-05-23T13:45:17.882Z"
   },
   {
    "duration": 18,
    "start_time": "2022-05-23T13:45:19.910Z"
   },
   {
    "duration": 29,
    "start_time": "2022-05-23T13:46:44.189Z"
   },
   {
    "duration": 37,
    "start_time": "2022-05-23T13:48:00.901Z"
   },
   {
    "duration": 32,
    "start_time": "2022-05-23T13:48:18.664Z"
   },
   {
    "duration": 23,
    "start_time": "2022-05-23T13:48:23.542Z"
   },
   {
    "duration": 12,
    "start_time": "2022-05-23T13:48:28.940Z"
   },
   {
    "duration": 17,
    "start_time": "2022-05-23T13:52:33.026Z"
   },
   {
    "duration": 9,
    "start_time": "2022-05-23T14:54:45.965Z"
   },
   {
    "duration": 10,
    "start_time": "2022-05-23T14:54:52.067Z"
   },
   {
    "duration": 13,
    "start_time": "2022-05-23T14:55:14.132Z"
   },
   {
    "duration": 5,
    "start_time": "2022-05-23T14:56:44.073Z"
   },
   {
    "duration": 12,
    "start_time": "2022-05-23T14:56:50.586Z"
   },
   {
    "duration": 9,
    "start_time": "2022-05-23T14:57:25.861Z"
   },
   {
    "duration": 9,
    "start_time": "2022-05-23T14:57:35.427Z"
   },
   {
    "duration": 6,
    "start_time": "2022-05-23T14:57:38.594Z"
   },
   {
    "duration": 164,
    "start_time": "2022-05-23T14:57:38.602Z"
   },
   {
    "duration": 91,
    "start_time": "2022-05-23T14:57:38.769Z"
   },
   {
    "duration": 3,
    "start_time": "2022-05-23T14:57:38.863Z"
   },
   {
    "duration": 9,
    "start_time": "2022-05-23T14:57:38.869Z"
   },
   {
    "duration": 129,
    "start_time": "2022-05-23T14:57:38.880Z"
   },
   {
    "duration": 74,
    "start_time": "2022-05-23T14:57:39.011Z"
   },
   {
    "duration": 28,
    "start_time": "2022-05-23T14:57:39.087Z"
   },
   {
    "duration": 18,
    "start_time": "2022-05-23T14:57:39.117Z"
   },
   {
    "duration": 8,
    "start_time": "2022-05-23T14:57:39.136Z"
   },
   {
    "duration": 15,
    "start_time": "2022-05-23T14:57:39.147Z"
   },
   {
    "duration": 273,
    "start_time": "2022-05-23T14:57:39.163Z"
   },
   {
    "duration": 11,
    "start_time": "2022-05-23T14:57:39.437Z"
   },
   {
    "duration": 1501,
    "start_time": "2022-05-23T14:57:39.450Z"
   },
   {
    "duration": 13,
    "start_time": "2022-05-23T14:57:40.953Z"
   },
   {
    "duration": 645,
    "start_time": "2022-05-23T14:57:40.967Z"
   },
   {
    "duration": 511,
    "start_time": "2022-05-23T14:57:41.613Z"
   },
   {
    "duration": 339,
    "start_time": "2022-05-23T14:57:42.126Z"
   },
   {
    "duration": 12,
    "start_time": "2022-05-23T14:57:42.466Z"
   },
   {
    "duration": 26,
    "start_time": "2022-05-23T14:57:42.480Z"
   },
   {
    "duration": 10,
    "start_time": "2022-05-23T14:57:42.507Z"
   },
   {
    "duration": 9,
    "start_time": "2022-05-23T14:57:42.519Z"
   },
   {
    "duration": 19,
    "start_time": "2022-05-23T14:57:42.530Z"
   },
   {
    "duration": 21,
    "start_time": "2022-05-23T14:57:42.551Z"
   },
   {
    "duration": 33,
    "start_time": "2022-05-23T14:57:42.573Z"
   },
   {
    "duration": 21,
    "start_time": "2022-05-23T14:57:42.608Z"
   },
   {
    "duration": 73,
    "start_time": "2022-05-23T14:57:42.631Z"
   },
   {
    "duration": 8,
    "start_time": "2022-05-23T14:57:42.706Z"
   },
   {
    "duration": 9,
    "start_time": "2022-05-23T14:57:42.717Z"
   },
   {
    "duration": 5,
    "start_time": "2022-05-23T14:57:42.727Z"
   },
   {
    "duration": 9,
    "start_time": "2022-05-23T14:57:42.734Z"
   },
   {
    "duration": 6,
    "start_time": "2022-05-23T14:57:42.745Z"
   },
   {
    "duration": 60,
    "start_time": "2022-05-23T14:57:42.752Z"
   },
   {
    "duration": 66,
    "start_time": "2022-05-23T14:57:42.814Z"
   },
   {
    "duration": 29,
    "start_time": "2022-05-23T14:57:42.882Z"
   },
   {
    "duration": 5,
    "start_time": "2022-05-23T14:57:42.913Z"
   },
   {
    "duration": 8,
    "start_time": "2022-05-23T14:57:42.920Z"
   },
   {
    "duration": 20,
    "start_time": "2022-05-23T14:57:42.929Z"
   },
   {
    "duration": 0,
    "start_time": "2022-05-23T14:57:42.951Z"
   },
   {
    "duration": 0,
    "start_time": "2022-05-23T14:57:42.952Z"
   },
   {
    "duration": 0,
    "start_time": "2022-05-23T14:57:42.953Z"
   },
   {
    "duration": 72,
    "start_time": "2022-05-23T15:00:38.298Z"
   },
   {
    "duration": 16,
    "start_time": "2022-05-23T15:00:39.501Z"
   },
   {
    "duration": 5,
    "start_time": "2022-05-23T15:01:04.781Z"
   },
   {
    "duration": 563,
    "start_time": "2022-05-23T15:01:10.617Z"
   },
   {
    "duration": 61,
    "start_time": "2022-05-23T15:04:41.615Z"
   },
   {
    "duration": 14,
    "start_time": "2022-05-23T15:04:43.594Z"
   },
   {
    "duration": 35,
    "start_time": "2022-05-23T15:07:12.267Z"
   },
   {
    "duration": 12,
    "start_time": "2022-05-23T15:07:12.897Z"
   },
   {
    "duration": 67,
    "start_time": "2022-05-23T15:07:19.288Z"
   },
   {
    "duration": 10,
    "start_time": "2022-05-23T15:07:20.558Z"
   },
   {
    "duration": 59,
    "start_time": "2022-05-23T15:07:32.212Z"
   },
   {
    "duration": 15,
    "start_time": "2022-05-23T15:07:33.795Z"
   },
   {
    "duration": 13,
    "start_time": "2022-05-23T15:09:30.627Z"
   },
   {
    "duration": 14,
    "start_time": "2022-05-23T15:09:54.284Z"
   },
   {
    "duration": 12,
    "start_time": "2022-05-23T15:10:10.928Z"
   },
   {
    "duration": 12,
    "start_time": "2022-05-23T15:10:15.878Z"
   },
   {
    "duration": 11,
    "start_time": "2022-05-23T15:10:44.759Z"
   },
   {
    "duration": 10,
    "start_time": "2022-05-23T15:11:01.558Z"
   },
   {
    "duration": 24,
    "start_time": "2022-05-23T15:11:14.206Z"
   },
   {
    "duration": 2,
    "start_time": "2022-05-23T15:11:19.602Z"
   },
   {
    "duration": 12,
    "start_time": "2022-05-23T15:11:22.704Z"
   },
   {
    "duration": 65,
    "start_time": "2022-05-23T15:14:36.094Z"
   },
   {
    "duration": 2,
    "start_time": "2022-05-23T15:14:37.222Z"
   },
   {
    "duration": 15,
    "start_time": "2022-05-23T15:14:38.327Z"
   },
   {
    "duration": 7,
    "start_time": "2022-05-23T15:15:11.317Z"
   },
   {
    "duration": 14,
    "start_time": "2022-05-23T15:15:12.066Z"
   },
   {
    "duration": 60,
    "start_time": "2022-05-23T15:15:21.588Z"
   },
   {
    "duration": 14,
    "start_time": "2022-05-23T15:15:22.863Z"
   },
   {
    "duration": 13,
    "start_time": "2022-05-23T15:17:27.759Z"
   },
   {
    "duration": 65,
    "start_time": "2022-05-23T15:17:37.329Z"
   },
   {
    "duration": 12,
    "start_time": "2022-05-23T15:17:38.668Z"
   },
   {
    "duration": 15,
    "start_time": "2022-05-23T15:17:40.162Z"
   },
   {
    "duration": 15,
    "start_time": "2022-05-23T15:17:53.762Z"
   },
   {
    "duration": 11,
    "start_time": "2022-05-23T15:17:58.708Z"
   },
   {
    "duration": 3,
    "start_time": "2022-05-23T15:24:18.861Z"
   },
   {
    "duration": 14,
    "start_time": "2022-05-23T15:24:20.194Z"
   },
   {
    "duration": 5,
    "start_time": "2022-05-23T15:24:36.226Z"
   },
   {
    "duration": 579,
    "start_time": "2022-05-23T15:24:46.383Z"
   },
   {
    "duration": 11,
    "start_time": "2022-05-23T15:24:57.706Z"
   },
   {
    "duration": 860,
    "start_time": "2022-05-23T15:25:20.694Z"
   },
   {
    "duration": 11,
    "start_time": "2022-05-23T15:25:30.979Z"
   },
   {
    "duration": 11,
    "start_time": "2022-05-23T15:25:42.459Z"
   },
   {
    "duration": 10,
    "start_time": "2022-05-23T15:25:47.961Z"
   }
  ],
  "kernelspec": {
   "display_name": "Python 3 (ipykernel)",
   "language": "python",
   "name": "python3"
  },
  "language_info": {
   "codemirror_mode": {
    "name": "ipython",
    "version": 3
   },
   "file_extension": ".py",
   "mimetype": "text/x-python",
   "name": "python",
   "nbconvert_exporter": "python",
   "pygments_lexer": "ipython3",
   "version": "3.9.7"
  },
  "toc": {
   "base_numbering": 1,
   "nav_menu": {},
   "number_sections": false,
   "sideBar": true,
   "skip_h1_title": false,
   "title_cell": "Table of Contents",
   "title_sidebar": "Contents",
   "toc_cell": true,
   "toc_position": {
    "height": "calc(100% - 180px)",
    "left": "10px",
    "top": "150px",
    "width": "281.198px"
   },
   "toc_section_display": true,
   "toc_window_display": true
  }
 },
 "nbformat": 4,
 "nbformat_minor": 2
}
